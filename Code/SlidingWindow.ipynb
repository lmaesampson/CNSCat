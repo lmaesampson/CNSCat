{
 "cells": [
  {
   "cell_type": "code",
   "execution_count": 177,
   "metadata": {
    "collapsed": false
   },
   "outputs": [],
   "source": [
    "#Libraries for math and data manipulation\n",
    "import numpy as np\n",
    "import pandas as pd\n",
    "import math\n",
    "import numpy.random as rand\n",
    "import scipy as sp\n",
    "import sys\n",
    "from datetime import datetime\n",
    "\n",
    "#Plotting stuff\n",
    "import matplotlib.pyplot as plt\n",
    "import seaborn\n",
    "import corner\n",
    "%matplotlib inline\n",
    "from matplotlib import rc\n",
    "rc('font',**{'family':'sans-serif','sans-serif':['Helvetica']})\n",
    "rc('text', usetex=True) #Want to be able to use tex in the plot labels\n",
    "seaborn.set_style('ticks')\n",
    "seaborn.set_color_codes()\n",
    "\n",
    "#Machine learning stuff\n",
    "from sklearn import tree\n",
    "from sklearn.tree import DecisionTreeClassifier   #This is a single decision tree\n",
    "from sklearn.ensemble import ExtraTreesClassifier #Random forest of trees\n",
    "import graphviz                                   #This package lets you visualize the tree\n",
    "from sklearn.metrics import classification_report, confusion_matrix  \n",
    "from sklearn.model_selection import train_test_split"
   ]
  },
  {
   "cell_type": "code",
   "execution_count": 178,
   "metadata": {
    "collapsed": false
   },
   "outputs": [],
   "source": [
    "data_raw = pd.read_csv(\"../Data/cns_data.csv\")   #Using Pandas for data manipulation"
   ]
  },
  {
   "cell_type": "code",
   "execution_count": 179,
   "metadata": {
    "collapsed": true
   },
   "outputs": [],
   "source": [
    "#Delete useless columns (like surename, initials, etc.)\n",
    "data_df = data_raw.drop(['surnamenam','patinit','patientreg','mothinit'],axis=1)"
   ]
  },
  {
   "cell_type": "markdown",
   "metadata": {},
   "source": [
    "Here are the actual diagnoses:"
   ]
  },
  {
   "cell_type": "code",
   "execution_count": 180,
   "metadata": {
    "collapsed": false
   },
   "outputs": [
    {
     "data": {
      "text/plain": [
       "array(['malaria', '0.0', 'cereb malaria', 'virus-bacteria', 'bacteremia',\n",
       "       'bact meningitis', 'virus-other', 'virus-malaria',\n",
       "       'malaria-bacterial', 'tb', 'virus', 'crypto'], dtype=object)"
      ]
     },
     "execution_count": 180,
     "metadata": {},
     "output_type": "execute_result"
    }
   ],
   "source": [
    "data_df.diag.unique()"
   ]
  },
  {
   "cell_type": "code",
   "execution_count": 181,
   "metadata": {
    "collapsed": true
   },
   "outputs": [],
   "source": [
    "#Split up 'incdate' into month, day, and year. Monthday is meant to capture seasonality.\n",
    "data_df['month'] = pd.DatetimeIndex(data_df['incdate']).month\n",
    "data_df['day'] = pd.DatetimeIndex(data_df['incdate']).day\n",
    "data_df['year'] = pd.DatetimeIndex(data_df['incdate']).year\n",
    "data_df['monthday'] = data_df['month']*30+data_df['day']"
   ]
  },
  {
   "cell_type": "code",
   "execution_count": 182,
   "metadata": {
    "collapsed": false
   },
   "outputs": [
    {
     "data": {
      "text/plain": [
       "array(['malaria', '0.0', 'virus-bacteria', 'bacteremia',\n",
       "       'bact meningitis', 'virus-other', 'virus-malaria',\n",
       "       'malaria-bacterial', 'tb', 'virus', 'crypto'], dtype=object)"
      ]
     },
     "execution_count": 182,
     "metadata": {},
     "output_type": "execute_result"
    }
   ],
   "source": [
    "data_df.labdiag.unique()"
   ]
  },
  {
   "cell_type": "code",
   "execution_count": 183,
   "metadata": {
    "collapsed": false
   },
   "outputs": [
    {
     "name": "stdout",
     "output_type": "stream",
     "text": [
      "2012: 121 2011: 167 2010: 143 2009: 49\n"
     ]
    }
   ],
   "source": [
    "data_df2012 = data_df.loc[data_df['year']==2012]\n",
    "data_df2011 = data_df.loc[data_df['year']==2011]\n",
    "data_df2010 = data_df.loc[data_df['year']==2010]\n",
    "data_df2009 = data_df.loc[data_df['year']==2009]\n",
    "\n",
    "print '2012:',len(data_df2012),'2011:', len(data_df2011), '2010:',len(data_df2010), '2009:', len(data_df2009)"
   ]
  },
  {
   "cell_type": "code",
   "execution_count": 184,
   "metadata": {
    "collapsed": false
   },
   "outputs": [],
   "source": [
    "#Select input features\n",
    "#6-8 adding inclusion criteria and rdttest MLW\n",
    "clin_df = data_df.loc[:,['glasgtot','blanttot','clinjaund','clinhepato','clinspleno','clinconv','clindehyd',\\\n",
    "                          'clinoedem','clinlymph','clinresp','clinablung','clincyan','clincapref','clincoldext',\\\n",
    "                         'clinearinf','clinanemia','clinorcand','clinhemmor','clinaids',\\\n",
    "                         'abdpain','vom','diar','head','muscle','conv',\\\n",
    "                         'sex','ageyrs','agemth','incdate',\\\n",
    "                         'temp','card','resp','sbp','dbp','weight','height','muac',\\\n",
    "                          'mhhosp', 'mhdevsp', 'mhsickle', 'mhchronstat',\\\n",
    "                         'monthday','dimain', \\\n",
    "                         'incirrit', 'inchead', 'incphoto',\\\n",
    "                         'incfont', 'incneuro' , 'incseiza', 'incseizh','incpurp',\\\n",
    "                         'malaria', #is malaria confirmed? I'm assuming this is the rapid diagnostic but idk\n",
    "                          'diag']] #This is the final diagnosis - will be the 'label'"
   ]
  },
  {
   "cell_type": "code",
   "execution_count": 185,
   "metadata": {
    "collapsed": true
   },
   "outputs": [],
   "source": [
    "#Convert the date into a useful value. This just counts the days from the beginning of the dataset \n",
    "clin_df['incdate'] = pd.to_datetime(clin_df['incdate'])\n",
    "clin_df['date'] = (clin_df['incdate'] - clin_df['incdate'].min())  / np.timedelta64(1,'D')\n",
    "\n",
    "#Mapping yes/no to 1/0\n",
    "clin_df['clinjaund'] = clin_df.clinjaund.map({'Yes': 1, 'No': 0})\n",
    "clin_df['clinhepato'] = clin_df.clinhepato.map({'Yes': 1, 'No': 0})\n",
    "clin_df['clinspleno'] = clin_df.clinspleno.map({'Yes': 1, 'No': 0})\n",
    "clin_df['clinconv'] = clin_df.clinconv.map({'Yes': 1, 'No': 0})\n",
    "clin_df['clindehyd'] = clin_df.clindehyd.map({'Yes': 1, 'No': 0})\n",
    "clin_df['clinoedem'] = clin_df.clinoedem.map({'Yes': 1, 'No': 0})\n",
    "clin_df['clinlymph'] = clin_df.clinlymph.map({'Yes': 1, 'No': 0})\n",
    "clin_df['clinresp'] = clin_df.clinresp.map({'Yes': 1, 'No': 0})\n",
    "clin_df['clinablung'] = clin_df.clinablung.map({'Yes': 1, 'No': 0})\n",
    "clin_df['clincyan'] = clin_df.clincyan.map({'Yes': 1, 'No': 0})\n",
    "clin_df['clincapref'] = clin_df.clincapref.map({'Yes': 1, 'No': 0})\n",
    "clin_df['clincoldext'] = clin_df.clincoldext.map({'Yes': 1, 'No': 0})\n",
    "#clin_df['clinearinf'] = clin_df.clinearinf.map({'Yes': 1, 'No': 0})\n",
    "#clin_df['clintonsil'] = clin_df.clintonsil.map({'Yes': 1, 'No': 0})\n",
    "clin_df['clinorcand'] = clin_df.clinorcand.map({'Yes': 1, 'No': 0})\n",
    "clin_df['clinhemmor'] = clin_df.clinhemmor.map({'Yes': 1, 'No': 0})\n",
    "clin_df['clinaids'] = clin_df.clinaids.map({'Yes': 1, 'No': 0})\n",
    "clin_df['vom'] = clin_df.vom.map({'Yes': 1, 'No': 0})\n",
    "clin_df['diar'] = clin_df.diar.map({'Yes': 1, 'No': 0})\n",
    "clin_df['headache'] = clin_df['head'] #Since 'head' is a function\n",
    "clin_df['conv'] = clin_df.conv.map({'Yes': 1, 'No': 0})\n",
    "clin_df['ageym'] = clin_df.ageyrs.astype(float)*12.\n",
    "clin_df.agemth = clin_df.agemth.astype(float)\n",
    "clin_df['age'] = clin_df.ageym + clin_df.agemth #total age in months\n",
    "\n",
    "\n",
    "#Medical history variables\n",
    "clin_df['mhhosp'] = clin_df.mhhosp.map({'Yes': 1, 'No':0})\n",
    "\n",
    "\n",
    "#some slightly more compliated mappings\n",
    "clin_df['abdpain'] = clin_df.abdpain.map({\"Don't know\":0, 'No':0, 'Yes':1, 'Not applicable':np.nan})\n",
    "clin_df['headache'] = clin_df.headache.map({\"Don't know\":0, 'No':0, 'Yes':1, 'Not applicable':0})\n",
    "clin_df['muscle'] = clin_df.muscle.map({\"Don't know\":0, 'No':0, 'Yes':1, 'Not applicable':np.nan})\n",
    "\n",
    "clin_df['dimain'] = clin_df.dimain.map({\"Cerebral Malaria\":0, \"Meningoencephalitis\":1, \"Meningitis\":2.,\\\n",
    "                                       \"Other\":3})\n",
    "\n",
    "clin_df['mhdevsp'] = clin_df.mhdevsp.map({'OTHER':1, 'GLOBAL DEVELOPMENTAL DELAY':1, 'HYDROCEPHALUS':1,\n",
    "       'HEARING LOSSES':1, 'MOTOR DEVELOPEMENTAL DELAY':1,\n",
    "       'SPEECH DEVELOPEMENTAL DELAY':1})\n",
    "\n",
    "#Mapping of inclusion variables 6-8 MLW\n",
    "clin_df['incirrit'] = clin_df.incirrit.map({\"Don't know\":0, 'No':0, 'Yes':1, 'Not applicable':0})\n",
    "clin_df['inchead'] = clin_df.inchead.map({\"Don't know\":0, 'No':0, 'Yes':1, 'Not applicable':0})\n",
    "clin_df['incphoto'] = clin_df.incphoto.map({\"Don't know\":0, 'No':0, 'Yes':1, 'Not applicable':0})\n",
    "clin_df['incfont'] = clin_df.incfont.map({\"Don't know\":0, 'No':0, 'Yes':1, 'Not applicable':0})\n",
    "clin_df['incneuro'] = clin_df.incneuro.map({\"Don't know\":0, 'No':0, 'Yes':1, 'Not applicable':0})\n",
    "clin_df['incseiza'] = clin_df.incseiza.map({\"Don't know\":0, 'No':0, 'Yes':1, 'Not applicable':0})\n",
    "clin_df['incseizh'] = clin_df.incseizh.map({\"Don't know\":0, 'No':0, 'Yes':1, 'Not applicable':0})\n",
    "clin_df['incpurp'] = clin_df.incpurp.map({\"Don't know\":0, 'No':0, 'Yes':1, 'Not applicable':0})\n",
    "\n",
    "#Malaria diagnositc\n",
    "clin_df['malaria'] = clin_df.malaria.map({'confirmed':2,'probable':1,'no':0})\n",
    "\n",
    "\n",
    "#This coding is going to be important. You'll want to figure out which categories are useful, and which\n",
    "#are practical.\n",
    "clin_df['diag'] = clin_df.diag.map({'malaria':0, 'cereb malaria':0,'virus-malaria':0,\\\n",
    "                                    'virus-bacteria':1, 'bacteremia':1,'bact meningitis':1,\\\n",
    "                                    'virus-other':2,'virus':2,'malaria-bacterial':3,\\\n",
    "                                    'tb':3,'crypto':2, '0.0':4})"
   ]
  },
  {
   "cell_type": "code",
   "execution_count": 186,
   "metadata": {
    "collapsed": true
   },
   "outputs": [],
   "source": [
    "#A lot of these have very few actual answers. i.e., 'headache.' What happens if you map 'nan' to 'No'?\n",
    "#This is probably something we'll want to play around with.\n",
    "values = {'clinjaund':0,'clinhepato':0,'clinaids':0,'clinhemmor':0,'clinorcand':0,\\\n",
    "          'clinresp':0,'clinlymph':0,'clindehyd':0,'clinoedem':0,'clinablung':0,'clincyan':0,'clincapref':0,\n",
    "          'clincoldext':0, 'mhchronstat':0, 'mhdevsp':0,\\\n",
    "         'conv':0,'abdpain':0,'vom':0,'diar':0,'headache':0,'muscle':0}\n",
    "clin_df = clin_df.fillna(value=values)"
   ]
  },
  {
   "cell_type": "code",
   "execution_count": 187,
   "metadata": {
    "collapsed": false
   },
   "outputs": [
    {
     "name": "stdout",
     "output_type": "stream",
     "text": [
      "[0. 1. 2. 3.]\n"
     ]
    }
   ],
   "source": [
    "#You really shouldn't use the initial diagnosis as a continuous variable ,\n",
    "#you need to map it into a set of yes/no question.\n",
    "clin_df['CMalaria'] = clin_df.dimain.map({0:1,1:0,2:0,3:0})\n",
    "clin_df['Enceph'] = clin_df.dimain.map({0:0,1:1,2:0,3:0})\n",
    "clin_df['Mening'] = clin_df.dimain.map({0:0,1:0,2:1,3:0})\n",
    "clin_df['Other'] = clin_df.dimain.map({0:0,1:0,2:0,3:1})\n",
    "\n",
    "print(clin_df.dimain.unique())"
   ]
  },
  {
   "cell_type": "code",
   "execution_count": 188,
   "metadata": {
    "collapsed": true
   },
   "outputs": [],
   "source": [
    "#Pick the features to classify with.\n",
    "Xlabels = ['CMalaria','Enceph','Mening','Other',\\\n",
    "                      'headache','age','temp','date',\\\n",
    "                      'clinjaund','clinhepato','clinaids','clinhemmor','clinorcand',\\\n",
    "                      'clinresp','clinlymph','clindehyd','clinoedem','clinablung','clincyan','clincapref',\\\n",
    "                      'glasgtot', 'dbp', 'sbp','resp','card','weight','height','muac',\\\n",
    "                      'mhhosp','mhchronstat', 'mhdevsp',\\\n",
    "                      'conv','abdpain','vom','diar','muscle','monthday',\\\n",
    "                      'incirrit', 'inchead', 'incphoto',\\\n",
    "                      'incfont', 'incneuro' , 'incseiza', 'incseizh',\\\n",
    "                      'incpurp','malaria'] #This is just for plotting.\n",
    "X_pd = clin_df.loc[:,['CMalaria','Enceph','Mening','Other',\\\n",
    "                      'headache','age','temp','date',\\\n",
    "                      'clinjaund','clinhepato','clinaids','clinhemmor','clinorcand',\\\n",
    "                      'clinresp','clinlymph','clindehyd','clinoedem','clinablung','clincyan','clincapref',\\\n",
    "                      'glasgtot', 'dbp', 'sbp','resp','card','weight','height','muac',\\\n",
    "                      'mhhosp','mhchronstat', 'mhdevsp',\\\n",
    "                      'conv','abdpain','vom','diar','muscle','monthday',\\\n",
    "                       'incirrit', 'inchead', 'incphoto',\\\n",
    "                      'incfont', 'incneuro' , 'incseiza', 'incseizh','incpurp',\\\n",
    "                      'malaria',\n",
    "                      'diag']]\n",
    "X_pd = X_pd.dropna()  #Drop cases that have nan for *any* entry"
   ]
  },
  {
   "cell_type": "code",
   "execution_count": 189,
   "metadata": {
    "collapsed": false
   },
   "outputs": [
    {
     "name": "stdout",
     "output_type": "stream",
     "text": [
      "361\n"
     ]
    }
   ],
   "source": [
    "#Get things into the correct format for scikit-learn. I've tried to use the convention throughout that variables\n",
    "#ending in 'pd' are pandas dataframes.\n",
    "Input = X_pd.as_matrix()        #creates a numpy array\n",
    "Features = Input[:,0:-1].copy() #separate the features and labels\n",
    "Labels = Input[:,-1].copy()\n",
    "ncase = len(Input[:,0])\n",
    "print(ncase)                     #checking that there are a reasonable number of cases left"
   ]
  },
  {
   "cell_type": "code",
   "execution_count": 190,
   "metadata": {
    "collapsed": true
   },
   "outputs": [],
   "source": [
    "X = Features.copy()  #changing to X and y. For no real reason\n",
    "y = Labels.copy()"
   ]
  },
  {
   "cell_type": "code",
   "execution_count": 191,
   "metadata": {
    "collapsed": false
   },
   "outputs": [
    {
     "name": "stdout",
     "output_type": "stream",
     "text": [
      "(361, 46)\n"
     ]
    }
   ],
   "source": [
    "#skl will split the data into training and test for you. Right now, I'm training on 2/3 of the data.\n",
    "X_train, X_test, y_train, y_test = train_test_split(X, y, test_size=0.2, random_state=True)\n",
    "print(np.shape(X))"
   ]
  },
  {
   "cell_type": "code",
   "execution_count": 192,
   "metadata": {
    "collapsed": true
   },
   "outputs": [],
   "source": [
    "#Actual classifier. This is doing n_estimators trees, up to max_depth cuts. Something to play with.\n",
    "forest = ExtraTreesClassifier(n_estimators=20,\n",
    "                              random_state=0,max_depth=50 )\n",
    "\n",
    "#Fit the classifier.\n",
    "forest.fit(X_train, y_train)\n",
    "\n",
    "#extract the 'importances' of the features\n",
    "importances = forest.feature_importances_\n",
    "#calculate standard deviation\n",
    "std = np.std([tree.feature_importances_ for tree in forest.estimators_],\n",
    "             axis=0)\n",
    "indices = np.argsort(importances)[::-1]"
   ]
  },
  {
   "cell_type": "code",
   "execution_count": 193,
   "metadata": {
    "collapsed": false
   },
   "outputs": [
    {
     "name": "stdout",
     "output_type": "stream",
     "text": [
      "Feature ranking:\n",
      "1. feature 45 (0.316850)\n",
      "2. feature 0 (0.052105)\n",
      "3. feature 2 (0.051241)\n",
      "4. feature 20 (0.038258)\n",
      "5. feature 5 (0.030489)\n",
      "6. feature 1 (0.028418)\n",
      "7. feature 24 (0.026519)\n",
      "8. feature 27 (0.026117)\n",
      "9. feature 7 (0.023277)\n",
      "10. feature 6 (0.022733)\n"
     ]
    },
    {
     "data": {
      "image/png": "[encoded data removed]",
      "text/plain": [
       "<matplotlib.figure.Figure at 0x1101cfb50>"
      ]
     },
     "metadata": {},
     "output_type": "display_data"
    }
   ],
   "source": [
    "# Print the feature ranking\n",
    "Xlabels = np.array(Xlabels)\n",
    "PlotLabels = Xlabels[indices]\n",
    "print(\"Feature ranking:\")\n",
    "#for full feature listing use this as the range: X.shape[1]\n",
    "for f in range(10):\n",
    "    print(\"%d. feature %d (%f)\" % (f + 1, indices[f], importances[indices[f]]))\n",
    "\n",
    "# Plot the feature importances of the forest\n",
    "plt.figure(figsize=(15,10))\n",
    "plt.title(\"Feature importances\")\n",
    "plt.bar(range(X.shape[1]), importances[indices],\n",
    "       color=\"r\", yerr=std[indices], align=\"center\")\n",
    "plt.xticks(range(X.shape[1]), PlotLabels, rotation='vertical',fontsize=15)\n",
    "plt.xlim([-1, X.shape[1]])\n",
    "plt.ylim(0,0.15)\n",
    "plt.show()"
   ]
  },
  {
   "cell_type": "code",
   "execution_count": 194,
   "metadata": {
    "collapsed": true
   },
   "outputs": [],
   "source": [
    "#Make the predictions on the test data\n",
    "y_pred_prob = forest.predict_proba(X_test)\n",
    "y_pred = forest.predict(X_test)"
   ]
  },
  {
   "cell_type": "code",
   "execution_count": 195,
   "metadata": {
    "collapsed": false
   },
   "outputs": [
    {
     "name": "stdout",
     "output_type": "stream",
     "text": [
      "[[24  0  0  0  2]\n",
      " [ 0  4  0  0  8]\n",
      " [ 0  0  0  0  3]\n",
      " [ 0  0  0  0  1]\n",
      " [ 0  4  0  0 27]]\n",
      "             precision    recall  f1-score   support\n",
      "\n",
      "        0.0       1.00      0.92      0.96        26\n",
      "        1.0       0.50      0.33      0.40        12\n",
      "        2.0       0.00      0.00      0.00         3\n",
      "        3.0       0.00      0.00      0.00         1\n",
      "        4.0       0.66      0.87      0.75        31\n",
      "\n",
      "avg / total       0.72      0.75      0.73        73\n",
      "\n"
     ]
    }
   ],
   "source": [
    "#Print the confusion matrix:\n",
    "print(confusion_matrix(y_test,y_pred))\n",
    "print(classification_report(y_test,y_pred))"
   ]
  },
  {
   "cell_type": "code",
   "execution_count": 196,
   "metadata": {
    "collapsed": true
   },
   "outputs": [],
   "source": [
    "#Because this is a random forest, the output is actually a probability of being in each class. So this is looking\n",
    "#at the maximum probability for each test case - it gives us a sense of how confident the classifier is in each\n",
    "#\n",
    "probmax = np.amax(y_pred_prob,axis=1)\n",
    "edges = np.linspace(0,1,101)"
   ]
  },
  {
   "cell_type": "code",
   "execution_count": 197,
   "metadata": {
    "collapsed": false
   },
   "outputs": [
    {
     "data": {
      "image/png": "[encoded data removed]",
      "text/plain": [
       "<matplotlib.figure.Figure at 0x113e1d110>"
      ]
     },
     "metadata": {},
     "output_type": "display_data"
    }
   ],
   "source": [
    "a,b,c = plt.hist(probmax,bins=edges)"
   ]
  },
  {
   "cell_type": "code",
   "execution_count": 326,
   "metadata": {
    "collapsed": false
   },
   "outputs": [],
   "source": [
    "def datamap(df,params):\n",
    "    #Adjust some things that are always included and may need to be used:\n",
    "    df['dimain'] = df.dimain.map({\"Cerebral Malaria\":0, \"Meningoencephalitis\":1, \"Meningitis\":2.,\\\n",
    "                                                   \"Other\":3})\n",
    "    df['incdate'] = pd.to_datetime(df['incdate'])\n",
    "    df['date'] = (df['incdate'] - df['incdate'].min())  / np.timedelta64(1,'D')\n",
    "    for label in params:\n",
    "        #Mapping yes/no to 1/0\n",
    "        if label=='clinjaund':\n",
    "            df[label] = df.clinjaund.map({'Yes': 1, 'No': 0})\n",
    "        if label=='clinhepato':\n",
    "            df[label] = df.clinhepato.map({'Yes': 1, 'No': 0})\n",
    "        if label=='clinspleno':\n",
    "            df[label] = df.clinspleno.map({'Yes': 1, 'No': 0})\n",
    "        if label=='clinconv':\n",
    "            df['clinconv'] = df.clinconv.map({'Yes': 1, 'No': 0})\n",
    "        if label=='clindehyd':\n",
    "            df['clindehyd'] = df.clindehyd.map({'Yes': 1, 'No': 0})\n",
    "        if label=='clinnoedem':\n",
    "            df['clinoedem'] = df.clinoedem.map({'Yes': 1, 'No': 0})\n",
    "        if label=='clinlymph':\n",
    "            df['clinlymph'] = df.clinlymph.map({'Yes': 1, 'No': 0})\n",
    "        if label=='clinresp':\n",
    "            df['clinresp'] = df.clinresp.map({'Yes': 1, 'No': 0})\n",
    "        if label=='clinablung':    \n",
    "            df['clinablung'] = df.clinablung.map({'Yes': 1, 'No': 0})\n",
    "        if label=='clincyan':\n",
    "            df['clincyan'] = df.clincyan.map({'Yes': 1, 'No': 0})\n",
    "        if label=='clincapref':\n",
    "            df['clincapref'] = df.clincapref.map({'Yes': 1, 'No': 0})\n",
    "        if label=='clincoldext':\n",
    "            df['clincoldext'] = df.clincoldext.map({'Yes': 1, 'No': 0})\n",
    "        if label=='clinorcand':\n",
    "            df['clinorcand'] = df.clinorcand.map({'Yes': 1, 'No': 0})\n",
    "        if label=='clinhemmor':\n",
    "            df['clinhemmor'] = df.clinhemmor.map({'Yes': 1, 'No': 0})\n",
    "        if label=='clinaids':\n",
    "            df['clinaids'] = df.clinaids.map({'Yes': 1, 'No': 0})\n",
    "        if label=='vom':\n",
    "            df['vom'] = df.vom.map({'Yes': 1, 'No': 0})\n",
    "        if label=='diar':\n",
    "            df['diar'] = df.diar.map({'Yes': 1, 'No': 0})\n",
    "        if label=='headache':\n",
    "            df['headache'] = df['head'] #Since 'head' is a function\n",
    "            df['headache'] = df.headache.map({\"Don't know\":0, 'No':0, 'Yes':1, 'Not applicable':0})\n",
    "        if label=='conv':\n",
    "            df['conv'] = df.conv.map({'Yes': 1, 'No': 0})\n",
    "        if label=='age':\n",
    "            df['ageym'] = df.ageyrs.astype(float)*12.\n",
    "            df['agemth'] = df.agemth.astype(float)\n",
    "            df['age'] = df.ageym + df.agemth #total age in months\n",
    "\n",
    "        #Medical history variables\n",
    "        if label=='mhhosp':\n",
    "            df['mhhosp'] = df.mhhosp.map({'Yes': 1, 'No':0})\n",
    "\n",
    "        #some slightly more compliated mappings\n",
    "        if label=='abdpain':\n",
    "            df['abdpain'] = df.abdpain.map({\"Don't know\":0, 'No':0, 'Yes':1, 'Not applicable':np.nan})\n",
    "        if label=='muscle':\n",
    "            df['muscle'] = df.muscle.map({\"Don't know\":0, 'No':0, 'Yes':1, 'Not applicable':np.nan})\n",
    "        if label=='mhdevsp':\n",
    "            df['mhdevsp'] = df.mhdevsp.map({'OTHER':1, 'GLOBAL DEVELOPMENTAL DELAY':1, 'HYDROCEPHALUS':1,\n",
    "                   'HEARING LOSSES':1, 'MOTOR DEVELOPEMENTAL DELAY':1,\n",
    "                   'SPEECH DEVELOPEMENTAL DELAY':1})\n",
    "\n",
    "        #Mapping of inclusion variables 6-8 MLW\n",
    "        if label=='incirrit':\n",
    "            df['incirrit'] = df.incirrit.map({\"Don't know\":0, 'No':0, 'Yes':1, 'Not applicable':0})\n",
    "        if label=='inchead':\n",
    "            df['inchead'] = df.inchead.map({\"Don't know\":0, 'No':0, 'Yes':1, 'Not applicable':0})\n",
    "        if label=='incphoto':\n",
    "            df['incphoto'] = df.incphoto.map({\"Don't know\":0, 'No':0, 'Yes':1, 'Not applicable':0})\n",
    "        if label=='incfont':\n",
    "            df['incfont'] = df.incfont.map({\"Don't know\":0, 'No':0, 'Yes':1, 'Not applicable':0})\n",
    "        if label=='incneuro':\n",
    "            df['incneuro'] = df.incneuro.map({\"Don't know\":0, 'No':0, 'Yes':1, 'Not applicable':0})\n",
    "        if label=='incseiza':\n",
    "            df['incseiza'] = df.incseiza.map({\"Don't know\":0, 'No':0, 'Yes':1, 'Not applicable':0})\n",
    "        if label=='incseizh':\n",
    "            df['incseizh'] = df.incseizh.map({\"Don't know\":0, 'No':0, 'Yes':1, 'Not applicable':0})\n",
    "        if label=='incpurp':\n",
    "            df['incpurp'] = df.incpurp.map({\"Don't know\":0, 'No':0, 'Yes':1, 'Not applicable':0})\n",
    "\n",
    "        #Malaria diagnostic\n",
    "        if label=='malaria':\n",
    "            df['malaria'] = df.malaria.map({'confirmed':2,'probable':1,'no':0})\n",
    "        \n",
    "        #Initial diagnosis coding:\n",
    "        if label=='CMalaria':\n",
    "            df['CMalaria'] = df.dimain.map({0:1,1:0,2:0,3:0})\n",
    "        if label=='Enceph':\n",
    "            df['Enceph'] = df.dimain.map({0:0,1:1,2:0,3:0})\n",
    "        if label=='Mening':\n",
    "            df['Mening'] = df.dimain.map({0:0,1:0,2:1,3:0})\n",
    "        if label=='Other':\n",
    "            df['Other'] = df.dimain.map({0:0,1:0,2:0,3:1})\n",
    "\n",
    "\n",
    "        #This coding is going to be important. You'll want to figure out which categories are useful, and which\n",
    "        #are practical.\n",
    "        if label=='diag':\n",
    "            df['diag'] = df.diag.map({'malaria':0, 'cereb malaria':0,'virus-malaria':0,\\\n",
    "                                                'virus-bacteria':1, 'bacteremia':1,'bact meningitis':1,\\\n",
    "                                                'virus-other':2,'virus':2,'malaria-bacterial':3,\\\n",
    "                                                'tb':3,'crypto':2, '0.0':4})\n"
   ]
  },
  {
   "cell_type": "code",
   "execution_count": 354,
   "metadata": {
    "collapsed": false
   },
   "outputs": [
    {
     "name": "stdout",
     "output_type": "stream",
     "text": [
      "['malaria' 'CMalaria' 'Mening' 'glasgtot' 'age' 'Enceph' 'card' 'muac'\n",
      " 'date' 'temp' 'weight' 'monthday' 'sbp' 'dbp' 'resp' 'height']\n",
      "['malaria' 'CMalaria' 'Mening' 'age' 'Enceph' 'card' 'muac' 'date' 'temp'\n",
      " 'weight' 'monthday' 'sbp' 'dbp' 'resp' 'height' 'agemth' 'ageyrs'\n",
      " 'incdate' 'dimain' 'diag']\n"
     ]
    }
   ],
   "source": [
    "Top20 = PlotLabels[:16]\n",
    "print Top20\n",
    "Top20 = ['malaria', 'CMalaria', 'Mening', 'age', 'Enceph', 'card', 'muac',\n",
    " 'date', 'temp', 'weight', 'monthday', 'sbp', 'dbp', 'resp','height']\n",
    "formapping = ['agemth','ageyrs','incdate','dimain']\n",
    "TopPlus = np.append(Top20,[formapping])\n",
    "TopPlus = np.append(TopPlus,['diag'])\n",
    "print TopPlus"
   ]
  },
  {
   "cell_type": "code",
   "execution_count": 359,
   "metadata": {
    "collapsed": false
   },
   "outputs": [],
   "source": [
    "clin_df2012 = data_df2012.loc[:,TopPlus[:]] \n",
    "clin_df2011 = data_df2011.loc[:,TopPlus] \n",
    "clin_df2010 = data_df2010.loc[:,TopPlus]\n",
    "clin_df2009 = data_df2009.loc[:,TopPlus]\n",
    "\n",
    "datamap(clin_df2009,TopPlus)\n",
    "datamap(clin_df2010,TopPlus)\n",
    "datamap(clin_df2011,TopPlus)\n",
    "datamap(clin_df2012,TopPlus)"
   ]
  },
  {
   "cell_type": "code",
   "execution_count": 405,
   "metadata": {
    "collapsed": true
   },
   "outputs": [],
   "source": [
    "Xlabels = np.append(Top20,['diag']) #This is just for plotting.\n",
    "X_pd = clin_df.loc[:,np.append(Top20,['diag'])]\n",
    "X_pd = X_pd.dropna()  #Drop cases that have nan for *any* entry"
   ]
  },
  {
   "cell_type": "code",
   "execution_count": 403,
   "metadata": {
    "collapsed": false
   },
   "outputs": [
    {
     "name": "stdout",
     "output_type": "stream",
     "text": [
      "32\n",
      "(32, 15)\n",
      "[[3 0]\n",
      " [0 4]]\n",
      "             precision    recall  f1-score   support\n",
      "\n",
      "        0.0       1.00      1.00      1.00         3\n",
      "        4.0       1.00      1.00      1.00         4\n",
      "\n",
      "avg / total       1.00      1.00      1.00         7\n",
      "\n"
     ]
    }
   ],
   "source": [
    "Input = X_pd.as_matrix()        #creates a numpy array\n",
    "Features = Input[:,0:-1].copy() #separate the features and labels\n",
    "Labels = Input[:,-1].copy()\n",
    "ncase = len(Input[:,0])\n",
    "print(ncase)          \n",
    "X = Features.copy()  #changing to X and y. For no real reason\n",
    "y = Labels.copy()\n",
    "#skl will split the data into training and test for you. Right now, I'm training on 2/3 of the data.\n",
    "X_train, X_test, y_train, y_test = train_test_split(X, y, test_size=0.2, random_state=True)\n",
    "print(np.shape(X))\n",
    "#Actual classifier. This is doing n_estimators trees, up to max_depth cuts. Something to play with.\n",
    "forest = ExtraTreesClassifier(n_estimators=20,\n",
    "                              random_state=0,max_depth=50 )\n",
    "\n",
    "#Fit the classifier.\n",
    "forest.fit(X_train, y_train)\n",
    "\n",
    "#extract the 'importances' of the features\n",
    "importances = forest.feature_importances_\n",
    "#calculate standard deviation\n",
    "std = np.std([tree.feature_importances_ for tree in forest.estimators_],\n",
    "             axis=0)\n",
    "indices = np.argsort(importances)[::-1]\n",
    "#Make the predictions on the test data\n",
    "y_pred_prob = forest.predict_proba(X_test)\n",
    "y_pred = forest.predict(X_test)\n",
    "#Print the confusion matrix:\n",
    "print(confusion_matrix(y_test,y_pred))\n",
    "print(classification_report(y_test,y_pred))"
   ]
  },
  {
   "cell_type": "code",
   "execution_count": 400,
   "metadata": {
    "collapsed": false
   },
   "outputs": [],
   "source": [
    "indices = indices.astype(int)\n",
    "topindex = indices[0:10]"
   ]
  },
  {
   "cell_type": "code",
   "execution_count": 401,
   "metadata": {
    "collapsed": false
   },
   "outputs": [
    {
     "name": "stdout",
     "output_type": "stream",
     "text": [
      "malaria\n",
      "age\n",
      "CMalaria\n",
      "height\n",
      "sbp\n",
      "card\n",
      "muac\n",
      "resp\n",
      "Mening\n",
      "date\n"
     ]
    }
   ],
   "source": [
    "for i in topindex:\n",
    "    print Top20[i]"
   ]
  },
  {
   "cell_type": "code",
   "execution_count": 591,
   "metadata": {
    "collapsed": false
   },
   "outputs": [],
   "source": [
    "#Now, what happens when you use the N-nearest cases for prediction?\n",
    "N = 9\n",
    "Ntot = len(X_pd)\n",
    "Input = X_pd.as_matrix()        #creates a numpy array\n",
    "Features = Input[:,0:-1].copy() #separate the features and labels\n",
    "Labels = Input[:,-1].copy()\n",
    "cases = np.linspace(N,Ntot-1,Ntot-N)\n",
    "cases = cases.astype(int)\n",
    "output = [[0.,0.]]\n",
    "\n",
    "for a in cases:\n",
    "    X_train = Features[a-N:a,:]\n",
    "    X_test = Features[a,:]\n",
    "    y_train = Labels[a-N:a]\n",
    "    y_test = Labels[a]\n",
    "    forest.fit(X_train, y_train)\n",
    "    y_pred = forest.predict(X_test.reshape(1,-1))\n",
    "    output.append([y_test,y_pred[0]])"
   ]
  },
  {
   "cell_type": "code",
   "execution_count": 592,
   "metadata": {
    "collapsed": false
   },
   "outputs": [
    {
     "name": "stdout",
     "output_type": "stream",
     "text": [
      "387\n"
     ]
    }
   ],
   "source": [
    "print len(output)"
   ]
  },
  {
   "cell_type": "code",
   "execution_count": 593,
   "metadata": {
    "collapsed": false
   },
   "outputs": [],
   "source": [
    "output = np.array(output)\n",
    "output = output.flatten()\n",
    "output = np.reshape(output,[Ntot-N+1,2])"
   ]
  },
  {
   "cell_type": "code",
   "execution_count": 594,
   "metadata": {
    "collapsed": false
   },
   "outputs": [
    {
     "name": "stdout",
     "output_type": "stream",
     "text": [
      "[[118   4   0   3  12]\n",
      " [  1  17   1   1  43]\n",
      " [  1   0   0   0   8]\n",
      " [  6   1   0   0   2]\n",
      " [ 24  33   4   1 107]]\n",
      "             precision    recall  f1-score   support\n",
      "\n",
      "        0.0       0.79      0.86      0.82       137\n",
      "        1.0       0.31      0.27      0.29        63\n",
      "        2.0       0.00      0.00      0.00         9\n",
      "        3.0       0.00      0.00      0.00         9\n",
      "        4.0       0.62      0.63      0.63       169\n",
      "\n",
      "avg / total       0.60      0.63      0.61       387\n",
      "\n"
     ]
    }
   ],
   "source": [
    "y_test = output[:,0]\n",
    "y_pred = output[:,1]\n",
    "print(confusion_matrix(y_test,y_pred))\n",
    "print(classification_report(y_test,y_pred))"
   ]
  },
  {
   "cell_type": "code",
   "execution_count": 595,
   "metadata": {
    "collapsed": true
   },
   "outputs": [],
   "source": [
    "Nplot = [10.,15.,20.,25.,30.,35.,50.,60.,70.,80.,90.,100.,150.,200.,250.,125.,175.,225.,5.,6.,7.,8.,9.]\n",
    "p0 = [0.84,0.89,0.9,0.92,0.91,0.93,0.95,0.93,0.95,0.94,0.95,0.95,0.95,0.95,0.95,0.95,0.95,0.94,0.64,0.7,0.75,0.76,0.79]\n",
    "p1 = [0.31,0.3,0.33,0.23,0.26,0.26,0.24,0.36,0.37,0.35,0.28,0.29,0.25,0.33,0.36,0.38,0.32,0.19,0.25,0.25,0.3,0.31,0.31]\n",
    "p4 = [0.63,0.69,0.69,0.68,0.7,0.69,0.69,0.72,0.73,0.72,0.71,0.72,0.68,0.71,0.69,0.71,0.72,0.69,0.55,0.56,0.59,0.61,0.62]"
   ]
  },
  {
   "cell_type": "code",
   "execution_count": 596,
   "metadata": {
    "collapsed": false
   },
   "outputs": [
    {
     "data": {
      "text/plain": [
       "<matplotlib.collections.PathCollection at 0x1134f2850>"
      ]
     },
     "execution_count": 596,
     "metadata": {},
     "output_type": "execute_result"
    },
    {
     "data": {
      "image/png": "[encoded data removed]",
      "text/plain": [
       "<matplotlib.figure.Figure at 0x1135c95d0>"
      ]
     },
     "metadata": {},
     "output_type": "display_data"
    }
   ],
   "source": [
    "plt.scatter(Nplot,p0,color='r')\n",
    "plt.scatter(Nplot,p1,color='g')\n",
    "plt.scatter(Nplot,p4)"
   ]
  },
  {
   "cell_type": "code",
   "execution_count": null,
   "metadata": {
    "collapsed": true
   },
   "outputs": [],
   "source": []
  }
 ],
 "metadata": {
  "kernelspec": {
   "display_name": "Python 2",
   "language": "python",
   "name": "python2"
  },
  "language_info": {
   "codemirror_mode": {
    "name": "ipython",
    "version": 2
   },
   "file_extension": ".py",
   "mimetype": "text/x-python",
   "name": "python",
   "nbconvert_exporter": "python",
   "pygments_lexer": "ipython2",
   "version": "2.7.12"
  }
 },
 "nbformat": 4,
 "nbformat_minor": 2
}
