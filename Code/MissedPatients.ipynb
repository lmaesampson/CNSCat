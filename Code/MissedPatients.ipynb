{
 "cells": [
  {
   "cell_type": "code",
   "execution_count": 1,
   "metadata": {
    "collapsed": false
   },
   "outputs": [],
   "source": [
    "#Libraries for math and data manipulation\n",
    "import numpy as np\n",
    "import pandas as pd\n",
    "import copy\n",
    "import math\n",
    "import numpy.random as rand\n",
    "import scipy as sp\n",
    "import sys\n",
    "from datetime import datetime\n",
    "\n",
    "#Plotting stuff\n",
    "import matplotlib.pyplot as plt\n",
    "import seaborn\n",
    "import corner\n",
    "%matplotlib inline\n",
    "from matplotlib import rc\n",
    "rc('font',**{'family':'sans-serif','sans-serif':['Helvetica']})\n",
    "rc('text', usetex=True) #Want to be able to use tex in the plot labels\n",
    "seaborn.set_style('ticks')\n",
    "seaborn.set_color_codes()\n",
    "\n",
    "#Machine learning stuff\n",
    "from sklearn import tree\n",
    "from sklearn.tree import DecisionTreeClassifier   #This is a single decision tree\n",
    "from sklearn.ensemble import ExtraTreesClassifier #Random forest of trees\n",
    "import graphviz                                   #This package lets you visualize the tree\n",
    "from sklearn.metrics import classification_report, confusion_matrix, precision_recall_fscore_support, precision_score\n",
    "from sklearn.model_selection import train_test_split"
   ]
  },
  {
   "cell_type": "code",
   "execution_count": 50,
   "metadata": {
    "collapsed": false
   },
   "outputs": [],
   "source": [
    "def datamap(df,params):\n",
    "    #Adjust some things that are always included and may need to be used:\n",
    "    df['dimain'] = clin_df.dimain.map({\"Cerebral Malaria\":0, \"Meningoencephalitis\":1, \"Meningitis\":2.,\\\n",
    "                                       \"Other\":3})\n",
    "    for label in params:\n",
    "        #Mapping yes/no to 1/0\n",
    "        if label =='date':\n",
    "            df['incdate'] = pd.to_datetime(df['incdate'])\n",
    "            df['date'] = (df['incdate'] - df['incdate'].min())  / np.timedelta64(1,'D')\n",
    "        if label=='clinjaund':\n",
    "            df[label] = df.clinjaund.map({'Yes': 1, 'No': 0})\n",
    "        if label=='clinhepato':\n",
    "            df[label] = df.clinhepato.map({'Yes': 1, 'No': 0})\n",
    "        if label=='clinspleno':\n",
    "            df[label] = df.clinspleno.map({'Yes': 1, 'No': 0})\n",
    "        if label=='clinconv':\n",
    "            df['clinconv'] = df.clinconv.map({'Yes': 1, 'No': 0})\n",
    "        if label=='clindehyd':\n",
    "            df['clindehyd'] = df.clindehyd.map({'Yes': 1, 'No': 0})\n",
    "        if label=='clinnoedem':\n",
    "            df['clinoedem'] = df.clinoedem.map({'Yes': 1, 'No': 0})\n",
    "        if label=='clinlymph':\n",
    "            df['clinlymph'] = df.clinlymph.map({'Yes': 1, 'No': 0})\n",
    "        if label=='clinresp':\n",
    "            df['clinresp'] = df.clinresp.map({'Yes': 1, 'No': 0})\n",
    "        if label=='clinablung':    \n",
    "            df['clinablung'] = df.clinablung.map({'Yes': 1, 'No': 0})\n",
    "        if label=='clincyan':\n",
    "            df['clincyan'] = df.clincyan.map({'Yes': 1, 'No': 0})\n",
    "        if label=='clincapref':\n",
    "            df['clincapref'] = df.clincapref.map({'Yes': 1, 'No': 0})\n",
    "        if label=='clincoldext':\n",
    "            df['clincoldext'] = df.clincoldext.map({'Yes': 1, 'No': 0})\n",
    "        if label=='clinorcand':\n",
    "            df['clinorcand'] = df.clinorcand.map({'Yes': 1, 'No': 0})\n",
    "        if label=='clinhemmor':\n",
    "            df['clinhemmor'] = df.clinhemmor.map({'Yes': 1, 'No': 0})\n",
    "        if label=='clinaids':\n",
    "            df['clinaids'] = df.clinaids.map({'Yes': 1, 'No': 0})\n",
    "        if label=='vom':\n",
    "            df['vom'] = df.vom.map({'Yes': 1, 'No': 0})\n",
    "        if label=='diar':\n",
    "            df['diar'] = df.diar.map({'Yes': 1, 'No': 0})\n",
    "        if label=='headache':\n",
    "            df['headache'] = df['head'] #Since 'head' is a function\n",
    "            df['headache'] = df.headache.map({\"Don't know\":0, 'No':0, 'Yes':1, 'Not applicable':0})\n",
    "        if label=='conv':\n",
    "            df['conv'] = df.conv.map({'Yes': 1, 'No': 0})\n",
    "        if label=='age':\n",
    "            df['ageym'] = df.ageyrs.astype(float)*12.\n",
    "            df['agemth'] = df.agemth.astype(float)\n",
    "            df['age'] = df.ageym + df.agemth #total age in months\n",
    "\n",
    "        #Medical history variables\n",
    "        if label=='mhhosp':\n",
    "            df['mhhosp'] = df.mhhosp.map({'Yes': 1, 'No':0})\n",
    "\n",
    "        #some slightly more compliated mappings\n",
    "        if label=='abdpain':\n",
    "            df['abdpain'] = df.abdpain.map({\"Don't know\":0, 'No':0, 'Yes':1, 'Not applicable':np.nan})\n",
    "        if label=='muscle':\n",
    "            df['muscle'] = df.muscle.map({\"Don't know\":0, 'No':0, 'Yes':1, 'Not applicable':np.nan})\n",
    "        if label=='mhdevsp':\n",
    "            df['mhdevsp'] = df.mhdevsp.map({'OTHER':1, 'GLOBAL DEVELOPMENTAL DELAY':1, 'HYDROCEPHALUS':1,\n",
    "                   'HEARING LOSSES':1, 'MOTOR DEVELOPEMENTAL DELAY':1,\n",
    "                   'SPEECH DEVELOPEMENTAL DELAY':1})\n",
    "\n",
    "        #Mapping of inclusion variables 6-8 MLW\n",
    "        if label=='incirrit':\n",
    "            df['incirrit'] = df.incirrit.map({\"Don't know\":0, 'No':0, 'Yes':1, 'Not applicable':0})\n",
    "        if label=='inchead':\n",
    "            df['inchead'] = df.inchead.map({\"Don't know\":0, 'No':0, 'Yes':1, 'Not applicable':0})\n",
    "        if label=='incphoto':\n",
    "            df['incphoto'] = df.incphoto.map({\"Don't know\":0, 'No':0, 'Yes':1, 'Not applicable':0})\n",
    "        if label=='incfont':\n",
    "            df['incfont'] = df.incfont.map({\"Don't know\":0, 'No':0, 'Yes':1, 'Not applicable':0})\n",
    "        if label=='incneuro':\n",
    "            df['incneuro'] = df.incneuro.map({\"Don't know\":0, 'No':0, 'Yes':1, 'Not applicable':0})\n",
    "        if label=='incseiza':\n",
    "            df['incseiza'] = df.incseiza.map({\"Don't know\":0, 'No':0, 'Yes':1, 'Not applicable':0})\n",
    "        if label=='incseizh':\n",
    "            df['incseizh'] = df.incseizh.map({\"Don't know\":0, 'No':0, 'Yes':1, 'Not applicable':0})\n",
    "        if label=='incpurp':\n",
    "            df['incpurp'] = df.incpurp.map({\"Don't know\":0, 'No':0, 'Yes':1, 'Not applicable':0})\n",
    "\n",
    "        #Malaria diagnostic\n",
    "        if label=='malaria':\n",
    "            df['malaria'] = df.malaria.map({'confirmed':2,'probable':1,'no':0})\n",
    "        \n",
    "        #Initial diagnosis coding:\n",
    "        if label=='CMalaria':\n",
    "            df['CMalaria'] = df.dimain.map({0:1,1:0,2:0,3:0})\n",
    "        if label=='Enceph':\n",
    "            df['Enceph'] = df.dimain.map({0:0,1:1,2:0,3:0})\n",
    "        if label=='Mening':\n",
    "            df['Mening'] = df.dimain.map({0:0,1:0,2:1,3:0})\n",
    "        if label=='Other':\n",
    "            df['Other'] = df.dimain.map({0:0,1:0,2:0,3:1})\n",
    "\n",
    "\n",
    "        #This coding is going to be important. You'll want to figure out which categories are useful, and which\n",
    "        #are practical.\n",
    "        if label=='diag':\n",
    "            df['diag'] = df.diag.map({'malaria':0, 'cereb malaria':0,'virus-malaria':0,\\\n",
    "                                                'virus-bacteria':1, 'bacteremia':1,'bact meningitis':1,\\\n",
    "                                                'virus-other':2,'virus':2,'malaria-bacterial':3,\\\n",
    "                                                'tb':3,'crypto':2, '0.0':4})\n"
   ]
  },
  {
   "cell_type": "code",
   "execution_count": 51,
   "metadata": {
    "collapsed": false
   },
   "outputs": [],
   "source": [
    "data_raw = pd.read_csv(\"../Data/cns_data.csv\")   #Using Pandas for data manipulation"
   ]
  },
  {
   "cell_type": "code",
   "execution_count": 52,
   "metadata": {
    "collapsed": false
   },
   "outputs": [],
   "source": [
    "#Delete useless columns - but keep patient registration number\n",
    "data_df = data_raw.drop(['surnamenam','patinit','mothinit'],axis=1)"
   ]
  },
  {
   "cell_type": "code",
   "execution_count": 53,
   "metadata": {
    "collapsed": false
   },
   "outputs": [],
   "source": [
    "#Split up 'incdate' into month, day, and year. Monthday is meant to capture seasonality.\n",
    "data_df['month'] = pd.DatetimeIndex(data_df['incdate']).month\n",
    "data_df['day'] = pd.DatetimeIndex(data_df['incdate']).day\n",
    "data_df['year'] = pd.DatetimeIndex(data_df['incdate']).year\n",
    "data_df['monthday'] = data_df['month']*30+data_df['day']"
   ]
  },
  {
   "cell_type": "code",
   "execution_count": 54,
   "metadata": {
    "collapsed": false
   },
   "outputs": [],
   "source": [
    "#Select input features\n",
    "#6-8 adding inclusion criteria and rdttest MLW\n",
    "clin_df = data_df.loc[:,['glasgtot','blanttot','clinjaund','clinhepato','clinspleno','clinconv','clindehyd',\\\n",
    "                          'clinoedem','clinlymph','clinresp','clinablung','clincyan','clincapref','clincoldext',\\\n",
    "                         'clinearinf','clinanemia','clinorcand','clinhemmor','clinaids',\\\n",
    "                         'abdpain','vom','diar','head','muscle','conv',\\\n",
    "                         'sex','ageyrs','agemth',\\\n",
    "                         'temp','card','resp','sbp','dbp','weight','height','muac',\\\n",
    "                          'mhhosp', 'mhdevsp', 'mhsickle', 'mhchronstat',\\\n",
    "                         'incdate',\\\n",
    "                         'dimain', \\\n",
    "                         'incirrit', 'inchead', 'incphoto',\\\n",
    "                         'incfont', 'incneuro' , 'incseiza', 'incseizh','incpurp',\\\n",
    "                         'ident',\\\n",
    "                          'diag']] #This is the final diagnosis - will be the 'label'"
   ]
  },
  {
   "cell_type": "code",
   "execution_count": 55,
   "metadata": {
    "collapsed": false
   },
   "outputs": [],
   "source": [
    "#Convert the date into a useful value. This just counts the days from the beginning of the dataset \n",
    "clin_df['incdate'] = pd.to_datetime(clin_df['incdate'])\n",
    "clin_df['date'] = (clin_df['incdate'] - clin_df['incdate'].min())  / np.timedelta64(1,'D')\n",
    "\n",
    "#Mapping yes/no to 1/0\n",
    "clin_df['clinjaund'] = clin_df.clinjaund.map({'Yes': 1, 'No': 0})\n",
    "clin_df['clinhepato'] = clin_df.clinhepato.map({'Yes': 1, 'No': 0})\n",
    "clin_df['clinspleno'] = clin_df.clinspleno.map({'Yes': 1, 'No': 0})\n",
    "clin_df['clinconv'] = clin_df.clinconv.map({'Yes': 1, 'No': 0})\n",
    "clin_df['clindehyd'] = clin_df.clindehyd.map({'Yes': 1, 'No': 0})\n",
    "clin_df['clinoedem'] = clin_df.clinoedem.map({'Yes': 1, 'No': 0})\n",
    "clin_df['clinlymph'] = clin_df.clinlymph.map({'Yes': 1, 'No': 0})\n",
    "clin_df['clinresp'] = clin_df.clinresp.map({'Yes': 1, 'No': 0})\n",
    "clin_df['clinablung'] = clin_df.clinablung.map({'Yes': 1, 'No': 0})\n",
    "clin_df['clincyan'] = clin_df.clincyan.map({'Yes': 1, 'No': 0})\n",
    "clin_df['clincapref'] = clin_df.clincapref.map({'Yes': 1, 'No': 0})\n",
    "clin_df['clincoldext'] = clin_df.clincoldext.map({'Yes': 1, 'No': 0})\n",
    "clin_df['clinorcand'] = clin_df.clinorcand.map({'Yes': 1, 'No': 0})\n",
    "clin_df['clinhemmor'] = clin_df.clinhemmor.map({'Yes': 1, 'No': 0})\n",
    "clin_df['clinaids'] = clin_df.clinaids.map({'Yes': 1, 'No': 0})\n",
    "clin_df['vom'] = clin_df.vom.map({'Yes': 1, 'No': 0})\n",
    "clin_df['diar'] = clin_df.diar.map({'Yes': 1, 'No': 0})\n",
    "clin_df['headache'] = clin_df['head'] #Since 'head' is a function\n",
    "clin_df['conv'] = clin_df.conv.map({'Yes': 1, 'No': 0})\n",
    "clin_df['ageym'] = clin_df.ageyrs.astype(float)*12.\n",
    "clin_df.agemth = clin_df.agemth.astype(float)\n",
    "clin_df['age'] = clin_df.ageym + clin_df.agemth #total age in months\n",
    "\n",
    "#Medical history variables\n",
    "clin_df['mhhosp'] = clin_df.mhhosp.map({'Yes': 1, 'No':0})\n",
    "\n",
    "#some slightly more compliated mappings\n",
    "clin_df['abdpain'] = clin_df.abdpain.map({\"Don't know\":0, 'No':0, 'Yes':1, 'Not applicable':np.nan})\n",
    "clin_df['headache'] = clin_df.headache.map({\"Don't know\":0, 'No':0, 'Yes':1, 'Not applicable':0})\n",
    "clin_df['muscle'] = clin_df.muscle.map({\"Don't know\":0, 'No':0, 'Yes':1, 'Not applicable':np.nan})\n",
    "clin_df['dimain'] = clin_df.dimain.map({\"Cerebral Malaria\":0, \"Meningoencephalitis\":1, \"Meningitis\":2.,\\\n",
    "                                       \"Other\":3})\n",
    "clin_df['mhdevsp'] = clin_df.mhdevsp.map({'OTHER':1, 'GLOBAL DEVELOPMENTAL DELAY':1, 'HYDROCEPHALUS':1,\n",
    "       'HEARING LOSSES':1, 'MOTOR DEVELOPEMENTAL DELAY':1,\n",
    "       'SPEECH DEVELOPEMENTAL DELAY':1})\n",
    "\n",
    "#Mapping of inclusion variables 6-8 \n",
    "clin_df['incirrit'] = clin_df.incirrit.map({\"Don't know\":0, 'No':0, 'Yes':1, 'Not applicable':0})\n",
    "clin_df['inchead'] = clin_df.inchead.map({\"Don't know\":0, 'No':0, 'Yes':1, 'Not applicable':0})\n",
    "clin_df['incphoto'] = clin_df.incphoto.map({\"Don't know\":0, 'No':0, 'Yes':1, 'Not applicable':0})\n",
    "clin_df['incfont'] = clin_df.incfont.map({\"Don't know\":0, 'No':0, 'Yes':1, 'Not applicable':0})\n",
    "clin_df['incneuro'] = clin_df.incneuro.map({\"Don't know\":0, 'No':0, 'Yes':1, 'Not applicable':0})\n",
    "clin_df['incseiza'] = clin_df.incseiza.map({\"Don't know\":0, 'No':0, 'Yes':1, 'Not applicable':0})\n",
    "clin_df['incseizh'] = clin_df.incseizh.map({\"Don't know\":0, 'No':0, 'Yes':1, 'Not applicable':0})\n",
    "clin_df['incpurp'] = clin_df.incpurp.map({\"Don't know\":0, 'No':0, 'Yes':1, 'Not applicable':0})\n",
    "\n",
    "#This coding is going to be important. You'll want to figure out which categories are useful, and which\n",
    "#are practical.\n",
    "clin_df['diag'] = clin_df.diag.map({'malaria':0, 'cereb malaria':0,'virus-malaria':0,\\\n",
    "                                    'virus-bacteria':1, 'bacteremia':1,'bact meningitis':1,\\\n",
    "                                    'virus-other':2,'virus':2,'malaria-bacterial':3,\\\n",
    "                                    'tb':3,'crypto':2, '0.0':4})"
   ]
  },
  {
   "cell_type": "code",
   "execution_count": 56,
   "metadata": {
    "collapsed": true
   },
   "outputs": [],
   "source": [
    "#A lot of these have very few actual answers. i.e., 'headache.' Mapping 'NaN' to 'No'. \n",
    "values = {'clinjaund':0,'clinhepato':0,'clinaids':0,'clinhemmor':0,'clinorcand':0,\\\n",
    "          'clinresp':0,'clinlymph':0,'clindehyd':0,'clinoedem':0,'clinablung':0,'clincyan':0,'clincapref':0,\n",
    "          'clincoldext':0, 'mhchronstat':0, 'mhdevsp':0,\\\n",
    "         'conv':0,'abdpain':0,'vom':0,'diar':0,'headache':0,'muscle':0}\n",
    "clin_df = clin_df.fillna(value=values)"
   ]
  },
  {
   "cell_type": "code",
   "execution_count": 57,
   "metadata": {
    "collapsed": false
   },
   "outputs": [
    {
     "name": "stdout",
     "output_type": "stream",
     "text": [
      "[ 0.  1.  2.  3.]\n"
     ]
    }
   ],
   "source": [
    "#You really shouldn't use the initial diagnosis as a continuous variable ,\n",
    "#you need to map it into a set of yes/no question.\n",
    "clin_df['CMalaria'] = clin_df.dimain.map({0:1,1:0,2:0,3:0})\n",
    "clin_df['Enceph'] = clin_df.dimain.map({0:0,1:1,2:0,3:0})\n",
    "clin_df['Mening'] = clin_df.dimain.map({0:0,1:0,2:1,3:0})\n",
    "clin_df['Other'] = clin_df.dimain.map({0:0,1:0,2:0,3:1})\n",
    "\n",
    "print(clin_df.dimain.unique())"
   ]
  },
  {
   "cell_type": "code",
   "execution_count": 205,
   "metadata": {
    "collapsed": false
   },
   "outputs": [
    {
     "name": "stdout",
     "output_type": "stream",
     "text": [
      "(361, 45)\n"
     ]
    }
   ],
   "source": [
    "#Pick the features to classify with.\n",
    "Xlabels = ['CMalaria','Enceph','Mening','Other',\\\n",
    "                      'headache','age','temp',\\\n",
    "                      'date',\\\n",
    "                      'clinjaund','clinhepato','clinaids','clinhemmor','clinorcand',\\\n",
    "                      'clinresp','clinlymph','clindehyd','clinoedem','clinablung','clincyan','clincapref',\\\n",
    "                      'glasgtot', 'dbp', 'sbp','resp','card','weight','height','muac',\\\n",
    "                      'mhhosp','mhchronstat', 'mhdevsp',\\\n",
    "                      'conv','abdpain','vom','diar','muscle',\\\n",
    "                      'incirrit', 'inchead', 'incphoto',\\\n",
    "                      'incfont', 'incneuro' , 'incseiza', 'incseizh',\\\n",
    "                      'incpurp',\\\n",
    "                      'ident'] \n",
    "X_pd = clin_df.loc[:,['CMalaria','Enceph','Mening','Other',\\\n",
    "                      'headache','age','temp',\\\n",
    "                      'date',\\\n",
    "                      'clinjaund','clinhepato','clinaids','clinhemmor','clinorcand',\\\n",
    "                      'clinresp','clinlymph','clindehyd','clinoedem','clinablung','clincyan','clincapref',\\\n",
    "                      'glasgtot', 'dbp', 'sbp','resp','card','weight','height','muac',\\\n",
    "                      'mhhosp','mhchronstat', 'mhdevsp',\\\n",
    "                      'conv','abdpain','vom','diar','muscle',\\\n",
    "                       'incirrit', 'inchead', 'incphoto',\\\n",
    "                      'incfont', 'incneuro' , 'incseiza', 'incseizh',\\\n",
    "                      'incpurp',\\\n",
    "                      'ident',\\\n",
    "                      'diag']]\n",
    "X_pd = X_pd.dropna()  #Drop cases that have nan for *any* entry\n",
    "\n",
    "#Get things into the correct format for scikit-learn. I've tried to use the convention throughout that variables\n",
    "#ending in 'pd' are pandas dataframes.\n",
    "Input = X_pd.values             #creates a numpy array\n",
    "Features = Input[:,0:-1].copy() #separate the features and labels - exclude patient id number\n",
    "Labels = Input[:,-1].copy()\n",
    "ncase = len(Input[:,0])\n",
    "print(np.shape(Features))                     #checking that there are a reasonable number of cases left\n",
    "\n",
    "\n",
    "X = Features.copy()  #changing to X and y. For no real reason\n",
    "y = Labels.copy()\n",
    "\n",
    "#skl will split the data into training and test for you. Right now, I'm training on 4/5 of the data.\n",
    "X_train, X_test, y_train, y_test = train_test_split(X, y, test_size=0.5, random_state=True)\n",
    "y_train = y_train.astype(float)\n",
    "y_test = y_test.astype(float)\n",
    "#You need to use the same test and train sets here.\n",
    "ntrain = 281\n",
    "X_train = X[:ntrain,:]\n",
    "y_train = y[:ntrain]\n",
    "\n",
    "X_test = X[ntrain:,:]\n",
    "y_test = y[ntrain:]\n",
    "\n",
    "#Actual classifier. This is doing n_estimators trees, up to max_depth cuts. Something to play with.\n",
    "forest = ExtraTreesClassifier(n_estimators=20,\n",
    "                              random_state=0,max_depth=10)\n",
    "\n",
    "#Fit the classifier.\n",
    "forest.fit(X_train[:,:-1], y_train)\n",
    "\n",
    "#extract the 'importances' of the features\n",
    "importances = forest.feature_importances_\n",
    "#calculate standard deviation\n",
    "std = np.std([tree.feature_importances_ for tree in forest.estimators_],\n",
    "             axis=0)\n",
    "indices = np.argsort(importances)[::-1]\n",
    "Xlabels = np.array(Xlabels)\n",
    "PlotLabels = Xlabels[indices]"
   ]
  },
  {
   "cell_type": "code",
   "execution_count": 206,
   "metadata": {
    "collapsed": false
   },
   "outputs": [
    {
     "name": "stdout",
     "output_type": "stream",
     "text": [
      "['CMalaria' 'Enceph' 'Mening' 'glasgtot' 'date' 'card' 'muac' 'weight'\n",
      " 'incirrit' 'resp' 'dbp' 'height' 'temp' 'clinhepato' 'age' 'clindehyd'\n",
      " 'sbp' 'clinablung' 'clinjaund' 'mhhosp' 'inchead' 'clinaids' 'vom' 'Other'\n",
      " 'incseizh' 'clinresp' 'headache' 'abdpain' 'incseiza' 'muscle' 'conv'\n",
      " 'clinorcand' 'diar' 'incfont' 'incphoto' 'incneuro' 'mhchronstat'\n",
      " 'clincapref' 'clinlymph' 'clinoedem' 'clinhemmor' 'mhdevsp' 'clincyan'\n",
      " 'incpurp']\n"
     ]
    }
   ],
   "source": [
    "print PlotLabels"
   ]
  },
  {
   "cell_type": "code",
   "execution_count": 207,
   "metadata": {
    "collapsed": false
   },
   "outputs": [],
   "source": [
    "#Make the predictions on the test data\n",
    "y_pred_prob = forest.predict_proba(X_test[:,:-1])\n",
    "y_pred = forest.predict(X_test[:,:-1])"
   ]
  },
  {
   "cell_type": "code",
   "execution_count": 208,
   "metadata": {
    "collapsed": false
   },
   "outputs": [
    {
     "name": "stdout",
     "output_type": "stream",
     "text": [
      "[[33  0  0  0  4]\n",
      " [ 0  2  0  0  8]\n",
      " [ 1  1  0  0  1]\n",
      " [ 0  0  0  0  1]\n",
      " [ 1  6  0  0 22]]\n",
      "             precision    recall  f1-score   support\n",
      "\n",
      "        0.0       0.94      0.89      0.92        37\n",
      "        1.0       0.22      0.20      0.21        10\n",
      "        2.0       0.00      0.00      0.00         3\n",
      "        3.0       0.00      0.00      0.00         1\n",
      "        4.0       0.61      0.76      0.68        29\n",
      "\n",
      "avg / total       0.69      0.71      0.70        80\n",
      "\n"
     ]
    }
   ],
   "source": [
    "#Print the confusion matrix:\n",
    "print(confusion_matrix(y_test,y_pred))\n",
    "print(classification_report(y_test,y_pred))"
   ]
  },
  {
   "cell_type": "code",
   "execution_count": 209,
   "metadata": {
    "collapsed": false
   },
   "outputs": [
    {
     "data": {
      "image/png": "[encoded data removed]",
      "text/plain": [
       "<Figure size 432x288 with 1 Axes>"
      ]
     },
     "metadata": {},
     "output_type": "display_data"
    }
   ],
   "source": [
    "mask = []\n",
    "i = 0\n",
    "for yt in y_test:\n",
    "    yp = y_pred[i]\n",
    "    mv = yp==yt\n",
    "    mask.append(mv)\n",
    "    i +=1\n",
    "mask = np.invert(mask)\n",
    "\n",
    "missed_pat = X_test[mask]\n",
    "missed_pat_diag = y_test[mask]\n",
    "missed_pat_id = X_test[mask,-1]\n",
    "\n",
    "\n",
    "a,b,c = plt.hist(missed_pat_diag, bins=bins, density=True,rwidth=0.9)\n",
    "d,e,f = plt.hist(y_pred[mask],bins=bins,density=True,rwidth=0.9,alpha=0.5)"
   ]
  },
  {
   "cell_type": "code",
   "execution_count": 157,
   "metadata": {
    "collapsed": true
   },
   "outputs": [],
   "source": [
    "#Now, do this again - but get rid of the clinical diagnosis as a training feature."
   ]
  },
  {
   "cell_type": "code",
   "execution_count": 210,
   "metadata": {
    "collapsed": false
   },
   "outputs": [
    {
     "name": "stdout",
     "output_type": "stream",
     "text": [
      "(361, 41)\n"
     ]
    }
   ],
   "source": [
    "#Pick the features to classify with.\n",
    "Xlabels = [           'headache','age','temp',\\\n",
    "                      'date',\\\n",
    "                      'clinjaund','clinhepato','clinaids','clinhemmor','clinorcand',\\\n",
    "                      'clinresp','clinlymph','clindehyd','clinoedem','clinablung','clincyan','clincapref',\\\n",
    "                      'glasgtot', 'dbp', 'sbp','resp','card','weight','height','muac',\\\n",
    "                      'mhhosp','mhchronstat', 'mhdevsp',\\\n",
    "                      'conv','abdpain','vom','diar','muscle',\\\n",
    "                      'incirrit', 'inchead', 'incphoto',\\\n",
    "                      'incfont', 'incneuro' , 'incseiza', 'incseizh',\\\n",
    "                      'incpurp',\\\n",
    "                      'ident'] \n",
    "X_pd = clin_df.loc[:,['headache','age','temp',\\\n",
    "                      'date',\\\n",
    "                      'clinjaund','clinhepato','clinaids','clinhemmor','clinorcand',\\\n",
    "                      'clinresp','clinlymph','clindehyd','clinoedem','clinablung','clincyan','clincapref',\\\n",
    "                      'glasgtot', 'dbp', 'sbp','resp','card','weight','height','muac',\\\n",
    "                      'mhhosp','mhchronstat', 'mhdevsp',\\\n",
    "                      'conv','abdpain','vom','diar','muscle',\\\n",
    "                       'incirrit', 'inchead', 'incphoto',\\\n",
    "                      'incfont', 'incneuro' , 'incseiza', 'incseizh',\\\n",
    "                      'incpurp',\\\n",
    "                      'ident',\\\n",
    "                      'diag']]\n",
    "X_pd = X_pd.dropna()  #Drop cases that have nan for *any* entry\n",
    "\n",
    "Input = X_pd.values             #creates a numpy array\n",
    "Features = Input[:,0:-1].copy() #separate the features and labels - exclude patient id number\n",
    "Labels = Input[:,-1].copy()\n",
    "ncase = len(Input[:,0])\n",
    "print(np.shape(Features))    \n",
    "\n",
    "\n",
    "X = Features.copy()  #changing to X and y. For no real reason\n",
    "y = Labels.copy()\n",
    "\n",
    "#You need to use the same test and train sets here.\n",
    "X_train_nc = X[:ntrain,:]\n",
    "y_train_nc = y[:ntrain]\n",
    "\n",
    "X_test_nc = X[ntrain:,:]\n",
    "y_test_nc = y[ntrain:]"
   ]
  },
  {
   "cell_type": "code",
   "execution_count": 211,
   "metadata": {
    "collapsed": false
   },
   "outputs": [
    {
     "name": "stdout",
     "output_type": "stream",
     "text": [
      "[[25  0  0  0 12]\n",
      " [ 1  0  0  0  9]\n",
      " [ 3  0  0  0  0]\n",
      " [ 1  0  0  0  0]\n",
      " [ 3  1  0  0 25]]\n",
      "             precision    recall  f1-score   support\n",
      "\n",
      "        0.0       0.76      0.68      0.71        37\n",
      "        1.0       0.00      0.00      0.00        10\n",
      "        2.0       0.00      0.00      0.00         3\n",
      "        3.0       0.00      0.00      0.00         1\n",
      "        4.0       0.54      0.86      0.67        29\n",
      "\n",
      "avg / total       0.55      0.62      0.57        80\n",
      "\n"
     ]
    }
   ],
   "source": [
    "#Actual classifier. This is doing n_estimators trees, up to max_depth cuts. Something to play with.\n",
    "forest = ExtraTreesClassifier(n_estimators=20,\n",
    "                              random_state=0,max_depth=10)\n",
    "\n",
    "#Fit the classifier.\n",
    "forest.fit(X_train_nc[:,:-1], y_train_nc)\n",
    "\n",
    "#extract the 'importances' of the features\n",
    "importances = forest.feature_importances_\n",
    "#calculate standard deviation\n",
    "std = np.std([tree.feature_importances_ for tree in forest.estimators_],\n",
    "             axis=0)\n",
    "indices = np.argsort(importances)[::-1]\n",
    "Xlabels = np.array(Xlabels)\n",
    "PlotLabels = Xlabels[indices]\n",
    "\n",
    "#Make the predictions on the test data\n",
    "y_pred_nc = forest.predict(X_test_nc[:,:-1])\n",
    "\n",
    "#Print the confusion matrix:\n",
    "print(confusion_matrix(y_test_nc,y_pred_nc))\n",
    "print(classification_report(y_test_nc,y_pred_nc))"
   ]
  },
  {
   "cell_type": "code",
   "execution_count": 212,
   "metadata": {
    "collapsed": false
   },
   "outputs": [
    {
     "name": "stdout",
     "output_type": "stream",
     "text": [
      "['glasgtot' 'weight' 'card' 'sbp' 'height' 'date' 'age' 'muac' 'clinhepato'\n",
      " 'temp' 'dbp' 'clinjaund' 'conv' 'incirrit' 'mhhosp' 'resp' 'diar'\n",
      " 'incseiza' 'vom' 'clinaids' 'incfont' 'clinresp' 'clindehyd' 'clinablung'\n",
      " 'abdpain' 'muscle' 'incseizh' 'mhchronstat' 'incphoto' 'inchead'\n",
      " 'headache' 'clinorcand' 'clinlymph' 'incneuro' 'clinhemmor' 'clincapref'\n",
      " 'mhdevsp' 'incpurp' 'clinoedem' 'clincyan']\n"
     ]
    }
   ],
   "source": [
    "print PlotLabels"
   ]
  },
  {
   "cell_type": "code",
   "execution_count": 219,
   "metadata": {
    "collapsed": false
   },
   "outputs": [
    {
     "data": {
      "image/png": "[encoded data removed]",
      "text/plain": [
       "<Figure size 432x288 with 1 Axes>"
      ]
     },
     "metadata": {},
     "output_type": "display_data"
    }
   ],
   "source": [
    "mask = []\n",
    "i = 0\n",
    "for yt in y_test:\n",
    "    yp = y_pred_nc[i]\n",
    "    mv = yp==yt\n",
    "    mask.append(mv)\n",
    "    i +=1\n",
    "mask = np.invert(mask)\n",
    "\n",
    "missed_pat_nc = X_test_nc[mask]\n",
    "missed_pat_diag_nc = y_test_nc[mask]\n",
    "\n",
    "a,b,c = plt.hist(missed_pat_diag_nc, bins=bins, density=True,rwidth=0.9)\n",
    "d,e,f = plt.hist(y_pred_nc[mask],bins=bins,density=True,rwidth=0.9,alpha=0.5)"
   ]
  },
  {
   "cell_type": "code",
   "execution_count": 221,
   "metadata": {
    "collapsed": true
   },
   "outputs": [],
   "source": [
    "missed_pat_id_nc = X_test_nc[mask,-1]"
   ]
  },
  {
   "cell_type": "code",
   "execution_count": 222,
   "metadata": {
    "collapsed": false
   },
   "outputs": [
    {
     "data": {
      "image/png": "[encoded data removed]",
      "text/plain": [
       "<Figure size 432x288 with 1 Axes>"
      ]
     },
     "metadata": {},
     "output_type": "display_data"
    }
   ],
   "source": [
    "a,b,c = plt.hist(missed_pat_id)\n",
    "d,e,f = plt.hist(missed_pat_id_nc, alpha=0.5)"
   ]
  },
  {
   "cell_type": "code",
   "execution_count": 223,
   "metadata": {
    "collapsed": true
   },
   "outputs": [],
   "source": [
    "#Hmm. This doesn't really seem to be doing what we'd expect. But, what *would* we expect? Right now we'd just expect\n",
    "#the 'CMalaria' value of the patients that are misdiagnosed to often be 1."
   ]
  },
  {
   "cell_type": "code",
   "execution_count": 225,
   "metadata": {
    "collapsed": false
   },
   "outputs": [
    {
     "name": "stdout",
     "output_type": "stream",
     "text": [
      "0.2 0.2375\n"
     ]
    }
   ],
   "source": [
    "CMmask = missed_pat_nc[:,0]==1\n",
    "CMmask_all = X_test_nc[:,0]==1\n",
    "count = 0\n",
    "call = 0\n",
    "for m in CMmask:\n",
    "    if m:\n",
    "        count += 1\n",
    "for m in CMmask_all:\n",
    "    if m:\n",
    "        call += 1\n",
    "print float(count)/len(CMmask), float(call)/len(CMmask_all)"
   ]
  },
  {
   "cell_type": "code",
   "execution_count": null,
   "metadata": {
    "collapsed": true
   },
   "outputs": [],
   "source": [
    "#Well. There are actually *fewer* of the missed patients who are diagnosed with malaria than the overall patients.\n",
    "#What else might be an indicator? What if we train with more patients - does this overemphasize CMalaria?\n",
    "#No.\n",
    "\n",
    "#Ok. What if we take all of the patients with CMalaria, then sort into 'malaria' and 'not malaria,' but using\n",
    "#the other clinical criteria. How does that do?\n",
    "\n",
    "#(In theory, you could do the same thing for each of the clinical diagnoses.)"
   ]
  }
 ],
 "metadata": {
  "kernelspec": {
   "display_name": "Python 2",
   "language": "python",
   "name": "python2"
  },
  "language_info": {
   "codemirror_mode": {
    "name": "ipython",
    "version": 2
   },
   "file_extension": ".py",
   "mimetype": "text/x-python",
   "name": "python",
   "nbconvert_exporter": "python",
   "pygments_lexer": "ipython2",
   "version": "2.7.12"
  }
 },
 "nbformat": 4,
 "nbformat_minor": 2
}
