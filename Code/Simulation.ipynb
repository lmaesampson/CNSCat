{
 "cells": [
  {
   "cell_type": "code",
   "execution_count": 197,
   "metadata": {
    "collapsed": false
   },
   "outputs": [],
   "source": [
    "#Libraries for math and data manipulation\n",
    "import numpy as np\n",
    "import pandas as pd\n",
    "import copy\n",
    "import math\n",
    "import numpy.random as rand\n",
    "import scipy as sp\n",
    "import sys\n",
    "from datetime import datetime\n",
    "\n",
    "#Plotting stuff\n",
    "import matplotlib.pyplot as plt\n",
    "import seaborn\n",
    "import corner\n",
    "%matplotlib inline\n",
    "from matplotlib import rc\n",
    "rc('font',**{'family':'sans-serif','sans-serif':['Helvetica']})\n",
    "rc('text', usetex=True) #Want to be able to use tex in the plot labels\n",
    "seaborn.set_style('ticks')\n",
    "seaborn.set_color_codes()\n",
    "\n",
    "#Machine learning stuff\n",
    "from sklearn import tree\n",
    "from sklearn.tree import DecisionTreeClassifier   #This is a single decision tree\n",
    "from sklearn.ensemble import ExtraTreesClassifier #Random forest of trees\n",
    "import graphviz                                   #This package lets you visualize the tree\n",
    "from sklearn.metrics import classification_report, confusion_matrix, precision_recall_fscore_support, precision_score\n",
    "from sklearn.model_selection import train_test_split"
   ]
  },
  {
   "cell_type": "markdown",
   "metadata": {},
   "source": [
    "### Simulating Categorization Data###\n",
    "\n",
    "Assuming there are two (or n) Poisson processes generating patients with different diagnoses at different rates, how well can you do in predicting the diagnosis of the next patient by using N previous diagnoses to determine p(diagnosis)?\n",
    "\n",
    "1) If all rates are constant in time: theoretically, the precision of the classifier should also be constant in time.\n",
    "\n",
    "2) Rate changing seasonally: the precision should depend on N, and change with time.\n",
    "\n",
    "3) Rate changing linearly: same as above."
   ]
  },
  {
   "cell_type": "code",
   "execution_count": 225,
   "metadata": {
    "collapsed": true
   },
   "outputs": [],
   "source": [
    "#First, generate observations from two processes that are constant in time.\n",
    "#Using a Gillespie algorithm stolen from Wikipedia, the source of all knowledge.\n",
    "\n",
    "w1 = 1.\n",
    "w2 = 1.25\n",
    "W = w1 + w2\n",
    "\n",
    "patients = []\n",
    "\n",
    "T = 1000.\n",
    "t = 0.\n",
    "\n",
    "while t < T:\n",
    "    dt = -np.log(np.random.random_sample()) / W\n",
    "    t = t + dt\n",
    "\n",
    "    if np.random.random_sample() < w1 / W:\n",
    "        patID = 1.\n",
    "    else:\n",
    "        patID = 2.\n",
    "    patients.append((t,patID))\n",
    "patients = np.array(patients)"
   ]
  },
  {
   "cell_type": "code",
   "execution_count": 226,
   "metadata": {
    "collapsed": false
   },
   "outputs": [
    {
     "data": {
      "text/plain": [
       "[<matplotlib.lines.Line2D at 0x115af2f10>]"
      ]
     },
     "execution_count": 226,
     "metadata": {},
     "output_type": "execute_result"
    },
    {
     "data": {
      "image/png": "[encoded data removed]",
      "text/plain": [
       "<Figure size 432x288 with 1 Axes>"
      ]
     },
     "metadata": {},
     "output_type": "display_data"
    }
   ],
   "source": [
    "plt.plot(patients[:,1],'.')"
   ]
  },
  {
   "cell_type": "code",
   "execution_count": 227,
   "metadata": {
    "collapsed": true
   },
   "outputs": [],
   "source": [
    "#Define a function that calculates the percentage of Ntest patients in each of nclass classes\n",
    "#Return these probabilities, as well as the prediction for the next observed patient.\n",
    "def observe(tseries,Ntest,nclass):\n",
    "    testp = tseries[-Ntest:]\n",
    "    ratios = []\n",
    "    for i in range(nclass):\n",
    "        n = len(testp[testp==(float(i)+1.)])\n",
    "        ratios.append(float(n)/float(Ntest))\n",
    "    ratios = np.array(ratios)\n",
    "    pred = np.random.multinomial(1,ratios)\n",
    "    pclass = np.where(pred==1)[0]\n",
    "    return ratios, pclass"
   ]
  },
  {
   "cell_type": "code",
   "execution_count": 244,
   "metadata": {
    "collapsed": false
   },
   "outputs": [],
   "source": [
    "#\n",
    "Ntrail = 50  #Number of trailing patients to use to predict the next diagnosis\n",
    "i = 0\n",
    "ypred = []\n",
    "yobs = []\n",
    "\n",
    "for obs in patients[Ntrail+1:,1]:\n",
    "        r, p = observe(patients[Ntrail*i:Ntrail*(i+1),1],Ntrail,2)\n",
    "        if Ntrail*(i+1)<len(patients):\n",
    "            ypred.append(p[0]+1.)\n",
    "            yobs.append(obs)\n",
    "        else:\n",
    "            break\n",
    "        i += 1\n",
    "\n",
    "yobs = np.array(yobs)\n",
    "ypred = np.array(ypred)"
   ]
  },
  {
   "cell_type": "code",
   "execution_count": 245,
   "metadata": {
    "collapsed": false
   },
   "outputs": [
    {
     "name": "stdout",
     "output_type": "stream",
     "text": [
      "[[ 3 20]\n",
      " [11 12]]\n",
      "             precision    recall  f1-score   support\n",
      "\n",
      "        1.0       0.21      0.13      0.16        23\n",
      "        2.0       0.38      0.52      0.44        23\n",
      "\n",
      "avg / total       0.29      0.33      0.30        46\n",
      "\n"
     ]
    }
   ],
   "source": [
    "print confusion_matrix(yobs,ypred)\n",
    "print classification_report(yobs,ypred)"
   ]
  },
  {
   "cell_type": "code",
   "execution_count": 246,
   "metadata": {
    "collapsed": false
   },
   "outputs": [
    {
     "name": "stdout",
     "output_type": "stream",
     "text": [
      "0.5\n"
     ]
    }
   ],
   "source": [
    "print float(len(yobs[yobs==2.]))/float(len(yobs))"
   ]
  },
  {
   "cell_type": "code",
   "execution_count": 247,
   "metadata": {
    "collapsed": false
   },
   "outputs": [
    {
     "name": "stdout",
     "output_type": "stream",
     "text": [
      "0.695652173913\n"
     ]
    }
   ],
   "source": [
    "print float(len(ypred[ypred==2.]))/float(len(ypred))"
   ]
  },
  {
   "cell_type": "code",
   "execution_count": 248,
   "metadata": {
    "collapsed": false
   },
   "outputs": [
    {
     "name": "stdout",
     "output_type": "stream",
     "text": [
      "0.214285714286\n"
     ]
    }
   ],
   "source": [
    "print precision_score(yobs, ypred)"
   ]
  },
  {
   "cell_type": "code",
   "execution_count": 242,
   "metadata": {
    "collapsed": false
   },
   "outputs": [],
   "source": [
    "#You want something you can plot as a function of time here, so probably you want the precision\n",
    "#from some windowed set of patients. Say, 10?\n",
    "window = 100\n",
    "pwind = []\n",
    "Ntrail = 50  #Number of trailing patients to use to predict the next diagnosis\n",
    "i = 0\n",
    "ypred = []\n",
    "yobs = []\n",
    "for obs in patients[Ntrail+1:,1]:\n",
    "        r, p = observe(patients[i:Ntrail+i,1],30,2)\n",
    "        if Ntrail+i+1<len(patients):\n",
    "            ypred.append(p[0]+1.)\n",
    "            yobs.append(obs)\n",
    "        else:\n",
    "            print Ntrail*(i+1), i\n",
    "            break\n",
    "        i += 1\n",
    "        if i%window==0:\n",
    "            yobs = np.array(yobs)\n",
    "            ypred = np.array(ypred)\n",
    "            pscore = precision_score(yobs,ypred)\n",
    "            pwind.append(pscore)\n",
    "            ypred = []\n",
    "            yobs = []\n"
   ]
  },
  {
   "cell_type": "code",
   "execution_count": 243,
   "metadata": {
    "collapsed": false
   },
   "outputs": [
    {
     "data": {
      "text/plain": [
       "[<matplotlib.lines.Line2D at 0x11604fc10>]"
      ]
     },
     "execution_count": 243,
     "metadata": {},
     "output_type": "execute_result"
    },
    {
     "data": {
      "image/png": "[encoded data removed]",
      "text/plain": [
       "<Figure size 432x288 with 1 Axes>"
      ]
     },
     "metadata": {},
     "output_type": "display_data"
    }
   ],
   "source": [
    "plt.plot(pwind)"
   ]
  },
  {
   "cell_type": "code",
   "execution_count": null,
   "metadata": {
    "collapsed": true
   },
   "outputs": [],
   "source": []
  }
 ],
 "metadata": {
  "kernelspec": {
   "display_name": "Python 2",
   "language": "python",
   "name": "python2"
  },
  "language_info": {
   "codemirror_mode": {
    "name": "ipython",
    "version": 2
   },
   "file_extension": ".py",
   "mimetype": "text/x-python",
   "name": "python",
   "nbconvert_exporter": "python",
   "pygments_lexer": "ipython2",
   "version": "2.7.12"
  }
 },
 "nbformat": 4,
 "nbformat_minor": 2
}
