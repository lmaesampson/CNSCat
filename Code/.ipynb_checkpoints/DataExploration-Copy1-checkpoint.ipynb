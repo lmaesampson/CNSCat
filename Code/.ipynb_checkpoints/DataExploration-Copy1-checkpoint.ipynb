{
 "cells": [
  {
   "cell_type": "code",
   "execution_count": 315,
   "metadata": {},
   "outputs": [],
   "source": [
    "#Libraries for math and data manipulation\n",
    "import numpy as np\n",
    "import pandas as pd\n",
    "import math\n",
    "import numpy.random as rand\n",
    "import scipy as sp\n",
    "import sys\n",
    "from datetime import datetime\n",
    "\n",
    "#Plotting stuff\n",
    "import matplotlib.pyplot as plt\n",
    "import seaborn\n",
    "import corner\n",
    "%matplotlib inline\n",
    "from matplotlib import rc\n",
    "rc('font',**{'family':'sans-serif','sans-serif':['Helvetica']})\n",
    "rc('text', usetex=True) #Want to be able to use tex in the plot labels\n",
    "seaborn.set_style('ticks')\n",
    "seaborn.set_color_codes()\n",
    "\n",
    "#Machine learning stuff\n",
    "from sklearn import tree\n",
    "from sklearn.tree import DecisionTreeClassifier   #This is a single decision tree\n",
    "from sklearn.ensemble import ExtraTreesClassifier #Random forest of trees\n",
    "import graphviz                                   #This package lets you visualize the tree\n",
    "from sklearn.metrics import classification_report, confusion_matrix  \n",
    "from sklearn.model_selection import train_test_split"
   ]
  },
  {
   "cell_type": "code",
   "execution_count": 316,
   "metadata": {},
   "outputs": [],
   "source": [
    "#Read in Stata datafile\n",
    "#data_stata = pd.io.stata.read_stata('../ProjectDef/cnsfinall2.dta')\n",
    "#Convert to .csv. Now you never need to do this again\n",
    "#data_stata.to_csv('../Data/cns_data.csv')"
   ]
  },
  {
   "cell_type": "code",
   "execution_count": 317,
   "metadata": {},
   "outputs": [],
   "source": [
    "data_raw = pd.read_csv(\"/Users/michael/Documents/Grad school other/ML/Data/cns_data.csv\")   #Using Pandas for data manipulation"
   ]
  },
  {
   "cell_type": "code",
   "execution_count": 318,
   "metadata": {},
   "outputs": [],
   "source": [
    "#Delete useless columns (like surename, initials, etc.)\n",
    "data_df = data_raw.drop(['surnamenam','patinit','patientreg','mothinit'],axis=1)"
   ]
  },
  {
   "cell_type": "markdown",
   "metadata": {},
   "source": [
    "Here are the actual diagnoses:"
   ]
  },
  {
   "cell_type": "code",
   "execution_count": 319,
   "metadata": {},
   "outputs": [
    {
     "data": {
      "text/plain": [
       "array(['malaria', '0.0', 'cereb malaria', 'virus-bacteria', 'bacteremia',\n",
       "       'bact meningitis', 'virus-other', 'virus-malaria',\n",
       "       'malaria-bacterial', 'tb', 'virus', 'crypto'], dtype=object)"
      ]
     },
     "execution_count": 319,
     "metadata": {},
     "output_type": "execute_result"
    }
   ],
   "source": [
    "data_df.diag.unique()"
   ]
  },
  {
   "cell_type": "code",
   "execution_count": 320,
   "metadata": {},
   "outputs": [],
   "source": [
    "#Adding a variable that is just 'month and day' - seems better to capture seasonality.\n",
    "data_df['month'] = pd.DatetimeIndex(data_df['incdate']).month\n",
    "data_df['day'] = pd.DatetimeIndex(data_df['incdate']).day\n",
    "data_df['monthday'] = data_df['month']*30+data_df['day']"
   ]
  },
  {
   "cell_type": "code",
   "execution_count": 321,
   "metadata": {},
   "outputs": [],
   "source": [
    "#sum(clin_df['incirrit'] == \"Don't know\")"
   ]
  },
  {
   "cell_type": "code",
   "execution_count": 322,
   "metadata": {},
   "outputs": [],
   "source": [
    "#Select input features\n",
    "#6-8 adding inclusion criteria and rdttest MLW\n",
    "clin_df = data_df.loc[:,['glasgtot','blanttot','clinjaund','clinhepato','clinspleno','clinconv','clindehyd',\\\n",
    "                          'clinoedem','clinlymph','clinresp','clinablung','clincyan','clincapref','clincoldext',\\\n",
    "                         'clinearinf','clinanemia','clintonsil','clinorcand','clinhemmor','clinaids',\\\n",
    "                         'abdpain','vom','diar','head','muscle','conv',\\\n",
    "                         'sex','ageyrs','agemth','incdate',\\\n",
    "                         'temp','card','resp','sbp','dbp','weight','height','muac',\\\n",
    "                          'mhhosp', 'mhdevsp', 'mhsickle', 'mhchronstat',\\\n",
    "                         'monthday','dimain', \\\n",
    "                         'incirrit', 'inchead', 'incphoto',\\\n",
    "                         'incfont', 'incneuro' , 'incseiza', 'incseizh',\\\n",
    "                          'incpurp','diag']] #This is the final diagnosis - will be the 'label'"
   ]
  },
  {
   "cell_type": "code",
   "execution_count": 323,
   "metadata": {},
   "outputs": [],
   "source": [
    "#Convert the date into a useful value. This just counts the days from the beginning of the dataset \n",
    "clin_df['incdate'] = pd.to_datetime(clin_df['incdate'])\n",
    "clin_df['date'] = (clin_df['incdate'] - clin_df['incdate'].min())  / np.timedelta64(1,'D')\n",
    "\n",
    "#Mapping yes/no to 1/0\n",
    "clin_df['clinjaund'] = clin_df.clinjaund.map({'Yes': 1, 'No': 0})\n",
    "clin_df['clinhepato'] = clin_df.clinhepato.map({'Yes': 1, 'No': 0})\n",
    "clin_df['clinspleno'] = clin_df.clinspleno.map({'Yes': 1, 'No': 0})\n",
    "clin_df['clinconv'] = clin_df.clinconv.map({'Yes': 1, 'No': 0})\n",
    "clin_df['clindehyd'] = clin_df.clindehyd.map({'Yes': 1, 'No': 0})\n",
    "clin_df['clinoedem'] = clin_df.clinoedem.map({'Yes': 1, 'No': 0})\n",
    "clin_df['clinlymph'] = clin_df.clinlymph.map({'Yes': 1, 'No': 0})\n",
    "clin_df['clinresp'] = clin_df.clinresp.map({'Yes': 1, 'No': 0})\n",
    "clin_df['clinablung'] = clin_df.clinablung.map({'Yes': 1, 'No': 0})\n",
    "clin_df['clincyan'] = clin_df.clincyan.map({'Yes': 1, 'No': 0})\n",
    "clin_df['clincapref'] = clin_df.clincapref.map({'Yes': 1, 'No': 0})\n",
    "clin_df['clincoldext'] = clin_df.clincoldext.map({'Yes': 1, 'No': 0})\n",
    "clin_df['clinearinf'] = clin_df.clinearinf.map({'Yes': 1, 'No': 0})\n",
    "clin_df['clintonsil'] = clin_df.clintonsil.map({'Yes': 1, 'No': 0})\n",
    "clin_df['clinorcand'] = clin_df.clinorcand.map({'Yes': 1, 'No': 0})\n",
    "clin_df['clinhemmor'] = clin_df.clinhemmor.map({'Yes': 1, 'No': 0})\n",
    "clin_df['clinaids'] = clin_df.clinaids.map({'Yes': 1, 'No': 0})\n",
    "clin_df['vom'] = clin_df.vom.map({'Yes': 1, 'No': 0})\n",
    "clin_df['diar'] = clin_df.diar.map({'Yes': 1, 'No': 0})\n",
    "clin_df['headache'] = clin_df['head'] #Since 'head' is a function\n",
    "clin_df['conv'] = clin_df.conv.map({'Yes': 1, 'No': 0})\n",
    "clin_df['ageym'] = clin_df.ageyrs.astype(float)*12.\n",
    "clin_df.agemth = clin_df.agemth.astype(float)\n",
    "clin_df['age'] = clin_df.ageym + clin_df.agemth\n",
    "\n",
    "\n",
    "#Medical history variables\n",
    "clin_df['mhhosp'] = clin_df.mhhosp.map({'Yes': 1, 'No':0})\n",
    "\n",
    "\n",
    "#some slightly more compliated mappings\n",
    "clin_df['abdpain'] = clin_df.abdpain.map({\"Don't know\":0, 'No':0, 'Yes':1, 'Not applicable':np.nan})\n",
    "clin_df['headache'] = clin_df.headache.map({\"Don't know\":0, 'No':0, 'Yes':1, 'Not applicable':0})\n",
    "clin_df['muscle'] = clin_df.muscle.map({\"Don't know\":0, 'No':0, 'Yes':1, 'Not applicable':np.nan})\n",
    "\n",
    "clin_df['dimain'] = clin_df.dimain.map({\"Cerebral Malaria\":0, \"Meningoencephalitis\":1, \"Meningitis\":2.,\\\n",
    "                                       \"Other\":3})\n",
    "\n",
    "clin_df['mhdevsp'] = clin_df.mhdevsp.map({'OTHER':1, 'GLOBAL DEVELOPMENTAL DELAY':1, 'HYDROCEPHALUS':1,\n",
    "       'HEARING LOSSES':1, 'MOTOR DEVELOPEMENTAL DELAY':1,\n",
    "       'SPEECH DEVELOPEMENTAL DELAY':1})\n",
    "\n",
    "#Mapping of inclusion variables 6-8 MLW\n",
    "clin_df['incirrit'] = clin_df.incirrit.map({\"Don't know\":0, 'No':0, 'Yes':1, 'Not applicable':0})\n",
    "clin_df['inchead'] = clin_df.inchead.map({\"Don't know\":0, 'No':0, 'Yes':1, 'Not applicable':0})\n",
    "clin_df['incphoto'] = clin_df.incphoto.map({\"Don't know\":0, 'No':0, 'Yes':1, 'Not applicable':0})\n",
    "clin_df['incfont'] = clin_df.incfont.map({\"Don't know\":0, 'No':0, 'Yes':1, 'Not applicable':0})\n",
    "clin_df['incneuro'] = clin_df.incneuro.map({\"Don't know\":0, 'No':0, 'Yes':1, 'Not applicable':0})\n",
    "clin_df['incseiza'] = clin_df.incseiza.map({\"Don't know\":0, 'No':0, 'Yes':1, 'Not applicable':0})\n",
    "clin_df['incseizh'] = clin_df.incseizh.map({\"Don't know\":0, 'No':0, 'Yes':1, 'Not applicable':0})\n",
    "clin_df['incpurp'] = clin_df.incpurp.map({\"Don't know\":0, 'No':0, 'Yes':1, 'Not applicable':0})\n",
    "\n",
    "\n",
    "#This coding is going to be important. You'll want to figure out which categories are useful, and which\n",
    "#are practical.\n",
    "clin_df['diag'] = clin_df.diag.map({'malaria':0, 'cereb malaria':0,'virus-malaria':0,\\\n",
    "                                    'virus-bacteria':1, 'bacteremia':1,'bact meningitis':1,\\\n",
    "                                    'virus-other':2,'virus':2,'malaria-bacterial':3,\\\n",
    "                                    'tb':4,'crypto':4, '0.0':5})"
   ]
  },
  {
   "cell_type": "code",
   "execution_count": 324,
   "metadata": {},
   "outputs": [],
   "source": [
    "#A lot of these have very few actual answers. i.e., 'headache.' What happens if you map 'nan' to 'No'?\n",
    "#This is probably something we'll want to play around with.\n",
    "values = {'clinjaund':0,'clinhepato':0,'clinaids':0,'clinhemmor':0,'clinorcand':0,'clintonsil':0,'clinearinf':0,\\\n",
    "          'clinresp':0,'clinlymph':0,'clindehyd':0,'clinoedem':0,'clinablung':0,'clincyan':0,'clincapref':0,\n",
    "          'clincoldext':0, 'mhchronstat':0, 'mhdevsp':0,\\\n",
    "         'conv':0,'abdpain':0,'vom':0,'diar':0,'headache':0,'muscle':0}\n",
    "clin_df = clin_df.fillna(value=values)"
   ]
  },
  {
   "cell_type": "code",
   "execution_count": 325,
   "metadata": {},
   "outputs": [
    {
     "name": "stdout",
     "output_type": "stream",
     "text": [
      "[0. 1. 2. 3.]\n"
     ]
    }
   ],
   "source": [
    "#You really shouldn't use the initial diagnosis as a continuous variable ,\n",
    "#you need to map it into a set of yes/no question.\n",
    "clin_df['CMalaria'] = clin_df.dimain.map({0:1,1:0,2:0,3:0})\n",
    "clin_df['Enceph'] = clin_df.dimain.map({0:0,1:1,2:0,3:0})\n",
    "clin_df['Mening'] = clin_df.dimain.map({0:0,1:0,2:1,3:0})\n",
    "clin_df['Other'] = clin_df.dimain.map({0:0,1:0,2:0,3:1})\n",
    "\n",
    "print(clin_df.dimain.unique())"
   ]
  },
  {
   "cell_type": "code",
   "execution_count": 326,
   "metadata": {},
   "outputs": [],
   "source": [
    "#Pick the features to classify with.\n",
    "Xlabels = ['CMalaria','Enceph','Mening','Other',\\\n",
    "                      'headache','age','temp','date',\\\n",
    "                      'clinjaund','clintonsil','clinhepato','clinaids','clinhemmor','clinorcand','clinearinf',\\\n",
    "                      'clinresp','clinlymph','clindehyd','clinoedem','clinablung','clincyan','clincapref',\\\n",
    "                      'glasgtot', 'dbp', 'sbp','resp','card','weight','height','muac',\\\n",
    "                      'mhhosp','mhchronstat', 'mhdevsp',\\\n",
    "                      'conv','abdpain','vom','diar','muscle','monthday',\\\n",
    "                      'incirrit', 'inchead', 'incphoto',\\\n",
    "                      'incfont', 'incneuro' , 'incseiza', 'incseizh',\\\n",
    "                      'incpurp'] #This is just for plotting.\n",
    "X_pd = clin_df.loc[:,['CMalaria','Enceph','Mening','Other',\\\n",
    "                      'headache','age','temp','date',\\\n",
    "                      'clinjaund','clintonsil','clinhepato','clinaids','clinhemmor','clinorcand','clinearinf',\\\n",
    "                      'clinresp','clinlymph','clindehyd','clinoedem','clinablung','clincyan','clincapref',\\\n",
    "                      'glasgtot', 'dbp', 'sbp','resp','card','weight','height','muac',\\\n",
    "                      'mhhosp','mhchronstat', 'mhdevsp',\\\n",
    "                      'conv','abdpain','vom','diar','muscle','monthday',\\\n",
    "                       'incirrit', 'inchead', 'incphoto',\\\n",
    "                      'incfont', 'incneuro' , 'incseiza', 'incseizh',\\\n",
    "                      'incpurp','diag']]\n",
    "X_pd = X_pd.dropna()  #Drop cases that have nan for *any* entry"
   ]
  },
  {
   "cell_type": "code",
   "execution_count": 327,
   "metadata": {},
   "outputs": [
    {
     "name": "stdout",
     "output_type": "stream",
     "text": [
      "361\n"
     ]
    }
   ],
   "source": [
    "#Get things into the correct format for scikit-learn. I've tried to use the convention throughout that variables\n",
    "#ending in 'pd' are pandas dataframes.\n",
    "Input = X_pd.as_matrix()        #creates a numpy array\n",
    "Features = Input[:,0:-1].copy() #separate the features and labels\n",
    "Labels = Input[:,-1].copy()\n",
    "ncase = len(Input[:,0])\n",
    "print(ncase)                     #checking that there are a reasonable number of cases left"
   ]
  },
  {
   "cell_type": "code",
   "execution_count": 328,
   "metadata": {},
   "outputs": [],
   "source": [
    "X = Features.copy()  #changing to X and y. For no real reason\n",
    "y = Labels.copy()"
   ]
  },
  {
   "cell_type": "code",
   "execution_count": 329,
   "metadata": {},
   "outputs": [
    {
     "name": "stdout",
     "output_type": "stream",
     "text": [
      "(361, 47)\n"
     ]
    }
   ],
   "source": [
    "#skl will split the data into training and test for you. Right now, I'm training on 2/3 of the data.\n",
    "X_train, X_test, y_train, y_test = train_test_split(X, y, test_size=0.33, random_state=42)\n",
    "print(np.shape(X))"
   ]
  },
  {
   "cell_type": "code",
   "execution_count": 330,
   "metadata": {},
   "outputs": [],
   "source": [
    "#Actual classifier. This is doing n_estimators trees, up to max_depth cuts. Something to play with.\n",
    "forest = ExtraTreesClassifier(n_estimators=20,\n",
    "                              random_state=0,max_depth=50 )\n",
    "\n",
    "#Fit the classifier.\n",
    "forest.fit(X_train, y_train)\n",
    "\n",
    "#extract the 'importances' of the features\n",
    "importances = forest.feature_importances_\n",
    "#calculate standard deviation\n",
    "std = np.std([tree.feature_importances_ for tree in forest.estimators_],\n",
    "             axis=0)\n",
    "indices = np.argsort(importances)[::-1]"
   ]
  },
  {
   "cell_type": "code",
   "execution_count": 331,
   "metadata": {},
   "outputs": [
    {
     "name": "stdout",
     "output_type": "stream",
     "text": [
      "Feature ranking:\n",
      "1. feature 0 (0.101819)\n",
      "2. feature 2 (0.054643)\n",
      "3. feature 1 (0.045922)\n",
      "4. feature 22 (0.044878)\n",
      "5. feature 24 (0.040474)\n",
      "6. feature 25 (0.039368)\n",
      "7. feature 29 (0.038060)\n",
      "8. feature 26 (0.037654)\n",
      "9. feature 7 (0.036647)\n",
      "10. feature 27 (0.036520)\n"
     ]
    },
    {
     "data": {
      "image/png": "[encoded data removed]",
      "text/plain": [
       "<matplotlib.figure.Figure at 0x1a0da32a20>"
      ]
     },
     "metadata": {},
     "output_type": "display_data"
    }
   ],
   "source": [
    "# Print the feature ranking\n",
    "Xlabels = np.array(Xlabels)\n",
    "PlotLabels = Xlabels[indices]\n",
    "print(\"Feature ranking:\")\n",
    "#for full feature listing use this as the range: X.shape[1]\n",
    "for f in range(10):\n",
    "    print(\"%d. feature %d (%f)\" % (f + 1, indices[f], importances[indices[f]]))\n",
    "\n",
    "# Plot the feature importances of the forest\n",
    "plt.figure(figsize=(15,10))\n",
    "plt.title(\"Feature importances\")\n",
    "plt.bar(range(X.shape[1]), importances[indices],\n",
    "       color=\"r\", yerr=std[indices], align=\"center\")\n",
    "plt.xticks(range(X.shape[1]), PlotLabels, rotation='vertical',fontsize=15)\n",
    "plt.xlim([-1, X.shape[1]])\n",
    "plt.ylim(0,0.15)\n",
    "plt.show()"
   ]
  },
  {
   "cell_type": "code",
   "execution_count": 313,
   "metadata": {},
   "outputs": [],
   "source": [
    "#Make the predictions on the test data\n",
    "y_pred_prob = forest.predict_proba(X_test)\n",
    "y_pred = forest.predict(X_test)"
   ]
  },
  {
   "cell_type": "code",
   "execution_count": 314,
   "metadata": {},
   "outputs": [
    {
     "name": "stdout",
     "output_type": "stream",
     "text": [
      "[[37  0  0 11]\n",
      " [ 2  1  0 11]\n",
      " [ 2  0  0  0]\n",
      " [ 9  2  0 45]]\n",
      "             precision    recall  f1-score   support\n",
      "\n",
      "        0.0       0.74      0.77      0.76        48\n",
      "        1.0       0.33      0.07      0.12        14\n",
      "        2.0       0.00      0.00      0.00         2\n",
      "        3.0       0.67      0.80      0.73        56\n",
      "\n",
      "avg / total       0.65      0.69      0.66       120\n",
      "\n"
     ]
    },
    {
     "name": "stderr",
     "output_type": "stream",
     "text": [
      "/anaconda3/lib/python3.6/site-packages/sklearn/metrics/classification.py:1135: UndefinedMetricWarning: Precision and F-score are ill-defined and being set to 0.0 in labels with no predicted samples.\n",
      "  'precision', 'predicted', average, warn_for)\n"
     ]
    }
   ],
   "source": [
    "#Print the confusion matrix:\n",
    "print(confusion_matrix(y_test,y_pred))\n",
    "print(classification_report(y_test,y_pred))"
   ]
  },
  {
   "cell_type": "code",
   "execution_count": 259,
   "metadata": {},
   "outputs": [],
   "source": [
    "#Because this is a random forest, the output is actually a probability of being in each class. So this is looking\n",
    "#at the maximum probability for each test case - it gives us a sense of how confident the classifier is in each\n",
    "#\n",
    "probmax = np.amax(y_pred_prob,axis=1)\n",
    "edges = np.linspace(0,1,101)"
   ]
  },
  {
   "cell_type": "code",
   "execution_count": 260,
   "metadata": {},
   "outputs": [
    {
     "data": {
      "image/png": "[encoded data removed]",
      "text/plain": [
       "<matplotlib.figure.Figure at 0x1a0deffac8>"
      ]
     },
     "metadata": {},
     "output_type": "display_data"
    }
   ],
   "source": [
    "a,b,c = plt.hist(probmax,bins=edges)"
   ]
  },
  {
   "cell_type": "code",
   "execution_count": 263,
   "metadata": {},
   "outputs": [
    {
     "data": {
      "text/plain": [
       "'\\ndot_data = tree.export_graphviz(clf, out_file=None) \\ngraph = graphviz.Source(dot_data)\\ngraph.render(\"iris\")\\n'"
      ]
     },
     "execution_count": 263,
     "metadata": {},
     "output_type": "execute_result"
    }
   ],
   "source": [
    "'''\n",
    "dot_data = tree.export_graphviz(clf, out_file=None) \n",
    "graph = graphviz.Source(dot_data)\n",
    "graph.render(\"iris\")\n",
    "'''"
   ]
  },
  {
   "cell_type": "code",
   "execution_count": 294,
   "metadata": {},
   "outputs": [
    {
     "data": {
      "text/plain": [
       "0      0\n",
       "2      0\n",
       "9      1\n",
       "12     0\n",
       "13     0\n",
       "18     0\n",
       "19     1\n",
       "20     0\n",
       "28     1\n",
       "30     0\n",
       "34     1\n",
       "39     0\n",
       "53     0\n",
       "60     0\n",
       "63     0\n",
       "66     1\n",
       "70     1\n",
       "80     0\n",
       "81     0\n",
       "82     1\n",
       "83     0\n",
       "84     0\n",
       "85     0\n",
       "86     1\n",
       "87     1\n",
       "89     1\n",
       "90     1\n",
       "91     1\n",
       "93     0\n",
       "95     1\n",
       "      ..\n",
       "442    1\n",
       "443    0\n",
       "444    1\n",
       "445    0\n",
       "446    0\n",
       "447    0\n",
       "448    1\n",
       "450    1\n",
       "452    1\n",
       "453    1\n",
       "454    0\n",
       "455    0\n",
       "459    1\n",
       "460    0\n",
       "461    1\n",
       "463    0\n",
       "464    0\n",
       "465    1\n",
       "466    1\n",
       "467    0\n",
       "469    0\n",
       "470    0\n",
       "471    0\n",
       "472    1\n",
       "473    0\n",
       "474    0\n",
       "475    0\n",
       "476    1\n",
       "477    0\n",
       "478    0\n",
       "Name: incseiza, Length: 361, dtype: int64"
      ]
     },
     "execution_count": 294,
     "metadata": {},
     "output_type": "execute_result"
    }
   ],
   "source": [
    "X_pd['incseiza']"
   ]
  },
  {
   "cell_type": "code",
   "execution_count": 295,
   "metadata": {},
   "outputs": [
    {
     "data": {
      "text/plain": [
       "0       No\n",
       "1      Yes\n",
       "2       No\n",
       "3       No\n",
       "4       No\n",
       "5      Yes\n",
       "6       No\n",
       "7       No\n",
       "8      Yes\n",
       "9      Yes\n",
       "10      No\n",
       "11      No\n",
       "12      No\n",
       "13      No\n",
       "14     Yes\n",
       "15      No\n",
       "16      No\n",
       "17     Yes\n",
       "18      No\n",
       "19     Yes\n",
       "20      No\n",
       "21     Yes\n",
       "22      No\n",
       "23      No\n",
       "24      No\n",
       "25      No\n",
       "26      No\n",
       "27      No\n",
       "28     Yes\n",
       "29     Yes\n",
       "      ... \n",
       "450    Yes\n",
       "451    Yes\n",
       "452    Yes\n",
       "453    Yes\n",
       "454     No\n",
       "455     No\n",
       "456    Yes\n",
       "457    Yes\n",
       "458    Yes\n",
       "459    Yes\n",
       "460     No\n",
       "461    Yes\n",
       "462    Yes\n",
       "463     No\n",
       "464     No\n",
       "465    Yes\n",
       "466    Yes\n",
       "467     No\n",
       "468     No\n",
       "469     No\n",
       "470     No\n",
       "471     No\n",
       "472    Yes\n",
       "473     No\n",
       "474     No\n",
       "475     No\n",
       "476    Yes\n",
       "477     No\n",
       "478     No\n",
       "479     No\n",
       "Name: incseiza, Length: 480, dtype: object"
      ]
     },
     "execution_count": 295,
     "metadata": {},
     "output_type": "execute_result"
    }
   ],
   "source": [
    "data_df['incseiza']"
   ]
  },
  {
   "cell_type": "code",
   "execution_count": null,
   "metadata": {},
   "outputs": [],
   "source": []
  }
 ],
 "metadata": {
  "kernelspec": {
   "display_name": "Python 3",
   "language": "python",
   "name": "python3"
  },
  "language_info": {
   "codemirror_mode": {
    "name": "ipython",
    "version": 3
   },
   "file_extension": ".py",
   "mimetype": "text/x-python",
   "name": "python",
   "nbconvert_exporter": "python",
   "pygments_lexer": "ipython3",
   "version": "3.6.4"
  }
 },
 "nbformat": 4,
 "nbformat_minor": 2
}
