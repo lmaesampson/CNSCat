{
 "cells": [
  {
   "cell_type": "code",
   "execution_count": 3,
   "metadata": {},
   "outputs": [],
   "source": [
    "#Libraries for math and data manipulation\n",
    "import numpy as np\n",
    "import pandas as pd\n",
    "import math\n",
    "import numpy.random as rand\n",
    "import scipy as sp\n",
    "import sys\n",
    "from datetime import datetime\n",
    "\n",
    "#Plotting stuff\n",
    "import matplotlib.pyplot as plt\n",
    "import seaborn\n",
    "import corner\n",
    "%matplotlib inline\n",
    "from matplotlib import rc\n",
    "rc('font',**{'family':'sans-serif','sans-serif':['Helvetica']})\n",
    "rc('text', usetex=True) #Want to be able to use tex in the plot labels\n",
    "seaborn.set_style('ticks')\n",
    "seaborn.set_color_codes()\n",
    "\n",
    "#Machine learning stuff\n",
    "from sklearn import tree\n",
    "from sklearn.tree import DecisionTreeClassifier   #This is a single decision tree\n",
    "from sklearn.ensemble import ExtraTreesClassifier #Random forest of trees\n",
    "import graphviz                                   #This package lets you visualize the tree\n",
    "from sklearn.metrics import classification_report, confusion_matrix  \n",
    "from sklearn.model_selection import train_test_split"
   ]
  },
  {
   "cell_type": "code",
   "execution_count": 4,
   "metadata": {},
   "outputs": [],
   "source": [
    "#Read in Stata datafile\n",
    "#data_stata = pd.io.stata.read_stata('../ProjectDef/cnsfinall2.dta')\n",
    "#Convert to .csv. Now you never need to do this again\n",
    "#data_stata.to_csv('../Data/cns_data.csv')"
   ]
  },
  {
   "cell_type": "code",
   "execution_count": 5,
   "metadata": {},
   "outputs": [],
   "source": [
    "data_raw = pd.read_csv('../Data/cns_data.csv')            #Using Pandas for data manipulation"
   ]
  },
  {
   "cell_type": "code",
   "execution_count": 6,
   "metadata": {},
   "outputs": [],
   "source": [
    "#Delete useless columns (like surename, initials, etc.)\n",
    "data_df = data_raw.drop(['surnamenam','patinit','patientreg','mothinit'],axis=1)"
   ]
  },
  {
   "cell_type": "markdown",
   "metadata": {},
   "source": [
    "Here are the actual diagnoses:"
   ]
  },
  {
   "cell_type": "code",
   "execution_count": 7,
   "metadata": {},
   "outputs": [
    {
     "data": {
      "text/plain": [
       "array(['malaria', '0.0', 'cereb malaria', 'virus-bacteria', 'bacteremia',\n",
       "       'bact meningitis', 'virus-other', 'virus-malaria',\n",
       "       'malaria-bacterial', 'tb', 'virus', 'crypto'], dtype=object)"
      ]
     },
     "execution_count": 7,
     "metadata": {},
     "output_type": "execute_result"
    }
   ],
   "source": [
    "data_df.diag.unique()"
   ]
  },
  {
   "cell_type": "code",
   "execution_count": 8,
   "metadata": {},
   "outputs": [],
   "source": [
    "#Adding a variable that is just 'month and day' - seems better to capture seasonality.\n",
    "data_df['month'] = pd.DatetimeIndex(data_df['incdate']).month\n",
    "data_df['day'] = pd.DatetimeIndex(data_df['incdate']).day\n",
    "data_df['monthday'] = data_df['month']*30+data_df['day']"
   ]
  },
  {
   "cell_type": "code",
   "execution_count": 9,
   "metadata": {},
   "outputs": [],
   "source": [
    "#Select input features\n",
    "clin_df = data_df.loc[:,['glasgtot','blanttot','clinjaund','clinhepato','clinspleno','clinconv','clindehyd',\\\n",
    "                          'clinoedem','clinlymph','clinresp','clinablung','clincyan','clincapref','clincoldext',\\\n",
    "                         'clinearinf','clinanemia','clintonsil','clinorcand','clinhemmor','clinaids',\\\n",
    "                         'abdpain','vom','diar','head','muscle','conv',\\\n",
    "                         'sex','ageyrs','agemth','incdate',\\\n",
    "                         'temp','card','resp','sbp','dbp','weight','height','muac',\\\n",
    "                          'mhhosp', 'mhdevsp', 'mhsickle', 'mhchronstat',\\\n",
    "                         'monthday','dimain',\\\n",
    "                         'diag']] #This is the final diagnosis - will be the 'label'"
   ]
  },
  {
   "cell_type": "code",
   "execution_count": 17,
   "metadata": {},
   "outputs": [],
   "source": [
    "#Convert the date into a useful value. This just counts the days from the beginning of the dataset \n",
    "clin_df['incdate'] = pd.to_datetime(clin_df['incdate'])\n",
    "clin_df['date'] = (clin_df['incdate'] - clin_df['incdate'].min())  / np.timedelta64(1,'D')\n",
    "\n",
    "#Mapping yes/no to 1/0\n",
    "clin_df['clinjaund'] = clin_df.clinjaund.map({'Yes': 1, 'No': 0})\n",
    "clin_df['clinhepato'] = clin_df.clinhepato.map({'Yes': 1, 'No': 0})\n",
    "clin_df['clinspleno'] = clin_df.clinspleno.map({'Yes': 1, 'No': 0})\n",
    "clin_df['clinconv'] = clin_df.clinconv.map({'Yes': 1, 'No': 0})\n",
    "clin_df['clindehyd'] = clin_df.clindehyd.map({'Yes': 1, 'No': 0})\n",
    "clin_df['clinoedem'] = clin_df.clinoedem.map({'Yes': 1, 'No': 0})\n",
    "clin_df['clinlymph'] = clin_df.clinlymph.map({'Yes': 1, 'No': 0})\n",
    "clin_df['clinresp'] = clin_df.clinresp.map({'Yes': 1, 'No': 0})\n",
    "clin_df['clinablung'] = clin_df.clinablung.map({'Yes': 1, 'No': 0})\n",
    "clin_df['clincyan'] = clin_df.clincyan.map({'Yes': 1, 'No': 0})\n",
    "clin_df['clincapref'] = clin_df.clincapref.map({'Yes': 1, 'No': 0})\n",
    "clin_df['clincoldext'] = clin_df.clincoldext.map({'Yes': 1, 'No': 0})\n",
    "clin_df['clinearinf'] = clin_df.clinearinf.map({'Yes': 1, 'No': 0})\n",
    "clin_df['clintonsil'] = clin_df.clintonsil.map({'Yes': 1, 'No': 0})\n",
    "clin_df['clinorcand'] = clin_df.clinorcand.map({'Yes': 1, 'No': 0})\n",
    "clin_df['clinhemmor'] = clin_df.clinhemmor.map({'Yes': 1, 'No': 0})\n",
    "clin_df['clinaids'] = clin_df.clinaids.map({'Yes': 1, 'No': 0})\n",
    "clin_df['vom'] = clin_df.vom.map({'Yes': 1, 'No': 0})\n",
    "clin_df['diar'] = clin_df.diar.map({'Yes': 1, 'No': 0})\n",
    "clin_df['headache'] = clin_df['head'] #Since 'head' is a function\n",
    "clin_df['conv'] = clin_df.conv.map({'Yes': 1, 'No': 0})\n",
    "clin_df['ageym'] = clin_df.ageyrs.astype(float)*12.\n",
    "clin_df.agemth = clin_df.agemth.astype(float)\n",
    "clin_df['age'] = clin_df.ageym + clin_df.agemth\n",
    "\n",
    "#Medical history variables\n",
    "clin_df['mhhosp'] = clin_df.mhhosp.map({'Yes': 1, 'No':0})\n",
    "\n",
    "\n",
    "#some slightly more compliated mappings\n",
    "clin_df['abdpain'] = clin_df.abdpain.map({\"Don't know\":0, 'No':0, 'Yes':1, 'Not applicable':np.nan})\n",
    "clin_df['headache'] = clin_df.headache.map({\"Don't know\":0, 'No':0, 'Yes':1, 'Not applicable':0})\n",
    "clin_df['muscle'] = clin_df.muscle.map({\"Don't know\":0, 'No':0, 'Yes':1, 'Not applicable':np.nan})\n",
    "\n",
    "clin_df['dimain'] = clin_df.dimain.map({\"Cerebral Malaria\":0, \"Meningoencephalitis\":1, \"Meningitis\":2.,\\\n",
    "                                       \"Other\":3})\n",
    "\n",
    "clin_df['mhdevsp'] = clin_df.mhdevsp.map({'OTHER':1, 'GLOBAL DEVELOPMENTAL DELAY':1, 'HYDROCEPHALUS':1,\n",
    "       'HEARING LOSSES':1, 'MOTOR DEVELOPEMENTAL DELAY':1,\n",
    "       'SPEECH DEVELOPEMENTAL DELAY':1})\n",
    "\n",
    "#This coding is going to be important. You'll want to figure out which categories are useful, and which\n",
    "#are practical.\n",
    "clin_df['diag'] = clin_df.diag.map({'malaria':0, 'cereb malaria':0,'virus-malaria':0,\\\n",
    "                                    'virus-bacteria':3, 'bacteremia':3,'bact meningitis':1,\\\n",
    "                                    'virus-other':3,'virus':3,'malaria-bacterial':2,\\\n",
    "                                    'tb':3,'crypto':3, '0.0':3})"
   ]
  },
  {
   "cell_type": "code",
   "execution_count": 18,
   "metadata": {},
   "outputs": [],
   "source": [
    "#A lot of these have very few actual answers. i.e., 'headache.' What happens if you map 'nan' to 'No'?\n",
    "#This is probably something we'll want to play around with.\n",
    "values = {'clinjaund':0,'clinhepato':0,'clinaids':0,'clinhemmor':0,'clinorcand':0,'clintonsil':0,'clinearinf':0,\\\n",
    "          'clinresp':0,'clinlymph':0,'clindehyd':0,'clinoedem':0,'clinablung':0,'clincyan':0,'clincapref':0,\n",
    "          'clincoldext':0, 'mhchronstat':0, 'mhdevsp':0,\\\n",
    "         'conv':0,'abdpain':0,'vom':0,'diar':0,'headache':0,'muscle':0}\n",
    "clin_df = clin_df.fillna(value=values)"
   ]
  },
  {
   "cell_type": "code",
   "execution_count": 19,
   "metadata": {},
   "outputs": [
    {
     "ename": "SyntaxError",
     "evalue": "invalid syntax (<ipython-input-19-98c6e3f029b3>, line 8)",
     "output_type": "error",
     "traceback": [
      "\u001b[0;36m  File \u001b[0;32m\"<ipython-input-19-98c6e3f029b3>\"\u001b[0;36m, line \u001b[0;32m8\u001b[0m\n\u001b[0;31m    print clin_df.dimain.unique()\u001b[0m\n\u001b[0m                ^\u001b[0m\n\u001b[0;31mSyntaxError\u001b[0m\u001b[0;31m:\u001b[0m invalid syntax\n"
     ]
    }
   ],
   "source": [
    "#You really shouldn't use the initial diagnosis as a continuous variable ,\n",
    "#you need to map it into a set of yes/no question.\n",
    "clin_df['CMalaria'] = clin_df.dimain.map({0:1,1:0,2:0,3:0})\n",
    "clin_df['Enceph'] = clin_df.dimain.map({0:0,1:1,2:0,3:0})\n",
    "clin_df['Mening'] = clin_df.dimain.map({0:0,1:0,2:1,3:0})\n",
    "clin_df['Other'] = clin_df.dimain.map({0:0,1:0,2:0,3:1})\n",
    "\n",
    "print clin_df.dimain.unique()"
   ]
  },
  {
   "cell_type": "code",
   "execution_count": 20,
   "metadata": {},
   "outputs": [
    {
     "name": "stderr",
     "output_type": "stream",
     "text": [
      "/anaconda3/lib/python3.6/site-packages/ipykernel_launcher.py:3: FutureWarning: \n",
      "Passing list-likes to .loc or [] with any missing label will raise\n",
      "KeyError in the future, you can use .reindex() as an alternative.\n",
      "\n",
      "See the documentation here:\n",
      "http://pandas.pydata.org/pandas-docs/stable/indexing.html#deprecate-loc-reindex-listlike\n",
      "  This is separate from the ipykernel package so we can avoid doing imports until\n",
      "/anaconda3/lib/python3.6/site-packages/pandas/core/indexing.py:1367: FutureWarning: \n",
      "Passing list-likes to .loc or [] with any missing label will raise\n",
      "KeyError in the future, you can use .reindex() as an alternative.\n",
      "\n",
      "See the documentation here:\n",
      "http://pandas.pydata.org/pandas-docs/stable/indexing.html#deprecate-loc-reindex-listlike\n",
      "  return self._getitem_tuple(key)\n"
     ]
    }
   ],
   "source": [
    "#Pick the features to classify with.\n",
    "Xlabels = ['CMalaria','Enceph','Mening','Other',\\\n",
    "                      'headache','age','temp','date',\\\n",
    "                      'clinjaund','clintonsil','clinhepato','clinaids','clinhemmor','clinorcand','clinearinf',\\\n",
    "                      'clinresp','clinlymph','clindehyd','clinoedem','clinablung','clincyan','clincapref',\\\n",
    "                      'glasgtot', 'dbp', 'sbp','resp','card','weight','height','muac',\\\n",
    "                      'mhhosp','mhchronstat', 'mhdevsp',\\\n",
    "                      'conv','abdpain','vom','diar','muscle','monthday'] #This is just for plotting.\n",
    "X_pd = clin_df.loc[:,['CMalaria','Enceph','Mening','Other',\\\n",
    "                      'headache','age','temp','date',\\\n",
    "                      'clinjaund','clintonsil','clinhepato','clinaids','clinhemmor','clinorcand','clinearinf',\\\n",
    "                      'clinresp','clinlymph','clindehyd','clinoedem','clinablung','clincyan','clincapref',\\\n",
    "                      'glasgtot', 'dbp', 'sbp','resp','card','weight','height','muac',\\\n",
    "                      'mhhosp','mhchronstat', 'mhdevsp',\\\n",
    "                      'conv','abdpain','vom','diar','muscle','monthday',\\\n",
    "                      'diag']]\n",
    "X_pd = X_pd.dropna()  #Drop cases that have nan for *any* entry"
   ]
  },
  {
   "cell_type": "code",
   "execution_count": 21,
   "metadata": {},
   "outputs": [
    {
     "ename": "SyntaxError",
     "evalue": "Missing parentheses in call to 'print'. Did you mean print(ncase                     #checking that there are a reasonable number of cases left)? (<ipython-input-21-0859484ddb72>, line 7)",
     "output_type": "error",
     "traceback": [
      "\u001b[0;36m  File \u001b[0;32m\"<ipython-input-21-0859484ddb72>\"\u001b[0;36m, line \u001b[0;32m7\u001b[0m\n\u001b[0;31m    print ncase                     #checking that there are a reasonable number of cases left\u001b[0m\n\u001b[0m              ^\u001b[0m\n\u001b[0;31mSyntaxError\u001b[0m\u001b[0;31m:\u001b[0m Missing parentheses in call to 'print'. Did you mean print(ncase                     #checking that there are a reasonable number of cases left)?\n"
     ]
    }
   ],
   "source": [
    "#Get things into the correct format for scikit-learn. I've tried to use the convention throughout that variables\n",
    "#ending in 'pd' are pandas dataframes.\n",
    "Input = X_pd.as_matrix()        #creates a numpy array\n",
    "Features = Input[:,0:-1].copy() #separate the features and labels\n",
    "Labels = Input[:,-1].copy()\n",
    "ncase = len(Input[:,0])\n",
    "print ncase                     #checking that there are a reasonable number of cases left"
   ]
  },
  {
   "cell_type": "code",
   "execution_count": 22,
   "metadata": {},
   "outputs": [
    {
     "ename": "NameError",
     "evalue": "name 'Features' is not defined",
     "output_type": "error",
     "traceback": [
      "\u001b[0;31m---------------------------------------------------------------------------\u001b[0m",
      "\u001b[0;31mNameError\u001b[0m                                 Traceback (most recent call last)",
      "\u001b[0;32m<ipython-input-22-884cd21a512f>\u001b[0m in \u001b[0;36m<module>\u001b[0;34m()\u001b[0m\n\u001b[0;32m----> 1\u001b[0;31m \u001b[0mX\u001b[0m \u001b[0;34m=\u001b[0m \u001b[0mFeatures\u001b[0m\u001b[0;34m.\u001b[0m\u001b[0mcopy\u001b[0m\u001b[0;34m(\u001b[0m\u001b[0;34m)\u001b[0m  \u001b[0;31m#changing to X and y. For no real reason\u001b[0m\u001b[0;34m\u001b[0m\u001b[0m\n\u001b[0m\u001b[1;32m      2\u001b[0m \u001b[0my\u001b[0m \u001b[0;34m=\u001b[0m \u001b[0mLabels\u001b[0m\u001b[0;34m.\u001b[0m\u001b[0mcopy\u001b[0m\u001b[0;34m(\u001b[0m\u001b[0;34m)\u001b[0m\u001b[0;34m\u001b[0m\u001b[0m\n",
      "\u001b[0;31mNameError\u001b[0m: name 'Features' is not defined"
     ]
    }
   ],
   "source": [
    "X = Features.copy()  #changing to X and y. For no real reason\n",
    "y = Labels.copy()"
   ]
  },
  {
   "cell_type": "code",
   "execution_count": 23,
   "metadata": {},
   "outputs": [
    {
     "ename": "SyntaxError",
     "evalue": "invalid syntax (<ipython-input-23-ed34ff33e9c4>, line 3)",
     "output_type": "error",
     "traceback": [
      "\u001b[0;36m  File \u001b[0;32m\"<ipython-input-23-ed34ff33e9c4>\"\u001b[0;36m, line \u001b[0;32m3\u001b[0m\n\u001b[0;31m    print np.shape(X)\u001b[0m\n\u001b[0m           ^\u001b[0m\n\u001b[0;31mSyntaxError\u001b[0m\u001b[0;31m:\u001b[0m invalid syntax\n"
     ]
    }
   ],
   "source": [
    "#skl will split the data into training and test for you. Right now, I'm training on 2/3 of the data.\n",
    "X_train, X_test, y_train, y_test = train_test_split(X, y, test_size=0.33, random_state=42)\n",
    "print np.shape(X)"
   ]
  },
  {
   "cell_type": "code",
<<<<<<< HEAD
   "execution_count": 32,
   "metadata": {
    "collapsed": false
   },
   "outputs": [],
=======
   "execution_count": 24,
   "metadata": {},
   "outputs": [
    {
     "ename": "NameError",
     "evalue": "name 'X_train' is not defined",
     "output_type": "error",
     "traceback": [
      "\u001b[0;31m---------------------------------------------------------------------------\u001b[0m",
      "\u001b[0;31mNameError\u001b[0m                                 Traceback (most recent call last)",
      "\u001b[0;32m<ipython-input-24-7f61bd9c2e07>\u001b[0m in \u001b[0;36m<module>\u001b[0;34m()\u001b[0m\n\u001b[1;32m      4\u001b[0m \u001b[0;34m\u001b[0m\u001b[0m\n\u001b[1;32m      5\u001b[0m \u001b[0;31m#Fit the classifier.\u001b[0m\u001b[0;34m\u001b[0m\u001b[0;34m\u001b[0m\u001b[0m\n\u001b[0;32m----> 6\u001b[0;31m \u001b[0mforest\u001b[0m\u001b[0;34m.\u001b[0m\u001b[0mfit\u001b[0m\u001b[0;34m(\u001b[0m\u001b[0mX_train\u001b[0m\u001b[0;34m,\u001b[0m \u001b[0my_train\u001b[0m\u001b[0;34m)\u001b[0m\u001b[0;34m\u001b[0m\u001b[0m\n\u001b[0m\u001b[1;32m      7\u001b[0m \u001b[0;34m\u001b[0m\u001b[0m\n\u001b[1;32m      8\u001b[0m \u001b[0;31m#extract the 'importances' of the features\u001b[0m\u001b[0;34m\u001b[0m\u001b[0;34m\u001b[0m\u001b[0m\n",
      "\u001b[0;31mNameError\u001b[0m: name 'X_train' is not defined"
     ]
    }
   ],
>>>>>>> cb505eb1555fd151248504e7590f29f966b1f29b
   "source": [
    "#Actual classifier. This is doing n_estimators trees, up to max_depth cuts. Something to play with.\n",
    "forest = ExtraTreesClassifier(n_estimators=100,\n",
    "                              random_state=0,max_depth=50 )\n",
    "\n",
    "#Fit the classifier.\n",
    "forest.fit(X_train, y_train)\n",
    "\n",
    "#extract the 'importances' of the features\n",
    "importances = forest.feature_importances_\n",
    "#calculate standard deviation\n",
    "std = np.std([tree.feature_importances_ for tree in forest.estimators_],\n",
    "             axis=0)\n",
    "indices = np.argsort(importances)[::-1]"
   ]
  },
  {
   "cell_type": "code",
<<<<<<< HEAD
   "execution_count": 33,
   "metadata": {
    "collapsed": false
   },
   "outputs": [
    {
     "name": "stdout",
     "output_type": "stream",
     "text": [
      "Feature ranking:\n",
      "1. feature 0 (0.102099)\n",
      "2. feature 1 (0.061053)\n",
      "3. feature 2 (0.059027)\n",
      "4. feature 22 (0.055346)\n",
      "5. feature 7 (0.043625)\n",
      "6. feature 6 (0.043021)\n",
      "7. feature 24 (0.041677)\n",
      "8. feature 26 (0.041161)\n",
      "9. feature 28 (0.041115)\n",
      "10. feature 29 (0.041028)\n"
     ]
    },
    {
     "data": {
      "image/png": "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\n",
      "text/plain": [
       "<matplotlib.figure.Figure at 0x111ede610>"
      ]
     },
     "metadata": {},
     "output_type": "display_data"
=======
   "execution_count": 25,
   "metadata": {},
   "outputs": [
    {
     "ename": "NameError",
     "evalue": "name 'indices' is not defined",
     "output_type": "error",
     "traceback": [
      "\u001b[0;31m---------------------------------------------------------------------------\u001b[0m",
      "\u001b[0;31mNameError\u001b[0m                                 Traceback (most recent call last)",
      "\u001b[0;32m<ipython-input-25-8c6dbeee9ecc>\u001b[0m in \u001b[0;36m<module>\u001b[0;34m()\u001b[0m\n\u001b[1;32m      1\u001b[0m \u001b[0;31m# Print the feature ranking\u001b[0m\u001b[0;34m\u001b[0m\u001b[0;34m\u001b[0m\u001b[0m\n\u001b[1;32m      2\u001b[0m \u001b[0mXlabels\u001b[0m \u001b[0;34m=\u001b[0m \u001b[0mnp\u001b[0m\u001b[0;34m.\u001b[0m\u001b[0marray\u001b[0m\u001b[0;34m(\u001b[0m\u001b[0mXlabels\u001b[0m\u001b[0;34m)\u001b[0m\u001b[0;34m\u001b[0m\u001b[0m\n\u001b[0;32m----> 3\u001b[0;31m \u001b[0mPlotLabels\u001b[0m \u001b[0;34m=\u001b[0m \u001b[0mXlabels\u001b[0m\u001b[0;34m[\u001b[0m\u001b[0mindices\u001b[0m\u001b[0;34m]\u001b[0m\u001b[0;34m\u001b[0m\u001b[0m\n\u001b[0m\u001b[1;32m      4\u001b[0m \u001b[0mprint\u001b[0m\u001b[0;34m(\u001b[0m\u001b[0;34m\"Feature ranking:\"\u001b[0m\u001b[0;34m)\u001b[0m\u001b[0;34m\u001b[0m\u001b[0m\n\u001b[1;32m      5\u001b[0m \u001b[0;31m#for full feature listing use this as the range: X.shape[1]\u001b[0m\u001b[0;34m\u001b[0m\u001b[0;34m\u001b[0m\u001b[0m\n",
      "\u001b[0;31mNameError\u001b[0m: name 'indices' is not defined"
     ]
>>>>>>> cb505eb1555fd151248504e7590f29f966b1f29b
    }
   ],
   "source": [
    "# Print the feature ranking\n",
    "Xlabels = np.array(Xlabels)\n",
    "PlotLabels = Xlabels[indices]\n",
    "print(\"Feature ranking:\")\n",
    "#for full feature listing use this as the range: X.shape[1]\n",
    "for f in range(10):\n",
    "    print(\"%d. feature %d (%f)\" % (f + 1, indices[f], importances[indices[f]]))\n",
    "\n",
    "# Plot the feature importances of the forest\n",
    "plt.figure(figsize=(15,10))\n",
    "plt.title(\"Feature importances\")\n",
    "plt.bar(range(X.shape[1]), importances[indices],\n",
    "       color=\"r\", yerr=std[indices], align=\"center\")\n",
    "plt.xticks(range(X.shape[1]), PlotLabels, rotation='vertical',fontsize=15)\n",
    "plt.xlim([-1, X.shape[1]])\n",
    "plt.ylim(0,0.15)\n",
    "plt.show()"
   ]
  },
  {
   "cell_type": "code",
<<<<<<< HEAD
   "execution_count": 34,
   "metadata": {
    "collapsed": false
   },
=======
   "execution_count": 29,
   "metadata": {},
>>>>>>> cb505eb1555fd151248504e7590f29f966b1f29b
   "outputs": [],
   "source": [
    "#Make the predictions on the test data\n",
    "y_pred_prob = forest.predict_proba(X_test)\n",
    "y_pred = forest.predict(X_test)"
   ]
  },
  {
   "cell_type": "code",
<<<<<<< HEAD
   "execution_count": 35,
   "metadata": {
    "collapsed": false
   },
=======
   "execution_count": 30,
   "metadata": {},
>>>>>>> cb505eb1555fd151248504e7590f29f966b1f29b
   "outputs": [
    {
     "name": "stdout",
     "output_type": "stream",
     "text": [
      "[[40  0  0  0  8]\n",
      " [ 1  3  0  0 15]\n",
      " [ 0  0  0  0  5]\n",
      " [ 2  0  0  0  0]\n",
      " [ 8  5  0  0 33]]\n",
      "             precision    recall  f1-score   support\n",
      "\n",
      "        0.0       0.78      0.83      0.81        48\n",
      "        1.0       0.38      0.16      0.22        19\n",
      "        2.0       0.00      0.00      0.00         5\n",
      "        3.0       0.00      0.00      0.00         2\n",
      "        5.0       0.54      0.72      0.62        46\n",
      "\n",
      "avg / total       0.58      0.63      0.59       120\n",
      "\n"
     ]
    }
   ],
   "source": [
    "#Print the confusion matrix:\n",
    "print confusion_matrix(y_test,y_pred)\n",
    "print classification_report(y_test,y_pred)"
   ]
  },
  {
   "cell_type": "code",
<<<<<<< HEAD
   "execution_count": 36,
   "metadata": {
    "collapsed": false
   },
=======
   "execution_count": null,
   "metadata": {},
>>>>>>> cb505eb1555fd151248504e7590f29f966b1f29b
   "outputs": [],
   "source": [
    "#Because this is a random forest, the output is actually a probability of being in each class. So this is looking\n",
    "#at the maximum probability for each test case - it gives us a sense of how confident the classifier is in each\n",
    "#diagnosis.\n",
    "probmax = np.amax(y_pred_prob,axis=1)"
   ]
  },
  {
   "cell_type": "code",
<<<<<<< HEAD
   "execution_count": 37,
   "metadata": {
    "collapsed": false
   },
   "outputs": [
    {
     "data": {
      "image/png": "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\n",
      "text/plain": [
       "<matplotlib.figure.Figure at 0x110a3e5d0>"
      ]
     },
     "metadata": {},
     "output_type": "display_data"
    }
   ],
=======
   "execution_count": null,
   "metadata": {},
   "outputs": [],
>>>>>>> cb505eb1555fd151248504e7590f29f966b1f29b
   "source": [
    "#Make a histogram of these probabilities\n",
    "edges = np.linspace(0,1,101)\n",
    "a,b,c = plt.hist(probmax,bins=edges)"
   ]
  },
  {
   "cell_type": "code",
   "execution_count": null,
   "metadata": {},
   "outputs": [],
   "source": [
    "'''\n",
    "dot_data = tree.export_graphviz(clf, out_file=None) \n",
    "graph = graphviz.Source(dot_data)\n",
    "graph.render(\"iris\")\n",
    "'''"
   ]
  },
  {
   "cell_type": "code",
   "execution_count": 15,
   "metadata": {},
   "outputs": [
    {
     "ename": "NameError",
     "evalue": "name 'y' is not defined",
     "output_type": "error",
     "traceback": [
      "\u001b[0;31m---------------------------------------------------------------------------\u001b[0m",
      "\u001b[0;31mNameError\u001b[0m                                 Traceback (most recent call last)",
      "\u001b[0;32m<ipython-input-15-9063a9f0e032>\u001b[0m in \u001b[0;36m<module>\u001b[0;34m()\u001b[0m\n\u001b[0;32m----> 1\u001b[0;31m \u001b[0my\u001b[0m\u001b[0;34m\u001b[0m\u001b[0m\n\u001b[0m",
      "\u001b[0;31mNameError\u001b[0m: name 'y' is not defined"
     ]
    }
   ],
   "source": [
    "y"
   ]
  },
  {
   "cell_type": "code",
   "execution_count": null,
   "metadata": {},
   "outputs": [],
   "source": []
  }
 ],
 "metadata": {
  "kernelspec": {
   "display_name": "Python 3",
   "language": "python",
   "name": "python3"
  },
  "language_info": {
   "codemirror_mode": {
    "name": "ipython",
    "version": 3
   },
   "file_extension": ".py",
   "mimetype": "text/x-python",
   "name": "python",
   "nbconvert_exporter": "python",
   "pygments_lexer": "ipython3",
   "version": "3.6.4"
  }
 },
 "nbformat": 4,
 "nbformat_minor": 2
}
