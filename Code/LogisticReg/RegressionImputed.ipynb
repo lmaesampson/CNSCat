{
 "cells": [
  {
   "cell_type": "markdown",
   "metadata": {},
   "source": [
    "Install most current PyMC3"
   ]
  },
  {
   "cell_type": "code",
   "execution_count": 1,
   "metadata": {},
   "outputs": [
    {
     "name": "stdout",
     "output_type": "stream",
     "text": [
      "Collecting git+https://github.com/pymc-devs/pymc3.git\n",
      "  Cloning https://github.com/pymc-devs/pymc3.git to /tmp/pip-req-build-c3kn658j\n",
      "Collecting theano>=1.0.4 (from pymc3==3.6)\n",
      "\u001b[?25l  Downloading https://files.pythonhosted.org/packages/7d/c4/6341148ad458b6cd8361b774d7ee6895c38eab88f05331f22304c484ed5d/Theano-1.0.4.tar.gz (2.8MB)\n",
      "\u001b[K    100% |████████████████████████████████| 2.8MB 11.3MB/s \n",
      "\u001b[?25hRequirement already satisfied, skipping upgrade: numpy>=1.13.0 in /home/fonnesbeck/anaconda3/envs/dev/lib/python3.6/site-packages (from pymc3==3.6) (1.14.3)\n",
      "Requirement already satisfied, skipping upgrade: scipy>=0.18.1 in /home/fonnesbeck/anaconda3/envs/dev/lib/python3.6/site-packages (from pymc3==3.6) (1.1.0)\n",
      "Requirement already satisfied, skipping upgrade: pandas>=0.18.0 in /home/fonnesbeck/anaconda3/envs/dev/lib/python3.6/site-packages (from pymc3==3.6) (0.23.4)\n",
      "Requirement already satisfied, skipping upgrade: patsy>=0.4.0 in /home/fonnesbeck/anaconda3/envs/dev/lib/python3.6/site-packages (from pymc3==3.6) (0.5.1)\n",
      "Requirement already satisfied, skipping upgrade: tqdm>=4.8.4 in /home/fonnesbeck/anaconda3/envs/dev/lib/python3.6/site-packages (from pymc3==3.6) (4.23.3)\n",
      "Requirement already satisfied, skipping upgrade: h5py>=2.7.0 in /home/fonnesbeck/anaconda3/envs/dev/lib/python3.6/site-packages (from pymc3==3.6) (2.8.0)\n",
      "Requirement already satisfied, skipping upgrade: six>=1.9.0 in /home/fonnesbeck/anaconda3/envs/dev/lib/python3.6/site-packages (from theano>=1.0.4->pymc3==3.6) (1.12.0)\n",
      "Requirement already satisfied, skipping upgrade: python-dateutil>=2.5.0 in /home/fonnesbeck/anaconda3/envs/dev/lib/python3.6/site-packages (from pandas>=0.18.0->pymc3==3.6) (2.7.5)\n",
      "Requirement already satisfied, skipping upgrade: pytz>=2011k in /home/fonnesbeck/anaconda3/envs/dev/lib/python3.6/site-packages (from pandas>=0.18.0->pymc3==3.6) (2018.7)\n",
      "Building wheels for collected packages: pymc3, theano\n",
      "  Running setup.py bdist_wheel for pymc3 ... \u001b[?25ldone\n",
      "\u001b[?25h  Stored in directory: /tmp/pip-ephem-wheel-cache-w_6fz8qr/wheels/00/66/95/56ef7fc0279ccee186eb72eb3360f5978767d069c005eb64bd\n",
      "  Running setup.py bdist_wheel for theano ... \u001b[?25ldone\n",
      "\u001b[?25h  Stored in directory: /home/fonnesbeck/.cache/pip/wheels/88/fb/be/483910ff7e9f703f30a10605ad7605f3316493875c86637014\n",
      "Successfully built pymc3 theano\n",
      "Installing collected packages: theano, pymc3\n",
      "  Found existing installation: Theano 1.0.3\n",
      "    Uninstalling Theano-1.0.3:\n",
      "      Successfully uninstalled Theano-1.0.3\n",
      "  Found existing installation: pymc3 3.6\n",
      "    Uninstalling pymc3-3.6:\n",
      "      Successfully uninstalled pymc3-3.6\n",
      "Successfully installed pymc3-3.6 theano-1.0.4\n"
     ]
    }
   ],
   "source": [
    "!pip install -U git+https://github.com/pymc-devs/pymc3.git"
   ]
  },
  {
   "cell_type": "code",
   "execution_count": 1,
   "metadata": {
    "scrolled": true
   },
   "outputs": [],
   "source": [
    "%reset -f\n",
    "%matplotlib inline\n",
    "import warnings\n",
    "warnings.filterwarnings('ignore')\n",
    "\n",
    "import numpy as np\n",
    "import pandas as pd\n",
    "import pymc3 as pm\n",
    "import seaborn as sns\n",
    "import os,sys,inspect\n",
    "import pandas\n",
    "import numpy as np\n",
    "import pandas as pd\n",
    "from sklearn import metrics\n",
    "from sklearn.metrics import roc_auc_score, log_loss, roc_auc_score, roc_curve, auc\n",
    "from sklearn.model_selection import StratifiedKFold, ShuffleSplit, cross_val_score, train_test_split\n",
    "import matplotlib.pyplot as plt\n",
    "pd.set_option('display.max_columns', None)\n",
    "import scipy as sp\n",
    "import theano.tensor as t"
   ]
  },
  {
   "cell_type": "code",
   "execution_count": 2,
   "metadata": {},
   "outputs": [],
   "source": [
    "DATA_DIR = '../../Data/'"
   ]
  },
  {
   "cell_type": "code",
   "execution_count": 3,
   "metadata": {},
   "outputs": [],
   "source": [
    "#read in dataset created in imputation notebook\n",
    "data = pd.read_csv(DATA_DIR + \"CleanedForRegression.csv\")\n",
    "#recode sex to female for indicator of being female in keepign with other variable coding\n",
    "data['female'] = data['sex'] - 1\n",
    "#drop data that is irrelevant or duplicated in other columms (ie just keep 1 indicator of age etc)\n",
    "data = data.drop(['Unnamed: 0', 'incdate', 'agemth', 'incdate', 'incyear', 'incmonth', 'ageyrs', 'ageym', 'dimain' , 'dimainsp','sex'], axis = 1)\n"
   ]
  },
  {
   "cell_type": "code",
   "execution_count": 4,
   "metadata": {},
   "outputs": [],
   "source": [
    "import theano.tensor as tt\n",
    "softmax = tt.nnet.softmax"
   ]
  },
  {
   "cell_type": "code",
   "execution_count": 5,
   "metadata": {
    "scrolled": true
   },
   "outputs": [],
   "source": [
    "y = data['diag'].values"
   ]
  },
  {
   "cell_type": "code",
   "execution_count": 6,
   "metadata": {},
   "outputs": [],
   "source": [
    "#Imputation func from Fonnesbeck Enrollment Model.ipynb from infant_hearing_intervention\n",
    "def fillna(x, value):\n",
    "    x_masked = np.ma.masked_invalid(x)\n",
    "    np.ma.set_fill_value(x_masked, value)\n",
    "    return x_masked"
   ]
  },
  {
   "cell_type": "code",
   "execution_count": 7,
   "metadata": {},
   "outputs": [
    {
     "data": {
      "text/plain": [
       "temp           0\n",
       "glasgtot      53\n",
       "female         0\n",
       "rdtresult     10\n",
       "vacmen        77\n",
       "incphoto     204\n",
       "incirrit      17\n",
       "sbp           79\n",
       "muac           6\n",
       "incfont      205\n",
       "incneck        7\n",
       "incseiza       1\n",
       "incseizh       3\n",
       "age            0\n",
       "dtype: int64"
      ]
     },
     "execution_count": 7,
     "metadata": {},
     "output_type": "execute_result"
    }
   ],
   "source": [
    "variable_cols = ['temp', 'glasgtot', 'female', 'rdtresult', 'vacmen', 'incphoto', 'incirrit', \n",
    "                'sbp', 'muac', 'incfont', 'incneck', 'incseiza', 'incseizh', 'age']\n",
    "\n",
    "data[variable_cols].isnull().sum()"
   ]
  },
  {
   "cell_type": "code",
   "execution_count": 8,
   "metadata": {},
   "outputs": [
    {
     "data": {
      "text/html": [
       "<div>\n",
       "<style scoped>\n",
       "    .dataframe tbody tr th:only-of-type {\n",
       "        vertical-align: middle;\n",
       "    }\n",
       "\n",
       "    .dataframe tbody tr th {\n",
       "        vertical-align: top;\n",
       "    }\n",
       "\n",
       "    .dataframe thead th {\n",
       "        text-align: right;\n",
       "    }\n",
       "</style>\n",
       "<table border=\"1\" class=\"dataframe\">\n",
       "  <thead>\n",
       "    <tr style=\"text-align: right;\">\n",
       "      <th></th>\n",
       "      <th>temp</th>\n",
       "      <th>glasgtot</th>\n",
       "      <th>female</th>\n",
       "      <th>rdtresult</th>\n",
       "      <th>vacmen</th>\n",
       "      <th>incphoto</th>\n",
       "      <th>incirrit</th>\n",
       "      <th>sbp</th>\n",
       "      <th>muac</th>\n",
       "      <th>incfont</th>\n",
       "      <th>incneck</th>\n",
       "      <th>incseiza</th>\n",
       "      <th>incseizh</th>\n",
       "      <th>age</th>\n",
       "    </tr>\n",
       "  </thead>\n",
       "  <tbody>\n",
       "    <tr>\n",
       "      <th>0</th>\n",
       "      <td>38.6</td>\n",
       "      <td>15.0</td>\n",
       "      <td>0</td>\n",
       "      <td>1.0</td>\n",
       "      <td>0.0</td>\n",
       "      <td>0.0</td>\n",
       "      <td>1.0</td>\n",
       "      <td>137.0</td>\n",
       "      <td>16.0</td>\n",
       "      <td>NaN</td>\n",
       "      <td>0.0</td>\n",
       "      <td>0.0</td>\n",
       "      <td>0.0</td>\n",
       "      <td>36.0</td>\n",
       "    </tr>\n",
       "    <tr>\n",
       "      <th>1</th>\n",
       "      <td>38.4</td>\n",
       "      <td>NaN</td>\n",
       "      <td>0</td>\n",
       "      <td>1.0</td>\n",
       "      <td>NaN</td>\n",
       "      <td>NaN</td>\n",
       "      <td>0.0</td>\n",
       "      <td>99.0</td>\n",
       "      <td>13.0</td>\n",
       "      <td>NaN</td>\n",
       "      <td>0.0</td>\n",
       "      <td>1.0</td>\n",
       "      <td>0.0</td>\n",
       "      <td>30.0</td>\n",
       "    </tr>\n",
       "    <tr>\n",
       "      <th>2</th>\n",
       "      <td>35.9</td>\n",
       "      <td>11.0</td>\n",
       "      <td>1</td>\n",
       "      <td>1.0</td>\n",
       "      <td>1.0</td>\n",
       "      <td>0.0</td>\n",
       "      <td>0.0</td>\n",
       "      <td>81.0</td>\n",
       "      <td>16.0</td>\n",
       "      <td>NaN</td>\n",
       "      <td>0.0</td>\n",
       "      <td>0.0</td>\n",
       "      <td>1.0</td>\n",
       "      <td>41.0</td>\n",
       "    </tr>\n",
       "    <tr>\n",
       "      <th>3</th>\n",
       "      <td>37.0</td>\n",
       "      <td>NaN</td>\n",
       "      <td>0</td>\n",
       "      <td>0.0</td>\n",
       "      <td>0.0</td>\n",
       "      <td>0.0</td>\n",
       "      <td>0.0</td>\n",
       "      <td>106.0</td>\n",
       "      <td>16.0</td>\n",
       "      <td>NaN</td>\n",
       "      <td>0.0</td>\n",
       "      <td>0.0</td>\n",
       "      <td>1.0</td>\n",
       "      <td>23.0</td>\n",
       "    </tr>\n",
       "    <tr>\n",
       "      <th>4</th>\n",
       "      <td>38.1</td>\n",
       "      <td>8.0</td>\n",
       "      <td>0</td>\n",
       "      <td>1.0</td>\n",
       "      <td>0.0</td>\n",
       "      <td>0.0</td>\n",
       "      <td>0.0</td>\n",
       "      <td>NaN</td>\n",
       "      <td>15.0</td>\n",
       "      <td>NaN</td>\n",
       "      <td>0.0</td>\n",
       "      <td>0.0</td>\n",
       "      <td>1.0</td>\n",
       "      <td>51.0</td>\n",
       "    </tr>\n",
       "  </tbody>\n",
       "</table>\n",
       "</div>"
      ],
      "text/plain": [
       "   temp  glasgtot  female  rdtresult  vacmen  incphoto  incirrit    sbp  muac  \\\n",
       "0  38.6      15.0       0        1.0     0.0       0.0       1.0  137.0  16.0   \n",
       "1  38.4       NaN       0        1.0     NaN       NaN       0.0   99.0  13.0   \n",
       "2  35.9      11.0       1        1.0     1.0       0.0       0.0   81.0  16.0   \n",
       "3  37.0       NaN       0        0.0     0.0       0.0       0.0  106.0  16.0   \n",
       "4  38.1       8.0       0        1.0     0.0       0.0       0.0    NaN  15.0   \n",
       "\n",
       "   incfont  incneck  incseiza  incseizh   age  \n",
       "0      NaN      0.0       0.0       0.0  36.0  \n",
       "1      NaN      0.0       1.0       0.0  30.0  \n",
       "2      NaN      0.0       0.0       1.0  41.0  \n",
       "3      NaN      0.0       0.0       1.0  23.0  \n",
       "4      NaN      0.0       0.0       1.0  51.0  "
      ]
     },
     "execution_count": 8,
     "metadata": {},
     "output_type": "execute_result"
    }
   ],
   "source": [
    "data[variable_cols].head()"
   ]
  },
  {
   "cell_type": "code",
   "execution_count": 9,
   "metadata": {},
   "outputs": [],
   "source": [
    "(temp, glasgtot, female, rdtresult, \n",
    " vacmen, incphoto, incirrit, \n",
    " sbp, muac, incfont, incneck, \n",
    " incseiza, incseizh, age) = data.fillna({'incseiza':0}).assign(glasgtot=data.glasgtot - 3,\n",
    "                                                              sbp=data.sbp - data.sbp.mean(),\n",
    "                                                              muac=data.muac - data.muac.mean(),\n",
    "                                                              age=data.age - data.age.mean(),\n",
    "                                                              temp=data.temp - data.temp.min())[variable_cols].values.T"
   ]
  },
  {
   "cell_type": "code",
   "execution_count": 10,
   "metadata": {},
   "outputs": [
    {
     "name": "stderr",
     "output_type": "stream",
     "text": [
      "/home/fonnesbeck_gmail_com/anaconda3/lib/python3.7/site-packages/pymc3/model.py:1277: UserWarning: Data in x_sbp contains missing values and will be automatically imputed from the sampling distribution.\n",
      "  warnings.warn(impute_message, UserWarning)\n",
      "/home/fonnesbeck_gmail_com/anaconda3/lib/python3.7/site-packages/pymc3/model.py:1277: UserWarning: Data in x_muac contains missing values and will be automatically imputed from the sampling distribution.\n",
      "  warnings.warn(impute_message, UserWarning)\n",
      "/home/fonnesbeck_gmail_com/anaconda3/lib/python3.7/site-packages/pymc3/model.py:1277: UserWarning: Data in x_glasgtot contains missing values and will be automatically imputed from the sampling distribution.\n",
      "  warnings.warn(impute_message, UserWarning)\n",
      "/home/fonnesbeck_gmail_com/anaconda3/lib/python3.7/site-packages/pymc3/model.py:1277: UserWarning: Data in x_rdtresult contains missing values and will be automatically imputed from the sampling distribution.\n",
      "  warnings.warn(impute_message, UserWarning)\n",
      "/home/fonnesbeck_gmail_com/anaconda3/lib/python3.7/site-packages/pymc3/model.py:1277: UserWarning: Data in x_vacmen contains missing values and will be automatically imputed from the sampling distribution.\n",
      "  warnings.warn(impute_message, UserWarning)\n",
      "/home/fonnesbeck_gmail_com/anaconda3/lib/python3.7/site-packages/pymc3/model.py:1277: UserWarning: Data in x_incphoto contains missing values and will be automatically imputed from the sampling distribution.\n",
      "  warnings.warn(impute_message, UserWarning)\n",
      "/home/fonnesbeck_gmail_com/anaconda3/lib/python3.7/site-packages/pymc3/model.py:1277: UserWarning: Data in x_incirrit contains missing values and will be automatically imputed from the sampling distribution.\n",
      "  warnings.warn(impute_message, UserWarning)\n",
      "/home/fonnesbeck_gmail_com/anaconda3/lib/python3.7/site-packages/pymc3/model.py:1277: UserWarning: Data in x_incfont contains missing values and will be automatically imputed from the sampling distribution.\n",
      "  warnings.warn(impute_message, UserWarning)\n",
      "/home/fonnesbeck_gmail_com/anaconda3/lib/python3.7/site-packages/pymc3/model.py:1277: UserWarning: Data in x_incneck contains missing values and will be automatically imputed from the sampling distribution.\n",
      "  warnings.warn(impute_message, UserWarning)\n",
      "/home/fonnesbeck_gmail_com/anaconda3/lib/python3.7/site-packages/pymc3/model.py:1277: UserWarning: Data in x_incseizh contains missing values and will be automatically imputed from the sampling distribution.\n",
      "  warnings.warn(impute_message, UserWarning)\n"
     ]
    }
   ],
   "source": [
    "with pm.Model() as logistic_model:\n",
    "    \n",
    "    # Impute continuous variables\n",
    "    if np.isnan(sbp).sum():\n",
    "        mu_sbp = pm.Uniform(\"mu_sbp\", lower = 50, upper = 200)\n",
    "        var_sbp = pm.HalfNormal('var_sbp', sd = 1)\n",
    "        x_sbp = pm.Normal('x_sbp', mu = mu_sbp, sd = var_sbp, observed=np.ma.masked_invalid(sbp))\n",
    "    else:\n",
    "        x_sbp = sbp\n",
    "        \n",
    "    if np.isnan(muac).sum(): \n",
    "        mu_muac = pm.Uniform(\"mu_muac\", lower = 6, upper = 42)\n",
    "        var_muac = pm.HalfCauchy('var_muac', beta = .5)\n",
    "        x_muac = pm.Normal('x_muac', mu = mu_muac, sd = var_muac, observed=np.ma.masked_invalid(muac))\n",
    "    else:\n",
    "        x_muac = muac\n",
    "    \n",
    "    # Impute categorical variables\n",
    "    if np.isnan(glasgtot).sum():\n",
    "        p_glasgtot = pm.Dirichlet(\"p_glasgtot\", np.ones(13))\n",
    "        x_glasgtot = pm.Categorical('x_glasgtot', p_glasgtot, observed=np.ma.masked_invalid(glasgtot))\n",
    "    else:\n",
    "        x_glasgtot = glasgtot   \n",
    "        \n",
    "   \n",
    "    # Impute binary variables\n",
    "    if np.isnan(rdtresult).sum():\n",
    "        p_rdtresult = pm.Beta(\"p_rdtresult\", 1, 1)\n",
    "        x_rdtresult = pm.Bernoulli('x_rdtresult', p_rdtresult, observed=np.ma.masked_invalid(rdtresult))\n",
    "    else:\n",
    "        x_rdtresult = rdtresult \n",
    "        \n",
    "    if np.isnan(vacmen).sum():\n",
    "        p_vacmen = pm.Beta(\"p_vacmen\", 1, 1)\n",
    "        x_vacmen = pm.Bernoulli('x_vacmen', p_vacmen, observed=np.ma.masked_invalid(vacmen))\n",
    "    else:\n",
    "        x_vacmen = vacmen          \n",
    "        \n",
    "    if np.isnan(incphoto).sum():\n",
    "        p_incphoto = pm.Beta(\"p_incphoto\", 1, 1)\n",
    "        x_incphoto = pm.Bernoulli('x_incphoto', p_incphoto, observed=np.ma.masked_invalid(incphoto))\n",
    "    else:\n",
    "        x_incphoto = incphoto\n",
    "        \n",
    "    if np.isnan(incirrit).sum():\n",
    "        p_incirrit = pm.Beta(\"p_incirrit\", 1, 1)\n",
    "        x_incirrit = pm.Bernoulli('x_incirrit', p_incirrit, observed=np.ma.masked_invalid(incirrit))\n",
    "    else:\n",
    "        x_incirrit = incirrit\n",
    "        \n",
    "    if np.isnan(incfont).sum():\n",
    "        p_incfont = pm.Beta(\"p_incfont\", 1, 1)\n",
    "        x_incfont = pm.Bernoulli('x_incfont', p_incfont, observed=np.ma.masked_invalid(incfont))\n",
    "    else:\n",
    "        x_incfont = incfont       \n",
    "        \n",
    "    if np.isnan(incneck).sum():\n",
    "        p_incneck = pm.Beta(\"p_incneck\", 1, 1)\n",
    "        x_incneck = pm.Bernoulli('x_incneck', p_incneck, observed=np.ma.masked_invalid(incneck))\n",
    "    else:\n",
    "        x_incneck = incneck\n",
    "        \n",
    "    if np.isnan(incseizh).sum():\n",
    "        p_incseizh = pm.Beta(\"p_incseizh\", 1, 1)\n",
    "        x_incseizh = pm.Bernoulli('x_incseizh', p_incseizh, observed=np.ma.masked_invalid(incseizh))\n",
    "    else:\n",
    "        x_incseizh = incseizh          \n",
    "        \n",
    "    X = [x_rdtresult, x_glasgtot, x_vacmen, female, x_incphoto, x_incirrit, temp, age,\n",
    "        x_sbp, x_muac, x_incfont, x_incneck, x_incseizh, incseiza]\n",
    "\n",
    "    N, K = len(X), len(set(y))\n",
    "    \n",
    "    μ = pm.Normal('μ', 0, sd=5, shape=K)\n",
    "    effects = pm.Normal('effects', mu=0, sd=5, shape=(N, K))\n",
    "    \n",
    "    # expected parameter\n",
    "    p = softmax(μ + tt.stack(X, axis=1).dot(effects))\n",
    "    \n",
    "    # Likelihood (sampling distribution) of observations\n",
    "    Y_obs = pm.Categorical('Y_obs', p=p, observed=y)"
   ]
  },
  {
   "cell_type": "code",
   "execution_count": null,
   "metadata": {
    "scrolled": true
   },
   "outputs": [
    {
     "name": "stderr",
     "output_type": "stream",
     "text": [
      "Multiprocess sampling (2 chains in 2 jobs)\n",
      "CompoundStep\n",
      ">NUTS: [effects, μ, p_incseizh, p_incneck, p_incfont, p_incirrit, p_incphoto, p_vacmen, p_rdtresult, p_glasgtot, x_muac_missing, var_muac, mu_muac, x_sbp_missing, var_sbp, mu_sbp]\n",
      ">CategoricalGibbsMetropolis: [x_glasgtot_missing]\n",
      ">BinaryGibbsMetropolis: [x_rdtresult_missing, x_vacmen_missing, x_incphoto_missing, x_incirrit_missing, x_incfont_missing, x_incneck_missing, x_incseizh_missing]\n",
      "Sampling 2 chains:  11%|█▏        | 676/6000 [04:37<52:16,  1.70draws/s]  "
     ]
    }
   ],
   "source": [
    "with logistic_model:\n",
    "    trace = pm.sample(1000, tune=2000, cores=2)\n"
   ]
  },
  {
   "cell_type": "code",
   "execution_count": 12,
   "metadata": {},
   "outputs": [],
   "source": [
    "_varnames = [varname.name for varname in logistic_model.free_RVs if (varname.name.startswith('mu_')\n",
    "                                                                     or varname.name.startswith('p_'))]"
   ]
  },
  {
   "cell_type": "code",
   "execution_count": 13,
   "metadata": {},
   "outputs": [
    {
     "data": {
      "text/plain": [
       "GridSpec(1, 2, width_ratios=[3, 1])"
      ]
     },
     "execution_count": 13,
     "metadata": {},
     "output_type": "execute_result"
    },
    {
     "data": {
      "image/png": "[encoded data removed]",
      "text/plain": [
       "<Figure size 432x288 with 2 Axes>"
      ]
     },
     "metadata": {
      "needs_background": "light"
     },
     "output_type": "display_data"
    }
   ],
   "source": [
    "pm.forestplot(trace, varnames=_varnames)"
   ]
  },
  {
   "cell_type": "code",
   "execution_count": 15,
   "metadata": {},
   "outputs": [
    {
     "data": {
      "image/png": "[encoded data removed]",
      "text/plain": [
       "<Figure size 720x432 with 2 Axes>"
      ]
     },
     "metadata": {
      "needs_background": "light"
     },
     "output_type": "display_data"
    }
   ],
   "source": [
    "plt.figure(figsize=(10,6))\n",
    "pm.forestplot(trace, varnames = [\"μ\", \"effects\"]);\n"
   ]
  },
  {
   "cell_type": "code",
   "execution_count": 177,
   "metadata": {},
   "outputs": [],
   "source": [
    "import pickle \n",
    "with open('trace10k10k13.pkl', 'wb') as buff:\n",
    "    pickle.dump(trace, buff)"
   ]
  },
  {
   "cell_type": "code",
   "execution_count": 27,
   "metadata": {},
   "outputs": [],
   "source": [
    "import pickle\n",
    "#this loads a saved trace file\n",
    "with open('trace10k10ktd13.pkl', 'rb') as buff:\n",
    "    external_trace = pickle.load(buff)"
   ]
  },
  {
   "cell_type": "code",
   "execution_count": null,
   "metadata": {},
   "outputs": [],
   "source": []
  },
  {
   "cell_type": "code",
   "execution_count": null,
   "metadata": {},
   "outputs": [],
   "source": []
  },
  {
   "cell_type": "code",
   "execution_count": 6,
   "metadata": {},
   "outputs": [],
   "source": [
    "#pm.energyplot(trace)"
   ]
  },
  {
   "cell_type": "code",
   "execution_count": 141,
   "metadata": {
    "scrolled": true
   },
   "outputs": [],
   "source": [
    "#pm.traceplot(trace);"
   ]
  },
  {
   "cell_type": "code",
   "execution_count": 142,
   "metadata": {},
   "outputs": [],
   "source": [
    "#pm.forestplot(trace, varnames=['effects'])"
   ]
  },
  {
   "cell_type": "code",
   "execution_count": 3,
   "metadata": {},
   "outputs": [],
   "source": [
    "#pm.plots.densityplot(trace)"
   ]
  },
  {
   "cell_type": "code",
   "execution_count": 140,
   "metadata": {},
   "outputs": [],
   "source": [
    "#pm.plots.plot_posterior(trace);"
   ]
  },
  {
   "cell_type": "markdown",
   "metadata": {},
   "source": [
    "# Posterior predictive check\n",
    "How does the model perform in predicting the outcomes of the subjects that went into the data?"
   ]
  },
  {
   "cell_type": "code",
   "execution_count": 167,
   "metadata": {
    "scrolled": false
   },
   "outputs": [
    {
     "name": "stderr",
     "output_type": "stream",
     "text": [
      "100%|██████████| 500/500 [00:17<00:00, 27.94it/s]\n"
     ]
    }
   ],
   "source": [
    "ppc = pm.sample_ppc(trace, samples=500, model=logistic_model)"
   ]
  },
  {
   "cell_type": "code",
   "execution_count": null,
   "metadata": {},
   "outputs": [],
   "source": []
  },
  {
   "cell_type": "code",
   "execution_count": 168,
   "metadata": {},
   "outputs": [
    {
     "data": {
      "image/png": "[encoded data removed]",
      "text/plain": [
       "<matplotlib.figure.Figure at 0x11685cc18>"
      ]
     },
     "metadata": {},
     "output_type": "display_data"
    }
   ],
   "source": [
    "#ppc for person 0, example of a true malaria case\n",
    "ind = 0\n",
    "plt.bar([\" Malaria\",\"Bacteria\",\"Other\"], height=[\n",
    "    np.asscalar(sum(ppc['Y_obs'][:,ind,0] == 0) / 500),\n",
    "    np.asscalar(sum(ppc['Y_obs'][:,ind,0] == 1) / 500),\n",
    "    np.asscalar(sum(ppc['Y_obs'][:,ind,0] == 2) / 500)], width=0.8, label = \"Predicted probability\")\n",
    "\n",
    "plt.bar([0,1,2], height =[sum(y == 0) / len(y),sum(y == 1) / len(y),sum(y == 2) / len(y)], \n",
    "        width=0.25*0.8, color='g', alpha=0.5, label='Baseline Probability')\n",
    "\n",
    "plt.bar([0,1,2], \n",
    "        height =[(y[ind] == 0).astype(int)*sum(ppc['Y_obs'][:,ind,0] == 0) / 500,\n",
    "                 (y[ind] == 1).astype(int)*sum(ppc['Y_obs'][:,ind,0] == 1) / 500,\n",
    "                 (y[ind] == 2).astype(int)*sum(ppc['Y_obs'][:,ind,0] == 2) / 500], \n",
    "        width=0.8, edgecolor = 'r',color='b', fc=(0, 1, 0, 0), lw = 2, label=\"Actual Outcome\")\n",
    "\n",
    "plt.legend(loc = 9 , prop={'size': 15})\n",
    "plt.ylabel(\"Probability\", fontsize = 30)\n",
    "plt.xlabel(\"Final Outcome\", fontsize = 30)\n",
    "plt.rcParams[\"figure.figsize\"] = (10, 9)\n",
    "plt.tick_params(axis='both', which='major', labelsize=15)\n",
    "plt.tick_params(axis='both', which='minor', labelsize=8)"
   ]
  },
  {
   "cell_type": "code",
   "execution_count": 124,
   "metadata": {
    "scrolled": false
   },
   "outputs": [
    {
     "data": {
      "image/png": "[encoded data removed]",
      "text/plain": [
       "<matplotlib.figure.Figure at 0x11a47eb00>"
      ]
     },
     "metadata": {},
     "output_type": "display_data"
    }
   ],
   "source": [
    "#ppc for person 1, example of a true neither case, note that positive rdttest makes this one miss badly\n",
    "ind = 1\n",
    "plt.bar([\" Malaria\",\"Bacteria\",\"Other\"], height=[\n",
    "    np.asscalar(sum(ppc['Y_obs'][:,ind,0] == 0) / 500),\n",
    "    np.asscalar(sum(ppc['Y_obs'][:,ind,0] == 1) / 500),\n",
    "    np.asscalar(sum(ppc['Y_obs'][:,ind,0] == 2) / 500)], width=0.8, label = \"Predicted probability\")\n",
    "\n",
    "plt.bar([0,1,2], height =[sum(y == 0) / len(y),sum(y == 1) / len(y),sum(y == 2) / len(y)], \n",
    "        width=0.25*0.8, color='g', alpha=0.5, label='Baseline Probability')\n",
    "\n",
    "plt.bar([0,1,2], \n",
    "        height =[(y[ind] == 0).astype(int)*sum(ppc['Y_obs'][:,ind,0] == 0) / 500,\n",
    "                 (y[ind] == 1).astype(int)*sum(ppc['Y_obs'][:,ind,0] == 1) / 500,\n",
    "                 (y[ind] == 2).astype(int)*sum(ppc['Y_obs'][:,ind,0] == 2) / 500], \n",
    "        width=0.8, edgecolor = 'r',color='b', fc=(0, 1, 0, 0), lw = 2, label=\"Actual Outcome\")\n",
    "\n",
    "plt.legend(loc = 9 , prop={'size': 15})\n",
    "plt.ylabel(\"Probability\", fontsize = 30)\n",
    "plt.xlabel(\"Final Outcome\", fontsize = 30)\n",
    "plt.rcParams[\"figure.figsize\"] = (10, 9)\n",
    "plt.tick_params(axis='both', which='major', labelsize=15)\n",
    "plt.tick_params(axis='both', which='minor', labelsize=8)"
   ]
  },
  {
   "cell_type": "code",
   "execution_count": 125,
   "metadata": {
    "scrolled": false
   },
   "outputs": [
    {
     "data": {
      "image/png": "[encoded data removed]",
      "text/plain": [
       "<matplotlib.figure.Figure at 0x11a1996d8>"
      ]
     },
     "metadata": {},
     "output_type": "display_data"
    }
   ],
   "source": [
    "#ppc for person 3, negative rdt test makes this one very certain (accuratley this time)\n",
    "ind = 3\n",
    "plt.bar([\" Malaria\",\"Bacteria\",\"Other\"], height=[\n",
    "    np.asscalar(sum(ppc['Y_obs'][:,ind,0] == 0) / 500),\n",
    "    np.asscalar(sum(ppc['Y_obs'][:,ind,0] == 1) / 500),\n",
    "    np.asscalar(sum(ppc['Y_obs'][:,ind,0] == 2) / 500)], width=0.8, label = \"Predicted probability\")\n",
    "\n",
    "plt.bar([0,1,2], height =[sum(y == 0) / len(y),sum(y == 1) / len(y),sum(y == 2) / len(y)], \n",
    "        width=0.25*0.8, color='g', alpha=0.5, label='Baseline Probability')\n",
    "\n",
    "plt.bar([0,1,2], \n",
    "        height =[(y[ind] == 0).astype(int)*sum(ppc['Y_obs'][:,ind,0] == 0) / 500,\n",
    "                 (y[ind] == 1).astype(int)*sum(ppc['Y_obs'][:,ind,0] == 1) / 500,\n",
    "                 (y[ind] == 2).astype(int)*sum(ppc['Y_obs'][:,ind,0] == 2) / 500], \n",
    "        width=0.8, edgecolor = 'r',color='b', fc=(0, 1, 0, 0), lw = 2, label=\"Actual Outcome\")\n",
    "\n",
    "plt.legend(loc = 9 , prop={'size': 15})\n",
    "plt.ylabel(\"Probability\", fontsize = 30)\n",
    "plt.xlabel(\"Final Outcome\", fontsize = 30)\n",
    "plt.rcParams[\"figure.figsize\"] = (10, 9)\n",
    "plt.tick_params(axis='both', which='major', labelsize=15)\n",
    "plt.tick_params(axis='both', which='minor', labelsize=8)"
   ]
  },
  {
   "cell_type": "code",
   "execution_count": 126,
   "metadata": {},
   "outputs": [
    {
     "data": {
      "image/png": "[encoded data removed]",
      "text/plain": [
       "<matplotlib.figure.Figure at 0x11a1aeef0>"
      ]
     },
     "metadata": {},
     "output_type": "display_data"
    }
   ],
   "source": [
    "#ppc for person 10, example of a true bacteria\n",
    "ind = 10\n",
    "plt.bar([\" Malaria\",\"Bacteria\",\"Other\"], height=[\n",
    "    np.asscalar(sum(ppc['Y_obs'][:,ind,0] == 0) / 500),\n",
    "    np.asscalar(sum(ppc['Y_obs'][:,ind,0] == 1) / 500),\n",
    "    np.asscalar(sum(ppc['Y_obs'][:,ind,0] == 2) / 500)], width=0.8, label = \"Predicted probability\")\n",
    "\n",
    "plt.bar([0,1,2], height =[sum(y == 0) / len(y),sum(y == 1) / len(y),sum(y == 2) / len(y)], \n",
    "        width=0.25*0.8, color='g', alpha=0.5, label='Baseline Probability')\n",
    "\n",
    "plt.bar([0,1,2], \n",
    "        height =[(y[ind] == 0).astype(int)*sum(ppc['Y_obs'][:,ind,0] == 0) / 500,\n",
    "                 (y[ind] == 1).astype(int)*sum(ppc['Y_obs'][:,ind,0] == 1) / 500,\n",
    "                 (y[ind] == 2).astype(int)*sum(ppc['Y_obs'][:,ind,0] == 2) / 500], \n",
    "        width=0.8, edgecolor = 'r',color='b', fc=(0, 1, 0, 0), lw = 2, label=\"Actual Outcome\")\n",
    "\n",
    "plt.legend(loc = 9 , prop={'size': 15})\n",
    "plt.ylabel(\"Probability\", fontsize = 30)\n",
    "plt.xlabel(\"Final Outcome\", fontsize = 30)\n",
    "plt.rcParams[\"figure.figsize\"] = (10, 9)\n",
    "plt.tick_params(axis='both', which='major', labelsize=15)\n",
    "plt.tick_params(axis='both', which='minor', labelsize=8)"
   ]
  },
  {
   "cell_type": "code",
   "execution_count": 127,
   "metadata": {},
   "outputs": [],
   "source": [
    "result = pd.DataFrame({'diag':y})\n",
    "result['rdtresult'] = rdtresult\n",
    "result['p_mal'] = np.sum(ppc['Y_obs'][:,:,0] == 0, axis = 0) / 500\n",
    "result['p_bact'] = np.sum(ppc['Y_obs'][:,:,0] == 1, axis = 0) / 500\n",
    "result['p_other'] = np.sum(ppc['Y_obs'][:,:,0] == 2, axis = 0) / 500\n",
    "#result['p_max'] = np.amax(result.drop(['diag'], axis=1), axis = 1)\n",
    "#result['prediction'] = 0\n",
    "#result['prediction'][np.where(result['p_max'] == result['p_bact'], 'yes', 'no') == 'yes'] = 1\n",
    "#result['prediction'][np.where(result['p_max'] == result['p_other'], 'yes', 'no') == 'yes'] = 2"
   ]
  },
  {
   "cell_type": "markdown",
   "metadata": {},
   "source": [
    "# Brier Score\n",
    "This is a measure of model certainty and accuracy  \n",
    "https://en.wikipedia.org/wiki/Brier_score"
   ]
  },
  {
   "cell_type": "code",
   "execution_count": 128,
   "metadata": {},
   "outputs": [
    {
     "data": {
      "text/plain": [
       "0.47"
      ]
     },
     "execution_count": 128,
     "metadata": {},
     "output_type": "execute_result"
    }
   ],
   "source": [
    "p_mal = result['p_mal']\n",
    "p_bact = result['p_bact']\n",
    "p_other = result['p_other']\n",
    "d_mal = (result['diag'] == 0).astype(int)\n",
    "d_bact = (result['diag'] == 1).astype(int)\n",
    "d_other = (result['diag'] == 2).astype(int)\n",
    "BS = (sum(np.square(p_mal - d_mal)) + sum(np.square(p_bact - d_bact)) + sum(np.square(p_other - d_other))) / len(y)\n",
    "BS\n",
    "sum(y == 2) / 500"
   ]
  },
  {
   "cell_type": "markdown",
   "metadata": {},
   "source": [
    "# More intuitive: Given someone is a true positive, how does it affect their prediction for that outcome?\n",
    "We start by knowing the baseline prediction, which comes from prevavlence in a sample (if we know nothing about a person we assume their probability based solely from population averages.)\n",
    "\n",
    "%malaria: .324  \n",
    "%bacteria: .166  \n",
    "%other: .470"
   ]
  },
  {
   "cell_type": "code",
   "execution_count": 129,
   "metadata": {},
   "outputs": [
    {
     "data": {
      "image/png": "[encoded data removed]",
      "text/plain": [
       "<matplotlib.figure.Figure at 0x11bad1a20>"
      ]
     },
     "metadata": {},
     "output_type": "display_data"
    }
   ],
   "source": [
    "#Average predicted prob of outcome given outcome\n",
    "avg_mal_prob = sum(p_mal * d_mal) / sum(d_mal)\n",
    "avg_bact_prob = sum(p_bact * d_bact) / sum(d_bact)\n",
    "avg_other_prob = sum(p_other * d_other) / sum(d_other)\n",
    "\n",
    "#plot\n",
    "plt.bar([\" Malaria\",\"Bacteria\",\"Other\"], height=[\n",
    "    avg_mal_prob,\n",
    "    avg_bact_prob,\n",
    "    avg_other_prob], width=0.8, label = \"Mean Predicted Probability\")\n",
    "\n",
    "plt.bar([0,1,2], height =[sum(y == 0) / len(y),sum(y == 1) / len(y),sum(y == 2) / len(y)], \n",
    "        width=0.25*0.8, color='g', alpha=0.5, label='Baseline Probability')\n",
    "\n",
    "\n",
    "\n",
    "plt.legend(loc = 1 , prop={'size': 15})\n",
    "plt.ylabel(\"Probability\", fontsize = 30)\n",
    "plt.xlabel(\"True Outcome\", fontsize = 30)\n",
    "plt.rcParams[\"figure.figsize\"] = (10, 9)\n",
    "plt.tick_params(axis='both', which='major', labelsize=15)\n",
    "plt.tick_params(axis='both', which='minor', labelsize=8)"
   ]
  },
  {
   "cell_type": "markdown",
   "metadata": {},
   "source": [
    "This plot suggests improved prediction by the regression.  Because the model was built in a primarily non-data-driven way and exploits linear relationships between predictor and outcome it is unlikely that this is due to overfitting.  If a bootstrapped sample has similarly good predictive power it should provide evidence of internal validation and confidence that overfitting is not a problem."
   ]
  },
  {
   "cell_type": "markdown",
   "metadata": {},
   "source": [
    "# Resimulating outcomes based on MLEs of coefficients\n",
    "This should be very similar to the PPC but is generalizeable to new data so if someone new were in need of prediction this is the process that would generate their predicted outcomes."
   ]
  },
  {
   "cell_type": "code",
   "execution_count": 177,
   "metadata": {},
   "outputs": [],
   "source": [
    "coef = pm.summary(trace, varnames = [\"effects\"])"
   ]
  },
  {
   "cell_type": "code",
   "execution_count": 179,
   "metadata": {},
   "outputs": [],
   "source": [
    "#Make a Matrix the rows of which are beta1, ...., betak and the columns represent mal, bact, and other.\n",
    "\n",
    "coef_mal = coef.iloc[::3, 0]\n",
    "coef_bact = coef.iloc[1::3, 0]\n",
    "coef_other = coef.iloc[2::3, 0]"
   ]
  },
  {
   "cell_type": "code",
   "execution_count": 180,
   "metadata": {},
   "outputs": [],
   "source": [
    "coef_matrix = pd.DataFrame({\"coef_mal\":coef_mal})\n",
    "coef_matrix[\"coef_bact\"] = coef_bact.values\n",
    "coef_matrix[\"coef_other\"] = coef_other.values\n",
    "mu_vect = pm.summary(trace, varnames = [\"μ\"])[\"mean\"].values"
   ]
  },
  {
   "cell_type": "code",
   "execution_count": 260,
   "metadata": {},
   "outputs": [],
   "source": [
    "with pm.Model() as posterior_sim:\n",
    "    \n",
    "    # Impute continuous variables\n",
    "    if np.isnan(sbp).sum():\n",
    "        mu_sbp = pm.Uniform(\"mu_sbp\", lower = 50, upper = 200)\n",
    "        var_sbp = pm.HalfNormal('var_sbp', sd = 1)\n",
    "        x_sbp = pm.Normal('x_sbp', mu = mu_sbp, sd = var_sbp, observed=np.ma.masked_values(fillna(sbp, 999), value=999))\n",
    "    else:\n",
    "        x_sbp = sbp\n",
    "        \n",
    "#    if np.isnan(temp).sum(): #Temp happens to have no missing so this code runs the else: chunk\n",
    "#        mu_temp = pm.Uniform(\"mu_temp\", lower = 34, upper = 42)\n",
    "#        var_temp = pm.HalfCauchy('var_temp', beta = .5)\n",
    "#        x_temp = pm.Normal('x_temp', mu = mu_temp, sd = var_temp, observed=np.ma.masked_values(temp, value = np.nan))\n",
    "#    else:\n",
    "#        x_temp = temp\n",
    "\n",
    "    if np.isnan(age).sum():\n",
    "        mu_age = pm.Uniform(\"mu_age\", lower = 1, upper = 144)\n",
    "        var_age = pm.HalfCauchy('var_age', beta = .5)\n",
    "        x_age = pm.Normal('x_age', mu = mu_age, sd = var_age, observed=np.ma.masked_values(age, value = np.nan))\n",
    "    else:\n",
    "        x_age = age\n",
    "        \n",
    "    if np.isnan(muac).sum(): \n",
    "        mu_muac = pm.Uniform(\"mu_muac\", lower = 6, upper = 42)\n",
    "        var_muac = pm.HalfCauchy('var_muac', beta = .5)\n",
    "        x_muac = pm.Normal('x_muac', mu = mu_muac, sd = var_muac, observed=np.ma.masked_values(fillna(muac, 999), value=999))\n",
    "    else:\n",
    "        x_muac = muac\n",
    "        \n",
    "    \n",
    "    # Impute categorical variables\n",
    "    if np.isnan(glasgtot).sum():\n",
    "        p_glasgtot = pm.Dirichlet(\"p_glasgtot\", np.ones(13))\n",
    "        x_glasgtot = pm.Categorical('x_glasgtot', p_glasgtot, observed=np.ma.masked_invalid(glasgtot))\n",
    "    else:\n",
    "        x_glasgtot = glasgtot   \n",
    "        \n",
    "   \n",
    "    # Impute binary variables\n",
    "    if np.isnan(rdtresult).sum():\n",
    "        p_rdtresult = pm.Beta(\"p_rdtresult\", 1, 1)\n",
    "        x_rdtresult = pm.Bernoulli('x_rdtresult', p_rdtresult, observed=np.ma.masked_values(fillna(rdtresult, 999), value=999))\n",
    "    else:\n",
    "        x_rdtresult = rdtresult \n",
    "        \n",
    "    if np.isnan(vacmen).sum():\n",
    "        p_vacmen = pm.Beta(\"p_vacmen\", 1, 1)\n",
    "        x_vacmen = pm.Bernoulli('x_vacmen', p_vacmen, observed=np.ma.masked_values(fillna(vacmen, 999), value=999))\n",
    "    else:\n",
    "        x_vacmen = vacmen         \n",
    "        \n",
    "    if np.isnan(female).sum():\n",
    "        p_female = pm.Beta(\"p_female\", 1, 1)\n",
    "        x_female = pm.Bernoulli('x_female', p_female, observed=np.ma.masked_values(fillna(female, 999), value=999))\n",
    "    else:\n",
    "        x_female = female     \n",
    "        \n",
    "    if np.isnan(incphoto).sum():\n",
    "        p_incphoto = pm.Beta(\"p_incphoto\", 1, 1)\n",
    "        x_incphoto = pm.Bernoulli('x_incphoto', p_incphoto, observed=np.ma.masked_values(fillna(incphoto, 999), value=999))\n",
    "    else:\n",
    "        x_incphoto = incphoto\n",
    "        \n",
    "    if np.isnan(incirrit).sum():\n",
    "        p_incirrit = pm.Beta(\"p_incirrit\", 1, 1)\n",
    "        x_incirrit = pm.Bernoulli('x_incirrit', p_incirrit, observed=np.ma.masked_values(fillna(incirrit, 999), value=999))\n",
    "    else:\n",
    "        x_incirrit = incirrit\n",
    "        \n",
    "    if np.isnan(incfont).sum():\n",
    "        p_incfont = pm.Beta(\"p_incfont\", 1, 1)\n",
    "        x_incfont = pm.Bernoulli('x_incfont', p_incfont, observed=np.ma.masked_values(fillna(incfont, 999), value=999))\n",
    "    else:\n",
    "        x_incfont = incfont       \n",
    "        \n",
    "    if np.isnan(incneck).sum():\n",
    "        p_incneck = pm.Beta(\"p_incneck\", 1, 1)\n",
    "        x_incneck = pm.Bernoulli('x_incneck', p_incneck, observed=np.ma.masked_values(fillna(incneck, 999), value=999))\n",
    "    else:\n",
    "        x_incneck = incneck\n",
    "        \n",
    "    #Because there is only 1 missing value in this one the imputation won't behave so I'll just impute the one value to 0    \n",
    "    incseiza[np.isnan(incseiza)] = 0\n",
    "    x_incseiza = incseiza \n",
    "        \n",
    "    if np.isnan(incseizh).sum():\n",
    "        p_incseizh = pm.Beta(\"p_incseizh\", 1, 1)\n",
    "        x_incseizh = pm.Bernoulli('x_incseizh', p_incseizh, observed=np.ma.masked_values(fillna(incseizh, 999), value=999))\n",
    "    else:\n",
    "        x_incseizh = incseizh          \n",
    "        \n",
    "    X = [x_rdtresult,x_glasgtot,x_vacmen,x_age,x_female,x_incphoto,x_incirrit,\n",
    "        x_sbp,x_muac,x_incfont,x_incneck,x_incseizh,x_incseiza]        \n",
    "    \n",
    "    #test\n",
    "#    X = [rdtresult,glasgtot,vacmen,age,female,incphoto,incirrit,\n",
    "#        sbp,muac,incfont,incneck,incseizh,incseiza]\n",
    "    \n",
    "    μ = mu_vect\n",
    "    effects = coef_matrix.values\n",
    "    \n",
    "    # expected parameter\n",
    "    p = softmax(μ + tt.stack(X, axis = 1).dot(effects))\n",
    "    \n",
    "    # Likelihood (sampling distribution) of observations\n",
    "    Y_post = pm.Categorical('Y_post', p=p)"
   ]
  },
  {
   "cell_type": "code",
   "execution_count": 264,
   "metadata": {
    "scrolled": true
   },
   "outputs": [
    {
     "name": "stderr",
     "output_type": "stream",
     "text": [
      "Only 100 samples in chain.\n",
      "Multiprocess sampling (2 chains in 2 jobs)\n",
      "CompoundStep\n",
      ">NUTS: [p_incseizh, p_incneck, p_incfont, p_incirrit, p_incphoto, p_vacmen, p_rdtresult, p_glasgtot, x_muac_missing, var_muac, mu_muac, x_sbp_missing, var_sbp, mu_sbp]\n",
      ">CategoricalGibbsMetropolis: [Y_post, x_glasgtot_missing]\n",
      ">BinaryGibbsMetropolis: [x_rdtresult_missing, x_vacmen_missing, x_incphoto_missing, x_incirrit_missing, x_incfont_missing, x_incneck_missing, x_incseizh_missing]\n",
      "Sampling 2 chains:   0%|          | 0/400 [00:00<?, ?draws/s]\n"
     ]
    },
    {
     "ename": "RuntimeError",
     "evalue": "Chain 1 failed.",
     "output_type": "error",
     "traceback": [
      "\u001b[0;31m---------------------------------------------------------------------------\u001b[0m",
      "\u001b[0;31mRemoteTraceback\u001b[0m                           Traceback (most recent call last)",
      "\u001b[0;31mRemoteTraceback\u001b[0m: \n\"\"\"\nTraceback (most recent call last):\n  File \"/anaconda3/lib/python3.6/site-packages/pymc3/parallel_sampling.py\", line 73, in run\n    self._start_loop()\n  File \"/anaconda3/lib/python3.6/site-packages/pymc3/parallel_sampling.py\", line 113, in _start_loop\n    point, stats = self._compute_point()\n  File \"/anaconda3/lib/python3.6/site-packages/pymc3/parallel_sampling.py\", line 139, in _compute_point\n    point, stats = self._step_method.step(self._point)\n  File \"/anaconda3/lib/python3.6/site-packages/pymc3/step_methods/compound.py\", line 26, in step\n    point, state = method.step(point)\n  File \"/anaconda3/lib/python3.6/site-packages/pymc3/step_methods/arraystep.py\", line 247, in step\n    apoint, stats = self.astep(array)\n  File \"/anaconda3/lib/python3.6/site-packages/pymc3/step_methods/hmc/base_hmc.py\", line 117, in astep\n    'might be misspecified.' % start.energy)\nValueError: Bad initial energy: inf. The model might be misspecified.\n\"\"\"",
      "\nThe above exception was the direct cause of the following exception:\n",
      "\u001b[0;31mValueError\u001b[0m                                Traceback (most recent call last)",
      "\u001b[0;31mValueError\u001b[0m: Bad initial energy: inf. The model might be misspecified.",
      "\nThe above exception was the direct cause of the following exception:\n",
      "\u001b[0;31mRuntimeError\u001b[0m                              Traceback (most recent call last)",
      "\u001b[0;32m<ipython-input-264-4bdfc3a18fba>\u001b[0m in \u001b[0;36m<module>\u001b[0;34m()\u001b[0m\n\u001b[1;32m      1\u001b[0m \u001b[0;32mwith\u001b[0m \u001b[0mposterior_sim\u001b[0m\u001b[0;34m:\u001b[0m\u001b[0;34m\u001b[0m\u001b[0m\n\u001b[0;32m----> 2\u001b[0;31m     \u001b[0msim_trace\u001b[0m \u001b[0;34m=\u001b[0m \u001b[0mpm\u001b[0m\u001b[0;34m.\u001b[0m\u001b[0msample\u001b[0m\u001b[0;34m(\u001b[0m\u001b[0;36m100\u001b[0m\u001b[0;34m,\u001b[0m \u001b[0mtune\u001b[0m\u001b[0;34m=\u001b[0m\u001b[0;36m100\u001b[0m\u001b[0;34m,\u001b[0m \u001b[0mnjobs\u001b[0m\u001b[0;34m=\u001b[0m\u001b[0;36m2\u001b[0m\u001b[0;34m,\u001b[0m \u001b[0mnuts_kwargs\u001b[0m\u001b[0;34m=\u001b[0m\u001b[0;34m{\u001b[0m\u001b[0;34m'target_accept'\u001b[0m\u001b[0;34m:\u001b[0m\u001b[0;36m0.99\u001b[0m\u001b[0;34m,\u001b[0m\u001b[0;34m'max_treedepth'\u001b[0m\u001b[0;34m:\u001b[0m\u001b[0;36m12\u001b[0m\u001b[0;34m}\u001b[0m\u001b[0;34m)\u001b[0m\u001b[0;34m\u001b[0m\u001b[0m\n\u001b[0m",
      "\u001b[0;32m/anaconda3/lib/python3.6/site-packages/pymc3/sampling.py\u001b[0m in \u001b[0;36msample\u001b[0;34m(draws, step, init, n_init, start, trace, chain_idx, chains, cores, tune, nuts_kwargs, step_kwargs, progressbar, model, random_seed, live_plot, discard_tuned_samples, live_plot_kwargs, compute_convergence_checks, use_mmap, **kwargs)\u001b[0m\n\u001b[1;32m    447\u001b[0m             \u001b[0m_print_step_hierarchy\u001b[0m\u001b[0;34m(\u001b[0m\u001b[0mstep\u001b[0m\u001b[0;34m)\u001b[0m\u001b[0;34m\u001b[0m\u001b[0m\n\u001b[1;32m    448\u001b[0m             \u001b[0;32mtry\u001b[0m\u001b[0;34m:\u001b[0m\u001b[0;34m\u001b[0m\u001b[0m\n\u001b[0;32m--> 449\u001b[0;31m                 \u001b[0mtrace\u001b[0m \u001b[0;34m=\u001b[0m \u001b[0m_mp_sample\u001b[0m\u001b[0;34m(\u001b[0m\u001b[0;34m**\u001b[0m\u001b[0msample_args\u001b[0m\u001b[0;34m)\u001b[0m\u001b[0;34m\u001b[0m\u001b[0m\n\u001b[0m\u001b[1;32m    450\u001b[0m             \u001b[0;32mexcept\u001b[0m \u001b[0mpickle\u001b[0m\u001b[0;34m.\u001b[0m\u001b[0mPickleError\u001b[0m\u001b[0;34m:\u001b[0m\u001b[0;34m\u001b[0m\u001b[0m\n\u001b[1;32m    451\u001b[0m                 \u001b[0m_log\u001b[0m\u001b[0;34m.\u001b[0m\u001b[0mwarning\u001b[0m\u001b[0;34m(\u001b[0m\u001b[0;34m\"Could not pickle model, sampling singlethreaded.\"\u001b[0m\u001b[0;34m)\u001b[0m\u001b[0;34m\u001b[0m\u001b[0m\n",
      "\u001b[0;32m/anaconda3/lib/python3.6/site-packages/pymc3/sampling.py\u001b[0m in \u001b[0;36m_mp_sample\u001b[0;34m(draws, tune, step, chains, cores, chain, random_seed, start, progressbar, trace, model, use_mmap, **kwargs)\u001b[0m\n\u001b[1;32m    997\u001b[0m         \u001b[0;32mtry\u001b[0m\u001b[0;34m:\u001b[0m\u001b[0;34m\u001b[0m\u001b[0m\n\u001b[1;32m    998\u001b[0m             \u001b[0;32mwith\u001b[0m \u001b[0msampler\u001b[0m\u001b[0;34m:\u001b[0m\u001b[0;34m\u001b[0m\u001b[0m\n\u001b[0;32m--> 999\u001b[0;31m                 \u001b[0;32mfor\u001b[0m \u001b[0mdraw\u001b[0m \u001b[0;32min\u001b[0m \u001b[0msampler\u001b[0m\u001b[0;34m:\u001b[0m\u001b[0;34m\u001b[0m\u001b[0m\n\u001b[0m\u001b[1;32m   1000\u001b[0m                     \u001b[0mtrace\u001b[0m \u001b[0;34m=\u001b[0m \u001b[0mtraces\u001b[0m\u001b[0;34m[\u001b[0m\u001b[0mdraw\u001b[0m\u001b[0;34m.\u001b[0m\u001b[0mchain\u001b[0m \u001b[0;34m-\u001b[0m \u001b[0mchain\u001b[0m\u001b[0;34m]\u001b[0m\u001b[0;34m\u001b[0m\u001b[0m\n\u001b[1;32m   1001\u001b[0m                     \u001b[0;32mif\u001b[0m \u001b[0mtrace\u001b[0m\u001b[0;34m.\u001b[0m\u001b[0msupports_sampler_stats\u001b[0m \u001b[0;32mand\u001b[0m \u001b[0mdraw\u001b[0m\u001b[0;34m.\u001b[0m\u001b[0mstats\u001b[0m \u001b[0;32mis\u001b[0m \u001b[0;32mnot\u001b[0m \u001b[0;32mNone\u001b[0m\u001b[0;34m:\u001b[0m\u001b[0;34m\u001b[0m\u001b[0m\n",
      "\u001b[0;32m/anaconda3/lib/python3.6/site-packages/pymc3/parallel_sampling.py\u001b[0m in \u001b[0;36m__iter__\u001b[0;34m(self)\u001b[0m\n\u001b[1;32m    303\u001b[0m \u001b[0;34m\u001b[0m\u001b[0m\n\u001b[1;32m    304\u001b[0m         \u001b[0;32mwhile\u001b[0m \u001b[0mself\u001b[0m\u001b[0;34m.\u001b[0m\u001b[0m_active\u001b[0m\u001b[0;34m:\u001b[0m\u001b[0;34m\u001b[0m\u001b[0m\n\u001b[0;32m--> 305\u001b[0;31m             \u001b[0mdraw\u001b[0m \u001b[0;34m=\u001b[0m \u001b[0mProcessAdapter\u001b[0m\u001b[0;34m.\u001b[0m\u001b[0mrecv_draw\u001b[0m\u001b[0;34m(\u001b[0m\u001b[0mself\u001b[0m\u001b[0;34m.\u001b[0m\u001b[0m_active\u001b[0m\u001b[0;34m)\u001b[0m\u001b[0;34m\u001b[0m\u001b[0m\n\u001b[0m\u001b[1;32m    306\u001b[0m             \u001b[0mproc\u001b[0m\u001b[0;34m,\u001b[0m \u001b[0mis_last\u001b[0m\u001b[0;34m,\u001b[0m \u001b[0mdraw\u001b[0m\u001b[0;34m,\u001b[0m \u001b[0mtuning\u001b[0m\u001b[0;34m,\u001b[0m \u001b[0mstats\u001b[0m\u001b[0;34m,\u001b[0m \u001b[0mwarns\u001b[0m \u001b[0;34m=\u001b[0m \u001b[0mdraw\u001b[0m\u001b[0;34m\u001b[0m\u001b[0m\n\u001b[1;32m    307\u001b[0m             \u001b[0;32mif\u001b[0m \u001b[0mself\u001b[0m\u001b[0;34m.\u001b[0m\u001b[0m_progress\u001b[0m \u001b[0;32mis\u001b[0m \u001b[0;32mnot\u001b[0m \u001b[0;32mNone\u001b[0m\u001b[0;34m:\u001b[0m\u001b[0;34m\u001b[0m\u001b[0m\n",
      "\u001b[0;32m/anaconda3/lib/python3.6/site-packages/pymc3/parallel_sampling.py\u001b[0m in \u001b[0;36mrecv_draw\u001b[0;34m(processes, timeout)\u001b[0m\n\u001b[1;32m    221\u001b[0m         \u001b[0;32mif\u001b[0m \u001b[0mmsg\u001b[0m\u001b[0;34m[\u001b[0m\u001b[0;36m0\u001b[0m\u001b[0;34m]\u001b[0m \u001b[0;34m==\u001b[0m \u001b[0;34m'error'\u001b[0m\u001b[0;34m:\u001b[0m\u001b[0;34m\u001b[0m\u001b[0m\n\u001b[1;32m    222\u001b[0m             \u001b[0mold\u001b[0m \u001b[0;34m=\u001b[0m \u001b[0mmsg\u001b[0m\u001b[0;34m[\u001b[0m\u001b[0;36m1\u001b[0m\u001b[0;34m]\u001b[0m\u001b[0;34m\u001b[0m\u001b[0m\n\u001b[0;32m--> 223\u001b[0;31m             \u001b[0msix\u001b[0m\u001b[0;34m.\u001b[0m\u001b[0mraise_from\u001b[0m\u001b[0;34m(\u001b[0m\u001b[0mRuntimeError\u001b[0m\u001b[0;34m(\u001b[0m\u001b[0;34m'Chain %s failed.'\u001b[0m \u001b[0;34m%\u001b[0m \u001b[0mproc\u001b[0m\u001b[0;34m.\u001b[0m\u001b[0mchain\u001b[0m\u001b[0;34m)\u001b[0m\u001b[0;34m,\u001b[0m \u001b[0mold\u001b[0m\u001b[0;34m)\u001b[0m\u001b[0;34m\u001b[0m\u001b[0m\n\u001b[0m\u001b[1;32m    224\u001b[0m         \u001b[0;32melif\u001b[0m \u001b[0mmsg\u001b[0m\u001b[0;34m[\u001b[0m\u001b[0;36m0\u001b[0m\u001b[0;34m]\u001b[0m \u001b[0;34m==\u001b[0m \u001b[0;34m'writing_done'\u001b[0m\u001b[0;34m:\u001b[0m\u001b[0;34m\u001b[0m\u001b[0m\n\u001b[1;32m    225\u001b[0m             \u001b[0mproc\u001b[0m\u001b[0;34m.\u001b[0m\u001b[0m_readable\u001b[0m \u001b[0;34m=\u001b[0m \u001b[0;32mTrue\u001b[0m\u001b[0;34m\u001b[0m\u001b[0m\n",
      "\u001b[0;32m/anaconda3/lib/python3.6/site-packages/six.py\u001b[0m in \u001b[0;36mraise_from\u001b[0;34m(value, from_value)\u001b[0m\n",
      "\u001b[0;31mRuntimeError\u001b[0m: Chain 1 failed."
     ]
    }
   ],
   "source": [
    "with posterior_sim:\n",
    "    sim_trace = pm.sample(100, tune=100, njobs=2, nuts_kwargs={'target_accept':0.99,'max_treedepth':12})"
   ]
  },
  {
   "cell_type": "code",
   "execution_count": null,
   "metadata": {
    "scrolled": true
   },
   "outputs": [],
   "source": []
  },
  {
   "cell_type": "code",
   "execution_count": null,
   "metadata": {},
   "outputs": [],
   "source": []
  },
  {
   "cell_type": "code",
   "execution_count": null,
   "metadata": {},
   "outputs": [],
   "source": []
  },
  {
   "cell_type": "code",
   "execution_count": null,
   "metadata": {},
   "outputs": [],
   "source": []
  },
  {
   "cell_type": "code",
   "execution_count": null,
   "metadata": {},
   "outputs": [],
   "source": []
  },
  {
   "cell_type": "code",
   "execution_count": null,
   "metadata": {},
   "outputs": [],
   "source": []
  },
  {
   "cell_type": "code",
   "execution_count": null,
   "metadata": {
    "scrolled": true
   },
   "outputs": [],
   "source": []
  },
  {
   "cell_type": "code",
   "execution_count": null,
   "metadata": {},
   "outputs": [],
   "source": []
  },
  {
   "cell_type": "code",
   "execution_count": null,
   "metadata": {},
   "outputs": [],
   "source": []
  },
  {
   "cell_type": "code",
   "execution_count": null,
   "metadata": {},
   "outputs": [],
   "source": []
  },
  {
   "cell_type": "code",
   "execution_count": null,
   "metadata": {},
   "outputs": [],
   "source": []
  },
  {
   "cell_type": "code",
   "execution_count": null,
   "metadata": {},
   "outputs": [],
   "source": []
  },
  {
   "cell_type": "code",
   "execution_count": null,
   "metadata": {},
   "outputs": [],
   "source": [
    "#Baseline prediction\n",
    "\n",
    "#plt.bar([\" Malaria\",\"Bacteria\",\"Other\"], height=[\n",
    "#    sum(y == 0) / 500,\n",
    "#    sum(y == 1) / 500,\n",
    "#    sum(y == 2) / 500], width=0.8)\n",
    "\n",
    "#plt.ylabel(\"Probability\", fontsize = 30)\n",
    "#plt.xlabel(\"Final Diagnosis\", fontsize = 30)\n",
    "#plt.rcParams[\"figure.figsize\"] = (10, 9)\n",
    "#plt.tick_params(axis='both', which='major', labelsize=15)\n",
    "#plt.tick_params(axis='both', which='minor', labelsize=8)"
   ]
  }
 ],
 "metadata": {
  "kernelspec": {
   "display_name": "Python 3",
   "language": "python",
   "name": "python3"
  },
  "language_info": {
   "codemirror_mode": {
    "name": "ipython",
    "version": 3
   },
   "file_extension": ".py",
   "mimetype": "text/x-python",
   "name": "python",
   "nbconvert_exporter": "python",
   "pygments_lexer": "ipython3",
   "version": "3.7.1"
  }
 },
 "nbformat": 4,
 "nbformat_minor": 2
}
