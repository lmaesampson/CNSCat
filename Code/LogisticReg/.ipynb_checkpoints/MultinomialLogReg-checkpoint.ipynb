{
 "cells": [
  {
   "cell_type": "markdown",
   "metadata": {},
   "source": [
    "This is an extension of LogReg.ipynb with the goal of implementing a multinomial Bayesian logistic regression for direct comparison to machine learning applications. \n",
    "\n",
    "This notebook imports the output of RandomForestClassifier to make comparisons between the two methods"
   ]
  },
  {
   "cell_type": "code",
   "execution_count": 1,
   "metadata": {},
   "outputs": [
    {
     "name": "stderr",
     "output_type": "stream",
     "text": [
      "/anaconda3/lib/python3.6/site-packages/sklearn/cross_validation.py:41: DeprecationWarning: This module was deprecated in version 0.18 in favor of the model_selection module into which all the refactored classes and functions are moved. Also note that the interface of the new CV iterators are different from that of this module. This module will be removed in 0.20.\n",
      "  \"This module will be removed in 0.20.\", DeprecationWarning)\n"
     ]
    }
   ],
   "source": [
    "%reset -f\n",
    "%matplotlib inline\n",
    "\n",
    "import numpy as np\n",
    "import pandas as pd\n",
    "import pymc3 as pm\n",
    "import seaborn as sns\n",
    "import os,sys,inspect\n",
    "currentdir = os.path.dirname(os.path.abspath(inspect.getfile(inspect.currentframe())))\n",
    "parentdir = os.path.dirname(currentdir)\n",
    "dirToInclude=parentdir +'/features/'\n",
    "sys.path.insert(0,dirToInclude)\n",
    "\n",
    "\n",
    "import pandas\n",
    "import numpy as np\n",
    "import pandas as pd\n",
    "from sklearn import cross_validation\n",
    "from sklearn import metrics\n",
    "from sklearn.metrics import roc_auc_score, log_loss, roc_auc_score, roc_curve, auc\n",
    "from sklearn.cross_validation import StratifiedKFold, ShuffleSplit, cross_val_score, train_test_split\n",
    "import matplotlib.pyplot as plt\n",
    "pd.set_option('display.max_columns', None)\n",
    "\n",
    "import scipy as sp\n",
    "import theano.tensor as t"
   ]
  },
  {
   "cell_type": "code",
   "execution_count": 2,
   "metadata": {},
   "outputs": [],
   "source": [
    "#Read in Stata datafile\n",
    "#data_stata = pd.io.stata.read_stata('../ProjectDef/cnsfinall2.dta')\n",
    "#Convert to .csv. Now you never need to do this again\n",
    "#data_stata.to_csv('../Data/cns_data.csv')"
   ]
  },
  {
   "cell_type": "code",
   "execution_count": 3,
   "metadata": {},
   "outputs": [],
   "source": [
    "data = pd.read_csv(\"../Data/cns_data.csv\")\n",
    "rf_results = pd.read_csv(\"Outputs/rf_results.csv\")"
   ]
  },
  {
   "cell_type": "code",
   "execution_count": 4,
   "metadata": {},
   "outputs": [],
   "source": [
    "#Adding a variable that is just 'month and day' - seems better to capture seasonality.\n",
    "data['month'] = pd.DatetimeIndex(data['incdate']).month\n",
    "data['day'] = pd.DatetimeIndex(data['incdate']).day\n",
    "data['monthday'] = data['month']*30+data['day']"
   ]
  },
  {
   "cell_type": "code",
   "execution_count": 5,
   "metadata": {},
   "outputs": [],
   "source": [
    "var = data.loc[:,['glasgtot','blanttot','clinjaund','clinhepato','clinspleno','clinconv','clindehyd',\\\n",
    "                          'clinoedem','clinlymph','clinresp','clinablung','clincyan','clincapref','clincoldext',\\\n",
    "                         'clinearinf','clinanemia','clintonsil','clinorcand','clinhemmor','clinaids',\\\n",
    "                         'abdpain','vom','diar','head','muscle','conv',\\\n",
    "                         'sex','ageyrs','agemth','incdate',\\\n",
    "                         'temp','card','resp','sbp','dbp','weight','height','muac',\\\n",
    "                          'mhhosp', 'mhdevsp', 'mhsickle', 'mhchronstat',\\\n",
    "                         'monthday','dimain', \\\n",
    "                         'incirrit', 'inchead', 'incphoto',\\\n",
    "                         'incfont', 'incneuro' , 'incseiza', 'incseizh',\\\n",
    "                          'incpurp','diag']] #This is the final diagnosis - will be the 'label'\n"
   ]
  },
  {
   "cell_type": "code",
   "execution_count": null,
   "metadata": {},
   "outputs": [],
   "source": []
  },
  {
   "cell_type": "code",
   "execution_count": 6,
   "metadata": {},
   "outputs": [],
   "source": [
    "#Convert the date into a useful value. This just counts the days from the beginning of the dataset \n",
    "var['incdate'] = pd.to_datetime(var['incdate'])\n",
    "var['date'] = (var['incdate'] - var['incdate'].min())  / np.timedelta64(1,'D')\n",
    "\n",
    "#Mapping yes/no to 1/0\n",
    "var['clinjaund'] = var.clinjaund.map({'Yes': 1, 'No': 0})\n",
    "var['clinhepato'] = var.clinhepato.map({'Yes': 1, 'No': 0})\n",
    "var['clinspleno'] = var.clinspleno.map({'Yes': 1, 'No': 0})\n",
    "var['clinconv'] = var.clinconv.map({'Yes': 1, 'No': 0})\n",
    "var['clindehyd'] = var.clindehyd.map({'Yes': 1, 'No': 0})\n",
    "var['clinoedem'] = var.clinoedem.map({'Yes': 1, 'No': 0})\n",
    "var['clinlymph'] = var.clinlymph.map({'Yes': 1, 'No': 0})\n",
    "var['clinresp'] = var.clinresp.map({'Yes': 1, 'No': 0})\n",
    "var['clinablung'] = var.clinablung.map({'Yes': 1, 'No': 0})\n",
    "var['clincyan'] = var.clincyan.map({'Yes': 1, 'No': 0})\n",
    "var['clincapref'] = var.clincapref.map({'Yes': 1, 'No': 0})\n",
    "var['clincoldext'] = var.clincoldext.map({'Yes': 1, 'No': 0})\n",
    "var['clinearinf'] = var.clinearinf.map({'Yes': 1, 'No': 0})\n",
    "var['clintonsil'] = var.clintonsil.map({'Yes': 1, 'No': 0})\n",
    "var['clinorcand'] = var.clinorcand.map({'Yes': 1, 'No': 0})\n",
    "var['clinhemmor'] = var.clinhemmor.map({'Yes': 1, 'No': 0})\n",
    "var['clinaids'] = var.clinaids.map({'Yes': 1, 'No': 0})\n",
    "var['vom'] = var.vom.map({'Yes': 1, 'No': 0})\n",
    "var['diar'] = var.diar.map({'Yes': 1, 'No': 0})\n",
    "var['headache'] = var['head'] #Since 'head' is a function\n",
    "var['conv'] = var.conv.map({'Yes': 1, 'No': 0})\n",
    "var['ageym'] = var.ageyrs.astype(float)*12.\n",
    "var.agemth = var.agemth.astype(float)\n",
    "var['age'] = var.ageym + var.agemth\n",
    "\n",
    "\n",
    "#Medical history variables\n",
    "var['mhhosp'] = var.mhhosp.map({'Yes': 1, 'No':0})\n",
    "\n",
    "\n",
    "#some slightly more compliated mappings\n",
    "var['abdpain'] = var.abdpain.map({\"Don't know\":0, 'No':0, 'Yes':1, 'Not applicable':np.nan})\n",
    "var['headache'] = var.headache.map({\"Don't know\":0, 'No':0, 'Yes':1, 'Not applicable':0})\n",
    "var['muscle'] = var.muscle.map({\"Don't know\":0, 'No':0, 'Yes':1, 'Not applicable':np.nan})\n",
    "\n",
    "var['dimain'] = var.dimain.map({\"Cerebral Malaria\":0, \"Meningoencephalitis\":1, \"Meningitis\":2.,\\\n",
    "                                       \"Other\":3})\n",
    "\n",
    "var['mhdevsp'] = var.mhdevsp.map({'OTHER':1, 'GLOBAL DEVELOPMENTAL DELAY':1, 'HYDROCEPHALUS':1,\n",
    "       'HEARING LOSSES':1, 'MOTOR DEVELOPEMENTAL DELAY':1,\n",
    "       'SPEECH DEVELOPEMENTAL DELAY':1})\n",
    "\n",
    "#Mapping of inclusion variables 6-8 MLW\n",
    "var['incirrit'] = var.incirrit.map({\"Don't know\":0, 'No':0, 'Yes':1, 'Not applicable':0})\n",
    "var['inchead'] = var.inchead.map({\"Don't know\":0, 'No':0, 'Yes':1, 'Not applicable':0})\n",
    "var['incphoto'] = var.incphoto.map({\"Don't know\":0, 'No':0, 'Yes':1, 'Not applicable':0})\n",
    "var['incfont'] = var.incfont.map({\"Don't know\":0, 'No':0, 'Yes':1, 'Not applicable':0})\n",
    "var['incneuro'] = var.incneuro.map({\"Don't know\":0, 'No':0, 'Yes':1, 'Not applicable':0})\n",
    "var['incseiza'] = var.incseiza.map({\"Don't know\":0, 'No':0, 'Yes':1, 'Not applicable':0})\n",
    "var['incseizh'] = var.incseizh.map({\"Don't know\":0, 'No':0, 'Yes':1, 'Not applicable':0})\n",
    "var['incpurp'] = var.incpurp.map({\"Don't know\":0, 'No':0, 'Yes':1, 'Not applicable':0})\n",
    "\n",
    "\n",
    "#To begin simply, I'll just separate malaria from bacterial to avoid multinomial\n",
    "var['diag'] = var.diag.map({'malaria':0, 'cereb malaria':0,'virus-malaria':0,\\\n",
    "                                    'virus-bacteria':1, 'bacteremia':1,'bact meningitis':1,\\\n",
    "                                    'virus-other':2,'virus':2,'malaria-bacterial':3,\\\n",
    "                                    'tb':4,'crypto':4, '0.0':5})"
   ]
  },
  {
   "cell_type": "code",
   "execution_count": 7,
   "metadata": {},
   "outputs": [],
   "source": [
    "#A lot of these have very few actual answers. i.e., 'headache.' What happens if you map 'nan' to 'No'?\n",
    "#This is probably something we'll want to play around with.\n",
    "values = {'clinjaund':0,'clinhepato':0,'clinaids':0,'clinhemmor':0,'clinorcand':0,'clintonsil':0,'clinearinf':0,\\\n",
    "          'clinresp':0,'clinlymph':0,'clindehyd':0,'clinoedem':0,'clinablung':0,'clincyan':0,'clincapref':0,\n",
    "          'clincoldext':0, 'mhchronstat':0, 'mhdevsp':0,\\\n",
    "         'conv':0,'abdpain':0,'vom':0,'diar':0,'headache':0,'muscle':0}\n",
    "var = var.fillna(value=values)"
   ]
  },
  {
   "cell_type": "code",
   "execution_count": 8,
   "metadata": {},
   "outputs": [],
   "source": [
    "#You really shouldn't use the initial diagnosis as a continuous variable ,\n",
    "#you need to map it into a set of yes/no question.\n",
    "var['CMalaria'] = var.dimain.map({0:1,1:0,2:0,3:0})\n",
    "var['Enceph'] = var.dimain.map({0:0,1:1,2:0,3:0})\n",
    "var['Mening'] = var.dimain.map({0:0,1:0,2:1,3:0})\n",
    "var['Other'] = var.dimain.map({0:0,1:0,2:0,3:1})\n"
   ]
  },
  {
   "cell_type": "code",
   "execution_count": null,
   "metadata": {},
   "outputs": [],
   "source": []
  },
  {
   "cell_type": "code",
   "execution_count": 9,
   "metadata": {
    "scrolled": true
   },
   "outputs": [],
   "source": [
    "#NB, overwriting var with data exported from another notebook, delete unessecary code above\n",
    "var = rf_results\n",
    "#Keep only what we are using\n",
    "var = var.loc[:,['CMalaria','Mening','Enceph','glasgtot','sbp','diag','patientid']]\n",
    "#var = var.loc[:,['CMalaria','Mening','Enceph','glasgtot','sbp','diag']]"
   ]
  },
  {
   "cell_type": "code",
   "execution_count": 10,
   "metadata": {},
   "outputs": [],
   "source": [
    "#Drop NaNs\n",
    "var = var.dropna()"
   ]
  },
  {
   "cell_type": "code",
   "execution_count": 11,
   "metadata": {},
   "outputs": [
    {
     "data": {
      "text/plain": [
       "(361, 7)"
      ]
     },
     "execution_count": 11,
     "metadata": {},
     "output_type": "execute_result"
    }
   ],
   "source": [
    "var.shape"
   ]
  },
  {
   "cell_type": "code",
   "execution_count": 12,
   "metadata": {},
   "outputs": [
    {
     "data": {
      "text/plain": [
       "(120, 7)"
      ]
     },
     "execution_count": 12,
     "metadata": {},
     "output_type": "execute_result"
    }
   ],
   "source": [
    "#Separate into train and test (same split as in random forest analysis)\n",
    "test = var[0:120]\n",
    "train = var[120:361]\n",
    "test.shape"
   ]
  },
  {
   "cell_type": "markdown",
   "metadata": {},
   "source": [
    "# Adapted from https://nbviewer.jupyter.org/gist/ceshine/c9a4308384e744f062f5"
   ]
  },
  {
   "cell_type": "code",
   "execution_count": 17,
   "metadata": {},
   "outputs": [],
   "source": [
    "y = train['diag']\n",
    "y = y[np.isin(y,[0,1])] #logreg comparison of mal and bact groups"
   ]
  },
  {
   "cell_type": "code",
   "execution_count": 14,
   "metadata": {},
   "outputs": [],
   "source": [
    "x = train[['CMalaria','Mening','Enceph','glasgtot','sbp']]\n",
    "x = x.loc[y.index]"
   ]
  },
  {
   "cell_type": "code",
   "execution_count": 15,
   "metadata": {},
   "outputs": [],
   "source": [
    "patientid = train['patientid']\n",
    "patientid = patientid[y.index]"
   ]
  },
  {
   "cell_type": "code",
   "execution_count": 16,
   "metadata": {},
   "outputs": [],
   "source": [
    "def tinvlogit(x):\n",
    "    return t.exp(x) / (1 + t.exp(x))"
   ]
  },
  {
   "cell_type": "code",
   "execution_count": 17,
   "metadata": {},
   "outputs": [],
   "source": [
    "with pm.Model() as logistic_model:\n",
    "\n",
    "    effects = pm.Normal('effects', mu=0, sd=10, shape=x.shape[1])\n",
    "    \n",
    "    # expected parameter\n",
    "    p = tinvlogit(t.sum(effects * x, axis=1))\n",
    "    \n",
    "    # Likelihood (sampling distribution) of observations\n",
    "    Y_obs = pm.Bernoulli('Y_obs', p=p, observed=y)\n",
    "\n"
   ]
  },
  {
   "cell_type": "code",
   "execution_count": 18,
   "metadata": {},
   "outputs": [
    {
     "name": "stderr",
     "output_type": "stream",
     "text": [
      "Auto-assigning NUTS sampler...\n",
      "Initializing NUTS using jitter+adapt_diag...\n",
      "Sequential sampling (1 chains in 1 job)\n",
      "NUTS: [effects]\n",
      "100%|██████████| 3000/3000 [00:13<00:00, 217.76it/s]\n",
      "Only one chain was sampled, this makes it impossible to run some convergence checks\n"
     ]
    }
   ],
   "source": [
    "with logistic_model:\n",
    "    trace = pm.sample(1000, tune=2000, chains=1)\n",
    "    \n",
    "#with logistic_model:\n",
    "#    # move the chain to the MAP which should be a good starting point\n",
    "#    start = pm.find_MAP()\n",
    "#    step = pm.NUTS(scaling=start)\n",
    "#    trace = pm.sample(5000, step, start)"
   ]
  },
  {
   "cell_type": "code",
   "execution_count": 19,
   "metadata": {},
   "outputs": [
    {
     "data": {
      "text/plain": [
       "array([[<matplotlib.axes._subplots.AxesSubplot object at 0x113a63f98>,\n",
       "        <matplotlib.axes._subplots.AxesSubplot object at 0x113ac0080>]],\n",
       "      dtype=object)"
      ]
     },
     "execution_count": 19,
     "metadata": {},
     "output_type": "execute_result"
    },
    {
     "data": {
      "image/png": "[encoded data removed]",
      "text/plain": [
       "<matplotlib.figure.Figure at 0x113a63898>"
      ]
     },
     "metadata": {},
     "output_type": "display_data"
    }
   ],
   "source": [
    "pm.traceplot(trace)"
   ]
  },
  {
   "cell_type": "code",
   "execution_count": 20,
   "metadata": {},
   "outputs": [],
   "source": [
    "new_y = test['diag']\n"
   ]
  },
  {
   "cell_type": "code",
   "execution_count": 21,
   "metadata": {},
   "outputs": [],
   "source": [
    "new_x = test[['CMalaria','Mening','Enceph','glasgtot','sbp']]"
   ]
  },
  {
   "cell_type": "code",
   "execution_count": 22,
   "metadata": {},
   "outputs": [],
   "source": [
    "new_patientid = test['patientid']\n"
   ]
  },
  {
   "cell_type": "code",
   "execution_count": 23,
   "metadata": {},
   "outputs": [],
   "source": [
    "def invlogit(x):\n",
    "    return np.exp(x) / (1 + np.exp(x))"
   ]
  },
  {
   "cell_type": "code",
   "execution_count": 24,
   "metadata": {},
   "outputs": [
    {
     "data": {
      "text/plain": [
       "array([-3.21609172, -3.1862053 , -3.19343239, -3.1564819 , -3.40068118,\n",
       "       -3.28966669,  1.33758153,  1.50422638, -3.03775129,  1.42293529,\n",
       "        1.51161647,  1.15989314, -3.1417017 ,  1.48944618, -3.8217538 ,\n",
       "        1.24102122,  1.24102122,  1.45988578,  1.76369489,  0.88629647])"
      ]
     },
     "execution_count": 24,
     "metadata": {},
     "output_type": "execute_result"
    }
   ],
   "source": [
    "eta = np.zeros(new_x.shape[0]) #Generate log odds of bacterial by averaging posterior\n",
    "for row in trace['effects'][:,None,:]:\n",
    "    row=row[0]\n",
    "    eta = np.add(eta, np.dot(new_x, row.transpose()))\n",
    "eta = np.divide(eta, trace['effects'][:,None,:].shape[0])\n",
    "eta[:20]"
   ]
  },
  {
   "cell_type": "code",
   "execution_count": 25,
   "metadata": {},
   "outputs": [
    {
     "data": {
      "text/plain": [
       "array([0.03856463, 0.03968815, 0.03941362, 0.04083663, 0.03227418,\n",
       "       0.03592739, 0.79209194, 0.81820398, 0.04574924, 0.80579816,\n",
       "       0.81930064, 0.7613133 , 0.0414195 , 0.81599513, 0.0214205 ,\n",
       "       0.77574172, 0.77574172, 0.81151521, 0.85367181, 0.7081253 ])"
      ]
     },
     "execution_count": 25,
     "metadata": {},
     "output_type": "execute_result"
    }
   ],
   "source": [
    "p = invlogit(eta) #probability of bacterial infection\n",
    "\n",
    "p[:20]"
   ]
  },
  {
   "cell_type": "code",
   "execution_count": 26,
   "metadata": {},
   "outputs": [],
   "source": [
    "prediction = pd.DataFrame({'p_bact':p}) #build df to visualize results\n",
    "prediction['pred_bact'] = (prediction['p_bact'] > .5) * 1"
   ]
  },
  {
   "cell_type": "code",
   "execution_count": 18,
   "metadata": {},
   "outputs": [
    {
     "ename": "NameError",
     "evalue": "name 'new_y' is not defined",
     "output_type": "error",
     "traceback": [
      "\u001b[0;31m---------------------------------------------------------------------------\u001b[0m",
      "\u001b[0;31mNameError\u001b[0m                                 Traceback (most recent call last)",
      "\u001b[0;32m<ipython-input-18-5502cac6e252>\u001b[0m in \u001b[0;36m<module>\u001b[0;34m()\u001b[0m\n\u001b[0;32m----> 1\u001b[0;31m \u001b[0mprediction\u001b[0m\u001b[0;34m[\u001b[0m\u001b[0;34m\"diag\"\u001b[0m\u001b[0;34m]\u001b[0m \u001b[0;34m=\u001b[0m \u001b[0mnew_y\u001b[0m\u001b[0;34m.\u001b[0m\u001b[0mreset_index\u001b[0m\u001b[0;34m(\u001b[0m\u001b[0mdrop\u001b[0m\u001b[0;34m=\u001b[0m\u001b[0;32mTrue\u001b[0m\u001b[0;34m)\u001b[0m\u001b[0;34m\u001b[0m\u001b[0m\n\u001b[0m\u001b[1;32m      2\u001b[0m \u001b[0mprediction\u001b[0m\u001b[0;34m[\u001b[0m\u001b[0;34m\"CMalaria\"\u001b[0m\u001b[0;34m]\u001b[0m \u001b[0;34m=\u001b[0m \u001b[0mnew_x\u001b[0m\u001b[0;34m.\u001b[0m\u001b[0mreset_index\u001b[0m\u001b[0;34m(\u001b[0m\u001b[0mdrop\u001b[0m\u001b[0;34m=\u001b[0m\u001b[0;32mTrue\u001b[0m\u001b[0;34m)\u001b[0m\u001b[0;34m[\u001b[0m\u001b[0;34m\"CMalaria\"\u001b[0m\u001b[0;34m]\u001b[0m\u001b[0;34m\u001b[0m\u001b[0m\n\u001b[1;32m      3\u001b[0m \u001b[0mprediction\u001b[0m\u001b[0;34m[\u001b[0m\u001b[0;34m\"Enceph\"\u001b[0m\u001b[0;34m]\u001b[0m \u001b[0;34m=\u001b[0m \u001b[0mnew_x\u001b[0m\u001b[0;34m.\u001b[0m\u001b[0mreset_index\u001b[0m\u001b[0;34m(\u001b[0m\u001b[0mdrop\u001b[0m\u001b[0;34m=\u001b[0m\u001b[0;32mTrue\u001b[0m\u001b[0;34m)\u001b[0m\u001b[0;34m[\u001b[0m\u001b[0;34m\"Enceph\"\u001b[0m\u001b[0;34m]\u001b[0m\u001b[0;34m\u001b[0m\u001b[0m\n\u001b[1;32m      4\u001b[0m \u001b[0mprediction\u001b[0m\u001b[0;34m[\u001b[0m\u001b[0;34m\"Mening\"\u001b[0m\u001b[0;34m]\u001b[0m \u001b[0;34m=\u001b[0m \u001b[0mnew_x\u001b[0m\u001b[0;34m.\u001b[0m\u001b[0mreset_index\u001b[0m\u001b[0;34m(\u001b[0m\u001b[0mdrop\u001b[0m\u001b[0;34m=\u001b[0m\u001b[0;32mTrue\u001b[0m\u001b[0;34m)\u001b[0m\u001b[0;34m[\u001b[0m\u001b[0;34m\"Mening\"\u001b[0m\u001b[0;34m]\u001b[0m\u001b[0;34m\u001b[0m\u001b[0m\n\u001b[1;32m      5\u001b[0m \u001b[0mprediction\u001b[0m\u001b[0;34m[\u001b[0m\u001b[0;34m\"glasgtot\"\u001b[0m\u001b[0;34m]\u001b[0m \u001b[0;34m=\u001b[0m \u001b[0mnew_x\u001b[0m\u001b[0;34m.\u001b[0m\u001b[0mreset_index\u001b[0m\u001b[0;34m(\u001b[0m\u001b[0mdrop\u001b[0m\u001b[0;34m=\u001b[0m\u001b[0;32mTrue\u001b[0m\u001b[0;34m)\u001b[0m\u001b[0;34m[\u001b[0m\u001b[0;34m\"glasgtot\"\u001b[0m\u001b[0;34m]\u001b[0m\u001b[0;34m\u001b[0m\u001b[0m\n",
      "\u001b[0;31mNameError\u001b[0m: name 'new_y' is not defined"
     ]
    }
   ],
   "source": [
    "prediction[\"diag\"] = new_y.reset_index(drop=True)\n",
    "prediction[\"CMalaria\"] = new_x.reset_index(drop=True)[\"CMalaria\"]\n",
    "prediction[\"Enceph\"] = new_x.reset_index(drop=True)[\"Enceph\"]\n",
    "prediction[\"Mening\"] = new_x.reset_index(drop=True)[\"Mening\"]\n",
    "prediction[\"glasgtot\"] = new_x.reset_index(drop=True)[\"glasgtot\"]\n",
    "prediction[\"sbp\"] = new_x.reset_index(drop=True)[\"sbp\"]\n",
    "prediction[\"patientid\"] = new_patientid.reset_index(drop=True)\n",
    "prediction.head(5) #observe pred_diag compared to diag to see difference between prediction and actual diagnosis"
   ]
  },
  {
   "cell_type": "code",
   "execution_count": 28,
   "metadata": {},
   "outputs": [],
   "source": [
    "#Now repeat the regression on the same test/train set for mal and viral"
   ]
  },
  {
   "cell_type": "code",
   "execution_count": 29,
   "metadata": {},
   "outputs": [],
   "source": [
    "y = train['diag']\n",
    "y = y[np.isin(y,[0,2])] #logreg comparison of mal and bact groups\n",
    "y[y==2] = 1 "
   ]
  },
  {
   "cell_type": "code",
   "execution_count": 30,
   "metadata": {},
   "outputs": [],
   "source": [
    "x = train[['CMalaria','Mening','Enceph','glasgtot','sbp']]\n",
    "x = x.loc[y.index]"
   ]
  },
  {
   "cell_type": "code",
   "execution_count": 31,
   "metadata": {},
   "outputs": [],
   "source": [
    "patientid = train['patientid']\n",
    "patientid = patientid[y.index]"
   ]
  },
  {
   "cell_type": "code",
   "execution_count": 32,
   "metadata": {},
   "outputs": [],
   "source": [
    "def tinvlogit(x):\n",
    "    return t.exp(x) / (1 + t.exp(x))"
   ]
  },
  {
   "cell_type": "code",
   "execution_count": 35,
   "metadata": {},
   "outputs": [],
   "source": [
    "with pm.Model() as logistic_model:\n",
    "\n",
    "    effects = pm.Normal('effects', mu=0, sd=10, shape=x.shape[1])\n",
    "    \n",
    "    # expected parameter\n",
    "    p = tinvlogit(t.sum(effects * x, axis=1))\n",
    "    \n",
    "    # Likelihood (sampling distribution) of observations\n",
    "    Y_obs = pm.Bernoulli('Y_obs', p=p, observed=y)\n",
    "\n"
   ]
  },
  {
   "cell_type": "code",
   "execution_count": 36,
   "metadata": {
    "scrolled": true
   },
   "outputs": [
    {
     "name": "stderr",
     "output_type": "stream",
     "text": [
      "Auto-assigning NUTS sampler...\n",
      "Initializing NUTS using jitter+adapt_diag...\n",
      "Sequential sampling (1 chains in 1 job)\n",
      "NUTS: [effects]\n",
      "100%|██████████| 3000/3000 [00:15<00:00, 197.83it/s]\n",
      "Only one chain was sampled, this makes it impossible to run some convergence checks\n"
     ]
    }
   ],
   "source": [
    "with logistic_model:\n",
    "    trace = pm.sample(1000, tune=2000, chains=1)\n",
    "    \n",
    "#with logistic_model:\n",
    "#    # move the chain to the MAP which should be a good starting point\n",
    "#    start = pm.find_MAP()\n",
    "#    step = pm.NUTS(scaling=start)\n",
    "#    trace = pm.sample(5000, step, start)"
   ]
  },
  {
   "cell_type": "code",
   "execution_count": 37,
   "metadata": {},
   "outputs": [],
   "source": [
    "new_y = test['diag']"
   ]
  },
  {
   "cell_type": "code",
   "execution_count": 38,
   "metadata": {},
   "outputs": [],
   "source": [
    "new_x = test[['CMalaria','Mening','Enceph','glasgtot','sbp']]"
   ]
  },
  {
   "cell_type": "code",
   "execution_count": 39,
   "metadata": {},
   "outputs": [],
   "source": [
    "new_patientid = test['patientid']"
   ]
  },
  {
   "cell_type": "code",
   "execution_count": 40,
   "metadata": {},
   "outputs": [],
   "source": [
    "def invlogit(x):\n",
    "    return np.exp(x) / (1 + np.exp(x))"
   ]
  },
  {
   "cell_type": "code",
   "execution_count": 41,
   "metadata": {},
   "outputs": [
    {
     "data": {
      "text/plain": [
       "array([ -4.83522758,  -4.72653298,  -4.77674388,  -4.6024802 ,\n",
       "        -5.72190414,  -5.21447127, -10.98527027,  -3.06243798,\n",
       "        -4.09091093,  -3.44581807,  -3.02758524, -11.79101958,\n",
       "        -4.53277473,  -3.13214345,  -7.72386822, -11.39228133,\n",
       "       -11.39228133,  -3.27155439,  -1.91938307, -13.06521263])"
      ]
     },
     "execution_count": 41,
     "metadata": {},
     "output_type": "execute_result"
    }
   ],
   "source": [
    "eta = np.zeros(new_x.shape[0]) #Generate log odds of viral by averaging posterior\n",
    "for row in trace['effects'][:,None,:]:\n",
    "    row=row[0]\n",
    "    eta = np.add(eta, np.dot(new_x, row.transpose()))\n",
    "eta = np.divide(eta, trace['effects'][:,None,:].shape[0])\n",
    "eta[:20]"
   ]
  },
  {
   "cell_type": "code",
   "execution_count": 42,
   "metadata": {},
   "outputs": [
    {
     "data": {
      "text/plain": [
       "array([7.88225641e-03, 8.77936579e-03, 8.35302123e-03, 9.92739471e-03,\n",
       "       3.26279117e-03, 5.40790314e-03, 1.69492459e-05, 4.46835177e-02,\n",
       "       1.64489009e-02, 3.08938185e-02, 4.61951074e-02, 7.57219815e-06,\n",
       "       1.06364536e-02, 4.18006703e-02, 4.41951561e-04, 1.12821062e-05,\n",
       "       1.12821062e-05, 3.65600378e-02, 1.27930377e-01, 2.11762634e-06])"
      ]
     },
     "execution_count": 42,
     "metadata": {},
     "output_type": "execute_result"
    }
   ],
   "source": [
    "p = invlogit(eta) #probability of viral infection\n",
    "\n",
    "p[:20]"
   ]
  },
  {
   "cell_type": "code",
   "execution_count": 43,
   "metadata": {},
   "outputs": [
    {
     "data": {
      "text/html": [
       "<div>\n",
       "<style scoped>\n",
       "    .dataframe tbody tr th:only-of-type {\n",
       "        vertical-align: middle;\n",
       "    }\n",
       "\n",
       "    .dataframe tbody tr th {\n",
       "        vertical-align: top;\n",
       "    }\n",
       "\n",
       "    .dataframe thead th {\n",
       "        text-align: right;\n",
       "    }\n",
       "</style>\n",
       "<table border=\"1\" class=\"dataframe\">\n",
       "  <thead>\n",
       "    <tr style=\"text-align: right;\">\n",
       "      <th></th>\n",
       "      <th>p_bact</th>\n",
       "      <th>pred_bact</th>\n",
       "      <th>diag</th>\n",
       "      <th>CMalaria</th>\n",
       "      <th>Enceph</th>\n",
       "      <th>Mening</th>\n",
       "      <th>glasgtot</th>\n",
       "      <th>sbp</th>\n",
       "      <th>patientid</th>\n",
       "      <th>p_vir</th>\n",
       "      <th>pred_vir</th>\n",
       "    </tr>\n",
       "  </thead>\n",
       "  <tbody>\n",
       "    <tr>\n",
       "      <th>0</th>\n",
       "      <td>0.038565</td>\n",
       "      <td>0</td>\n",
       "      <td>0.0</td>\n",
       "      <td>1.0</td>\n",
       "      <td>0.0</td>\n",
       "      <td>0.0</td>\n",
       "      <td>9.0</td>\n",
       "      <td>86.0</td>\n",
       "      <td>244.0</td>\n",
       "      <td>0.007882</td>\n",
       "      <td>0</td>\n",
       "    </tr>\n",
       "    <tr>\n",
       "      <th>1</th>\n",
       "      <td>0.039688</td>\n",
       "      <td>0</td>\n",
       "      <td>0.0</td>\n",
       "      <td>1.0</td>\n",
       "      <td>0.0</td>\n",
       "      <td>0.0</td>\n",
       "      <td>7.0</td>\n",
       "      <td>94.0</td>\n",
       "      <td>100.0</td>\n",
       "      <td>0.008779</td>\n",
       "      <td>0</td>\n",
       "    </tr>\n",
       "    <tr>\n",
       "      <th>2</th>\n",
       "      <td>0.039414</td>\n",
       "      <td>0</td>\n",
       "      <td>5.0</td>\n",
       "      <td>1.0</td>\n",
       "      <td>0.0</td>\n",
       "      <td>0.0</td>\n",
       "      <td>6.0</td>\n",
       "      <td>101.0</td>\n",
       "      <td>66.0</td>\n",
       "      <td>0.008353</td>\n",
       "      <td>0</td>\n",
       "    </tr>\n",
       "    <tr>\n",
       "      <th>3</th>\n",
       "      <td>0.040837</td>\n",
       "      <td>0</td>\n",
       "      <td>0.0</td>\n",
       "      <td>1.0</td>\n",
       "      <td>0.0</td>\n",
       "      <td>0.0</td>\n",
       "      <td>6.0</td>\n",
       "      <td>96.0</td>\n",
       "      <td>432.0</td>\n",
       "      <td>0.009927</td>\n",
       "      <td>0</td>\n",
       "    </tr>\n",
       "    <tr>\n",
       "      <th>4</th>\n",
       "      <td>0.032274</td>\n",
       "      <td>0</td>\n",
       "      <td>0.0</td>\n",
       "      <td>1.0</td>\n",
       "      <td>0.0</td>\n",
       "      <td>0.0</td>\n",
       "      <td>8.0</td>\n",
       "      <td>117.0</td>\n",
       "      <td>127.0</td>\n",
       "      <td>0.003263</td>\n",
       "      <td>0</td>\n",
       "    </tr>\n",
       "  </tbody>\n",
       "</table>\n",
       "</div>"
      ],
      "text/plain": [
       "     p_bact  pred_bact  diag  CMalaria  Enceph  Mening  glasgtot    sbp  \\\n",
       "0  0.038565          0   0.0       1.0     0.0     0.0       9.0   86.0   \n",
       "1  0.039688          0   0.0       1.0     0.0     0.0       7.0   94.0   \n",
       "2  0.039414          0   5.0       1.0     0.0     0.0       6.0  101.0   \n",
       "3  0.040837          0   0.0       1.0     0.0     0.0       6.0   96.0   \n",
       "4  0.032274          0   0.0       1.0     0.0     0.0       8.0  117.0   \n",
       "\n",
       "   patientid     p_vir  pred_vir  \n",
       "0      244.0  0.007882         0  \n",
       "1      100.0  0.008779         0  \n",
       "2       66.0  0.008353         0  \n",
       "3      432.0  0.009927         0  \n",
       "4      127.0  0.003263         0  "
      ]
     },
     "execution_count": 43,
     "metadata": {},
     "output_type": "execute_result"
    }
   ],
   "source": [
    "prediction['p_vir'] = p\n",
    "prediction['pred_vir'] = (prediction['p_vir'] > .5) * 1\n",
    "prediction.head(5)"
   ]
  },
  {
   "cell_type": "code",
   "execution_count": 44,
   "metadata": {},
   "outputs": [],
   "source": [
    "# Now do mal and concurrent-mal-bact\n"
   ]
  },
  {
   "cell_type": "code",
   "execution_count": 45,
   "metadata": {},
   "outputs": [],
   "source": [
    "y = train['diag']\n",
    "y = y[np.isin(y,[0,3])] #logreg comparison of mal and bact groups\n",
    "y[y==3] = 1 "
   ]
  },
  {
   "cell_type": "code",
   "execution_count": 46,
   "metadata": {},
   "outputs": [],
   "source": [
    "x = train[['CMalaria','Mening','Enceph','glasgtot','sbp']]\n",
    "x = x.loc[y.index]"
   ]
  },
  {
   "cell_type": "code",
   "execution_count": 47,
   "metadata": {},
   "outputs": [],
   "source": [
    "patientid = train['patientid']\n",
    "patientid = patientid[y.index]"
   ]
  },
  {
   "cell_type": "code",
   "execution_count": 48,
   "metadata": {},
   "outputs": [],
   "source": [
    "def tinvlogit(x):\n",
    "    return t.exp(x) / (1 + t.exp(x))"
   ]
  },
  {
   "cell_type": "code",
   "execution_count": 49,
   "metadata": {},
   "outputs": [],
   "source": [
    "with pm.Model() as logistic_model:\n",
    "\n",
    "    effects = pm.Normal('effects', mu=0, sd=10, shape=x.shape[1])\n",
    "    \n",
    "    # expected parameter\n",
    "    p = tinvlogit(t.sum(effects * x, axis=1))\n",
    "    \n",
    "    # Likelihood (sampling distribution) of observations\n",
    "    Y_obs = pm.Bernoulli('Y_obs', p=p, observed=y)\n",
    "\n"
   ]
  },
  {
   "cell_type": "code",
   "execution_count": 50,
   "metadata": {
    "scrolled": true
   },
   "outputs": [
    {
     "name": "stderr",
     "output_type": "stream",
     "text": [
      "Auto-assigning NUTS sampler...\n",
      "Initializing NUTS using jitter+adapt_diag...\n",
      "Sequential sampling (1 chains in 1 job)\n",
      "NUTS: [effects]\n",
      "100%|██████████| 3000/3000 [00:12<00:00, 231.47it/s]\n",
      "Only one chain was sampled, this makes it impossible to run some convergence checks\n"
     ]
    }
   ],
   "source": [
    "with logistic_model:\n",
    "    trace = pm.sample(1000, tune=2000, chains=1)\n",
    "    \n",
    "#with logistic_model:\n",
    "#    # move the chain to the MAP which should be a good starting point\n",
    "#    start = pm.find_MAP()\n",
    "#    step = pm.NUTS(scaling=start)\n",
    "#    trace = pm.sample(5000, step, start)"
   ]
  },
  {
   "cell_type": "code",
   "execution_count": 51,
   "metadata": {},
   "outputs": [],
   "source": [
    "new_y = test['diag']"
   ]
  },
  {
   "cell_type": "code",
   "execution_count": 52,
   "metadata": {},
   "outputs": [],
   "source": [
    "new_x = test[['CMalaria','Mening','Enceph','glasgtot','sbp']]"
   ]
  },
  {
   "cell_type": "code",
   "execution_count": 53,
   "metadata": {},
   "outputs": [],
   "source": [
    "new_patientid = test['patientid']"
   ]
  },
  {
   "cell_type": "code",
   "execution_count": 54,
   "metadata": {},
   "outputs": [],
   "source": [
    "def invlogit(x):\n",
    "    return np.exp(x) / (1 + np.exp(x))"
   ]
  },
  {
   "cell_type": "code",
   "execution_count": 55,
   "metadata": {},
   "outputs": [
    {
     "data": {
      "text/plain": [
       "array([ -3.28527436,  -3.2043673 ,  -3.2011138 ,  -3.13911374,\n",
       "        -3.57962115,  -3.37796747,  -9.4549707 , -10.86879193,\n",
       "        -2.89375302, -11.00519207, -10.85639192,  -9.78387801,\n",
       "        -3.11431372, -10.89359196,  -4.27076834,  -9.66313138,\n",
       "        -9.66313138, -10.94319201, -10.35652397, -10.25833197])"
      ]
     },
     "execution_count": 55,
     "metadata": {},
     "output_type": "execute_result"
    }
   ],
   "source": [
    "eta = np.zeros(new_x.shape[0]) #Generate log odds of viral by averaging posterior\n",
    "for row in trace['effects'][:,None,:]:\n",
    "    row=row[0]\n",
    "    eta = np.add(eta, np.dot(new_x, row.transpose()))\n",
    "eta = np.divide(eta, trace['effects'][:,None,:].shape[0])\n",
    "eta[:20]"
   ]
  },
  {
   "cell_type": "code",
   "execution_count": 56,
   "metadata": {},
   "outputs": [
    {
     "data": {
      "text/plain": [
       "array([3.60798348e-02, 3.90017041e-02, 3.91238300e-02, 4.15223766e-02,\n",
       "       2.71297145e-02, 3.29911767e-02, 7.82932629e-05, 1.90430000e-05,\n",
       "       5.24632388e-02, 1.66149331e-05, 1.92805990e-05, 5.63496595e-05,\n",
       "       4.25206744e-02, 1.85765498e-05, 1.37785439e-02, 6.35810577e-05,\n",
       "       6.35810577e-05, 1.76776455e-05, 3.17837388e-05, 3.50628978e-05])"
      ]
     },
     "execution_count": 56,
     "metadata": {},
     "output_type": "execute_result"
    }
   ],
   "source": [
    "p = invlogit(eta) #probability of viral infection\n",
    "\n",
    "p[:20]"
   ]
  },
  {
   "cell_type": "code",
   "execution_count": 57,
   "metadata": {},
   "outputs": [
    {
     "data": {
      "text/html": [
       "<div>\n",
       "<style scoped>\n",
       "    .dataframe tbody tr th:only-of-type {\n",
       "        vertical-align: middle;\n",
       "    }\n",
       "\n",
       "    .dataframe tbody tr th {\n",
       "        vertical-align: top;\n",
       "    }\n",
       "\n",
       "    .dataframe thead th {\n",
       "        text-align: right;\n",
       "    }\n",
       "</style>\n",
       "<table border=\"1\" class=\"dataframe\">\n",
       "  <thead>\n",
       "    <tr style=\"text-align: right;\">\n",
       "      <th></th>\n",
       "      <th>p_bact</th>\n",
       "      <th>pred_bact</th>\n",
       "      <th>diag</th>\n",
       "      <th>CMalaria</th>\n",
       "      <th>Enceph</th>\n",
       "      <th>Mening</th>\n",
       "      <th>glasgtot</th>\n",
       "      <th>sbp</th>\n",
       "      <th>patientid</th>\n",
       "      <th>p_vir</th>\n",
       "      <th>pred_vir</th>\n",
       "      <th>p_mal&amp;bact</th>\n",
       "      <th>pred_mal&amp;bact</th>\n",
       "    </tr>\n",
       "  </thead>\n",
       "  <tbody>\n",
       "    <tr>\n",
       "      <th>0</th>\n",
       "      <td>0.038565</td>\n",
       "      <td>0</td>\n",
       "      <td>0.0</td>\n",
       "      <td>1.0</td>\n",
       "      <td>0.0</td>\n",
       "      <td>0.0</td>\n",
       "      <td>9.0</td>\n",
       "      <td>86.0</td>\n",
       "      <td>244.0</td>\n",
       "      <td>0.007882</td>\n",
       "      <td>0</td>\n",
       "      <td>0.036080</td>\n",
       "      <td>0</td>\n",
       "    </tr>\n",
       "    <tr>\n",
       "      <th>1</th>\n",
       "      <td>0.039688</td>\n",
       "      <td>0</td>\n",
       "      <td>0.0</td>\n",
       "      <td>1.0</td>\n",
       "      <td>0.0</td>\n",
       "      <td>0.0</td>\n",
       "      <td>7.0</td>\n",
       "      <td>94.0</td>\n",
       "      <td>100.0</td>\n",
       "      <td>0.008779</td>\n",
       "      <td>0</td>\n",
       "      <td>0.039002</td>\n",
       "      <td>0</td>\n",
       "    </tr>\n",
       "    <tr>\n",
       "      <th>2</th>\n",
       "      <td>0.039414</td>\n",
       "      <td>0</td>\n",
       "      <td>5.0</td>\n",
       "      <td>1.0</td>\n",
       "      <td>0.0</td>\n",
       "      <td>0.0</td>\n",
       "      <td>6.0</td>\n",
       "      <td>101.0</td>\n",
       "      <td>66.0</td>\n",
       "      <td>0.008353</td>\n",
       "      <td>0</td>\n",
       "      <td>0.039124</td>\n",
       "      <td>0</td>\n",
       "    </tr>\n",
       "    <tr>\n",
       "      <th>3</th>\n",
       "      <td>0.040837</td>\n",
       "      <td>0</td>\n",
       "      <td>0.0</td>\n",
       "      <td>1.0</td>\n",
       "      <td>0.0</td>\n",
       "      <td>0.0</td>\n",
       "      <td>6.0</td>\n",
       "      <td>96.0</td>\n",
       "      <td>432.0</td>\n",
       "      <td>0.009927</td>\n",
       "      <td>0</td>\n",
       "      <td>0.041522</td>\n",
       "      <td>0</td>\n",
       "    </tr>\n",
       "    <tr>\n",
       "      <th>4</th>\n",
       "      <td>0.032274</td>\n",
       "      <td>0</td>\n",
       "      <td>0.0</td>\n",
       "      <td>1.0</td>\n",
       "      <td>0.0</td>\n",
       "      <td>0.0</td>\n",
       "      <td>8.0</td>\n",
       "      <td>117.0</td>\n",
       "      <td>127.0</td>\n",
       "      <td>0.003263</td>\n",
       "      <td>0</td>\n",
       "      <td>0.027130</td>\n",
       "      <td>0</td>\n",
       "    </tr>\n",
       "  </tbody>\n",
       "</table>\n",
       "</div>"
      ],
      "text/plain": [
       "     p_bact  pred_bact  diag  CMalaria  Enceph  Mening  glasgtot    sbp  \\\n",
       "0  0.038565          0   0.0       1.0     0.0     0.0       9.0   86.0   \n",
       "1  0.039688          0   0.0       1.0     0.0     0.0       7.0   94.0   \n",
       "2  0.039414          0   5.0       1.0     0.0     0.0       6.0  101.0   \n",
       "3  0.040837          0   0.0       1.0     0.0     0.0       6.0   96.0   \n",
       "4  0.032274          0   0.0       1.0     0.0     0.0       8.0  117.0   \n",
       "\n",
       "   patientid     p_vir  pred_vir  p_mal&bact  pred_mal&bact  \n",
       "0      244.0  0.007882         0    0.036080              0  \n",
       "1      100.0  0.008779         0    0.039002              0  \n",
       "2       66.0  0.008353         0    0.039124              0  \n",
       "3      432.0  0.009927         0    0.041522              0  \n",
       "4      127.0  0.003263         0    0.027130              0  "
      ]
     },
     "execution_count": 57,
     "metadata": {},
     "output_type": "execute_result"
    }
   ],
   "source": [
    "prediction['p_mal&bact'] = p\n",
    "prediction['pred_mal&bact'] = (prediction['p_mal&bact'] > .5) * 1\n",
    "prediction.head(5)"
   ]
  },
  {
   "cell_type": "code",
   "execution_count": 58,
   "metadata": {},
   "outputs": [],
   "source": [
    "#do mal and tb/crypto and the predictions are complete for this set of 120 observations"
   ]
  },
  {
   "cell_type": "code",
   "execution_count": 59,
   "metadata": {},
   "outputs": [],
   "source": [
    "y = train['diag']\n",
    "y = y[np.isin(y,[0,4])] #logreg comparison of mal and bact groups\n",
    "y[y==4] = 1 "
   ]
  },
  {
   "cell_type": "code",
   "execution_count": 60,
   "metadata": {},
   "outputs": [],
   "source": [
    "x = train[['CMalaria','Mening','Enceph','glasgtot','sbp']]\n",
    "x = x.loc[y.index]"
   ]
  },
  {
   "cell_type": "code",
   "execution_count": 61,
   "metadata": {},
   "outputs": [],
   "source": [
    "patientid = train['patientid']\n",
    "patientid = patientid[y.index]"
   ]
  },
  {
   "cell_type": "code",
   "execution_count": 62,
   "metadata": {},
   "outputs": [],
   "source": [
    "def tinvlogit(x):\n",
    "    return t.exp(x) / (1 + t.exp(x))"
   ]
  },
  {
   "cell_type": "code",
   "execution_count": 63,
   "metadata": {},
   "outputs": [],
   "source": [
    "with pm.Model() as logistic_model:\n",
    "\n",
    "    effects = pm.Normal('effects', mu=0, sd=10, shape=x.shape[1])\n",
    "    \n",
    "    # expected parameter\n",
    "    p = tinvlogit(t.sum(effects * x, axis=1))\n",
    "    \n",
    "    # Likelihood (sampling distribution) of observations\n",
    "    Y_obs = pm.Bernoulli('Y_obs', p=p, observed=y)\n",
    "\n"
   ]
  },
  {
   "cell_type": "code",
   "execution_count": 64,
   "metadata": {
    "scrolled": true
   },
   "outputs": [
    {
     "name": "stderr",
     "output_type": "stream",
     "text": [
      "Auto-assigning NUTS sampler...\n",
      "Initializing NUTS using jitter+adapt_diag...\n",
      "Sequential sampling (1 chains in 1 job)\n",
      "NUTS: [effects]\n",
      "100%|██████████| 3000/3000 [00:15<00:00, 192.27it/s]\n",
      "Only one chain was sampled, this makes it impossible to run some convergence checks\n"
     ]
    }
   ],
   "source": [
    "with logistic_model:\n",
    "    trace = pm.sample(1000, tune=2000, chains=1)\n",
    "    \n",
    "#with logistic_model:\n",
    "#    # move the chain to the MAP which should be a good starting point\n",
    "#    start = pm.find_MAP()\n",
    "#    step = pm.NUTS(scaling=start)\n",
    "#    trace = pm.sample(5000, step, start)"
   ]
  },
  {
   "cell_type": "code",
   "execution_count": 65,
   "metadata": {},
   "outputs": [],
   "source": [
    "new_y = test['diag']"
   ]
  },
  {
   "cell_type": "code",
   "execution_count": 66,
   "metadata": {},
   "outputs": [],
   "source": [
    "new_x = test[['CMalaria','Mening','Enceph','glasgtot','sbp']]"
   ]
  },
  {
   "cell_type": "code",
   "execution_count": 67,
   "metadata": {},
   "outputs": [],
   "source": [
    "new_patientid = test['patientid']"
   ]
  },
  {
   "cell_type": "code",
   "execution_count": 68,
   "metadata": {},
   "outputs": [],
   "source": [
    "def invlogit(x):\n",
    "    return np.exp(x) / (1 + np.exp(x))"
   ]
  },
  {
   "cell_type": "code",
   "execution_count": 69,
   "metadata": {},
   "outputs": [
    {
     "data": {
      "text/plain": [
       "array([-14.19058574, -12.56441325, -11.63383778, -11.82965317,\n",
       "       -12.32009638, -12.01613016,  -9.19333401,  -2.53747179,\n",
       "        -9.78202523,  -2.10667792,  -2.57663486, -10.03624493,\n",
       "       -11.90797933,  -2.45914563,  -9.19638852, -11.35845119,\n",
       "       -11.35845119,  -2.30249332,   0.54888247,  -9.47862343])"
      ]
     },
     "execution_count": 69,
     "metadata": {},
     "output_type": "execute_result"
    }
   ],
   "source": [
    "eta = np.zeros(new_x.shape[0]) #Generate log odds of viral by averaging posterior\n",
    "for row in trace['effects'][:,None,:]:\n",
    "    row=row[0]\n",
    "    eta = np.add(eta, np.dot(new_x, row.transpose()))\n",
    "eta = np.divide(eta, trace['effects'][:,None,:].shape[0])\n",
    "eta[:20]"
   ]
  },
  {
   "cell_type": "code",
   "execution_count": 70,
   "metadata": {},
   "outputs": [
    {
     "data": {
      "text/plain": [
       "array([6.87237138e-07, 3.49416282e-06, 8.86103806e-06, 7.28523797e-06,\n",
       "       4.46116399e-06, 6.04586372e-06, 1.01704835e-04, 7.32726637e-02,\n",
       "       5.64541541e-05, 1.08449455e-01, 7.06573833e-02, 4.37819595e-05,\n",
       "       6.73639218e-06, 7.87723142e-02, 1.01394682e-04, 1.16703064e-05,\n",
       "       1.16703064e-05, 9.09166761e-02, 6.33876276e-01, 7.64632830e-05])"
      ]
     },
     "execution_count": 70,
     "metadata": {},
     "output_type": "execute_result"
    }
   ],
   "source": [
    "p = invlogit(eta) #probability of viral infection\n",
    "\n",
    "p[:20]"
   ]
  },
  {
   "cell_type": "code",
   "execution_count": 71,
   "metadata": {},
   "outputs": [
    {
     "data": {
      "text/html": [
       "<div>\n",
       "<style scoped>\n",
       "    .dataframe tbody tr th:only-of-type {\n",
       "        vertical-align: middle;\n",
       "    }\n",
       "\n",
       "    .dataframe tbody tr th {\n",
       "        vertical-align: top;\n",
       "    }\n",
       "\n",
       "    .dataframe thead th {\n",
       "        text-align: right;\n",
       "    }\n",
       "</style>\n",
       "<table border=\"1\" class=\"dataframe\">\n",
       "  <thead>\n",
       "    <tr style=\"text-align: right;\">\n",
       "      <th></th>\n",
       "      <th>p_bact</th>\n",
       "      <th>pred_bact</th>\n",
       "      <th>diag</th>\n",
       "      <th>CMalaria</th>\n",
       "      <th>Enceph</th>\n",
       "      <th>Mening</th>\n",
       "      <th>glasgtot</th>\n",
       "      <th>sbp</th>\n",
       "      <th>patientid</th>\n",
       "      <th>p_vir</th>\n",
       "      <th>pred_vir</th>\n",
       "      <th>p_mal&amp;bact</th>\n",
       "      <th>pred_mal&amp;bact</th>\n",
       "      <th>p_tbcrypto</th>\n",
       "      <th>pred_tbcrypto</th>\n",
       "    </tr>\n",
       "  </thead>\n",
       "  <tbody>\n",
       "    <tr>\n",
       "      <th>0</th>\n",
       "      <td>0.038565</td>\n",
       "      <td>0</td>\n",
       "      <td>0.0</td>\n",
       "      <td>1.0</td>\n",
       "      <td>0.0</td>\n",
       "      <td>0.0</td>\n",
       "      <td>9.0</td>\n",
       "      <td>86.0</td>\n",
       "      <td>244.0</td>\n",
       "      <td>0.007882</td>\n",
       "      <td>0</td>\n",
       "      <td>0.036080</td>\n",
       "      <td>0</td>\n",
       "      <td>6.872371e-07</td>\n",
       "      <td>0</td>\n",
       "    </tr>\n",
       "    <tr>\n",
       "      <th>1</th>\n",
       "      <td>0.039688</td>\n",
       "      <td>0</td>\n",
       "      <td>0.0</td>\n",
       "      <td>1.0</td>\n",
       "      <td>0.0</td>\n",
       "      <td>0.0</td>\n",
       "      <td>7.0</td>\n",
       "      <td>94.0</td>\n",
       "      <td>100.0</td>\n",
       "      <td>0.008779</td>\n",
       "      <td>0</td>\n",
       "      <td>0.039002</td>\n",
       "      <td>0</td>\n",
       "      <td>3.494163e-06</td>\n",
       "      <td>0</td>\n",
       "    </tr>\n",
       "    <tr>\n",
       "      <th>2</th>\n",
       "      <td>0.039414</td>\n",
       "      <td>0</td>\n",
       "      <td>5.0</td>\n",
       "      <td>1.0</td>\n",
       "      <td>0.0</td>\n",
       "      <td>0.0</td>\n",
       "      <td>6.0</td>\n",
       "      <td>101.0</td>\n",
       "      <td>66.0</td>\n",
       "      <td>0.008353</td>\n",
       "      <td>0</td>\n",
       "      <td>0.039124</td>\n",
       "      <td>0</td>\n",
       "      <td>8.861038e-06</td>\n",
       "      <td>0</td>\n",
       "    </tr>\n",
       "    <tr>\n",
       "      <th>3</th>\n",
       "      <td>0.040837</td>\n",
       "      <td>0</td>\n",
       "      <td>0.0</td>\n",
       "      <td>1.0</td>\n",
       "      <td>0.0</td>\n",
       "      <td>0.0</td>\n",
       "      <td>6.0</td>\n",
       "      <td>96.0</td>\n",
       "      <td>432.0</td>\n",
       "      <td>0.009927</td>\n",
       "      <td>0</td>\n",
       "      <td>0.041522</td>\n",
       "      <td>0</td>\n",
       "      <td>7.285238e-06</td>\n",
       "      <td>0</td>\n",
       "    </tr>\n",
       "    <tr>\n",
       "      <th>4</th>\n",
       "      <td>0.032274</td>\n",
       "      <td>0</td>\n",
       "      <td>0.0</td>\n",
       "      <td>1.0</td>\n",
       "      <td>0.0</td>\n",
       "      <td>0.0</td>\n",
       "      <td>8.0</td>\n",
       "      <td>117.0</td>\n",
       "      <td>127.0</td>\n",
       "      <td>0.003263</td>\n",
       "      <td>0</td>\n",
       "      <td>0.027130</td>\n",
       "      <td>0</td>\n",
       "      <td>4.461164e-06</td>\n",
       "      <td>0</td>\n",
       "    </tr>\n",
       "  </tbody>\n",
       "</table>\n",
       "</div>"
      ],
      "text/plain": [
       "     p_bact  pred_bact  diag  CMalaria  Enceph  Mening  glasgtot    sbp  \\\n",
       "0  0.038565          0   0.0       1.0     0.0     0.0       9.0   86.0   \n",
       "1  0.039688          0   0.0       1.0     0.0     0.0       7.0   94.0   \n",
       "2  0.039414          0   5.0       1.0     0.0     0.0       6.0  101.0   \n",
       "3  0.040837          0   0.0       1.0     0.0     0.0       6.0   96.0   \n",
       "4  0.032274          0   0.0       1.0     0.0     0.0       8.0  117.0   \n",
       "\n",
       "   patientid     p_vir  pred_vir  p_mal&bact  pred_mal&bact    p_tbcrypto  \\\n",
       "0      244.0  0.007882         0    0.036080              0  6.872371e-07   \n",
       "1      100.0  0.008779         0    0.039002              0  3.494163e-06   \n",
       "2       66.0  0.008353         0    0.039124              0  8.861038e-06   \n",
       "3      432.0  0.009927         0    0.041522              0  7.285238e-06   \n",
       "4      127.0  0.003263         0    0.027130              0  4.461164e-06   \n",
       "\n",
       "   pred_tbcrypto  \n",
       "0              0  \n",
       "1              0  \n",
       "2              0  \n",
       "3              0  \n",
       "4              0  "
      ]
     },
     "execution_count": 71,
     "metadata": {},
     "output_type": "execute_result"
    }
   ],
   "source": [
    "prediction['p_tbcrypto'] = p\n",
    "prediction['pred_tbcrypto'] = (prediction['p_tbcrypto'] > .5) * 1\n",
    "prediction.head(5)"
   ]
  },
  {
   "cell_type": "code",
   "execution_count": 72,
   "metadata": {},
   "outputs": [],
   "source": [
    "#Finally, do comparison of mal and other to finish this group of observations"
   ]
  },
  {
   "cell_type": "code",
   "execution_count": 73,
   "metadata": {},
   "outputs": [],
   "source": [
    "y = train['diag']\n",
    "y = y[np.isin(y,[0,5])] #logreg comparison of mal and bact groups\n",
    "y[y==5] = 1 "
   ]
  },
  {
   "cell_type": "code",
   "execution_count": 74,
   "metadata": {},
   "outputs": [],
   "source": [
    "x = train[['CMalaria','Mening','Enceph','glasgtot','sbp']]\n",
    "x = x.loc[y.index]"
   ]
  },
  {
   "cell_type": "code",
   "execution_count": 75,
   "metadata": {},
   "outputs": [],
   "source": [
    "patientid = train['patientid']\n",
    "patientid = patientid[y.index]"
   ]
  },
  {
   "cell_type": "code",
   "execution_count": 76,
   "metadata": {},
   "outputs": [],
   "source": [
    "def tinvlogit(x):\n",
    "    return t.exp(x) / (1 + t.exp(x))"
   ]
  },
  {
   "cell_type": "code",
   "execution_count": 77,
   "metadata": {},
   "outputs": [],
   "source": [
    "with pm.Model() as logistic_model:\n",
    "\n",
    "    effects = pm.Normal('effects', mu=0, sd=10, shape=x.shape[1])\n",
    "    \n",
    "    # expected parameter\n",
    "    p = tinvlogit(t.sum(effects * x, axis=1))\n",
    "    \n",
    "    # Likelihood (sampling distribution) of observations\n",
    "    Y_obs = pm.Bernoulli('Y_obs', p=p, observed=y)\n",
    "\n"
   ]
  },
  {
   "cell_type": "code",
   "execution_count": 79,
   "metadata": {
    "scrolled": true
   },
   "outputs": [
    {
     "name": "stderr",
     "output_type": "stream",
     "text": [
      "Auto-assigning NUTS sampler...\n",
      "Initializing NUTS using jitter+adapt_diag...\n",
      "Sequential sampling (1 chains in 1 job)\n",
      "NUTS: [effects]\n",
      "100%|██████████| 3000/3000 [00:13<00:00, 217.43it/s]\n",
      "Only one chain was sampled, this makes it impossible to run some convergence checks\n"
     ]
    }
   ],
   "source": [
    "with logistic_model:\n",
    "    trace = pm.sample(1000, tune=2000, chains=1)\n",
    "    \n",
    "#with logistic_model:\n",
    "#    # move the chain to the MAP which should be a good starting point\n",
    "#    start = pm.find_MAP()\n",
    "#    step = pm.NUTS(scaling=start)\n",
    "#    trace = pm.sample(5000, step, start)"
   ]
  },
  {
   "cell_type": "code",
   "execution_count": 80,
   "metadata": {},
   "outputs": [],
   "source": [
    "new_y = test['diag']"
   ]
  },
  {
   "cell_type": "code",
   "execution_count": 81,
   "metadata": {},
   "outputs": [],
   "source": [
    "new_x = test[['CMalaria','Mening','Enceph','glasgtot','sbp']]"
   ]
  },
  {
   "cell_type": "code",
   "execution_count": 82,
   "metadata": {},
   "outputs": [],
   "source": [
    "new_patientid = test['patientid']"
   ]
  },
  {
   "cell_type": "code",
   "execution_count": 83,
   "metadata": {},
   "outputs": [],
   "source": [
    "def invlogit(x):\n",
    "    return np.exp(x) / (1 + np.exp(x))"
   ]
  },
  {
   "cell_type": "code",
   "execution_count": 84,
   "metadata": {},
   "outputs": [
    {
     "data": {
      "text/plain": [
       "array([-1.14035933, -1.16373918, -1.17826858, -1.17353613, -1.17760449,\n",
       "       -1.17699004,  4.23154392,  2.06246767, -1.199141  ,  2.05205627,\n",
       "        2.06341416,  4.23599397, -1.17164315,  2.06057469, -1.24513735,\n",
       "        4.25998827,  4.25998827,  2.05678872,  2.02768029,  4.21455673])"
      ]
     },
     "execution_count": 84,
     "metadata": {},
     "output_type": "execute_result"
    }
   ],
   "source": [
    "eta = np.zeros(new_x.shape[0]) #Generate log odds of viral by averaging posterior\n",
    "for row in trace['effects'][:,None,:]:\n",
    "    row=row[0]\n",
    "    eta = np.add(eta, np.dot(new_x, row.transpose()))\n",
    "eta = np.divide(eta, trace['effects'][:,None,:].shape[0])\n",
    "eta[:20]"
   ]
  },
  {
   "cell_type": "code",
   "execution_count": 85,
   "metadata": {},
   "outputs": [
    {
     "data": {
      "text/plain": [
       "array([0.24225439, 0.23798852, 0.23536365, 0.23621641, 0.23548319,\n",
       "       0.23559383, 0.98567816, 0.88720136, 0.23162806, 0.88615523,\n",
       "       0.88729604, 0.98574084, 0.23655811, 0.88701178, 0.22354302,\n",
       "       0.9860742 , 0.9860742 , 0.88663179, 0.88367284, 0.98543636])"
      ]
     },
     "execution_count": 85,
     "metadata": {},
     "output_type": "execute_result"
    }
   ],
   "source": [
    "p = invlogit(eta) #probability of viral infection\n",
    "\n",
    "p[:20]"
   ]
  },
  {
   "cell_type": "code",
   "execution_count": 86,
   "metadata": {},
   "outputs": [
    {
     "data": {
      "text/html": [
       "<div>\n",
       "<style scoped>\n",
       "    .dataframe tbody tr th:only-of-type {\n",
       "        vertical-align: middle;\n",
       "    }\n",
       "\n",
       "    .dataframe tbody tr th {\n",
       "        vertical-align: top;\n",
       "    }\n",
       "\n",
       "    .dataframe thead th {\n",
       "        text-align: right;\n",
       "    }\n",
       "</style>\n",
       "<table border=\"1\" class=\"dataframe\">\n",
       "  <thead>\n",
       "    <tr style=\"text-align: right;\">\n",
       "      <th></th>\n",
       "      <th>p_bact</th>\n",
       "      <th>pred_bact</th>\n",
       "      <th>diag</th>\n",
       "      <th>CMalaria</th>\n",
       "      <th>Enceph</th>\n",
       "      <th>Mening</th>\n",
       "      <th>glasgtot</th>\n",
       "      <th>sbp</th>\n",
       "      <th>patientid</th>\n",
       "      <th>p_vir</th>\n",
       "      <th>pred_vir</th>\n",
       "      <th>p_mal&amp;bact</th>\n",
       "      <th>pred_mal&amp;bact</th>\n",
       "      <th>p_tbcrypto</th>\n",
       "      <th>pred_tbcrypto</th>\n",
       "      <th>p_other</th>\n",
       "      <th>pred_other</th>\n",
       "    </tr>\n",
       "  </thead>\n",
       "  <tbody>\n",
       "    <tr>\n",
       "      <th>0</th>\n",
       "      <td>0.038565</td>\n",
       "      <td>0</td>\n",
       "      <td>0.0</td>\n",
       "      <td>1.0</td>\n",
       "      <td>0.0</td>\n",
       "      <td>0.0</td>\n",
       "      <td>9.0</td>\n",
       "      <td>86.0</td>\n",
       "      <td>244.0</td>\n",
       "      <td>0.007882</td>\n",
       "      <td>0</td>\n",
       "      <td>0.036080</td>\n",
       "      <td>0</td>\n",
       "      <td>6.872371e-07</td>\n",
       "      <td>0</td>\n",
       "      <td>0.242254</td>\n",
       "      <td>0</td>\n",
       "    </tr>\n",
       "    <tr>\n",
       "      <th>1</th>\n",
       "      <td>0.039688</td>\n",
       "      <td>0</td>\n",
       "      <td>0.0</td>\n",
       "      <td>1.0</td>\n",
       "      <td>0.0</td>\n",
       "      <td>0.0</td>\n",
       "      <td>7.0</td>\n",
       "      <td>94.0</td>\n",
       "      <td>100.0</td>\n",
       "      <td>0.008779</td>\n",
       "      <td>0</td>\n",
       "      <td>0.039002</td>\n",
       "      <td>0</td>\n",
       "      <td>3.494163e-06</td>\n",
       "      <td>0</td>\n",
       "      <td>0.237989</td>\n",
       "      <td>0</td>\n",
       "    </tr>\n",
       "    <tr>\n",
       "      <th>2</th>\n",
       "      <td>0.039414</td>\n",
       "      <td>0</td>\n",
       "      <td>5.0</td>\n",
       "      <td>1.0</td>\n",
       "      <td>0.0</td>\n",
       "      <td>0.0</td>\n",
       "      <td>6.0</td>\n",
       "      <td>101.0</td>\n",
       "      <td>66.0</td>\n",
       "      <td>0.008353</td>\n",
       "      <td>0</td>\n",
       "      <td>0.039124</td>\n",
       "      <td>0</td>\n",
       "      <td>8.861038e-06</td>\n",
       "      <td>0</td>\n",
       "      <td>0.235364</td>\n",
       "      <td>0</td>\n",
       "    </tr>\n",
       "    <tr>\n",
       "      <th>3</th>\n",
       "      <td>0.040837</td>\n",
       "      <td>0</td>\n",
       "      <td>0.0</td>\n",
       "      <td>1.0</td>\n",
       "      <td>0.0</td>\n",
       "      <td>0.0</td>\n",
       "      <td>6.0</td>\n",
       "      <td>96.0</td>\n",
       "      <td>432.0</td>\n",
       "      <td>0.009927</td>\n",
       "      <td>0</td>\n",
       "      <td>0.041522</td>\n",
       "      <td>0</td>\n",
       "      <td>7.285238e-06</td>\n",
       "      <td>0</td>\n",
       "      <td>0.236216</td>\n",
       "      <td>0</td>\n",
       "    </tr>\n",
       "    <tr>\n",
       "      <th>4</th>\n",
       "      <td>0.032274</td>\n",
       "      <td>0</td>\n",
       "      <td>0.0</td>\n",
       "      <td>1.0</td>\n",
       "      <td>0.0</td>\n",
       "      <td>0.0</td>\n",
       "      <td>8.0</td>\n",
       "      <td>117.0</td>\n",
       "      <td>127.0</td>\n",
       "      <td>0.003263</td>\n",
       "      <td>0</td>\n",
       "      <td>0.027130</td>\n",
       "      <td>0</td>\n",
       "      <td>4.461164e-06</td>\n",
       "      <td>0</td>\n",
       "      <td>0.235483</td>\n",
       "      <td>0</td>\n",
       "    </tr>\n",
       "  </tbody>\n",
       "</table>\n",
       "</div>"
      ],
      "text/plain": [
       "     p_bact  pred_bact  diag  CMalaria  Enceph  Mening  glasgtot    sbp  \\\n",
       "0  0.038565          0   0.0       1.0     0.0     0.0       9.0   86.0   \n",
       "1  0.039688          0   0.0       1.0     0.0     0.0       7.0   94.0   \n",
       "2  0.039414          0   5.0       1.0     0.0     0.0       6.0  101.0   \n",
       "3  0.040837          0   0.0       1.0     0.0     0.0       6.0   96.0   \n",
       "4  0.032274          0   0.0       1.0     0.0     0.0       8.0  117.0   \n",
       "\n",
       "   patientid     p_vir  pred_vir  p_mal&bact  pred_mal&bact    p_tbcrypto  \\\n",
       "0      244.0  0.007882         0    0.036080              0  6.872371e-07   \n",
       "1      100.0  0.008779         0    0.039002              0  3.494163e-06   \n",
       "2       66.0  0.008353         0    0.039124              0  8.861038e-06   \n",
       "3      432.0  0.009927         0    0.041522              0  7.285238e-06   \n",
       "4      127.0  0.003263         0    0.027130              0  4.461164e-06   \n",
       "\n",
       "   pred_tbcrypto   p_other  pred_other  \n",
       "0              0  0.242254           0  \n",
       "1              0  0.237989           0  \n",
       "2              0  0.235364           0  \n",
       "3              0  0.236216           0  \n",
       "4              0  0.235483           0  "
      ]
     },
     "execution_count": 86,
     "metadata": {},
     "output_type": "execute_result"
    }
   ],
   "source": [
    "prediction['p_other'] = p\n",
    "prediction['pred_other'] = (prediction['p_other'] > .5) * 1\n",
    "prediction.head(5)"
   ]
  },
  {
   "cell_type": "markdown",
   "metadata": {},
   "source": [
    "# Begin second Group"
   ]
  },
  {
   "cell_type": "code",
   "execution_count": 87,
   "metadata": {},
   "outputs": [
    {
     "data": {
      "text/plain": [
       "(120, 7)"
      ]
     },
     "execution_count": 87,
     "metadata": {},
     "output_type": "execute_result"
    }
   ],
   "source": [
    "test = var[120:240]\n",
    "train = var.drop(var.index[120:240])\n",
    "test.shape"
   ]
  },
  {
   "cell_type": "code",
   "execution_count": 88,
   "metadata": {},
   "outputs": [],
   "source": [
    "y = train['diag']\n",
    "y = y[np.isin(y,[0,1])] #logreg comparison of mal and bact groups"
   ]
  },
  {
   "cell_type": "code",
   "execution_count": 89,
   "metadata": {},
   "outputs": [],
   "source": [
    "x = train[['CMalaria','Mening','Enceph','glasgtot','sbp']]\n",
    "x = x.loc[y.index]"
   ]
  },
  {
   "cell_type": "code",
   "execution_count": 90,
   "metadata": {},
   "outputs": [],
   "source": [
    "patientid = train['patientid']\n",
    "patientid = patientid[y.index]"
   ]
  },
  {
   "cell_type": "code",
   "execution_count": 91,
   "metadata": {},
   "outputs": [],
   "source": [
    "def tinvlogit(x):\n",
    "    return t.exp(x) / (1 + t.exp(x))"
   ]
  },
  {
   "cell_type": "code",
   "execution_count": 92,
   "metadata": {},
   "outputs": [],
   "source": [
    "with pm.Model() as logistic_model:\n",
    "\n",
    "    effects = pm.Normal('effects', mu=0, sd=10, shape=x.shape[1])\n",
    "    \n",
    "    # expected parameter\n",
    "    p = tinvlogit(t.sum(effects * x, axis=1))\n",
    "    \n",
    "    # Likelihood (sampling distribution) of observations\n",
    "    Y_obs = pm.Bernoulli('Y_obs', p=p, observed=y)\n",
    "\n"
   ]
  },
  {
   "cell_type": "code",
   "execution_count": 93,
   "metadata": {},
   "outputs": [
    {
     "name": "stderr",
     "output_type": "stream",
     "text": [
      "Auto-assigning NUTS sampler...\n",
      "Initializing NUTS using jitter+adapt_diag...\n",
      "Sequential sampling (1 chains in 1 job)\n",
      "NUTS: [effects]\n",
      "100%|██████████| 3000/3000 [00:13<00:00, 227.68it/s]\n",
      "Only one chain was sampled, this makes it impossible to run some convergence checks\n"
     ]
    }
   ],
   "source": [
    "with logistic_model:\n",
    "    trace = pm.sample(1000, tune=2000, chains=1)\n",
    "    \n",
    "#with logistic_model:\n",
    "#    # move the chain to the MAP which should be a good starting point\n",
    "#    start = pm.find_MAP()\n",
    "#    step = pm.NUTS(scaling=start)\n",
    "#    trace = pm.sample(5000, step, start)"
   ]
  },
  {
   "cell_type": "code",
   "execution_count": 94,
   "metadata": {},
   "outputs": [],
   "source": [
    "new_y = test['diag']\n"
   ]
  },
  {
   "cell_type": "code",
   "execution_count": 95,
   "metadata": {},
   "outputs": [],
   "source": [
    "new_x = test[['CMalaria','Mening','Enceph','glasgtot','sbp']]"
   ]
  },
  {
   "cell_type": "code",
   "execution_count": 96,
   "metadata": {},
   "outputs": [],
   "source": [
    "new_patientid = test['patientid']\n"
   ]
  },
  {
   "cell_type": "code",
   "execution_count": 97,
   "metadata": {},
   "outputs": [],
   "source": [
    "def invlogit(x):\n",
    "    return np.exp(x) / (1 + np.exp(x))"
   ]
  },
  {
   "cell_type": "code",
   "execution_count": 98,
   "metadata": {},
   "outputs": [
    {
     "data": {
      "text/plain": [
       "array([ 2.04817844,  2.17612972,  1.78762252,  1.64457657,  1.72982535,\n",
       "        1.67797231,  2.12443291, -3.77630242, -4.03830534, -3.67419955,\n",
       "        2.18383328, -3.98035194,  2.01462648,  2.03597773, -4.05195303,\n",
       "       -0.86386642, -1.11061844, -3.70165116, -3.95900069,  2.28883011])"
      ]
     },
     "execution_count": 98,
     "metadata": {},
     "output_type": "execute_result"
    }
   ],
   "source": [
    "eta = np.zeros(new_x.shape[0]) #Generate log odds of bacterial by averaging posterior\n",
    "for row in trace['effects'][:,None,:]:\n",
    "    row=row[0]\n",
    "    eta = np.add(eta, np.dot(new_x, row.transpose()))\n",
    "eta = np.divide(eta, trace['effects'][:,None,:].shape[0])\n",
    "eta[:20]"
   ]
  },
  {
   "cell_type": "code",
   "execution_count": 99,
   "metadata": {},
   "outputs": [
    {
     "data": {
      "text/plain": [
       "array([0.88576343, 0.89808538, 0.85663554, 0.83815671, 0.84939008,\n",
       "       0.84263585, 0.89325535, 0.02239425, 0.01732198, 0.02474201,\n",
       "       0.89878831, 0.01833655, 0.88232423, 0.88452306, 0.01709119,\n",
       "       0.29653217, 0.24775561, 0.02408818, 0.01872486, 0.90794772])"
      ]
     },
     "execution_count": 99,
     "metadata": {},
     "output_type": "execute_result"
    }
   ],
   "source": [
    "p = invlogit(eta) #probability of bacterial infection\n",
    "\n",
    "p[:20]"
   ]
  },
  {
   "cell_type": "code",
   "execution_count": 100,
   "metadata": {},
   "outputs": [],
   "source": [
    "prediction2 = pd.DataFrame({'p_bact':p}) #build df to visualize results\n",
    "prediction2['pred_bact'] = (prediction2['p_bact'] > .5) * 1"
   ]
  },
  {
   "cell_type": "code",
   "execution_count": 101,
   "metadata": {},
   "outputs": [
    {
     "data": {
      "text/html": [
       "<div>\n",
       "<style scoped>\n",
       "    .dataframe tbody tr th:only-of-type {\n",
       "        vertical-align: middle;\n",
       "    }\n",
       "\n",
       "    .dataframe tbody tr th {\n",
       "        vertical-align: top;\n",
       "    }\n",
       "\n",
       "    .dataframe thead th {\n",
       "        text-align: right;\n",
       "    }\n",
       "</style>\n",
       "<table border=\"1\" class=\"dataframe\">\n",
       "  <thead>\n",
       "    <tr style=\"text-align: right;\">\n",
       "      <th></th>\n",
       "      <th>p_bact</th>\n",
       "      <th>pred_bact</th>\n",
       "      <th>diag</th>\n",
       "      <th>CMalaria</th>\n",
       "      <th>Enceph</th>\n",
       "      <th>Mening</th>\n",
       "      <th>glasgtot</th>\n",
       "      <th>sbp</th>\n",
       "      <th>patientid</th>\n",
       "    </tr>\n",
       "  </thead>\n",
       "  <tbody>\n",
       "    <tr>\n",
       "      <th>0</th>\n",
       "      <td>0.885763</td>\n",
       "      <td>1</td>\n",
       "      <td>5.0</td>\n",
       "      <td>0.0</td>\n",
       "      <td>0.0</td>\n",
       "      <td>1.0</td>\n",
       "      <td>15.0</td>\n",
       "      <td>103.0</td>\n",
       "      <td>378.0</td>\n",
       "    </tr>\n",
       "    <tr>\n",
       "      <th>1</th>\n",
       "      <td>0.898085</td>\n",
       "      <td>1</td>\n",
       "      <td>5.0</td>\n",
       "      <td>0.0</td>\n",
       "      <td>0.0</td>\n",
       "      <td>1.0</td>\n",
       "      <td>13.0</td>\n",
       "      <td>98.0</td>\n",
       "      <td>190.0</td>\n",
       "    </tr>\n",
       "    <tr>\n",
       "      <th>2</th>\n",
       "      <td>0.856636</td>\n",
       "      <td>1</td>\n",
       "      <td>5.0</td>\n",
       "      <td>0.0</td>\n",
       "      <td>1.0</td>\n",
       "      <td>0.0</td>\n",
       "      <td>11.0</td>\n",
       "      <td>118.0</td>\n",
       "      <td>98.0</td>\n",
       "    </tr>\n",
       "    <tr>\n",
       "      <th>3</th>\n",
       "      <td>0.838157</td>\n",
       "      <td>1</td>\n",
       "      <td>5.0</td>\n",
       "      <td>0.0</td>\n",
       "      <td>1.0</td>\n",
       "      <td>0.0</td>\n",
       "      <td>15.0</td>\n",
       "      <td>91.0</td>\n",
       "      <td>104.0</td>\n",
       "    </tr>\n",
       "    <tr>\n",
       "      <th>4</th>\n",
       "      <td>0.849390</td>\n",
       "      <td>1</td>\n",
       "      <td>5.0</td>\n",
       "      <td>0.0</td>\n",
       "      <td>1.0</td>\n",
       "      <td>0.0</td>\n",
       "      <td>13.0</td>\n",
       "      <td>100.0</td>\n",
       "      <td>235.0</td>\n",
       "    </tr>\n",
       "  </tbody>\n",
       "</table>\n",
       "</div>"
      ],
      "text/plain": [
       "     p_bact  pred_bact  diag  CMalaria  Enceph  Mening  glasgtot    sbp  \\\n",
       "0  0.885763          1   5.0       0.0     0.0     1.0      15.0  103.0   \n",
       "1  0.898085          1   5.0       0.0     0.0     1.0      13.0   98.0   \n",
       "2  0.856636          1   5.0       0.0     1.0     0.0      11.0  118.0   \n",
       "3  0.838157          1   5.0       0.0     1.0     0.0      15.0   91.0   \n",
       "4  0.849390          1   5.0       0.0     1.0     0.0      13.0  100.0   \n",
       "\n",
       "   patientid  \n",
       "0      378.0  \n",
       "1      190.0  \n",
       "2       98.0  \n",
       "3      104.0  \n",
       "4      235.0  "
      ]
     },
     "execution_count": 101,
     "metadata": {},
     "output_type": "execute_result"
    }
   ],
   "source": [
    "prediction2[\"diag\"] = new_y.reset_index(drop=True)\n",
    "prediction2[\"CMalaria\"] = new_x.reset_index(drop=True)[\"CMalaria\"]\n",
    "prediction2[\"Enceph\"] = new_x.reset_index(drop=True)[\"Enceph\"]\n",
    "prediction2[\"Mening\"] = new_x.reset_index(drop=True)[\"Mening\"]\n",
    "prediction2[\"glasgtot\"] = new_x.reset_index(drop=True)[\"glasgtot\"]\n",
    "prediction2[\"sbp\"] = new_x.reset_index(drop=True)[\"sbp\"]\n",
    "prediction2[\"patientid\"] = new_patientid.reset_index(drop=True)\n",
    "prediction2.head(5) #observe pred_diag compared to diag to see difference between prediction and actual diagnosis"
   ]
  },
  {
   "cell_type": "code",
   "execution_count": 102,
   "metadata": {},
   "outputs": [],
   "source": [
    "#Now repeat the regression on the same test/train set for mal and viral"
   ]
  },
  {
   "cell_type": "code",
   "execution_count": 103,
   "metadata": {},
   "outputs": [],
   "source": [
    "y = train['diag']\n",
    "y = y[np.isin(y,[0,2])] #logreg comparison of mal and bact groups\n",
    "y[y==2] = 1 "
   ]
  },
  {
   "cell_type": "code",
   "execution_count": 104,
   "metadata": {},
   "outputs": [],
   "source": [
    "x = train[['CMalaria','Mening','Enceph','glasgtot','sbp']]\n",
    "x = x.loc[y.index]"
   ]
  },
  {
   "cell_type": "code",
   "execution_count": 105,
   "metadata": {},
   "outputs": [],
   "source": [
    "patientid = train['patientid']\n",
    "patientid = patientid[y.index]"
   ]
  },
  {
   "cell_type": "code",
   "execution_count": 106,
   "metadata": {},
   "outputs": [],
   "source": [
    "def tinvlogit(x):\n",
    "    return t.exp(x) / (1 + t.exp(x))"
   ]
  },
  {
   "cell_type": "code",
   "execution_count": 115,
   "metadata": {},
   "outputs": [],
   "source": [
    "with pm.Model() as logistic_model:\n",
    "\n",
    "    effects = pm.Normal('effects', mu=0, sd=10, shape=x.shape[1])\n",
    "    \n",
    "    # expected parameter\n",
    "    p = tinvlogit(t.sum(effects * x, axis=1))\n",
    "    \n",
    "    # Likelihood (sampling distribution) of observations\n",
    "    Y_obs = pm.Bernoulli('Y_obs', p=p, observed=y)\n",
    "\n"
   ]
  },
  {
   "cell_type": "code",
   "execution_count": 116,
   "metadata": {
    "scrolled": true
   },
   "outputs": [
    {
     "name": "stderr",
     "output_type": "stream",
     "text": [
      "Auto-assigning NUTS sampler...\n",
      "Initializing NUTS using jitter+adapt_diag...\n",
      "Sequential sampling (1 chains in 1 job)\n",
      "NUTS: [effects]\n",
      "100%|██████████| 3000/3000 [00:11<00:00, 260.60it/s]\n",
      "There were 1 divergences after tuning. Increase `target_accept` or reparameterize.\n",
      "Only one chain was sampled, this makes it impossible to run some convergence checks\n"
     ]
    }
   ],
   "source": [
    "with logistic_model:\n",
    "    trace = pm.sample(1000, tune=2000, chains=1)\n",
    "    \n",
    "#with logistic_model:\n",
    "#    # move the chain to the MAP which should be a good starting point\n",
    "#    start = pm.find_MAP()\n",
    "#    step = pm.NUTS(scaling=start)\n",
    "#    trace = pm.sample(5000, step, start)"
   ]
  },
  {
   "cell_type": "code",
   "execution_count": 117,
   "metadata": {},
   "outputs": [],
   "source": [
    "new_y = test['diag']"
   ]
  },
  {
   "cell_type": "code",
   "execution_count": 118,
   "metadata": {},
   "outputs": [],
   "source": [
    "new_x = test[['CMalaria','Mening','Enceph','glasgtot','sbp']]"
   ]
  },
  {
   "cell_type": "code",
   "execution_count": 119,
   "metadata": {},
   "outputs": [],
   "source": [
    "new_patientid = test['patientid']"
   ]
  },
  {
   "cell_type": "code",
   "execution_count": 120,
   "metadata": {},
   "outputs": [],
   "source": [
    "def invlogit(x):\n",
    "    return np.exp(x) / (1 + np.exp(x))"
   ]
  },
  {
   "cell_type": "code",
   "execution_count": 121,
   "metadata": {},
   "outputs": [
    {
     "data": {
      "text/plain": [
       "array([-0.64752796, -0.5158549 , -0.35930743,  0.06797926, -0.0616682 ,\n",
       "       -0.37898598, -0.18088417, -5.15135798, -5.45203559, -4.85219956,\n",
       "       -0.14304627, -5.09738632, -0.85285122, -0.72219096, -5.20988722,\n",
       "       -1.70415375, -1.9115026 , -5.02019132, -4.96672606, -0.4775106 ])"
      ]
     },
     "execution_count": 121,
     "metadata": {},
     "output_type": "execute_result"
    }
   ],
   "source": [
    "eta = np.zeros(new_x.shape[0]) #Generate log odds of viral by averaging posterior\n",
    "for row in trace['effects'][:,None,:]:\n",
    "    row=row[0]\n",
    "    eta = np.add(eta, np.dot(new_x, row.transpose()))\n",
    "eta = np.divide(eta, trace['effects'][:,None,:].shape[0])\n",
    "eta[:20]"
   ]
  },
  {
   "cell_type": "code",
   "execution_count": 122,
   "metadata": {},
   "outputs": [
    {
     "data": {
      "text/plain": [
       "array([0.34354682, 0.37382201, 0.41112723, 0.51698827, 0.48458783,\n",
       "       0.40637149, 0.45490185, 0.00575819, 0.00426926, 0.00775064,\n",
       "       0.46429929, 0.00607556, 0.29883509, 0.3269107 , 0.00543262,\n",
       "       0.15392354, 0.12881214, 0.00655995, 0.00691773, 0.38284013])"
      ]
     },
     "execution_count": 122,
     "metadata": {},
     "output_type": "execute_result"
    }
   ],
   "source": [
    "p = invlogit(eta) #probability of viral infection\n",
    "\n",
    "p[:20]"
   ]
  },
  {
   "cell_type": "code",
   "execution_count": 123,
   "metadata": {},
   "outputs": [
    {
     "data": {
      "text/html": [
       "<div>\n",
       "<style scoped>\n",
       "    .dataframe tbody tr th:only-of-type {\n",
       "        vertical-align: middle;\n",
       "    }\n",
       "\n",
       "    .dataframe tbody tr th {\n",
       "        vertical-align: top;\n",
       "    }\n",
       "\n",
       "    .dataframe thead th {\n",
       "        text-align: right;\n",
       "    }\n",
       "</style>\n",
       "<table border=\"1\" class=\"dataframe\">\n",
       "  <thead>\n",
       "    <tr style=\"text-align: right;\">\n",
       "      <th></th>\n",
       "      <th>p_bact</th>\n",
       "      <th>pred_bact</th>\n",
       "      <th>diag</th>\n",
       "      <th>CMalaria</th>\n",
       "      <th>Enceph</th>\n",
       "      <th>Mening</th>\n",
       "      <th>glasgtot</th>\n",
       "      <th>sbp</th>\n",
       "      <th>patientid</th>\n",
       "      <th>p_vir</th>\n",
       "      <th>pred_vir</th>\n",
       "    </tr>\n",
       "  </thead>\n",
       "  <tbody>\n",
       "    <tr>\n",
       "      <th>0</th>\n",
       "      <td>0.885763</td>\n",
       "      <td>1</td>\n",
       "      <td>5.0</td>\n",
       "      <td>0.0</td>\n",
       "      <td>0.0</td>\n",
       "      <td>1.0</td>\n",
       "      <td>15.0</td>\n",
       "      <td>103.0</td>\n",
       "      <td>378.0</td>\n",
       "      <td>0.343547</td>\n",
       "      <td>0</td>\n",
       "    </tr>\n",
       "    <tr>\n",
       "      <th>1</th>\n",
       "      <td>0.898085</td>\n",
       "      <td>1</td>\n",
       "      <td>5.0</td>\n",
       "      <td>0.0</td>\n",
       "      <td>0.0</td>\n",
       "      <td>1.0</td>\n",
       "      <td>13.0</td>\n",
       "      <td>98.0</td>\n",
       "      <td>190.0</td>\n",
       "      <td>0.373822</td>\n",
       "      <td>0</td>\n",
       "    </tr>\n",
       "    <tr>\n",
       "      <th>2</th>\n",
       "      <td>0.856636</td>\n",
       "      <td>1</td>\n",
       "      <td>5.0</td>\n",
       "      <td>0.0</td>\n",
       "      <td>1.0</td>\n",
       "      <td>0.0</td>\n",
       "      <td>11.0</td>\n",
       "      <td>118.0</td>\n",
       "      <td>98.0</td>\n",
       "      <td>0.411127</td>\n",
       "      <td>0</td>\n",
       "    </tr>\n",
       "    <tr>\n",
       "      <th>3</th>\n",
       "      <td>0.838157</td>\n",
       "      <td>1</td>\n",
       "      <td>5.0</td>\n",
       "      <td>0.0</td>\n",
       "      <td>1.0</td>\n",
       "      <td>0.0</td>\n",
       "      <td>15.0</td>\n",
       "      <td>91.0</td>\n",
       "      <td>104.0</td>\n",
       "      <td>0.516988</td>\n",
       "      <td>1</td>\n",
       "    </tr>\n",
       "    <tr>\n",
       "      <th>4</th>\n",
       "      <td>0.849390</td>\n",
       "      <td>1</td>\n",
       "      <td>5.0</td>\n",
       "      <td>0.0</td>\n",
       "      <td>1.0</td>\n",
       "      <td>0.0</td>\n",
       "      <td>13.0</td>\n",
       "      <td>100.0</td>\n",
       "      <td>235.0</td>\n",
       "      <td>0.484588</td>\n",
       "      <td>0</td>\n",
       "    </tr>\n",
       "  </tbody>\n",
       "</table>\n",
       "</div>"
      ],
      "text/plain": [
       "     p_bact  pred_bact  diag  CMalaria  Enceph  Mening  glasgtot    sbp  \\\n",
       "0  0.885763          1   5.0       0.0     0.0     1.0      15.0  103.0   \n",
       "1  0.898085          1   5.0       0.0     0.0     1.0      13.0   98.0   \n",
       "2  0.856636          1   5.0       0.0     1.0     0.0      11.0  118.0   \n",
       "3  0.838157          1   5.0       0.0     1.0     0.0      15.0   91.0   \n",
       "4  0.849390          1   5.0       0.0     1.0     0.0      13.0  100.0   \n",
       "\n",
       "   patientid     p_vir  pred_vir  \n",
       "0      378.0  0.343547         0  \n",
       "1      190.0  0.373822         0  \n",
       "2       98.0  0.411127         0  \n",
       "3      104.0  0.516988         1  \n",
       "4      235.0  0.484588         0  "
      ]
     },
     "execution_count": 123,
     "metadata": {},
     "output_type": "execute_result"
    }
   ],
   "source": [
    "prediction2['p_vir'] = p\n",
    "prediction2['pred_vir'] = (prediction2['p_vir'] > .5) * 1\n",
    "prediction2.head(5)"
   ]
  },
  {
   "cell_type": "code",
   "execution_count": 124,
   "metadata": {},
   "outputs": [],
   "source": [
    "# Now do mal and concurrent-mal-bact\n"
   ]
  },
  {
   "cell_type": "code",
   "execution_count": 125,
   "metadata": {},
   "outputs": [],
   "source": [
    "y = train['diag']\n",
    "y = y[np.isin(y,[0,3])] #logreg comparison of mal and bact groups\n",
    "y[y==3] = 1 "
   ]
  },
  {
   "cell_type": "code",
   "execution_count": 126,
   "metadata": {},
   "outputs": [],
   "source": [
    "x = train[['CMalaria','Mening','Enceph','glasgtot','sbp']]\n",
    "x = x.loc[y.index]"
   ]
  },
  {
   "cell_type": "code",
   "execution_count": 127,
   "metadata": {},
   "outputs": [],
   "source": [
    "patientid = train['patientid']\n",
    "patientid = patientid[y.index]"
   ]
  },
  {
   "cell_type": "code",
   "execution_count": 128,
   "metadata": {},
   "outputs": [],
   "source": [
    "def tinvlogit(x):\n",
    "    return t.exp(x) / (1 + t.exp(x))"
   ]
  },
  {
   "cell_type": "code",
   "execution_count": 129,
   "metadata": {},
   "outputs": [],
   "source": [
    "with pm.Model() as logistic_model:\n",
    "\n",
    "    effects = pm.Normal('effects', mu=0, sd=10, shape=x.shape[1])\n",
    "    \n",
    "    # expected parameter\n",
    "    p = tinvlogit(t.sum(effects * x, axis=1))\n",
    "    \n",
    "    # Likelihood (sampling distribution) of observations\n",
    "    Y_obs = pm.Bernoulli('Y_obs', p=p, observed=y)\n",
    "\n"
   ]
  },
  {
   "cell_type": "code",
   "execution_count": 130,
   "metadata": {
    "scrolled": true
   },
   "outputs": [
    {
     "name": "stderr",
     "output_type": "stream",
     "text": [
      "Auto-assigning NUTS sampler...\n",
      "Initializing NUTS using jitter+adapt_diag...\n",
      "Sequential sampling (1 chains in 1 job)\n",
      "NUTS: [effects]\n",
      "100%|██████████| 3000/3000 [00:13<00:00, 219.02it/s]\n",
      "Only one chain was sampled, this makes it impossible to run some convergence checks\n"
     ]
    }
   ],
   "source": [
    "with logistic_model:\n",
    "    trace = pm.sample(1000, tune=2000, chains=1)\n",
    "    \n",
    "#with logistic_model:\n",
    "#    # move the chain to the MAP which should be a good starting point\n",
    "#    start = pm.find_MAP()\n",
    "#    step = pm.NUTS(scaling=start)\n",
    "#    trace = pm.sample(5000, step, start)"
   ]
  },
  {
   "cell_type": "code",
   "execution_count": 131,
   "metadata": {},
   "outputs": [],
   "source": [
    "new_y = test['diag']"
   ]
  },
  {
   "cell_type": "code",
   "execution_count": 132,
   "metadata": {},
   "outputs": [],
   "source": [
    "new_x = test[['CMalaria','Mening','Enceph','glasgtot','sbp']]"
   ]
  },
  {
   "cell_type": "code",
   "execution_count": 133,
   "metadata": {},
   "outputs": [],
   "source": [
    "new_patientid = test['patientid']"
   ]
  },
  {
   "cell_type": "code",
   "execution_count": 134,
   "metadata": {},
   "outputs": [],
   "source": [
    "def invlogit(x):\n",
    "    return np.exp(x) / (1 + np.exp(x))"
   ]
  },
  {
   "cell_type": "code",
   "execution_count": 135,
   "metadata": {},
   "outputs": [
    {
     "data": {
      "text/plain": [
       "array([-10.96117477, -10.73029968,  -9.74758001,  -9.40843672,\n",
       "        -9.4806024 ,  -9.84858048, -10.42003053,  -5.14707433,\n",
       "        -5.65211605,  -4.76106467, -10.33706164,  -5.24084643,\n",
       "       -11.19927823, -11.04775784,  -5.4103984 ,  -2.40621588,\n",
       "        -2.80302875,  -4.95587659,  -5.08932604, -10.60765343])"
      ]
     },
     "execution_count": 135,
     "metadata": {},
     "output_type": "execute_result"
    }
   ],
   "source": [
    "eta = np.zeros(new_x.shape[0]) #Generate log odds of viral by averaging posterior\n",
    "for row in trace['effects'][:,None,:]:\n",
    "    row=row[0]\n",
    "    eta = np.add(eta, np.dot(new_x, row.transpose()))\n",
    "eta = np.divide(eta, trace['effects'][:,None,:].shape[0])\n",
    "eta[:20]"
   ]
  },
  {
   "cell_type": "code",
   "execution_count": 136,
   "metadata": {},
   "outputs": [
    {
     "data": {
      "text/plain": [
       "array([1.73625993e-05, 2.18716004e-05, 5.84324927e-05, 8.20223531e-05,\n",
       "       7.63121251e-05, 5.28193318e-05, 2.98280789e-05, 5.78276189e-03,\n",
       "       3.49780384e-03, 8.48390227e-03, 3.24083630e-05, 5.26787497e-03,\n",
       "       1.36838820e-05, 1.59225571e-05, 4.44996834e-03, 8.26999308e-02,\n",
       "       5.71607270e-02, 6.99266304e-03, 6.12443172e-03, 2.47254332e-05])"
      ]
     },
     "execution_count": 136,
     "metadata": {},
     "output_type": "execute_result"
    }
   ],
   "source": [
    "p = invlogit(eta) #probability of viral infection\n",
    "\n",
    "p[:20]"
   ]
  },
  {
   "cell_type": "code",
   "execution_count": 137,
   "metadata": {},
   "outputs": [
    {
     "data": {
      "text/html": [
       "<div>\n",
       "<style scoped>\n",
       "    .dataframe tbody tr th:only-of-type {\n",
       "        vertical-align: middle;\n",
       "    }\n",
       "\n",
       "    .dataframe tbody tr th {\n",
       "        vertical-align: top;\n",
       "    }\n",
       "\n",
       "    .dataframe thead th {\n",
       "        text-align: right;\n",
       "    }\n",
       "</style>\n",
       "<table border=\"1\" class=\"dataframe\">\n",
       "  <thead>\n",
       "    <tr style=\"text-align: right;\">\n",
       "      <th></th>\n",
       "      <th>p_bact</th>\n",
       "      <th>pred_bact</th>\n",
       "      <th>diag</th>\n",
       "      <th>CMalaria</th>\n",
       "      <th>Enceph</th>\n",
       "      <th>Mening</th>\n",
       "      <th>glasgtot</th>\n",
       "      <th>sbp</th>\n",
       "      <th>patientid</th>\n",
       "      <th>p_vir</th>\n",
       "      <th>pred_vir</th>\n",
       "      <th>p_mal&amp;bact</th>\n",
       "      <th>pred_mal&amp;bact</th>\n",
       "    </tr>\n",
       "  </thead>\n",
       "  <tbody>\n",
       "    <tr>\n",
       "      <th>0</th>\n",
       "      <td>0.885763</td>\n",
       "      <td>1</td>\n",
       "      <td>5.0</td>\n",
       "      <td>0.0</td>\n",
       "      <td>0.0</td>\n",
       "      <td>1.0</td>\n",
       "      <td>15.0</td>\n",
       "      <td>103.0</td>\n",
       "      <td>378.0</td>\n",
       "      <td>0.343547</td>\n",
       "      <td>0</td>\n",
       "      <td>0.000017</td>\n",
       "      <td>0</td>\n",
       "    </tr>\n",
       "    <tr>\n",
       "      <th>1</th>\n",
       "      <td>0.898085</td>\n",
       "      <td>1</td>\n",
       "      <td>5.0</td>\n",
       "      <td>0.0</td>\n",
       "      <td>0.0</td>\n",
       "      <td>1.0</td>\n",
       "      <td>13.0</td>\n",
       "      <td>98.0</td>\n",
       "      <td>190.0</td>\n",
       "      <td>0.373822</td>\n",
       "      <td>0</td>\n",
       "      <td>0.000022</td>\n",
       "      <td>0</td>\n",
       "    </tr>\n",
       "    <tr>\n",
       "      <th>2</th>\n",
       "      <td>0.856636</td>\n",
       "      <td>1</td>\n",
       "      <td>5.0</td>\n",
       "      <td>0.0</td>\n",
       "      <td>1.0</td>\n",
       "      <td>0.0</td>\n",
       "      <td>11.0</td>\n",
       "      <td>118.0</td>\n",
       "      <td>98.0</td>\n",
       "      <td>0.411127</td>\n",
       "      <td>0</td>\n",
       "      <td>0.000058</td>\n",
       "      <td>0</td>\n",
       "    </tr>\n",
       "    <tr>\n",
       "      <th>3</th>\n",
       "      <td>0.838157</td>\n",
       "      <td>1</td>\n",
       "      <td>5.0</td>\n",
       "      <td>0.0</td>\n",
       "      <td>1.0</td>\n",
       "      <td>0.0</td>\n",
       "      <td>15.0</td>\n",
       "      <td>91.0</td>\n",
       "      <td>104.0</td>\n",
       "      <td>0.516988</td>\n",
       "      <td>1</td>\n",
       "      <td>0.000082</td>\n",
       "      <td>0</td>\n",
       "    </tr>\n",
       "    <tr>\n",
       "      <th>4</th>\n",
       "      <td>0.849390</td>\n",
       "      <td>1</td>\n",
       "      <td>5.0</td>\n",
       "      <td>0.0</td>\n",
       "      <td>1.0</td>\n",
       "      <td>0.0</td>\n",
       "      <td>13.0</td>\n",
       "      <td>100.0</td>\n",
       "      <td>235.0</td>\n",
       "      <td>0.484588</td>\n",
       "      <td>0</td>\n",
       "      <td>0.000076</td>\n",
       "      <td>0</td>\n",
       "    </tr>\n",
       "  </tbody>\n",
       "</table>\n",
       "</div>"
      ],
      "text/plain": [
       "     p_bact  pred_bact  diag  CMalaria  Enceph  Mening  glasgtot    sbp  \\\n",
       "0  0.885763          1   5.0       0.0     0.0     1.0      15.0  103.0   \n",
       "1  0.898085          1   5.0       0.0     0.0     1.0      13.0   98.0   \n",
       "2  0.856636          1   5.0       0.0     1.0     0.0      11.0  118.0   \n",
       "3  0.838157          1   5.0       0.0     1.0     0.0      15.0   91.0   \n",
       "4  0.849390          1   5.0       0.0     1.0     0.0      13.0  100.0   \n",
       "\n",
       "   patientid     p_vir  pred_vir  p_mal&bact  pred_mal&bact  \n",
       "0      378.0  0.343547         0    0.000017              0  \n",
       "1      190.0  0.373822         0    0.000022              0  \n",
       "2       98.0  0.411127         0    0.000058              0  \n",
       "3      104.0  0.516988         1    0.000082              0  \n",
       "4      235.0  0.484588         0    0.000076              0  "
      ]
     },
     "execution_count": 137,
     "metadata": {},
     "output_type": "execute_result"
    }
   ],
   "source": [
    "prediction2['p_mal&bact'] = p\n",
    "prediction2['pred_mal&bact'] = (prediction2['p_mal&bact'] > .5) * 1\n",
    "prediction2.head(5)"
   ]
  },
  {
   "cell_type": "code",
   "execution_count": 138,
   "metadata": {},
   "outputs": [],
   "source": [
    "#do mal and tb/crypto and the predictions are complete for this set of 120 observations"
   ]
  },
  {
   "cell_type": "code",
   "execution_count": 139,
   "metadata": {},
   "outputs": [],
   "source": [
    "y = train['diag']\n",
    "y = y[np.isin(y,[0,4])] #logreg comparison of mal and bact groups\n",
    "y[y==4] = 1 "
   ]
  },
  {
   "cell_type": "code",
   "execution_count": 140,
   "metadata": {},
   "outputs": [],
   "source": [
    "x = train[['CMalaria','Mening','Enceph','glasgtot','sbp']]\n",
    "x = x.loc[y.index]"
   ]
  },
  {
   "cell_type": "code",
   "execution_count": 141,
   "metadata": {},
   "outputs": [],
   "source": [
    "patientid = train['patientid']\n",
    "patientid = patientid[y.index]"
   ]
  },
  {
   "cell_type": "code",
   "execution_count": 142,
   "metadata": {},
   "outputs": [],
   "source": [
    "def tinvlogit(x):\n",
    "    return t.exp(x) / (1 + t.exp(x))"
   ]
  },
  {
   "cell_type": "code",
   "execution_count": 143,
   "metadata": {},
   "outputs": [],
   "source": [
    "with pm.Model() as logistic_model:\n",
    "\n",
    "    effects = pm.Normal('effects', mu=0, sd=10, shape=x.shape[1])\n",
    "    \n",
    "    # expected parameter\n",
    "    p = tinvlogit(t.sum(effects * x, axis=1))\n",
    "    \n",
    "    # Likelihood (sampling distribution) of observations\n",
    "    Y_obs = pm.Bernoulli('Y_obs', p=p, observed=y)\n",
    "\n"
   ]
  },
  {
   "cell_type": "code",
   "execution_count": 144,
   "metadata": {
    "scrolled": true
   },
   "outputs": [
    {
     "name": "stderr",
     "output_type": "stream",
     "text": [
      "Auto-assigning NUTS sampler...\n",
      "Initializing NUTS using jitter+adapt_diag...\n",
      "Sequential sampling (1 chains in 1 job)\n",
      "NUTS: [effects]\n",
      "100%|██████████| 3000/3000 [00:13<00:00, 229.33it/s]\n",
      "Only one chain was sampled, this makes it impossible to run some convergence checks\n"
     ]
    }
   ],
   "source": [
    "with logistic_model:\n",
    "    trace = pm.sample(1000, tune=2000, chains=1)\n",
    "    \n",
    "#with logistic_model:\n",
    "#    # move the chain to the MAP which should be a good starting point\n",
    "#    start = pm.find_MAP()\n",
    "#    step = pm.NUTS(scaling=start)\n",
    "#    trace = pm.sample(5000, step, start)"
   ]
  },
  {
   "cell_type": "code",
   "execution_count": 145,
   "metadata": {},
   "outputs": [],
   "source": [
    "new_y = test['diag']"
   ]
  },
  {
   "cell_type": "code",
   "execution_count": 146,
   "metadata": {},
   "outputs": [],
   "source": [
    "new_x = test[['CMalaria','Mening','Enceph','glasgtot','sbp']]"
   ]
  },
  {
   "cell_type": "code",
   "execution_count": 147,
   "metadata": {},
   "outputs": [],
   "source": [
    "new_patientid = test['patientid']"
   ]
  },
  {
   "cell_type": "code",
   "execution_count": 148,
   "metadata": {},
   "outputs": [],
   "source": [
    "def invlogit(x):\n",
    "    return np.exp(x) / (1 + np.exp(x))"
   ]
  },
  {
   "cell_type": "code",
   "execution_count": 149,
   "metadata": {},
   "outputs": [
    {
     "data": {
      "text/plain": [
       "array([ -1.86972745,  -1.19582597, -10.29125513, -10.85621034,\n",
       "       -10.47852152, -10.83820833,  -1.34077626, -12.55095284,\n",
       "       -13.94107189, -11.94952651,  -1.03556259, -13.53906899,\n",
       "        -2.10246597,  -1.95435964, -13.92891485,  -4.81725562,\n",
       "        -6.10158444, -12.13994893, -13.39096266,  -0.62771473])"
      ]
     },
     "execution_count": 149,
     "metadata": {},
     "output_type": "execute_result"
    }
   ],
   "source": [
    "eta = np.zeros(new_x.shape[0]) #Generate log odds of viral by averaging posterior\n",
    "for row in trace['effects'][:,None,:]:\n",
    "    row=row[0]\n",
    "    eta = np.add(eta, np.dot(new_x, row.transpose()))\n",
    "eta = np.divide(eta, trace['effects'][:,None,:].shape[0])\n",
    "eta[:20]"
   ]
  },
  {
   "cell_type": "code",
   "execution_count": 150,
   "metadata": {},
   "outputs": [
    {
     "data": {
      "text/plain": [
       "array([1.33573262e-01, 2.32218585e-01, 3.39273507e-05, 1.92841003e-05,\n",
       "       2.81334962e-05, 1.96343895e-05, 2.07382431e-01, 3.54151350e-06,\n",
       "       8.82000890e-07, 6.46225023e-06, 2.62007101e-01, 1.31842817e-06,\n",
       "       1.08857373e-01, 1.24078762e-01, 8.92788845e-07, 8.02404968e-03,\n",
       "       2.23431351e-03, 5.34176586e-06, 1.52889671e-06, 3.48028897e-01])"
      ]
     },
     "execution_count": 150,
     "metadata": {},
     "output_type": "execute_result"
    }
   ],
   "source": [
    "p = invlogit(eta) #probability of viral infection\n",
    "\n",
    "p[:20]"
   ]
  },
  {
   "cell_type": "code",
   "execution_count": 151,
   "metadata": {},
   "outputs": [
    {
     "data": {
      "text/html": [
       "<div>\n",
       "<style scoped>\n",
       "    .dataframe tbody tr th:only-of-type {\n",
       "        vertical-align: middle;\n",
       "    }\n",
       "\n",
       "    .dataframe tbody tr th {\n",
       "        vertical-align: top;\n",
       "    }\n",
       "\n",
       "    .dataframe thead th {\n",
       "        text-align: right;\n",
       "    }\n",
       "</style>\n",
       "<table border=\"1\" class=\"dataframe\">\n",
       "  <thead>\n",
       "    <tr style=\"text-align: right;\">\n",
       "      <th></th>\n",
       "      <th>p_bact</th>\n",
       "      <th>pred_bact</th>\n",
       "      <th>diag</th>\n",
       "      <th>CMalaria</th>\n",
       "      <th>Enceph</th>\n",
       "      <th>Mening</th>\n",
       "      <th>glasgtot</th>\n",
       "      <th>sbp</th>\n",
       "      <th>patientid</th>\n",
       "      <th>p_vir</th>\n",
       "      <th>pred_vir</th>\n",
       "      <th>p_mal&amp;bact</th>\n",
       "      <th>pred_mal&amp;bact</th>\n",
       "      <th>p_tbcrypto</th>\n",
       "      <th>pred_tbcrypto</th>\n",
       "    </tr>\n",
       "  </thead>\n",
       "  <tbody>\n",
       "    <tr>\n",
       "      <th>0</th>\n",
       "      <td>0.885763</td>\n",
       "      <td>1</td>\n",
       "      <td>5.0</td>\n",
       "      <td>0.0</td>\n",
       "      <td>0.0</td>\n",
       "      <td>1.0</td>\n",
       "      <td>15.0</td>\n",
       "      <td>103.0</td>\n",
       "      <td>378.0</td>\n",
       "      <td>0.343547</td>\n",
       "      <td>0</td>\n",
       "      <td>0.000017</td>\n",
       "      <td>0</td>\n",
       "      <td>0.133573</td>\n",
       "      <td>0</td>\n",
       "    </tr>\n",
       "    <tr>\n",
       "      <th>1</th>\n",
       "      <td>0.898085</td>\n",
       "      <td>1</td>\n",
       "      <td>5.0</td>\n",
       "      <td>0.0</td>\n",
       "      <td>0.0</td>\n",
       "      <td>1.0</td>\n",
       "      <td>13.0</td>\n",
       "      <td>98.0</td>\n",
       "      <td>190.0</td>\n",
       "      <td>0.373822</td>\n",
       "      <td>0</td>\n",
       "      <td>0.000022</td>\n",
       "      <td>0</td>\n",
       "      <td>0.232219</td>\n",
       "      <td>0</td>\n",
       "    </tr>\n",
       "    <tr>\n",
       "      <th>2</th>\n",
       "      <td>0.856636</td>\n",
       "      <td>1</td>\n",
       "      <td>5.0</td>\n",
       "      <td>0.0</td>\n",
       "      <td>1.0</td>\n",
       "      <td>0.0</td>\n",
       "      <td>11.0</td>\n",
       "      <td>118.0</td>\n",
       "      <td>98.0</td>\n",
       "      <td>0.411127</td>\n",
       "      <td>0</td>\n",
       "      <td>0.000058</td>\n",
       "      <td>0</td>\n",
       "      <td>0.000034</td>\n",
       "      <td>0</td>\n",
       "    </tr>\n",
       "    <tr>\n",
       "      <th>3</th>\n",
       "      <td>0.838157</td>\n",
       "      <td>1</td>\n",
       "      <td>5.0</td>\n",
       "      <td>0.0</td>\n",
       "      <td>1.0</td>\n",
       "      <td>0.0</td>\n",
       "      <td>15.0</td>\n",
       "      <td>91.0</td>\n",
       "      <td>104.0</td>\n",
       "      <td>0.516988</td>\n",
       "      <td>1</td>\n",
       "      <td>0.000082</td>\n",
       "      <td>0</td>\n",
       "      <td>0.000019</td>\n",
       "      <td>0</td>\n",
       "    </tr>\n",
       "    <tr>\n",
       "      <th>4</th>\n",
       "      <td>0.849390</td>\n",
       "      <td>1</td>\n",
       "      <td>5.0</td>\n",
       "      <td>0.0</td>\n",
       "      <td>1.0</td>\n",
       "      <td>0.0</td>\n",
       "      <td>13.0</td>\n",
       "      <td>100.0</td>\n",
       "      <td>235.0</td>\n",
       "      <td>0.484588</td>\n",
       "      <td>0</td>\n",
       "      <td>0.000076</td>\n",
       "      <td>0</td>\n",
       "      <td>0.000028</td>\n",
       "      <td>0</td>\n",
       "    </tr>\n",
       "  </tbody>\n",
       "</table>\n",
       "</div>"
      ],
      "text/plain": [
       "     p_bact  pred_bact  diag  CMalaria  Enceph  Mening  glasgtot    sbp  \\\n",
       "0  0.885763          1   5.0       0.0     0.0     1.0      15.0  103.0   \n",
       "1  0.898085          1   5.0       0.0     0.0     1.0      13.0   98.0   \n",
       "2  0.856636          1   5.0       0.0     1.0     0.0      11.0  118.0   \n",
       "3  0.838157          1   5.0       0.0     1.0     0.0      15.0   91.0   \n",
       "4  0.849390          1   5.0       0.0     1.0     0.0      13.0  100.0   \n",
       "\n",
       "   patientid     p_vir  pred_vir  p_mal&bact  pred_mal&bact  p_tbcrypto  \\\n",
       "0      378.0  0.343547         0    0.000017              0    0.133573   \n",
       "1      190.0  0.373822         0    0.000022              0    0.232219   \n",
       "2       98.0  0.411127         0    0.000058              0    0.000034   \n",
       "3      104.0  0.516988         1    0.000082              0    0.000019   \n",
       "4      235.0  0.484588         0    0.000076              0    0.000028   \n",
       "\n",
       "   pred_tbcrypto  \n",
       "0              0  \n",
       "1              0  \n",
       "2              0  \n",
       "3              0  \n",
       "4              0  "
      ]
     },
     "execution_count": 151,
     "metadata": {},
     "output_type": "execute_result"
    }
   ],
   "source": [
    "prediction2['p_tbcrypto'] = p\n",
    "prediction2['pred_tbcrypto'] = (prediction2['p_tbcrypto'] > .5) * 1\n",
    "prediction2.head(5)"
   ]
  },
  {
   "cell_type": "code",
   "execution_count": 152,
   "metadata": {},
   "outputs": [],
   "source": [
    "#Finally, do comparison of mal and other to finish this group of observations"
   ]
  },
  {
   "cell_type": "code",
   "execution_count": 153,
   "metadata": {},
   "outputs": [],
   "source": [
    "y = train['diag']\n",
    "y = y[np.isin(y,[0,5])] #logreg comparison of mal and bact groups\n",
    "y[y==5] = 1 "
   ]
  },
  {
   "cell_type": "code",
   "execution_count": 154,
   "metadata": {},
   "outputs": [],
   "source": [
    "x = train[['CMalaria','Mening','Enceph','glasgtot','sbp']]\n",
    "x = x.loc[y.index]"
   ]
  },
  {
   "cell_type": "code",
   "execution_count": 155,
   "metadata": {},
   "outputs": [],
   "source": [
    "patientid = train['patientid']\n",
    "patientid = patientid[y.index]"
   ]
  },
  {
   "cell_type": "code",
   "execution_count": 156,
   "metadata": {},
   "outputs": [],
   "source": [
    "def tinvlogit(x):\n",
    "    return t.exp(x) / (1 + t.exp(x))"
   ]
  },
  {
   "cell_type": "code",
   "execution_count": 159,
   "metadata": {},
   "outputs": [],
   "source": [
    "with pm.Model() as logistic_model:\n",
    "\n",
    "    effects = pm.Normal('effects', mu=0, sd=10, shape=x.shape[1])\n",
    "    \n",
    "    # expected parameter\n",
    "    p = tinvlogit(t.sum(effects * x, axis=1))\n",
    "    \n",
    "    # Likelihood (sampling distribution) of observations\n",
    "    Y_obs = pm.Bernoulli('Y_obs', p=p, observed=y)\n",
    "\n"
   ]
  },
  {
   "cell_type": "code",
   "execution_count": 160,
   "metadata": {
    "scrolled": true
   },
   "outputs": [
    {
     "name": "stderr",
     "output_type": "stream",
     "text": [
      "Auto-assigning NUTS sampler...\n",
      "Initializing NUTS using jitter+adapt_diag...\n",
      "Sequential sampling (1 chains in 1 job)\n",
      "NUTS: [effects]\n",
      "100%|██████████| 3000/3000 [00:12<00:00, 237.68it/s]\n",
      "Only one chain was sampled, this makes it impossible to run some convergence checks\n"
     ]
    }
   ],
   "source": [
    "with logistic_model:\n",
    "    trace = pm.sample(1000, tune=2000, chains=1)\n",
    "    \n",
    "#with logistic_model:\n",
    "#    # move the chain to the MAP which should be a good starting point\n",
    "#    start = pm.find_MAP()\n",
    "#    step = pm.NUTS(scaling=start)\n",
    "#    trace = pm.sample(5000, step, start)"
   ]
  },
  {
   "cell_type": "code",
   "execution_count": 161,
   "metadata": {},
   "outputs": [],
   "source": [
    "new_y = test['diag']"
   ]
  },
  {
   "cell_type": "code",
   "execution_count": 162,
   "metadata": {},
   "outputs": [],
   "source": [
    "new_x = test[['CMalaria','Mening','Enceph','glasgtot','sbp']]"
   ]
  },
  {
   "cell_type": "code",
   "execution_count": 163,
   "metadata": {},
   "outputs": [],
   "source": [
    "new_patientid = test['patientid']"
   ]
  },
  {
   "cell_type": "code",
   "execution_count": 164,
   "metadata": {},
   "outputs": [],
   "source": [
    "def invlogit(x):\n",
    "    return np.exp(x) / (1 + np.exp(x))"
   ]
  },
  {
   "cell_type": "code",
   "execution_count": 165,
   "metadata": {},
   "outputs": [
    {
     "data": {
      "text/plain": [
       "array([ 2.82808511,  2.70441899,  3.69767837,  4.59529549,  4.22557563,\n",
       "        3.92679609,  3.26746679, -1.84381877, -1.63163707, -1.68596099,\n",
       "        3.17927083, -1.29770699,  2.63475717,  2.75778404, -1.2798121 ,\n",
       "       -0.24253787,  0.05752017, -1.84413839, -1.17468012,  2.49287654])"
      ]
     },
     "execution_count": 165,
     "metadata": {},
     "output_type": "execute_result"
    }
   ],
   "source": [
    "eta = np.zeros(new_x.shape[0]) #Generate log odds of viral by averaging posterior\n",
    "for row in trace['effects'][:,None,:]:\n",
    "    row=row[0]\n",
    "    eta = np.add(eta, np.dot(new_x, row.transpose()))\n",
    "eta = np.divide(eta, trace['effects'][:,None,:].shape[0])\n",
    "eta[:20]"
   ]
  },
  {
   "cell_type": "code",
   "execution_count": 166,
   "metadata": {},
   "outputs": [
    {
     "data": {
      "text/plain": [
       "array([0.94417476, 0.9372869 , 0.97581826, 0.99000174, 0.98559366,\n",
       "       0.98067414, 0.96329571, 0.13660028, 0.16360622, 0.15630775,\n",
       "       0.96004671, 0.21455118, 0.93306527, 0.94035146, 0.21758221,\n",
       "       0.43966103, 0.51437608, 0.13656259, 0.23601007, 0.92364093])"
      ]
     },
     "execution_count": 166,
     "metadata": {},
     "output_type": "execute_result"
    }
   ],
   "source": [
    "p = invlogit(eta) #probability of viral infection\n",
    "\n",
    "p[:20]"
   ]
  },
  {
   "cell_type": "code",
   "execution_count": 167,
   "metadata": {},
   "outputs": [
    {
     "data": {
      "text/html": [
       "<div>\n",
       "<style scoped>\n",
       "    .dataframe tbody tr th:only-of-type {\n",
       "        vertical-align: middle;\n",
       "    }\n",
       "\n",
       "    .dataframe tbody tr th {\n",
       "        vertical-align: top;\n",
       "    }\n",
       "\n",
       "    .dataframe thead th {\n",
       "        text-align: right;\n",
       "    }\n",
       "</style>\n",
       "<table border=\"1\" class=\"dataframe\">\n",
       "  <thead>\n",
       "    <tr style=\"text-align: right;\">\n",
       "      <th></th>\n",
       "      <th>p_bact</th>\n",
       "      <th>pred_bact</th>\n",
       "      <th>diag</th>\n",
       "      <th>CMalaria</th>\n",
       "      <th>Enceph</th>\n",
       "      <th>Mening</th>\n",
       "      <th>glasgtot</th>\n",
       "      <th>sbp</th>\n",
       "      <th>patientid</th>\n",
       "      <th>p_vir</th>\n",
       "      <th>pred_vir</th>\n",
       "      <th>p_mal&amp;bact</th>\n",
       "      <th>pred_mal&amp;bact</th>\n",
       "      <th>p_tbcrypto</th>\n",
       "      <th>pred_tbcrypto</th>\n",
       "      <th>p_other</th>\n",
       "      <th>pred_other</th>\n",
       "    </tr>\n",
       "  </thead>\n",
       "  <tbody>\n",
       "    <tr>\n",
       "      <th>0</th>\n",
       "      <td>0.885763</td>\n",
       "      <td>1</td>\n",
       "      <td>5.0</td>\n",
       "      <td>0.0</td>\n",
       "      <td>0.0</td>\n",
       "      <td>1.0</td>\n",
       "      <td>15.0</td>\n",
       "      <td>103.0</td>\n",
       "      <td>378.0</td>\n",
       "      <td>0.343547</td>\n",
       "      <td>0</td>\n",
       "      <td>0.000017</td>\n",
       "      <td>0</td>\n",
       "      <td>0.133573</td>\n",
       "      <td>0</td>\n",
       "      <td>0.944175</td>\n",
       "      <td>1</td>\n",
       "    </tr>\n",
       "    <tr>\n",
       "      <th>1</th>\n",
       "      <td>0.898085</td>\n",
       "      <td>1</td>\n",
       "      <td>5.0</td>\n",
       "      <td>0.0</td>\n",
       "      <td>0.0</td>\n",
       "      <td>1.0</td>\n",
       "      <td>13.0</td>\n",
       "      <td>98.0</td>\n",
       "      <td>190.0</td>\n",
       "      <td>0.373822</td>\n",
       "      <td>0</td>\n",
       "      <td>0.000022</td>\n",
       "      <td>0</td>\n",
       "      <td>0.232219</td>\n",
       "      <td>0</td>\n",
       "      <td>0.937287</td>\n",
       "      <td>1</td>\n",
       "    </tr>\n",
       "    <tr>\n",
       "      <th>2</th>\n",
       "      <td>0.856636</td>\n",
       "      <td>1</td>\n",
       "      <td>5.0</td>\n",
       "      <td>0.0</td>\n",
       "      <td>1.0</td>\n",
       "      <td>0.0</td>\n",
       "      <td>11.0</td>\n",
       "      <td>118.0</td>\n",
       "      <td>98.0</td>\n",
       "      <td>0.411127</td>\n",
       "      <td>0</td>\n",
       "      <td>0.000058</td>\n",
       "      <td>0</td>\n",
       "      <td>0.000034</td>\n",
       "      <td>0</td>\n",
       "      <td>0.975818</td>\n",
       "      <td>1</td>\n",
       "    </tr>\n",
       "    <tr>\n",
       "      <th>3</th>\n",
       "      <td>0.838157</td>\n",
       "      <td>1</td>\n",
       "      <td>5.0</td>\n",
       "      <td>0.0</td>\n",
       "      <td>1.0</td>\n",
       "      <td>0.0</td>\n",
       "      <td>15.0</td>\n",
       "      <td>91.0</td>\n",
       "      <td>104.0</td>\n",
       "      <td>0.516988</td>\n",
       "      <td>1</td>\n",
       "      <td>0.000082</td>\n",
       "      <td>0</td>\n",
       "      <td>0.000019</td>\n",
       "      <td>0</td>\n",
       "      <td>0.990002</td>\n",
       "      <td>1</td>\n",
       "    </tr>\n",
       "    <tr>\n",
       "      <th>4</th>\n",
       "      <td>0.849390</td>\n",
       "      <td>1</td>\n",
       "      <td>5.0</td>\n",
       "      <td>0.0</td>\n",
       "      <td>1.0</td>\n",
       "      <td>0.0</td>\n",
       "      <td>13.0</td>\n",
       "      <td>100.0</td>\n",
       "      <td>235.0</td>\n",
       "      <td>0.484588</td>\n",
       "      <td>0</td>\n",
       "      <td>0.000076</td>\n",
       "      <td>0</td>\n",
       "      <td>0.000028</td>\n",
       "      <td>0</td>\n",
       "      <td>0.985594</td>\n",
       "      <td>1</td>\n",
       "    </tr>\n",
       "  </tbody>\n",
       "</table>\n",
       "</div>"
      ],
      "text/plain": [
       "     p_bact  pred_bact  diag  CMalaria  Enceph  Mening  glasgtot    sbp  \\\n",
       "0  0.885763          1   5.0       0.0     0.0     1.0      15.0  103.0   \n",
       "1  0.898085          1   5.0       0.0     0.0     1.0      13.0   98.0   \n",
       "2  0.856636          1   5.0       0.0     1.0     0.0      11.0  118.0   \n",
       "3  0.838157          1   5.0       0.0     1.0     0.0      15.0   91.0   \n",
       "4  0.849390          1   5.0       0.0     1.0     0.0      13.0  100.0   \n",
       "\n",
       "   patientid     p_vir  pred_vir  p_mal&bact  pred_mal&bact  p_tbcrypto  \\\n",
       "0      378.0  0.343547         0    0.000017              0    0.133573   \n",
       "1      190.0  0.373822         0    0.000022              0    0.232219   \n",
       "2       98.0  0.411127         0    0.000058              0    0.000034   \n",
       "3      104.0  0.516988         1    0.000082              0    0.000019   \n",
       "4      235.0  0.484588         0    0.000076              0    0.000028   \n",
       "\n",
       "   pred_tbcrypto   p_other  pred_other  \n",
       "0              0  0.944175           1  \n",
       "1              0  0.937287           1  \n",
       "2              0  0.975818           1  \n",
       "3              0  0.990002           1  \n",
       "4              0  0.985594           1  "
      ]
     },
     "execution_count": 167,
     "metadata": {},
     "output_type": "execute_result"
    }
   ],
   "source": [
    "prediction2['p_other'] = p\n",
    "prediction2['pred_other'] = (prediction2['p_other'] > .5) * 1\n",
    "prediction2.head(5)"
   ]
  },
  {
   "cell_type": "markdown",
   "metadata": {},
   "source": [
    "# Begin analysis of final group"
   ]
  },
  {
   "cell_type": "code",
   "execution_count": 168,
   "metadata": {},
   "outputs": [
    {
     "data": {
      "text/plain": [
       "(240, 7)"
      ]
     },
     "execution_count": 168,
     "metadata": {},
     "output_type": "execute_result"
    }
   ],
   "source": [
    "test = var[240:]\n",
    "train = var[:240]\n",
    "train.shape"
   ]
  },
  {
   "cell_type": "code",
   "execution_count": 169,
   "metadata": {},
   "outputs": [],
   "source": [
    "y = train['diag']\n",
    "y = y[np.isin(y,[0,1])] #logreg comparison of mal and bact groups"
   ]
  },
  {
   "cell_type": "code",
   "execution_count": 170,
   "metadata": {},
   "outputs": [],
   "source": [
    "x = train[['CMalaria','Mening','Enceph','glasgtot','sbp']]\n",
    "x = x.loc[y.index]"
   ]
  },
  {
   "cell_type": "code",
   "execution_count": 171,
   "metadata": {},
   "outputs": [],
   "source": [
    "patientid = train['patientid']\n",
    "patientid = patientid[y.index]"
   ]
  },
  {
   "cell_type": "code",
   "execution_count": 172,
   "metadata": {},
   "outputs": [],
   "source": [
    "def tinvlogit(x):\n",
    "    return t.exp(x) / (1 + t.exp(x))"
   ]
  },
  {
   "cell_type": "code",
   "execution_count": 173,
   "metadata": {},
   "outputs": [],
   "source": [
    "with pm.Model() as logistic_model:\n",
    "\n",
    "    effects = pm.Normal('effects', mu=0, sd=10, shape=x.shape[1])\n",
    "    \n",
    "    # expected parameter\n",
    "    p = tinvlogit(t.sum(effects * x, axis=1))\n",
    "    \n",
    "    # Likelihood (sampling distribution) of observations\n",
    "    Y_obs = pm.Bernoulli('Y_obs', p=p, observed=y)\n",
    "\n"
   ]
  },
  {
   "cell_type": "code",
   "execution_count": 174,
   "metadata": {},
   "outputs": [
    {
     "name": "stderr",
     "output_type": "stream",
     "text": [
      "Auto-assigning NUTS sampler...\n",
      "Initializing NUTS using jitter+adapt_diag...\n",
      "Sequential sampling (1 chains in 1 job)\n",
      "NUTS: [effects]\n",
      "100%|██████████| 3000/3000 [00:13<00:00, 222.83it/s]\n",
      "Only one chain was sampled, this makes it impossible to run some convergence checks\n"
     ]
    }
   ],
   "source": [
    "with logistic_model:\n",
    "    trace = pm.sample(1000, tune=2000, chains=1)\n",
    "    \n",
    "#with logistic_model:\n",
    "#    # move the chain to the MAP which should be a good starting point\n",
    "#    start = pm.find_MAP()\n",
    "#    step = pm.NUTS(scaling=start)\n",
    "#    trace = pm.sample(5000, step, start)"
   ]
  },
  {
   "cell_type": "code",
   "execution_count": 175,
   "metadata": {},
   "outputs": [],
   "source": [
    "new_y = test['diag']\n"
   ]
  },
  {
   "cell_type": "code",
   "execution_count": 176,
   "metadata": {},
   "outputs": [],
   "source": [
    "new_x = test[['CMalaria','Mening','Enceph','glasgtot','sbp']]"
   ]
  },
  {
   "cell_type": "code",
   "execution_count": 177,
   "metadata": {},
   "outputs": [],
   "source": [
    "new_patientid = test['patientid']\n"
   ]
  },
  {
   "cell_type": "code",
   "execution_count": 178,
   "metadata": {},
   "outputs": [],
   "source": [
    "def invlogit(x):\n",
    "    return np.exp(x) / (1 + np.exp(x))"
   ]
  },
  {
   "cell_type": "code",
   "execution_count": 179,
   "metadata": {},
   "outputs": [
    {
     "data": {
      "text/plain": [
       "array([ 1.11916828, -3.28774528,  0.65382535, -5.20764751,  1.8047488 ,\n",
       "        2.10662566,  3.47778668, -3.43146115,  0.03013392, -3.32143612,\n",
       "        0.55667395,  1.62734209,  0.29075139,  2.38787283, -3.69895519,\n",
       "       -4.89132553, -3.71270832,  1.1544306 ,  0.50853799, -2.88959651])"
      ]
     },
     "execution_count": 179,
     "metadata": {},
     "output_type": "execute_result"
    }
   ],
   "source": [
    "eta = np.zeros(new_x.shape[0]) #Generate log odds of bacterial by averaging posterior\n",
    "for row in trace['effects'][:,None,:]:\n",
    "    row=row[0]\n",
    "    eta = np.add(eta, np.dot(new_x, row.transpose()))\n",
    "eta = np.divide(eta, trace['effects'][:,None,:].shape[0])\n",
    "eta[:20]"
   ]
  },
  {
   "cell_type": "code",
   "execution_count": 180,
   "metadata": {},
   "outputs": [
    {
     "data": {
      "text/plain": [
       "array([0.75383441, 0.035994  , 0.65787198, 0.00544473, 0.85872602,\n",
       "       0.89154549, 0.97004908, 0.03132656, 0.50753291, 0.03484308,\n",
       "       0.63568261, 0.83580521, 0.57218008, 0.91589786, 0.02415163,\n",
       "       0.00745546, 0.02382961, 0.76031925, 0.62446368, 0.05267025])"
      ]
     },
     "execution_count": 180,
     "metadata": {},
     "output_type": "execute_result"
    }
   ],
   "source": [
    "p = invlogit(eta) #probability of bacterial infection\n",
    "\n",
    "p[:20]"
   ]
  },
  {
   "cell_type": "code",
   "execution_count": 181,
   "metadata": {},
   "outputs": [],
   "source": [
    "prediction3 = pd.DataFrame({'p_bact':p}) #build df to visualize results\n",
    "prediction3['pred_bact'] = (prediction3['p_bact'] > .5) * 1"
   ]
  },
  {
   "cell_type": "code",
   "execution_count": 182,
   "metadata": {},
   "outputs": [
    {
     "data": {
      "text/html": [
       "<div>\n",
       "<style scoped>\n",
       "    .dataframe tbody tr th:only-of-type {\n",
       "        vertical-align: middle;\n",
       "    }\n",
       "\n",
       "    .dataframe tbody tr th {\n",
       "        vertical-align: top;\n",
       "    }\n",
       "\n",
       "    .dataframe thead th {\n",
       "        text-align: right;\n",
       "    }\n",
       "</style>\n",
       "<table border=\"1\" class=\"dataframe\">\n",
       "  <thead>\n",
       "    <tr style=\"text-align: right;\">\n",
       "      <th></th>\n",
       "      <th>p_bact</th>\n",
       "      <th>pred_bact</th>\n",
       "      <th>diag</th>\n",
       "      <th>CMalaria</th>\n",
       "      <th>Enceph</th>\n",
       "      <th>Mening</th>\n",
       "      <th>glasgtot</th>\n",
       "      <th>sbp</th>\n",
       "      <th>patientid</th>\n",
       "    </tr>\n",
       "  </thead>\n",
       "  <tbody>\n",
       "    <tr>\n",
       "      <th>0</th>\n",
       "      <td>0.753834</td>\n",
       "      <td>1</td>\n",
       "      <td>1.0</td>\n",
       "      <td>0.0</td>\n",
       "      <td>0.0</td>\n",
       "      <td>1.0</td>\n",
       "      <td>13.0</td>\n",
       "      <td>98.0</td>\n",
       "      <td>453.0</td>\n",
       "    </tr>\n",
       "    <tr>\n",
       "      <th>1</th>\n",
       "      <td>0.035994</td>\n",
       "      <td>0</td>\n",
       "      <td>0.0</td>\n",
       "      <td>1.0</td>\n",
       "      <td>0.0</td>\n",
       "      <td>0.0</td>\n",
       "      <td>7.0</td>\n",
       "      <td>83.0</td>\n",
       "      <td>260.0</td>\n",
       "    </tr>\n",
       "    <tr>\n",
       "      <th>2</th>\n",
       "      <td>0.657872</td>\n",
       "      <td>1</td>\n",
       "      <td>5.0</td>\n",
       "      <td>0.0</td>\n",
       "      <td>1.0</td>\n",
       "      <td>0.0</td>\n",
       "      <td>12.0</td>\n",
       "      <td>90.0</td>\n",
       "      <td>290.0</td>\n",
       "    </tr>\n",
       "    <tr>\n",
       "      <th>3</th>\n",
       "      <td>0.005445</td>\n",
       "      <td>0</td>\n",
       "      <td>0.0</td>\n",
       "      <td>1.0</td>\n",
       "      <td>0.0</td>\n",
       "      <td>0.0</td>\n",
       "      <td>15.0</td>\n",
       "      <td>91.0</td>\n",
       "      <td>196.0</td>\n",
       "    </tr>\n",
       "    <tr>\n",
       "      <th>4</th>\n",
       "      <td>0.858726</td>\n",
       "      <td>1</td>\n",
       "      <td>1.0</td>\n",
       "      <td>0.0</td>\n",
       "      <td>0.0</td>\n",
       "      <td>1.0</td>\n",
       "      <td>10.0</td>\n",
       "      <td>90.0</td>\n",
       "      <td>109.0</td>\n",
       "    </tr>\n",
       "  </tbody>\n",
       "</table>\n",
       "</div>"
      ],
      "text/plain": [
       "     p_bact  pred_bact  diag  CMalaria  Enceph  Mening  glasgtot   sbp  \\\n",
       "0  0.753834          1   1.0       0.0     0.0     1.0      13.0  98.0   \n",
       "1  0.035994          0   0.0       1.0     0.0     0.0       7.0  83.0   \n",
       "2  0.657872          1   5.0       0.0     1.0     0.0      12.0  90.0   \n",
       "3  0.005445          0   0.0       1.0     0.0     0.0      15.0  91.0   \n",
       "4  0.858726          1   1.0       0.0     0.0     1.0      10.0  90.0   \n",
       "\n",
       "   patientid  \n",
       "0      453.0  \n",
       "1      260.0  \n",
       "2      290.0  \n",
       "3      196.0  \n",
       "4      109.0  "
      ]
     },
     "execution_count": 182,
     "metadata": {},
     "output_type": "execute_result"
    }
   ],
   "source": [
    "prediction3[\"diag\"] = new_y.reset_index(drop=True)\n",
    "prediction3[\"CMalaria\"] = new_x.reset_index(drop=True)[\"CMalaria\"]\n",
    "prediction3[\"Enceph\"] = new_x.reset_index(drop=True)[\"Enceph\"]\n",
    "prediction3[\"Mening\"] = new_x.reset_index(drop=True)[\"Mening\"]\n",
    "prediction3[\"glasgtot\"] = new_x.reset_index(drop=True)[\"glasgtot\"]\n",
    "prediction3[\"sbp\"] = new_x.reset_index(drop=True)[\"sbp\"]\n",
    "prediction3[\"patientid\"] = new_patientid.reset_index(drop=True)\n",
    "prediction3.head(5) #observe pred_diag compared to diag to see difference between prediction and actual diagnosis"
   ]
  },
  {
   "cell_type": "code",
   "execution_count": 183,
   "metadata": {},
   "outputs": [],
   "source": [
    "#Now repeat the regression on the same test/train set for mal and viral"
   ]
  },
  {
   "cell_type": "code",
   "execution_count": 184,
   "metadata": {},
   "outputs": [],
   "source": [
    "y = train['diag']\n",
    "y = y[np.isin(y,[0,2])] #logreg comparison of mal and bact groups\n",
    "y[y==2] = 1 "
   ]
  },
  {
   "cell_type": "code",
   "execution_count": 185,
   "metadata": {},
   "outputs": [],
   "source": [
    "x = train[['CMalaria','Mening','Enceph','glasgtot','sbp']]\n",
    "x = x.loc[y.index]"
   ]
  },
  {
   "cell_type": "code",
   "execution_count": 186,
   "metadata": {},
   "outputs": [],
   "source": [
    "patientid = train['patientid']\n",
    "patientid = patientid[y.index]"
   ]
  },
  {
   "cell_type": "code",
   "execution_count": 187,
   "metadata": {},
   "outputs": [],
   "source": [
    "def tinvlogit(x):\n",
    "    return t.exp(x) / (1 + t.exp(x))"
   ]
  },
  {
   "cell_type": "code",
   "execution_count": 189,
   "metadata": {},
   "outputs": [],
   "source": [
    "with pm.Model() as logistic_model:\n",
    "\n",
    "    effects = pm.Normal('effects', mu=0, sd=10, shape=x.shape[1])\n",
    "    \n",
    "    # expected parameter\n",
    "    p = tinvlogit(t.sum(effects * x, axis=1))\n",
    "    \n",
    "    # Likelihood (sampling distribution) of observations\n",
    "    Y_obs = pm.Bernoulli('Y_obs', p=p, observed=y)\n",
    "\n"
   ]
  },
  {
   "cell_type": "code",
   "execution_count": 190,
   "metadata": {
    "scrolled": true
   },
   "outputs": [
    {
     "name": "stderr",
     "output_type": "stream",
     "text": [
      "Auto-assigning NUTS sampler...\n",
      "Initializing NUTS using jitter+adapt_diag...\n",
      "Sequential sampling (1 chains in 1 job)\n",
      "NUTS: [effects]\n",
      "100%|██████████| 3000/3000 [00:11<00:00, 263.48it/s]\n",
      "Only one chain was sampled, this makes it impossible to run some convergence checks\n"
     ]
    }
   ],
   "source": [
    "with logistic_model:\n",
    "    trace = pm.sample(1000, tune=2000, chains=1)\n",
    "    \n",
    "#with logistic_model:\n",
    "#    # move the chain to the MAP which should be a good starting point\n",
    "#    start = pm.find_MAP()\n",
    "#    step = pm.NUTS(scaling=start)\n",
    "#    trace = pm.sample(5000, step, start)"
   ]
  },
  {
   "cell_type": "code",
   "execution_count": 191,
   "metadata": {},
   "outputs": [],
   "source": [
    "new_y = test['diag']"
   ]
  },
  {
   "cell_type": "code",
   "execution_count": 192,
   "metadata": {},
   "outputs": [],
   "source": [
    "new_x = test[['CMalaria','Mening','Enceph','glasgtot','sbp']]"
   ]
  },
  {
   "cell_type": "code",
   "execution_count": 193,
   "metadata": {},
   "outputs": [],
   "source": [
    "new_patientid = test['patientid']"
   ]
  },
  {
   "cell_type": "code",
   "execution_count": 194,
   "metadata": {},
   "outputs": [],
   "source": [
    "def invlogit(x):\n",
    "    return np.exp(x) / (1 + np.exp(x))"
   ]
  },
  {
   "cell_type": "code",
   "execution_count": 195,
   "metadata": {},
   "outputs": [
    {
     "data": {
      "text/plain": [
       "array([ -1.42682318, -11.72451046,  -1.84835717, -14.1681281 ,\n",
       "        -0.59253151,  -0.13936241,   1.52922094, -11.80018083,\n",
       "        -2.53493195, -11.53757302,  -2.23468345,  -0.48126444,\n",
       "        -2.18024078,   0.26456772, -12.17128499, -13.41313064,\n",
       "       -12.20411097,  -1.1882138 ,  -2.34957437, -11.04155953])"
      ]
     },
     "execution_count": 195,
     "metadata": {},
     "output_type": "execute_result"
    }
   ],
   "source": [
    "eta = np.zeros(new_x.shape[0]) #Generate log odds of viral by averaging posterior\n",
    "for row in trace['effects'][:,None,:]:\n",
    "    row=row[0]\n",
    "    eta = np.add(eta, np.dot(new_x, row.transpose()))\n",
    "eta = np.divide(eta, trace['effects'][:,None,:].shape[0])\n",
    "eta[:20]"
   ]
  },
  {
   "cell_type": "code",
   "execution_count": 196,
   "metadata": {},
   "outputs": [
    {
     "data": {
      "text/plain": [
       "array([1.93594152e-01, 8.09293941e-06, 1.36065899e-01, 7.02845458e-07,\n",
       "       3.56054220e-01, 4.65215677e-01, 8.21892299e-01, 7.50314467e-06,\n",
       "       7.34453150e-02, 9.75644195e-06, 9.66788524e-02, 3.81953591e-01,\n",
       "       1.01538960e-01, 5.65758806e-01, 5.17697232e-06, 1.49537710e-06,\n",
       "       5.00979293e-06, 2.33578549e-01, 8.70996100e-02, 1.60215551e-05])"
      ]
     },
     "execution_count": 196,
     "metadata": {},
     "output_type": "execute_result"
    }
   ],
   "source": [
    "p = invlogit(eta) #probability of viral infection\n",
    "\n",
    "p[:20]"
   ]
  },
  {
   "cell_type": "code",
   "execution_count": 197,
   "metadata": {},
   "outputs": [
    {
     "data": {
      "text/html": [
       "<div>\n",
       "<style scoped>\n",
       "    .dataframe tbody tr th:only-of-type {\n",
       "        vertical-align: middle;\n",
       "    }\n",
       "\n",
       "    .dataframe tbody tr th {\n",
       "        vertical-align: top;\n",
       "    }\n",
       "\n",
       "    .dataframe thead th {\n",
       "        text-align: right;\n",
       "    }\n",
       "</style>\n",
       "<table border=\"1\" class=\"dataframe\">\n",
       "  <thead>\n",
       "    <tr style=\"text-align: right;\">\n",
       "      <th></th>\n",
       "      <th>p_bact</th>\n",
       "      <th>pred_bact</th>\n",
       "      <th>diag</th>\n",
       "      <th>CMalaria</th>\n",
       "      <th>Enceph</th>\n",
       "      <th>Mening</th>\n",
       "      <th>glasgtot</th>\n",
       "      <th>sbp</th>\n",
       "      <th>patientid</th>\n",
       "      <th>p_vir</th>\n",
       "      <th>pred_vir</th>\n",
       "    </tr>\n",
       "  </thead>\n",
       "  <tbody>\n",
       "    <tr>\n",
       "      <th>0</th>\n",
       "      <td>0.753834</td>\n",
       "      <td>1</td>\n",
       "      <td>1.0</td>\n",
       "      <td>0.0</td>\n",
       "      <td>0.0</td>\n",
       "      <td>1.0</td>\n",
       "      <td>13.0</td>\n",
       "      <td>98.0</td>\n",
       "      <td>453.0</td>\n",
       "      <td>1.935942e-01</td>\n",
       "      <td>0</td>\n",
       "    </tr>\n",
       "    <tr>\n",
       "      <th>1</th>\n",
       "      <td>0.035994</td>\n",
       "      <td>0</td>\n",
       "      <td>0.0</td>\n",
       "      <td>1.0</td>\n",
       "      <td>0.0</td>\n",
       "      <td>0.0</td>\n",
       "      <td>7.0</td>\n",
       "      <td>83.0</td>\n",
       "      <td>260.0</td>\n",
       "      <td>8.092939e-06</td>\n",
       "      <td>0</td>\n",
       "    </tr>\n",
       "    <tr>\n",
       "      <th>2</th>\n",
       "      <td>0.657872</td>\n",
       "      <td>1</td>\n",
       "      <td>5.0</td>\n",
       "      <td>0.0</td>\n",
       "      <td>1.0</td>\n",
       "      <td>0.0</td>\n",
       "      <td>12.0</td>\n",
       "      <td>90.0</td>\n",
       "      <td>290.0</td>\n",
       "      <td>1.360659e-01</td>\n",
       "      <td>0</td>\n",
       "    </tr>\n",
       "    <tr>\n",
       "      <th>3</th>\n",
       "      <td>0.005445</td>\n",
       "      <td>0</td>\n",
       "      <td>0.0</td>\n",
       "      <td>1.0</td>\n",
       "      <td>0.0</td>\n",
       "      <td>0.0</td>\n",
       "      <td>15.0</td>\n",
       "      <td>91.0</td>\n",
       "      <td>196.0</td>\n",
       "      <td>7.028455e-07</td>\n",
       "      <td>0</td>\n",
       "    </tr>\n",
       "    <tr>\n",
       "      <th>4</th>\n",
       "      <td>0.858726</td>\n",
       "      <td>1</td>\n",
       "      <td>1.0</td>\n",
       "      <td>0.0</td>\n",
       "      <td>0.0</td>\n",
       "      <td>1.0</td>\n",
       "      <td>10.0</td>\n",
       "      <td>90.0</td>\n",
       "      <td>109.0</td>\n",
       "      <td>3.560542e-01</td>\n",
       "      <td>0</td>\n",
       "    </tr>\n",
       "  </tbody>\n",
       "</table>\n",
       "</div>"
      ],
      "text/plain": [
       "     p_bact  pred_bact  diag  CMalaria  Enceph  Mening  glasgtot   sbp  \\\n",
       "0  0.753834          1   1.0       0.0     0.0     1.0      13.0  98.0   \n",
       "1  0.035994          0   0.0       1.0     0.0     0.0       7.0  83.0   \n",
       "2  0.657872          1   5.0       0.0     1.0     0.0      12.0  90.0   \n",
       "3  0.005445          0   0.0       1.0     0.0     0.0      15.0  91.0   \n",
       "4  0.858726          1   1.0       0.0     0.0     1.0      10.0  90.0   \n",
       "\n",
       "   patientid         p_vir  pred_vir  \n",
       "0      453.0  1.935942e-01         0  \n",
       "1      260.0  8.092939e-06         0  \n",
       "2      290.0  1.360659e-01         0  \n",
       "3      196.0  7.028455e-07         0  \n",
       "4      109.0  3.560542e-01         0  "
      ]
     },
     "execution_count": 197,
     "metadata": {},
     "output_type": "execute_result"
    }
   ],
   "source": [
    "prediction3['p_vir'] = p\n",
    "prediction3['pred_vir'] = (prediction3['p_vir'] > .5) * 1\n",
    "prediction3.head(5)"
   ]
  },
  {
   "cell_type": "code",
   "execution_count": 198,
   "metadata": {},
   "outputs": [],
   "source": [
    "# Now do mal and concurrent-mal-bact\n"
   ]
  },
  {
   "cell_type": "code",
   "execution_count": 199,
   "metadata": {},
   "outputs": [],
   "source": [
    "y = train['diag']\n",
    "y = y[np.isin(y,[0,3])] #logreg comparison of mal and bact groups\n",
    "y[y==3] = 1 "
   ]
  },
  {
   "cell_type": "code",
   "execution_count": 200,
   "metadata": {},
   "outputs": [],
   "source": [
    "x = train[['CMalaria','Mening','Enceph','glasgtot','sbp']]\n",
    "x = x.loc[y.index]"
   ]
  },
  {
   "cell_type": "code",
   "execution_count": 201,
   "metadata": {},
   "outputs": [],
   "source": [
    "patientid = train['patientid']\n",
    "patientid = patientid[y.index]"
   ]
  },
  {
   "cell_type": "code",
   "execution_count": 202,
   "metadata": {},
   "outputs": [],
   "source": [
    "def tinvlogit(x):\n",
    "    return t.exp(x) / (1 + t.exp(x))"
   ]
  },
  {
   "cell_type": "code",
   "execution_count": 205,
   "metadata": {},
   "outputs": [],
   "source": [
    "with pm.Model() as logistic_model:\n",
    "\n",
    "    effects = pm.Normal('effects', mu=0, sd=10, shape=x.shape[1])\n",
    "    \n",
    "    # expected parameter\n",
    "    p = tinvlogit(t.sum(effects * x, axis=1))\n",
    "    \n",
    "    # Likelihood (sampling distribution) of observations\n",
    "    Y_obs = pm.Bernoulli('Y_obs', p=p, observed=y)\n",
    "\n"
   ]
  },
  {
   "cell_type": "code",
   "execution_count": 206,
   "metadata": {
    "scrolled": true
   },
   "outputs": [
    {
     "name": "stderr",
     "output_type": "stream",
     "text": [
      "Auto-assigning NUTS sampler...\n",
      "Initializing NUTS using jitter+adapt_diag...\n",
      "Sequential sampling (1 chains in 1 job)\n",
      "NUTS: [effects]\n",
      "100%|██████████| 3000/3000 [00:12<00:00, 239.28it/s]\n",
      "Only one chain was sampled, this makes it impossible to run some convergence checks\n"
     ]
    }
   ],
   "source": [
    "with logistic_model:\n",
    "    trace = pm.sample(1000, tune=2000, chains=1)\n",
    "    \n",
    "#with logistic_model:\n",
    "#    # move the chain to the MAP which should be a good starting point\n",
    "#    start = pm.find_MAP()\n",
    "#    step = pm.NUTS(scaling=start)\n",
    "#    trace = pm.sample(5000, step, start)"
   ]
  },
  {
   "cell_type": "code",
   "execution_count": 207,
   "metadata": {},
   "outputs": [],
   "source": [
    "new_y = test['diag']"
   ]
  },
  {
   "cell_type": "code",
   "execution_count": 208,
   "metadata": {},
   "outputs": [],
   "source": [
    "new_x = test[['CMalaria','Mening','Enceph','glasgtot','sbp']]"
   ]
  },
  {
   "cell_type": "code",
   "execution_count": 209,
   "metadata": {},
   "outputs": [],
   "source": [
    "new_patientid = test['patientid']"
   ]
  },
  {
   "cell_type": "code",
   "execution_count": 210,
   "metadata": {},
   "outputs": [],
   "source": [
    "def invlogit(x):\n",
    "    return np.exp(x) / (1 + np.exp(x))"
   ]
  },
  {
   "cell_type": "code",
   "execution_count": 211,
   "metadata": {},
   "outputs": [
    {
     "data": {
      "text/plain": [
       "array([-10.04712513,  -2.74860962,  -8.98324186,  -2.76863738,\n",
       "        -9.94879011, -10.10977093,  -9.9131009 ,  -3.00542199,\n",
       "        -9.24506117,  -3.29606074,  -9.83415301, -10.75305359,\n",
       "        -9.29705246, -10.21625699,  -2.93526578,  -3.60422377,\n",
       "        -2.89893594,  -9.03272968,  -9.70699856,  -3.16389935])"
      ]
     },
     "execution_count": 211,
     "metadata": {},
     "output_type": "execute_result"
    }
   ],
   "source": [
    "eta = np.zeros(new_x.shape[0]) #Generate log odds of viral by averaging posterior\n",
    "for row in trace['effects'][:,None,:]:\n",
    "    row=row[0]\n",
    "    eta = np.add(eta, np.dot(new_x, row.transpose()))\n",
    "eta = np.divide(eta, trace['effects'][:,None,:].shape[0])\n",
    "eta[:20]"
   ]
  },
  {
   "cell_type": "code",
   "execution_count": 212,
   "metadata": {},
   "outputs": [
    {
     "data": {
      "text/plain": [
       "array([4.33082056e-05, 6.01652214e-02, 1.25479602e-04, 5.90426704e-02,\n",
       "       4.77831308e-05, 4.06784695e-05, 4.95191835e-05, 4.71815258e-02,\n",
       "       9.65781772e-05, 3.57065767e-02, 5.35868639e-05, 2.13795656e-05,\n",
       "       9.16856983e-05, 3.65695892e-05, 5.04375301e-02, 2.64878603e-02,\n",
       "       5.22061887e-02, 1.19421762e-04, 6.08523930e-05, 4.05470851e-02])"
      ]
     },
     "execution_count": 212,
     "metadata": {},
     "output_type": "execute_result"
    }
   ],
   "source": [
    "p = invlogit(eta) #probability of viral infection\n",
    "\n",
    "p[:20]"
   ]
  },
  {
   "cell_type": "code",
   "execution_count": 213,
   "metadata": {},
   "outputs": [
    {
     "data": {
      "text/html": [
       "<div>\n",
       "<style scoped>\n",
       "    .dataframe tbody tr th:only-of-type {\n",
       "        vertical-align: middle;\n",
       "    }\n",
       "\n",
       "    .dataframe tbody tr th {\n",
       "        vertical-align: top;\n",
       "    }\n",
       "\n",
       "    .dataframe thead th {\n",
       "        text-align: right;\n",
       "    }\n",
       "</style>\n",
       "<table border=\"1\" class=\"dataframe\">\n",
       "  <thead>\n",
       "    <tr style=\"text-align: right;\">\n",
       "      <th></th>\n",
       "      <th>p_bact</th>\n",
       "      <th>pred_bact</th>\n",
       "      <th>diag</th>\n",
       "      <th>CMalaria</th>\n",
       "      <th>Enceph</th>\n",
       "      <th>Mening</th>\n",
       "      <th>glasgtot</th>\n",
       "      <th>sbp</th>\n",
       "      <th>patientid</th>\n",
       "      <th>p_vir</th>\n",
       "      <th>pred_vir</th>\n",
       "      <th>p_mal&amp;bact</th>\n",
       "      <th>pred_mal&amp;bact</th>\n",
       "    </tr>\n",
       "  </thead>\n",
       "  <tbody>\n",
       "    <tr>\n",
       "      <th>0</th>\n",
       "      <td>0.753834</td>\n",
       "      <td>1</td>\n",
       "      <td>1.0</td>\n",
       "      <td>0.0</td>\n",
       "      <td>0.0</td>\n",
       "      <td>1.0</td>\n",
       "      <td>13.0</td>\n",
       "      <td>98.0</td>\n",
       "      <td>453.0</td>\n",
       "      <td>1.935942e-01</td>\n",
       "      <td>0</td>\n",
       "      <td>0.000043</td>\n",
       "      <td>0</td>\n",
       "    </tr>\n",
       "    <tr>\n",
       "      <th>1</th>\n",
       "      <td>0.035994</td>\n",
       "      <td>0</td>\n",
       "      <td>0.0</td>\n",
       "      <td>1.0</td>\n",
       "      <td>0.0</td>\n",
       "      <td>0.0</td>\n",
       "      <td>7.0</td>\n",
       "      <td>83.0</td>\n",
       "      <td>260.0</td>\n",
       "      <td>8.092939e-06</td>\n",
       "      <td>0</td>\n",
       "      <td>0.060165</td>\n",
       "      <td>0</td>\n",
       "    </tr>\n",
       "    <tr>\n",
       "      <th>2</th>\n",
       "      <td>0.657872</td>\n",
       "      <td>1</td>\n",
       "      <td>5.0</td>\n",
       "      <td>0.0</td>\n",
       "      <td>1.0</td>\n",
       "      <td>0.0</td>\n",
       "      <td>12.0</td>\n",
       "      <td>90.0</td>\n",
       "      <td>290.0</td>\n",
       "      <td>1.360659e-01</td>\n",
       "      <td>0</td>\n",
       "      <td>0.000125</td>\n",
       "      <td>0</td>\n",
       "    </tr>\n",
       "    <tr>\n",
       "      <th>3</th>\n",
       "      <td>0.005445</td>\n",
       "      <td>0</td>\n",
       "      <td>0.0</td>\n",
       "      <td>1.0</td>\n",
       "      <td>0.0</td>\n",
       "      <td>0.0</td>\n",
       "      <td>15.0</td>\n",
       "      <td>91.0</td>\n",
       "      <td>196.0</td>\n",
       "      <td>7.028455e-07</td>\n",
       "      <td>0</td>\n",
       "      <td>0.059043</td>\n",
       "      <td>0</td>\n",
       "    </tr>\n",
       "    <tr>\n",
       "      <th>4</th>\n",
       "      <td>0.858726</td>\n",
       "      <td>1</td>\n",
       "      <td>1.0</td>\n",
       "      <td>0.0</td>\n",
       "      <td>0.0</td>\n",
       "      <td>1.0</td>\n",
       "      <td>10.0</td>\n",
       "      <td>90.0</td>\n",
       "      <td>109.0</td>\n",
       "      <td>3.560542e-01</td>\n",
       "      <td>0</td>\n",
       "      <td>0.000048</td>\n",
       "      <td>0</td>\n",
       "    </tr>\n",
       "  </tbody>\n",
       "</table>\n",
       "</div>"
      ],
      "text/plain": [
       "     p_bact  pred_bact  diag  CMalaria  Enceph  Mening  glasgtot   sbp  \\\n",
       "0  0.753834          1   1.0       0.0     0.0     1.0      13.0  98.0   \n",
       "1  0.035994          0   0.0       1.0     0.0     0.0       7.0  83.0   \n",
       "2  0.657872          1   5.0       0.0     1.0     0.0      12.0  90.0   \n",
       "3  0.005445          0   0.0       1.0     0.0     0.0      15.0  91.0   \n",
       "4  0.858726          1   1.0       0.0     0.0     1.0      10.0  90.0   \n",
       "\n",
       "   patientid         p_vir  pred_vir  p_mal&bact  pred_mal&bact  \n",
       "0      453.0  1.935942e-01         0    0.000043              0  \n",
       "1      260.0  8.092939e-06         0    0.060165              0  \n",
       "2      290.0  1.360659e-01         0    0.000125              0  \n",
       "3      196.0  7.028455e-07         0    0.059043              0  \n",
       "4      109.0  3.560542e-01         0    0.000048              0  "
      ]
     },
     "execution_count": 213,
     "metadata": {},
     "output_type": "execute_result"
    }
   ],
   "source": [
    "prediction3['p_mal&bact'] = p\n",
    "prediction3['pred_mal&bact'] = (prediction3['p_mal&bact'] > .5) * 1\n",
    "prediction3.head(5)"
   ]
  },
  {
   "cell_type": "code",
   "execution_count": 214,
   "metadata": {},
   "outputs": [],
   "source": [
    "#do mal and tb/crypto and the predictions are complete for this set of 120 observations"
   ]
  },
  {
   "cell_type": "code",
   "execution_count": 215,
   "metadata": {},
   "outputs": [],
   "source": [
    "y = train['diag']\n",
    "y = y[np.isin(y,[0,4])] #logreg comparison of mal and bact groups\n",
    "y[y==4] = 1 "
   ]
  },
  {
   "cell_type": "code",
   "execution_count": 216,
   "metadata": {},
   "outputs": [],
   "source": [
    "x = train[['CMalaria','Mening','Enceph','glasgtot','sbp']]\n",
    "x = x.loc[y.index]"
   ]
  },
  {
   "cell_type": "code",
   "execution_count": 217,
   "metadata": {},
   "outputs": [],
   "source": [
    "patientid = train['patientid']\n",
    "patientid = patientid[y.index]"
   ]
  },
  {
   "cell_type": "code",
   "execution_count": 218,
   "metadata": {},
   "outputs": [],
   "source": [
    "def tinvlogit(x):\n",
    "    return t.exp(x) / (1 + t.exp(x))"
   ]
  },
  {
   "cell_type": "code",
   "execution_count": 219,
   "metadata": {},
   "outputs": [],
   "source": [
    "with pm.Model() as logistic_model:\n",
    " \n",
    "    effects = pm.Normal('effects', mu=0, sd=10, shape=x.shape[1])\n",
    "    \n",
    "    # expected parameter\n",
    "    p = tinvlogit(t.sum(effects * x, axis=1))\n",
    "    \n",
    "    # Likelihood (sampling distribution) of observations\n",
    "    Y_obs = pm.Bernoulli('Y_obs', p=p, observed=y)\n",
    "\n"
   ]
  },
  {
   "cell_type": "code",
   "execution_count": 220,
   "metadata": {
    "scrolled": true
   },
   "outputs": [
    {
     "name": "stderr",
     "output_type": "stream",
     "text": [
      "Auto-assigning NUTS sampler...\n",
      "Initializing NUTS using jitter+adapt_diag...\n",
      "Sequential sampling (1 chains in 1 job)\n",
      "NUTS: [effects]\n",
      "100%|██████████| 3000/3000 [00:12<00:00, 243.80it/s]\n",
      "Only one chain was sampled, this makes it impossible to run some convergence checks\n"
     ]
    }
   ],
   "source": [
    "with logistic_model:\n",
    "    trace = pm.sample(1000, tune=2000, chains=1)\n",
    "    \n",
    "#with logistic_model:\n",
    "#    # move the chain to the MAP which should be a good starting point\n",
    "#    start = pm.find_MAP()\n",
    "#    step = pm.NUTS(scaling=start)\n",
    "#    trace = pm.sample(5000, step, start)"
   ]
  },
  {
   "cell_type": "code",
   "execution_count": 221,
   "metadata": {},
   "outputs": [],
   "source": [
    "new_y = test['diag']"
   ]
  },
  {
   "cell_type": "code",
   "execution_count": 222,
   "metadata": {},
   "outputs": [],
   "source": [
    "new_x = test[['CMalaria','Mening','Enceph','glasgtot','sbp']]"
   ]
  },
  {
   "cell_type": "code",
   "execution_count": 223,
   "metadata": {},
   "outputs": [],
   "source": [
    "new_patientid = test['patientid']"
   ]
  },
  {
   "cell_type": "code",
   "execution_count": 224,
   "metadata": {},
   "outputs": [],
   "source": [
    "def invlogit(x):\n",
    "    return np.exp(x) / (1 + np.exp(x))"
   ]
  },
  {
   "cell_type": "code",
   "execution_count": 225,
   "metadata": {},
   "outputs": [
    {
     "data": {
      "text/plain": [
       "array([-2.29467267e+00, -1.19192897e+01, -1.11550906e+01, -1.56063089e+01,\n",
       "       -9.00707063e-01, -4.60229730e-01,  2.32770148e+00, -1.24119005e+01,\n",
       "       -1.25694563e+01, -1.24481673e+01, -3.18922738e+00, -1.92219558e+00,\n",
       "       -1.21153789e+01, -1.29523707e-02, -1.28637112e+01, -1.57105760e+01,\n",
       "       -1.28591779e+01, -1.02401358e+01, -3.17336066e+00, -1.15105458e+01])"
      ]
     },
     "execution_count": 225,
     "metadata": {},
     "output_type": "execute_result"
    }
   ],
   "source": [
    "eta = np.zeros(new_x.shape[0]) #Generate log odds of viral by averaging posterior\n",
    "for row in trace['effects'][:,None,:]:\n",
    "    row=row[0]\n",
    "    eta = np.add(eta, np.dot(new_x, row.transpose()))\n",
    "eta = np.divide(eta, trace['effects'][:,None,:].shape[0])\n",
    "eta[:20]"
   ]
  },
  {
   "cell_type": "code",
   "execution_count": 226,
   "metadata": {},
   "outputs": [
    {
     "data": {
      "text/plain": [
       "array([9.15651306e-02, 6.66063097e-06, 1.43020896e-05, 1.66826895e-07,\n",
       "       2.88905217e-01, 3.86931327e-01, 9.11145425e-01, 4.06984922e-06,\n",
       "       3.47658608e-06, 3.92489381e-06, 3.95731340e-02, 1.27616930e-01,\n",
       "       5.47463818e-06, 4.96761953e-01, 2.59035964e-06, 1.50308475e-07,\n",
       "       2.60212927e-06, 3.57067248e-05, 4.01806074e-02, 1.00237246e-05])"
      ]
     },
     "execution_count": 226,
     "metadata": {},
     "output_type": "execute_result"
    }
   ],
   "source": [
    "p = invlogit(eta) #probability of viral infection\n",
    "\n",
    "p[:20]"
   ]
  },
  {
   "cell_type": "code",
   "execution_count": 227,
   "metadata": {},
   "outputs": [
    {
     "data": {
      "text/html": [
       "<div>\n",
       "<style scoped>\n",
       "    .dataframe tbody tr th:only-of-type {\n",
       "        vertical-align: middle;\n",
       "    }\n",
       "\n",
       "    .dataframe tbody tr th {\n",
       "        vertical-align: top;\n",
       "    }\n",
       "\n",
       "    .dataframe thead th {\n",
       "        text-align: right;\n",
       "    }\n",
       "</style>\n",
       "<table border=\"1\" class=\"dataframe\">\n",
       "  <thead>\n",
       "    <tr style=\"text-align: right;\">\n",
       "      <th></th>\n",
       "      <th>p_bact</th>\n",
       "      <th>pred_bact</th>\n",
       "      <th>diag</th>\n",
       "      <th>CMalaria</th>\n",
       "      <th>Enceph</th>\n",
       "      <th>Mening</th>\n",
       "      <th>glasgtot</th>\n",
       "      <th>sbp</th>\n",
       "      <th>patientid</th>\n",
       "      <th>p_vir</th>\n",
       "      <th>pred_vir</th>\n",
       "      <th>p_mal&amp;bact</th>\n",
       "      <th>pred_mal&amp;bact</th>\n",
       "      <th>p_tbcrypto</th>\n",
       "      <th>pred_tbcrypto</th>\n",
       "    </tr>\n",
       "  </thead>\n",
       "  <tbody>\n",
       "    <tr>\n",
       "      <th>0</th>\n",
       "      <td>0.753834</td>\n",
       "      <td>1</td>\n",
       "      <td>1.0</td>\n",
       "      <td>0.0</td>\n",
       "      <td>0.0</td>\n",
       "      <td>1.0</td>\n",
       "      <td>13.0</td>\n",
       "      <td>98.0</td>\n",
       "      <td>453.0</td>\n",
       "      <td>1.935942e-01</td>\n",
       "      <td>0</td>\n",
       "      <td>0.000043</td>\n",
       "      <td>0</td>\n",
       "      <td>9.156513e-02</td>\n",
       "      <td>0</td>\n",
       "    </tr>\n",
       "    <tr>\n",
       "      <th>1</th>\n",
       "      <td>0.035994</td>\n",
       "      <td>0</td>\n",
       "      <td>0.0</td>\n",
       "      <td>1.0</td>\n",
       "      <td>0.0</td>\n",
       "      <td>0.0</td>\n",
       "      <td>7.0</td>\n",
       "      <td>83.0</td>\n",
       "      <td>260.0</td>\n",
       "      <td>8.092939e-06</td>\n",
       "      <td>0</td>\n",
       "      <td>0.060165</td>\n",
       "      <td>0</td>\n",
       "      <td>6.660631e-06</td>\n",
       "      <td>0</td>\n",
       "    </tr>\n",
       "    <tr>\n",
       "      <th>2</th>\n",
       "      <td>0.657872</td>\n",
       "      <td>1</td>\n",
       "      <td>5.0</td>\n",
       "      <td>0.0</td>\n",
       "      <td>1.0</td>\n",
       "      <td>0.0</td>\n",
       "      <td>12.0</td>\n",
       "      <td>90.0</td>\n",
       "      <td>290.0</td>\n",
       "      <td>1.360659e-01</td>\n",
       "      <td>0</td>\n",
       "      <td>0.000125</td>\n",
       "      <td>0</td>\n",
       "      <td>1.430209e-05</td>\n",
       "      <td>0</td>\n",
       "    </tr>\n",
       "    <tr>\n",
       "      <th>3</th>\n",
       "      <td>0.005445</td>\n",
       "      <td>0</td>\n",
       "      <td>0.0</td>\n",
       "      <td>1.0</td>\n",
       "      <td>0.0</td>\n",
       "      <td>0.0</td>\n",
       "      <td>15.0</td>\n",
       "      <td>91.0</td>\n",
       "      <td>196.0</td>\n",
       "      <td>7.028455e-07</td>\n",
       "      <td>0</td>\n",
       "      <td>0.059043</td>\n",
       "      <td>0</td>\n",
       "      <td>1.668269e-07</td>\n",
       "      <td>0</td>\n",
       "    </tr>\n",
       "    <tr>\n",
       "      <th>4</th>\n",
       "      <td>0.858726</td>\n",
       "      <td>1</td>\n",
       "      <td>1.0</td>\n",
       "      <td>0.0</td>\n",
       "      <td>0.0</td>\n",
       "      <td>1.0</td>\n",
       "      <td>10.0</td>\n",
       "      <td>90.0</td>\n",
       "      <td>109.0</td>\n",
       "      <td>3.560542e-01</td>\n",
       "      <td>0</td>\n",
       "      <td>0.000048</td>\n",
       "      <td>0</td>\n",
       "      <td>2.889052e-01</td>\n",
       "      <td>0</td>\n",
       "    </tr>\n",
       "  </tbody>\n",
       "</table>\n",
       "</div>"
      ],
      "text/plain": [
       "     p_bact  pred_bact  diag  CMalaria  Enceph  Mening  glasgtot   sbp  \\\n",
       "0  0.753834          1   1.0       0.0     0.0     1.0      13.0  98.0   \n",
       "1  0.035994          0   0.0       1.0     0.0     0.0       7.0  83.0   \n",
       "2  0.657872          1   5.0       0.0     1.0     0.0      12.0  90.0   \n",
       "3  0.005445          0   0.0       1.0     0.0     0.0      15.0  91.0   \n",
       "4  0.858726          1   1.0       0.0     0.0     1.0      10.0  90.0   \n",
       "\n",
       "   patientid         p_vir  pred_vir  p_mal&bact  pred_mal&bact    p_tbcrypto  \\\n",
       "0      453.0  1.935942e-01         0    0.000043              0  9.156513e-02   \n",
       "1      260.0  8.092939e-06         0    0.060165              0  6.660631e-06   \n",
       "2      290.0  1.360659e-01         0    0.000125              0  1.430209e-05   \n",
       "3      196.0  7.028455e-07         0    0.059043              0  1.668269e-07   \n",
       "4      109.0  3.560542e-01         0    0.000048              0  2.889052e-01   \n",
       "\n",
       "   pred_tbcrypto  \n",
       "0              0  \n",
       "1              0  \n",
       "2              0  \n",
       "3              0  \n",
       "4              0  "
      ]
     },
     "execution_count": 227,
     "metadata": {},
     "output_type": "execute_result"
    }
   ],
   "source": [
    "prediction3['p_tbcrypto'] = p\n",
    "prediction3['pred_tbcrypto'] = (prediction3['p_tbcrypto'] > .5) * 1\n",
    "prediction3.head(5)"
   ]
  },
  {
   "cell_type": "code",
   "execution_count": 228,
   "metadata": {},
   "outputs": [],
   "source": [
    "#Finally, do comparison of mal and other to finish this group of observations"
   ]
  },
  {
   "cell_type": "code",
   "execution_count": 229,
   "metadata": {},
   "outputs": [],
   "source": [
    "y = train['diag']\n",
    "y = y[np.isin(y,[0,5])] #logreg comparison of mal and bact groups\n",
    "y[y==5] = 1 "
   ]
  },
  {
   "cell_type": "code",
   "execution_count": 230,
   "metadata": {},
   "outputs": [],
   "source": [
    "x = train[['CMalaria','Mening','Enceph','glasgtot','sbp']]\n",
    "x = x.loc[y.index]"
   ]
  },
  {
   "cell_type": "code",
   "execution_count": 231,
   "metadata": {},
   "outputs": [],
   "source": [
    "patientid = train['patientid']\n",
    "patientid = patientid[y.index]"
   ]
  },
  {
   "cell_type": "code",
   "execution_count": 232,
   "metadata": {},
   "outputs": [],
   "source": [
    "def tinvlogit(x):\n",
    "    return t.exp(x) / (1 + t.exp(x))"
   ]
  },
  {
   "cell_type": "code",
   "execution_count": 237,
   "metadata": {},
   "outputs": [],
   "source": [
    "with pm.Model() as logistic_model:\n",
    "\n",
    "    effects = pm.Normal('effects', mu=0, sd=10, shape=x.shape[1])\n",
    "    \n",
    "    # expected parameter\n",
    "    p = tinvlogit(t.sum(effects * x, axis=1))\n",
    "    \n",
    "    # Likelihood (sampling distribution) of observations\n",
    "    Y_obs = pm.Bernoulli('Y_obs', p=p, observed=y)\n",
    "\n"
   ]
  },
  {
   "cell_type": "code",
   "execution_count": 238,
   "metadata": {
    "scrolled": true
   },
   "outputs": [
    {
     "name": "stderr",
     "output_type": "stream",
     "text": [
      "Auto-assigning NUTS sampler...\n",
      "Initializing NUTS using jitter+adapt_diag...\n",
      "Sequential sampling (1 chains in 1 job)\n",
      "NUTS: [effects]\n",
      "100%|██████████| 3000/3000 [00:12<00:00, 235.68it/s]\n",
      "Only one chain was sampled, this makes it impossible to run some convergence checks\n"
     ]
    }
   ],
   "source": [
    "with logistic_model:\n",
    "    trace = pm.sample(1000, tune=2000, chains=1)\n",
    "    \n",
    "#with logistic_model:\n",
    "#    # move the chain to the MAP which should be a good starting point\n",
    "#    start = pm.find_MAP()\n",
    "#    step = pm.NUTS(scaling=start)\n",
    "#    trace = pm.sample(5000, step, start)"
   ]
  },
  {
   "cell_type": "code",
   "execution_count": 239,
   "metadata": {},
   "outputs": [],
   "source": [
    "new_y = test['diag']"
   ]
  },
  {
   "cell_type": "code",
   "execution_count": 240,
   "metadata": {},
   "outputs": [],
   "source": [
    "new_x = test[['CMalaria','Mening','Enceph','glasgtot','sbp']]"
   ]
  },
  {
   "cell_type": "code",
   "execution_count": 241,
   "metadata": {},
   "outputs": [],
   "source": [
    "new_patientid = test['patientid']"
   ]
  },
  {
   "cell_type": "code",
   "execution_count": 242,
   "metadata": {},
   "outputs": [],
   "source": [
    "def invlogit(x):\n",
    "    return np.exp(x) / (1 + np.exp(x))"
   ]
  },
  {
   "cell_type": "code",
   "execution_count": 243,
   "metadata": {},
   "outputs": [
    {
     "data": {
      "text/plain": [
       "array([ 1.75002923, -1.26917787,  3.35130956, -0.81933273,  1.65790665,\n",
       "        1.46385118,  1.27960602, -1.4273414 ,  3.30560732, -1.6723633 ,\n",
       "        2.04625694,  1.09655769,  3.20343507,  1.31573733, -1.30985528,\n",
       "       -1.52377071, -1.27922754,  3.19290667,  2.15345403, -1.6776275 ])"
      ]
     },
     "execution_count": 243,
     "metadata": {},
     "output_type": "execute_result"
    }
   ],
   "source": [
    "eta = np.zeros(new_x.shape[0]) #Generate log odds of viral by averaging posterior\n",
    "for row in trace['effects'][:,None,:]:\n",
    "    row=row[0]\n",
    "    eta = np.add(eta, np.dot(new_x, row.transpose()))\n",
    "eta = np.divide(eta, trace['effects'][:,None,:].shape[0])\n",
    "eta[:20]"
   ]
  },
  {
   "cell_type": "code",
   "execution_count": 244,
   "metadata": {},
   "outputs": [
    {
     "data": {
      "text/plain": [
       "array([0.85195649, 0.21939802, 0.96614769, 0.30590532, 0.8399568 ,\n",
       "       0.812121  , 0.78238271, 0.19351326, 0.96462067, 0.15810934,\n",
       "       0.88556886, 0.74961457, 0.96096334, 0.78847163, 0.21251106,\n",
       "       0.17890693, 0.21768174, 0.96056647, 0.8959911 , 0.15740988])"
      ]
     },
     "execution_count": 244,
     "metadata": {},
     "output_type": "execute_result"
    }
   ],
   "source": [
    "p = invlogit(eta) #probability of viral infection\n",
    "\n",
    "p[:20]"
   ]
  },
  {
   "cell_type": "code",
   "execution_count": 245,
   "metadata": {},
   "outputs": [
    {
     "data": {
      "text/html": [
       "<div>\n",
       "<style scoped>\n",
       "    .dataframe tbody tr th:only-of-type {\n",
       "        vertical-align: middle;\n",
       "    }\n",
       "\n",
       "    .dataframe tbody tr th {\n",
       "        vertical-align: top;\n",
       "    }\n",
       "\n",
       "    .dataframe thead th {\n",
       "        text-align: right;\n",
       "    }\n",
       "</style>\n",
       "<table border=\"1\" class=\"dataframe\">\n",
       "  <thead>\n",
       "    <tr style=\"text-align: right;\">\n",
       "      <th></th>\n",
       "      <th>p_bact</th>\n",
       "      <th>pred_bact</th>\n",
       "      <th>diag</th>\n",
       "      <th>CMalaria</th>\n",
       "      <th>Enceph</th>\n",
       "      <th>Mening</th>\n",
       "      <th>glasgtot</th>\n",
       "      <th>sbp</th>\n",
       "      <th>patientid</th>\n",
       "      <th>p_vir</th>\n",
       "      <th>pred_vir</th>\n",
       "      <th>p_mal&amp;bact</th>\n",
       "      <th>pred_mal&amp;bact</th>\n",
       "      <th>p_tbcrypto</th>\n",
       "      <th>pred_tbcrypto</th>\n",
       "      <th>p_other</th>\n",
       "      <th>pred_other</th>\n",
       "    </tr>\n",
       "  </thead>\n",
       "  <tbody>\n",
       "    <tr>\n",
       "      <th>0</th>\n",
       "      <td>0.753834</td>\n",
       "      <td>1</td>\n",
       "      <td>1.0</td>\n",
       "      <td>0.0</td>\n",
       "      <td>0.0</td>\n",
       "      <td>1.0</td>\n",
       "      <td>13.0</td>\n",
       "      <td>98.0</td>\n",
       "      <td>453.0</td>\n",
       "      <td>1.935942e-01</td>\n",
       "      <td>0</td>\n",
       "      <td>0.000043</td>\n",
       "      <td>0</td>\n",
       "      <td>9.156513e-02</td>\n",
       "      <td>0</td>\n",
       "      <td>0.851956</td>\n",
       "      <td>1</td>\n",
       "    </tr>\n",
       "    <tr>\n",
       "      <th>1</th>\n",
       "      <td>0.035994</td>\n",
       "      <td>0</td>\n",
       "      <td>0.0</td>\n",
       "      <td>1.0</td>\n",
       "      <td>0.0</td>\n",
       "      <td>0.0</td>\n",
       "      <td>7.0</td>\n",
       "      <td>83.0</td>\n",
       "      <td>260.0</td>\n",
       "      <td>8.092939e-06</td>\n",
       "      <td>0</td>\n",
       "      <td>0.060165</td>\n",
       "      <td>0</td>\n",
       "      <td>6.660631e-06</td>\n",
       "      <td>0</td>\n",
       "      <td>0.219398</td>\n",
       "      <td>0</td>\n",
       "    </tr>\n",
       "    <tr>\n",
       "      <th>2</th>\n",
       "      <td>0.657872</td>\n",
       "      <td>1</td>\n",
       "      <td>5.0</td>\n",
       "      <td>0.0</td>\n",
       "      <td>1.0</td>\n",
       "      <td>0.0</td>\n",
       "      <td>12.0</td>\n",
       "      <td>90.0</td>\n",
       "      <td>290.0</td>\n",
       "      <td>1.360659e-01</td>\n",
       "      <td>0</td>\n",
       "      <td>0.000125</td>\n",
       "      <td>0</td>\n",
       "      <td>1.430209e-05</td>\n",
       "      <td>0</td>\n",
       "      <td>0.966148</td>\n",
       "      <td>1</td>\n",
       "    </tr>\n",
       "    <tr>\n",
       "      <th>3</th>\n",
       "      <td>0.005445</td>\n",
       "      <td>0</td>\n",
       "      <td>0.0</td>\n",
       "      <td>1.0</td>\n",
       "      <td>0.0</td>\n",
       "      <td>0.0</td>\n",
       "      <td>15.0</td>\n",
       "      <td>91.0</td>\n",
       "      <td>196.0</td>\n",
       "      <td>7.028455e-07</td>\n",
       "      <td>0</td>\n",
       "      <td>0.059043</td>\n",
       "      <td>0</td>\n",
       "      <td>1.668269e-07</td>\n",
       "      <td>0</td>\n",
       "      <td>0.305905</td>\n",
       "      <td>0</td>\n",
       "    </tr>\n",
       "    <tr>\n",
       "      <th>4</th>\n",
       "      <td>0.858726</td>\n",
       "      <td>1</td>\n",
       "      <td>1.0</td>\n",
       "      <td>0.0</td>\n",
       "      <td>0.0</td>\n",
       "      <td>1.0</td>\n",
       "      <td>10.0</td>\n",
       "      <td>90.0</td>\n",
       "      <td>109.0</td>\n",
       "      <td>3.560542e-01</td>\n",
       "      <td>0</td>\n",
       "      <td>0.000048</td>\n",
       "      <td>0</td>\n",
       "      <td>2.889052e-01</td>\n",
       "      <td>0</td>\n",
       "      <td>0.839957</td>\n",
       "      <td>1</td>\n",
       "    </tr>\n",
       "  </tbody>\n",
       "</table>\n",
       "</div>"
      ],
      "text/plain": [
       "     p_bact  pred_bact  diag  CMalaria  Enceph  Mening  glasgtot   sbp  \\\n",
       "0  0.753834          1   1.0       0.0     0.0     1.0      13.0  98.0   \n",
       "1  0.035994          0   0.0       1.0     0.0     0.0       7.0  83.0   \n",
       "2  0.657872          1   5.0       0.0     1.0     0.0      12.0  90.0   \n",
       "3  0.005445          0   0.0       1.0     0.0     0.0      15.0  91.0   \n",
       "4  0.858726          1   1.0       0.0     0.0     1.0      10.0  90.0   \n",
       "\n",
       "   patientid         p_vir  pred_vir  p_mal&bact  pred_mal&bact    p_tbcrypto  \\\n",
       "0      453.0  1.935942e-01         0    0.000043              0  9.156513e-02   \n",
       "1      260.0  8.092939e-06         0    0.060165              0  6.660631e-06   \n",
       "2      290.0  1.360659e-01         0    0.000125              0  1.430209e-05   \n",
       "3      196.0  7.028455e-07         0    0.059043              0  1.668269e-07   \n",
       "4      109.0  3.560542e-01         0    0.000048              0  2.889052e-01   \n",
       "\n",
       "   pred_tbcrypto   p_other  pred_other  \n",
       "0              0  0.851956           1  \n",
       "1              0  0.219398           0  \n",
       "2              0  0.966148           1  \n",
       "3              0  0.305905           0  \n",
       "4              0  0.839957           1  "
      ]
     },
     "execution_count": 245,
     "metadata": {},
     "output_type": "execute_result"
    }
   ],
   "source": [
    "prediction3['p_other'] = p\n",
    "prediction3['pred_other'] = (prediction3['p_other'] > .5) * 1\n",
    "prediction3.head(5)"
   ]
  },
  {
   "cell_type": "code",
   "execution_count": 246,
   "metadata": {},
   "outputs": [],
   "source": [
    "mlogreg_results = prediction.append(prediction2).append(prediction3)"
   ]
  },
  {
   "cell_type": "code",
   "execution_count": 247,
   "metadata": {},
   "outputs": [
    {
     "data": {
      "text/plain": [
       "True"
      ]
     },
     "execution_count": 247,
     "metadata": {},
     "output_type": "execute_result"
    }
   ],
   "source": [
    "mlogreg_results['patientid'].unique().shape == mlogreg_results['patientid'].shape #patients are all unique"
   ]
  },
  {
   "cell_type": "code",
   "execution_count": 248,
   "metadata": {},
   "outputs": [],
   "source": [
    "#Make final prediction of the logistic regression"
   ]
  },
  {
   "cell_type": "code",
   "execution_count": 249,
   "metadata": {},
   "outputs": [
    {
     "name": "stderr",
     "output_type": "stream",
     "text": [
      "/anaconda3/lib/python3.6/site-packages/ipykernel_launcher.py:3: SettingWithCopyWarning: \n",
      "A value is trying to be set on a copy of a slice from a DataFrame\n",
      "\n",
      "See the caveats in the documentation: http://pandas.pydata.org/pandas-docs/stable/indexing.html#indexing-view-versus-copy\n",
      "  This is separate from the ipykernel package so we can avoid doing imports until\n",
      "/anaconda3/lib/python3.6/site-packages/ipykernel_launcher.py:4: SettingWithCopyWarning: \n",
      "A value is trying to be set on a copy of a slice from a DataFrame\n",
      "\n",
      "See the caveats in the documentation: http://pandas.pydata.org/pandas-docs/stable/indexing.html#indexing-view-versus-copy\n",
      "  after removing the cwd from sys.path.\n",
      "/anaconda3/lib/python3.6/site-packages/ipykernel_launcher.py:5: SettingWithCopyWarning: \n",
      "A value is trying to be set on a copy of a slice from a DataFrame\n",
      "\n",
      "See the caveats in the documentation: http://pandas.pydata.org/pandas-docs/stable/indexing.html#indexing-view-versus-copy\n",
      "  \"\"\"\n",
      "/anaconda3/lib/python3.6/site-packages/ipykernel_launcher.py:6: SettingWithCopyWarning: \n",
      "A value is trying to be set on a copy of a slice from a DataFrame\n",
      "\n",
      "See the caveats in the documentation: http://pandas.pydata.org/pandas-docs/stable/indexing.html#indexing-view-versus-copy\n",
      "  \n",
      "/anaconda3/lib/python3.6/site-packages/ipykernel_launcher.py:7: SettingWithCopyWarning: \n",
      "A value is trying to be set on a copy of a slice from a DataFrame\n",
      "\n",
      "See the caveats in the documentation: http://pandas.pydata.org/pandas-docs/stable/indexing.html#indexing-view-versus-copy\n",
      "  import sys\n",
      "/anaconda3/lib/python3.6/site-packages/ipykernel_launcher.py:9: SettingWithCopyWarning: \n",
      "A value is trying to be set on a copy of a slice from a DataFrame\n",
      "\n",
      "See the caveats in the documentation: http://pandas.pydata.org/pandas-docs/stable/indexing.html#indexing-view-versus-copy\n",
      "  if __name__ == '__main__':\n",
      "/anaconda3/lib/python3.6/site-packages/ipykernel_launcher.py:10: SettingWithCopyWarning: \n",
      "A value is trying to be set on a copy of a slice from a DataFrame\n",
      "\n",
      "See the caveats in the documentation: http://pandas.pydata.org/pandas-docs/stable/indexing.html#indexing-view-versus-copy\n",
      "  # Remove the CWD from sys.path while we load stuff.\n",
      "/anaconda3/lib/python3.6/site-packages/ipykernel_launcher.py:11: SettingWithCopyWarning: \n",
      "A value is trying to be set on a copy of a slice from a DataFrame\n",
      "\n",
      "See the caveats in the documentation: http://pandas.pydata.org/pandas-docs/stable/indexing.html#indexing-view-versus-copy\n",
      "  # This is added back by InteractiveShellApp.init_path()\n",
      "/anaconda3/lib/python3.6/site-packages/ipykernel_launcher.py:12: SettingWithCopyWarning: \n",
      "A value is trying to be set on a copy of a slice from a DataFrame\n",
      "\n",
      "See the caveats in the documentation: http://pandas.pydata.org/pandas-docs/stable/indexing.html#indexing-view-versus-copy\n",
      "  if sys.path[0] == '':\n",
      "/anaconda3/lib/python3.6/site-packages/ipykernel_launcher.py:13: SettingWithCopyWarning: \n",
      "A value is trying to be set on a copy of a slice from a DataFrame\n",
      "\n",
      "See the caveats in the documentation: http://pandas.pydata.org/pandas-docs/stable/indexing.html#indexing-view-versus-copy\n",
      "  del sys.path[0]\n"
     ]
    }
   ],
   "source": [
    "mlogreg_results['mlogregpred'] = 0\n",
    "mlogreg_results['p_max'] = mlogreg_results['p_bact']\n",
    "mlogreg_results['p_max'][mlogreg_results['p_vir'] > mlogreg_results['p_max']] = mlogreg_results['p_vir']\n",
    "mlogreg_results['p_max'][mlogreg_results['p_mal&bact'] > mlogreg_results['p_max']] = mlogreg_results['p_mal&bact']\n",
    "mlogreg_results['p_max'][mlogreg_results['p_tbcrypto'] > mlogreg_results['p_max']] = mlogreg_results['p_tbcrypto']\n",
    "mlogreg_results['p_max'][mlogreg_results['p_other'] > mlogreg_results['p_max']] = mlogreg_results['p_other']\n",
    "mlogreg_results['p_max'][mlogreg_results['p_max'] < .5 ] = 0\n",
    "\n",
    "mlogreg_results['mlogregpred'][mlogreg_results['p_max'] == mlogreg_results['p_bact']] = 1\n",
    "mlogreg_results['mlogregpred'][mlogreg_results['p_max'] == mlogreg_results['p_vir']] = 2\n",
    "mlogreg_results['mlogregpred'][mlogreg_results['p_max'] == mlogreg_results['p_mal&bact']] = 3\n",
    "mlogreg_results['mlogregpred'][mlogreg_results['p_max'] == mlogreg_results['p_tbcrypto']] = 4\n",
    "mlogreg_results['mlogregpred'][mlogreg_results['p_max'] == mlogreg_results['p_other']] = 5"
   ]
  },
  {
   "cell_type": "code",
   "execution_count": 250,
   "metadata": {},
   "outputs": [
    {
     "data": {
      "text/html": [
       "<div>\n",
       "<style scoped>\n",
       "    .dataframe tbody tr th:only-of-type {\n",
       "        vertical-align: middle;\n",
       "    }\n",
       "\n",
       "    .dataframe tbody tr th {\n",
       "        vertical-align: top;\n",
       "    }\n",
       "\n",
       "    .dataframe thead th {\n",
       "        text-align: right;\n",
       "    }\n",
       "</style>\n",
       "<table border=\"1\" class=\"dataframe\">\n",
       "  <thead>\n",
       "    <tr style=\"text-align: right;\">\n",
       "      <th></th>\n",
       "      <th>p_bact</th>\n",
       "      <th>pred_bact</th>\n",
       "      <th>diag</th>\n",
       "      <th>CMalaria</th>\n",
       "      <th>Enceph</th>\n",
       "      <th>Mening</th>\n",
       "      <th>glasgtot</th>\n",
       "      <th>sbp</th>\n",
       "      <th>patientid</th>\n",
       "      <th>p_vir</th>\n",
       "      <th>pred_vir</th>\n",
       "      <th>p_mal&amp;bact</th>\n",
       "      <th>pred_mal&amp;bact</th>\n",
       "      <th>p_tbcrypto</th>\n",
       "      <th>pred_tbcrypto</th>\n",
       "      <th>p_other</th>\n",
       "      <th>pred_other</th>\n",
       "      <th>mlogregpred</th>\n",
       "      <th>p_max</th>\n",
       "    </tr>\n",
       "  </thead>\n",
       "  <tbody>\n",
       "    <tr>\n",
       "      <th>0</th>\n",
       "      <td>0.038565</td>\n",
       "      <td>0</td>\n",
       "      <td>0.0</td>\n",
       "      <td>1.0</td>\n",
       "      <td>0.0</td>\n",
       "      <td>0.0</td>\n",
       "      <td>9.0</td>\n",
       "      <td>86.0</td>\n",
       "      <td>244.0</td>\n",
       "      <td>0.007882</td>\n",
       "      <td>0</td>\n",
       "      <td>0.036080</td>\n",
       "      <td>0</td>\n",
       "      <td>6.872371e-07</td>\n",
       "      <td>0</td>\n",
       "      <td>0.242254</td>\n",
       "      <td>0</td>\n",
       "      <td>0</td>\n",
       "      <td>0.000000</td>\n",
       "    </tr>\n",
       "    <tr>\n",
       "      <th>1</th>\n",
       "      <td>0.039688</td>\n",
       "      <td>0</td>\n",
       "      <td>0.0</td>\n",
       "      <td>1.0</td>\n",
       "      <td>0.0</td>\n",
       "      <td>0.0</td>\n",
       "      <td>7.0</td>\n",
       "      <td>94.0</td>\n",
       "      <td>100.0</td>\n",
       "      <td>0.008779</td>\n",
       "      <td>0</td>\n",
       "      <td>0.039002</td>\n",
       "      <td>0</td>\n",
       "      <td>3.494163e-06</td>\n",
       "      <td>0</td>\n",
       "      <td>0.237989</td>\n",
       "      <td>0</td>\n",
       "      <td>0</td>\n",
       "      <td>0.000000</td>\n",
       "    </tr>\n",
       "    <tr>\n",
       "      <th>2</th>\n",
       "      <td>0.039414</td>\n",
       "      <td>0</td>\n",
       "      <td>5.0</td>\n",
       "      <td>1.0</td>\n",
       "      <td>0.0</td>\n",
       "      <td>0.0</td>\n",
       "      <td>6.0</td>\n",
       "      <td>101.0</td>\n",
       "      <td>66.0</td>\n",
       "      <td>0.008353</td>\n",
       "      <td>0</td>\n",
       "      <td>0.039124</td>\n",
       "      <td>0</td>\n",
       "      <td>8.861038e-06</td>\n",
       "      <td>0</td>\n",
       "      <td>0.235364</td>\n",
       "      <td>0</td>\n",
       "      <td>0</td>\n",
       "      <td>0.000000</td>\n",
       "    </tr>\n",
       "    <tr>\n",
       "      <th>3</th>\n",
       "      <td>0.040837</td>\n",
       "      <td>0</td>\n",
       "      <td>0.0</td>\n",
       "      <td>1.0</td>\n",
       "      <td>0.0</td>\n",
       "      <td>0.0</td>\n",
       "      <td>6.0</td>\n",
       "      <td>96.0</td>\n",
       "      <td>432.0</td>\n",
       "      <td>0.009927</td>\n",
       "      <td>0</td>\n",
       "      <td>0.041522</td>\n",
       "      <td>0</td>\n",
       "      <td>7.285238e-06</td>\n",
       "      <td>0</td>\n",
       "      <td>0.236216</td>\n",
       "      <td>0</td>\n",
       "      <td>0</td>\n",
       "      <td>0.000000</td>\n",
       "    </tr>\n",
       "    <tr>\n",
       "      <th>4</th>\n",
       "      <td>0.032274</td>\n",
       "      <td>0</td>\n",
       "      <td>0.0</td>\n",
       "      <td>1.0</td>\n",
       "      <td>0.0</td>\n",
       "      <td>0.0</td>\n",
       "      <td>8.0</td>\n",
       "      <td>117.0</td>\n",
       "      <td>127.0</td>\n",
       "      <td>0.003263</td>\n",
       "      <td>0</td>\n",
       "      <td>0.027130</td>\n",
       "      <td>0</td>\n",
       "      <td>4.461164e-06</td>\n",
       "      <td>0</td>\n",
       "      <td>0.235483</td>\n",
       "      <td>0</td>\n",
       "      <td>0</td>\n",
       "      <td>0.000000</td>\n",
       "    </tr>\n",
       "    <tr>\n",
       "      <th>5</th>\n",
       "      <td>0.035927</td>\n",
       "      <td>0</td>\n",
       "      <td>0.0</td>\n",
       "      <td>1.0</td>\n",
       "      <td>0.0</td>\n",
       "      <td>0.0</td>\n",
       "      <td>7.0</td>\n",
       "      <td>108.0</td>\n",
       "      <td>265.0</td>\n",
       "      <td>0.005408</td>\n",
       "      <td>0</td>\n",
       "      <td>0.032991</td>\n",
       "      <td>0</td>\n",
       "      <td>6.045864e-06</td>\n",
       "      <td>0</td>\n",
       "      <td>0.235594</td>\n",
       "      <td>0</td>\n",
       "      <td>0</td>\n",
       "      <td>0.000000</td>\n",
       "    </tr>\n",
       "    <tr>\n",
       "      <th>6</th>\n",
       "      <td>0.792092</td>\n",
       "      <td>1</td>\n",
       "      <td>0.0</td>\n",
       "      <td>0.0</td>\n",
       "      <td>1.0</td>\n",
       "      <td>0.0</td>\n",
       "      <td>12.0</td>\n",
       "      <td>97.0</td>\n",
       "      <td>146.0</td>\n",
       "      <td>0.000017</td>\n",
       "      <td>0</td>\n",
       "      <td>0.000078</td>\n",
       "      <td>0</td>\n",
       "      <td>1.017048e-04</td>\n",
       "      <td>0</td>\n",
       "      <td>0.985678</td>\n",
       "      <td>1</td>\n",
       "      <td>5</td>\n",
       "      <td>0.985678</td>\n",
       "    </tr>\n",
       "    <tr>\n",
       "      <th>7</th>\n",
       "      <td>0.818204</td>\n",
       "      <td>1</td>\n",
       "      <td>1.0</td>\n",
       "      <td>0.0</td>\n",
       "      <td>0.0</td>\n",
       "      <td>1.0</td>\n",
       "      <td>15.0</td>\n",
       "      <td>91.0</td>\n",
       "      <td>191.0</td>\n",
       "      <td>0.044684</td>\n",
       "      <td>0</td>\n",
       "      <td>0.000019</td>\n",
       "      <td>0</td>\n",
       "      <td>7.327266e-02</td>\n",
       "      <td>0</td>\n",
       "      <td>0.887201</td>\n",
       "      <td>1</td>\n",
       "      <td>5</td>\n",
       "      <td>0.887201</td>\n",
       "    </tr>\n",
       "    <tr>\n",
       "      <th>8</th>\n",
       "      <td>0.045749</td>\n",
       "      <td>0</td>\n",
       "      <td>0.0</td>\n",
       "      <td>1.0</td>\n",
       "      <td>0.0</td>\n",
       "      <td>0.0</td>\n",
       "      <td>3.0</td>\n",
       "      <td>98.0</td>\n",
       "      <td>358.0</td>\n",
       "      <td>0.016449</td>\n",
       "      <td>0</td>\n",
       "      <td>0.052463</td>\n",
       "      <td>0</td>\n",
       "      <td>5.645415e-05</td>\n",
       "      <td>0</td>\n",
       "      <td>0.231628</td>\n",
       "      <td>0</td>\n",
       "      <td>0</td>\n",
       "      <td>0.000000</td>\n",
       "    </tr>\n",
       "    <tr>\n",
       "      <th>9</th>\n",
       "      <td>0.805798</td>\n",
       "      <td>1</td>\n",
       "      <td>1.0</td>\n",
       "      <td>0.0</td>\n",
       "      <td>0.0</td>\n",
       "      <td>1.0</td>\n",
       "      <td>15.0</td>\n",
       "      <td>102.0</td>\n",
       "      <td>199.0</td>\n",
       "      <td>0.030894</td>\n",
       "      <td>0</td>\n",
       "      <td>0.000017</td>\n",
       "      <td>0</td>\n",
       "      <td>1.084495e-01</td>\n",
       "      <td>0</td>\n",
       "      <td>0.886155</td>\n",
       "      <td>1</td>\n",
       "      <td>5</td>\n",
       "      <td>0.886155</td>\n",
       "    </tr>\n",
       "  </tbody>\n",
       "</table>\n",
       "</div>"
      ],
      "text/plain": [
       "     p_bact  pred_bact  diag  CMalaria  Enceph  Mening  glasgtot    sbp  \\\n",
       "0  0.038565          0   0.0       1.0     0.0     0.0       9.0   86.0   \n",
       "1  0.039688          0   0.0       1.0     0.0     0.0       7.0   94.0   \n",
       "2  0.039414          0   5.0       1.0     0.0     0.0       6.0  101.0   \n",
       "3  0.040837          0   0.0       1.0     0.0     0.0       6.0   96.0   \n",
       "4  0.032274          0   0.0       1.0     0.0     0.0       8.0  117.0   \n",
       "5  0.035927          0   0.0       1.0     0.0     0.0       7.0  108.0   \n",
       "6  0.792092          1   0.0       0.0     1.0     0.0      12.0   97.0   \n",
       "7  0.818204          1   1.0       0.0     0.0     1.0      15.0   91.0   \n",
       "8  0.045749          0   0.0       1.0     0.0     0.0       3.0   98.0   \n",
       "9  0.805798          1   1.0       0.0     0.0     1.0      15.0  102.0   \n",
       "\n",
       "   patientid     p_vir  pred_vir  p_mal&bact  pred_mal&bact    p_tbcrypto  \\\n",
       "0      244.0  0.007882         0    0.036080              0  6.872371e-07   \n",
       "1      100.0  0.008779         0    0.039002              0  3.494163e-06   \n",
       "2       66.0  0.008353         0    0.039124              0  8.861038e-06   \n",
       "3      432.0  0.009927         0    0.041522              0  7.285238e-06   \n",
       "4      127.0  0.003263         0    0.027130              0  4.461164e-06   \n",
       "5      265.0  0.005408         0    0.032991              0  6.045864e-06   \n",
       "6      146.0  0.000017         0    0.000078              0  1.017048e-04   \n",
       "7      191.0  0.044684         0    0.000019              0  7.327266e-02   \n",
       "8      358.0  0.016449         0    0.052463              0  5.645415e-05   \n",
       "9      199.0  0.030894         0    0.000017              0  1.084495e-01   \n",
       "\n",
       "   pred_tbcrypto   p_other  pred_other  mlogregpred     p_max  \n",
       "0              0  0.242254           0            0  0.000000  \n",
       "1              0  0.237989           0            0  0.000000  \n",
       "2              0  0.235364           0            0  0.000000  \n",
       "3              0  0.236216           0            0  0.000000  \n",
       "4              0  0.235483           0            0  0.000000  \n",
       "5              0  0.235594           0            0  0.000000  \n",
       "6              0  0.985678           1            5  0.985678  \n",
       "7              0  0.887201           1            5  0.887201  \n",
       "8              0  0.231628           0            0  0.000000  \n",
       "9              0  0.886155           1            5  0.886155  "
      ]
     },
     "execution_count": 250,
     "metadata": {},
     "output_type": "execute_result"
    }
   ],
   "source": [
    "mlogreg_results.head(10)"
   ]
  },
  {
   "cell_type": "code",
   "execution_count": 251,
   "metadata": {
    "scrolled": true
   },
   "outputs": [],
   "source": [
    "mlogreg_results.to_csv(\"Outputs/mlogreg_results.csv\")"
   ]
  },
  {
   "cell_type": "code",
   "execution_count": 989,
   "metadata": {
    "collapsed": true
   },
   "outputs": [
    {
     "name": "stderr",
     "output_type": "stream",
     "text": [
      "/anaconda3/lib/python3.6/site-packages/ipykernel_launcher.py:2: SettingWithCopyWarning: \n",
      "A value is trying to be set on a copy of a slice from a DataFrame\n",
      "\n",
      "See the caveats in the documentation: http://pandas.pydata.org/pandas-docs/stable/indexing.html#indexing-view-versus-copy\n",
      "  \n",
      "/anaconda3/lib/python3.6/site-packages/ipykernel_launcher.py:3: SettingWithCopyWarning: \n",
      "A value is trying to be set on a copy of a slice from a DataFrame\n",
      "\n",
      "See the caveats in the documentation: http://pandas.pydata.org/pandas-docs/stable/indexing.html#indexing-view-versus-copy\n",
      "  This is separate from the ipykernel package so we can avoid doing imports until\n",
      "/anaconda3/lib/python3.6/site-packages/ipykernel_launcher.py:4: SettingWithCopyWarning: \n",
      "A value is trying to be set on a copy of a slice from a DataFrame\n",
      "\n",
      "See the caveats in the documentation: http://pandas.pydata.org/pandas-docs/stable/indexing.html#indexing-view-versus-copy\n",
      "  after removing the cwd from sys.path.\n",
      "/anaconda3/lib/python3.6/site-packages/ipykernel_launcher.py:5: SettingWithCopyWarning: \n",
      "A value is trying to be set on a copy of a slice from a DataFrame\n",
      "\n",
      "See the caveats in the documentation: http://pandas.pydata.org/pandas-docs/stable/indexing.html#indexing-view-versus-copy\n",
      "  \"\"\"\n",
      "/anaconda3/lib/python3.6/site-packages/ipykernel_launcher.py:6: SettingWithCopyWarning: \n",
      "A value is trying to be set on a copy of a slice from a DataFrame\n",
      "\n",
      "See the caveats in the documentation: http://pandas.pydata.org/pandas-docs/stable/indexing.html#indexing-view-versus-copy\n",
      "  \n",
      "/anaconda3/lib/python3.6/site-packages/ipykernel_launcher.py:8: SettingWithCopyWarning: \n",
      "A value is trying to be set on a copy of a slice from a DataFrame\n",
      "\n",
      "See the caveats in the documentation: http://pandas.pydata.org/pandas-docs/stable/indexing.html#indexing-view-versus-copy\n",
      "  \n",
      "/anaconda3/lib/python3.6/site-packages/ipykernel_launcher.py:9: SettingWithCopyWarning: \n",
      "A value is trying to be set on a copy of a slice from a DataFrame\n",
      "\n",
      "See the caveats in the documentation: http://pandas.pydata.org/pandas-docs/stable/indexing.html#indexing-view-versus-copy\n",
      "  if __name__ == '__main__':\n",
      "/anaconda3/lib/python3.6/site-packages/ipykernel_launcher.py:10: SettingWithCopyWarning: \n",
      "A value is trying to be set on a copy of a slice from a DataFrame\n",
      "\n",
      "See the caveats in the documentation: http://pandas.pydata.org/pandas-docs/stable/indexing.html#indexing-view-versus-copy\n",
      "  # Remove the CWD from sys.path while we load stuff.\n",
      "/anaconda3/lib/python3.6/site-packages/ipykernel_launcher.py:11: SettingWithCopyWarning: \n",
      "A value is trying to be set on a copy of a slice from a DataFrame\n",
      "\n",
      "See the caveats in the documentation: http://pandas.pydata.org/pandas-docs/stable/indexing.html#indexing-view-versus-copy\n",
      "  # This is added back by InteractiveShellApp.init_path()\n",
      "/anaconda3/lib/python3.6/site-packages/ipykernel_launcher.py:12: SettingWithCopyWarning: \n",
      "A value is trying to be set on a copy of a slice from a DataFrame\n",
      "\n",
      "See the caveats in the documentation: http://pandas.pydata.org/pandas-docs/stable/indexing.html#indexing-view-versus-copy\n",
      "  if sys.path[0] == '':\n"
     ]
    }
   ],
   "source": []
  },
  {
   "cell_type": "code",
   "execution_count": null,
   "metadata": {},
   "outputs": [],
   "source": []
  }
 ],
 "metadata": {
  "kernelspec": {
   "display_name": "Python 3",
   "language": "python",
   "name": "python3"
  },
  "language_info": {
   "codemirror_mode": {
    "name": "ipython",
    "version": 3
   },
   "file_extension": ".py",
   "mimetype": "text/x-python",
   "name": "python",
   "nbconvert_exporter": "python",
   "pygments_lexer": "ipython3",
   "version": "3.6.4"
  }
 },
 "nbformat": 4,
 "nbformat_minor": 2
}
