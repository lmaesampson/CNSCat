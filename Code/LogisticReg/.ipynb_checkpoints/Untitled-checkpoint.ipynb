{
 "cells": [
  {
   "cell_type": "code",
   "execution_count": 1,
   "metadata": {},
   "outputs": [
    {
     "name": "stderr",
     "output_type": "stream",
     "text": [
      "/anaconda3/lib/python3.6/site-packages/sklearn/cross_validation.py:41: DeprecationWarning: This module was deprecated in version 0.18 in favor of the model_selection module into which all the refactored classes and functions are moved. Also note that the interface of the new CV iterators are different from that of this module. This module will be removed in 0.20.\n",
      "  \"This module will be removed in 0.20.\", DeprecationWarning)\n"
     ]
    }
   ],
   "source": [
    "%reset -f\n",
    "%matplotlib inline\n",
    "\n",
    "import numpy as np\n",
    "import pandas as pd\n",
    "import pymc3 as pm\n",
    "import seaborn as sns\n",
    "import os,sys,inspect\n",
    "currentdir = os.path.dirname(os.path.abspath(inspect.getfile(inspect.currentframe())))\n",
    "parentdir = os.path.dirname(currentdir)\n",
    "dirToInclude=parentdir +'/features/'\n",
    "sys.path.insert(0,dirToInclude)\n",
    "\n",
    "\n",
    "import pandas\n",
    "import numpy as np\n",
    "import pandas as pd\n",
    "from sklearn import cross_validation\n",
    "from sklearn import metrics\n",
    "from sklearn.metrics import roc_auc_score, log_loss, roc_auc_score, roc_curve, auc\n",
    "from sklearn.cross_validation import StratifiedKFold, ShuffleSplit, cross_val_score, train_test_split\n",
    "import matplotlib.pyplot as plt\n",
    "pd.set_option('display.max_columns', None)\n",
    "\n",
    "import scipy as sp\n",
    "import theano.tensor as t"
   ]
  },
  {
   "cell_type": "code",
   "execution_count": 2,
   "metadata": {},
   "outputs": [],
   "source": [
    "#Read in Stata datafile\n",
    "#data_stata = pd.io.stata.read_stata('../ProjectDef/cnsfinall2.dta')\n",
    "#Convert to .csv. Now you never need to do this again\n",
    "#data_stata.to_csv('../Data/cns_data.csv')"
   ]
  },
  {
   "cell_type": "code",
   "execution_count": 3,
   "metadata": {},
   "outputs": [],
   "source": [
    "data = pd.read_csv(\"../Data/cns_data.csv\")\n",
    "rf_results = pd.read_csv(\"Outputs/rf_results.csv\")"
   ]
  },
  {
   "cell_type": "code",
   "execution_count": 4,
   "metadata": {},
   "outputs": [],
   "source": [
    "#Adding a variable that is just 'month and day' - seems better to capture seasonality.\n",
    "data['month'] = pd.DatetimeIndex(data['incdate']).month\n",
    "data['day'] = pd.DatetimeIndex(data['incdate']).day\n",
    "data['monthday'] = data['month']*30+data['day']"
   ]
  },
  {
   "cell_type": "code",
   "execution_count": 5,
   "metadata": {},
   "outputs": [],
   "source": [
    "var = data.loc[:,['glasgtot','blanttot','clinjaund','clinhepato','clinspleno','clinconv','clindehyd',\\\n",
    "                          'clinoedem','clinlymph','clinresp','clinablung','clincyan','clincapref','clincoldext',\\\n",
    "                         'clinearinf','clinanemia','clintonsil','clinorcand','clinhemmor','clinaids',\\\n",
    "                         'abdpain','vom','diar','head','muscle','conv',\\\n",
    "                         'sex','ageyrs','agemth','incdate',\\\n",
    "                         'temp','card','resp','sbp','dbp','weight','height','muac',\\\n",
    "                          'mhhosp', 'mhdevsp', 'mhsickle', 'mhchronstat',\\\n",
    "                         'monthday','dimain', \\\n",
    "                         'incirrit', 'inchead', 'incphoto',\\\n",
    "                         'incfont', 'incneuro' , 'incseiza', 'incseizh',\\\n",
    "                          'incpurp','diag']] #This is the final diagnosis - will be the 'label'\n"
   ]
  },
  {
   "cell_type": "code",
   "execution_count": null,
   "metadata": {},
   "outputs": [],
   "source": []
  },
  {
   "cell_type": "code",
   "execution_count": 6,
   "metadata": {},
   "outputs": [],
   "source": [
    "#Convert the date into a useful value. This just counts the days from the beginning of the dataset \n",
    "var['incdate'] = pd.to_datetime(var['incdate'])\n",
    "var['date'] = (var['incdate'] - var['incdate'].min())  / np.timedelta64(1,'D')\n",
    "\n",
    "#Mapping yes/no to 1/0\n",
    "var['clinjaund'] = var.clinjaund.map({'Yes': 1, 'No': 0})\n",
    "var['clinhepato'] = var.clinhepato.map({'Yes': 1, 'No': 0})\n",
    "var['clinspleno'] = var.clinspleno.map({'Yes': 1, 'No': 0})\n",
    "var['clinconv'] = var.clinconv.map({'Yes': 1, 'No': 0})\n",
    "var['clindehyd'] = var.clindehyd.map({'Yes': 1, 'No': 0})\n",
    "var['clinoedem'] = var.clinoedem.map({'Yes': 1, 'No': 0})\n",
    "var['clinlymph'] = var.clinlymph.map({'Yes': 1, 'No': 0})\n",
    "var['clinresp'] = var.clinresp.map({'Yes': 1, 'No': 0})\n",
    "var['clinablung'] = var.clinablung.map({'Yes': 1, 'No': 0})\n",
    "var['clincyan'] = var.clincyan.map({'Yes': 1, 'No': 0})\n",
    "var['clincapref'] = var.clincapref.map({'Yes': 1, 'No': 0})\n",
    "var['clincoldext'] = var.clincoldext.map({'Yes': 1, 'No': 0})\n",
    "var['clinearinf'] = var.clinearinf.map({'Yes': 1, 'No': 0})\n",
    "var['clintonsil'] = var.clintonsil.map({'Yes': 1, 'No': 0})\n",
    "var['clinorcand'] = var.clinorcand.map({'Yes': 1, 'No': 0})\n",
    "var['clinhemmor'] = var.clinhemmor.map({'Yes': 1, 'No': 0})\n",
    "var['clinaids'] = var.clinaids.map({'Yes': 1, 'No': 0})\n",
    "var['vom'] = var.vom.map({'Yes': 1, 'No': 0})\n",
    "var['diar'] = var.diar.map({'Yes': 1, 'No': 0})\n",
    "var['headache'] = var['head'] #Since 'head' is a function\n",
    "var['conv'] = var.conv.map({'Yes': 1, 'No': 0})\n",
    "var['ageym'] = var.ageyrs.astype(float)*12.\n",
    "var.agemth = var.agemth.astype(float)\n",
    "var['age'] = var.ageym + var.agemth\n",
    "\n",
    "\n",
    "#Medical history variables\n",
    "var['mhhosp'] = var.mhhosp.map({'Yes': 1, 'No':0})\n",
    "\n",
    "\n",
    "#some slightly more compliated mappings\n",
    "var['abdpain'] = var.abdpain.map({\"Don't know\":0, 'No':0, 'Yes':1, 'Not applicable':np.nan})\n",
    "var['headache'] = var.headache.map({\"Don't know\":0, 'No':0, 'Yes':1, 'Not applicable':0})\n",
    "var['muscle'] = var.muscle.map({\"Don't know\":0, 'No':0, 'Yes':1, 'Not applicable':np.nan})\n",
    "\n",
    "var['dimain'] = var.dimain.map({\"Cerebral Malaria\":0, \"Meningoencephalitis\":1, \"Meningitis\":2.,\\\n",
    "                                       \"Other\":3})\n",
    "\n",
    "var['mhdevsp'] = var.mhdevsp.map({'OTHER':1, 'GLOBAL DEVELOPMENTAL DELAY':1, 'HYDROCEPHALUS':1,\n",
    "       'HEARING LOSSES':1, 'MOTOR DEVELOPEMENTAL DELAY':1,\n",
    "       'SPEECH DEVELOPEMENTAL DELAY':1})\n",
    "\n",
    "#Mapping of inclusion variables 6-8 MLW\n",
    "var['incirrit'] = var.incirrit.map({\"Don't know\":0, 'No':0, 'Yes':1, 'Not applicable':0})\n",
    "var['inchead'] = var.inchead.map({\"Don't know\":0, 'No':0, 'Yes':1, 'Not applicable':0})\n",
    "var['incphoto'] = var.incphoto.map({\"Don't know\":0, 'No':0, 'Yes':1, 'Not applicable':0})\n",
    "var['incfont'] = var.incfont.map({\"Don't know\":0, 'No':0, 'Yes':1, 'Not applicable':0})\n",
    "var['incneuro'] = var.incneuro.map({\"Don't know\":0, 'No':0, 'Yes':1, 'Not applicable':0})\n",
    "var['incseiza'] = var.incseiza.map({\"Don't know\":0, 'No':0, 'Yes':1, 'Not applicable':0})\n",
    "var['incseizh'] = var.incseizh.map({\"Don't know\":0, 'No':0, 'Yes':1, 'Not applicable':0})\n",
    "var['incpurp'] = var.incpurp.map({\"Don't know\":0, 'No':0, 'Yes':1, 'Not applicable':0})\n",
    "\n",
    "\n",
    "#To begin simply, I'll just separate malaria from bacterial to avoid multinomial\n",
    "var['diag'] = var.diag.map({'malaria':0, 'cereb malaria':0,'virus-malaria':0,\\\n",
    "                                    'virus-bacteria':1, 'bacteremia':1,'bact meningitis':1,\\\n",
    "                                    'virus-other':2,'virus':2,'malaria-bacterial':3,\\\n",
    "                                    'tb':4,'crypto':4, '0.0':5})"
   ]
  },
  {
   "cell_type": "code",
   "execution_count": 7,
   "metadata": {},
   "outputs": [],
   "source": [
    "#A lot of these have very few actual answers. i.e., 'headache.' What happens if you map 'nan' to 'No'?\n",
    "#This is probably something we'll want to play around with.\n",
    "values = {'clinjaund':0,'clinhepato':0,'clinaids':0,'clinhemmor':0,'clinorcand':0,'clintonsil':0,'clinearinf':0,\\\n",
    "          'clinresp':0,'clinlymph':0,'clindehyd':0,'clinoedem':0,'clinablung':0,'clincyan':0,'clincapref':0,\n",
    "          'clincoldext':0, 'mhchronstat':0, 'mhdevsp':0,\\\n",
    "         'conv':0,'abdpain':0,'vom':0,'diar':0,'headache':0,'muscle':0}\n",
    "var = var.fillna(value=values)"
   ]
  },
  {
   "cell_type": "code",
   "execution_count": 8,
   "metadata": {},
   "outputs": [],
   "source": [
    "#You really shouldn't use the initial diagnosis as a continuous variable ,\n",
    "#you need to map it into a set of yes/no question.\n",
    "var['CMalaria'] = var.dimain.map({0:1,1:0,2:0,3:0})\n",
    "var['Enceph'] = var.dimain.map({0:0,1:1,2:0,3:0})\n",
    "var['Mening'] = var.dimain.map({0:0,1:0,2:1,3:0})\n",
    "var['Other'] = var.dimain.map({0:0,1:0,2:0,3:1})\n"
   ]
  },
  {
   "cell_type": "code",
   "execution_count": null,
   "metadata": {},
   "outputs": [],
   "source": []
  },
  {
   "cell_type": "code",
   "execution_count": 9,
   "metadata": {
    "scrolled": true
   },
   "outputs": [],
   "source": [
    "#NB, overwriting var with data exported from another notebook, delete unessecary code above\n",
    "var = rf_results\n",
    "#Keep only what we are using\n",
    "var = var.loc[:,['CMalaria','Mening','Enceph','glasgtot','sbp','diag','patientid']]\n",
    "#var = var.loc[:,['CMalaria','Mening','Enceph','glasgtot','sbp','diag']]"
   ]
  },
  {
   "cell_type": "code",
   "execution_count": 10,
   "metadata": {},
   "outputs": [],
   "source": [
    "#Drop NaNs\n",
    "var = var.dropna()"
   ]
  },
  {
   "cell_type": "code",
   "execution_count": 11,
   "metadata": {},
   "outputs": [
    {
     "data": {
      "text/plain": [
       "(361, 7)"
      ]
     },
     "execution_count": 11,
     "metadata": {},
     "output_type": "execute_result"
    }
   ],
   "source": [
    "var.shape"
   ]
  },
  {
   "cell_type": "code",
   "execution_count": 12,
   "metadata": {},
   "outputs": [
    {
     "data": {
      "text/plain": [
       "(361, 7)"
      ]
     },
     "execution_count": 12,
     "metadata": {},
     "output_type": "execute_result"
    }
   ],
   "source": [
    "#Separate into train and test (same split as in random forest analysis)\n",
    "test = var[0:361]\n",
    "\n",
    "test.shape"
   ]
  },
  {
   "cell_type": "markdown",
   "metadata": {},
   "source": [
    "# Adapted from https://nbviewer.jupyter.org/gist/ceshine/c9a4308384e744f062f5"
   ]
  },
  {
   "cell_type": "code",
   "execution_count": 13,
   "metadata": {},
   "outputs": [],
   "source": [
    "y = test['diag'].copy()\n",
    "#y = y[np.isin(y,[0,1])] #logreg comparison of mal and bact groups\n",
    "y[y==1] = 10 # Set mal to 1 other to 0\n",
    "y[y==2] = 10\n",
    "y[y==3] = 10\n",
    "y[y==4] = 10\n",
    "y[y==5] = 10\n",
    "y[y==0] = 1\n",
    "y[y==10] = 0"
   ]
  },
  {
   "cell_type": "code",
   "execution_count": 15,
   "metadata": {},
   "outputs": [],
   "source": [
    "x = test[['CMalaria','Mening','Enceph','glasgtot','sbp']]\n",
    "x = x.loc[y.index]"
   ]
  },
  {
   "cell_type": "code",
   "execution_count": 17,
   "metadata": {},
   "outputs": [],
   "source": [
    "patientid = test['patientid']\n",
    "patientid = patientid[y.index]"
   ]
  },
  {
   "cell_type": "code",
   "execution_count": 18,
   "metadata": {},
   "outputs": [],
   "source": [
    "def tinvlogit(x):\n",
    "    return t.exp(x) / (1 + t.exp(x))"
   ]
  },
  {
   "cell_type": "code",
   "execution_count": 19,
   "metadata": {},
   "outputs": [],
   "source": [
    "with pm.Model() as logistic_model:\n",
    "\n",
    "    effects = pm.Normal('effects', mu=0, sd=10, shape=x.shape[1])\n",
    "    \n",
    "    # expected parameter\n",
    "    p = tinvlogit(t.sum(effects * x, axis=1))\n",
    "    \n",
    "    # Likelihood (sampling distribution) of observations\n",
    "    Y_obs = pm.Bernoulli('Y_obs', p=p, observed=y)\n",
    "\n"
   ]
  },
  {
   "cell_type": "code",
   "execution_count": 20,
   "metadata": {},
   "outputs": [
    {
     "name": "stderr",
     "output_type": "stream",
     "text": [
      "Auto-assigning NUTS sampler...\n",
      "Initializing NUTS using jitter+adapt_diag...\n",
      "Sequential sampling (1 chains in 1 job)\n",
      "NUTS: [effects]\n",
      "100%|██████████| 3000/3000 [00:16<00:00, 187.30it/s]\n",
      "Only one chain was sampled, this makes it impossible to run some convergence checks\n"
     ]
    }
   ],
   "source": [
    "with logistic_model:\n",
    "    trace = pm.sample(1000, tune=2000, chains=1)\n",
    "    \n",
    "#with logistic_model:\n",
    "#    # move the chain to the MAP which should be a good starting point\n",
    "#    start = pm.find_MAP()\n",
    "#    step = pm.NUTS(scaling=start)\n",
    "#    trace = pm.sample(5000, step, start)"
   ]
  },
  {
   "cell_type": "code",
   "execution_count": 21,
   "metadata": {
    "scrolled": true
   },
   "outputs": [
    {
     "data": {
      "text/plain": [
       "array([[<matplotlib.axes._subplots.AxesSubplot object at 0x118e4a908>,\n",
       "        <matplotlib.axes._subplots.AxesSubplot object at 0x118e9d438>]],\n",
       "      dtype=object)"
      ]
     },
     "execution_count": 21,
     "metadata": {},
     "output_type": "execute_result"
    },
    {
     "data": {
      "image/png": "[encoded data removed]",
      "text/plain": [
       "<matplotlib.figure.Figure at 0x118db32b0>"
      ]
     },
     "metadata": {},
     "output_type": "display_data"
    }
   ],
   "source": [
    "pm.traceplot(trace)"
   ]
  },
  {
   "cell_type": "code",
   "execution_count": 22,
   "metadata": {},
   "outputs": [],
   "source": [
    "new_y = test['diag']\n"
   ]
  },
  {
   "cell_type": "code",
   "execution_count": 23,
   "metadata": {},
   "outputs": [],
   "source": [
    "new_x = test[['CMalaria','Mening','Enceph','glasgtot','sbp']]"
   ]
  },
  {
   "cell_type": "code",
   "execution_count": 24,
   "metadata": {},
   "outputs": [],
   "source": [
    "new_patientid = test['patientid']\n"
   ]
  },
  {
   "cell_type": "code",
   "execution_count": 25,
   "metadata": {},
   "outputs": [],
   "source": [
    "def invlogit(x):\n",
    "    return np.exp(x) / (1 + np.exp(x))"
   ]
  },
  {
   "cell_type": "code",
   "execution_count": 26,
   "metadata": {},
   "outputs": [
    {
     "data": {
      "text/plain": [
       "(361,)"
      ]
     },
     "execution_count": 26,
     "metadata": {},
     "output_type": "execute_result"
    }
   ],
   "source": [
    "eta = np.zeros(new_x.shape[0]) #Generate log odds of bacterial by averaging posterior\n",
    "for row in trace['effects'][:,None,:]:\n",
    "    row=row[0]\n",
    "    eta = np.add(eta, np.dot(new_x, row.transpose()))\n",
    "eta = np.divide(eta, trace['effects'][:,None,:].shape[0])\n",
    "np.add(eta, np.dot(new_x, row.transpose())).shape"
   ]
  },
  {
   "cell_type": "code",
   "execution_count": 27,
   "metadata": {},
   "outputs": [
    {
     "data": {
      "text/plain": [
       "array([0.71567077, 0.7492008 , 0.76777901, 0.76304346, 0.75971938,\n",
       "       0.7628199 , 0.02620978, 0.05530315, 0.79795961, 0.05841396,\n",
       "       0.05502822, 0.02458243, 0.7611307 , 0.05585691, 0.82462336,\n",
       "       0.02114376, 0.02114376, 0.05698011, 0.07298352, 0.02707101])"
      ]
     },
     "execution_count": 27,
     "metadata": {},
     "output_type": "execute_result"
    }
   ],
   "source": [
    "p = invlogit(eta) #probability of malaria infection\n",
    "\n",
    "p[:20]"
   ]
  },
  {
   "cell_type": "code",
   "execution_count": 28,
   "metadata": {},
   "outputs": [],
   "source": [
    "prediction = pd.DataFrame({'p_mal':p}) #build df to visualize results\n",
    "prediction['pred_mal'] = (prediction['p_mal'] > .5) * 1"
   ]
  },
  {
   "cell_type": "code",
   "execution_count": 29,
   "metadata": {},
   "outputs": [
    {
     "data": {
      "text/html": [
       "<div>\n",
       "<style scoped>\n",
       "    .dataframe tbody tr th:only-of-type {\n",
       "        vertical-align: middle;\n",
       "    }\n",
       "\n",
       "    .dataframe tbody tr th {\n",
       "        vertical-align: top;\n",
       "    }\n",
       "\n",
       "    .dataframe thead th {\n",
       "        text-align: right;\n",
       "    }\n",
       "</style>\n",
       "<table border=\"1\" class=\"dataframe\">\n",
       "  <thead>\n",
       "    <tr style=\"text-align: right;\">\n",
       "      <th></th>\n",
       "      <th>p_mal</th>\n",
       "      <th>pred_mal</th>\n",
       "      <th>diag</th>\n",
       "      <th>CMalaria</th>\n",
       "      <th>Enceph</th>\n",
       "      <th>Mening</th>\n",
       "      <th>glasgtot</th>\n",
       "      <th>sbp</th>\n",
       "      <th>patientid</th>\n",
       "    </tr>\n",
       "  </thead>\n",
       "  <tbody>\n",
       "    <tr>\n",
       "      <th>0</th>\n",
       "      <td>0.715671</td>\n",
       "      <td>1</td>\n",
       "      <td>0.0</td>\n",
       "      <td>1.0</td>\n",
       "      <td>0.0</td>\n",
       "      <td>0.0</td>\n",
       "      <td>9.0</td>\n",
       "      <td>86.0</td>\n",
       "      <td>244.0</td>\n",
       "    </tr>\n",
       "    <tr>\n",
       "      <th>1</th>\n",
       "      <td>0.749201</td>\n",
       "      <td>1</td>\n",
       "      <td>0.0</td>\n",
       "      <td>1.0</td>\n",
       "      <td>0.0</td>\n",
       "      <td>0.0</td>\n",
       "      <td>7.0</td>\n",
       "      <td>94.0</td>\n",
       "      <td>100.0</td>\n",
       "    </tr>\n",
       "    <tr>\n",
       "      <th>2</th>\n",
       "      <td>0.767779</td>\n",
       "      <td>1</td>\n",
       "      <td>5.0</td>\n",
       "      <td>1.0</td>\n",
       "      <td>0.0</td>\n",
       "      <td>0.0</td>\n",
       "      <td>6.0</td>\n",
       "      <td>101.0</td>\n",
       "      <td>66.0</td>\n",
       "    </tr>\n",
       "    <tr>\n",
       "      <th>3</th>\n",
       "      <td>0.763043</td>\n",
       "      <td>1</td>\n",
       "      <td>0.0</td>\n",
       "      <td>1.0</td>\n",
       "      <td>0.0</td>\n",
       "      <td>0.0</td>\n",
       "      <td>6.0</td>\n",
       "      <td>96.0</td>\n",
       "      <td>432.0</td>\n",
       "    </tr>\n",
       "    <tr>\n",
       "      <th>4</th>\n",
       "      <td>0.759719</td>\n",
       "      <td>1</td>\n",
       "      <td>0.0</td>\n",
       "      <td>1.0</td>\n",
       "      <td>0.0</td>\n",
       "      <td>0.0</td>\n",
       "      <td>8.0</td>\n",
       "      <td>117.0</td>\n",
       "      <td>127.0</td>\n",
       "    </tr>\n",
       "  </tbody>\n",
       "</table>\n",
       "</div>"
      ],
      "text/plain": [
       "      p_mal  pred_mal  diag  CMalaria  Enceph  Mening  glasgtot    sbp  \\\n",
       "0  0.715671         1   0.0       1.0     0.0     0.0       9.0   86.0   \n",
       "1  0.749201         1   0.0       1.0     0.0     0.0       7.0   94.0   \n",
       "2  0.767779         1   5.0       1.0     0.0     0.0       6.0  101.0   \n",
       "3  0.763043         1   0.0       1.0     0.0     0.0       6.0   96.0   \n",
       "4  0.759719         1   0.0       1.0     0.0     0.0       8.0  117.0   \n",
       "\n",
       "   patientid  \n",
       "0      244.0  \n",
       "1      100.0  \n",
       "2       66.0  \n",
       "3      432.0  \n",
       "4      127.0  "
      ]
     },
     "execution_count": 29,
     "metadata": {},
     "output_type": "execute_result"
    }
   ],
   "source": [
    "prediction[\"diag\"] = new_y.reset_index(drop=True)\n",
    "prediction[\"CMalaria\"] = new_x.reset_index(drop=True)[\"CMalaria\"]\n",
    "prediction[\"Enceph\"] = new_x.reset_index(drop=True)[\"Enceph\"]\n",
    "prediction[\"Mening\"] = new_x.reset_index(drop=True)[\"Mening\"]\n",
    "prediction[\"glasgtot\"] = new_x.reset_index(drop=True)[\"glasgtot\"]\n",
    "prediction[\"sbp\"] = new_x.reset_index(drop=True)[\"sbp\"]\n",
    "prediction[\"patientid\"] = new_patientid.reset_index(drop=True)\n",
    "prediction.head(5) #observe pred_diag compared to diag to see difference between prediction and actual diagnosis"
   ]
  },
  {
   "cell_type": "code",
   "execution_count": 380,
   "metadata": {},
   "outputs": [],
   "source": [
    "#Now do bact"
   ]
  },
  {
   "cell_type": "code",
   "execution_count": 30,
   "metadata": {},
   "outputs": [],
   "source": [
    "y = test['diag'].copy()\n",
    "y[y==2] = 0\n",
    "y[y==3] = 0\n",
    "y[y==4] = 0\n",
    "y[y==5] = 0"
   ]
  },
  {
   "cell_type": "code",
   "execution_count": 31,
   "metadata": {},
   "outputs": [],
   "source": [
    "x = test[['CMalaria','Mening','Enceph','glasgtot','sbp']]\n",
    "x = x.loc[y.index]"
   ]
  },
  {
   "cell_type": "code",
   "execution_count": 32,
   "metadata": {},
   "outputs": [],
   "source": [
    "patientid = test['patientid']\n",
    "patientid = patientid[y.index]"
   ]
  },
  {
   "cell_type": "code",
   "execution_count": 33,
   "metadata": {},
   "outputs": [],
   "source": [
    "def tinvlogit(x):\n",
    "    return t.exp(x) / (1 + t.exp(x))"
   ]
  },
  {
   "cell_type": "code",
   "execution_count": 34,
   "metadata": {},
   "outputs": [],
   "source": [
    "with pm.Model() as logistic_model:\n",
    "\n",
    "    effects = pm.Normal('effects', mu=0, sd=10, shape=x.shape[1])\n",
    "    \n",
    "    # expected parameter\n",
    "    p = tinvlogit(t.sum(effects * x, axis=1))\n",
    "    \n",
    "    # Likelihood (sampling distribution) of observations\n",
    "    Y_obs = pm.Bernoulli('Y_obs', p=p, observed=y)\n",
    "\n"
   ]
  },
  {
   "cell_type": "code",
   "execution_count": 35,
   "metadata": {
    "scrolled": true
   },
   "outputs": [
    {
     "name": "stderr",
     "output_type": "stream",
     "text": [
      "Auto-assigning NUTS sampler...\n",
      "Initializing NUTS using jitter+adapt_diag...\n",
      "Sequential sampling (1 chains in 1 job)\n",
      "NUTS: [effects]\n",
      "100%|██████████| 3000/3000 [00:18<00:00, 166.32it/s]\n",
      "Only one chain was sampled, this makes it impossible to run some convergence checks\n"
     ]
    }
   ],
   "source": [
    "with logistic_model:\n",
    "    trace = pm.sample(1000, tune=2000, chains=1)\n",
    "    \n",
    "#with logistic_model:\n",
    "#    # move the chain to the MAP which should be a good starting point\n",
    "#    start = pm.find_MAP()\n",
    "#    step = pm.NUTS(scaling=start)\n",
    "#    trace = pm.sample(5000, step, start)"
   ]
  },
  {
   "cell_type": "code",
   "execution_count": 36,
   "metadata": {},
   "outputs": [],
   "source": [
    "new_y = test['diag']"
   ]
  },
  {
   "cell_type": "code",
   "execution_count": 37,
   "metadata": {},
   "outputs": [],
   "source": [
    "new_x = test[['CMalaria','Mening','Enceph','glasgtot','sbp']]"
   ]
  },
  {
   "cell_type": "code",
   "execution_count": 38,
   "metadata": {},
   "outputs": [],
   "source": [
    "new_patientid = test['patientid']"
   ]
  },
  {
   "cell_type": "code",
   "execution_count": 39,
   "metadata": {},
   "outputs": [],
   "source": [
    "def invlogit(x):\n",
    "    return np.exp(x) / (1 + np.exp(x))"
   ]
  },
  {
   "cell_type": "code",
   "execution_count": 40,
   "metadata": {},
   "outputs": [
    {
     "data": {
      "text/plain": [
       "array([-3.54764174, -3.55755063, -3.59792093, -3.5388945 , -3.87133894,\n",
       "       -3.72282465, -2.51897941, -0.70329017, -3.43570495, -0.83314833,\n",
       "       -0.69148488, -2.74517627, -3.51528392, -0.72690074, -4.57280533,\n",
       "       -2.58675309, -2.58675309, -0.77412189, -0.4329302 , -3.15340688])"
      ]
     },
     "execution_count": 40,
     "metadata": {},
     "output_type": "execute_result"
    }
   ],
   "source": [
    "eta = np.zeros(new_x.shape[0]) #Generate log odds of viral by averaging posterior\n",
    "for row in trace['effects'][:,None,:]:\n",
    "    row=row[0]\n",
    "    eta = np.add(eta, np.dot(new_x, row.transpose()))\n",
    "eta = np.divide(eta, trace['effects'][:,None,:].shape[0])\n",
    "eta[:20]"
   ]
  },
  {
   "cell_type": "code",
   "execution_count": 41,
   "metadata": {},
   "outputs": [
    {
     "data": {
      "text/plain": [
       "array([0.02798666, 0.02771836, 0.02665087, 0.02822559, 0.02040541,\n",
       "       0.02359541, 0.07453832, 0.33108316, 0.03119804, 0.30297979,\n",
       "       0.33370284, 0.06035966, 0.02888047, 0.32587521, 0.01022335,\n",
       "       0.06999585, 0.06999585, 0.31558813, 0.39342684, 0.04095725])"
      ]
     },
     "execution_count": 41,
     "metadata": {},
     "output_type": "execute_result"
    }
   ],
   "source": [
    "p = invlogit(eta) #probability of bacterial infection\n",
    "\n",
    "p[:20]"
   ]
  },
  {
   "cell_type": "code",
   "execution_count": 42,
   "metadata": {},
   "outputs": [
    {
     "data": {
      "text/html": [
       "<div>\n",
       "<style scoped>\n",
       "    .dataframe tbody tr th:only-of-type {\n",
       "        vertical-align: middle;\n",
       "    }\n",
       "\n",
       "    .dataframe tbody tr th {\n",
       "        vertical-align: top;\n",
       "    }\n",
       "\n",
       "    .dataframe thead th {\n",
       "        text-align: right;\n",
       "    }\n",
       "</style>\n",
       "<table border=\"1\" class=\"dataframe\">\n",
       "  <thead>\n",
       "    <tr style=\"text-align: right;\">\n",
       "      <th></th>\n",
       "      <th>p_mal</th>\n",
       "      <th>pred_mal</th>\n",
       "      <th>diag</th>\n",
       "      <th>CMalaria</th>\n",
       "      <th>Enceph</th>\n",
       "      <th>Mening</th>\n",
       "      <th>glasgtot</th>\n",
       "      <th>sbp</th>\n",
       "      <th>patientid</th>\n",
       "      <th>p_bact</th>\n",
       "      <th>pred_bact</th>\n",
       "    </tr>\n",
       "  </thead>\n",
       "  <tbody>\n",
       "    <tr>\n",
       "      <th>0</th>\n",
       "      <td>0.715671</td>\n",
       "      <td>1</td>\n",
       "      <td>0.0</td>\n",
       "      <td>1.0</td>\n",
       "      <td>0.0</td>\n",
       "      <td>0.0</td>\n",
       "      <td>9.0</td>\n",
       "      <td>86.0</td>\n",
       "      <td>244.0</td>\n",
       "      <td>0.027987</td>\n",
       "      <td>0</td>\n",
       "    </tr>\n",
       "    <tr>\n",
       "      <th>1</th>\n",
       "      <td>0.749201</td>\n",
       "      <td>1</td>\n",
       "      <td>0.0</td>\n",
       "      <td>1.0</td>\n",
       "      <td>0.0</td>\n",
       "      <td>0.0</td>\n",
       "      <td>7.0</td>\n",
       "      <td>94.0</td>\n",
       "      <td>100.0</td>\n",
       "      <td>0.027718</td>\n",
       "      <td>0</td>\n",
       "    </tr>\n",
       "    <tr>\n",
       "      <th>2</th>\n",
       "      <td>0.767779</td>\n",
       "      <td>1</td>\n",
       "      <td>5.0</td>\n",
       "      <td>1.0</td>\n",
       "      <td>0.0</td>\n",
       "      <td>0.0</td>\n",
       "      <td>6.0</td>\n",
       "      <td>101.0</td>\n",
       "      <td>66.0</td>\n",
       "      <td>0.026651</td>\n",
       "      <td>0</td>\n",
       "    </tr>\n",
       "    <tr>\n",
       "      <th>3</th>\n",
       "      <td>0.763043</td>\n",
       "      <td>1</td>\n",
       "      <td>0.0</td>\n",
       "      <td>1.0</td>\n",
       "      <td>0.0</td>\n",
       "      <td>0.0</td>\n",
       "      <td>6.0</td>\n",
       "      <td>96.0</td>\n",
       "      <td>432.0</td>\n",
       "      <td>0.028226</td>\n",
       "      <td>0</td>\n",
       "    </tr>\n",
       "    <tr>\n",
       "      <th>4</th>\n",
       "      <td>0.759719</td>\n",
       "      <td>1</td>\n",
       "      <td>0.0</td>\n",
       "      <td>1.0</td>\n",
       "      <td>0.0</td>\n",
       "      <td>0.0</td>\n",
       "      <td>8.0</td>\n",
       "      <td>117.0</td>\n",
       "      <td>127.0</td>\n",
       "      <td>0.020405</td>\n",
       "      <td>0</td>\n",
       "    </tr>\n",
       "  </tbody>\n",
       "</table>\n",
       "</div>"
      ],
      "text/plain": [
       "      p_mal  pred_mal  diag  CMalaria  Enceph  Mening  glasgtot    sbp  \\\n",
       "0  0.715671         1   0.0       1.0     0.0     0.0       9.0   86.0   \n",
       "1  0.749201         1   0.0       1.0     0.0     0.0       7.0   94.0   \n",
       "2  0.767779         1   5.0       1.0     0.0     0.0       6.0  101.0   \n",
       "3  0.763043         1   0.0       1.0     0.0     0.0       6.0   96.0   \n",
       "4  0.759719         1   0.0       1.0     0.0     0.0       8.0  117.0   \n",
       "\n",
       "   patientid    p_bact  pred_bact  \n",
       "0      244.0  0.027987          0  \n",
       "1      100.0  0.027718          0  \n",
       "2       66.0  0.026651          0  \n",
       "3      432.0  0.028226          0  \n",
       "4      127.0  0.020405          0  "
      ]
     },
     "execution_count": 42,
     "metadata": {},
     "output_type": "execute_result"
    }
   ],
   "source": [
    "prediction['p_bact'] = p\n",
    "prediction['pred_bact'] = (prediction['p_bact'] > .5) * 1\n",
    "prediction.head(5)"
   ]
  },
  {
   "cell_type": "code",
   "execution_count": 407,
   "metadata": {},
   "outputs": [],
   "source": [
    "# Now do vir"
   ]
  },
  {
   "cell_type": "code",
   "execution_count": 43,
   "metadata": {},
   "outputs": [],
   "source": [
    "y = test['diag'].copy()\n",
    "y[y==1] = 0\n",
    "y[y==3] = 0\n",
    "y[y==4] = 0\n",
    "y[y==5] = 0\n",
    "y[y==2] = 1"
   ]
  },
  {
   "cell_type": "code",
   "execution_count": 44,
   "metadata": {},
   "outputs": [],
   "source": [
    "x = test[['CMalaria','Mening','Enceph','glasgtot','sbp']]\n",
    "x = x.loc[y.index]"
   ]
  },
  {
   "cell_type": "code",
   "execution_count": 45,
   "metadata": {},
   "outputs": [],
   "source": [
    "patientid = test['patientid']\n",
    "patientid = patientid[y.index]"
   ]
  },
  {
   "cell_type": "code",
   "execution_count": 46,
   "metadata": {},
   "outputs": [],
   "source": [
    "def tinvlogit(x):\n",
    "    return t.exp(x) / (1 + t.exp(x))"
   ]
  },
  {
   "cell_type": "code",
   "execution_count": 47,
   "metadata": {},
   "outputs": [],
   "source": [
    "with pm.Model() as logistic_model:\n",
    "\n",
    "    effects = pm.Normal('effects', mu=0, sd=10, shape=x.shape[1])\n",
    "    \n",
    "    # expected parameter\n",
    "    p = tinvlogit(t.sum(effects * x, axis=1))\n",
    "    \n",
    "    # Likelihood (sampling distribution) of observations\n",
    "    Y_obs = pm.Bernoulli('Y_obs', p=p, observed=y)\n",
    "\n"
   ]
  },
  {
   "cell_type": "code",
   "execution_count": 48,
   "metadata": {
    "scrolled": true
   },
   "outputs": [
    {
     "name": "stderr",
     "output_type": "stream",
     "text": [
      "Auto-assigning NUTS sampler...\n",
      "Initializing NUTS using jitter+adapt_diag...\n",
      "Sequential sampling (1 chains in 1 job)\n",
      "NUTS: [effects]\n",
      "100%|██████████| 3000/3000 [00:16<00:00, 184.38it/s]\n",
      "Only one chain was sampled, this makes it impossible to run some convergence checks\n"
     ]
    }
   ],
   "source": [
    "with logistic_model:\n",
    "    trace = pm.sample(1000, tune=2000, chains=1)\n",
    "    \n",
    "#with logistic_model:\n",
    "#    # move the chain to the MAP which should be a good starting point\n",
    "#    start = pm.find_MAP()\n",
    "#    step = pm.NUTS(scaling=start)\n",
    "#    trace = pm.sample(5000, step, start)"
   ]
  },
  {
   "cell_type": "code",
   "execution_count": 49,
   "metadata": {},
   "outputs": [],
   "source": [
    "new_y = test['diag']"
   ]
  },
  {
   "cell_type": "code",
   "execution_count": 50,
   "metadata": {},
   "outputs": [],
   "source": [
    "new_x = test[['CMalaria','Mening','Enceph','glasgtot','sbp']]"
   ]
  },
  {
   "cell_type": "code",
   "execution_count": 51,
   "metadata": {},
   "outputs": [],
   "source": [
    "new_patientid = test['patientid']"
   ]
  },
  {
   "cell_type": "code",
   "execution_count": 52,
   "metadata": {},
   "outputs": [],
   "source": [
    "def invlogit(x):\n",
    "    return np.exp(x) / (1 + np.exp(x))"
   ]
  },
  {
   "cell_type": "code",
   "execution_count": 53,
   "metadata": {},
   "outputs": [
    {
     "data": {
      "text/plain": [
       "array([-5.46634408, -5.26264582, -5.19416126, -5.13855364, -5.66477613,\n",
       "       -5.41834717, -4.60093393, -4.30928671, -4.72179099, -4.43162349,\n",
       "       -4.29816518, -5.0270627 , -5.11631059, -4.33152976, -6.21909699,\n",
       "       -4.984332  , -4.984332  , -4.37601586, -3.52200292, -5.51816521])"
      ]
     },
     "execution_count": 53,
     "metadata": {},
     "output_type": "execute_result"
    }
   ],
   "source": [
    "eta = np.zeros(new_x.shape[0]) #Generate log odds of viral by averaging posterior\n",
    "for row in trace['effects'][:,None,:]:\n",
    "    row=row[0]\n",
    "    eta = np.add(eta, np.dot(new_x, row.transpose()))\n",
    "eta = np.divide(eta, trace['effects'][:,None,:].shape[0])\n",
    "eta[:20]"
   ]
  },
  {
   "cell_type": "code",
   "execution_count": 54,
   "metadata": {},
   "outputs": [
    {
     "data": {
      "text/plain": [
       "array([0.00420887, 0.00515487, 0.00551825, 0.00583196, 0.00345395,\n",
       "       0.00441489, 0.0099426 , 0.01326481, 0.00882073, 0.01175533,\n",
       "       0.01341117, 0.00651532, 0.00596235, 0.01297681, 0.00198709,\n",
       "       0.00679782, 0.00679782, 0.01241919, 0.02869262, 0.00399716])"
      ]
     },
     "execution_count": 54,
     "metadata": {},
     "output_type": "execute_result"
    }
   ],
   "source": [
    "p = invlogit(eta) #probability of viral infection\n",
    "\n",
    "p[:20]"
   ]
  },
  {
   "cell_type": "code",
   "execution_count": 55,
   "metadata": {},
   "outputs": [
    {
     "data": {
      "text/html": [
       "<div>\n",
       "<style scoped>\n",
       "    .dataframe tbody tr th:only-of-type {\n",
       "        vertical-align: middle;\n",
       "    }\n",
       "\n",
       "    .dataframe tbody tr th {\n",
       "        vertical-align: top;\n",
       "    }\n",
       "\n",
       "    .dataframe thead th {\n",
       "        text-align: right;\n",
       "    }\n",
       "</style>\n",
       "<table border=\"1\" class=\"dataframe\">\n",
       "  <thead>\n",
       "    <tr style=\"text-align: right;\">\n",
       "      <th></th>\n",
       "      <th>p_mal</th>\n",
       "      <th>pred_mal</th>\n",
       "      <th>diag</th>\n",
       "      <th>CMalaria</th>\n",
       "      <th>Enceph</th>\n",
       "      <th>Mening</th>\n",
       "      <th>glasgtot</th>\n",
       "      <th>sbp</th>\n",
       "      <th>patientid</th>\n",
       "      <th>p_bact</th>\n",
       "      <th>pred_bact</th>\n",
       "      <th>p_vir</th>\n",
       "      <th>pred_vir</th>\n",
       "    </tr>\n",
       "  </thead>\n",
       "  <tbody>\n",
       "    <tr>\n",
       "      <th>0</th>\n",
       "      <td>0.715671</td>\n",
       "      <td>1</td>\n",
       "      <td>0.0</td>\n",
       "      <td>1.0</td>\n",
       "      <td>0.0</td>\n",
       "      <td>0.0</td>\n",
       "      <td>9.0</td>\n",
       "      <td>86.0</td>\n",
       "      <td>244.0</td>\n",
       "      <td>0.027987</td>\n",
       "      <td>0</td>\n",
       "      <td>0.004209</td>\n",
       "      <td>0</td>\n",
       "    </tr>\n",
       "    <tr>\n",
       "      <th>1</th>\n",
       "      <td>0.749201</td>\n",
       "      <td>1</td>\n",
       "      <td>0.0</td>\n",
       "      <td>1.0</td>\n",
       "      <td>0.0</td>\n",
       "      <td>0.0</td>\n",
       "      <td>7.0</td>\n",
       "      <td>94.0</td>\n",
       "      <td>100.0</td>\n",
       "      <td>0.027718</td>\n",
       "      <td>0</td>\n",
       "      <td>0.005155</td>\n",
       "      <td>0</td>\n",
       "    </tr>\n",
       "    <tr>\n",
       "      <th>2</th>\n",
       "      <td>0.767779</td>\n",
       "      <td>1</td>\n",
       "      <td>5.0</td>\n",
       "      <td>1.0</td>\n",
       "      <td>0.0</td>\n",
       "      <td>0.0</td>\n",
       "      <td>6.0</td>\n",
       "      <td>101.0</td>\n",
       "      <td>66.0</td>\n",
       "      <td>0.026651</td>\n",
       "      <td>0</td>\n",
       "      <td>0.005518</td>\n",
       "      <td>0</td>\n",
       "    </tr>\n",
       "    <tr>\n",
       "      <th>3</th>\n",
       "      <td>0.763043</td>\n",
       "      <td>1</td>\n",
       "      <td>0.0</td>\n",
       "      <td>1.0</td>\n",
       "      <td>0.0</td>\n",
       "      <td>0.0</td>\n",
       "      <td>6.0</td>\n",
       "      <td>96.0</td>\n",
       "      <td>432.0</td>\n",
       "      <td>0.028226</td>\n",
       "      <td>0</td>\n",
       "      <td>0.005832</td>\n",
       "      <td>0</td>\n",
       "    </tr>\n",
       "    <tr>\n",
       "      <th>4</th>\n",
       "      <td>0.759719</td>\n",
       "      <td>1</td>\n",
       "      <td>0.0</td>\n",
       "      <td>1.0</td>\n",
       "      <td>0.0</td>\n",
       "      <td>0.0</td>\n",
       "      <td>8.0</td>\n",
       "      <td>117.0</td>\n",
       "      <td>127.0</td>\n",
       "      <td>0.020405</td>\n",
       "      <td>0</td>\n",
       "      <td>0.003454</td>\n",
       "      <td>0</td>\n",
       "    </tr>\n",
       "  </tbody>\n",
       "</table>\n",
       "</div>"
      ],
      "text/plain": [
       "      p_mal  pred_mal  diag  CMalaria  Enceph  Mening  glasgtot    sbp  \\\n",
       "0  0.715671         1   0.0       1.0     0.0     0.0       9.0   86.0   \n",
       "1  0.749201         1   0.0       1.0     0.0     0.0       7.0   94.0   \n",
       "2  0.767779         1   5.0       1.0     0.0     0.0       6.0  101.0   \n",
       "3  0.763043         1   0.0       1.0     0.0     0.0       6.0   96.0   \n",
       "4  0.759719         1   0.0       1.0     0.0     0.0       8.0  117.0   \n",
       "\n",
       "   patientid    p_bact  pred_bact     p_vir  pred_vir  \n",
       "0      244.0  0.027987          0  0.004209         0  \n",
       "1      100.0  0.027718          0  0.005155         0  \n",
       "2       66.0  0.026651          0  0.005518         0  \n",
       "3      432.0  0.028226          0  0.005832         0  \n",
       "4      127.0  0.020405          0  0.003454         0  "
      ]
     },
     "execution_count": 55,
     "metadata": {},
     "output_type": "execute_result"
    }
   ],
   "source": [
    "prediction['p_vir'] = p\n",
    "prediction['pred_vir'] = (prediction['p_vir'] > .5) * 1\n",
    "prediction.head(5)"
   ]
  },
  {
   "cell_type": "code",
   "execution_count": 56,
   "metadata": {},
   "outputs": [],
   "source": [
    "#do mal&bact"
   ]
  },
  {
   "cell_type": "code",
   "execution_count": 57,
   "metadata": {},
   "outputs": [],
   "source": [
    "y = test['diag'].copy()\n",
    "y[y==1] = 0\n",
    "y[y==2] = 0\n",
    "y[y==4] = 0\n",
    "y[y==5] = 0\n",
    "y[y==3] = 1"
   ]
  },
  {
   "cell_type": "code",
   "execution_count": 58,
   "metadata": {},
   "outputs": [],
   "source": [
    "x = test[['CMalaria','Mening','Enceph','glasgtot','sbp']]\n",
    "x = x.loc[y.index]"
   ]
  },
  {
   "cell_type": "code",
   "execution_count": 59,
   "metadata": {},
   "outputs": [],
   "source": [
    "patientid = test['patientid']\n",
    "patientid = patientid[y.index]"
   ]
  },
  {
   "cell_type": "code",
   "execution_count": 60,
   "metadata": {},
   "outputs": [],
   "source": [
    "def tinvlogit(x):\n",
    "    return t.exp(x) / (1 + t.exp(x))"
   ]
  },
  {
   "cell_type": "code",
   "execution_count": 61,
   "metadata": {},
   "outputs": [],
   "source": [
    "with pm.Model() as logistic_model:\n",
    "\n",
    "    effects = pm.Normal('effects', mu=0, sd=10, shape=x.shape[1])\n",
    "    \n",
    "    # expected parameter\n",
    "    p = tinvlogit(t.sum(effects * x, axis=1))\n",
    "    \n",
    "    # Likelihood (sampling distribution) of observations\n",
    "    Y_obs = pm.Bernoulli('Y_obs', p=p, observed=y)\n",
    "\n"
   ]
  },
  {
   "cell_type": "code",
   "execution_count": 65,
   "metadata": {
    "scrolled": true
   },
   "outputs": [
    {
     "name": "stderr",
     "output_type": "stream",
     "text": [
      "Auto-assigning NUTS sampler...\n",
      "Initializing NUTS using jitter+adapt_diag...\n",
      "Sequential sampling (1 chains in 1 job)\n",
      "NUTS: [effects]\n",
      "100%|██████████| 3000/3000 [00:15<00:00, 189.78it/s]\n",
      "There were 1 divergences after tuning. Increase `target_accept` or reparameterize.\n",
      "Only one chain was sampled, this makes it impossible to run some convergence checks\n"
     ]
    }
   ],
   "source": [
    "with logistic_model:\n",
    "    trace = pm.sample(1000, tune=2000, chains=1)\n",
    "    \n",
    "#with logistic_model:\n",
    "#    # move the chain to the MAP which should be a good starting point\n",
    "#    start = pm.find_MAP()\n",
    "#    step = pm.NUTS(scaling=start)\n",
    "#    trace = pm.sample(5000, step, start)"
   ]
  },
  {
   "cell_type": "code",
   "execution_count": 66,
   "metadata": {},
   "outputs": [],
   "source": [
    "new_y = test['diag']"
   ]
  },
  {
   "cell_type": "code",
   "execution_count": 67,
   "metadata": {},
   "outputs": [],
   "source": [
    "new_x = test[['CMalaria','Mening','Enceph','glasgtot','sbp']]"
   ]
  },
  {
   "cell_type": "code",
   "execution_count": 68,
   "metadata": {},
   "outputs": [],
   "source": [
    "new_patientid = test['patientid']"
   ]
  },
  {
   "cell_type": "code",
   "execution_count": 69,
   "metadata": {},
   "outputs": [],
   "source": [
    "def invlogit(x):\n",
    "    return np.exp(x) / (1 + np.exp(x))"
   ]
  },
  {
   "cell_type": "code",
   "execution_count": 70,
   "metadata": {},
   "outputs": [
    {
     "data": {
      "text/plain": [
       "array([ -3.6363207 ,  -3.54848379,  -3.54108906,  -3.48021618,\n",
       "        -3.92111578,  -3.71892784, -11.57296237, -13.24932592,\n",
       "        -3.22671506, -13.38324625, -13.23715134, -11.9042908 ,\n",
       "        -3.45586703, -13.27367507,  -4.59549728, -11.78993977,\n",
       "       -11.78993977, -13.32237337, -12.72536925, -12.37431939])"
      ]
     },
     "execution_count": 70,
     "metadata": {},
     "output_type": "execute_result"
    }
   ],
   "source": [
    "eta = np.zeros(new_x.shape[0]) #Generate log odds of viral by averaging posterior\n",
    "for row in trace['effects'][:,None,:]:\n",
    "    row=row[0]\n",
    "    eta = np.add(eta, np.dot(new_x, row.transpose()))\n",
    "eta = np.divide(eta, trace['effects'][:,None,:].shape[0])\n",
    "eta[:20]"
   ]
  },
  {
   "cell_type": "code",
   "execution_count": 71,
   "metadata": {},
   "outputs": [
    {
     "data": {
      "text/plain": [
       "array([2.56726604e-02, 2.79637577e-02, 2.81654628e-02, 2.98804127e-02,\n",
       "       1.94338107e-02, 2.36853585e-02, 9.41720906e-06, 1.76153023e-06,\n",
       "       3.81726727e-02, 1.54073992e-06, 1.78310715e-06, 6.76128527e-06,\n",
       "       3.05943729e-02, 1.71915651e-06, 9.99626415e-03, 7.58037907e-06,\n",
       "       7.58037907e-06, 1.63744246e-06, 2.97468554e-06, 4.22570850e-06])"
      ]
     },
     "execution_count": 71,
     "metadata": {},
     "output_type": "execute_result"
    }
   ],
   "source": [
    "p = invlogit(eta) #probability of viral infection\n",
    "\n",
    "p[:20]"
   ]
  },
  {
   "cell_type": "code",
   "execution_count": 72,
   "metadata": {},
   "outputs": [
    {
     "data": {
      "text/html": [
       "<div>\n",
       "<style scoped>\n",
       "    .dataframe tbody tr th:only-of-type {\n",
       "        vertical-align: middle;\n",
       "    }\n",
       "\n",
       "    .dataframe tbody tr th {\n",
       "        vertical-align: top;\n",
       "    }\n",
       "\n",
       "    .dataframe thead th {\n",
       "        text-align: right;\n",
       "    }\n",
       "</style>\n",
       "<table border=\"1\" class=\"dataframe\">\n",
       "  <thead>\n",
       "    <tr style=\"text-align: right;\">\n",
       "      <th></th>\n",
       "      <th>p_mal</th>\n",
       "      <th>pred_mal</th>\n",
       "      <th>diag</th>\n",
       "      <th>CMalaria</th>\n",
       "      <th>Enceph</th>\n",
       "      <th>Mening</th>\n",
       "      <th>glasgtot</th>\n",
       "      <th>sbp</th>\n",
       "      <th>patientid</th>\n",
       "      <th>p_bact</th>\n",
       "      <th>pred_bact</th>\n",
       "      <th>p_vir</th>\n",
       "      <th>pred_vir</th>\n",
       "      <th>p_mal&amp;bact</th>\n",
       "      <th>pred_mal&amp;bact</th>\n",
       "    </tr>\n",
       "  </thead>\n",
       "  <tbody>\n",
       "    <tr>\n",
       "      <th>0</th>\n",
       "      <td>0.715671</td>\n",
       "      <td>1</td>\n",
       "      <td>0.0</td>\n",
       "      <td>1.0</td>\n",
       "      <td>0.0</td>\n",
       "      <td>0.0</td>\n",
       "      <td>9.0</td>\n",
       "      <td>86.0</td>\n",
       "      <td>244.0</td>\n",
       "      <td>0.027987</td>\n",
       "      <td>0</td>\n",
       "      <td>0.004209</td>\n",
       "      <td>0</td>\n",
       "      <td>0.025673</td>\n",
       "      <td>0</td>\n",
       "    </tr>\n",
       "    <tr>\n",
       "      <th>1</th>\n",
       "      <td>0.749201</td>\n",
       "      <td>1</td>\n",
       "      <td>0.0</td>\n",
       "      <td>1.0</td>\n",
       "      <td>0.0</td>\n",
       "      <td>0.0</td>\n",
       "      <td>7.0</td>\n",
       "      <td>94.0</td>\n",
       "      <td>100.0</td>\n",
       "      <td>0.027718</td>\n",
       "      <td>0</td>\n",
       "      <td>0.005155</td>\n",
       "      <td>0</td>\n",
       "      <td>0.027964</td>\n",
       "      <td>0</td>\n",
       "    </tr>\n",
       "    <tr>\n",
       "      <th>2</th>\n",
       "      <td>0.767779</td>\n",
       "      <td>1</td>\n",
       "      <td>5.0</td>\n",
       "      <td>1.0</td>\n",
       "      <td>0.0</td>\n",
       "      <td>0.0</td>\n",
       "      <td>6.0</td>\n",
       "      <td>101.0</td>\n",
       "      <td>66.0</td>\n",
       "      <td>0.026651</td>\n",
       "      <td>0</td>\n",
       "      <td>0.005518</td>\n",
       "      <td>0</td>\n",
       "      <td>0.028165</td>\n",
       "      <td>0</td>\n",
       "    </tr>\n",
       "    <tr>\n",
       "      <th>3</th>\n",
       "      <td>0.763043</td>\n",
       "      <td>1</td>\n",
       "      <td>0.0</td>\n",
       "      <td>1.0</td>\n",
       "      <td>0.0</td>\n",
       "      <td>0.0</td>\n",
       "      <td>6.0</td>\n",
       "      <td>96.0</td>\n",
       "      <td>432.0</td>\n",
       "      <td>0.028226</td>\n",
       "      <td>0</td>\n",
       "      <td>0.005832</td>\n",
       "      <td>0</td>\n",
       "      <td>0.029880</td>\n",
       "      <td>0</td>\n",
       "    </tr>\n",
       "    <tr>\n",
       "      <th>4</th>\n",
       "      <td>0.759719</td>\n",
       "      <td>1</td>\n",
       "      <td>0.0</td>\n",
       "      <td>1.0</td>\n",
       "      <td>0.0</td>\n",
       "      <td>0.0</td>\n",
       "      <td>8.0</td>\n",
       "      <td>117.0</td>\n",
       "      <td>127.0</td>\n",
       "      <td>0.020405</td>\n",
       "      <td>0</td>\n",
       "      <td>0.003454</td>\n",
       "      <td>0</td>\n",
       "      <td>0.019434</td>\n",
       "      <td>0</td>\n",
       "    </tr>\n",
       "  </tbody>\n",
       "</table>\n",
       "</div>"
      ],
      "text/plain": [
       "      p_mal  pred_mal  diag  CMalaria  Enceph  Mening  glasgtot    sbp  \\\n",
       "0  0.715671         1   0.0       1.0     0.0     0.0       9.0   86.0   \n",
       "1  0.749201         1   0.0       1.0     0.0     0.0       7.0   94.0   \n",
       "2  0.767779         1   5.0       1.0     0.0     0.0       6.0  101.0   \n",
       "3  0.763043         1   0.0       1.0     0.0     0.0       6.0   96.0   \n",
       "4  0.759719         1   0.0       1.0     0.0     0.0       8.0  117.0   \n",
       "\n",
       "   patientid    p_bact  pred_bact     p_vir  pred_vir  p_mal&bact  \\\n",
       "0      244.0  0.027987          0  0.004209         0    0.025673   \n",
       "1      100.0  0.027718          0  0.005155         0    0.027964   \n",
       "2       66.0  0.026651          0  0.005518         0    0.028165   \n",
       "3      432.0  0.028226          0  0.005832         0    0.029880   \n",
       "4      127.0  0.020405          0  0.003454         0    0.019434   \n",
       "\n",
       "   pred_mal&bact  \n",
       "0              0  \n",
       "1              0  \n",
       "2              0  \n",
       "3              0  \n",
       "4              0  "
      ]
     },
     "execution_count": 72,
     "metadata": {},
     "output_type": "execute_result"
    }
   ],
   "source": [
    "prediction['p_mal&bact'] = p\n",
    "prediction['pred_mal&bact'] = (prediction['p_mal&bact'] > .5) * 1\n",
    "prediction.head(5)"
   ]
  },
  {
   "cell_type": "code",
   "execution_count": 455,
   "metadata": {},
   "outputs": [],
   "source": [
    "#now do tbcrypto"
   ]
  },
  {
   "cell_type": "code",
   "execution_count": 73,
   "metadata": {},
   "outputs": [],
   "source": [
    "y = test['diag'].copy()\n",
    "y[y==1] = 0\n",
    "y[y==2] = 0\n",
    "y[y==3] = 0\n",
    "y[y==5] = 0\n",
    "y[y==4] = 1"
   ]
  },
  {
   "cell_type": "code",
   "execution_count": 74,
   "metadata": {},
   "outputs": [],
   "source": [
    "x = test[['CMalaria','Mening','Enceph','glasgtot','sbp']]\n",
    "x = x.loc[y.index]"
   ]
  },
  {
   "cell_type": "code",
   "execution_count": 75,
   "metadata": {},
   "outputs": [],
   "source": [
    "patientid = test['patientid']\n",
    "patientid = patientid[y.index]"
   ]
  },
  {
   "cell_type": "code",
   "execution_count": 76,
   "metadata": {},
   "outputs": [],
   "source": [
    "def tinvlogit(x):\n",
    "    return t.exp(x) / (1 + t.exp(x))"
   ]
  },
  {
   "cell_type": "code",
   "execution_count": 77,
   "metadata": {},
   "outputs": [],
   "source": [
    "with pm.Model() as logistic_model:\n",
    "\n",
    "    effects = pm.Normal('effects', mu=0, sd=10, shape=x.shape[1])\n",
    "    \n",
    "    # expected parameter\n",
    "    p = tinvlogit(t.sum(effects * x, axis=1))\n",
    "    \n",
    "    # Likelihood (sampling distribution) of observations\n",
    "    Y_obs = pm.Bernoulli('Y_obs', p=p, observed=y)\n",
    "\n"
   ]
  },
  {
   "cell_type": "code",
   "execution_count": 78,
   "metadata": {
    "scrolled": true
   },
   "outputs": [
    {
     "name": "stderr",
     "output_type": "stream",
     "text": [
      "Auto-assigning NUTS sampler...\n",
      "Initializing NUTS using jitter+adapt_diag...\n",
      "Sequential sampling (1 chains in 1 job)\n",
      "NUTS: [effects]\n",
      "100%|██████████| 3000/3000 [00:17<00:00, 172.79it/s]\n",
      "Only one chain was sampled, this makes it impossible to run some convergence checks\n"
     ]
    }
   ],
   "source": [
    "with logistic_model:\n",
    "    trace = pm.sample(1000, tune=2000, chains=1)\n",
    "    \n",
    "#with logistic_model:\n",
    "#    # move the chain to the MAP which should be a good starting point\n",
    "#    start = pm.find_MAP()\n",
    "#    step = pm.NUTS(scaling=start)\n",
    "#    trace = pm.sample(5000, step, start)"
   ]
  },
  {
   "cell_type": "code",
   "execution_count": 79,
   "metadata": {},
   "outputs": [],
   "source": [
    "new_y = test['diag']"
   ]
  },
  {
   "cell_type": "code",
   "execution_count": 80,
   "metadata": {},
   "outputs": [],
   "source": [
    "new_x = test[['CMalaria','Mening','Enceph','glasgtot','sbp']]"
   ]
  },
  {
   "cell_type": "code",
   "execution_count": 81,
   "metadata": {},
   "outputs": [],
   "source": [
    "new_patientid = test['patientid']"
   ]
  },
  {
   "cell_type": "code",
   "execution_count": 82,
   "metadata": {},
   "outputs": [],
   "source": [
    "def invlogit(x):\n",
    "    return np.exp(x) / (1 + np.exp(x))"
   ]
  },
  {
   "cell_type": "code",
   "execution_count": 83,
   "metadata": {},
   "outputs": [
    {
     "data": {
      "text/plain": [
       "array([-12.65822224, -12.22814528, -12.0277574 , -12.00333973,\n",
       "       -12.57503916, -12.29651475, -12.01041007,  -4.61548337,\n",
       "       -11.30938897,  -4.66920223,  -4.61059983, -12.53815769,\n",
       "       -11.99357267,  -4.62525043, -12.64812914, -12.68971024,\n",
       "       -12.68971024,  -4.64478457,  -3.41820264, -12.92411984])"
      ]
     },
     "execution_count": 83,
     "metadata": {},
     "output_type": "execute_result"
    }
   ],
   "source": [
    "eta = np.zeros(new_x.shape[0]) #Generate log odds of viral by averaging posterior\n",
    "for row in trace['effects'][:,None,:]:\n",
    "    row=row[0]\n",
    "    eta = np.add(eta, np.dot(new_x, row.transpose()))\n",
    "eta = np.divide(eta, trace['effects'][:,None,:].shape[0])\n",
    "eta[:20]"
   ]
  },
  {
   "cell_type": "code",
   "execution_count": 84,
   "metadata": {},
   "outputs": [
    {
     "data": {
      "text/plain": [
       "array([3.18128480e-06, 4.89082200e-06, 5.97597450e-06, 6.12368904e-06,\n",
       "       3.45723088e-06, 4.56761526e-06, 6.08054546e-06, 9.80039971e-03,\n",
       "       1.22571487e-05, 9.29258725e-03, 9.84790486e-03, 3.58711866e-06,\n",
       "       6.18379219e-06, 9.70606905e-03, 3.21355628e-06, 3.08267349e-06,\n",
       "       3.08267349e-06, 9.52009672e-03, 3.17314048e-02, 2.43851265e-06])"
      ]
     },
     "execution_count": 84,
     "metadata": {},
     "output_type": "execute_result"
    }
   ],
   "source": [
    "p = invlogit(eta) #probability of viral infection\n",
    "\n",
    "p[:20]"
   ]
  },
  {
   "cell_type": "code",
   "execution_count": 85,
   "metadata": {
    "scrolled": true
   },
   "outputs": [
    {
     "data": {
      "text/html": [
       "<div>\n",
       "<style scoped>\n",
       "    .dataframe tbody tr th:only-of-type {\n",
       "        vertical-align: middle;\n",
       "    }\n",
       "\n",
       "    .dataframe tbody tr th {\n",
       "        vertical-align: top;\n",
       "    }\n",
       "\n",
       "    .dataframe thead th {\n",
       "        text-align: right;\n",
       "    }\n",
       "</style>\n",
       "<table border=\"1\" class=\"dataframe\">\n",
       "  <thead>\n",
       "    <tr style=\"text-align: right;\">\n",
       "      <th></th>\n",
       "      <th>p_mal</th>\n",
       "      <th>pred_mal</th>\n",
       "      <th>diag</th>\n",
       "      <th>CMalaria</th>\n",
       "      <th>Enceph</th>\n",
       "      <th>Mening</th>\n",
       "      <th>glasgtot</th>\n",
       "      <th>sbp</th>\n",
       "      <th>patientid</th>\n",
       "      <th>p_bact</th>\n",
       "      <th>pred_bact</th>\n",
       "      <th>p_vir</th>\n",
       "      <th>pred_vir</th>\n",
       "      <th>p_mal&amp;bact</th>\n",
       "      <th>pred_mal&amp;bact</th>\n",
       "      <th>p_tbcrypto</th>\n",
       "      <th>pred_tbcrypto</th>\n",
       "    </tr>\n",
       "  </thead>\n",
       "  <tbody>\n",
       "    <tr>\n",
       "      <th>0</th>\n",
       "      <td>0.715671</td>\n",
       "      <td>1</td>\n",
       "      <td>0.0</td>\n",
       "      <td>1.0</td>\n",
       "      <td>0.0</td>\n",
       "      <td>0.0</td>\n",
       "      <td>9.0</td>\n",
       "      <td>86.0</td>\n",
       "      <td>244.0</td>\n",
       "      <td>0.027987</td>\n",
       "      <td>0</td>\n",
       "      <td>0.004209</td>\n",
       "      <td>0</td>\n",
       "      <td>0.025673</td>\n",
       "      <td>0</td>\n",
       "      <td>0.000003</td>\n",
       "      <td>0</td>\n",
       "    </tr>\n",
       "    <tr>\n",
       "      <th>1</th>\n",
       "      <td>0.749201</td>\n",
       "      <td>1</td>\n",
       "      <td>0.0</td>\n",
       "      <td>1.0</td>\n",
       "      <td>0.0</td>\n",
       "      <td>0.0</td>\n",
       "      <td>7.0</td>\n",
       "      <td>94.0</td>\n",
       "      <td>100.0</td>\n",
       "      <td>0.027718</td>\n",
       "      <td>0</td>\n",
       "      <td>0.005155</td>\n",
       "      <td>0</td>\n",
       "      <td>0.027964</td>\n",
       "      <td>0</td>\n",
       "      <td>0.000005</td>\n",
       "      <td>0</td>\n",
       "    </tr>\n",
       "    <tr>\n",
       "      <th>2</th>\n",
       "      <td>0.767779</td>\n",
       "      <td>1</td>\n",
       "      <td>5.0</td>\n",
       "      <td>1.0</td>\n",
       "      <td>0.0</td>\n",
       "      <td>0.0</td>\n",
       "      <td>6.0</td>\n",
       "      <td>101.0</td>\n",
       "      <td>66.0</td>\n",
       "      <td>0.026651</td>\n",
       "      <td>0</td>\n",
       "      <td>0.005518</td>\n",
       "      <td>0</td>\n",
       "      <td>0.028165</td>\n",
       "      <td>0</td>\n",
       "      <td>0.000006</td>\n",
       "      <td>0</td>\n",
       "    </tr>\n",
       "    <tr>\n",
       "      <th>3</th>\n",
       "      <td>0.763043</td>\n",
       "      <td>1</td>\n",
       "      <td>0.0</td>\n",
       "      <td>1.0</td>\n",
       "      <td>0.0</td>\n",
       "      <td>0.0</td>\n",
       "      <td>6.0</td>\n",
       "      <td>96.0</td>\n",
       "      <td>432.0</td>\n",
       "      <td>0.028226</td>\n",
       "      <td>0</td>\n",
       "      <td>0.005832</td>\n",
       "      <td>0</td>\n",
       "      <td>0.029880</td>\n",
       "      <td>0</td>\n",
       "      <td>0.000006</td>\n",
       "      <td>0</td>\n",
       "    </tr>\n",
       "    <tr>\n",
       "      <th>4</th>\n",
       "      <td>0.759719</td>\n",
       "      <td>1</td>\n",
       "      <td>0.0</td>\n",
       "      <td>1.0</td>\n",
       "      <td>0.0</td>\n",
       "      <td>0.0</td>\n",
       "      <td>8.0</td>\n",
       "      <td>117.0</td>\n",
       "      <td>127.0</td>\n",
       "      <td>0.020405</td>\n",
       "      <td>0</td>\n",
       "      <td>0.003454</td>\n",
       "      <td>0</td>\n",
       "      <td>0.019434</td>\n",
       "      <td>0</td>\n",
       "      <td>0.000003</td>\n",
       "      <td>0</td>\n",
       "    </tr>\n",
       "  </tbody>\n",
       "</table>\n",
       "</div>"
      ],
      "text/plain": [
       "      p_mal  pred_mal  diag  CMalaria  Enceph  Mening  glasgtot    sbp  \\\n",
       "0  0.715671         1   0.0       1.0     0.0     0.0       9.0   86.0   \n",
       "1  0.749201         1   0.0       1.0     0.0     0.0       7.0   94.0   \n",
       "2  0.767779         1   5.0       1.0     0.0     0.0       6.0  101.0   \n",
       "3  0.763043         1   0.0       1.0     0.0     0.0       6.0   96.0   \n",
       "4  0.759719         1   0.0       1.0     0.0     0.0       8.0  117.0   \n",
       "\n",
       "   patientid    p_bact  pred_bact     p_vir  pred_vir  p_mal&bact  \\\n",
       "0      244.0  0.027987          0  0.004209         0    0.025673   \n",
       "1      100.0  0.027718          0  0.005155         0    0.027964   \n",
       "2       66.0  0.026651          0  0.005518         0    0.028165   \n",
       "3      432.0  0.028226          0  0.005832         0    0.029880   \n",
       "4      127.0  0.020405          0  0.003454         0    0.019434   \n",
       "\n",
       "   pred_mal&bact  p_tbcrypto  pred_tbcrypto  \n",
       "0              0    0.000003              0  \n",
       "1              0    0.000005              0  \n",
       "2              0    0.000006              0  \n",
       "3              0    0.000006              0  \n",
       "4              0    0.000003              0  "
      ]
     },
     "execution_count": 85,
     "metadata": {},
     "output_type": "execute_result"
    }
   ],
   "source": [
    "prediction['p_tbcrypto'] = p\n",
    "prediction['pred_tbcrypto'] = (prediction['p_tbcrypto'] > .5) * 1\n",
    "prediction.head(5)"
   ]
  },
  {
   "cell_type": "code",
   "execution_count": 483,
   "metadata": {},
   "outputs": [],
   "source": [
    "#Now do Other"
   ]
  },
  {
   "cell_type": "code",
   "execution_count": 86,
   "metadata": {},
   "outputs": [],
   "source": [
    "y = test['diag'].copy()\n",
    "y[y==1] = 0\n",
    "y[y==2] = 0\n",
    "y[y==3] = 0\n",
    "y[y==4] = 0\n",
    "y[y==5] = 1"
   ]
  },
  {
   "cell_type": "code",
   "execution_count": 87,
   "metadata": {},
   "outputs": [],
   "source": [
    "x = test[['CMalaria','Mening','Enceph','glasgtot','sbp']]\n",
    "x = x.loc[y.index]"
   ]
  },
  {
   "cell_type": "code",
   "execution_count": 88,
   "metadata": {},
   "outputs": [],
   "source": [
    "patientid = test['patientid']\n",
    "patientid = patientid[y.index]"
   ]
  },
  {
   "cell_type": "code",
   "execution_count": 89,
   "metadata": {},
   "outputs": [],
   "source": [
    "def tinvlogit(x):\n",
    "    return t.exp(x) / (1 + t.exp(x))"
   ]
  },
  {
   "cell_type": "code",
   "execution_count": 90,
   "metadata": {},
   "outputs": [],
   "source": [
    "with pm.Model() as logistic_model:\n",
    "\n",
    "    effects = pm.Normal('effects', mu=0, sd=10, shape=x.shape[1])\n",
    "    \n",
    "    # expected parameter\n",
    "    p = tinvlogit(t.sum(effects * x, axis=1))\n",
    "    \n",
    "    # Likelihood (sampling distribution) of observations\n",
    "    Y_obs = pm.Bernoulli('Y_obs', p=p, observed=y)\n",
    "\n"
   ]
  },
  {
   "cell_type": "code",
   "execution_count": 92,
   "metadata": {
    "scrolled": true
   },
   "outputs": [
    {
     "name": "stderr",
     "output_type": "stream",
     "text": [
      "Auto-assigning NUTS sampler...\n",
      "Initializing NUTS using jitter+adapt_diag...\n",
      "Sequential sampling (1 chains in 1 job)\n",
      "NUTS: [effects]\n",
      "100%|██████████| 3000/3000 [00:15<00:00, 189.46it/s]\n",
      "Only one chain was sampled, this makes it impossible to run some convergence checks\n"
     ]
    }
   ],
   "source": [
    "with logistic_model:\n",
    "    trace = pm.sample(1000, tune=2000, chains=1)\n",
    "    \n",
    "#with logistic_model:\n",
    "#    # move the chain to the MAP which should be a good starting point\n",
    "#    start = pm.find_MAP()\n",
    "#    step = pm.NUTS(scaling=start)\n",
    "#    trace = pm.sample(5000, step, start)"
   ]
  },
  {
   "cell_type": "code",
   "execution_count": 93,
   "metadata": {},
   "outputs": [],
   "source": [
    "new_y = test['diag']"
   ]
  },
  {
   "cell_type": "code",
   "execution_count": 94,
   "metadata": {},
   "outputs": [],
   "source": [
    "new_x = test[['CMalaria','Mening','Enceph','glasgtot','sbp']]"
   ]
  },
  {
   "cell_type": "code",
   "execution_count": 95,
   "metadata": {},
   "outputs": [],
   "source": [
    "new_patientid = test['patientid']"
   ]
  },
  {
   "cell_type": "code",
   "execution_count": 96,
   "metadata": {},
   "outputs": [],
   "source": [
    "def invlogit(x):\n",
    "    return np.exp(x) / (1 + np.exp(x))"
   ]
  },
  {
   "cell_type": "code",
   "execution_count": 97,
   "metadata": {},
   "outputs": [
    {
     "data": {
      "text/plain": [
       "array([-1.19975938, -1.3764945 , -1.50036828, -1.44119126, -1.60768288,\n",
       "       -1.54219017,  1.99736349,  0.27326454, -1.58793989,  0.14307509,\n",
       "        0.28509995,  1.93739052, -1.41752045,  0.24959373, -2.39433933,\n",
       "        2.17961834,  2.17961834,  0.20225211,  0.12731186,  1.61151891])"
      ]
     },
     "execution_count": 97,
     "metadata": {},
     "output_type": "execute_result"
    }
   ],
   "source": [
    "eta = np.zeros(new_x.shape[0]) #Generate log odds of viral by averaging posterior\n",
    "for row in trace['effects'][:,None,:]:\n",
    "    row=row[0]\n",
    "    eta = np.add(eta, np.dot(new_x, row.transpose()))\n",
    "eta = np.divide(eta, trace['effects'][:,None,:].shape[0])\n",
    "eta[:20]"
   ]
  },
  {
   "cell_type": "code",
   "execution_count": 98,
   "metadata": {},
   "outputs": [
    {
     "data": {
      "text/plain": [
       "array([0.23151802, 0.20157259, 0.1823706 , 0.19136094, 0.16691056,\n",
       "       0.17621711, 0.88051998, 0.56789417, 0.16967394, 0.53570788,\n",
       "       0.5707961 , 0.87406518, 0.19505059, 0.5620765 , 0.08360537,\n",
       "       0.89840424, 0.89840424, 0.55039137, 0.53178504, 0.83362216])"
      ]
     },
     "execution_count": 98,
     "metadata": {},
     "output_type": "execute_result"
    }
   ],
   "source": [
    "p = invlogit(eta)\n",
    "\n",
    "p[:20]"
   ]
  },
  {
   "cell_type": "code",
   "execution_count": 99,
   "metadata": {
    "scrolled": true
   },
   "outputs": [
    {
     "data": {
      "text/html": [
       "<div>\n",
       "<style scoped>\n",
       "    .dataframe tbody tr th:only-of-type {\n",
       "        vertical-align: middle;\n",
       "    }\n",
       "\n",
       "    .dataframe tbody tr th {\n",
       "        vertical-align: top;\n",
       "    }\n",
       "\n",
       "    .dataframe thead th {\n",
       "        text-align: right;\n",
       "    }\n",
       "</style>\n",
       "<table border=\"1\" class=\"dataframe\">\n",
       "  <thead>\n",
       "    <tr style=\"text-align: right;\">\n",
       "      <th></th>\n",
       "      <th>p_mal</th>\n",
       "      <th>pred_mal</th>\n",
       "      <th>diag</th>\n",
       "      <th>CMalaria</th>\n",
       "      <th>Enceph</th>\n",
       "      <th>Mening</th>\n",
       "      <th>glasgtot</th>\n",
       "      <th>sbp</th>\n",
       "      <th>patientid</th>\n",
       "      <th>p_bact</th>\n",
       "      <th>pred_bact</th>\n",
       "      <th>p_vir</th>\n",
       "      <th>pred_vir</th>\n",
       "      <th>p_mal&amp;bact</th>\n",
       "      <th>pred_mal&amp;bact</th>\n",
       "      <th>p_tbcrypto</th>\n",
       "      <th>pred_tbcrypto</th>\n",
       "      <th>p_other</th>\n",
       "      <th>pred_other</th>\n",
       "    </tr>\n",
       "  </thead>\n",
       "  <tbody>\n",
       "    <tr>\n",
       "      <th>0</th>\n",
       "      <td>0.715671</td>\n",
       "      <td>1</td>\n",
       "      <td>0.0</td>\n",
       "      <td>1.0</td>\n",
       "      <td>0.0</td>\n",
       "      <td>0.0</td>\n",
       "      <td>9.0</td>\n",
       "      <td>86.0</td>\n",
       "      <td>244.0</td>\n",
       "      <td>0.027987</td>\n",
       "      <td>0</td>\n",
       "      <td>0.004209</td>\n",
       "      <td>0</td>\n",
       "      <td>0.025673</td>\n",
       "      <td>0</td>\n",
       "      <td>0.000003</td>\n",
       "      <td>0</td>\n",
       "      <td>0.231518</td>\n",
       "      <td>0</td>\n",
       "    </tr>\n",
       "    <tr>\n",
       "      <th>1</th>\n",
       "      <td>0.749201</td>\n",
       "      <td>1</td>\n",
       "      <td>0.0</td>\n",
       "      <td>1.0</td>\n",
       "      <td>0.0</td>\n",
       "      <td>0.0</td>\n",
       "      <td>7.0</td>\n",
       "      <td>94.0</td>\n",
       "      <td>100.0</td>\n",
       "      <td>0.027718</td>\n",
       "      <td>0</td>\n",
       "      <td>0.005155</td>\n",
       "      <td>0</td>\n",
       "      <td>0.027964</td>\n",
       "      <td>0</td>\n",
       "      <td>0.000005</td>\n",
       "      <td>0</td>\n",
       "      <td>0.201573</td>\n",
       "      <td>0</td>\n",
       "    </tr>\n",
       "    <tr>\n",
       "      <th>2</th>\n",
       "      <td>0.767779</td>\n",
       "      <td>1</td>\n",
       "      <td>5.0</td>\n",
       "      <td>1.0</td>\n",
       "      <td>0.0</td>\n",
       "      <td>0.0</td>\n",
       "      <td>6.0</td>\n",
       "      <td>101.0</td>\n",
       "      <td>66.0</td>\n",
       "      <td>0.026651</td>\n",
       "      <td>0</td>\n",
       "      <td>0.005518</td>\n",
       "      <td>0</td>\n",
       "      <td>0.028165</td>\n",
       "      <td>0</td>\n",
       "      <td>0.000006</td>\n",
       "      <td>0</td>\n",
       "      <td>0.182371</td>\n",
       "      <td>0</td>\n",
       "    </tr>\n",
       "    <tr>\n",
       "      <th>3</th>\n",
       "      <td>0.763043</td>\n",
       "      <td>1</td>\n",
       "      <td>0.0</td>\n",
       "      <td>1.0</td>\n",
       "      <td>0.0</td>\n",
       "      <td>0.0</td>\n",
       "      <td>6.0</td>\n",
       "      <td>96.0</td>\n",
       "      <td>432.0</td>\n",
       "      <td>0.028226</td>\n",
       "      <td>0</td>\n",
       "      <td>0.005832</td>\n",
       "      <td>0</td>\n",
       "      <td>0.029880</td>\n",
       "      <td>0</td>\n",
       "      <td>0.000006</td>\n",
       "      <td>0</td>\n",
       "      <td>0.191361</td>\n",
       "      <td>0</td>\n",
       "    </tr>\n",
       "    <tr>\n",
       "      <th>4</th>\n",
       "      <td>0.759719</td>\n",
       "      <td>1</td>\n",
       "      <td>0.0</td>\n",
       "      <td>1.0</td>\n",
       "      <td>0.0</td>\n",
       "      <td>0.0</td>\n",
       "      <td>8.0</td>\n",
       "      <td>117.0</td>\n",
       "      <td>127.0</td>\n",
       "      <td>0.020405</td>\n",
       "      <td>0</td>\n",
       "      <td>0.003454</td>\n",
       "      <td>0</td>\n",
       "      <td>0.019434</td>\n",
       "      <td>0</td>\n",
       "      <td>0.000003</td>\n",
       "      <td>0</td>\n",
       "      <td>0.166911</td>\n",
       "      <td>0</td>\n",
       "    </tr>\n",
       "  </tbody>\n",
       "</table>\n",
       "</div>"
      ],
      "text/plain": [
       "      p_mal  pred_mal  diag  CMalaria  Enceph  Mening  glasgtot    sbp  \\\n",
       "0  0.715671         1   0.0       1.0     0.0     0.0       9.0   86.0   \n",
       "1  0.749201         1   0.0       1.0     0.0     0.0       7.0   94.0   \n",
       "2  0.767779         1   5.0       1.0     0.0     0.0       6.0  101.0   \n",
       "3  0.763043         1   0.0       1.0     0.0     0.0       6.0   96.0   \n",
       "4  0.759719         1   0.0       1.0     0.0     0.0       8.0  117.0   \n",
       "\n",
       "   patientid    p_bact  pred_bact     p_vir  pred_vir  p_mal&bact  \\\n",
       "0      244.0  0.027987          0  0.004209         0    0.025673   \n",
       "1      100.0  0.027718          0  0.005155         0    0.027964   \n",
       "2       66.0  0.026651          0  0.005518         0    0.028165   \n",
       "3      432.0  0.028226          0  0.005832         0    0.029880   \n",
       "4      127.0  0.020405          0  0.003454         0    0.019434   \n",
       "\n",
       "   pred_mal&bact  p_tbcrypto  pred_tbcrypto   p_other  pred_other  \n",
       "0              0    0.000003              0  0.231518           0  \n",
       "1              0    0.000005              0  0.201573           0  \n",
       "2              0    0.000006              0  0.182371           0  \n",
       "3              0    0.000006              0  0.191361           0  \n",
       "4              0    0.000003              0  0.166911           0  "
      ]
     },
     "execution_count": 99,
     "metadata": {},
     "output_type": "execute_result"
    }
   ],
   "source": [
    "prediction['p_other'] = p\n",
    "prediction['pred_other'] = (prediction['p_other'] > .5) * 1\n",
    "prediction.head(5)"
   ]
  },
  {
   "cell_type": "code",
   "execution_count": 100,
   "metadata": {},
   "outputs": [],
   "source": [
    "noref_results = prediction"
   ]
  },
  {
   "cell_type": "code",
   "execution_count": 101,
   "metadata": {},
   "outputs": [
    {
     "data": {
      "text/plain": [
       "True"
      ]
     },
     "execution_count": 101,
     "metadata": {},
     "output_type": "execute_result"
    }
   ],
   "source": [
    "noref_results['patientid'].unique().shape == noref_results['patientid'].shape #patients are all unique"
   ]
  },
  {
   "cell_type": "code",
   "execution_count": 248,
   "metadata": {},
   "outputs": [],
   "source": [
    "#Make final prediction of the logistic regression"
   ]
  },
  {
   "cell_type": "code",
   "execution_count": 102,
   "metadata": {},
   "outputs": [
    {
     "name": "stderr",
     "output_type": "stream",
     "text": [
      "/anaconda3/lib/python3.6/site-packages/ipykernel_launcher.py:3: SettingWithCopyWarning: \n",
      "A value is trying to be set on a copy of a slice from a DataFrame\n",
      "\n",
      "See the caveats in the documentation: http://pandas.pydata.org/pandas-docs/stable/indexing.html#indexing-view-versus-copy\n",
      "  This is separate from the ipykernel package so we can avoid doing imports until\n",
      "/anaconda3/lib/python3.6/site-packages/ipykernel_launcher.py:4: SettingWithCopyWarning: \n",
      "A value is trying to be set on a copy of a slice from a DataFrame\n",
      "\n",
      "See the caveats in the documentation: http://pandas.pydata.org/pandas-docs/stable/indexing.html#indexing-view-versus-copy\n",
      "  after removing the cwd from sys.path.\n",
      "/anaconda3/lib/python3.6/site-packages/ipykernel_launcher.py:5: SettingWithCopyWarning: \n",
      "A value is trying to be set on a copy of a slice from a DataFrame\n",
      "\n",
      "See the caveats in the documentation: http://pandas.pydata.org/pandas-docs/stable/indexing.html#indexing-view-versus-copy\n",
      "  \"\"\"\n",
      "/anaconda3/lib/python3.6/site-packages/ipykernel_launcher.py:6: SettingWithCopyWarning: \n",
      "A value is trying to be set on a copy of a slice from a DataFrame\n",
      "\n",
      "See the caveats in the documentation: http://pandas.pydata.org/pandas-docs/stable/indexing.html#indexing-view-versus-copy\n",
      "  \n",
      "/anaconda3/lib/python3.6/site-packages/ipykernel_launcher.py:7: SettingWithCopyWarning: \n",
      "A value is trying to be set on a copy of a slice from a DataFrame\n",
      "\n",
      "See the caveats in the documentation: http://pandas.pydata.org/pandas-docs/stable/indexing.html#indexing-view-versus-copy\n",
      "  import sys\n",
      "/anaconda3/lib/python3.6/site-packages/ipykernel_launcher.py:9: SettingWithCopyWarning: \n",
      "A value is trying to be set on a copy of a slice from a DataFrame\n",
      "\n",
      "See the caveats in the documentation: http://pandas.pydata.org/pandas-docs/stable/indexing.html#indexing-view-versus-copy\n",
      "  if __name__ == '__main__':\n",
      "/anaconda3/lib/python3.6/site-packages/ipykernel_launcher.py:10: SettingWithCopyWarning: \n",
      "A value is trying to be set on a copy of a slice from a DataFrame\n",
      "\n",
      "See the caveats in the documentation: http://pandas.pydata.org/pandas-docs/stable/indexing.html#indexing-view-versus-copy\n",
      "  # Remove the CWD from sys.path while we load stuff.\n",
      "/anaconda3/lib/python3.6/site-packages/ipykernel_launcher.py:11: SettingWithCopyWarning: \n",
      "A value is trying to be set on a copy of a slice from a DataFrame\n",
      "\n",
      "See the caveats in the documentation: http://pandas.pydata.org/pandas-docs/stable/indexing.html#indexing-view-versus-copy\n",
      "  # This is added back by InteractiveShellApp.init_path()\n",
      "/anaconda3/lib/python3.6/site-packages/ipykernel_launcher.py:12: SettingWithCopyWarning: \n",
      "A value is trying to be set on a copy of a slice from a DataFrame\n",
      "\n",
      "See the caveats in the documentation: http://pandas.pydata.org/pandas-docs/stable/indexing.html#indexing-view-versus-copy\n",
      "  if sys.path[0] == '':\n",
      "/anaconda3/lib/python3.6/site-packages/ipykernel_launcher.py:13: SettingWithCopyWarning: \n",
      "A value is trying to be set on a copy of a slice from a DataFrame\n",
      "\n",
      "See the caveats in the documentation: http://pandas.pydata.org/pandas-docs/stable/indexing.html#indexing-view-versus-copy\n",
      "  del sys.path[0]\n",
      "/anaconda3/lib/python3.6/site-packages/ipykernel_launcher.py:14: SettingWithCopyWarning: \n",
      "A value is trying to be set on a copy of a slice from a DataFrame\n",
      "\n",
      "See the caveats in the documentation: http://pandas.pydata.org/pandas-docs/stable/indexing.html#indexing-view-versus-copy\n",
      "  \n"
     ]
    }
   ],
   "source": [
    "noref_results['norefpred'] = 0\n",
    "noref_results['p_max'] = noref_results['p_bact']\n",
    "noref_results['p_max'][noref_results['p_vir'] > noref_results['p_max']] = noref_results['p_vir']\n",
    "noref_results['p_max'][noref_results['p_mal&bact'] > noref_results['p_max']] = noref_results['p_mal&bact']\n",
    "noref_results['p_max'][noref_results['p_tbcrypto'] > noref_results['p_max']] = noref_results['p_tbcrypto']\n",
    "noref_results['p_max'][noref_results['p_other'] > noref_results['p_max']] = noref_results['p_other']\n",
    "noref_results['p_max'][noref_results['p_mal'] > noref_results['p_max']] = noref_results['p_mal']\n",
    "\n",
    "noref_results['norefpred'][noref_results['p_max'] == noref_results['p_bact']] = 1\n",
    "noref_results['norefpred'][noref_results['p_max'] == noref_results['p_vir']] = 2\n",
    "noref_results['norefpred'][noref_results['p_max'] == noref_results['p_mal&bact']] = 3\n",
    "noref_results['norefpred'][noref_results['p_max'] == noref_results['p_tbcrypto']] = 4\n",
    "noref_results['norefpred'][noref_results['p_max'] == noref_results['p_other']] = 5\n",
    "noref_results['norefpred'][noref_results['p_max'] == noref_results['p_mal']] = 0"
   ]
  },
  {
   "cell_type": "code",
   "execution_count": 103,
   "metadata": {},
   "outputs": [],
   "source": [
    "noref_results.to_csv(\"Outputs/nosplit_results.csv\")"
   ]
  },
  {
   "cell_type": "code",
   "execution_count": null,
   "metadata": {},
   "outputs": [],
   "source": []
  }
 ],
 "metadata": {
  "kernelspec": {
   "display_name": "Python 3",
   "language": "python",
   "name": "python3"
  },
  "language_info": {
   "codemirror_mode": {
    "name": "ipython",
    "version": 3
   },
   "file_extension": ".py",
   "mimetype": "text/x-python",
   "name": "python",
   "nbconvert_exporter": "python",
   "pygments_lexer": "ipython3",
   "version": "3.6.4"
  }
 },
 "nbformat": 4,
 "nbformat_minor": 2
}
