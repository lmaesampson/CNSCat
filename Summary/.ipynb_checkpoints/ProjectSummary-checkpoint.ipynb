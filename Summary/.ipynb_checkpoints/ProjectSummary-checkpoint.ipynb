{
 "cells": [
  {
   "cell_type": "markdown",
   "metadata": {},
   "source": [
    "### Treatment Recommendation for CNS cases in Uganda\n",
    "\n",
    "This dataset consists of the medical records of 480 children admitted to a hospital in Uganda with symptoms of a central nervous system (CNS) infection. The main causes of this type of infection in this region are malaria (treated with antimalarials) and bacterial menengitis (treated with antibiotics). In this particular study, the children were all put through extensive diagnostic tests, including a lumbar puncture, in order to reach a conclusive diagnosis and thus drive treatment. Even so, approximately half of the children did not end up with a final diagnosis.\n",
    "\n",
    "The goal of this project is to train a machine classifier using clinical data that would be widely available in clinical settings in Uganda in order to recommend a course of treatment - antibiotics, antibacterials, both, or neither."
   ]
  },
  {
   "cell_type": "code",
   "execution_count": 1,
   "metadata": {
    "collapsed": true
   },
   "outputs": [],
   "source": [
    "#Load necessary libraries\n",
    "#Libraries for math and data manipulation\n",
    "import numpy as np\n",
    "import pandas as pd\n",
    "import copy\n",
    "import math\n",
    "import numpy.random as rand\n",
    "import scipy as sp\n",
    "import sys\n",
    "from datetime import datetime\n",
    "from collections import Counter\n",
    "from matplotlib.pyplot import figure\n",
    "import pickle\n",
    "\n",
    "#Plotting stuff\n",
    "import matplotlib.pyplot as plt\n",
    "import seaborn\n",
    "import corner\n",
    "%matplotlib inline\n",
    "from matplotlib import rc\n",
    "rc('font',**{'family':'sans-serif','sans-serif':['Helvetica']})\n",
    "rc('text', usetex=True) #Want to be able to use tex in the plot labels\n",
    "seaborn.set_style('ticks')\n",
    "seaborn.set_color_codes()\n",
    "\n",
    "#Sci-bayes - built on top of scikit-learn, but includes Bayesian logistic regression\n",
    "from skbayes.linear_models import EBLogisticRegression,VBLogisticRegression"
   ]
  },
  {
   "cell_type": "code",
   "execution_count": 2,
   "metadata": {
    "collapsed": true
   },
   "outputs": [],
   "source": [
    "#Subroutine for printing an array nicely\n",
    "def print_array(a, cols, rows):\n",
    "    if (len(cols) != a.shape[1]) or (len(rows) != a.shape[0]):\n",
    "        print \"Shapes do not match\"\n",
    "        return\n",
    "    s = a.__repr__()\n",
    "    s = s.split(\"array(\")[1]\n",
    "    s = s.replace(\"      \", \"\")\n",
    "    s = s.replace(\"[[\", \" [\")\n",
    "    s = s.replace(\"]])\", \"]\")\n",
    "    pos = [i for i, ltr in enumerate(s.splitlines()[0]) if ltr == \",\"]\n",
    "    pos[-1] = pos[-1]-1\n",
    "    empty = \" \" * len(s.splitlines()[0])\n",
    "    s = s.replace(\"],\", \"]\")\n",
    "    s = s.replace(\",\", \"\")\n",
    "    lines = []\n",
    "    for i, l in enumerate(s.splitlines()):\n",
    "        lines.append(rows[i] + l)\n",
    "    s  =\"\\n\".join(lines)\n",
    "    empty = list(empty)\n",
    "    for i, p in enumerate(pos):\n",
    "        empty[p-i] = cols[i]\n",
    "    s = \"\".join(empty) + \"\\n\" + s\n",
    "    print s"
   ]
  },
  {
   "cell_type": "code",
   "execution_count": 3,
   "metadata": {
    "collapsed": true
   },
   "outputs": [],
   "source": [
    "#Load data set using pandas\n",
    "data_raw = pd.read_csv(\"../Data/cns_data.csv\") \n",
    "data_df = data_raw.copy() #hold onto an un-altered version just in case"
   ]
  },
  {
   "cell_type": "code",
   "execution_count": 4,
   "metadata": {
    "collapsed": true
   },
   "outputs": [],
   "source": [
    "#This function maps the raw data into usable variables - yes/no, mostly, although there is also a conversion of\n",
    "#date to day of the year, in order to incorporate possible seasonality. All of the variables in this function would\n",
    "#be available at clinical intake or shortly thereafter.\n",
    "#\n",
    "#Inputs: df - dataframe whose data needs to be mapped. params - list of parameters to be mapped.\n",
    "#\n",
    "def datamap(df,params):\n",
    "    #Adjust some things that are always included and may need to be used:\n",
    "    \n",
    "    #df['dimain'] = df.dimain.map({\"Cerebral Malaria\":0, \"Meningoencephalitis\":1, \"Meningitis\":2.,\\\n",
    "                                       #\"Other\":3})\n",
    "    for label in params:\n",
    "        #Mapping yes/no to 1/0\n",
    "        if label =='date':\n",
    "            df['incdate'] = pd.to_datetime(df['incdate'])\n",
    "            df['date'] = (df['incdate'] - df['incdate'].min())  / np.timedelta64(1,'D')\n",
    "        if label=='age':\n",
    "            df['ageym'] = df.ageyrs.astype(float)*12.\n",
    "            df['agemth'] = df.agemth.astype(float)\n",
    "            df['age'] = df.ageym + df.agemth #total age in months\n",
    "            #Mapping yes/no to 1/0\n",
    "        if label=='clinjaund':\n",
    "            df[label] = df.clinjaund.map({'Yes': 1, 'No': 0})\n",
    "        if label=='clinhepato':\n",
    "            df[label] = df.clinhepato.map({'Yes': 1, 'No': 0})\n",
    "        if label=='clinspleno':\n",
    "            df[label] = df.clinspleno.map({'Yes': 1, 'No': 0})\n",
    "        if label=='clinconv':\n",
    "            df['clinconv'] = df.clinconv.map({'Yes': 1, 'No': 0})\n",
    "        if label=='clindehyd':\n",
    "            df['clindehyd'] = df.clindehyd.map({'Yes': 1, 'No': 0})\n",
    "        if label=='clinoedem':\n",
    "            df['clinoedem'] = df.clinoedem.map({'Yes': 1, 'No': 0})\n",
    "        if label=='clinlymph':\n",
    "            df['clinlymph'] = df.clinlymph.map({'Yes': 1, 'No': 0})\n",
    "        if label=='clinresp':\n",
    "            df['clinresp'] = df.clinresp.map({'Yes': 1, 'No': 0})\n",
    "        if label=='clinablung':    \n",
    "            df['clinablung'] = df.clinablung.map({'Yes': 1, 'No': 0})\n",
    "        if label=='clincyan':\n",
    "            df['clincyan'] = df.clincyan.map({'Yes': 1, 'No': 0})\n",
    "        if label=='clincapref':\n",
    "            df['clincapref'] = df.clincapref.map({'Yes': 1, 'No': 0})\n",
    "        if label=='clincoldext':\n",
    "            df['clincoldext'] = df.clincoldext.map({'Yes': 1, 'No': 0})\n",
    "        if label=='clinorcand':\n",
    "            df['clinorcand'] = df.clinorcand.map({'Yes': 1, 'No': 0})\n",
    "        if label=='clinhemmor':\n",
    "            df['clinhemmor'] = df.clinhemmor.map({'Yes': 1, 'No': 0})\n",
    "        if label=='clinaids':\n",
    "            df['clinaids'] = df.clinaids.map({'Yes': 1, 'No': 0})\n",
    "        if label=='vom':\n",
    "            df['vom'] = df.vom.map({'Yes': 1, 'No': 0})\n",
    "        if label=='diar':\n",
    "            df['diar'] = df.diar.map({'Yes': 1, 'No': 0})\n",
    "        if label=='headache':\n",
    "            df['headache'] = df['head'] #Since 'head' is a function\n",
    "            df['headache'] = df.headache.map({\"Don't know\":0, 'No':0, 'Yes':1, 'Not applicable':0})\n",
    "        if label=='conv':\n",
    "            df['conv'] = df.conv.map({'Yes': 1, 'No': 0})\n",
    "        if label=='age':\n",
    "            df['ageym'] = df.ageyrs.astype(float)*12.\n",
    "            df['agemth'] = df.agemth.astype(float)\n",
    "            df['age'] = df.ageym + df.agemth #total age in months\n",
    "\n",
    "        #Medical history variables\n",
    "        if label=='mhhosp':\n",
    "            df['mhhosp'] = df.mhhosp.map({'Yes': 1, 'No':0})\n",
    "\n",
    "        #some slightly more compliated mappings\n",
    "        if label=='abdpain':\n",
    "            df['abdpain'] = df.abdpain.map({\"Don't know\":0, 'No':0, 'Yes':1, 'Not applicable':np.nan})\n",
    "        if label=='muscle':\n",
    "            df['muscle'] = df.muscle.map({\"Don't know\":0, 'No':0, 'Yes':1, 'Not applicable':np.nan})\n",
    "        if label=='mhdevsp':\n",
    "            df['mhdevsp'] = df.mhdevsp.map({'OTHER':1, 'GLOBAL DEVELOPMENTAL DELAY':1, 'HYDROCEPHALUS':1,\n",
    "                   'HEARING LOSSES':1, 'MOTOR DEVELOPEMENTAL DELAY':1,\n",
    "                   'SPEECH DEVELOPEMENTAL DELAY':1})\n",
    "        #malaria rapid disagnositc\n",
    "        if label=='malaria':\n",
    "            df['malaria'] = df.malaria.map({'confirmed':2, 'no':0, 'probable':1})\n",
    "            \n",
    "        #outcome\n",
    "        if label=='d3evol':\n",
    "            df['d3evol'] = df.d3evol.map({'Gradual worsening':-1, 'Unchanged':0, 'Improved':1,\\\n",
    "                                          'Improved & worsened':-1})\n",
    "\n",
    "        #Initial diagnosis coding: (either 'diagnosed - 0', or 'undiagnosed - 1')\n",
    "        if label=='CMalaria':\n",
    "            df['CMalaria'] = df.dimain.map({0:1,1:0,2:0,3:0})\n",
    "        if label=='Enceph':\n",
    "            df['Enceph'] = df.dimain.map({0:0,1:1,2:0,3:0})\n",
    "        if label=='Mening':\n",
    "            df['Mening'] = df.dimain.map({0:0,1:0,2:1,3:0})\n",
    "        if label=='Other':\n",
    "            df['Other'] = df.dimain.map({0:0,1:0,2:0,3:1})\n",
    "\n",
    "\n",
    "        #This coding is going to be important. You'll want to figure out which categories are useful, and which\n",
    "        #are practical.\n",
    "        if label=='diag':\n",
    "            df['diag'] = df.diag.map({'malaria':0, 'cereb malaria':0,'virus-malaria':0,\\\n",
    "                                                'virus-bacteria':0, 'bacteremia':0,'bact meningitis':0,\\\n",
    "                                                'virus-other':0,'virus':0,'malaria-bacterial':0,\\\n",
    "                                                'tb':0,'crypto':0, '0.0':1})\n",
    "        if label=='ttatb':\n",
    "            df['ttatb'] = df.ttatb.map({'No':0,'Yes':1})\n",
    "        if label=='ttmal':\n",
    "            df['ttmal'] = df.ttmal.map({'No':0,'Yes':2})"
   ]
  },
  {
   "cell_type": "code",
   "execution_count": 5,
   "metadata": {
    "collapsed": false
   },
   "outputs": [
    {
     "name": "stdout",
     "output_type": "stream",
     "text": [
      "There are 328 patients who improved.\n"
     ]
    }
   ],
   "source": [
    "#Select the patients who have improved. We are using this as an indicator of the 'right' treatment, although\n",
    "#we know that this has limitations.\n",
    "patients = data_df[data_df.d3evol=='Improved'].copy()\n",
    "print 'There are', len(patients), 'patients who improved.'\n",
    "\n",
    "#What parameters do we want to consider?\n",
    "pmap = ['glasgtot','clinjaund','clinhepato','clinspleno','clinconv','clindehyd',\\\n",
    "                          'clinoedem','clinlymph','clinresp','clinablung','clincyan','clincapref','clincoldext',\\\n",
    "                         'clinorcand','clinhemmor','clinaids',\\\n",
    "                         'abdpain','vom','diar','headache','muscle','conv',\\\n",
    "                         'age','date',\\\n",
    "                         'temp','card','resp','sbp','dbp','weight','height',\\\n",
    "                         'malaria',\n",
    "                         'mhhosp',\\\n",
    "               'ttatb','ttmal'] #These will be used to define the final treatment.\n",
    "\n",
    "#Map all of these parameters to numerical values:\n",
    "datamap(patients,pmap)\n",
    "\n",
    "#Add the final category to the data - this is taken as the 'true' treatment.\n",
    "patients['FinalTreatment'] = patients.ttmal+patients.ttatb #0 - none, 1 - atb, 2 - atm, 3 - both"
   ]
  },
  {
   "cell_type": "code",
   "execution_count": 6,
   "metadata": {
    "collapsed": true
   },
   "outputs": [],
   "source": [
    "#Define a function to train a Bayesian logistic regression model.\n",
    "def trainVBLR(features,data,vblr,modelA,depth=0):\n",
    "    features = np.array(features)\n",
    "    Npar = len(features) - 1 #dimain and diag are always included in the list, but aren't model params\n",
    "    XY_df = data.loc[:,features].dropna().copy()\n",
    "    \n",
    "    Input = XY_df.values\n",
    "    X = Input[:,0:-1].copy()\n",
    "    Y = Input[:,-1].copy()\n",
    "    Y = Y.astype(float)\n",
    "        \n",
    "    #Map the three different models into model A vs. Other: \n",
    "    if modelA==1:    #antibiotics vs. other\n",
    "        Y[Y==3.] = 2.\n",
    "    if modelA==2:    #antimalarials vs. other\n",
    "        Y[Y==1.] = 3.\n",
    "    if modelA==3:    #both vs. other\n",
    "        Y[Y==2.] = 1.\n",
    " \n",
    "    \n",
    "    print 'Number of patients in data set:', len(Y)\n",
    "    print 'Number of features:', len(features)-1\n",
    "    print 'Fitting model ...'\n",
    "        \n",
    "    vblr.__init__()\n",
    "    vblr.fit(X,Y)    \n",
    "    if depth<=1:  #If you're only fitting once\n",
    "        return Input, features\n",
    "        print 'model complete!'\n",
    "    \n",
    "    if depth>1:        #go through 'depth' number of times and drop all coefficients consistent with zero.\n",
    "        depth -= 1\n",
    "        covar_mat = copy.copy(vblr.sigma_)\n",
    "        covar_mat = np.array(covar_mat)\n",
    "        covar_mat = covar_mat.reshape([Npar+1,Npar+1])\n",
    "        post_peaks = np.zeros([Npar])\n",
    "        sigmas = np.zeros([Npar])\n",
    "        for i in range(Npar):\n",
    "            cval = vblr.coef_[0][i]\n",
    "            post_peaks[i] = cval\n",
    "            sigmas[i] = np.sqrt(covar_mat[i+1,i+1])\n",
    "\n",
    "            post_peaks = np.array(post_peaks)  \n",
    "            sigmas = np.array(sigmas)\n",
    "\n",
    "            #Which are consistent (within 1 sigma) with zero?\n",
    "            post_plus = post_peaks + 0.75*sigmas\n",
    "            post_minus = post_peaks - 0.75*sigmas\n",
    "\n",
    "            splus = np.sign(post_plus)\n",
    "            sminus = np.sign(post_minus)\n",
    "\n",
    "        keep = splus==sminus\n",
    "        extra = [True]   #Need to hang onto the category label\n",
    "        keep = np.concatenate([keep,extra])\n",
    "        features = features[keep]\n",
    "        print 'Non-zero Coefficients:',len(features)-1\n",
    "        return trainVBLR(features,data,vblr,modelA,depth)\n",
    "        depth = 0\n"
   ]
  },
  {
   "cell_type": "code",
   "execution_count": 7,
   "metadata": {
    "collapsed": false
   },
   "outputs": [
    {
     "name": "stdout",
     "output_type": "stream",
     "text": [
      "Number of patients in data set: 180\n",
      "Number of features: 32\n",
      "Fitting model ...\n",
      "nf 32 nsig 33\n",
      "Non-zero Coefficients: 16\n",
      "Number of patients in data set: 180\n",
      "Number of features: 16\n",
      "Fitting model ...\n",
      "nf 16 nsig 17\n",
      "Non-zero Coefficients: 16\n",
      "Number of patients in data set: 180\n",
      "Number of features: 16\n",
      "Fitting model ...\n",
      "nf 16 nsig 17\n"
     ]
    }
   ],
   "source": [
    "#Train the vblr \n",
    "feature_list = ['glasgtot','clinjaund','clinhepato','clinspleno','clinconv','clindehyd',\\\n",
    "                          'clinoedem','clinlymph','clinresp','clinablung','clincyan','clincapref','clincoldext',\\\n",
    "                         'clinorcand','clinhemmor','clinaids',\\\n",
    "                         'abdpain','vom','diar','headache','muscle','conv',\\\n",
    "                         'age','date',\\\n",
    "                         'temp','card','resp','sbp','dbp','weight','height',\\\n",
    "                          'mhhosp', \\\n",
    "               'FinalTreatment']\n",
    "vblr_both = VBLogisticRegression()\n",
    "DataTrained, feat_kept_both = (trainVBLR(feature_list,patients,vblr_both,modelA=1,depth=3))\n",
    "#You would need to do this three times to generate a predictive model for 'antimalarial vs other,' 'antibiotic vs.\n",
    "#other,' and 'both vs. other' (none of the patients recieved no treatment)\n"
   ]
  },
  {
   "cell_type": "code",
   "execution_count": 9,
   "metadata": {
    "collapsed": false
   },
   "outputs": [
    {
     "name": "stdout",
     "output_type": "stream",
     "text": [
      "There are 180 patients...\n",
      "and 27 features.\n",
      "['clinhepato', 'conv', 'vom', 'resp', 'height', 'dbp', 'clinresp', 'weight', 'clinablung', 'clinconv', 'clinspleno', 'diar', 'headache', 'abdpain', 'malaria', 'card', 'clinlymph', 'clinoedem', 'glasgtot', 'temp', 'age', 'clinjaund', 'mhhosp', 'clindehyd', 'muscle', 'atatb', 'atmal', 'FinalTreatment']\n"
     ]
    }
   ],
   "source": [
    "#The above was all about training the model to generate the 'machine learning' policy.\n",
    "#Now, we actually generate the machine learning policy action for each patient:\n",
    "\n",
    "#Load models and feature lists\n",
    "modelList = pickle.load( open( \"../Data/three_model_pickle.p\", \"rb\" ) ) #You made these already - good for you!\n",
    "\n",
    "pantb_model = modelList[0]\n",
    "pantm_model = modelList[2]\n",
    "pboth_model = modelList[4]\n",
    "\n",
    "featAntb = list(modelList[1][:-1])\n",
    "featAntm = list(modelList[3][:-1])\n",
    "featBoth = list(modelList[5][:-1])\n",
    "\n",
    "allFeat = featAntb + featAntm + featBoth\n",
    "allFeat = list(set(allFeat))    #Collection of all of the features used - will want to test only on patients with\n",
    "                                #non-NaN values for all of these.\n",
    "allFeat.append('atatb')\n",
    "allFeat.append('atmal')\n",
    "allFeat.append('FinalTreatment')\n",
    "\n",
    "finalPatients_df = patients[allFeat].copy()\n",
    "finalPatients_df['atmal'] = finalPatients_df.atmal.map({'No':0,'Yes':1, np.nan:0})*2\n",
    "finalPatients_df['atatb'] = finalPatients_df.atatb.map({'No':0,'Yes':1, 'Not applicable':0})\n",
    "finalPatients_df = finalPatients_df.dropna()  #Only keep patients with values for all of these features.\n",
    "finalPatients = finalPatients_df.values\n",
    "\n",
    "Npatient = len(finalPatients)\n",
    "\n",
    "#The features used are different for the three different models. We need patients with non-NaN values\n",
    "#for all of these features.\n",
    "print 'There are', Npatient, 'patients...'\n",
    "print 'and', len(allFeat)-1, 'features.'\n",
    "\n",
    "#Now, we go through and calculate the probability of each of the three treatments for each patient, and\n",
    "#assign that patient to the category with the highest probability. \n",
    "#From the list of patients who have values for all possible features, select the features that were used in \n",
    "#each model:\n",
    "atbFeatures = finalPatients_df[featAntb].values\n",
    "atmFeatures = finalPatients_df[featAntm].values\n",
    "bothFeatures = finalPatients_df[featBoth].values\n",
    "\n",
    "TrueCat = finalPatients[:,-1]\n",
    "\n",
    "#Generate the probabilities for each model:\n",
    "pantb = pantb_model.predict_proba(atbFeatures)\n",
    "pantm = pantm_model.predict_proba(atmFeatures)\n",
    "pboth = pboth_model.predict_proba(bothFeatures)\n",
    "\n",
    "Policy_ML = []\n",
    "for i in range(Npatient):\n",
    "    pvec = np.array([pantb[i,0]*100,pantm[i,0]*100,pboth[i,0]*100])\n",
    "    Policy_ML.append(np.where(pvec==np.max(pvec))[0][0]+1)\n",
    "Policy_ML = np.array(Policy_ML)\n",
    "Policy_ML = Policy_ML.astype(float)\n",
    "\n",
    "print allFeat"
   ]
  },
  {
   "cell_type": "code",
   "execution_count": 10,
   "metadata": {
    "collapsed": true
   },
   "outputs": [],
   "source": [
    "#To see if this policy makes any improvements over what is already being done, we want to compare it to what \n",
    "#treatments are given at intake - i.e. before much clinical information is taken into account.\n",
    "#Intake policy is just what was done directly on intake\n",
    "Policy_In = finalPatients_df['atmal'] + finalPatients_df['atatb']\n",
    "Policy_In = Policy_In.values\n",
    "Policy_In = Policy_In.astype(float)\n",
    "Policy_In[Policy_In==0.] = 4."
   ]
  },
  {
   "cell_type": "code",
   "execution_count": 11,
   "metadata": {
    "collapsed": true
   },
   "outputs": [],
   "source": [
    "#Finally, what if we didn't do anything fancy at all and just gave every patient both treatments? We call this\n",
    "# the 'kitchen sink' pollicy.\n",
    "Policy_KS = np.ones(Npatient)*3.\n"
   ]
  },
  {
   "cell_type": "code",
   "execution_count": 12,
   "metadata": {
    "collapsed": true
   },
   "outputs": [],
   "source": [
    "#What everyone *should* have gotten\n",
    "Truth = finalPatients_df['FinalTreatment'].values\n",
    "Truth = Truth.astype(float)\n"
   ]
  },
  {
   "cell_type": "code",
   "execution_count": 13,
   "metadata": {
    "collapsed": true
   },
   "outputs": [],
   "source": [
    "#Now, go through and fill out the 'policy grid' for each of these three policies.\n",
    "Pij_ML = np.zeros([4,4])\n",
    "Pij_I = np.zeros([4,4])\n",
    "Pij_KS = np.zeros([4,4])\n",
    "\n",
    "poss = [1,2,3,4]\n",
    "for i in poss:\n",
    "    for j in poss:\n",
    "        needmask = Truth==i\n",
    "        \n",
    "        gotmask = Policy_ML==j \n",
    "        Pij_ML[i-1,j-1] = sum(needmask*gotmask)\n",
    "              \n",
    "        gotmask = Policy_In==j\n",
    "        Pij_I[i-1,j-1] = sum(needmask*gotmask)\n",
    "        \n",
    "        gotmask = Policy_KS==j\n",
    "        Pij_KS[i-1,j-1] = sum(needmask*gotmask)\n",
    "        "
   ]
  },
  {
   "cell_type": "code",
   "execution_count": 14,
   "metadata": {
    "collapsed": false
   },
   "outputs": [
    {
     "name": "stdout",
     "output_type": "stream",
     "text": [
      "Machine Learning Policy: 66.6666666667 % accurate\n",
      "     ab   am   b   n    \n",
      "atb  [35.  0. 16.  0.]\n",
      "atm  [ 0. 12.  8.  0.]\n",
      "both [16. 20. 73.  0.]\n",
      "none [ 0.  0.  0.  0.]\n",
      "\n",
      "\n",
      "Intake Policy: 49.4444444444 % accurate\n",
      "     ab   am   b   n    \n",
      "atb  [21.  1.  1. 28.]\n",
      "atm  [ 0. 11.  0.  9.]\n",
      "both [ 7. 19. 57. 26.]\n",
      "none [ 0.  0.  0.  0.]\n",
      "\n",
      "\n",
      "Kitchen Sink Policy: 60.5555555556 % accurate\n",
      "      ab    am    b    n    \n",
      "atb  [  0.   0.  51.   0.]\n",
      "atm  [  0.   0.  20.   0.]\n",
      "both [  0.   0. 109.   0.]\n",
      "none [  0.   0.   0.   0.]\n",
      "\n",
      "\n"
     ]
    }
   ],
   "source": [
    "c = [\"ab\",\"am\",\"b\",\"n\"]\n",
    "r = [\"atb \",\"atm \",\"both\",\"none\"]\n",
    "\n",
    "ML_correct = Pij_ML[0,0]+Pij_ML[1,1]+Pij_ML[2,2]+Pij_ML[3,3]\n",
    "I_correct = Pij_I[0,0]+Pij_I[1,1]+Pij_I[2,2]+Pij_I[3,3]\n",
    "KS_correct = Pij_KS[0,0] + Pij_KS[1,1] + Pij_KS[2,2] + Pij_KS[3,3]\n",
    "\n",
    "print \"Machine Learning Policy:\", float(ML_correct)*100./Npatient,\"% accurate\" \n",
    "print_array(Pij_ML,c,r)\n",
    "print \"\\n\"\n",
    "\n",
    "print \"Intake Policy:\", float(I_correct)*100./Npatient,\"% accurate\" \n",
    "print_array(Pij_I,c,r)\n",
    "print \"\\n\"\n",
    "\n",
    "print \"Kitchen Sink Policy:\", float(KS_correct)*100./Npatient,\"% accurate\" \n",
    "print_array(Pij_KS,c,r)\n",
    "print \"\\n\""
   ]
  },
  {
   "cell_type": "markdown",
   "metadata": {},
   "source": [
    "We don't report on the precision and recall of the two methods here, because the consequences of mis-classifying a patient are different depending on the mis-classification. Undertreating is probably worse than overtreating. To assess the two different policies, then, we need to assign a cost to each possible combination of need/got.\n",
    "\n",
    "Given that there are two possible drugs, lets just call them $A$ and $B$, (although those correspond in our case to antibiotics and antimalarials), each cell in the 'cost/action matrix' can be defined by four numbers.\n",
    "\n",
    "\n",
    "$\\begin{array}\n",
    " nn_A &= (0,1), \\quad\\quad \\rm{need\\,A?}\\\\   \n",
    " n_B &= (0,1), \\quad\\quad \\rm{need\\,B?}\\\\\n",
    " g_A &= (0,1), \\quad\\quad \\rm{get\\,A?}\\\\\n",
    " g_B &= (0,1), \\quad\\quad \\rm{get\\,B?}\\\\\n",
    "\\end{array}$\n",
    "\n",
    "We can then define the cost of each of the cells, which are now uniquely defined by $(n_A,n_B,g_A,g_B)$, as:\n",
    "\n",
    "$\\rm{cost} = \\left[\\left\\{n_Ag_A + n_Bg_B\\right\\} + f_1\\times\\left\\{n_A(1-g_A)+n_B(1-g_B)\\right\\} + f_2\\times\\left\\{(1-n_A)g_A+(1-n_B)g_B\\right\\}\\right]\\bigg/(n_A+n_B)$\n",
    "\n",
    "The first term rewards the policy for giving drugs that were needed. The second term penalizes the policy for *not* giving drugs that *were* needed (missed treatment), and the third term penalizes the policy for *giving* drugs that were *not* needed (wasted treatment). The denominator scales the answer such that perfect treatment gives a return of 1. $f_1$ and $f_2$ scale the degree of the penalty accrued from missing or wasting treatment, respecitvely. As formulated, rewards and penalties for drug A and drug B are equal, but this could be adjusted."
   ]
  },
  {
   "cell_type": "code",
   "execution_count": 15,
   "metadata": {
    "collapsed": false
   },
   "outputs": [],
   "source": [
    "#Loop through a grid of values in f1 and f2. \n",
    "nplot = 30\n",
    "f1range = np.linspace(0.,10.,nplot)\n",
    "f2range = np.linspace(0.,10.,nplot)\n",
    "\n",
    "CmatI = np.zeros([nplot,nplot])\n",
    "CmatML = np.zeros([nplot,nplot])\n",
    "CmatKS = np.zeros([nplot,nplot])\n",
    "BestP = np.zeros([nplot,nplot])\n",
    "\n",
    "IntakeCats = Pij_I.flatten()\n",
    "MLCats = Pij_ML.flatten()\n",
    "KSCats = Pij_KS.flatten()"
   ]
  },
  {
   "cell_type": "code",
   "execution_count": 19,
   "metadata": {
    "collapsed": false
   },
   "outputs": [],
   "source": [
    "i = 0\n",
    "for f1 in f1range:\n",
    "    j = 0\n",
    "    for f2 in f2range:\n",
    "        C = np.array([1.,-(f1+f2),1.-f2,-f1,-(f1+f2),1.,1.-f2,-f1,(1.-f1)/2.,(1.-f1)/2.,1.,-f1,-f2,-f2,-2.*f2,1.])\n",
    "        CmatI[i,j] = np.sum(IntakeCats*C)/Npatient\n",
    "        CmatML[i,j] = np.sum(MLCats*C)/Npatient\n",
    "        CmatKS[i,j] = np.sum(KSCats*C)/Npatient\n",
    "        \n",
    "        if np.max([CmatML[i,j],CmatI[i,j],CmatKS[i,j]])==CmatI[i,j]:\n",
    "            BestP[i,j] = 0.\n",
    "        elif np.max([CmatML[i,j],CmatI[i,j],CmatKS[i,j]])==CmatML[i,j]:\n",
    "            BestP[i,j] = 1.\n",
    "        elif np.max([CmatML[i,j],CmatI[i,j],CmatKS[i,j]])==CmatKS[i,j]:\n",
    "            BestP[i,j] = 2.\n",
    "        else:\n",
    "            print 'Tie!', CmatI[i,j], CmatML[i,j],CmatKS[i,j]\n",
    "            BestP[i,j] = 3.\n",
    "        \n",
    "        j += 1\n",
    "    i += 1"
   ]
  },
  {
   "cell_type": "code",
   "execution_count": 22,
   "metadata": {
    "collapsed": false
   },
   "outputs": [
    {
     "data": {
      "text/plain": [
       "Text(0.08,0.5,'care more about undertreating $\\\\longrightarrow$')"
      ]
     },
     "execution_count": 22,
     "metadata": {},
     "output_type": "execute_result"
    },
    {
     "data": {
      "image/png": "[encoded data removed]",
      "text/plain": [
       "<Figure size 1080x1080 with 3 Axes>"
      ]
     },
     "metadata": {},
     "output_type": "display_data"
    }
   ],
   "source": [
    "#f, (ax1, ax2) = plt.subplots(1, 2,figsize=(15,15))\n",
    "\n",
    "fig, (ax1,ax2,ax3) = plt.subplots(nrows=1, ncols=3, figsize=(15,15))\n",
    "\n",
    "\n",
    "ax3.imshow(CmatKS,cmap='plasma',vmax=1.)\n",
    "ax3.set_title('Classifier')\n",
    "ax2.imshow(CmatML,cmap='plasma',vmax=1.)\n",
    "ax2.set_title('Classifier')\n",
    "ax1.imshow(CmatI,cmap='plasma',vmax=1.)\n",
    "ax1.set_title('Intake')\n",
    "\n",
    "ax1.invert_yaxis()\n",
    "ax2.invert_yaxis()\n",
    "ax3.invert_yaxis()\n",
    "\n",
    "fig.text(0.5, 0.28, 'care more about overtreating $\\longrightarrow$', ha='center',fontsize=15)\n",
    "fig.text(0.08, 0.5, 'care more about undertreating $\\longrightarrow$', va='center', rotation='vertical',fontsize=15)\n",
    "\n"
   ]
  },
  {
   "cell_type": "code",
   "execution_count": 21,
   "metadata": {
    "collapsed": false
   },
   "outputs": [
    {
     "data": {
      "image/png": "[encoded data removed]",
      "text/plain": [
       "<Figure size 864x864 with 1 Axes>"
      ]
     },
     "metadata": {},
     "output_type": "display_data"
    }
   ],
   "source": [
    "fig, ax = plt.subplots(figsize=(12,12))\n",
    "cax = ax.imshow(BestP, interpolation='none', cmap='plasma');\n",
    "ax.set_xticks(np.arange(0,nplot,1));\n",
    "ax.set_yticks(np.arange(0,nplot,1));\n",
    "#ax.set_xticklabels(f2range,fontsize=12);\n",
    "#ax.set_yticklabels(f1range,fontsize=12);\n",
    "# get the current labels \n",
    "#labels = [item.get_text() for item in ax.get_xticklabels()]\n",
    "# Beat them into submission and set them back again\n",
    "ax.set_xticklabels([str(round(float(label), 2)) for label in f2range]);\n",
    "ax.set_yticklabels([str(round(float(label), 2)) for label in f1range]);\n",
    "plt.gca().invert_yaxis()\n"
   ]
  },
  {
   "cell_type": "code",
   "execution_count": null,
   "metadata": {
    "collapsed": true
   },
   "outputs": [],
   "source": []
  }
 ],
 "metadata": {
  "kernelspec": {
   "display_name": "Python 2",
   "language": "python",
   "name": "python2"
  },
  "language_info": {
   "codemirror_mode": {
    "name": "ipython",
    "version": 2
   },
   "file_extension": ".py",
   "mimetype": "text/x-python",
   "name": "python",
   "nbconvert_exporter": "python",
   "pygments_lexer": "ipython2",
   "version": "2.7.12"
  }
 },
 "nbformat": 4,
 "nbformat_minor": 2
}
