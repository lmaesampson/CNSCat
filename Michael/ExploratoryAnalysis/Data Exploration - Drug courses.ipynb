{
 "cells": [
  {
   "cell_type": "markdown",
   "metadata": {},
   "source": [
    "# What are the variables related to drug courses given?\n",
    "1. bfmal - 0 for no antimalarial, 1 for antimalarial, 2 for perhaps antimalarial given together with another drug\n",
    "1. bfmal1 - string of drug given, Quinine and Coartem present\n",
    "1. bfmalsdat - date of starting antimalarial\n",
    "1. bfmaledat - date of ending antimalarial\n",
    "1. bfatb - 0 for no antibiotic, 1 for yes antibiotic, 2 for perhaps antibiotic given together with another drug\n",
    "1. bfatb1 - string of drug given, many varieties\n",
    "1. bfatb1sdat - date of starting antibacterial\n",
    "1. bfatb1sdat - date of ending antibacterial"
   ]
  },
  {
   "cell_type": "markdown",
   "metadata": {},
   "source": [
    "# Stata code and remarks\n",
    "## logit bfmal i.rdtresult if rdtresult > 0\n",
    "A negative rdttest correlates with less likelihood of receiving antimalarials, but it isn't remarkably strong suggesting that rdt is not the only factor in prescription of antimalarials.\n",
    "## summ bfmal if rdtresult == 1\n",
    "## summ bfmal if rdtresult == 2\n",
    "About half of those with a positive rdt result recieve antimalarials, about a third of those with negative rdt receive antimalarial\n"
   ]
  },
  {
   "cell_type": "code",
   "execution_count": null,
   "metadata": {},
   "outputs": [],
   "source": []
  }
 ],
 "metadata": {
  "kernelspec": {
   "display_name": "Python 3",
   "language": "python",
   "name": "python3"
  },
  "language_info": {
   "codemirror_mode": {
    "name": "ipython",
    "version": 3
   },
   "file_extension": ".py",
   "mimetype": "text/x-python",
   "name": "python",
   "nbconvert_exporter": "python",
   "pygments_lexer": "ipython3",
   "version": "3.6.4"
  }
 },
 "nbformat": 4,
 "nbformat_minor": 2
}
