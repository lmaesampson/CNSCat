{
 "cells": [
  {
   "cell_type": "markdown",
   "metadata": {},
   "source": [
    "# Exploratory logistic regression\n",
    "Variables found to be good classifiers in original Analysis\n",
    "\n",
    "Mostly concern clinical variables"
   ]
  },
  {
   "cell_type": "markdown",
   "metadata": {},
   "source": [
    "# More STATA code\n",
    "// Test for statistical significance of clinical variables\n",
    "\n",
    "\n",
    "gen CMalaria = 0\n",
    "\n",
    "replace CMalaria = 1 if dimain == 2 \n",
    "\n",
    "mlogit recodediag CMalaria // This is the top classifier and also highly significant for both cerebmal and cerebmal+bactmen\n",
    "\n",
    "mlogit recodediag glasgtot // A 1 in glasgtot is negatively correlated with cerebmal but almost meaningless for bactmen\n",
    "\n",
    "gen Mening = 0\n",
    "\n",
    "replace Mening = 1 if dimain == 1\n",
    "\n",
    "mlogit recodediag Mening // As expected, negative for cerebmal and positive for bactmen\n",
    "\n",
    "gen Enceph = 0\n",
    "\n",
    "replace Enceph = 1 if dimain == 3\n",
    "\n",
    "mlogit recodediag Enceph  // Negative for both cerebmal and bactmen\n",
    "\n",
    "mlogit recodediag muac // weak (p = .145) negative association with cerebmal\n",
    "\n",
    "mlogit recodediag card  //significant positive association with cerebmal\n",
    "\n",
    "mlogit recodediag temp  // weak (p = .096) positive association with cerebmal\n",
    "\n",
    "mlogit recodediag resp  // no apparent association\n",
    "\n",
    "mlogit recodediag sbp   // no apparent association\n",
    "\n",
    "mlogit recodediag height  // no apparent association"
   ]
  },
  {
   "cell_type": "code",
   "execution_count": null,
   "metadata": {},
   "outputs": [],
   "source": []
  }
 ],
 "metadata": {
  "kernelspec": {
   "display_name": "Python 3",
   "language": "python",
   "name": "python3"
  },
  "language_info": {
   "codemirror_mode": {
    "name": "ipython",
    "version": 3
   },
   "file_extension": ".py",
   "mimetype": "text/x-python",
   "name": "python",
   "nbconvert_exporter": "python",
   "pygments_lexer": "ipython3",
   "version": "3.6.4"
  }
 },
 "nbformat": 4,
 "nbformat_minor": 2
}
