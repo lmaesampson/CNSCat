{
 "cells": [
  {
   "cell_type": "markdown",
   "metadata": {},
   "source": [
    "# To do  \n",
    "Figure out which had no CSF taken  \n",
    "Figure out all the potential indep vars and what they are coded for  \n",
    "Figure out why rdtresult doesn't match pdf\n",
    "\n",
    "The end goal here is a logistic regression for both cerebral malaria and bacterial menengitis to serve as a classifier trained on 480 cases.\n",
    "\n",
    "Outcome variables:  \n",
    "cerebmal - 0 for no, 1 for yes\n",
    "bactmen - 0 for no meningitis, 1 for yes, 2 for probable?  \n",
    "bactmenall - contains a 3 for some patients, This could be bacteremia, which matches the number listed in the pdf\n",
    "\n",
    "Variables of interest: These are the variables which would be known on day 1  \n",
    "malaria - 0 for no, 1 for yes, indicated by microscopy 166 cases near match to pdf (167)  \n",
    "rdtresult - 7 0s, 216 1s, 254 2s.  According to pdf there are 209 positives in rdt...\\\n",
    "\n",
    "Notes:  \n",
    "404 patients with csf collected  \n",
    "Blood culture taken in 99%\n"
   ]
  },
  {
   "cell_type": "code",
   "execution_count": 13,
   "metadata": {},
   "outputs": [],
   "source": [
    "%matplotlib inline\n",
    "import numpy as np\n",
    "import pandas as pd\n",
    "import matplotlib.pyplot as plt\n",
    "\n",
    "from IPython.core.interactiveshell import InteractiveShell\n",
    "InteractiveShell.ast_node_interactivity = \"all\"\n",
    "\n",
    "from sklearn import linear_model"
   ]
  },
  {
   "cell_type": "code",
   "execution_count": 14,
   "metadata": {},
   "outputs": [
    {
     "data": {
      "text/plain": [
       "(480, 976)"
      ]
     },
     "execution_count": 14,
     "metadata": {},
     "output_type": "execute_result"
    },
    {
     "data": {
      "text/plain": [
       "array([0, 1])"
      ]
     },
     "execution_count": 14,
     "metadata": {},
     "output_type": "execute_result"
    },
    {
     "data": {
      "text/plain": [
       "array([0, 1, 2])"
      ]
     },
     "execution_count": 14,
     "metadata": {},
     "output_type": "execute_result"
    },
    {
     "data": {
      "text/plain": [
       "array([0, 1, 2, 3])"
      ]
     },
     "execution_count": 14,
     "metadata": {},
     "output_type": "execute_result"
    }
   ],
   "source": [
    "#Outcomes of interest\n",
    "cns_raw = pd.read_csv('data/cnsfinall2.csv', index_col=0)\n",
    "cns_raw.shape\n",
    "cns_raw.cerebmal.unique()\n",
    "cns_raw.bactmen.unique()\n",
    "cns_raw.bactmenall.unique()"
   ]
  },
  {
   "cell_type": "code",
   "execution_count": 15,
   "metadata": {},
   "outputs": [
    {
     "data": {
      "text/plain": [
       "array([2, 3, 1, 4])"
      ]
     },
     "execution_count": 15,
     "metadata": {},
     "output_type": "execute_result"
    },
    {
     "data": {
      "text/plain": [
       "array([0, 3, 2, 1])"
      ]
     },
     "execution_count": 15,
     "metadata": {},
     "output_type": "execute_result"
    },
    {
     "data": {
      "text/plain": [
       "array([3, 2, 0, 1])"
      ]
     },
     "execution_count": 15,
     "metadata": {},
     "output_type": "execute_result"
    },
    {
     "data": {
      "text/plain": [
       "array([ 0.,  1., nan])"
      ]
     },
     "execution_count": 15,
     "metadata": {},
     "output_type": "execute_result"
    },
    {
     "data": {
      "text/plain": [
       "array([38.6, 38.4, 35.9, 37. , 38.1, 38. , 36.8, 37.8, 40.1, 36.9, 37.4,\n",
       "       37.5, 37.2, 36.7, 36.4, 39. , 39.5, 37.3, 40.9, 38.2, 37.6, 39.7,\n",
       "       40.3, 39.6, 39.4, 38.5, 37.7, 38.3, 36.1, 39.8, 38.8, 39.9, 37.1,\n",
       "       38.7, 36. , 38.9, 37.9, 36.5, 39.1, 40. , 39.2, 40.2, 34.9, 36.6,\n",
       "       35.7, 36.2, 41.2, 35.8, 40.6, 34.7, 40.4, 41.9, 35.4, 39.3, 35.6])"
      ]
     },
     "execution_count": 15,
     "metadata": {},
     "output_type": "execute_result"
    },
    {
     "data": {
      "text/plain": [
       "array([0, 1])"
      ]
     },
     "execution_count": 15,
     "metadata": {},
     "output_type": "execute_result"
    },
    {
     "data": {
      "text/plain": [
       "array([ 0.,  1., nan])"
      ]
     },
     "execution_count": 15,
     "metadata": {},
     "output_type": "execute_result"
    },
    {
     "data": {
      "text/plain": [
       "array([ 1.,  2., nan,  0.])"
      ]
     },
     "execution_count": 15,
     "metadata": {},
     "output_type": "execute_result"
    }
   ],
   "source": [
    "#Indep vars of interest\n",
    "cns_raw.dimain.unique() #initial diagnosis: 1=meningitis, 2=cerbral malaria, 3=meningoencephalitis, 4=other\n",
    "cns_raw.vacmen.unique() #vaccination against meningitis'\n",
    "cns_raw.vacpneumo.unique() #as vacbcg for pneumococcal vaccine\n",
    "cns_raw.conv.unique() #convulsions\n",
    "cns_raw.temp.unique() #temp (C)\n",
    "cns_raw.clinaids.unique() #Clinical diagnosis of AIDS\n",
    "cns_raw.diaids.unique() #Diagnosis of AIDS at inclusion\n",
    "cns_raw.rdtresult.unique()"
   ]
  },
  {
   "cell_type": "code",
   "execution_count": 16,
   "metadata": {},
   "outputs": [],
   "source": [
    "cns_raw['combinedoutcome'] = cns_raw.cerebmal + (cns_raw.bactmenall > 0)*2 #0 for neither, 1 for cerebmal, 2 for bactmen, 3 for both"
   ]
  },
  {
   "cell_type": "code",
   "execution_count": 17,
   "metadata": {},
   "outputs": [
    {
     "data": {
      "text/plain": [
       "258"
      ]
     },
     "execution_count": 17,
     "metadata": {},
     "output_type": "execute_result"
    },
    {
     "data": {
      "text/plain": [
       "array([0, 1, 2, 3])"
      ]
     },
     "execution_count": 17,
     "metadata": {},
     "output_type": "execute_result"
    },
    {
     "data": {
      "text/plain": [
       "300"
      ]
     },
     "execution_count": 17,
     "metadata": {},
     "output_type": "execute_result"
    },
    {
     "data": {
      "text/plain": [
       "105"
      ]
     },
     "execution_count": 17,
     "metadata": {},
     "output_type": "execute_result"
    },
    {
     "data": {
      "text/plain": [
       "72"
      ]
     },
     "execution_count": 17,
     "metadata": {},
     "output_type": "execute_result"
    },
    {
     "data": {
      "text/plain": [
       "3"
      ]
     },
     "execution_count": 17,
     "metadata": {},
     "output_type": "execute_result"
    }
   ],
   "source": [
    "sum(cns_raw.combinedoutcome)\n",
    "cns_raw.combinedoutcome.unique()\n",
    "sum(cns_raw.combinedoutcome==0)\n",
    "sum(cns_raw.combinedoutcome==1)\n",
    "sum(cns_raw.combinedoutcome==2)\n",
    "sum(cns_raw.combinedoutcome==3)"
   ]
  },
  {
   "cell_type": "code",
   "execution_count": 18,
   "metadata": {},
   "outputs": [],
   "source": [
    "cns_raw.to_csv('data/cns_outcomes.csv')"
   ]
  },
  {
   "cell_type": "markdown",
   "metadata": {},
   "source": [
    "# **Some Stata code for logistic regression exploration**\n",
    "/**\n",
    "Author: Michael Williams\n",
    "Exploration of cns_infection data, multinomial regression\n",
    "**/\n",
    "\n",
    "clear all\n",
    "\n",
    "import delimited cns_outcomes.csv // Exploratory analysis of all outcomes (0 for neither, 1 for cerebmal, 2 for bactmen, 3 for both)\n",
    "\n",
    "summ recodediag  //Dependent variable\n",
    "\n",
    "mlogit recodediag i.vacmen //Vaccination against menengitis status has no appreciable effect\n",
    "\n",
    "mlogit recodediag i.vacpneumo //Vaccination against pneumococcus status has no appreciable effect\n",
    "\n",
    "mlogit recodediag i.rdtresult if rdtresult > 0 //Assuming a 1 is positive then a positive rdt test is highly predictive of cerebmal\n",
    "\n",
    "mlogit recodediag i.conv //presence of convulsions statistical evidence for malaria\n",
    "\n",
    "\n",
    "// #categorical: main diagnosis at inclusion: 1=meningitis, 2=cerbral malaria, 3=meningoencephalitis, 4=other\n",
    "\n",
    "mlogit recodediag i.dimain  //diagnosis at onset is highly predictive of true outcome\n",
    "\n",
    "// Generate rainy season variable, April to October (1), Nov to Mar (0)\n",
    "\n",
    "split incdate, p(\"-\")\n",
    "gen rainseason = 1 if incdate2 ==\"04\" | incdate2 ==\"05\" ///\n",
    "\t| incdate2 ==\"06\" | incdate2 ==\"07\" | incdate2 ==\"08\" ///\n",
    "\t| incdate2 ==\"09\" |incdate2 ==\"10\"\n",
    "replace rainseason = 0 if missing(rainseason)\n",
    "\n",
    "mlogit recodediag i.rainseason // It being the rainy season seems to (insignificantly) boost probability of both diseases...\n",
    "\n",
    "mlogit recodediag clincon // convulsions indicate malaria\n",
    "\n",
    "mlogit recodediag i.inchypo // nothing\n",
    "\n",
    "mlogit recodediag i.inchypert // nothing\n",
    "\n",
    "mlogit recodediag i.incirrit  // irritability indicative of mening and not having cerebmal\n",
    "\n",
    "mlogit recodediag i.incblant if incblant != 9 // over 9mo, blantyre score indicative of cerebmal\n",
    "\n",
    "mlogit recodediag i.incblant9  if incblant9 != 9 // for under 9mo, the association is weaker\n",
    "\n",
    "mlogit recodediag i.incglas if incglas != 9 // glasgow score insignificant\n",
    "\n",
    "mlogit recodediag i.inchead if inchead != 9 // not sure how this variable is coded but it appears that headache is negatively correlated with cerebmal\n",
    "\n",
    "mlogit recodediag i.incphoto if incphoto != 9 // similarly confusing coding...\n",
    "\n",
    "mlogit recodediag i.incneck if incneck != 9 // neckpain at inclusion negative for cerebmal and positive for bactmen\n",
    "\n",
    "mlogit recodediag i.incfont if incfont !=9 // some positive correlation with bactmen but a lot of missingness apparently\n",
    "\n",
    "mlogit recodediag i.incneuro if incneuro !=9 // nothing here\n",
    "\n",
    "mlogit recodediag i.incseiza if  incseiza != 9 // seizure on admission indicative of malaria\n",
    "\n",
    "mlogit recodediag i.incseizh if  incseizh != 9 // seizure in past 48hr indicative of malaria\n",
    "\n",
    "mlogit recodediag i.inckern if inckern != 9 // kerning sign neg for cerebmal and pos for bactmen\n",
    "\n",
    "mlogit recodediag i.incbrud if incbrud != 9 // brudzinski sign highly indicative of bactmen but only present in 14 patients, will likely be a good classifier\n",
    "\n",
    "mlogit recodediag i.incpurp if incpurp != 9 // nothing here, seems like\n",
    "\n"
   ]
  },
  {
   "cell_type": "markdown",
   "metadata": {},
   "source": [
    "# Results - Exploratory Analysis\n",
    "1. RDT test highly predictive of ultimate outcome\n",
    "1. Initial diagnosis highly predictive of ultimate outcome\n",
    "1. Vaccination status (meningitis) not particularly useful\n",
    "1. Convulsions predictive for cerebral malaria\n",
    "1. Irritablility predictive of bacterial mening and predictive of no malaria\n",
    "1. blantyre score indicates cerebmal\n",
    "1. headache suggests no cerebmal\n",
    "1. neckpain is negative for cerebmal and positive for bactmen\n",
    "1. seizure both on admission and 48hr prior indicative of cerebmal\n",
    "1. Generally, admission variables have value because at least one of them must be true to even get into the study\n",
    "1. Need to understand more variables\n"
   ]
  },
  {
   "cell_type": "code",
   "execution_count": null,
   "metadata": {},
   "outputs": [],
   "source": []
  }
 ],
 "metadata": {
  "kernelspec": {
   "display_name": "Python 3",
   "language": "python",
   "name": "python3"
  },
  "language_info": {
   "codemirror_mode": {
    "name": "ipython",
    "version": 3
   },
   "file_extension": ".py",
   "mimetype": "text/x-python",
   "name": "python",
   "nbconvert_exporter": "python",
   "pygments_lexer": "ipython3",
   "version": "3.6.4"
  }
 },
 "nbformat": 4,
 "nbformat_minor": 2
}
