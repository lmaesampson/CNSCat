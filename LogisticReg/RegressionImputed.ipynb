{
 "cells": [
  {
   "cell_type": "code",
   "execution_count": 30,
   "metadata": {
    "scrolled": true
   },
   "outputs": [],
   "source": [
    "%reset -f\n",
    "%matplotlib inline\n",
    "import warnings\n",
    "warnings.filterwarnings('ignore')\n",
    "\n",
    "import numpy as np\n",
    "import pandas as pd\n",
    "import pymc3 as pm\n",
    "import seaborn as sns\n",
    "import os,sys,inspect\n",
    "currentdir = os.path.dirname(os.path.abspath(inspect.getfile(inspect.currentframe())))\n",
    "parentdir = os.path.dirname(currentdir)\n",
    "dirToInclude=parentdir +'/features/'\n",
    "sys.path.insert(0,dirToInclude)\n",
    "\n",
    "\n",
    "import pandas\n",
    "import numpy as np\n",
    "import pandas as pd\n",
    "from sklearn import cross_validation\n",
    "from sklearn import metrics\n",
    "from sklearn.metrics import roc_auc_score, log_loss, roc_auc_score, roc_curve, auc\n",
    "from sklearn.cross_validation import StratifiedKFold, ShuffleSplit, cross_val_score, train_test_split\n",
    "import matplotlib.pyplot as plt\n",
    "pd.set_option('display.max_columns', None)\n",
    "\n",
    "import scipy as sp\n",
    "import theano.tensor as t"
   ]
  },
  {
   "cell_type": "code",
   "execution_count": 31,
   "metadata": {},
   "outputs": [],
   "source": [
    "#read in dataset created in imputation notebook\n",
    "data = pd.read_csv(\"../Data/CleanedForRegression.csv\")\n",
    "#recode sex to female for indicator of being female in keepign with other variable coding\n",
    "data['female'] = data['sex'] - 1\n",
    "#drop data that is irrelevant or duplicated in other columms (ie just keep 1 indicator of age etc)\n",
    "data = data.drop(['Unnamed: 0', 'incdate', 'agemth', 'incdate', 'incyear', 'incmonth', 'ageyrs', 'ageym', 'dimain' , 'dimainsp','sex'], axis = 1)\n"
   ]
  },
  {
   "cell_type": "code",
   "execution_count": 32,
   "metadata": {},
   "outputs": [
    {
     "data": {
      "text/plain": [
       "Index(['clinjaund', 'clinhepato', 'clinspleno', 'clinconv', 'clindehyd',\n",
       "       'clinoedem', 'clinlymph', 'clinresp', 'clinablung', 'clincyan',\n",
       "       'clincapref', 'clincoldext', 'clinearinf', 'clinanemia', 'clinorcand',\n",
       "       'clinhemmor', 'clinaids', 'abdpain', 'vom', 'diar', 'muscle', 'conv',\n",
       "       'glasgtot', 'temp', 'card', 'resp', 'sbp', 'dbp', 'weight', 'height',\n",
       "       'muac', 'mhhosp', 'mhdev', 'mhsickle', 'mhchron', 'vacbcg',\n",
       "       'vacmeasles', 'vachib1', 'vachib2', 'vachib3', 'vacmen', 'vacpneumo',\n",
       "       'monthday', 'digast', 'diaids', 'dilrti', 'disepsis', 'dimalnut',\n",
       "       'diother', 'rdtresult', 'incirrit', 'inchead', 'incphoto', 'incfont',\n",
       "       'incneuro', 'incseiza', 'incseizh', 'incpurp', 'bfmed', 'bfatb',\n",
       "       'bfvir', 'bfmal', 'bfinf', 'bfpyr', 'diag', 'age', 'headache',\n",
       "       'dimainrobust', 'female'],\n",
       "      dtype='object')"
      ]
     },
     "execution_count": 32,
     "metadata": {},
     "output_type": "execute_result"
    }
   ],
   "source": [
    "data.columns"
   ]
  },
  {
   "cell_type": "code",
   "execution_count": null,
   "metadata": {},
   "outputs": [],
   "source": []
  },
  {
   "cell_type": "code",
   "execution_count": 34,
   "metadata": {},
   "outputs": [],
   "source": [
    "import theano.tensor as tt\n",
    "softmax = tt.nnet.softmax"
   ]
  },
  {
   "cell_type": "code",
   "execution_count": 89,
   "metadata": {
    "scrolled": true
   },
   "outputs": [],
   "source": [
    "y = data['diag']\n",
    "x_missing = data[['temp','glasgtot','rdtresult','clinconv']]\n",
    "#x = data[['temp','glasgtot','rdtresult','clinconv']]\n",
    "#x = x[['clinconv','temp']]"
   ]
  },
  {
   "cell_type": "code",
   "execution_count": 90,
   "metadata": {
    "scrolled": true
   },
   "outputs": [
    {
     "ename": "AssertionError",
     "evalue": "",
     "output_type": "error",
     "traceback": [
      "\u001b[0;31m---------------------------------------------------------------------------\u001b[0m",
      "\u001b[0;31mAssertionError\u001b[0m                            Traceback (most recent call last)",
      "\u001b[0;32m<ipython-input-90-0685747da856>\u001b[0m in \u001b[0;36m<module>\u001b[0;34m()\u001b[0m\n\u001b[1;32m      7\u001b[0m \u001b[0;34m\u001b[0m\u001b[0m\n\u001b[1;32m      8\u001b[0m     \u001b[0;31m# expected parameter\u001b[0m\u001b[0;34m\u001b[0m\u001b[0;34m\u001b[0m\u001b[0m\n\u001b[0;32m----> 9\u001b[0;31m     \u001b[0mp\u001b[0m \u001b[0;34m=\u001b[0m \u001b[0msoftmax\u001b[0m\u001b[0;34m(\u001b[0m\u001b[0mμ\u001b[0m \u001b[0;34m+\u001b[0m \u001b[0mt\u001b[0m\u001b[0;34m.\u001b[0m\u001b[0msum\u001b[0m\u001b[0;34m(\u001b[0m\u001b[0meffects\u001b[0m \u001b[0;34m*\u001b[0m \u001b[0mx\u001b[0m\u001b[0;34m,\u001b[0m \u001b[0maxis\u001b[0m\u001b[0;34m=\u001b[0m\u001b[0;36m1\u001b[0m\u001b[0;34m)\u001b[0m\u001b[0;34m)\u001b[0m\u001b[0;34m\u001b[0m\u001b[0m\n\u001b[0m\u001b[1;32m     10\u001b[0m \u001b[0;34m\u001b[0m\u001b[0m\n\u001b[1;32m     11\u001b[0m     \u001b[0;31m# Likelihood (sampling distribution) of observations\u001b[0m\u001b[0;34m\u001b[0m\u001b[0;34m\u001b[0m\u001b[0m\n",
      "\u001b[0;32m/anaconda3/lib/python3.6/site-packages/theano/tensor/var.py\u001b[0m in \u001b[0;36m__mul__\u001b[0;34m(self, other)\u001b[0m\n\u001b[1;32m    153\u001b[0m         \u001b[0;31m# and the return value in that case\u001b[0m\u001b[0;34m\u001b[0m\u001b[0;34m\u001b[0m\u001b[0m\n\u001b[1;32m    154\u001b[0m         \u001b[0;32mtry\u001b[0m\u001b[0;34m:\u001b[0m\u001b[0;34m\u001b[0m\u001b[0m\n\u001b[0;32m--> 155\u001b[0;31m             \u001b[0;32mreturn\u001b[0m \u001b[0mtheano\u001b[0m\u001b[0;34m.\u001b[0m\u001b[0mtensor\u001b[0m\u001b[0;34m.\u001b[0m\u001b[0mmul\u001b[0m\u001b[0;34m(\u001b[0m\u001b[0mself\u001b[0m\u001b[0;34m,\u001b[0m \u001b[0mother\u001b[0m\u001b[0;34m)\u001b[0m\u001b[0;34m\u001b[0m\u001b[0m\n\u001b[0m\u001b[1;32m    156\u001b[0m         \u001b[0;32mexcept\u001b[0m \u001b[0;34m(\u001b[0m\u001b[0mNotImplementedError\u001b[0m\u001b[0;34m,\u001b[0m \u001b[0mAsTensorError\u001b[0m\u001b[0;34m)\u001b[0m\u001b[0;34m:\u001b[0m\u001b[0;34m\u001b[0m\u001b[0m\n\u001b[1;32m    157\u001b[0m             \u001b[0;32mreturn\u001b[0m \u001b[0mNotImplemented\u001b[0m\u001b[0;34m\u001b[0m\u001b[0m\n",
      "\u001b[0;32m/anaconda3/lib/python3.6/site-packages/theano/gof/op.py\u001b[0m in \u001b[0;36m__call__\u001b[0;34m(self, *inputs, **kwargs)\u001b[0m\n\u001b[1;32m    613\u001b[0m         \"\"\"\n\u001b[1;32m    614\u001b[0m         \u001b[0mreturn_list\u001b[0m \u001b[0;34m=\u001b[0m \u001b[0mkwargs\u001b[0m\u001b[0;34m.\u001b[0m\u001b[0mpop\u001b[0m\u001b[0;34m(\u001b[0m\u001b[0;34m'return_list'\u001b[0m\u001b[0;34m,\u001b[0m \u001b[0;32mFalse\u001b[0m\u001b[0;34m)\u001b[0m\u001b[0;34m\u001b[0m\u001b[0m\n\u001b[0;32m--> 615\u001b[0;31m         \u001b[0mnode\u001b[0m \u001b[0;34m=\u001b[0m \u001b[0mself\u001b[0m\u001b[0;34m.\u001b[0m\u001b[0mmake_node\u001b[0m\u001b[0;34m(\u001b[0m\u001b[0;34m*\u001b[0m\u001b[0minputs\u001b[0m\u001b[0;34m,\u001b[0m \u001b[0;34m**\u001b[0m\u001b[0mkwargs\u001b[0m\u001b[0;34m)\u001b[0m\u001b[0;34m\u001b[0m\u001b[0m\n\u001b[0m\u001b[1;32m    616\u001b[0m \u001b[0;34m\u001b[0m\u001b[0m\n\u001b[1;32m    617\u001b[0m         \u001b[0;32mif\u001b[0m \u001b[0mconfig\u001b[0m\u001b[0;34m.\u001b[0m\u001b[0mcompute_test_value\u001b[0m \u001b[0;34m!=\u001b[0m \u001b[0;34m'off'\u001b[0m\u001b[0;34m:\u001b[0m\u001b[0;34m\u001b[0m\u001b[0m\n",
      "\u001b[0;32m/anaconda3/lib/python3.6/site-packages/theano/tensor/elemwise.py\u001b[0m in \u001b[0;36mmake_node\u001b[0;34m(self, *inputs)\u001b[0m\n\u001b[1;32m    478\u001b[0m         \u001b[0musing\u001b[0m \u001b[0mDimShuffle\u001b[0m\u001b[0;34m.\u001b[0m\u001b[0;34m\u001b[0m\u001b[0m\n\u001b[1;32m    479\u001b[0m         \"\"\"\n\u001b[0;32m--> 480\u001b[0;31m         \u001b[0minputs\u001b[0m \u001b[0;34m=\u001b[0m \u001b[0mlist\u001b[0m\u001b[0;34m(\u001b[0m\u001b[0mmap\u001b[0m\u001b[0;34m(\u001b[0m\u001b[0mas_tensor_variable\u001b[0m\u001b[0;34m,\u001b[0m \u001b[0minputs\u001b[0m\u001b[0;34m)\u001b[0m\u001b[0;34m)\u001b[0m\u001b[0;34m\u001b[0m\u001b[0m\n\u001b[0m\u001b[1;32m    481\u001b[0m         out_dtypes, out_broadcastables, inputs = self.get_output_info(\n\u001b[1;32m    482\u001b[0m             DimShuffle, *inputs)\n",
      "\u001b[0;32m/anaconda3/lib/python3.6/site-packages/theano/tensor/basic.py\u001b[0m in \u001b[0;36mas_tensor_variable\u001b[0;34m(x, name, ndim)\u001b[0m\n\u001b[1;32m    192\u001b[0m \u001b[0;34m\u001b[0m\u001b[0m\n\u001b[1;32m    193\u001b[0m     \u001b[0;32mtry\u001b[0m\u001b[0;34m:\u001b[0m\u001b[0;34m\u001b[0m\u001b[0m\n\u001b[0;32m--> 194\u001b[0;31m         \u001b[0;32mreturn\u001b[0m \u001b[0mconstant\u001b[0m\u001b[0;34m(\u001b[0m\u001b[0mx\u001b[0m\u001b[0;34m,\u001b[0m \u001b[0mname\u001b[0m\u001b[0;34m=\u001b[0m\u001b[0mname\u001b[0m\u001b[0;34m,\u001b[0m \u001b[0mndim\u001b[0m\u001b[0;34m=\u001b[0m\u001b[0mndim\u001b[0m\u001b[0;34m)\u001b[0m\u001b[0;34m\u001b[0m\u001b[0m\n\u001b[0m\u001b[1;32m    195\u001b[0m     \u001b[0;32mexcept\u001b[0m \u001b[0mTypeError\u001b[0m\u001b[0;34m:\u001b[0m\u001b[0;34m\u001b[0m\u001b[0m\n\u001b[1;32m    196\u001b[0m         \u001b[0;32mtry\u001b[0m\u001b[0;34m:\u001b[0m\u001b[0;34m\u001b[0m\u001b[0m\n",
      "\u001b[0;32m/anaconda3/lib/python3.6/site-packages/theano/tensor/basic.py\u001b[0m in \u001b[0;36mconstant\u001b[0;34m(x, name, ndim, dtype)\u001b[0m\n\u001b[1;32m    230\u001b[0m \u001b[0;34m\u001b[0m\u001b[0m\n\u001b[1;32m    231\u001b[0m     \"\"\"\n\u001b[0;32m--> 232\u001b[0;31m     \u001b[0mx_\u001b[0m \u001b[0;34m=\u001b[0m \u001b[0mscal\u001b[0m\u001b[0;34m.\u001b[0m\u001b[0mconvert\u001b[0m\u001b[0;34m(\u001b[0m\u001b[0mx\u001b[0m\u001b[0;34m,\u001b[0m \u001b[0mdtype\u001b[0m\u001b[0;34m=\u001b[0m\u001b[0mdtype\u001b[0m\u001b[0;34m)\u001b[0m\u001b[0;34m\u001b[0m\u001b[0m\n\u001b[0m\u001b[1;32m    233\u001b[0m \u001b[0;34m\u001b[0m\u001b[0m\n\u001b[1;32m    234\u001b[0m     \u001b[0mbcastable\u001b[0m \u001b[0;34m=\u001b[0m \u001b[0;34m[\u001b[0m\u001b[0md\u001b[0m \u001b[0;34m==\u001b[0m \u001b[0;36m1\u001b[0m \u001b[0;32mfor\u001b[0m \u001b[0md\u001b[0m \u001b[0;32min\u001b[0m \u001b[0mx_\u001b[0m\u001b[0;34m.\u001b[0m\u001b[0mshape\u001b[0m\u001b[0;34m]\u001b[0m\u001b[0;34m\u001b[0m\u001b[0m\n",
      "\u001b[0;32m/anaconda3/lib/python3.6/site-packages/theano/scalar/basic.py\u001b[0m in \u001b[0;36mconvert\u001b[0;34m(x, dtype)\u001b[0m\n\u001b[1;32m    282\u001b[0m             \u001b[0;32mif\u001b[0m \u001b[0mx_\u001b[0m\u001b[0;34m.\u001b[0m\u001b[0msize\u001b[0m \u001b[0;34m==\u001b[0m \u001b[0;36m0\u001b[0m \u001b[0;32mand\u001b[0m \u001b[0;32mnot\u001b[0m \u001b[0mhasattr\u001b[0m\u001b[0;34m(\u001b[0m\u001b[0mx\u001b[0m\u001b[0;34m,\u001b[0m \u001b[0;34m'dtype'\u001b[0m\u001b[0;34m)\u001b[0m\u001b[0;34m:\u001b[0m\u001b[0;34m\u001b[0m\u001b[0m\n\u001b[1;32m    283\u001b[0m                 \u001b[0mx_\u001b[0m \u001b[0;34m=\u001b[0m \u001b[0mnp\u001b[0m\u001b[0;34m.\u001b[0m\u001b[0masarray\u001b[0m\u001b[0;34m(\u001b[0m\u001b[0mx\u001b[0m\u001b[0;34m,\u001b[0m \u001b[0mdtype\u001b[0m\u001b[0;34m=\u001b[0m\u001b[0mconfig\u001b[0m\u001b[0;34m.\u001b[0m\u001b[0mfloatX\u001b[0m\u001b[0;34m)\u001b[0m\u001b[0;34m\u001b[0m\u001b[0m\n\u001b[0;32m--> 284\u001b[0;31m     \u001b[0;32massert\u001b[0m \u001b[0mtype\u001b[0m\u001b[0;34m(\u001b[0m\u001b[0mx_\u001b[0m\u001b[0;34m)\u001b[0m \u001b[0;32min\u001b[0m \u001b[0;34m[\u001b[0m\u001b[0mnp\u001b[0m\u001b[0;34m.\u001b[0m\u001b[0mndarray\u001b[0m\u001b[0;34m,\u001b[0m \u001b[0mnp\u001b[0m\u001b[0;34m.\u001b[0m\u001b[0mmemmap\u001b[0m\u001b[0;34m]\u001b[0m\u001b[0;34m\u001b[0m\u001b[0m\n\u001b[0m\u001b[1;32m    285\u001b[0m     \u001b[0;32mreturn\u001b[0m \u001b[0mx_\u001b[0m\u001b[0;34m\u001b[0m\u001b[0m\n\u001b[1;32m    286\u001b[0m \u001b[0;34m\u001b[0m\u001b[0m\n",
      "\u001b[0;31mAssertionError\u001b[0m: "
     ]
    }
   ],
   "source": [
    "with pm.Model() as logistic_model:\n",
    "    \n",
    "    x = np.ma.masked_invalid(x_missing)\n",
    "    \n",
    "    μ = pm.Normal('μ', 0, sd=10, shape=len(y.unique()))\n",
    "    effects = pm.Normal('effects', mu=0, sd=10, shape=(x.shape[1], len(y.unique())))\n",
    "    \n",
    "    # expected parameter\n",
    "    p = softmax(μ + t.dot(x, effects))\n",
    "    \n",
    "    # Likelihood (sampling distribution) of observations\n",
    "    Y_obs = pm.Categorical('Y_obs', p=p, observed=y)\n"
   ]
  },
  {
   "cell_type": "code",
   "execution_count": 65,
   "metadata": {},
   "outputs": [
    {
     "name": "stderr",
     "output_type": "stream",
     "text": [
      "Auto-assigning NUTS sampler...\n",
      "Initializing NUTS using jitter+adapt_diag...\n",
      "Multiprocess sampling (2 chains in 2 jobs)\n",
      "NUTS: [effects, μ]\n",
      "Sampling 2 chains: 100%|██████████| 4000/4000 [10:29<00:00,  3.16draws/s]\n",
      "The chain reached the maximum tree depth. Increase max_treedepth, increase target_accept or reparameterize.\n",
      "The chain reached the maximum tree depth. Increase max_treedepth, increase target_accept or reparameterize.\n",
      "The gelman-rubin statistic is larger than 1.4 for some parameters. The sampler did not converge.\n",
      "The estimated number of effective samples is smaller than 200 for some parameters.\n"
     ]
    }
   ],
   "source": [
    "with logistic_model:\n",
    "    trace = pm.sample(1000, tune=1000, njobs=2, nuts_kwargs={'target_accept':0.99})"
   ]
  },
  {
   "cell_type": "code",
   "execution_count": 6,
   "metadata": {},
   "outputs": [],
   "source": [
    "#pm.energyplot(trace)"
   ]
  },
  {
   "cell_type": "code",
   "execution_count": 5,
   "metadata": {},
   "outputs": [],
   "source": [
    "#pm.traceplot(trace);"
   ]
  },
  {
   "cell_type": "code",
   "execution_count": 4,
   "metadata": {},
   "outputs": [],
   "source": [
    "#pm.forestplot(trace, varnames=['effects'])"
   ]
  },
  {
   "cell_type": "code",
   "execution_count": 3,
   "metadata": {},
   "outputs": [],
   "source": [
    "#pm.plots.densityplot(trace)"
   ]
  },
  {
   "cell_type": "code",
   "execution_count": 2,
   "metadata": {},
   "outputs": [],
   "source": [
    "#pm.plots.plot_posterior(trace)"
   ]
  },
  {
   "cell_type": "code",
   "execution_count": 11,
   "metadata": {
    "scrolled": true
   },
   "outputs": [
    {
     "name": "stderr",
     "output_type": "stream",
     "text": [
      "100%|██████████| 500/500 [00:16<00:00, 31.02it/s]\n"
     ]
    }
   ],
   "source": [
    "ppc = pm.sample_ppc(trace, samples=500, model=logistic_model)"
   ]
  },
  {
   "cell_type": "code",
   "execution_count": 58,
   "metadata": {},
   "outputs": [
    {
     "data": {
      "image/png": "[encoded data removed]",
      "text/plain": [
       "<matplotlib.figure.Figure at 0x11e30f0f0>"
      ]
     },
     "metadata": {},
     "output_type": "display_data"
    }
   ],
   "source": [
    "#ppc for person 0\n",
    "\n",
    "plt.bar([\" Malaria\",\"Bacteria\",\"Other\"], height=[\n",
    "    np.asscalar(sum(ppc['Y_obs'][:,0,0] == 0) / 500),\n",
    "    np.asscalar(sum(ppc['Y_obs'][:,0,0] == 1) / 500),\n",
    "    np.asscalar(sum(ppc['Y_obs'][:,0,0] == 2) / 500)], width=0.8)\n",
    "\n",
    "plt.ylabel(\"Probability\", fontsize = 30)\n",
    "plt.xlabel(\"Final Diagnosis\", fontsize = 30)\n",
    "plt.rcParams[\"figure.figsize\"] = (10, 9)\n",
    "plt.tick_params(axis='both', which='major', labelsize=15)\n",
    "plt.tick_params(axis='both', which='minor', labelsize=8)"
   ]
  },
  {
   "cell_type": "code",
   "execution_count": 126,
   "metadata": {},
   "outputs": [
    {
     "name": "stderr",
     "output_type": "stream",
     "text": [
      "/anaconda3/lib/python3.6/site-packages/ipykernel_launcher.py:7: SettingWithCopyWarning: \n",
      "A value is trying to be set on a copy of a slice from a DataFrame\n",
      "\n",
      "See the caveats in the documentation: http://pandas.pydata.org/pandas-docs/stable/indexing.html#indexing-view-versus-copy\n",
      "  import sys\n",
      "/anaconda3/lib/python3.6/site-packages/ipykernel_launcher.py:8: SettingWithCopyWarning: \n",
      "A value is trying to be set on a copy of a slice from a DataFrame\n",
      "\n",
      "See the caveats in the documentation: http://pandas.pydata.org/pandas-docs/stable/indexing.html#indexing-view-versus-copy\n",
      "  \n"
     ]
    }
   ],
   "source": [
    "result = pd.DataFrame({'diag':y})\n",
    "result['p_mal'] = np.sum(ppc['Y_obs'][:,:,0] == 0, axis = 0) / 500\n",
    "result['p_bact'] = np.sum(ppc['Y_obs'][:,:,0] == 1, axis = 0) / 500\n",
    "result['p_other'] = np.sum(ppc['Y_obs'][:,:,0] == 2, axis = 0) / 500\n",
    "result['p_max'] = np.amax(result.drop(['diag'], axis=1), axis = 1)\n",
    "result['prediction'] = 0\n",
    "result['prediction'][np.where(result['p_max'] == result['p_bact'], 'yes', 'no') == 'yes'] = 1\n",
    "result['prediction'][np.where(result['p_max'] == result['p_other'], 'yes', 'no') == 'yes'] = 2\n"
   ]
  },
  {
   "cell_type": "code",
   "execution_count": null,
   "metadata": {},
   "outputs": [],
   "source": []
  },
  {
   "cell_type": "code",
   "execution_count": null,
   "metadata": {},
   "outputs": [],
   "source": []
  },
  {
   "cell_type": "code",
   "execution_count": null,
   "metadata": {},
   "outputs": [],
   "source": []
  },
  {
   "cell_type": "code",
   "execution_count": null,
   "metadata": {},
   "outputs": [],
   "source": []
  },
  {
   "cell_type": "code",
   "execution_count": 1,
   "metadata": {},
   "outputs": [],
   "source": [
    "#pm.summary(trace).round(2)"
   ]
  },
  {
   "cell_type": "code",
   "execution_count": 88,
   "metadata": {},
   "outputs": [
    {
     "data": {
      "text/plain": [
       "masked_array(\n",
       "  data=[[38.6, 15.0, 1.0, 0.0],\n",
       "        [38.4, --, 1.0, 1.0],\n",
       "        [35.9, 11.0, 1.0, 0.0],\n",
       "        [37.0, --, 0.0, 0.0],\n",
       "        [38.1, 8.0, 1.0, 1.0],\n",
       "        [38.0, --, 1.0, 0.0],\n",
       "        [36.8, --, 0.0, 1.0],\n",
       "        [37.8, --, 1.0, 1.0],\n",
       "        [36.8, --, 0.0, 1.0],\n",
       "        [38.0, 12.0, 0.0, 0.0],\n",
       "        [40.1, --, 0.0, 1.0],\n",
       "        [36.9, --, 0.0, 0.0],\n",
       "        [37.4, 9.0, 1.0, 1.0],\n",
       "        [38.0, 9.0, 1.0, 1.0],\n",
       "        [38.4, --, 1.0, 1.0],\n",
       "        [37.5, --, 0.0, 1.0],\n",
       "        [37.2, --, 0.0, 0.0],\n",
       "        [36.7, 9.0, 1.0, 0.0],\n",
       "        [38.4, 13.0, 0.0, 0.0],\n",
       "        [38.4, 10.0, 1.0, 0.0],\n",
       "        [36.4, 15.0, 0.0, 0.0],\n",
       "        [39.0, --, 1.0, 1.0],\n",
       "        [37.8, --, 0.0, 0.0],\n",
       "        [37.2, --, 1.0, 0.0],\n",
       "        [38.4, --, 0.0, 0.0],\n",
       "        [38.0, --, 0.0, 1.0],\n",
       "        [37.2, --, 0.0, 0.0],\n",
       "        [39.5, 15.0, 0.0, 0.0],\n",
       "        [37.3, 8.0, 1.0, 1.0],\n",
       "        [40.9, 5.0, --, 1.0],\n",
       "        [38.2, 9.0, 0.0, 0.0],\n",
       "        [37.6, --, 1.0, 0.0],\n",
       "        [38.4, --, 1.0, 0.0],\n",
       "        [38.0, --, 1.0, 0.0],\n",
       "        [36.4, 4.0, 1.0, 1.0],\n",
       "        [37.8, --, 1.0, 1.0],\n",
       "        [37.6, --, 1.0, 1.0],\n",
       "        [38.2, --, 1.0, 0.0],\n",
       "        [37.5, 10.0, 1.0, 1.0],\n",
       "        [37.8, 6.0, 1.0, 0.0],\n",
       "        [39.7, --, 1.0, 1.0],\n",
       "        [38.2, --, 0.0, 1.0],\n",
       "        [37.5, --, 1.0, 1.0],\n",
       "        [40.3, --, 0.0, 0.0],\n",
       "        [38.1, --, 1.0, 1.0],\n",
       "        [39.6, --, 1.0, 0.0],\n",
       "        [39.4, --, 1.0, 1.0],\n",
       "        [37.8, --, 1.0, 1.0],\n",
       "        [38.5, --, 0.0, 1.0],\n",
       "        [37.7, --, 1.0, 1.0],\n",
       "        [37.6, 15.0, 0.0, 0.0],\n",
       "        [37.6, 7.0, 1.0, 1.0],\n",
       "        [37.1, 6.0, 1.0, 0.0],\n",
       "        [38.8, 9.0, 1.0, 0.0],\n",
       "        [37.7, 5.0, 1.0, 1.0],\n",
       "        [36.8, 6.0, 1.0, 1.0],\n",
       "        [37.2, 10.0, 0.0, 0.0],\n",
       "        [40.3, 3.0, 0.0, 1.0],\n",
       "        [38.2, 7.0, 1.0, 1.0],\n",
       "        [40.6, 15.0, 0.0, 0.0],\n",
       "        [38.1, 7.0, 1.0, 0.0],\n",
       "        [36.9, 15.0, 0.0, 1.0],\n",
       "        [37.3, 3.0, 0.0, 1.0],\n",
       "        [36.6, 7.0, 1.0, 0.0],\n",
       "        [35.6, 6.0, 0.0, 0.0],\n",
       "        [37.4, 10.0, 0.0, 0.0],\n",
       "        [39.9, 6.0, 1.0, 0.0],\n",
       "        [37.0, 6.0, 1.0, 0.0],\n",
       "        [38.0, 5.0, 1.0, 1.0],\n",
       "        [36.0, 10.0, 0.0, 0.0],\n",
       "        [36.8, 9.0, 1.0, 1.0],\n",
       "        [37.7, 10.0, --, 1.0],\n",
       "        [36.7, 11.0, 1.0, 0.0],\n",
       "        [36.7, 13.0, 0.0, 1.0],\n",
       "        [37.5, 15.0, 0.0, 0.0],\n",
       "        [39.3, 14.0, 0.0, 0.0],\n",
       "        [37.2, 9.0, 1.0, 0.0],\n",
       "        [36.0, 13.0, 0.0, 0.0],\n",
       "        [36.4, 15.0, --, 0.0],\n",
       "        [37.7, 13.0, 0.0, 1.0],\n",
       "        [38.6, 15.0, 1.0, 0.0],\n",
       "        [37.6, 10.0, 0.0, 0.0],\n",
       "        [38.9, 5.0, --, 1.0],\n",
       "        [37.4, 14.0, 0.0, 0.0],\n",
       "        [37.6, 13.0, 1.0, 0.0],\n",
       "        [37.5, 7.0, 0.0, 1.0],\n",
       "        [38.0, 14.0, --, 0.0],\n",
       "        [39.8, 15.0, --, 0.0],\n",
       "        [39.2, 12.0, 0.0, 0.0],\n",
       "        [39.8, 15.0, 1.0, 1.0],\n",
       "        [37.7, 13.0, 1.0, 0.0],\n",
       "        [38.8, 15.0, 0.0, 1.0],\n",
       "        [38.6, 15.0, 0.0, 0.0],\n",
       "        [36.4, 3.0, 0.0, 1.0],\n",
       "        [36.9, 11.0, 1.0, 0.0],\n",
       "        [36.7, 9.0, 0.0, 0.0],\n",
       "        [37.3, 6.0, 1.0, 1.0],\n",
       "        [36.0, 15.0, 0.0, 0.0],\n",
       "        [39.4, 6.0, 1.0, 0.0],\n",
       "        [36.2, 15.0, 0.0, 0.0]],\n",
       "  mask=[[False, False, False, False],\n",
       "        [False,  True, False, False],\n",
       "        [False, False, False, False],\n",
       "        ...,\n",
       "        [False, False, False, False],\n",
       "        [False, False, False, False],\n",
       "        [False, False, False, False]],\n",
       "  fill_value=1e+20)"
      ]
     },
     "execution_count": 88,
     "metadata": {},
     "output_type": "execute_result"
    }
   ],
   "source": [
    "x"
   ]
  },
  {
   "cell_type": "code",
   "execution_count": 40,
   "metadata": {},
   "outputs": [],
   "source": []
  },
  {
   "cell_type": "code",
   "execution_count": 57,
   "metadata": {},
   "outputs": [
    {
     "data": {
      "text/plain": [
       "dot.0"
      ]
     },
     "execution_count": 57,
     "metadata": {},
     "output_type": "execute_result"
    }
   ],
   "source": [
    "t.dot(x, effects)"
   ]
  },
  {
   "cell_type": "code",
   "execution_count": null,
   "metadata": {},
   "outputs": [],
   "source": []
  },
  {
   "cell_type": "markdown",
   "metadata": {},
   "source": [
    "Questions:\n",
    "    Abstract\n",
    "    How to create probabilistic output for individual predictions\n",
    "    Is sensitivity/specificity a decent metric, what about unsureness?"
   ]
  }
 ],
 "metadata": {
  "kernelspec": {
   "display_name": "Python 3",
   "language": "python",
   "name": "python3"
  },
  "language_info": {
   "codemirror_mode": {
    "name": "ipython",
    "version": 3
   },
   "file_extension": ".py",
   "mimetype": "text/x-python",
   "name": "python",
   "nbconvert_exporter": "python",
   "pygments_lexer": "ipython3",
   "version": "3.6.4"
  }
 },
 "nbformat": 4,
 "nbformat_minor": 2
}
