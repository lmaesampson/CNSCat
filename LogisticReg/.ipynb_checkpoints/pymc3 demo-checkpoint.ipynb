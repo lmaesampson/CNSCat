{
 "cells": [
  {
   "cell_type": "code",
   "execution_count": 11,
   "metadata": {},
   "outputs": [],
   "source": [
    "import pymc3 as pm\n",
    "import pandas as pd\n",
    "import matplotlib as m"
   ]
  },
  {
   "cell_type": "code",
   "execution_count": 4,
   "metadata": {},
   "outputs": [],
   "source": [
    "# %load http://bit.ly/drug_trial_data\n",
    "\n",
    "\n",
    "drug = pd.DataFrame(dict(iq=(101,100,102,104,102,97,105,105,98,101,100,123,105,103,100,95,102,106,\n",
    "        109,102,82,102,100,102,102,101,102,102,103,103,97,97,103,101,97,104,\n",
    "        96,103,124,101,101,100,101,101,104,100,101),\n",
    "                         group='drug'))\n",
    "placebo = pd.DataFrame(dict(iq=(99,101,100,101,102,100,97,101,104,101,102,102,100,105,88,101,100,\n",
    "           104,100,100,100,101,102,103,97,101,101,100,101,99,101,100,100,\n",
    "           101,100,99,101,100,102,99,100,99),\n",
    "                            group='placebo'))\n",
    "\n",
    "trial_data = pd.concat([drug, placebo], ignore_index=True)\n"
   ]
  },
  {
   "cell_type": "code",
   "execution_count": 10,
   "metadata": {},
   "outputs": [
    {
     "data": {
      "text/plain": [
       "group\n",
       "drug       [[AxesSubplot(0.125,0.125;0.775x0.755)]]\n",
       "placebo    [[AxesSubplot(0.125,0.125;0.775x0.755)]]\n",
       "dtype: object"
      ]
     },
     "execution_count": 10,
     "metadata": {},
     "output_type": "execute_result"
    },
    {
     "data": {
      "image/png": "[encoded data removed]",
      "text/plain": [
       "<matplotlib.figure.Figure at 0x116c7e400>"
      ]
     },
     "metadata": {},
     "output_type": "display_data"
    },
    {
     "data": {
      "image/png": "[encoded data removed]",
      "text/plain": [
       "<matplotlib.figure.Figure at 0x116d8a898>"
      ]
     },
     "metadata": {},
     "output_type": "display_data"
    }
   ],
   "source": [
    "trial_data.groupby('group').hist()"
   ]
  },
  {
   "cell_type": "code",
   "execution_count": 12,
   "metadata": {},
   "outputs": [],
   "source": [
    "iq = trial_data.iq.values"
   ]
  },
  {
   "cell_type": "code",
   "execution_count": 17,
   "metadata": {},
   "outputs": [
    {
     "data": {
      "text/plain": [
       "array([1, 1, 1, 1, 1, 1, 1, 1, 1, 1, 1, 1, 1, 1, 1, 1, 1, 1, 1, 1, 1, 1,\n",
       "       1, 1, 1, 1, 1, 1, 1, 1, 1, 1, 1, 1, 1, 1, 1, 1, 1, 1, 1, 1, 1, 1,\n",
       "       1, 1, 1, 0, 0, 0, 0, 0, 0, 0, 0, 0, 0, 0, 0, 0, 0, 0, 0, 0, 0, 0,\n",
       "       0, 0, 0, 0, 0, 0, 0, 0, 0, 0, 0, 0, 0, 0, 0, 0, 0, 0, 0, 0, 0, 0,\n",
       "       0])"
      ]
     },
     "execution_count": 17,
     "metadata": {},
     "output_type": "execute_result"
    }
   ],
   "source": [
    "treat = trial_data.group.replace({'drug':1,'placebo':0}).values\n",
    "treat"
   ]
  },
  {
   "cell_type": "code",
   "execution_count": 30,
   "metadata": {},
   "outputs": [],
   "source": [
    "with pm.Model() as drug_model:\n",
    "    ν = pm.HalfNormal('ν' , sd=10)\n",
    "    μ = pm.Normal('μ' , 100,sd=100, shape=2)\n",
    "    σ = pm.HalfCauchy('σ',3, shape =2)\n",
    "    diff = pm.Deterministic('diff', μ[1] - μ[0])\n",
    "    obs = pm.StudentT('obs',ν,mu=μ[treat], sd=σ[treat], observed = iq)"
   ]
  },
  {
   "cell_type": "code",
   "execution_count": 31,
   "metadata": {},
   "outputs": [
    {
     "name": "stderr",
     "output_type": "stream",
     "text": [
      "Auto-assigning NUTS sampler...\n",
      "Initializing NUTS using jitter+adapt_diag...\n",
      "Multiprocess sampling (2 chains in 2 jobs)\n",
      "NUTS: [σ, μ, ν]\n",
      "Sampling 2 chains: 100%|██████████| 6000/6000 [00:06<00:00, 929.41draws/s] \n"
     ]
    }
   ],
   "source": [
    "with drug_model:\n",
    "    trace = pm.sample(1000,tune=2000)"
   ]
  },
  {
   "cell_type": "code",
   "execution_count": 32,
   "metadata": {},
   "outputs": [
    {
     "data": {
      "text/html": [
       "<div>\n",
       "<style scoped>\n",
       "    .dataframe tbody tr th:only-of-type {\n",
       "        vertical-align: middle;\n",
       "    }\n",
       "\n",
       "    .dataframe tbody tr th {\n",
       "        vertical-align: top;\n",
       "    }\n",
       "\n",
       "    .dataframe thead th {\n",
       "        text-align: right;\n",
       "    }\n",
       "</style>\n",
       "<table border=\"1\" class=\"dataframe\">\n",
       "  <thead>\n",
       "    <tr style=\"text-align: right;\">\n",
       "      <th></th>\n",
       "      <th>mean</th>\n",
       "      <th>sd</th>\n",
       "      <th>mc_error</th>\n",
       "      <th>hpd_2.5</th>\n",
       "      <th>hpd_97.5</th>\n",
       "      <th>n_eff</th>\n",
       "      <th>Rhat</th>\n",
       "    </tr>\n",
       "  </thead>\n",
       "  <tbody>\n",
       "    <tr>\n",
       "      <th>μ__0</th>\n",
       "      <td>100.518</td>\n",
       "      <td>0.215</td>\n",
       "      <td>0.005</td>\n",
       "      <td>100.125</td>\n",
       "      <td>100.940</td>\n",
       "      <td>2092.669</td>\n",
       "      <td>1.000</td>\n",
       "    </tr>\n",
       "    <tr>\n",
       "      <th>μ__1</th>\n",
       "      <td>101.536</td>\n",
       "      <td>0.373</td>\n",
       "      <td>0.008</td>\n",
       "      <td>100.832</td>\n",
       "      <td>102.241</td>\n",
       "      <td>2173.038</td>\n",
       "      <td>1.000</td>\n",
       "    </tr>\n",
       "    <tr>\n",
       "      <th>ν</th>\n",
       "      <td>1.789</td>\n",
       "      <td>0.462</td>\n",
       "      <td>0.011</td>\n",
       "      <td>0.987</td>\n",
       "      <td>2.714</td>\n",
       "      <td>1392.790</td>\n",
       "      <td>1.000</td>\n",
       "    </tr>\n",
       "    <tr>\n",
       "      <th>σ__0</th>\n",
       "      <td>1.034</td>\n",
       "      <td>0.206</td>\n",
       "      <td>0.004</td>\n",
       "      <td>0.665</td>\n",
       "      <td>1.443</td>\n",
       "      <td>2098.035</td>\n",
       "      <td>1.000</td>\n",
       "    </tr>\n",
       "    <tr>\n",
       "      <th>σ__1</th>\n",
       "      <td>1.996</td>\n",
       "      <td>0.410</td>\n",
       "      <td>0.011</td>\n",
       "      <td>1.247</td>\n",
       "      <td>2.848</td>\n",
       "      <td>1367.276</td>\n",
       "      <td>1.001</td>\n",
       "    </tr>\n",
       "    <tr>\n",
       "      <th>diff</th>\n",
       "      <td>1.019</td>\n",
       "      <td>0.431</td>\n",
       "      <td>0.009</td>\n",
       "      <td>0.174</td>\n",
       "      <td>1.841</td>\n",
       "      <td>2309.833</td>\n",
       "      <td>1.000</td>\n",
       "    </tr>\n",
       "  </tbody>\n",
       "</table>\n",
       "</div>"
      ],
      "text/plain": [
       "         mean     sd  mc_error  hpd_2.5  hpd_97.5     n_eff   Rhat\n",
       "μ__0  100.518  0.215     0.005  100.125   100.940  2092.669  1.000\n",
       "μ__1  101.536  0.373     0.008  100.832   102.241  2173.038  1.000\n",
       "ν       1.789  0.462     0.011    0.987     2.714  1392.790  1.000\n",
       "σ__0    1.034  0.206     0.004    0.665     1.443  2098.035  1.000\n",
       "σ__1    1.996  0.410     0.011    1.247     2.848  1367.276  1.001\n",
       "diff    1.019  0.431     0.009    0.174     1.841  2309.833  1.000"
      ]
     },
     "execution_count": 32,
     "metadata": {},
     "output_type": "execute_result"
    }
   ],
   "source": [
    "pm.summary(trace).round(3)"
   ]
  },
  {
   "cell_type": "code",
   "execution_count": 33,
   "metadata": {},
   "outputs": [
    {
     "data": {
      "text/plain": [
       "<matplotlib.axes._subplots.AxesSubplot at 0x11aa665f8>"
      ]
     },
     "execution_count": 33,
     "metadata": {},
     "output_type": "execute_result"
    },
    {
     "data": {
      "image/png": "[encoded data removed]",
      "text/plain": [
       "<matplotlib.figure.Figure at 0x11a8398d0>"
      ]
     },
     "metadata": {},
     "output_type": "display_data"
    }
   ],
   "source": [
    "pm.plot_posterior(trace, varnames=['diff'],ref_val=0)"
   ]
  },
  {
   "cell_type": "code",
   "execution_count": null,
   "metadata": {},
   "outputs": [],
   "source": []
  }
 ],
 "metadata": {
  "kernelspec": {
   "display_name": "Python 3",
   "language": "python",
   "name": "python3"
  },
  "language_info": {
   "codemirror_mode": {
    "name": "ipython",
    "version": 3
   },
   "file_extension": ".py",
   "mimetype": "text/x-python",
   "name": "python",
   "nbconvert_exporter": "python",
   "pygments_lexer": "ipython3",
   "version": "3.6.4"
  }
 },
 "nbformat": 4,
 "nbformat_minor": 2
}
