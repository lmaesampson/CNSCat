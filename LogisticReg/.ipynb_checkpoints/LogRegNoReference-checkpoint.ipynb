{
 "cells": [
  {
   "cell_type": "markdown",
   "metadata": {},
   "source": [
    "# This is the same thing as MultinomialLogReg.ipynb but instead of using malaria as a reference group each group is compared to every other group so {p0,...,p5} represent the probability of being in each group compared to every other and the max(p0,...,p5) determines the final diagnosis."
   ]
  },
  {
   "cell_type": "code",
   "execution_count": 2,
   "metadata": {},
   "outputs": [
    {
     "name": "stderr",
     "output_type": "stream",
     "text": [
      "/anaconda3/lib/python3.6/site-packages/sklearn/cross_validation.py:41: DeprecationWarning: This module was deprecated in version 0.18 in favor of the model_selection module into which all the refactored classes and functions are moved. Also note that the interface of the new CV iterators are different from that of this module. This module will be removed in 0.20.\n",
      "  \"This module will be removed in 0.20.\", DeprecationWarning)\n"
     ]
    }
   ],
   "source": [
    "%reset -f\n",
    "%matplotlib inline\n",
    "\n",
    "import numpy as np\n",
    "import pandas as pd\n",
    "import pymc3 as pm\n",
    "import seaborn as sns\n",
    "import os,sys,inspect\n",
    "currentdir = os.path.dirname(os.path.abspath(inspect.getfile(inspect.currentframe())))\n",
    "parentdir = os.path.dirname(currentdir)\n",
    "dirToInclude=parentdir +'/features/'\n",
    "sys.path.insert(0,dirToInclude)\n",
    "\n",
    "\n",
    "import pandas\n",
    "import numpy as np\n",
    "import pandas as pd\n",
    "from sklearn import cross_validation\n",
    "from sklearn import metrics\n",
    "from sklearn.metrics import roc_auc_score, log_loss, roc_auc_score, roc_curve, auc\n",
    "from sklearn.cross_validation import StratifiedKFold, ShuffleSplit, cross_val_score, train_test_split\n",
    "import matplotlib.pyplot as plt\n",
    "pd.set_option('display.max_columns', None)\n",
    "\n",
    "import scipy as sp\n",
    "import theano.tensor as t"
   ]
  },
  {
   "cell_type": "code",
   "execution_count": 3,
   "metadata": {},
   "outputs": [],
   "source": [
    "#Read in Stata datafile\n",
    "#data_stata = pd.io.stata.read_stata('../ProjectDef/cnsfinall2.dta')\n",
    "#Convert to .csv. Now you never need to do this again\n",
    "#data_stata.to_csv('../Data/cns_data.csv')"
   ]
  },
  {
   "cell_type": "code",
   "execution_count": 4,
   "metadata": {},
   "outputs": [],
   "source": [
    "data = pd.read_csv(\"../Data/cns_data.csv\")\n",
    "rf_results = pd.read_csv(\"Outputs/rf_results.csv\")"
   ]
  },
  {
   "cell_type": "code",
   "execution_count": 5,
   "metadata": {},
   "outputs": [],
   "source": [
    "#Adding a variable that is just 'month and day' - seems better to capture seasonality.\n",
    "data['month'] = pd.DatetimeIndex(data['incdate']).month\n",
    "data['day'] = pd.DatetimeIndex(data['incdate']).day\n",
    "data['monthday'] = data['month']*30+data['day']"
   ]
  },
  {
   "cell_type": "code",
   "execution_count": 6,
   "metadata": {},
   "outputs": [],
   "source": [
    "var = data.loc[:,['glasgtot','blanttot','clinjaund','clinhepato','clinspleno','clinconv','clindehyd',\\\n",
    "                          'clinoedem','clinlymph','clinresp','clinablung','clincyan','clincapref','clincoldext',\\\n",
    "                         'clinearinf','clinanemia','clintonsil','clinorcand','clinhemmor','clinaids',\\\n",
    "                         'abdpain','vom','diar','head','muscle','conv',\\\n",
    "                         'sex','ageyrs','agemth','incdate',\\\n",
    "                         'temp','card','resp','sbp','dbp','weight','height','muac',\\\n",
    "                          'mhhosp', 'mhdevsp', 'mhsickle', 'mhchronstat',\\\n",
    "                         'monthday','dimain', \\\n",
    "                         'incirrit', 'inchead', 'incphoto',\\\n",
    "                         'incfont', 'incneuro' , 'incseiza', 'incseizh',\\\n",
    "                          'incpurp','diag']] #This is the final diagnosis - will be the 'label'\n"
   ]
  },
  {
   "cell_type": "code",
   "execution_count": null,
   "metadata": {},
   "outputs": [],
   "source": []
  },
  {
   "cell_type": "code",
   "execution_count": 7,
   "metadata": {},
   "outputs": [],
   "source": [
    "#Convert the date into a useful value. This just counts the days from the beginning of the dataset \n",
    "var['incdate'] = pd.to_datetime(var['incdate'])\n",
    "var['date'] = (var['incdate'] - var['incdate'].min())  / np.timedelta64(1,'D')\n",
    "\n",
    "#Mapping yes/no to 1/0\n",
    "var['clinjaund'] = var.clinjaund.map({'Yes': 1, 'No': 0})\n",
    "var['clinhepato'] = var.clinhepato.map({'Yes': 1, 'No': 0})\n",
    "var['clinspleno'] = var.clinspleno.map({'Yes': 1, 'No': 0})\n",
    "var['clinconv'] = var.clinconv.map({'Yes': 1, 'No': 0})\n",
    "var['clindehyd'] = var.clindehyd.map({'Yes': 1, 'No': 0})\n",
    "var['clinoedem'] = var.clinoedem.map({'Yes': 1, 'No': 0})\n",
    "var['clinlymph'] = var.clinlymph.map({'Yes': 1, 'No': 0})\n",
    "var['clinresp'] = var.clinresp.map({'Yes': 1, 'No': 0})\n",
    "var['clinablung'] = var.clinablung.map({'Yes': 1, 'No': 0})\n",
    "var['clincyan'] = var.clincyan.map({'Yes': 1, 'No': 0})\n",
    "var['clincapref'] = var.clincapref.map({'Yes': 1, 'No': 0})\n",
    "var['clincoldext'] = var.clincoldext.map({'Yes': 1, 'No': 0})\n",
    "var['clinearinf'] = var.clinearinf.map({'Yes': 1, 'No': 0})\n",
    "var['clintonsil'] = var.clintonsil.map({'Yes': 1, 'No': 0})\n",
    "var['clinorcand'] = var.clinorcand.map({'Yes': 1, 'No': 0})\n",
    "var['clinhemmor'] = var.clinhemmor.map({'Yes': 1, 'No': 0})\n",
    "var['clinaids'] = var.clinaids.map({'Yes': 1, 'No': 0})\n",
    "var['vom'] = var.vom.map({'Yes': 1, 'No': 0})\n",
    "var['diar'] = var.diar.map({'Yes': 1, 'No': 0})\n",
    "var['headache'] = var['head'] #Since 'head' is a function\n",
    "var['conv'] = var.conv.map({'Yes': 1, 'No': 0})\n",
    "var['ageym'] = var.ageyrs.astype(float)*12.\n",
    "var.agemth = var.agemth.astype(float)\n",
    "var['age'] = var.ageym + var.agemth\n",
    "\n",
    "\n",
    "#Medical history variables\n",
    "var['mhhosp'] = var.mhhosp.map({'Yes': 1, 'No':0})\n",
    "\n",
    "\n",
    "#some slightly more compliated mappings\n",
    "var['abdpain'] = var.abdpain.map({\"Don't know\":0, 'No':0, 'Yes':1, 'Not applicable':np.nan})\n",
    "var['headache'] = var.headache.map({\"Don't know\":0, 'No':0, 'Yes':1, 'Not applicable':0})\n",
    "var['muscle'] = var.muscle.map({\"Don't know\":0, 'No':0, 'Yes':1, 'Not applicable':np.nan})\n",
    "\n",
    "var['dimain'] = var.dimain.map({\"Cerebral Malaria\":0, \"Meningoencephalitis\":1, \"Meningitis\":2.,\\\n",
    "                                       \"Other\":3})\n",
    "\n",
    "var['mhdevsp'] = var.mhdevsp.map({'OTHER':1, 'GLOBAL DEVELOPMENTAL DELAY':1, 'HYDROCEPHALUS':1,\n",
    "       'HEARING LOSSES':1, 'MOTOR DEVELOPEMENTAL DELAY':1,\n",
    "       'SPEECH DEVELOPEMENTAL DELAY':1})\n",
    "\n",
    "#Mapping of inclusion variables 6-8 MLW\n",
    "var['incirrit'] = var.incirrit.map({\"Don't know\":0, 'No':0, 'Yes':1, 'Not applicable':0})\n",
    "var['inchead'] = var.inchead.map({\"Don't know\":0, 'No':0, 'Yes':1, 'Not applicable':0})\n",
    "var['incphoto'] = var.incphoto.map({\"Don't know\":0, 'No':0, 'Yes':1, 'Not applicable':0})\n",
    "var['incfont'] = var.incfont.map({\"Don't know\":0, 'No':0, 'Yes':1, 'Not applicable':0})\n",
    "var['incneuro'] = var.incneuro.map({\"Don't know\":0, 'No':0, 'Yes':1, 'Not applicable':0})\n",
    "var['incseiza'] = var.incseiza.map({\"Don't know\":0, 'No':0, 'Yes':1, 'Not applicable':0})\n",
    "var['incseizh'] = var.incseizh.map({\"Don't know\":0, 'No':0, 'Yes':1, 'Not applicable':0})\n",
    "var['incpurp'] = var.incpurp.map({\"Don't know\":0, 'No':0, 'Yes':1, 'Not applicable':0})\n",
    "\n",
    "\n",
    "#To begin simply, I'll just separate malaria from bacterial to avoid multinomial\n",
    "var['diag'] = var.diag.map({'malaria':0, 'cereb malaria':0,'virus-malaria':0,\\\n",
    "                                    'virus-bacteria':1, 'bacteremia':1,'bact meningitis':1,\\\n",
    "                                    'virus-other':2,'virus':2,'malaria-bacterial':3,\\\n",
    "                                    'tb':4,'crypto':4, '0.0':5})"
   ]
  },
  {
   "cell_type": "code",
   "execution_count": 8,
   "metadata": {},
   "outputs": [],
   "source": [
    "#A lot of these have very few actual answers. i.e., 'headache.' What happens if you map 'nan' to 'No'?\n",
    "#This is probably something we'll want to play around with.\n",
    "values = {'clinjaund':0,'clinhepato':0,'clinaids':0,'clinhemmor':0,'clinorcand':0,'clintonsil':0,'clinearinf':0,\\\n",
    "          'clinresp':0,'clinlymph':0,'clindehyd':0,'clinoedem':0,'clinablung':0,'clincyan':0,'clincapref':0,\n",
    "          'clincoldext':0, 'mhchronstat':0, 'mhdevsp':0,\\\n",
    "         'conv':0,'abdpain':0,'vom':0,'diar':0,'headache':0,'muscle':0}\n",
    "var = var.fillna(value=values)"
   ]
  },
  {
   "cell_type": "code",
   "execution_count": 9,
   "metadata": {},
   "outputs": [],
   "source": [
    "#You really shouldn't use the initial diagnosis as a continuous variable ,\n",
    "#you need to map it into a set of yes/no question.\n",
    "var['CMalaria'] = var.dimain.map({0:1,1:0,2:0,3:0})\n",
    "var['Enceph'] = var.dimain.map({0:0,1:1,2:0,3:0})\n",
    "var['Mening'] = var.dimain.map({0:0,1:0,2:1,3:0})\n",
    "var['Other'] = var.dimain.map({0:0,1:0,2:0,3:1})\n"
   ]
  },
  {
   "cell_type": "code",
   "execution_count": null,
   "metadata": {},
   "outputs": [],
   "source": []
  },
  {
   "cell_type": "code",
   "execution_count": 10,
   "metadata": {
    "scrolled": true
   },
   "outputs": [],
   "source": [
    "#NB, overwriting var with data exported from another notebook, delete unessecary code above\n",
    "var = rf_results\n",
    "#Keep only what we are using\n",
    "var = var.loc[:,['CMalaria','Mening','Enceph','glasgtot','sbp','diag','patientid']]\n",
    "#var = var.loc[:,['CMalaria','Mening','Enceph','glasgtot','sbp','diag']]"
   ]
  },
  {
   "cell_type": "code",
   "execution_count": 11,
   "metadata": {},
   "outputs": [],
   "source": [
    "#Drop NaNs\n",
    "var = var.dropna()"
   ]
  },
  {
   "cell_type": "code",
   "execution_count": 12,
   "metadata": {},
   "outputs": [
    {
     "data": {
      "text/plain": [
       "(361, 7)"
      ]
     },
     "execution_count": 12,
     "metadata": {},
     "output_type": "execute_result"
    }
   ],
   "source": [
    "var.shape"
   ]
  },
  {
   "cell_type": "code",
   "execution_count": 13,
   "metadata": {},
   "outputs": [
    {
     "data": {
      "text/plain": [
       "(120, 7)"
      ]
     },
     "execution_count": 13,
     "metadata": {},
     "output_type": "execute_result"
    }
   ],
   "source": [
    "#Separate into train and test (same split as in random forest analysis)\n",
    "test = var[0:120]\n",
    "train = var[120:361]\n",
    "test.shape"
   ]
  },
  {
   "cell_type": "markdown",
   "metadata": {},
   "source": [
    "# Adapted from https://nbviewer.jupyter.org/gist/ceshine/c9a4308384e744f062f5"
   ]
  },
  {
   "cell_type": "code",
   "execution_count": 14,
   "metadata": {},
   "outputs": [],
   "source": [
    "y = train['diag'].copy()\n",
    "#y = y[np.isin(y,[0,1])] #logreg comparison of mal and bact groups\n",
    "y[y==1] = 10 # Set mal to 1 other to 0\n",
    "y[y==2] = 10\n",
    "y[y==3] = 10\n",
    "y[y==4] = 10\n",
    "y[y==5] = 10\n",
    "y[y==0] = 1\n",
    "y[y==10] = 0"
   ]
  },
  {
   "cell_type": "code",
   "execution_count": 15,
   "metadata": {},
   "outputs": [],
   "source": [
    "x = train[['CMalaria','Mening','Enceph','glasgtot','sbp']]\n",
    "x = x.loc[y.index]"
   ]
  },
  {
   "cell_type": "code",
   "execution_count": 16,
   "metadata": {},
   "outputs": [],
   "source": [
    "patientid = train['patientid']\n",
    "patientid = patientid[y.index]"
   ]
  },
  {
   "cell_type": "code",
   "execution_count": 17,
   "metadata": {},
   "outputs": [],
   "source": [
    "def tinvlogit(x):\n",
    "    return t.exp(x) / (1 + t.exp(x))"
   ]
  },
  {
   "cell_type": "code",
   "execution_count": 18,
   "metadata": {},
   "outputs": [],
   "source": [
    "with pm.Model() as logistic_model:\n",
    "\n",
    "    effects = pm.Normal('effects', mu=0, sd=10, shape=x.shape[1])\n",
    "    \n",
    "    # expected parameter\n",
    "    p = tinvlogit(t.sum(effects * x, axis=1))\n",
    "    \n",
    "    # Likelihood (sampling distribution) of observations\n",
    "    Y_obs = pm.Bernoulli('Y_obs', p=p, observed=y)\n",
    "\n"
   ]
  },
  {
   "cell_type": "code",
   "execution_count": 21,
   "metadata": {},
   "outputs": [
    {
     "name": "stderr",
     "output_type": "stream",
     "text": [
      "Auto-assigning NUTS sampler...\n",
      "Initializing NUTS using jitter+adapt_diag...\n",
      "Sequential sampling (1 chains in 1 job)\n",
      "NUTS: [effects]\n",
      "100%|██████████| 3000/3000 [00:14<00:00, 207.49it/s]\n",
      "Only one chain was sampled, this makes it impossible to run some convergence checks\n"
     ]
    }
   ],
   "source": [
    "with logistic_model:\n",
    "    trace = pm.sample(1000, tune=2000, chains=1)\n",
    "    \n",
    "#with logistic_model:\n",
    "#    # move the chain to the MAP which should be a good starting point\n",
    "#    start = pm.find_MAP()\n",
    "#    step = pm.NUTS(scaling=start)\n",
    "#    trace = pm.sample(5000, step, start)"
   ]
  },
  {
   "cell_type": "code",
   "execution_count": 22,
   "metadata": {
    "scrolled": true
   },
   "outputs": [
    {
     "data": {
      "text/plain": [
       "array([[<matplotlib.axes._subplots.AxesSubplot object at 0x115e919e8>,\n",
       "        <matplotlib.axes._subplots.AxesSubplot object at 0x1160bdf60>]],\n",
       "      dtype=object)"
      ]
     },
     "execution_count": 22,
     "metadata": {},
     "output_type": "execute_result"
    },
    {
     "data": {
      "image/png": "[encoded data removed]",
      "text/plain": [
       "<matplotlib.figure.Figure at 0x11604dbe0>"
      ]
     },
     "metadata": {},
     "output_type": "display_data"
    }
   ],
   "source": [
    "pm.traceplot(trace)"
   ]
  },
  {
   "cell_type": "code",
   "execution_count": 23,
   "metadata": {},
   "outputs": [],
   "source": [
    "new_y = test['diag']\n"
   ]
  },
  {
   "cell_type": "code",
   "execution_count": 24,
   "metadata": {},
   "outputs": [],
   "source": [
    "new_x = test[['CMalaria','Mening','Enceph','glasgtot','sbp']]"
   ]
  },
  {
   "cell_type": "code",
   "execution_count": 25,
   "metadata": {},
   "outputs": [],
   "source": [
    "new_patientid = test['patientid']\n"
   ]
  },
  {
   "cell_type": "code",
   "execution_count": 26,
   "metadata": {},
   "outputs": [],
   "source": [
    "def invlogit(x):\n",
    "    return np.exp(x) / (1 + np.exp(x))"
   ]
  },
  {
   "cell_type": "code",
   "execution_count": 41,
   "metadata": {},
   "outputs": [
    {
     "data": {
      "text/plain": [
       "(120,)"
      ]
     },
     "execution_count": 41,
     "metadata": {},
     "output_type": "execute_result"
    }
   ],
   "source": [
    "eta = np.zeros(new_x.shape[0]) #Generate log odds of bacterial by averaging posterior\n",
    "for row in trace['effects'][:,None,:]:\n",
    "    row=row[0]\n",
    "    eta = np.add(eta, np.dot(new_x, row.transpose()))\n",
    "eta = np.divide(eta, trace['effects'][:,None,:].shape[0])\n",
    "np.add(eta, np.dot(new_x, row.transpose())).shape"
   ]
  },
  {
   "cell_type": "code",
   "execution_count": 377,
   "metadata": {},
   "outputs": [
    {
     "data": {
      "text/plain": [
       "array([0.69922205, 0.71458293, 0.72215961, 0.72203382, 0.70766219,\n",
       "       0.71494077, 0.01489766, 0.06228226, 0.74355834, 0.06236285,\n",
       "       0.06227494, 0.01388197, 0.72198349, 0.06229691, 0.71677685,\n",
       "       0.01336197, 0.01336197, 0.06232621, 0.07381391, 0.01344154])"
      ]
     },
     "execution_count": 377,
     "metadata": {},
     "output_type": "execute_result"
    }
   ],
   "source": [
    "p = invlogit(eta) #probability of malaria infection\n",
    "\n",
    "p[:20]"
   ]
  },
  {
   "cell_type": "code",
   "execution_count": 378,
   "metadata": {},
   "outputs": [],
   "source": [
    "prediction = pd.DataFrame({'p_mal':p}) #build df to visualize results\n",
    "prediction['pred_mal'] = (prediction['p_mal'] > .5) * 1"
   ]
  },
  {
   "cell_type": "code",
   "execution_count": 379,
   "metadata": {},
   "outputs": [
    {
     "data": {
      "text/html": [
       "<div>\n",
       "<style scoped>\n",
       "    .dataframe tbody tr th:only-of-type {\n",
       "        vertical-align: middle;\n",
       "    }\n",
       "\n",
       "    .dataframe tbody tr th {\n",
       "        vertical-align: top;\n",
       "    }\n",
       "\n",
       "    .dataframe thead th {\n",
       "        text-align: right;\n",
       "    }\n",
       "</style>\n",
       "<table border=\"1\" class=\"dataframe\">\n",
       "  <thead>\n",
       "    <tr style=\"text-align: right;\">\n",
       "      <th></th>\n",
       "      <th>p_mal</th>\n",
       "      <th>pred_mal</th>\n",
       "      <th>diag</th>\n",
       "      <th>CMalaria</th>\n",
       "      <th>Enceph</th>\n",
       "      <th>Mening</th>\n",
       "      <th>glasgtot</th>\n",
       "      <th>sbp</th>\n",
       "      <th>patientid</th>\n",
       "    </tr>\n",
       "  </thead>\n",
       "  <tbody>\n",
       "    <tr>\n",
       "      <th>0</th>\n",
       "      <td>0.699222</td>\n",
       "      <td>1</td>\n",
       "      <td>0.0</td>\n",
       "      <td>1.0</td>\n",
       "      <td>0.0</td>\n",
       "      <td>0.0</td>\n",
       "      <td>9.0</td>\n",
       "      <td>86.0</td>\n",
       "      <td>244.0</td>\n",
       "    </tr>\n",
       "    <tr>\n",
       "      <th>1</th>\n",
       "      <td>0.714583</td>\n",
       "      <td>1</td>\n",
       "      <td>0.0</td>\n",
       "      <td>1.0</td>\n",
       "      <td>0.0</td>\n",
       "      <td>0.0</td>\n",
       "      <td>7.0</td>\n",
       "      <td>94.0</td>\n",
       "      <td>100.0</td>\n",
       "    </tr>\n",
       "    <tr>\n",
       "      <th>2</th>\n",
       "      <td>0.722160</td>\n",
       "      <td>1</td>\n",
       "      <td>5.0</td>\n",
       "      <td>1.0</td>\n",
       "      <td>0.0</td>\n",
       "      <td>0.0</td>\n",
       "      <td>6.0</td>\n",
       "      <td>101.0</td>\n",
       "      <td>66.0</td>\n",
       "    </tr>\n",
       "    <tr>\n",
       "      <th>3</th>\n",
       "      <td>0.722034</td>\n",
       "      <td>1</td>\n",
       "      <td>0.0</td>\n",
       "      <td>1.0</td>\n",
       "      <td>0.0</td>\n",
       "      <td>0.0</td>\n",
       "      <td>6.0</td>\n",
       "      <td>96.0</td>\n",
       "      <td>432.0</td>\n",
       "    </tr>\n",
       "    <tr>\n",
       "      <th>4</th>\n",
       "      <td>0.707662</td>\n",
       "      <td>1</td>\n",
       "      <td>0.0</td>\n",
       "      <td>1.0</td>\n",
       "      <td>0.0</td>\n",
       "      <td>0.0</td>\n",
       "      <td>8.0</td>\n",
       "      <td>117.0</td>\n",
       "      <td>127.0</td>\n",
       "    </tr>\n",
       "  </tbody>\n",
       "</table>\n",
       "</div>"
      ],
      "text/plain": [
       "      p_mal  pred_mal  diag  CMalaria  Enceph  Mening  glasgtot    sbp  \\\n",
       "0  0.699222         1   0.0       1.0     0.0     0.0       9.0   86.0   \n",
       "1  0.714583         1   0.0       1.0     0.0     0.0       7.0   94.0   \n",
       "2  0.722160         1   5.0       1.0     0.0     0.0       6.0  101.0   \n",
       "3  0.722034         1   0.0       1.0     0.0     0.0       6.0   96.0   \n",
       "4  0.707662         1   0.0       1.0     0.0     0.0       8.0  117.0   \n",
       "\n",
       "   patientid  \n",
       "0      244.0  \n",
       "1      100.0  \n",
       "2       66.0  \n",
       "3      432.0  \n",
       "4      127.0  "
      ]
     },
     "execution_count": 379,
     "metadata": {},
     "output_type": "execute_result"
    }
   ],
   "source": [
    "prediction[\"diag\"] = new_y.reset_index(drop=True)\n",
    "prediction[\"CMalaria\"] = new_x.reset_index(drop=True)[\"CMalaria\"]\n",
    "prediction[\"Enceph\"] = new_x.reset_index(drop=True)[\"Enceph\"]\n",
    "prediction[\"Mening\"] = new_x.reset_index(drop=True)[\"Mening\"]\n",
    "prediction[\"glasgtot\"] = new_x.reset_index(drop=True)[\"glasgtot\"]\n",
    "prediction[\"sbp\"] = new_x.reset_index(drop=True)[\"sbp\"]\n",
    "prediction[\"patientid\"] = new_patientid.reset_index(drop=True)\n",
    "prediction.head(5) #observe pred_diag compared to diag to see difference between prediction and actual diagnosis"
   ]
  },
  {
   "cell_type": "code",
   "execution_count": 380,
   "metadata": {},
   "outputs": [],
   "source": [
    "#Now do bact"
   ]
  },
  {
   "cell_type": "code",
   "execution_count": 410,
   "metadata": {},
   "outputs": [],
   "source": [
    "y = train['diag'].copy()\n",
    "y[y==2] = 0\n",
    "y[y==3] = 0\n",
    "y[y==4] = 0\n",
    "y[y==5] = 0"
   ]
  },
  {
   "cell_type": "code",
   "execution_count": 384,
   "metadata": {},
   "outputs": [],
   "source": [
    "x = train[['CMalaria','Mening','Enceph','glasgtot','sbp']]\n",
    "x = x.loc[y.index]"
   ]
  },
  {
   "cell_type": "code",
   "execution_count": 385,
   "metadata": {},
   "outputs": [],
   "source": [
    "patientid = train['patientid']\n",
    "patientid = patientid[y.index]"
   ]
  },
  {
   "cell_type": "code",
   "execution_count": 386,
   "metadata": {},
   "outputs": [],
   "source": [
    "def tinvlogit(x):\n",
    "    return t.exp(x) / (1 + t.exp(x))"
   ]
  },
  {
   "cell_type": "code",
   "execution_count": 391,
   "metadata": {},
   "outputs": [],
   "source": [
    "with pm.Model() as logistic_model:\n",
    "\n",
    "    effects = pm.Normal('effects', mu=0, sd=10, shape=x.shape[1])\n",
    "    \n",
    "    # expected parameter\n",
    "    p = tinvlogit(t.sum(effects * x, axis=1))\n",
    "    \n",
    "    # Likelihood (sampling distribution) of observations\n",
    "    Y_obs = pm.Bernoulli('Y_obs', p=p, observed=y)\n",
    "\n"
   ]
  },
  {
   "cell_type": "code",
   "execution_count": 392,
   "metadata": {
    "scrolled": true
   },
   "outputs": [
    {
     "name": "stderr",
     "output_type": "stream",
     "text": [
      "Auto-assigning NUTS sampler...\n",
      "Initializing NUTS using jitter+adapt_diag...\n",
      "Sequential sampling (1 chains in 1 job)\n",
      "NUTS: [effects]\n",
      "100%|██████████| 3000/3000 [00:14<00:00, 211.48it/s]\n",
      "Only one chain was sampled, this makes it impossible to run some convergence checks\n"
     ]
    }
   ],
   "source": [
    "with logistic_model:\n",
    "    trace = pm.sample(1000, tune=2000, chains=1)\n",
    "    \n",
    "#with logistic_model:\n",
    "#    # move the chain to the MAP which should be a good starting point\n",
    "#    start = pm.find_MAP()\n",
    "#    step = pm.NUTS(scaling=start)\n",
    "#    trace = pm.sample(5000, step, start)"
   ]
  },
  {
   "cell_type": "code",
   "execution_count": 393,
   "metadata": {},
   "outputs": [],
   "source": [
    "new_y = test['diag']"
   ]
  },
  {
   "cell_type": "code",
   "execution_count": 394,
   "metadata": {},
   "outputs": [],
   "source": [
    "new_x = test[['CMalaria','Mening','Enceph','glasgtot','sbp']]"
   ]
  },
  {
   "cell_type": "code",
   "execution_count": 395,
   "metadata": {},
   "outputs": [],
   "source": [
    "new_patientid = test['patientid']"
   ]
  },
  {
   "cell_type": "code",
   "execution_count": 396,
   "metadata": {},
   "outputs": [],
   "source": [
    "def invlogit(x):\n",
    "    return np.exp(x) / (1 + np.exp(x))"
   ]
  },
  {
   "cell_type": "code",
   "execution_count": 397,
   "metadata": {},
   "outputs": [
    {
     "data": {
      "text/plain": [
       "array([-3.38827631, -3.5597377 , -3.69638938, -3.61152108, -3.93229585,\n",
       "       -3.79736896, -2.74834923, -0.54669465, -3.69897655, -0.73340492,\n",
       "       -0.52972099, -2.91636106, -3.57757375, -0.58064197, -5.01947255,\n",
       "       -2.60997277, -2.60997277, -0.64853661, -0.5510066 , -3.4247085 ])"
      ]
     },
     "execution_count": 397,
     "metadata": {},
     "output_type": "execute_result"
    }
   ],
   "source": [
    "eta = np.zeros(new_x.shape[0]) #Generate log odds of viral by averaging posterior\n",
    "for row in trace['effects'][:,None,:]:\n",
    "    row=row[0]\n",
    "    eta = np.add(eta, np.dot(new_x, row.transpose()))\n",
    "eta = np.divide(eta, trace['effects'][:,None,:].shape[0])\n",
    "eta[:20]"
   ]
  },
  {
   "cell_type": "code",
   "execution_count": 398,
   "metadata": {},
   "outputs": [
    {
     "data": {
      "text/plain": [
       "array([0.03266387, 0.02765948, 0.02421218, 0.02630034, 0.0192219 ,\n",
       "       0.02193765, 0.06017995, 0.36663162, 0.02415113, 0.32444799,\n",
       "       0.37058197, 0.05135068, 0.02718381, 0.35878489, 0.00656463,\n",
       "       0.06849934, 0.06849934, 0.34331938, 0.3656309 , 0.03153212])"
      ]
     },
     "execution_count": 398,
     "metadata": {},
     "output_type": "execute_result"
    }
   ],
   "source": [
    "p = invlogit(eta) #probability of viral infection\n",
    "\n",
    "p[:20]"
   ]
  },
  {
   "cell_type": "code",
   "execution_count": 401,
   "metadata": {},
   "outputs": [
    {
     "data": {
      "text/html": [
       "<div>\n",
       "<style scoped>\n",
       "    .dataframe tbody tr th:only-of-type {\n",
       "        vertical-align: middle;\n",
       "    }\n",
       "\n",
       "    .dataframe tbody tr th {\n",
       "        vertical-align: top;\n",
       "    }\n",
       "\n",
       "    .dataframe thead th {\n",
       "        text-align: right;\n",
       "    }\n",
       "</style>\n",
       "<table border=\"1\" class=\"dataframe\">\n",
       "  <thead>\n",
       "    <tr style=\"text-align: right;\">\n",
       "      <th></th>\n",
       "      <th>p_mal</th>\n",
       "      <th>pred_mal</th>\n",
       "      <th>diag</th>\n",
       "      <th>CMalaria</th>\n",
       "      <th>Enceph</th>\n",
       "      <th>Mening</th>\n",
       "      <th>glasgtot</th>\n",
       "      <th>sbp</th>\n",
       "      <th>patientid</th>\n",
       "      <th>p_bact</th>\n",
       "      <th>pred_bact</th>\n",
       "    </tr>\n",
       "  </thead>\n",
       "  <tbody>\n",
       "    <tr>\n",
       "      <th>0</th>\n",
       "      <td>0.699222</td>\n",
       "      <td>1</td>\n",
       "      <td>0.0</td>\n",
       "      <td>1.0</td>\n",
       "      <td>0.0</td>\n",
       "      <td>0.0</td>\n",
       "      <td>9.0</td>\n",
       "      <td>86.0</td>\n",
       "      <td>244.0</td>\n",
       "      <td>0.032664</td>\n",
       "      <td>0</td>\n",
       "    </tr>\n",
       "    <tr>\n",
       "      <th>1</th>\n",
       "      <td>0.714583</td>\n",
       "      <td>1</td>\n",
       "      <td>0.0</td>\n",
       "      <td>1.0</td>\n",
       "      <td>0.0</td>\n",
       "      <td>0.0</td>\n",
       "      <td>7.0</td>\n",
       "      <td>94.0</td>\n",
       "      <td>100.0</td>\n",
       "      <td>0.027659</td>\n",
       "      <td>0</td>\n",
       "    </tr>\n",
       "    <tr>\n",
       "      <th>2</th>\n",
       "      <td>0.722160</td>\n",
       "      <td>1</td>\n",
       "      <td>5.0</td>\n",
       "      <td>1.0</td>\n",
       "      <td>0.0</td>\n",
       "      <td>0.0</td>\n",
       "      <td>6.0</td>\n",
       "      <td>101.0</td>\n",
       "      <td>66.0</td>\n",
       "      <td>0.024212</td>\n",
       "      <td>0</td>\n",
       "    </tr>\n",
       "    <tr>\n",
       "      <th>3</th>\n",
       "      <td>0.722034</td>\n",
       "      <td>1</td>\n",
       "      <td>0.0</td>\n",
       "      <td>1.0</td>\n",
       "      <td>0.0</td>\n",
       "      <td>0.0</td>\n",
       "      <td>6.0</td>\n",
       "      <td>96.0</td>\n",
       "      <td>432.0</td>\n",
       "      <td>0.026300</td>\n",
       "      <td>0</td>\n",
       "    </tr>\n",
       "    <tr>\n",
       "      <th>4</th>\n",
       "      <td>0.707662</td>\n",
       "      <td>1</td>\n",
       "      <td>0.0</td>\n",
       "      <td>1.0</td>\n",
       "      <td>0.0</td>\n",
       "      <td>0.0</td>\n",
       "      <td>8.0</td>\n",
       "      <td>117.0</td>\n",
       "      <td>127.0</td>\n",
       "      <td>0.019222</td>\n",
       "      <td>0</td>\n",
       "    </tr>\n",
       "  </tbody>\n",
       "</table>\n",
       "</div>"
      ],
      "text/plain": [
       "      p_mal  pred_mal  diag  CMalaria  Enceph  Mening  glasgtot    sbp  \\\n",
       "0  0.699222         1   0.0       1.0     0.0     0.0       9.0   86.0   \n",
       "1  0.714583         1   0.0       1.0     0.0     0.0       7.0   94.0   \n",
       "2  0.722160         1   5.0       1.0     0.0     0.0       6.0  101.0   \n",
       "3  0.722034         1   0.0       1.0     0.0     0.0       6.0   96.0   \n",
       "4  0.707662         1   0.0       1.0     0.0     0.0       8.0  117.0   \n",
       "\n",
       "   patientid    p_bact  pred_bact  \n",
       "0      244.0  0.032664          0  \n",
       "1      100.0  0.027659          0  \n",
       "2       66.0  0.024212          0  \n",
       "3      432.0  0.026300          0  \n",
       "4      127.0  0.019222          0  "
      ]
     },
     "execution_count": 401,
     "metadata": {},
     "output_type": "execute_result"
    }
   ],
   "source": [
    "prediction['p_bact'] = p\n",
    "prediction['pred_bact'] = (prediction['p_bact'] > .5) * 1\n",
    "prediction.head(5)"
   ]
  },
  {
   "cell_type": "code",
   "execution_count": 407,
   "metadata": {},
   "outputs": [],
   "source": [
    "# Now do vir"
   ]
  },
  {
   "cell_type": "code",
   "execution_count": 411,
   "metadata": {},
   "outputs": [],
   "source": [
    "y = train['diag'].copy()\n",
    "y[y==1] = 0\n",
    "y[y==3] = 0\n",
    "y[y==4] = 0\n",
    "y[y==5] = 0\n",
    "y[y==2] = 1"
   ]
  },
  {
   "cell_type": "code",
   "execution_count": 412,
   "metadata": {},
   "outputs": [],
   "source": [
    "x = train[['CMalaria','Mening','Enceph','glasgtot','sbp']]\n",
    "x = x.loc[y.index]"
   ]
  },
  {
   "cell_type": "code",
   "execution_count": 413,
   "metadata": {},
   "outputs": [],
   "source": [
    "patientid = train['patientid']\n",
    "patientid = patientid[y.index]"
   ]
  },
  {
   "cell_type": "code",
   "execution_count": 414,
   "metadata": {},
   "outputs": [],
   "source": [
    "def tinvlogit(x):\n",
    "    return t.exp(x) / (1 + t.exp(x))"
   ]
  },
  {
   "cell_type": "code",
   "execution_count": 431,
   "metadata": {},
   "outputs": [],
   "source": [
    "with pm.Model() as logistic_model:\n",
    "\n",
    "    effects = pm.Normal('effects', mu=0, sd=10, shape=x.shape[1])\n",
    "    \n",
    "    # expected parameter\n",
    "    p = tinvlogit(t.sum(effects * x, axis=1))\n",
    "    \n",
    "    # Likelihood (sampling distribution) of observations\n",
    "    Y_obs = pm.Bernoulli('Y_obs', p=p, observed=y)\n",
    "\n"
   ]
  },
  {
   "cell_type": "code",
   "execution_count": 432,
   "metadata": {
    "scrolled": true
   },
   "outputs": [
    {
     "name": "stderr",
     "output_type": "stream",
     "text": [
      "Auto-assigning NUTS sampler...\n",
      "Initializing NUTS using jitter+adapt_diag...\n",
      "Sequential sampling (1 chains in 1 job)\n",
      "NUTS: [effects]\n",
      "100%|██████████| 3000/3000 [00:17<00:00, 176.30it/s]\n",
      "Only one chain was sampled, this makes it impossible to run some convergence checks\n"
     ]
    }
   ],
   "source": [
    "with logistic_model:\n",
    "    trace = pm.sample(1000, tune=2000, chains=1)\n",
    "    \n",
    "#with logistic_model:\n",
    "#    # move the chain to the MAP which should be a good starting point\n",
    "#    start = pm.find_MAP()\n",
    "#    step = pm.NUTS(scaling=start)\n",
    "#    trace = pm.sample(5000, step, start)"
   ]
  },
  {
   "cell_type": "code",
   "execution_count": 433,
   "metadata": {},
   "outputs": [],
   "source": [
    "new_y = test['diag']"
   ]
  },
  {
   "cell_type": "code",
   "execution_count": 434,
   "metadata": {},
   "outputs": [],
   "source": [
    "new_x = test[['CMalaria','Mening','Enceph','glasgtot','sbp']]"
   ]
  },
  {
   "cell_type": "code",
   "execution_count": 435,
   "metadata": {},
   "outputs": [],
   "source": [
    "new_patientid = test['patientid']"
   ]
  },
  {
   "cell_type": "code",
   "execution_count": 436,
   "metadata": {},
   "outputs": [],
   "source": [
    "def invlogit(x):\n",
    "    return np.exp(x) / (1 + np.exp(x))"
   ]
  },
  {
   "cell_type": "code",
   "execution_count": 438,
   "metadata": {},
   "outputs": [
    {
     "data": {
      "text/plain": [
       "array([ -5.03785247,  -5.08796816,  -5.22736729,  -5.03679849,\n",
       "        -6.09198181,  -5.62156079, -12.86844821,  -5.92088468,\n",
       "        -4.73083444,  -6.34013603,  -5.88277093, -13.5806077 ,\n",
       "        -4.96057097,  -5.9971122 ,  -8.36575144, -13.06007099,\n",
       "       -13.06007099,  -6.14956724,  -5.09332994, -14.88953142])"
      ]
     },
     "execution_count": 438,
     "metadata": {},
     "output_type": "execute_result"
    }
   ],
   "source": [
    "eta = np.zeros(new_x.shape[0]) #Generate log odds of viral by averaging posterior\n",
    "for row in trace['effects'][:,None,:]:\n",
    "    row=row[0]\n",
    "    eta = np.add(eta, np.dot(new_x, row.transpose()))\n",
    "eta = np.divide(eta, trace['effects'][:,None,:].shape[0])\n",
    "eta[:20]"
   ]
  },
  {
   "cell_type": "code",
   "execution_count": 439,
   "metadata": {},
   "outputs": [
    {
     "data": {
      "text/plain": [
       "array([6.44584731e-03, 6.13270258e-03, 5.33898046e-03, 6.45260083e-03,\n",
       "       2.25582350e-03, 3.60593837e-03, 2.57811824e-06, 2.67564738e-03,\n",
       "       8.74201222e-03, 1.76095581e-03, 2.77930578e-03, 1.26478430e-06,\n",
       "       6.96014168e-03, 2.47975618e-03, 2.32647968e-04, 2.12854244e-06,\n",
       "       2.12854244e-06, 2.12985928e-03, 6.10010846e-03, 3.41631980e-07])"
      ]
     },
     "execution_count": 439,
     "metadata": {},
     "output_type": "execute_result"
    }
   ],
   "source": [
    "p = invlogit(eta) #probability of viral infection\n",
    "\n",
    "p[:20]"
   ]
  },
  {
   "cell_type": "code",
   "execution_count": 440,
   "metadata": {},
   "outputs": [
    {
     "data": {
      "text/html": [
       "<div>\n",
       "<style scoped>\n",
       "    .dataframe tbody tr th:only-of-type {\n",
       "        vertical-align: middle;\n",
       "    }\n",
       "\n",
       "    .dataframe tbody tr th {\n",
       "        vertical-align: top;\n",
       "    }\n",
       "\n",
       "    .dataframe thead th {\n",
       "        text-align: right;\n",
       "    }\n",
       "</style>\n",
       "<table border=\"1\" class=\"dataframe\">\n",
       "  <thead>\n",
       "    <tr style=\"text-align: right;\">\n",
       "      <th></th>\n",
       "      <th>p_mal</th>\n",
       "      <th>pred_mal</th>\n",
       "      <th>diag</th>\n",
       "      <th>CMalaria</th>\n",
       "      <th>Enceph</th>\n",
       "      <th>Mening</th>\n",
       "      <th>glasgtot</th>\n",
       "      <th>sbp</th>\n",
       "      <th>patientid</th>\n",
       "      <th>p_bact</th>\n",
       "      <th>pred_bact</th>\n",
       "      <th>p_vir</th>\n",
       "      <th>pred_vir</th>\n",
       "    </tr>\n",
       "  </thead>\n",
       "  <tbody>\n",
       "    <tr>\n",
       "      <th>0</th>\n",
       "      <td>0.699222</td>\n",
       "      <td>1</td>\n",
       "      <td>0.0</td>\n",
       "      <td>1.0</td>\n",
       "      <td>0.0</td>\n",
       "      <td>0.0</td>\n",
       "      <td>9.0</td>\n",
       "      <td>86.0</td>\n",
       "      <td>244.0</td>\n",
       "      <td>0.032664</td>\n",
       "      <td>0</td>\n",
       "      <td>0.006446</td>\n",
       "      <td>0</td>\n",
       "    </tr>\n",
       "    <tr>\n",
       "      <th>1</th>\n",
       "      <td>0.714583</td>\n",
       "      <td>1</td>\n",
       "      <td>0.0</td>\n",
       "      <td>1.0</td>\n",
       "      <td>0.0</td>\n",
       "      <td>0.0</td>\n",
       "      <td>7.0</td>\n",
       "      <td>94.0</td>\n",
       "      <td>100.0</td>\n",
       "      <td>0.027659</td>\n",
       "      <td>0</td>\n",
       "      <td>0.006133</td>\n",
       "      <td>0</td>\n",
       "    </tr>\n",
       "    <tr>\n",
       "      <th>2</th>\n",
       "      <td>0.722160</td>\n",
       "      <td>1</td>\n",
       "      <td>5.0</td>\n",
       "      <td>1.0</td>\n",
       "      <td>0.0</td>\n",
       "      <td>0.0</td>\n",
       "      <td>6.0</td>\n",
       "      <td>101.0</td>\n",
       "      <td>66.0</td>\n",
       "      <td>0.024212</td>\n",
       "      <td>0</td>\n",
       "      <td>0.005339</td>\n",
       "      <td>0</td>\n",
       "    </tr>\n",
       "    <tr>\n",
       "      <th>3</th>\n",
       "      <td>0.722034</td>\n",
       "      <td>1</td>\n",
       "      <td>0.0</td>\n",
       "      <td>1.0</td>\n",
       "      <td>0.0</td>\n",
       "      <td>0.0</td>\n",
       "      <td>6.0</td>\n",
       "      <td>96.0</td>\n",
       "      <td>432.0</td>\n",
       "      <td>0.026300</td>\n",
       "      <td>0</td>\n",
       "      <td>0.006453</td>\n",
       "      <td>0</td>\n",
       "    </tr>\n",
       "    <tr>\n",
       "      <th>4</th>\n",
       "      <td>0.707662</td>\n",
       "      <td>1</td>\n",
       "      <td>0.0</td>\n",
       "      <td>1.0</td>\n",
       "      <td>0.0</td>\n",
       "      <td>0.0</td>\n",
       "      <td>8.0</td>\n",
       "      <td>117.0</td>\n",
       "      <td>127.0</td>\n",
       "      <td>0.019222</td>\n",
       "      <td>0</td>\n",
       "      <td>0.002256</td>\n",
       "      <td>0</td>\n",
       "    </tr>\n",
       "  </tbody>\n",
       "</table>\n",
       "</div>"
      ],
      "text/plain": [
       "      p_mal  pred_mal  diag  CMalaria  Enceph  Mening  glasgtot    sbp  \\\n",
       "0  0.699222         1   0.0       1.0     0.0     0.0       9.0   86.0   \n",
       "1  0.714583         1   0.0       1.0     0.0     0.0       7.0   94.0   \n",
       "2  0.722160         1   5.0       1.0     0.0     0.0       6.0  101.0   \n",
       "3  0.722034         1   0.0       1.0     0.0     0.0       6.0   96.0   \n",
       "4  0.707662         1   0.0       1.0     0.0     0.0       8.0  117.0   \n",
       "\n",
       "   patientid    p_bact  pred_bact     p_vir  pred_vir  \n",
       "0      244.0  0.032664          0  0.006446         0  \n",
       "1      100.0  0.027659          0  0.006133         0  \n",
       "2       66.0  0.024212          0  0.005339         0  \n",
       "3      432.0  0.026300          0  0.006453         0  \n",
       "4      127.0  0.019222          0  0.002256         0  "
      ]
     },
     "execution_count": 440,
     "metadata": {},
     "output_type": "execute_result"
    }
   ],
   "source": [
    "prediction['p_vir'] = p\n",
    "prediction['pred_vir'] = (prediction['p_vir'] > .5) * 1\n",
    "prediction.head(5)"
   ]
  },
  {
   "cell_type": "code",
   "execution_count": 441,
   "metadata": {},
   "outputs": [],
   "source": [
    "#do mal&bact"
   ]
  },
  {
   "cell_type": "code",
   "execution_count": 442,
   "metadata": {},
   "outputs": [],
   "source": [
    "y = train['diag'].copy()\n",
    "y[y==1] = 0\n",
    "y[y==2] = 0\n",
    "y[y==4] = 0\n",
    "y[y==5] = 0\n",
    "y[y==3] = 1"
   ]
  },
  {
   "cell_type": "code",
   "execution_count": 443,
   "metadata": {},
   "outputs": [],
   "source": [
    "x = train[['CMalaria','Mening','Enceph','glasgtot','sbp']]\n",
    "x = x.loc[y.index]"
   ]
  },
  {
   "cell_type": "code",
   "execution_count": 444,
   "metadata": {},
   "outputs": [],
   "source": [
    "patientid = train['patientid']\n",
    "patientid = patientid[y.index]"
   ]
  },
  {
   "cell_type": "code",
   "execution_count": 445,
   "metadata": {},
   "outputs": [],
   "source": [
    "def tinvlogit(x):\n",
    "    return t.exp(x) / (1 + t.exp(x))"
   ]
  },
  {
   "cell_type": "code",
   "execution_count": 446,
   "metadata": {},
   "outputs": [],
   "source": [
    "with pm.Model() as logistic_model:\n",
    "\n",
    "    effects = pm.Normal('effects', mu=0, sd=10, shape=x.shape[1])\n",
    "    \n",
    "    # expected parameter\n",
    "    p = tinvlogit(t.sum(effects * x, axis=1))\n",
    "    \n",
    "    # Likelihood (sampling distribution) of observations\n",
    "    Y_obs = pm.Bernoulli('Y_obs', p=p, observed=y)\n",
    "\n"
   ]
  },
  {
   "cell_type": "code",
   "execution_count": 447,
   "metadata": {
    "scrolled": true
   },
   "outputs": [
    {
     "name": "stderr",
     "output_type": "stream",
     "text": [
      "Auto-assigning NUTS sampler...\n",
      "Initializing NUTS using jitter+adapt_diag...\n",
      "Sequential sampling (1 chains in 1 job)\n",
      "NUTS: [effects]\n",
      "100%|██████████| 3000/3000 [00:13<00:00, 217.23it/s]\n",
      "Only one chain was sampled, this makes it impossible to run some convergence checks\n"
     ]
    }
   ],
   "source": [
    "with logistic_model:\n",
    "    trace = pm.sample(1000, tune=2000, chains=1)\n",
    "    \n",
    "#with logistic_model:\n",
    "#    # move the chain to the MAP which should be a good starting point\n",
    "#    start = pm.find_MAP()\n",
    "#    step = pm.NUTS(scaling=start)\n",
    "#    trace = pm.sample(5000, step, start)"
   ]
  },
  {
   "cell_type": "code",
   "execution_count": 448,
   "metadata": {},
   "outputs": [],
   "source": [
    "new_y = test['diag']"
   ]
  },
  {
   "cell_type": "code",
   "execution_count": 449,
   "metadata": {},
   "outputs": [],
   "source": [
    "new_x = test[['CMalaria','Mening','Enceph','glasgtot','sbp']]"
   ]
  },
  {
   "cell_type": "code",
   "execution_count": 450,
   "metadata": {},
   "outputs": [],
   "source": [
    "new_patientid = test['patientid']"
   ]
  },
  {
   "cell_type": "code",
   "execution_count": 451,
   "metadata": {},
   "outputs": [],
   "source": [
    "def invlogit(x):\n",
    "    return np.exp(x) / (1 + np.exp(x))"
   ]
  },
  {
   "cell_type": "code",
   "execution_count": 452,
   "metadata": {},
   "outputs": [
    {
     "data": {
      "text/plain": [
       "array([ -3.5916993 ,  -3.42528297,  -3.37920784,  -3.31731943,\n",
       "        -3.84268855,  -3.59857051, -11.67612284, -12.62260936,\n",
       "        -2.94391811, -12.75876386, -12.61023168, -12.09009282,\n",
       "        -3.29256407, -12.64736472,  -4.48976362, -12.01239112,\n",
       "       -12.01239112, -12.69687545, -11.89712647, -12.60651985])"
      ]
     },
     "execution_count": 452,
     "metadata": {},
     "output_type": "execute_result"
    }
   ],
   "source": [
    "eta = np.zeros(new_x.shape[0]) #Generate log odds of viral by averaging posterior\n",
    "for row in trace['effects'][:,None,:]:\n",
    "    row=row[0]\n",
    "    eta = np.add(eta, np.dot(new_x, row.transpose()))\n",
    "eta = np.divide(eta, trace['effects'][:,None,:].shape[0])\n",
    "eta[:20]"
   ]
  },
  {
   "cell_type": "code",
   "execution_count": 453,
   "metadata": {},
   "outputs": [
    {
     "data": {
      "text/plain": [
       "array([2.68127418e-02, 3.15145851e-02, 3.29516282e-02, 3.49817865e-02,\n",
       "       2.09860379e-02, 2.66340274e-02, 8.49416303e-06, 3.29662066e-06,\n",
       "       5.00247471e-02, 2.87698772e-06, 3.33767862e-06, 5.61483458e-06,\n",
       "       3.58271682e-02, 3.21601372e-06, 1.10987321e-02, 6.06851162e-06,\n",
       "       6.06851162e-06, 3.06066448e-06, 6.80989892e-06, 3.35009048e-06])"
      ]
     },
     "execution_count": 453,
     "metadata": {},
     "output_type": "execute_result"
    }
   ],
   "source": [
    "p = invlogit(eta) #probability of viral infection\n",
    "\n",
    "p[:20]"
   ]
  },
  {
   "cell_type": "code",
   "execution_count": 454,
   "metadata": {},
   "outputs": [
    {
     "data": {
      "text/html": [
       "<div>\n",
       "<style scoped>\n",
       "    .dataframe tbody tr th:only-of-type {\n",
       "        vertical-align: middle;\n",
       "    }\n",
       "\n",
       "    .dataframe tbody tr th {\n",
       "        vertical-align: top;\n",
       "    }\n",
       "\n",
       "    .dataframe thead th {\n",
       "        text-align: right;\n",
       "    }\n",
       "</style>\n",
       "<table border=\"1\" class=\"dataframe\">\n",
       "  <thead>\n",
       "    <tr style=\"text-align: right;\">\n",
       "      <th></th>\n",
       "      <th>p_mal</th>\n",
       "      <th>pred_mal</th>\n",
       "      <th>diag</th>\n",
       "      <th>CMalaria</th>\n",
       "      <th>Enceph</th>\n",
       "      <th>Mening</th>\n",
       "      <th>glasgtot</th>\n",
       "      <th>sbp</th>\n",
       "      <th>patientid</th>\n",
       "      <th>p_bact</th>\n",
       "      <th>pred_bact</th>\n",
       "      <th>p_vir</th>\n",
       "      <th>pred_vir</th>\n",
       "      <th>p_mal&amp;bact</th>\n",
       "      <th>pred_mal&amp;bact</th>\n",
       "    </tr>\n",
       "  </thead>\n",
       "  <tbody>\n",
       "    <tr>\n",
       "      <th>0</th>\n",
       "      <td>0.699222</td>\n",
       "      <td>1</td>\n",
       "      <td>0.0</td>\n",
       "      <td>1.0</td>\n",
       "      <td>0.0</td>\n",
       "      <td>0.0</td>\n",
       "      <td>9.0</td>\n",
       "      <td>86.0</td>\n",
       "      <td>244.0</td>\n",
       "      <td>0.032664</td>\n",
       "      <td>0</td>\n",
       "      <td>0.006446</td>\n",
       "      <td>0</td>\n",
       "      <td>0.026813</td>\n",
       "      <td>0</td>\n",
       "    </tr>\n",
       "    <tr>\n",
       "      <th>1</th>\n",
       "      <td>0.714583</td>\n",
       "      <td>1</td>\n",
       "      <td>0.0</td>\n",
       "      <td>1.0</td>\n",
       "      <td>0.0</td>\n",
       "      <td>0.0</td>\n",
       "      <td>7.0</td>\n",
       "      <td>94.0</td>\n",
       "      <td>100.0</td>\n",
       "      <td>0.027659</td>\n",
       "      <td>0</td>\n",
       "      <td>0.006133</td>\n",
       "      <td>0</td>\n",
       "      <td>0.031515</td>\n",
       "      <td>0</td>\n",
       "    </tr>\n",
       "    <tr>\n",
       "      <th>2</th>\n",
       "      <td>0.722160</td>\n",
       "      <td>1</td>\n",
       "      <td>5.0</td>\n",
       "      <td>1.0</td>\n",
       "      <td>0.0</td>\n",
       "      <td>0.0</td>\n",
       "      <td>6.0</td>\n",
       "      <td>101.0</td>\n",
       "      <td>66.0</td>\n",
       "      <td>0.024212</td>\n",
       "      <td>0</td>\n",
       "      <td>0.005339</td>\n",
       "      <td>0</td>\n",
       "      <td>0.032952</td>\n",
       "      <td>0</td>\n",
       "    </tr>\n",
       "    <tr>\n",
       "      <th>3</th>\n",
       "      <td>0.722034</td>\n",
       "      <td>1</td>\n",
       "      <td>0.0</td>\n",
       "      <td>1.0</td>\n",
       "      <td>0.0</td>\n",
       "      <td>0.0</td>\n",
       "      <td>6.0</td>\n",
       "      <td>96.0</td>\n",
       "      <td>432.0</td>\n",
       "      <td>0.026300</td>\n",
       "      <td>0</td>\n",
       "      <td>0.006453</td>\n",
       "      <td>0</td>\n",
       "      <td>0.034982</td>\n",
       "      <td>0</td>\n",
       "    </tr>\n",
       "    <tr>\n",
       "      <th>4</th>\n",
       "      <td>0.707662</td>\n",
       "      <td>1</td>\n",
       "      <td>0.0</td>\n",
       "      <td>1.0</td>\n",
       "      <td>0.0</td>\n",
       "      <td>0.0</td>\n",
       "      <td>8.0</td>\n",
       "      <td>117.0</td>\n",
       "      <td>127.0</td>\n",
       "      <td>0.019222</td>\n",
       "      <td>0</td>\n",
       "      <td>0.002256</td>\n",
       "      <td>0</td>\n",
       "      <td>0.020986</td>\n",
       "      <td>0</td>\n",
       "    </tr>\n",
       "  </tbody>\n",
       "</table>\n",
       "</div>"
      ],
      "text/plain": [
       "      p_mal  pred_mal  diag  CMalaria  Enceph  Mening  glasgtot    sbp  \\\n",
       "0  0.699222         1   0.0       1.0     0.0     0.0       9.0   86.0   \n",
       "1  0.714583         1   0.0       1.0     0.0     0.0       7.0   94.0   \n",
       "2  0.722160         1   5.0       1.0     0.0     0.0       6.0  101.0   \n",
       "3  0.722034         1   0.0       1.0     0.0     0.0       6.0   96.0   \n",
       "4  0.707662         1   0.0       1.0     0.0     0.0       8.0  117.0   \n",
       "\n",
       "   patientid    p_bact  pred_bact     p_vir  pred_vir  p_mal&bact  \\\n",
       "0      244.0  0.032664          0  0.006446         0    0.026813   \n",
       "1      100.0  0.027659          0  0.006133         0    0.031515   \n",
       "2       66.0  0.024212          0  0.005339         0    0.032952   \n",
       "3      432.0  0.026300          0  0.006453         0    0.034982   \n",
       "4      127.0  0.019222          0  0.002256         0    0.020986   \n",
       "\n",
       "   pred_mal&bact  \n",
       "0              0  \n",
       "1              0  \n",
       "2              0  \n",
       "3              0  \n",
       "4              0  "
      ]
     },
     "execution_count": 454,
     "metadata": {},
     "output_type": "execute_result"
    }
   ],
   "source": [
    "prediction['p_mal&bact'] = p\n",
    "prediction['pred_mal&bact'] = (prediction['p_mal&bact'] > .5) * 1\n",
    "prediction.head(5)"
   ]
  },
  {
   "cell_type": "code",
   "execution_count": 455,
   "metadata": {},
   "outputs": [],
   "source": [
    "#now do tbcrypto"
   ]
  },
  {
   "cell_type": "code",
   "execution_count": 456,
   "metadata": {},
   "outputs": [],
   "source": [
    "y = train['diag'].copy()\n",
    "y[y==1] = 0\n",
    "y[y==2] = 0\n",
    "y[y==3] = 0\n",
    "y[y==5] = 0\n",
    "y[y==4] = 1"
   ]
  },
  {
   "cell_type": "code",
   "execution_count": 457,
   "metadata": {},
   "outputs": [],
   "source": [
    "x = train[['CMalaria','Mening','Enceph','glasgtot','sbp']]\n",
    "x = x.loc[y.index]"
   ]
  },
  {
   "cell_type": "code",
   "execution_count": 458,
   "metadata": {},
   "outputs": [],
   "source": [
    "patientid = train['patientid']\n",
    "patientid = patientid[y.index]"
   ]
  },
  {
   "cell_type": "code",
   "execution_count": 459,
   "metadata": {},
   "outputs": [],
   "source": [
    "def tinvlogit(x):\n",
    "    return t.exp(x) / (1 + t.exp(x))"
   ]
  },
  {
   "cell_type": "code",
   "execution_count": 474,
   "metadata": {},
   "outputs": [],
   "source": [
    "with pm.Model() as logistic_model:\n",
    "\n",
    "    effects = pm.Normal('effects', mu=0, sd=10, shape=x.shape[1])\n",
    "    \n",
    "    # expected parameter\n",
    "    p = tinvlogit(t.sum(effects * x, axis=1))\n",
    "    \n",
    "    # Likelihood (sampling distribution) of observations\n",
    "    Y_obs = pm.Bernoulli('Y_obs', p=p, observed=y)\n",
    "\n"
   ]
  },
  {
   "cell_type": "code",
   "execution_count": 475,
   "metadata": {
    "scrolled": true
   },
   "outputs": [
    {
     "name": "stderr",
     "output_type": "stream",
     "text": [
      "Auto-assigning NUTS sampler...\n",
      "Initializing NUTS using jitter+adapt_diag...\n",
      "Sequential sampling (1 chains in 1 job)\n",
      "NUTS: [effects]\n",
      "100%|██████████| 3000/3000 [00:14<00:00, 211.11it/s]\n",
      "Only one chain was sampled, this makes it impossible to run some convergence checks\n"
     ]
    }
   ],
   "source": [
    "with logistic_model:\n",
    "    trace = pm.sample(1000, tune=2000, chains=1)\n",
    "    \n",
    "#with logistic_model:\n",
    "#    # move the chain to the MAP which should be a good starting point\n",
    "#    start = pm.find_MAP()\n",
    "#    step = pm.NUTS(scaling=start)\n",
    "#    trace = pm.sample(5000, step, start)"
   ]
  },
  {
   "cell_type": "code",
   "execution_count": 476,
   "metadata": {},
   "outputs": [],
   "source": [
    "new_y = test['diag']"
   ]
  },
  {
   "cell_type": "code",
   "execution_count": 477,
   "metadata": {},
   "outputs": [],
   "source": [
    "new_x = test[['CMalaria','Mening','Enceph','glasgtot','sbp']]"
   ]
  },
  {
   "cell_type": "code",
   "execution_count": 478,
   "metadata": {},
   "outputs": [],
   "source": [
    "new_patientid = test['patientid']"
   ]
  },
  {
   "cell_type": "code",
   "execution_count": 479,
   "metadata": {},
   "outputs": [],
   "source": [
    "def invlogit(x):\n",
    "    return np.exp(x) / (1 + np.exp(x))"
   ]
  },
  {
   "cell_type": "code",
   "execution_count": 480,
   "metadata": {},
   "outputs": [
    {
     "data": {
      "text/plain": [
       "array([-12.56612504, -12.12202246, -11.90643278, -11.89566342,\n",
       "       -12.40222833, -12.15217668, -11.63753338,  -4.13409823,\n",
       "       -11.2079708 ,  -4.15779083,  -4.13194435, -12.12471344,\n",
       "       -11.89135567,  -4.13840597, -12.30725557, -12.31876437,\n",
       "       -12.31876437,  -4.14702147,  -2.96999493, -12.4221503 ])"
      ]
     },
     "execution_count": 480,
     "metadata": {},
     "output_type": "execute_result"
    }
   ],
   "source": [
    "eta = np.zeros(new_x.shape[0]) #Generate log odds of viral by averaging posterior\n",
    "for row in trace['effects'][:,None,:]:\n",
    "    row=row[0]\n",
    "    eta = np.add(eta, np.dot(new_x, row.transpose()))\n",
    "eta = np.divide(eta, trace['effects'][:,None,:].shape[0])\n",
    "eta[:20]"
   ]
  },
  {
   "cell_type": "code",
   "execution_count": 481,
   "metadata": {},
   "outputs": [
    {
     "data": {
      "text/plain": [
       "array([3.48818669e-06, 5.43838783e-06, 6.74681828e-06, 6.81986939e-06,\n",
       "       4.10940446e-06, 5.27684614e-06, 8.82835188e-06, 1.57645992e-02,\n",
       "       1.35654509e-05, 1.54011695e-02, 1.57980537e-02, 5.42377300e-06,\n",
       "       6.84931083e-06, 1.56978991e-02, 4.51881808e-06, 4.46711022e-06,\n",
       "       4.46711022e-06, 1.55653310e-02, 4.87999584e-02, 4.02834746e-06])"
      ]
     },
     "execution_count": 481,
     "metadata": {},
     "output_type": "execute_result"
    }
   ],
   "source": [
    "p = invlogit(eta) #probability of viral infection\n",
    "\n",
    "p[:20]"
   ]
  },
  {
   "cell_type": "code",
   "execution_count": 482,
   "metadata": {
    "scrolled": true
   },
   "outputs": [
    {
     "data": {
      "text/html": [
       "<div>\n",
       "<style scoped>\n",
       "    .dataframe tbody tr th:only-of-type {\n",
       "        vertical-align: middle;\n",
       "    }\n",
       "\n",
       "    .dataframe tbody tr th {\n",
       "        vertical-align: top;\n",
       "    }\n",
       "\n",
       "    .dataframe thead th {\n",
       "        text-align: right;\n",
       "    }\n",
       "</style>\n",
       "<table border=\"1\" class=\"dataframe\">\n",
       "  <thead>\n",
       "    <tr style=\"text-align: right;\">\n",
       "      <th></th>\n",
       "      <th>p_mal</th>\n",
       "      <th>pred_mal</th>\n",
       "      <th>diag</th>\n",
       "      <th>CMalaria</th>\n",
       "      <th>Enceph</th>\n",
       "      <th>Mening</th>\n",
       "      <th>glasgtot</th>\n",
       "      <th>sbp</th>\n",
       "      <th>patientid</th>\n",
       "      <th>p_bact</th>\n",
       "      <th>pred_bact</th>\n",
       "      <th>p_vir</th>\n",
       "      <th>pred_vir</th>\n",
       "      <th>p_mal&amp;bact</th>\n",
       "      <th>pred_mal&amp;bact</th>\n",
       "      <th>p_tbcrypto</th>\n",
       "      <th>pred_tbcrypto</th>\n",
       "    </tr>\n",
       "  </thead>\n",
       "  <tbody>\n",
       "    <tr>\n",
       "      <th>0</th>\n",
       "      <td>0.699222</td>\n",
       "      <td>1</td>\n",
       "      <td>0.0</td>\n",
       "      <td>1.0</td>\n",
       "      <td>0.0</td>\n",
       "      <td>0.0</td>\n",
       "      <td>9.0</td>\n",
       "      <td>86.0</td>\n",
       "      <td>244.0</td>\n",
       "      <td>0.032664</td>\n",
       "      <td>0</td>\n",
       "      <td>0.006446</td>\n",
       "      <td>0</td>\n",
       "      <td>0.026813</td>\n",
       "      <td>0</td>\n",
       "      <td>0.000003</td>\n",
       "      <td>0</td>\n",
       "    </tr>\n",
       "    <tr>\n",
       "      <th>1</th>\n",
       "      <td>0.714583</td>\n",
       "      <td>1</td>\n",
       "      <td>0.0</td>\n",
       "      <td>1.0</td>\n",
       "      <td>0.0</td>\n",
       "      <td>0.0</td>\n",
       "      <td>7.0</td>\n",
       "      <td>94.0</td>\n",
       "      <td>100.0</td>\n",
       "      <td>0.027659</td>\n",
       "      <td>0</td>\n",
       "      <td>0.006133</td>\n",
       "      <td>0</td>\n",
       "      <td>0.031515</td>\n",
       "      <td>0</td>\n",
       "      <td>0.000005</td>\n",
       "      <td>0</td>\n",
       "    </tr>\n",
       "    <tr>\n",
       "      <th>2</th>\n",
       "      <td>0.722160</td>\n",
       "      <td>1</td>\n",
       "      <td>5.0</td>\n",
       "      <td>1.0</td>\n",
       "      <td>0.0</td>\n",
       "      <td>0.0</td>\n",
       "      <td>6.0</td>\n",
       "      <td>101.0</td>\n",
       "      <td>66.0</td>\n",
       "      <td>0.024212</td>\n",
       "      <td>0</td>\n",
       "      <td>0.005339</td>\n",
       "      <td>0</td>\n",
       "      <td>0.032952</td>\n",
       "      <td>0</td>\n",
       "      <td>0.000007</td>\n",
       "      <td>0</td>\n",
       "    </tr>\n",
       "    <tr>\n",
       "      <th>3</th>\n",
       "      <td>0.722034</td>\n",
       "      <td>1</td>\n",
       "      <td>0.0</td>\n",
       "      <td>1.0</td>\n",
       "      <td>0.0</td>\n",
       "      <td>0.0</td>\n",
       "      <td>6.0</td>\n",
       "      <td>96.0</td>\n",
       "      <td>432.0</td>\n",
       "      <td>0.026300</td>\n",
       "      <td>0</td>\n",
       "      <td>0.006453</td>\n",
       "      <td>0</td>\n",
       "      <td>0.034982</td>\n",
       "      <td>0</td>\n",
       "      <td>0.000007</td>\n",
       "      <td>0</td>\n",
       "    </tr>\n",
       "    <tr>\n",
       "      <th>4</th>\n",
       "      <td>0.707662</td>\n",
       "      <td>1</td>\n",
       "      <td>0.0</td>\n",
       "      <td>1.0</td>\n",
       "      <td>0.0</td>\n",
       "      <td>0.0</td>\n",
       "      <td>8.0</td>\n",
       "      <td>117.0</td>\n",
       "      <td>127.0</td>\n",
       "      <td>0.019222</td>\n",
       "      <td>0</td>\n",
       "      <td>0.002256</td>\n",
       "      <td>0</td>\n",
       "      <td>0.020986</td>\n",
       "      <td>0</td>\n",
       "      <td>0.000004</td>\n",
       "      <td>0</td>\n",
       "    </tr>\n",
       "  </tbody>\n",
       "</table>\n",
       "</div>"
      ],
      "text/plain": [
       "      p_mal  pred_mal  diag  CMalaria  Enceph  Mening  glasgtot    sbp  \\\n",
       "0  0.699222         1   0.0       1.0     0.0     0.0       9.0   86.0   \n",
       "1  0.714583         1   0.0       1.0     0.0     0.0       7.0   94.0   \n",
       "2  0.722160         1   5.0       1.0     0.0     0.0       6.0  101.0   \n",
       "3  0.722034         1   0.0       1.0     0.0     0.0       6.0   96.0   \n",
       "4  0.707662         1   0.0       1.0     0.0     0.0       8.0  117.0   \n",
       "\n",
       "   patientid    p_bact  pred_bact     p_vir  pred_vir  p_mal&bact  \\\n",
       "0      244.0  0.032664          0  0.006446         0    0.026813   \n",
       "1      100.0  0.027659          0  0.006133         0    0.031515   \n",
       "2       66.0  0.024212          0  0.005339         0    0.032952   \n",
       "3      432.0  0.026300          0  0.006453         0    0.034982   \n",
       "4      127.0  0.019222          0  0.002256         0    0.020986   \n",
       "\n",
       "   pred_mal&bact  p_tbcrypto  pred_tbcrypto  \n",
       "0              0    0.000003              0  \n",
       "1              0    0.000005              0  \n",
       "2              0    0.000007              0  \n",
       "3              0    0.000007              0  \n",
       "4              0    0.000004              0  "
      ]
     },
     "execution_count": 482,
     "metadata": {},
     "output_type": "execute_result"
    }
   ],
   "source": [
    "prediction['p_tbcrypto'] = p\n",
    "prediction['pred_tbcrypto'] = (prediction['p_tbcrypto'] > .5) * 1\n",
    "prediction.head(5)"
   ]
  },
  {
   "cell_type": "code",
   "execution_count": 483,
   "metadata": {},
   "outputs": [],
   "source": [
    "#Now do Other"
   ]
  },
  {
   "cell_type": "code",
   "execution_count": 486,
   "metadata": {},
   "outputs": [],
   "source": [
    "y = train['diag'].copy()\n",
    "y[y==1] = 0\n",
    "y[y==2] = 0\n",
    "y[y==3] = 0\n",
    "y[y==4] = 0\n",
    "y[y==5] = 1"
   ]
  },
  {
   "cell_type": "code",
   "execution_count": 487,
   "metadata": {},
   "outputs": [],
   "source": [
    "x = train[['CMalaria','Mening','Enceph','glasgtot','sbp']]\n",
    "x = x.loc[y.index]"
   ]
  },
  {
   "cell_type": "code",
   "execution_count": 488,
   "metadata": {},
   "outputs": [],
   "source": [
    "patientid = train['patientid']\n",
    "patientid = patientid[y.index]"
   ]
  },
  {
   "cell_type": "code",
   "execution_count": 489,
   "metadata": {},
   "outputs": [],
   "source": [
    "def tinvlogit(x):\n",
    "    return t.exp(x) / (1 + t.exp(x))"
   ]
  },
  {
   "cell_type": "code",
   "execution_count": 490,
   "metadata": {},
   "outputs": [],
   "source": [
    "with pm.Model() as logistic_model:\n",
    "\n",
    "    effects = pm.Normal('effects', mu=0, sd=10, shape=x.shape[1])\n",
    "    \n",
    "    # expected parameter\n",
    "    p = tinvlogit(t.sum(effects * x, axis=1))\n",
    "    \n",
    "    # Likelihood (sampling distribution) of observations\n",
    "    Y_obs = pm.Bernoulli('Y_obs', p=p, observed=y)\n",
    "\n"
   ]
  },
  {
   "cell_type": "code",
   "execution_count": 491,
   "metadata": {
    "scrolled": true
   },
   "outputs": [
    {
     "name": "stderr",
     "output_type": "stream",
     "text": [
      "Auto-assigning NUTS sampler...\n",
      "Initializing NUTS using jitter+adapt_diag...\n",
      "Sequential sampling (1 chains in 1 job)\n",
      "NUTS: [effects]\n",
      "100%|██████████| 3000/3000 [00:14<00:00, 204.03it/s]\n",
      "Only one chain was sampled, this makes it impossible to run some convergence checks\n"
     ]
    }
   ],
   "source": [
    "with logistic_model:\n",
    "    trace = pm.sample(1000, tune=2000, chains=1)\n",
    "    \n",
    "#with logistic_model:\n",
    "#    # move the chain to the MAP which should be a good starting point\n",
    "#    start = pm.find_MAP()\n",
    "#    step = pm.NUTS(scaling=start)\n",
    "#    trace = pm.sample(5000, step, start)"
   ]
  },
  {
   "cell_type": "code",
   "execution_count": 492,
   "metadata": {},
   "outputs": [],
   "source": [
    "new_y = test['diag']"
   ]
  },
  {
   "cell_type": "code",
   "execution_count": 493,
   "metadata": {},
   "outputs": [],
   "source": [
    "new_x = test[['CMalaria','Mening','Enceph','glasgtot','sbp']]"
   ]
  },
  {
   "cell_type": "code",
   "execution_count": 494,
   "metadata": {},
   "outputs": [],
   "source": [
    "new_patientid = test['patientid']"
   ]
  },
  {
   "cell_type": "code",
   "execution_count": 495,
   "metadata": {},
   "outputs": [],
   "source": [
    "def invlogit(x):\n",
    "    return np.exp(x) / (1 + np.exp(x))"
   ]
  },
  {
   "cell_type": "code",
   "execution_count": 496,
   "metadata": {},
   "outputs": [
    {
     "data": {
      "text/plain": [
       "array([-1.18819022, -1.19858134, -1.21625156, -1.19546045, -1.30565778,\n",
       "       -1.25679645,  2.35660883,  0.12596808, -1.16946491,  0.08022764,\n",
       "        0.1301263 ,  2.28383551, -1.18714401,  0.11765164, -1.55618844,\n",
       "        2.34308795,  2.34308795,  0.10101875,  0.20394584,  2.1434933 ])"
      ]
     },
     "execution_count": 496,
     "metadata": {},
     "output_type": "execute_result"
    }
   ],
   "source": [
    "eta = np.zeros(new_x.shape[0]) #Generate log odds of viral by averaging posterior\n",
    "for row in trace['effects'][:,None,:]:\n",
    "    row=row[0]\n",
    "    eta = np.add(eta, np.dot(new_x, row.transpose()))\n",
    "eta = np.divide(eta, trace['effects'][:,None,:].shape[0])\n",
    "eta[:20]"
   ]
  },
  {
   "cell_type": "code",
   "execution_count": 497,
   "metadata": {},
   "outputs": [
    {
     "data": {
      "text/plain": [
       "array([0.23358277, 0.23172768, 0.22859678, 0.23228376, 0.21321436,\n",
       "       0.22152586, 0.9134581 , 0.53145044, 0.23695172, 0.52004616,\n",
       "       0.53248575, 0.90752943, 0.23377012, 0.52937903, 0.17419426,\n",
       "       0.91238325, 0.91238325, 0.52523323, 0.55081046, 0.89505918])"
      ]
     },
     "execution_count": 497,
     "metadata": {},
     "output_type": "execute_result"
    }
   ],
   "source": [
    "p = invlogit(eta)\n",
    "\n",
    "p[:20]"
   ]
  },
  {
   "cell_type": "code",
   "execution_count": 504,
   "metadata": {
    "scrolled": true
   },
   "outputs": [
    {
     "data": {
      "text/html": [
       "<div>\n",
       "<style scoped>\n",
       "    .dataframe tbody tr th:only-of-type {\n",
       "        vertical-align: middle;\n",
       "    }\n",
       "\n",
       "    .dataframe tbody tr th {\n",
       "        vertical-align: top;\n",
       "    }\n",
       "\n",
       "    .dataframe thead th {\n",
       "        text-align: right;\n",
       "    }\n",
       "</style>\n",
       "<table border=\"1\" class=\"dataframe\">\n",
       "  <thead>\n",
       "    <tr style=\"text-align: right;\">\n",
       "      <th></th>\n",
       "      <th>p_mal</th>\n",
       "      <th>pred_mal</th>\n",
       "      <th>diag</th>\n",
       "      <th>CMalaria</th>\n",
       "      <th>Enceph</th>\n",
       "      <th>Mening</th>\n",
       "      <th>glasgtot</th>\n",
       "      <th>sbp</th>\n",
       "      <th>patientid</th>\n",
       "      <th>p_bact</th>\n",
       "      <th>pred_bact</th>\n",
       "      <th>p_vir</th>\n",
       "      <th>pred_vir</th>\n",
       "      <th>p_mal&amp;bact</th>\n",
       "      <th>pred_mal&amp;bact</th>\n",
       "      <th>p_tbcrypto</th>\n",
       "      <th>pred_tbcrypto</th>\n",
       "      <th>p_other</th>\n",
       "      <th>pred_other</th>\n",
       "    </tr>\n",
       "  </thead>\n",
       "  <tbody>\n",
       "    <tr>\n",
       "      <th>0</th>\n",
       "      <td>0.699222</td>\n",
       "      <td>1</td>\n",
       "      <td>0.0</td>\n",
       "      <td>1.0</td>\n",
       "      <td>0.0</td>\n",
       "      <td>0.0</td>\n",
       "      <td>9.0</td>\n",
       "      <td>86.0</td>\n",
       "      <td>244.0</td>\n",
       "      <td>0.032664</td>\n",
       "      <td>0</td>\n",
       "      <td>0.006446</td>\n",
       "      <td>0</td>\n",
       "      <td>0.026813</td>\n",
       "      <td>0</td>\n",
       "      <td>0.000003</td>\n",
       "      <td>0</td>\n",
       "      <td>0.233583</td>\n",
       "      <td>0</td>\n",
       "    </tr>\n",
       "    <tr>\n",
       "      <th>1</th>\n",
       "      <td>0.714583</td>\n",
       "      <td>1</td>\n",
       "      <td>0.0</td>\n",
       "      <td>1.0</td>\n",
       "      <td>0.0</td>\n",
       "      <td>0.0</td>\n",
       "      <td>7.0</td>\n",
       "      <td>94.0</td>\n",
       "      <td>100.0</td>\n",
       "      <td>0.027659</td>\n",
       "      <td>0</td>\n",
       "      <td>0.006133</td>\n",
       "      <td>0</td>\n",
       "      <td>0.031515</td>\n",
       "      <td>0</td>\n",
       "      <td>0.000005</td>\n",
       "      <td>0</td>\n",
       "      <td>0.231728</td>\n",
       "      <td>0</td>\n",
       "    </tr>\n",
       "    <tr>\n",
       "      <th>2</th>\n",
       "      <td>0.722160</td>\n",
       "      <td>1</td>\n",
       "      <td>5.0</td>\n",
       "      <td>1.0</td>\n",
       "      <td>0.0</td>\n",
       "      <td>0.0</td>\n",
       "      <td>6.0</td>\n",
       "      <td>101.0</td>\n",
       "      <td>66.0</td>\n",
       "      <td>0.024212</td>\n",
       "      <td>0</td>\n",
       "      <td>0.005339</td>\n",
       "      <td>0</td>\n",
       "      <td>0.032952</td>\n",
       "      <td>0</td>\n",
       "      <td>0.000007</td>\n",
       "      <td>0</td>\n",
       "      <td>0.228597</td>\n",
       "      <td>0</td>\n",
       "    </tr>\n",
       "    <tr>\n",
       "      <th>3</th>\n",
       "      <td>0.722034</td>\n",
       "      <td>1</td>\n",
       "      <td>0.0</td>\n",
       "      <td>1.0</td>\n",
       "      <td>0.0</td>\n",
       "      <td>0.0</td>\n",
       "      <td>6.0</td>\n",
       "      <td>96.0</td>\n",
       "      <td>432.0</td>\n",
       "      <td>0.026300</td>\n",
       "      <td>0</td>\n",
       "      <td>0.006453</td>\n",
       "      <td>0</td>\n",
       "      <td>0.034982</td>\n",
       "      <td>0</td>\n",
       "      <td>0.000007</td>\n",
       "      <td>0</td>\n",
       "      <td>0.232284</td>\n",
       "      <td>0</td>\n",
       "    </tr>\n",
       "    <tr>\n",
       "      <th>4</th>\n",
       "      <td>0.707662</td>\n",
       "      <td>1</td>\n",
       "      <td>0.0</td>\n",
       "      <td>1.0</td>\n",
       "      <td>0.0</td>\n",
       "      <td>0.0</td>\n",
       "      <td>8.0</td>\n",
       "      <td>117.0</td>\n",
       "      <td>127.0</td>\n",
       "      <td>0.019222</td>\n",
       "      <td>0</td>\n",
       "      <td>0.002256</td>\n",
       "      <td>0</td>\n",
       "      <td>0.020986</td>\n",
       "      <td>0</td>\n",
       "      <td>0.000004</td>\n",
       "      <td>0</td>\n",
       "      <td>0.213214</td>\n",
       "      <td>0</td>\n",
       "    </tr>\n",
       "  </tbody>\n",
       "</table>\n",
       "</div>"
      ],
      "text/plain": [
       "      p_mal  pred_mal  diag  CMalaria  Enceph  Mening  glasgtot    sbp  \\\n",
       "0  0.699222         1   0.0       1.0     0.0     0.0       9.0   86.0   \n",
       "1  0.714583         1   0.0       1.0     0.0     0.0       7.0   94.0   \n",
       "2  0.722160         1   5.0       1.0     0.0     0.0       6.0  101.0   \n",
       "3  0.722034         1   0.0       1.0     0.0     0.0       6.0   96.0   \n",
       "4  0.707662         1   0.0       1.0     0.0     0.0       8.0  117.0   \n",
       "\n",
       "   patientid    p_bact  pred_bact     p_vir  pred_vir  p_mal&bact  \\\n",
       "0      244.0  0.032664          0  0.006446         0    0.026813   \n",
       "1      100.0  0.027659          0  0.006133         0    0.031515   \n",
       "2       66.0  0.024212          0  0.005339         0    0.032952   \n",
       "3      432.0  0.026300          0  0.006453         0    0.034982   \n",
       "4      127.0  0.019222          0  0.002256         0    0.020986   \n",
       "\n",
       "   pred_mal&bact  p_tbcrypto  pred_tbcrypto   p_other  pred_other  \n",
       "0              0    0.000003              0  0.233583           0  \n",
       "1              0    0.000005              0  0.231728           0  \n",
       "2              0    0.000007              0  0.228597           0  \n",
       "3              0    0.000007              0  0.232284           0  \n",
       "4              0    0.000004              0  0.213214           0  "
      ]
     },
     "execution_count": 504,
     "metadata": {},
     "output_type": "execute_result"
    }
   ],
   "source": [
    "prediction['p_other'] = p\n",
    "prediction['pred_other'] = (prediction['p_other'] > .5) * 1\n",
    "prediction.head(5)"
   ]
  },
  {
   "cell_type": "code",
   "execution_count": null,
   "metadata": {},
   "outputs": [],
   "source": []
  },
  {
   "cell_type": "markdown",
   "metadata": {},
   "source": [
    "# Begin second Group"
   ]
  },
  {
   "cell_type": "code",
   "execution_count": 521,
   "metadata": {},
   "outputs": [
    {
     "data": {
      "text/plain": [
       "(120, 7)"
      ]
     },
     "execution_count": 521,
     "metadata": {},
     "output_type": "execute_result"
    }
   ],
   "source": [
    "test = var[120:240]\n",
    "train = var.drop(var.index[120:240])\n",
    "test.shape"
   ]
  },
  {
   "cell_type": "code",
   "execution_count": null,
   "metadata": {},
   "outputs": [],
   "source": []
  },
  {
   "cell_type": "code",
   "execution_count": 522,
   "metadata": {},
   "outputs": [],
   "source": [
    "y = train['diag'].copy()\n",
    "#y = y[np.isin(y,[0,1])] #logreg comparison of mal and bact groups\n",
    "y[y==1] = 10 # Set mal to 1 other to 0\n",
    "y[y==2] = 10\n",
    "y[y==3] = 10\n",
    "y[y==4] = 10\n",
    "y[y==5] = 10\n",
    "y[y==0] = 1\n",
    "y[y==10] = 0"
   ]
  },
  {
   "cell_type": "code",
   "execution_count": 523,
   "metadata": {},
   "outputs": [],
   "source": [
    "x = train[['CMalaria','Mening','Enceph','glasgtot','sbp']]\n",
    "x = x.loc[y.index]"
   ]
  },
  {
   "cell_type": "code",
   "execution_count": 524,
   "metadata": {},
   "outputs": [],
   "source": [
    "patientid = train['patientid']\n",
    "patientid = patientid[y.index]"
   ]
  },
  {
   "cell_type": "code",
   "execution_count": 525,
   "metadata": {},
   "outputs": [],
   "source": [
    "def tinvlogit(x):\n",
    "    return t.exp(x) / (1 + t.exp(x))"
   ]
  },
  {
   "cell_type": "code",
   "execution_count": 526,
   "metadata": {},
   "outputs": [],
   "source": [
    "with pm.Model() as logistic_model:\n",
    "\n",
    "    effects = pm.Normal('effects', mu=0, sd=10, shape=x.shape[1])\n",
    "    \n",
    "    # expected parameter\n",
    "    p = tinvlogit(t.sum(effects * x, axis=1))\n",
    "    \n",
    "    # Likelihood (sampling distribution) of observations\n",
    "    Y_obs = pm.Bernoulli('Y_obs', p=p, observed=y)\n",
    "\n"
   ]
  },
  {
   "cell_type": "code",
   "execution_count": 527,
   "metadata": {},
   "outputs": [
    {
     "name": "stderr",
     "output_type": "stream",
     "text": [
      "Auto-assigning NUTS sampler...\n",
      "Initializing NUTS using jitter+adapt_diag...\n",
      "Sequential sampling (1 chains in 1 job)\n",
      "NUTS: [effects]\n",
      "100%|██████████| 3000/3000 [00:14<00:00, 203.47it/s]\n",
      "Only one chain was sampled, this makes it impossible to run some convergence checks\n"
     ]
    }
   ],
   "source": [
    "with logistic_model:\n",
    "    trace = pm.sample(1000, tune=2000, chains=1)\n",
    "    \n",
    "#with logistic_model:\n",
    "#    # move the chain to the MAP which should be a good starting point\n",
    "#    start = pm.find_MAP()\n",
    "#    step = pm.NUTS(scaling=start)\n",
    "#    trace = pm.sample(5000, step, start)"
   ]
  },
  {
   "cell_type": "code",
   "execution_count": 528,
   "metadata": {
    "scrolled": true
   },
   "outputs": [
    {
     "data": {
      "text/plain": [
       "array([[<matplotlib.axes._subplots.AxesSubplot object at 0x119aaa240>,\n",
       "        <matplotlib.axes._subplots.AxesSubplot object at 0x11a211390>]],\n",
       "      dtype=object)"
      ]
     },
     "execution_count": 528,
     "metadata": {},
     "output_type": "execute_result"
    },
    {
     "data": {
      "image/png": "[encoded data removed]",
      "text/plain": [
       "<matplotlib.figure.Figure at 0x11a740ef0>"
      ]
     },
     "metadata": {},
     "output_type": "display_data"
    }
   ],
   "source": [
    "pm.traceplot(trace)"
   ]
  },
  {
   "cell_type": "code",
   "execution_count": 529,
   "metadata": {},
   "outputs": [],
   "source": [
    "new_y = test['diag']\n"
   ]
  },
  {
   "cell_type": "code",
   "execution_count": 530,
   "metadata": {},
   "outputs": [],
   "source": [
    "new_x = test[['CMalaria','Mening','Enceph','glasgtot','sbp']]"
   ]
  },
  {
   "cell_type": "code",
   "execution_count": 531,
   "metadata": {},
   "outputs": [],
   "source": [
    "new_patientid = test['patientid']\n"
   ]
  },
  {
   "cell_type": "code",
   "execution_count": 532,
   "metadata": {},
   "outputs": [],
   "source": [
    "def invlogit(x):\n",
    "    return np.exp(x) / (1 + np.exp(x))"
   ]
  },
  {
   "cell_type": "code",
   "execution_count": 533,
   "metadata": {},
   "outputs": [
    {
     "data": {
      "text/plain": [
       "array([-3.49174435, -3.32475333, -3.90091929, -4.61501282, -4.30419583,\n",
       "       -4.12955001, -3.74857643,  1.63706145,  1.32362597,  1.59214092,\n",
       "       -3.649671  ,  1.12843359, -3.37873824, -3.45065122,  1.07062129,\n",
       "       -0.37910324, -0.74390513,  1.68460047,  1.05652061, -3.1063959 ])"
      ]
     },
     "execution_count": 533,
     "metadata": {},
     "output_type": "execute_result"
    }
   ],
   "source": [
    "eta = np.zeros(new_x.shape[0]) #Generate log odds of bacterial by averaging posterior\n",
    "for row in trace['effects'][:,None,:]:\n",
    "    row=row[0]\n",
    "    eta = np.add(eta, np.dot(new_x, row.transpose()))\n",
    "eta = np.divide(eta, trace['effects'][:,None,:].shape[0])\n",
    "eta[:20]"
   ]
  },
  {
   "cell_type": "code",
   "execution_count": 534,
   "metadata": {},
   "outputs": [
    {
     "data": {
      "text/plain": [
       "array([0.02954804, 0.0347317 , 0.01982244, 0.00980497, 0.01333161,\n",
       "       0.01583533, 0.02300935, 0.83713469, 0.78978434, 0.8309171 ,\n",
       "       0.02534083, 0.75554971, 0.0329666 , 0.03074944, 0.74471505,\n",
       "       0.4063432 , 0.32215079, 0.84351275, 0.74202507, 0.0428442 ])"
      ]
     },
     "execution_count": 534,
     "metadata": {},
     "output_type": "execute_result"
    }
   ],
   "source": [
    "p = invlogit(eta) #probability of malaria infection\n",
    "\n",
    "p[:20]"
   ]
  },
  {
   "cell_type": "code",
   "execution_count": 535,
   "metadata": {},
   "outputs": [],
   "source": [
    "prediction2 = pd.DataFrame({'p_mal':p}) #build df to visualize results\n",
    "prediction2['pred_mal'] = (prediction2['p_mal'] > .5) * 1"
   ]
  },
  {
   "cell_type": "code",
   "execution_count": 538,
   "metadata": {},
   "outputs": [
    {
     "data": {
      "text/html": [
       "<div>\n",
       "<style scoped>\n",
       "    .dataframe tbody tr th:only-of-type {\n",
       "        vertical-align: middle;\n",
       "    }\n",
       "\n",
       "    .dataframe tbody tr th {\n",
       "        vertical-align: top;\n",
       "    }\n",
       "\n",
       "    .dataframe thead th {\n",
       "        text-align: right;\n",
       "    }\n",
       "</style>\n",
       "<table border=\"1\" class=\"dataframe\">\n",
       "  <thead>\n",
       "    <tr style=\"text-align: right;\">\n",
       "      <th></th>\n",
       "      <th>p_mal</th>\n",
       "      <th>pred_mal</th>\n",
       "      <th>diag</th>\n",
       "      <th>CMalaria</th>\n",
       "      <th>Enceph</th>\n",
       "      <th>Mening</th>\n",
       "      <th>glasgtot</th>\n",
       "      <th>sbp</th>\n",
       "      <th>patientid</th>\n",
       "    </tr>\n",
       "  </thead>\n",
       "  <tbody>\n",
       "    <tr>\n",
       "      <th>0</th>\n",
       "      <td>0.029548</td>\n",
       "      <td>0</td>\n",
       "      <td>5.0</td>\n",
       "      <td>0.0</td>\n",
       "      <td>0.0</td>\n",
       "      <td>1.0</td>\n",
       "      <td>15.0</td>\n",
       "      <td>103.0</td>\n",
       "      <td>378.0</td>\n",
       "    </tr>\n",
       "    <tr>\n",
       "      <th>1</th>\n",
       "      <td>0.034732</td>\n",
       "      <td>0</td>\n",
       "      <td>5.0</td>\n",
       "      <td>0.0</td>\n",
       "      <td>0.0</td>\n",
       "      <td>1.0</td>\n",
       "      <td>13.0</td>\n",
       "      <td>98.0</td>\n",
       "      <td>190.0</td>\n",
       "    </tr>\n",
       "    <tr>\n",
       "      <th>2</th>\n",
       "      <td>0.019822</td>\n",
       "      <td>0</td>\n",
       "      <td>5.0</td>\n",
       "      <td>0.0</td>\n",
       "      <td>1.0</td>\n",
       "      <td>0.0</td>\n",
       "      <td>11.0</td>\n",
       "      <td>118.0</td>\n",
       "      <td>98.0</td>\n",
       "    </tr>\n",
       "    <tr>\n",
       "      <th>3</th>\n",
       "      <td>0.009805</td>\n",
       "      <td>0</td>\n",
       "      <td>5.0</td>\n",
       "      <td>0.0</td>\n",
       "      <td>1.0</td>\n",
       "      <td>0.0</td>\n",
       "      <td>15.0</td>\n",
       "      <td>91.0</td>\n",
       "      <td>104.0</td>\n",
       "    </tr>\n",
       "    <tr>\n",
       "      <th>4</th>\n",
       "      <td>0.013332</td>\n",
       "      <td>0</td>\n",
       "      <td>5.0</td>\n",
       "      <td>0.0</td>\n",
       "      <td>1.0</td>\n",
       "      <td>0.0</td>\n",
       "      <td>13.0</td>\n",
       "      <td>100.0</td>\n",
       "      <td>235.0</td>\n",
       "    </tr>\n",
       "  </tbody>\n",
       "</table>\n",
       "</div>"
      ],
      "text/plain": [
       "      p_mal  pred_mal  diag  CMalaria  Enceph  Mening  glasgtot    sbp  \\\n",
       "0  0.029548         0   5.0       0.0     0.0     1.0      15.0  103.0   \n",
       "1  0.034732         0   5.0       0.0     0.0     1.0      13.0   98.0   \n",
       "2  0.019822         0   5.0       0.0     1.0     0.0      11.0  118.0   \n",
       "3  0.009805         0   5.0       0.0     1.0     0.0      15.0   91.0   \n",
       "4  0.013332         0   5.0       0.0     1.0     0.0      13.0  100.0   \n",
       "\n",
       "   patientid  \n",
       "0      378.0  \n",
       "1      190.0  \n",
       "2       98.0  \n",
       "3      104.0  \n",
       "4      235.0  "
      ]
     },
     "execution_count": 538,
     "metadata": {},
     "output_type": "execute_result"
    }
   ],
   "source": [
    "prediction2[\"diag\"] = new_y.reset_index(drop=True)\n",
    "prediction2[\"CMalaria\"] = new_x.reset_index(drop=True)[\"CMalaria\"]\n",
    "prediction2[\"Enceph\"] = new_x.reset_index(drop=True)[\"Enceph\"]\n",
    "prediction2[\"Mening\"] = new_x.reset_index(drop=True)[\"Mening\"]\n",
    "prediction2[\"glasgtot\"] = new_x.reset_index(drop=True)[\"glasgtot\"]\n",
    "prediction2[\"sbp\"] = new_x.reset_index(drop=True)[\"sbp\"]\n",
    "prediction2[\"patientid\"] = new_patientid.reset_index(drop=True)\n",
    "prediction2.head(5) #observe pred_diag compared to diag to see difference between prediction and actual diagnosis"
   ]
  },
  {
   "cell_type": "code",
   "execution_count": 380,
   "metadata": {},
   "outputs": [],
   "source": [
    "#Now do bact"
   ]
  },
  {
   "cell_type": "code",
   "execution_count": 539,
   "metadata": {},
   "outputs": [],
   "source": [
    "y = train['diag'].copy()\n",
    "y[y==2] = 0\n",
    "y[y==3] = 0\n",
    "y[y==4] = 0\n",
    "y[y==5] = 0"
   ]
  },
  {
   "cell_type": "code",
   "execution_count": 540,
   "metadata": {},
   "outputs": [],
   "source": [
    "x = train[['CMalaria','Mening','Enceph','glasgtot','sbp']]\n",
    "x = x.loc[y.index]"
   ]
  },
  {
   "cell_type": "code",
   "execution_count": 541,
   "metadata": {},
   "outputs": [],
   "source": [
    "patientid = train['patientid']\n",
    "patientid = patientid[y.index]"
   ]
  },
  {
   "cell_type": "code",
   "execution_count": 542,
   "metadata": {},
   "outputs": [],
   "source": [
    "def tinvlogit(x):\n",
    "    return t.exp(x) / (1 + t.exp(x))"
   ]
  },
  {
   "cell_type": "code",
   "execution_count": 543,
   "metadata": {},
   "outputs": [],
   "source": [
    "with pm.Model() as logistic_model:\n",
    "\n",
    "    effects = pm.Normal('effects', mu=0, sd=10, shape=x.shape[1])\n",
    "    \n",
    "    # expected parameter\n",
    "    p = tinvlogit(t.sum(effects * x, axis=1))\n",
    "    \n",
    "    # Likelihood (sampling distribution) of observations\n",
    "    Y_obs = pm.Bernoulli('Y_obs', p=p, observed=y)\n",
    "\n"
   ]
  },
  {
   "cell_type": "code",
   "execution_count": 544,
   "metadata": {
    "scrolled": true
   },
   "outputs": [
    {
     "name": "stderr",
     "output_type": "stream",
     "text": [
      "Auto-assigning NUTS sampler...\n",
      "Initializing NUTS using jitter+adapt_diag...\n",
      "Sequential sampling (1 chains in 1 job)\n",
      "NUTS: [effects]\n",
      "100%|██████████| 3000/3000 [00:14<00:00, 211.42it/s]\n",
      "Only one chain was sampled, this makes it impossible to run some convergence checks\n"
     ]
    }
   ],
   "source": [
    "with logistic_model:\n",
    "    trace = pm.sample(1000, tune=2000, chains=1)\n",
    "    \n",
    "#with logistic_model:\n",
    "#    # move the chain to the MAP which should be a good starting point\n",
    "#    start = pm.find_MAP()\n",
    "#    step = pm.NUTS(scaling=start)\n",
    "#    trace = pm.sample(5000, step, start)"
   ]
  },
  {
   "cell_type": "code",
   "execution_count": 545,
   "metadata": {},
   "outputs": [],
   "source": [
    "new_y = test['diag']"
   ]
  },
  {
   "cell_type": "code",
   "execution_count": 546,
   "metadata": {},
   "outputs": [],
   "source": [
    "new_x = test[['CMalaria','Mening','Enceph','glasgtot','sbp']]"
   ]
  },
  {
   "cell_type": "code",
   "execution_count": 547,
   "metadata": {},
   "outputs": [],
   "source": [
    "new_patientid = test['patientid']"
   ]
  },
  {
   "cell_type": "code",
   "execution_count": 548,
   "metadata": {},
   "outputs": [],
   "source": [
    "def invlogit(x):\n",
    "    return np.exp(x) / (1 + np.exp(x))"
   ]
  },
  {
   "cell_type": "code",
   "execution_count": 549,
   "metadata": {},
   "outputs": [
    {
     "data": {
      "text/plain": [
       "array([-0.66099558, -0.53938367, -2.42932193, -2.33497354, -2.34109166,\n",
       "       -2.4961924 , -0.43290625, -4.19162595, -4.45309691, -4.01677533,\n",
       "       -0.38578566, -4.27974902, -0.76135489, -0.69748988, -4.36336391,\n",
       "       -1.1478531 , -1.3637062 , -4.09888749, -4.21588401, -0.46338963])"
      ]
     },
     "execution_count": 549,
     "metadata": {},
     "output_type": "execute_result"
    }
   ],
   "source": [
    "eta = np.zeros(new_x.shape[0]) #Generate log odds of viral by averaging posterior\n",
    "for row in trace['effects'][:,None,:]:\n",
    "    row=row[0]\n",
    "    eta = np.add(eta, np.dot(new_x, row.transpose()))\n",
    "eta = np.divide(eta, trace['effects'][:,None,:].shape[0])\n",
    "eta[:20]"
   ]
  },
  {
   "cell_type": "code",
   "execution_count": 550,
   "metadata": {},
   "outputs": [
    {
     "data": {
      "text/plain": [
       "array([0.340516  , 0.36833097, 0.08096391, 0.08826759, 0.08777646,\n",
       "       0.07612554, 0.39343256, 0.01489642, 0.01150847, 0.0176923 ,\n",
       "       0.40473223, 0.01365704, 0.31835218, 0.33236899, 0.01257532,\n",
       "       0.24088144, 0.20363861, 0.01632035, 0.0145446 , 0.38618202])"
      ]
     },
     "execution_count": 550,
     "metadata": {},
     "output_type": "execute_result"
    }
   ],
   "source": [
    "p = invlogit(eta) #probability of viral infection\n",
    "\n",
    "p[:20]"
   ]
  },
  {
   "cell_type": "code",
   "execution_count": 551,
   "metadata": {},
   "outputs": [
    {
     "data": {
      "text/html": [
       "<div>\n",
       "<style scoped>\n",
       "    .dataframe tbody tr th:only-of-type {\n",
       "        vertical-align: middle;\n",
       "    }\n",
       "\n",
       "    .dataframe tbody tr th {\n",
       "        vertical-align: top;\n",
       "    }\n",
       "\n",
       "    .dataframe thead th {\n",
       "        text-align: right;\n",
       "    }\n",
       "</style>\n",
       "<table border=\"1\" class=\"dataframe\">\n",
       "  <thead>\n",
       "    <tr style=\"text-align: right;\">\n",
       "      <th></th>\n",
       "      <th>p_mal</th>\n",
       "      <th>pred_mal</th>\n",
       "      <th>diag</th>\n",
       "      <th>CMalaria</th>\n",
       "      <th>Enceph</th>\n",
       "      <th>Mening</th>\n",
       "      <th>glasgtot</th>\n",
       "      <th>sbp</th>\n",
       "      <th>patientid</th>\n",
       "      <th>p_bact</th>\n",
       "      <th>pred_bact</th>\n",
       "    </tr>\n",
       "  </thead>\n",
       "  <tbody>\n",
       "    <tr>\n",
       "      <th>0</th>\n",
       "      <td>0.029548</td>\n",
       "      <td>0</td>\n",
       "      <td>5.0</td>\n",
       "      <td>0.0</td>\n",
       "      <td>0.0</td>\n",
       "      <td>1.0</td>\n",
       "      <td>15.0</td>\n",
       "      <td>103.0</td>\n",
       "      <td>378.0</td>\n",
       "      <td>0.340516</td>\n",
       "      <td>0</td>\n",
       "    </tr>\n",
       "    <tr>\n",
       "      <th>1</th>\n",
       "      <td>0.034732</td>\n",
       "      <td>0</td>\n",
       "      <td>5.0</td>\n",
       "      <td>0.0</td>\n",
       "      <td>0.0</td>\n",
       "      <td>1.0</td>\n",
       "      <td>13.0</td>\n",
       "      <td>98.0</td>\n",
       "      <td>190.0</td>\n",
       "      <td>0.368331</td>\n",
       "      <td>0</td>\n",
       "    </tr>\n",
       "    <tr>\n",
       "      <th>2</th>\n",
       "      <td>0.019822</td>\n",
       "      <td>0</td>\n",
       "      <td>5.0</td>\n",
       "      <td>0.0</td>\n",
       "      <td>1.0</td>\n",
       "      <td>0.0</td>\n",
       "      <td>11.0</td>\n",
       "      <td>118.0</td>\n",
       "      <td>98.0</td>\n",
       "      <td>0.080964</td>\n",
       "      <td>0</td>\n",
       "    </tr>\n",
       "    <tr>\n",
       "      <th>3</th>\n",
       "      <td>0.009805</td>\n",
       "      <td>0</td>\n",
       "      <td>5.0</td>\n",
       "      <td>0.0</td>\n",
       "      <td>1.0</td>\n",
       "      <td>0.0</td>\n",
       "      <td>15.0</td>\n",
       "      <td>91.0</td>\n",
       "      <td>104.0</td>\n",
       "      <td>0.088268</td>\n",
       "      <td>0</td>\n",
       "    </tr>\n",
       "    <tr>\n",
       "      <th>4</th>\n",
       "      <td>0.013332</td>\n",
       "      <td>0</td>\n",
       "      <td>5.0</td>\n",
       "      <td>0.0</td>\n",
       "      <td>1.0</td>\n",
       "      <td>0.0</td>\n",
       "      <td>13.0</td>\n",
       "      <td>100.0</td>\n",
       "      <td>235.0</td>\n",
       "      <td>0.087776</td>\n",
       "      <td>0</td>\n",
       "    </tr>\n",
       "  </tbody>\n",
       "</table>\n",
       "</div>"
      ],
      "text/plain": [
       "      p_mal  pred_mal  diag  CMalaria  Enceph  Mening  glasgtot    sbp  \\\n",
       "0  0.029548         0   5.0       0.0     0.0     1.0      15.0  103.0   \n",
       "1  0.034732         0   5.0       0.0     0.0     1.0      13.0   98.0   \n",
       "2  0.019822         0   5.0       0.0     1.0     0.0      11.0  118.0   \n",
       "3  0.009805         0   5.0       0.0     1.0     0.0      15.0   91.0   \n",
       "4  0.013332         0   5.0       0.0     1.0     0.0      13.0  100.0   \n",
       "\n",
       "   patientid    p_bact  pred_bact  \n",
       "0      378.0  0.340516          0  \n",
       "1      190.0  0.368331          0  \n",
       "2       98.0  0.080964          0  \n",
       "3      104.0  0.088268          0  \n",
       "4      235.0  0.087776          0  "
      ]
     },
     "execution_count": 551,
     "metadata": {},
     "output_type": "execute_result"
    }
   ],
   "source": [
    "prediction2['p_bact'] = p\n",
    "prediction2['pred_bact'] = (prediction2['p_bact'] > .5) * 1\n",
    "prediction2.head(5)"
   ]
  },
  {
   "cell_type": "code",
   "execution_count": 552,
   "metadata": {},
   "outputs": [],
   "source": [
    "# Now do vir"
   ]
  },
  {
   "cell_type": "code",
   "execution_count": 553,
   "metadata": {},
   "outputs": [],
   "source": [
    "y = train['diag'].copy()\n",
    "y[y==1] = 0\n",
    "y[y==3] = 0\n",
    "y[y==4] = 0\n",
    "y[y==5] = 0\n",
    "y[y==2] = 1"
   ]
  },
  {
   "cell_type": "code",
   "execution_count": 554,
   "metadata": {},
   "outputs": [],
   "source": [
    "x = train[['CMalaria','Mening','Enceph','glasgtot','sbp']]\n",
    "x = x.loc[y.index]"
   ]
  },
  {
   "cell_type": "code",
   "execution_count": 555,
   "metadata": {},
   "outputs": [],
   "source": [
    "patientid = train['patientid']\n",
    "patientid = patientid[y.index]"
   ]
  },
  {
   "cell_type": "code",
   "execution_count": 556,
   "metadata": {},
   "outputs": [],
   "source": [
    "def tinvlogit(x):\n",
    "    return t.exp(x) / (1 + t.exp(x))"
   ]
  },
  {
   "cell_type": "code",
   "execution_count": 559,
   "metadata": {},
   "outputs": [],
   "source": [
    "with pm.Model() as logistic_model:\n",
    "\n",
    "    effects = pm.Normal('effects', mu=0, sd=10, shape=x.shape[1])\n",
    "    \n",
    "    # expected parameter\n",
    "    p = tinvlogit(t.sum(effects * x, axis=1))\n",
    "    \n",
    "    # Likelihood (sampling distribution) of observations\n",
    "    Y_obs = pm.Bernoulli('Y_obs', p=p, observed=y)\n",
    "\n"
   ]
  },
  {
   "cell_type": "code",
   "execution_count": 560,
   "metadata": {
    "scrolled": true
   },
   "outputs": [
    {
     "name": "stderr",
     "output_type": "stream",
     "text": [
      "Auto-assigning NUTS sampler...\n",
      "Initializing NUTS using jitter+adapt_diag...\n",
      "Sequential sampling (1 chains in 1 job)\n",
      "NUTS: [effects]\n",
      "100%|██████████| 3000/3000 [00:15<00:00, 187.85it/s]\n",
      "Only one chain was sampled, this makes it impossible to run some convergence checks\n"
     ]
    }
   ],
   "source": [
    "with logistic_model:\n",
    "    trace = pm.sample(1000, tune=2000, chains=1)\n",
    "    \n",
    "#with logistic_model:\n",
    "#    # move the chain to the MAP which should be a good starting point\n",
    "#    start = pm.find_MAP()\n",
    "#    step = pm.NUTS(scaling=start)\n",
    "#    trace = pm.sample(5000, step, start)"
   ]
  },
  {
   "cell_type": "code",
   "execution_count": 561,
   "metadata": {},
   "outputs": [],
   "source": [
    "new_y = test['diag']"
   ]
  },
  {
   "cell_type": "code",
   "execution_count": 562,
   "metadata": {},
   "outputs": [],
   "source": [
    "new_x = test[['CMalaria','Mening','Enceph','glasgtot','sbp']]"
   ]
  },
  {
   "cell_type": "code",
   "execution_count": 563,
   "metadata": {},
   "outputs": [],
   "source": [
    "new_patientid = test['patientid']"
   ]
  },
  {
   "cell_type": "code",
   "execution_count": 564,
   "metadata": {},
   "outputs": [],
   "source": [
    "def invlogit(x):\n",
    "    return np.exp(x) / (1 + np.exp(x))"
   ]
  },
  {
   "cell_type": "code",
   "execution_count": 565,
   "metadata": {},
   "outputs": [
    {
     "data": {
      "text/plain": [
       "array([-4.00441473, -3.75885422, -4.4440474 , -4.3325015 , -4.31497712,\n",
       "       -4.59187814, -3.59720735, -5.13366651, -5.65736413, -4.80728256,\n",
       "       -3.49885954, -5.34788652, -4.18358598, -4.06956791, -5.51138751,\n",
       "       -2.20571832, -2.64797446, -4.95387722, -5.23386845, -3.59473518])"
      ]
     },
     "execution_count": 565,
     "metadata": {},
     "output_type": "execute_result"
    }
   ],
   "source": [
    "eta = np.zeros(new_x.shape[0]) #Generate log odds of viral by averaging posterior\n",
    "for row in trace['effects'][:,None,:]:\n",
    "    row=row[0]\n",
    "    eta = np.add(eta, np.dot(new_x, row.transpose()))\n",
    "eta = np.divide(eta, trace['effects'][:,None,:].shape[0])\n",
    "eta[:20]"
   ]
  },
  {
   "cell_type": "code",
   "execution_count": 566,
   "metadata": {},
   "outputs": [
    {
     "data": {
      "text/plain": [
       "array([0.0179084 , 0.02277944, 0.01161187, 0.01296437, 0.01319054,\n",
       "       0.01003214, 0.02666939, 0.00586036, 0.00347956, 0.00810382,\n",
       "       0.0293447 , 0.00473566, 0.01501486, 0.01679778, 0.00402424,\n",
       "       0.09923816, 0.06611396, 0.00700656, 0.00530457, 0.02673364])"
      ]
     },
     "execution_count": 566,
     "metadata": {},
     "output_type": "execute_result"
    }
   ],
   "source": [
    "p = invlogit(eta) #probability of viral infection\n",
    "\n",
    "p[:20]"
   ]
  },
  {
   "cell_type": "code",
   "execution_count": 568,
   "metadata": {},
   "outputs": [
    {
     "data": {
      "text/html": [
       "<div>\n",
       "<style scoped>\n",
       "    .dataframe tbody tr th:only-of-type {\n",
       "        vertical-align: middle;\n",
       "    }\n",
       "\n",
       "    .dataframe tbody tr th {\n",
       "        vertical-align: top;\n",
       "    }\n",
       "\n",
       "    .dataframe thead th {\n",
       "        text-align: right;\n",
       "    }\n",
       "</style>\n",
       "<table border=\"1\" class=\"dataframe\">\n",
       "  <thead>\n",
       "    <tr style=\"text-align: right;\">\n",
       "      <th></th>\n",
       "      <th>p_mal</th>\n",
       "      <th>pred_mal</th>\n",
       "      <th>diag</th>\n",
       "      <th>CMalaria</th>\n",
       "      <th>Enceph</th>\n",
       "      <th>Mening</th>\n",
       "      <th>glasgtot</th>\n",
       "      <th>sbp</th>\n",
       "      <th>patientid</th>\n",
       "      <th>p_bact</th>\n",
       "      <th>pred_bact</th>\n",
       "      <th>p_vir</th>\n",
       "      <th>pred_vir</th>\n",
       "    </tr>\n",
       "  </thead>\n",
       "  <tbody>\n",
       "    <tr>\n",
       "      <th>0</th>\n",
       "      <td>0.029548</td>\n",
       "      <td>0</td>\n",
       "      <td>5.0</td>\n",
       "      <td>0.0</td>\n",
       "      <td>0.0</td>\n",
       "      <td>1.0</td>\n",
       "      <td>15.0</td>\n",
       "      <td>103.0</td>\n",
       "      <td>378.0</td>\n",
       "      <td>0.340516</td>\n",
       "      <td>0</td>\n",
       "      <td>0.017908</td>\n",
       "      <td>0</td>\n",
       "    </tr>\n",
       "    <tr>\n",
       "      <th>1</th>\n",
       "      <td>0.034732</td>\n",
       "      <td>0</td>\n",
       "      <td>5.0</td>\n",
       "      <td>0.0</td>\n",
       "      <td>0.0</td>\n",
       "      <td>1.0</td>\n",
       "      <td>13.0</td>\n",
       "      <td>98.0</td>\n",
       "      <td>190.0</td>\n",
       "      <td>0.368331</td>\n",
       "      <td>0</td>\n",
       "      <td>0.022779</td>\n",
       "      <td>0</td>\n",
       "    </tr>\n",
       "    <tr>\n",
       "      <th>2</th>\n",
       "      <td>0.019822</td>\n",
       "      <td>0</td>\n",
       "      <td>5.0</td>\n",
       "      <td>0.0</td>\n",
       "      <td>1.0</td>\n",
       "      <td>0.0</td>\n",
       "      <td>11.0</td>\n",
       "      <td>118.0</td>\n",
       "      <td>98.0</td>\n",
       "      <td>0.080964</td>\n",
       "      <td>0</td>\n",
       "      <td>0.011612</td>\n",
       "      <td>0</td>\n",
       "    </tr>\n",
       "    <tr>\n",
       "      <th>3</th>\n",
       "      <td>0.009805</td>\n",
       "      <td>0</td>\n",
       "      <td>5.0</td>\n",
       "      <td>0.0</td>\n",
       "      <td>1.0</td>\n",
       "      <td>0.0</td>\n",
       "      <td>15.0</td>\n",
       "      <td>91.0</td>\n",
       "      <td>104.0</td>\n",
       "      <td>0.088268</td>\n",
       "      <td>0</td>\n",
       "      <td>0.012964</td>\n",
       "      <td>0</td>\n",
       "    </tr>\n",
       "    <tr>\n",
       "      <th>4</th>\n",
       "      <td>0.013332</td>\n",
       "      <td>0</td>\n",
       "      <td>5.0</td>\n",
       "      <td>0.0</td>\n",
       "      <td>1.0</td>\n",
       "      <td>0.0</td>\n",
       "      <td>13.0</td>\n",
       "      <td>100.0</td>\n",
       "      <td>235.0</td>\n",
       "      <td>0.087776</td>\n",
       "      <td>0</td>\n",
       "      <td>0.013191</td>\n",
       "      <td>0</td>\n",
       "    </tr>\n",
       "  </tbody>\n",
       "</table>\n",
       "</div>"
      ],
      "text/plain": [
       "      p_mal  pred_mal  diag  CMalaria  Enceph  Mening  glasgtot    sbp  \\\n",
       "0  0.029548         0   5.0       0.0     0.0     1.0      15.0  103.0   \n",
       "1  0.034732         0   5.0       0.0     0.0     1.0      13.0   98.0   \n",
       "2  0.019822         0   5.0       0.0     1.0     0.0      11.0  118.0   \n",
       "3  0.009805         0   5.0       0.0     1.0     0.0      15.0   91.0   \n",
       "4  0.013332         0   5.0       0.0     1.0     0.0      13.0  100.0   \n",
       "\n",
       "   patientid    p_bact  pred_bact     p_vir  pred_vir  \n",
       "0      378.0  0.340516          0  0.017908         0  \n",
       "1      190.0  0.368331          0  0.022779         0  \n",
       "2       98.0  0.080964          0  0.011612         0  \n",
       "3      104.0  0.088268          0  0.012964         0  \n",
       "4      235.0  0.087776          0  0.013191         0  "
      ]
     },
     "execution_count": 568,
     "metadata": {},
     "output_type": "execute_result"
    }
   ],
   "source": [
    "prediction2['p_vir'] = p\n",
    "prediction2['pred_vir'] = (prediction2['p_vir'] > .5) * 1\n",
    "prediction2.head(5)"
   ]
  },
  {
   "cell_type": "code",
   "execution_count": 569,
   "metadata": {},
   "outputs": [],
   "source": [
    "#do mal&bact"
   ]
  },
  {
   "cell_type": "code",
   "execution_count": 570,
   "metadata": {},
   "outputs": [],
   "source": [
    "y = train['diag'].copy()\n",
    "y[y==1] = 0\n",
    "y[y==2] = 0\n",
    "y[y==4] = 0\n",
    "y[y==5] = 0\n",
    "y[y==3] = 1"
   ]
  },
  {
   "cell_type": "code",
   "execution_count": 571,
   "metadata": {},
   "outputs": [],
   "source": [
    "x = train[['CMalaria','Mening','Enceph','glasgtot','sbp']]\n",
    "x = x.loc[y.index]"
   ]
  },
  {
   "cell_type": "code",
   "execution_count": 572,
   "metadata": {},
   "outputs": [],
   "source": [
    "patientid = train['patientid']\n",
    "patientid = patientid[y.index]"
   ]
  },
  {
   "cell_type": "code",
   "execution_count": 573,
   "metadata": {},
   "outputs": [],
   "source": [
    "def tinvlogit(x):\n",
    "    return t.exp(x) / (1 + t.exp(x))"
   ]
  },
  {
   "cell_type": "code",
   "execution_count": 574,
   "metadata": {},
   "outputs": [],
   "source": [
    "with pm.Model() as logistic_model:\n",
    "\n",
    "    effects = pm.Normal('effects', mu=0, sd=10, shape=x.shape[1])\n",
    "    \n",
    "    # expected parameter\n",
    "    p = tinvlogit(t.sum(effects * x, axis=1))\n",
    "    \n",
    "    # Likelihood (sampling distribution) of observations\n",
    "    Y_obs = pm.Bernoulli('Y_obs', p=p, observed=y)\n",
    "\n"
   ]
  },
  {
   "cell_type": "code",
   "execution_count": 575,
   "metadata": {
    "scrolled": true
   },
   "outputs": [
    {
     "name": "stderr",
     "output_type": "stream",
     "text": [
      "Auto-assigning NUTS sampler...\n",
      "Initializing NUTS using jitter+adapt_diag...\n",
      "Sequential sampling (1 chains in 1 job)\n",
      "NUTS: [effects]\n",
      "100%|██████████| 3000/3000 [00:14<00:00, 206.19it/s]\n",
      "Only one chain was sampled, this makes it impossible to run some convergence checks\n"
     ]
    }
   ],
   "source": [
    "with logistic_model:\n",
    "    trace = pm.sample(1000, tune=2000, chains=1)\n",
    "    \n",
    "#with logistic_model:\n",
    "#    # move the chain to the MAP which should be a good starting point\n",
    "#    start = pm.find_MAP()\n",
    "#    step = pm.NUTS(scaling=start)\n",
    "#    trace = pm.sample(5000, step, start)"
   ]
  },
  {
   "cell_type": "code",
   "execution_count": 576,
   "metadata": {},
   "outputs": [],
   "source": [
    "new_y = test['diag']"
   ]
  },
  {
   "cell_type": "code",
   "execution_count": 577,
   "metadata": {},
   "outputs": [],
   "source": [
    "new_x = test[['CMalaria','Mening','Enceph','glasgtot','sbp']]"
   ]
  },
  {
   "cell_type": "code",
   "execution_count": 578,
   "metadata": {},
   "outputs": [],
   "source": [
    "new_patientid = test['patientid']"
   ]
  },
  {
   "cell_type": "code",
   "execution_count": 579,
   "metadata": {},
   "outputs": [],
   "source": [
    "def invlogit(x):\n",
    "    return np.exp(x) / (1 + np.exp(x))"
   ]
  },
  {
   "cell_type": "code",
   "execution_count": 580,
   "metadata": {},
   "outputs": [
    {
     "data": {
      "text/plain": [
       "array([-13.16821737, -12.81056418, -12.11550746, -12.16690005,\n",
       "       -12.06045749, -12.36549896, -12.71962697,  -5.0880364 ,\n",
       "        -5.83923001,  -4.68491461, -12.5677158 ,  -5.49830131,\n",
       "       -13.36559715, -13.23999183,  -5.72198694,  -2.90913238,\n",
       "        -3.57060791,  -4.84640715,  -5.372696  , -12.54262907])"
      ]
     },
     "execution_count": 580,
     "metadata": {},
     "output_type": "execute_result"
    }
   ],
   "source": [
    "eta = np.zeros(new_x.shape[0]) #Generate log odds of viral by averaging posterior\n",
    "for row in trace['effects'][:,None,:]:\n",
    "    row=row[0]\n",
    "    eta = np.add(eta, np.dot(new_x, row.transpose()))\n",
    "eta = np.divide(eta, trace['effects'][:,None,:].shape[0])\n",
    "eta[:20]"
   ]
  },
  {
   "cell_type": "code",
   "execution_count": 581,
   "metadata": {},
   "outputs": [
    {
     "data": {
      "text/plain": [
       "array([1.91035918e-06, 2.73175332e-06, 5.47393436e-06, 5.19972274e-06,\n",
       "       5.78372123e-06, 4.26314579e-06, 2.99181610e-06, 6.13228668e-03,\n",
       "       2.90263345e-03, 9.14904515e-03, 3.48264226e-06, 4.07702929e-03,\n",
       "       1.56817394e-06, 1.77804945e-06, 3.26252188e-03, 5.17039588e-02,\n",
       "       2.73686239e-02, 7.79531005e-03, 4.62015577e-03, 3.57111516e-06])"
      ]
     },
     "execution_count": 581,
     "metadata": {},
     "output_type": "execute_result"
    }
   ],
   "source": [
    "p = invlogit(eta) #probability of viral infection\n",
    "\n",
    "p[:20]"
   ]
  },
  {
   "cell_type": "code",
   "execution_count": 582,
   "metadata": {},
   "outputs": [
    {
     "data": {
      "text/html": [
       "<div>\n",
       "<style scoped>\n",
       "    .dataframe tbody tr th:only-of-type {\n",
       "        vertical-align: middle;\n",
       "    }\n",
       "\n",
       "    .dataframe tbody tr th {\n",
       "        vertical-align: top;\n",
       "    }\n",
       "\n",
       "    .dataframe thead th {\n",
       "        text-align: right;\n",
       "    }\n",
       "</style>\n",
       "<table border=\"1\" class=\"dataframe\">\n",
       "  <thead>\n",
       "    <tr style=\"text-align: right;\">\n",
       "      <th></th>\n",
       "      <th>p_mal</th>\n",
       "      <th>pred_mal</th>\n",
       "      <th>diag</th>\n",
       "      <th>CMalaria</th>\n",
       "      <th>Enceph</th>\n",
       "      <th>Mening</th>\n",
       "      <th>glasgtot</th>\n",
       "      <th>sbp</th>\n",
       "      <th>patientid</th>\n",
       "      <th>p_bact</th>\n",
       "      <th>pred_bact</th>\n",
       "      <th>p_vir</th>\n",
       "      <th>pred_vir</th>\n",
       "      <th>p_mal&amp;bact</th>\n",
       "      <th>pred_mal&amp;bact</th>\n",
       "    </tr>\n",
       "  </thead>\n",
       "  <tbody>\n",
       "    <tr>\n",
       "      <th>0</th>\n",
       "      <td>0.029548</td>\n",
       "      <td>0</td>\n",
       "      <td>5.0</td>\n",
       "      <td>0.0</td>\n",
       "      <td>0.0</td>\n",
       "      <td>1.0</td>\n",
       "      <td>15.0</td>\n",
       "      <td>103.0</td>\n",
       "      <td>378.0</td>\n",
       "      <td>0.340516</td>\n",
       "      <td>0</td>\n",
       "      <td>0.017908</td>\n",
       "      <td>0</td>\n",
       "      <td>0.000002</td>\n",
       "      <td>0</td>\n",
       "    </tr>\n",
       "    <tr>\n",
       "      <th>1</th>\n",
       "      <td>0.034732</td>\n",
       "      <td>0</td>\n",
       "      <td>5.0</td>\n",
       "      <td>0.0</td>\n",
       "      <td>0.0</td>\n",
       "      <td>1.0</td>\n",
       "      <td>13.0</td>\n",
       "      <td>98.0</td>\n",
       "      <td>190.0</td>\n",
       "      <td>0.368331</td>\n",
       "      <td>0</td>\n",
       "      <td>0.022779</td>\n",
       "      <td>0</td>\n",
       "      <td>0.000003</td>\n",
       "      <td>0</td>\n",
       "    </tr>\n",
       "    <tr>\n",
       "      <th>2</th>\n",
       "      <td>0.019822</td>\n",
       "      <td>0</td>\n",
       "      <td>5.0</td>\n",
       "      <td>0.0</td>\n",
       "      <td>1.0</td>\n",
       "      <td>0.0</td>\n",
       "      <td>11.0</td>\n",
       "      <td>118.0</td>\n",
       "      <td>98.0</td>\n",
       "      <td>0.080964</td>\n",
       "      <td>0</td>\n",
       "      <td>0.011612</td>\n",
       "      <td>0</td>\n",
       "      <td>0.000005</td>\n",
       "      <td>0</td>\n",
       "    </tr>\n",
       "    <tr>\n",
       "      <th>3</th>\n",
       "      <td>0.009805</td>\n",
       "      <td>0</td>\n",
       "      <td>5.0</td>\n",
       "      <td>0.0</td>\n",
       "      <td>1.0</td>\n",
       "      <td>0.0</td>\n",
       "      <td>15.0</td>\n",
       "      <td>91.0</td>\n",
       "      <td>104.0</td>\n",
       "      <td>0.088268</td>\n",
       "      <td>0</td>\n",
       "      <td>0.012964</td>\n",
       "      <td>0</td>\n",
       "      <td>0.000005</td>\n",
       "      <td>0</td>\n",
       "    </tr>\n",
       "    <tr>\n",
       "      <th>4</th>\n",
       "      <td>0.013332</td>\n",
       "      <td>0</td>\n",
       "      <td>5.0</td>\n",
       "      <td>0.0</td>\n",
       "      <td>1.0</td>\n",
       "      <td>0.0</td>\n",
       "      <td>13.0</td>\n",
       "      <td>100.0</td>\n",
       "      <td>235.0</td>\n",
       "      <td>0.087776</td>\n",
       "      <td>0</td>\n",
       "      <td>0.013191</td>\n",
       "      <td>0</td>\n",
       "      <td>0.000006</td>\n",
       "      <td>0</td>\n",
       "    </tr>\n",
       "  </tbody>\n",
       "</table>\n",
       "</div>"
      ],
      "text/plain": [
       "      p_mal  pred_mal  diag  CMalaria  Enceph  Mening  glasgtot    sbp  \\\n",
       "0  0.029548         0   5.0       0.0     0.0     1.0      15.0  103.0   \n",
       "1  0.034732         0   5.0       0.0     0.0     1.0      13.0   98.0   \n",
       "2  0.019822         0   5.0       0.0     1.0     0.0      11.0  118.0   \n",
       "3  0.009805         0   5.0       0.0     1.0     0.0      15.0   91.0   \n",
       "4  0.013332         0   5.0       0.0     1.0     0.0      13.0  100.0   \n",
       "\n",
       "   patientid    p_bact  pred_bact     p_vir  pred_vir  p_mal&bact  \\\n",
       "0      378.0  0.340516          0  0.017908         0    0.000002   \n",
       "1      190.0  0.368331          0  0.022779         0    0.000003   \n",
       "2       98.0  0.080964          0  0.011612         0    0.000005   \n",
       "3      104.0  0.088268          0  0.012964         0    0.000005   \n",
       "4      235.0  0.087776          0  0.013191         0    0.000006   \n",
       "\n",
       "   pred_mal&bact  \n",
       "0              0  \n",
       "1              0  \n",
       "2              0  \n",
       "3              0  \n",
       "4              0  "
      ]
     },
     "execution_count": 582,
     "metadata": {},
     "output_type": "execute_result"
    }
   ],
   "source": [
    "prediction2['p_mal&bact'] = p\n",
    "prediction2['pred_mal&bact'] = (prediction2['p_mal&bact'] > .5) * 1\n",
    "prediction2.head(5)"
   ]
  },
  {
   "cell_type": "code",
   "execution_count": 583,
   "metadata": {},
   "outputs": [],
   "source": [
    "#now do tbcrypto"
   ]
  },
  {
   "cell_type": "code",
   "execution_count": 584,
   "metadata": {},
   "outputs": [],
   "source": [
    "y = train['diag'].copy()\n",
    "y[y==1] = 0\n",
    "y[y==2] = 0\n",
    "y[y==3] = 0\n",
    "y[y==5] = 0\n",
    "y[y==4] = 1"
   ]
  },
  {
   "cell_type": "code",
   "execution_count": 585,
   "metadata": {},
   "outputs": [],
   "source": [
    "x = train[['CMalaria','Mening','Enceph','glasgtot','sbp']]\n",
    "x = x.loc[y.index]"
   ]
  },
  {
   "cell_type": "code",
   "execution_count": 586,
   "metadata": {},
   "outputs": [],
   "source": [
    "patientid = train['patientid']\n",
    "patientid = patientid[y.index]"
   ]
  },
  {
   "cell_type": "code",
   "execution_count": 587,
   "metadata": {},
   "outputs": [],
   "source": [
    "def tinvlogit(x):\n",
    "    return t.exp(x) / (1 + t.exp(x))"
   ]
  },
  {
   "cell_type": "code",
   "execution_count": 592,
   "metadata": {},
   "outputs": [],
   "source": [
    "with pm.Model() as logistic_model:\n",
    "\n",
    "    effects = pm.Normal('effects', mu=0, sd=10, shape=x.shape[1])\n",
    "    \n",
    "    # expected parameter\n",
    "    p = tinvlogit(t.sum(effects * x, axis=1))\n",
    "    \n",
    "    # Likelihood (sampling distribution) of observations\n",
    "    Y_obs = pm.Bernoulli('Y_obs', p=p, observed=y)\n",
    "\n"
   ]
  },
  {
   "cell_type": "code",
   "execution_count": 593,
   "metadata": {
    "scrolled": true
   },
   "outputs": [
    {
     "name": "stderr",
     "output_type": "stream",
     "text": [
      "Auto-assigning NUTS sampler...\n",
      "Initializing NUTS using jitter+adapt_diag...\n",
      "Sequential sampling (1 chains in 1 job)\n",
      "NUTS: [effects]\n",
      "100%|██████████| 3000/3000 [00:13<00:00, 215.78it/s]\n",
      "There were 1 divergences after tuning. Increase `target_accept` or reparameterize.\n",
      "Only one chain was sampled, this makes it impossible to run some convergence checks\n"
     ]
    }
   ],
   "source": [
    "with logistic_model:\n",
    "    trace = pm.sample(1000, tune=2000, chains=1)\n",
    "    \n",
    "#with logistic_model:\n",
    "#    # move the chain to the MAP which should be a good starting point\n",
    "#    start = pm.find_MAP()\n",
    "#    step = pm.NUTS(scaling=start)\n",
    "#    trace = pm.sample(5000, step, start)"
   ]
  },
  {
   "cell_type": "code",
   "execution_count": 594,
   "metadata": {},
   "outputs": [],
   "source": [
    "new_y = test['diag']"
   ]
  },
  {
   "cell_type": "code",
   "execution_count": 595,
   "metadata": {},
   "outputs": [],
   "source": [
    "new_x = test[['CMalaria','Mening','Enceph','glasgtot','sbp']]"
   ]
  },
  {
   "cell_type": "code",
   "execution_count": 596,
   "metadata": {},
   "outputs": [],
   "source": [
    "new_patientid = test['patientid']"
   ]
  },
  {
   "cell_type": "code",
   "execution_count": 597,
   "metadata": {},
   "outputs": [],
   "source": [
    "def invlogit(x):\n",
    "    return np.exp(x) / (1 + np.exp(x))"
   ]
  },
  {
   "cell_type": "code",
   "execution_count": 598,
   "metadata": {},
   "outputs": [
    {
     "data": {
      "text/plain": [
       "array([ -5.18500827,  -4.76888706, -13.00047461, -12.66506664,\n",
       "       -12.69075909, -13.22724711,  -4.39605531, -12.61293596,\n",
       "       -13.50829461, -12.01039887,  -4.23533188, -12.90869036,\n",
       "        -5.53214758,  -5.31124075, -13.19564626,  -3.94546789,\n",
       "        -4.68303595, -12.29442194, -12.68778353,  -4.51055645])"
      ]
     },
     "execution_count": 598,
     "metadata": {},
     "output_type": "execute_result"
    }
   ],
   "source": [
    "eta = np.zeros(new_x.shape[0]) #Generate log odds of viral by averaging posterior\n",
    "for row in trace['effects'][:,None,:]:\n",
    "    row=row[0]\n",
    "    eta = np.add(eta, np.dot(new_x, row.transpose()))\n",
    "eta = np.divide(eta, trace['effects'][:,None,:].shape[0])\n",
    "eta[:20]"
   ]
  },
  {
   "cell_type": "code",
   "execution_count": 599,
   "metadata": {},
   "outputs": [
    {
     "data": {
      "text/plain": [
       "array([5.56870614e-03, 8.41835321e-03, 2.25925179e-06, 3.15958522e-06,\n",
       "       3.07944193e-06, 1.80085518e-06, 1.21757887e-02, 3.32866483e-06,\n",
       "       1.35963269e-06, 6.08061358e-06, 1.42684693e-02, 2.47642929e-06,\n",
       "       3.94188103e-03, 4.91155638e-03, 1.85867234e-06, 1.89751440e-02,\n",
       "       9.16609150e-03, 4.57718438e-06, 3.08861861e-06, 1.08728240e-02])"
      ]
     },
     "execution_count": 599,
     "metadata": {},
     "output_type": "execute_result"
    }
   ],
   "source": [
    "p = invlogit(eta) #probability of viral infection\n",
    "\n",
    "p[:20]"
   ]
  },
  {
   "cell_type": "code",
   "execution_count": 600,
   "metadata": {
    "scrolled": true
   },
   "outputs": [
    {
     "data": {
      "text/html": [
       "<div>\n",
       "<style scoped>\n",
       "    .dataframe tbody tr th:only-of-type {\n",
       "        vertical-align: middle;\n",
       "    }\n",
       "\n",
       "    .dataframe tbody tr th {\n",
       "        vertical-align: top;\n",
       "    }\n",
       "\n",
       "    .dataframe thead th {\n",
       "        text-align: right;\n",
       "    }\n",
       "</style>\n",
       "<table border=\"1\" class=\"dataframe\">\n",
       "  <thead>\n",
       "    <tr style=\"text-align: right;\">\n",
       "      <th></th>\n",
       "      <th>p_mal</th>\n",
       "      <th>pred_mal</th>\n",
       "      <th>diag</th>\n",
       "      <th>CMalaria</th>\n",
       "      <th>Enceph</th>\n",
       "      <th>Mening</th>\n",
       "      <th>glasgtot</th>\n",
       "      <th>sbp</th>\n",
       "      <th>patientid</th>\n",
       "      <th>p_bact</th>\n",
       "      <th>pred_bact</th>\n",
       "      <th>p_vir</th>\n",
       "      <th>pred_vir</th>\n",
       "      <th>p_mal&amp;bact</th>\n",
       "      <th>pred_mal&amp;bact</th>\n",
       "      <th>p_tbcrypto</th>\n",
       "      <th>pred_tbcrypto</th>\n",
       "    </tr>\n",
       "  </thead>\n",
       "  <tbody>\n",
       "    <tr>\n",
       "      <th>0</th>\n",
       "      <td>0.029548</td>\n",
       "      <td>0</td>\n",
       "      <td>5.0</td>\n",
       "      <td>0.0</td>\n",
       "      <td>0.0</td>\n",
       "      <td>1.0</td>\n",
       "      <td>15.0</td>\n",
       "      <td>103.0</td>\n",
       "      <td>378.0</td>\n",
       "      <td>0.340516</td>\n",
       "      <td>0</td>\n",
       "      <td>0.017908</td>\n",
       "      <td>0</td>\n",
       "      <td>0.000002</td>\n",
       "      <td>0</td>\n",
       "      <td>0.005569</td>\n",
       "      <td>0</td>\n",
       "    </tr>\n",
       "    <tr>\n",
       "      <th>1</th>\n",
       "      <td>0.034732</td>\n",
       "      <td>0</td>\n",
       "      <td>5.0</td>\n",
       "      <td>0.0</td>\n",
       "      <td>0.0</td>\n",
       "      <td>1.0</td>\n",
       "      <td>13.0</td>\n",
       "      <td>98.0</td>\n",
       "      <td>190.0</td>\n",
       "      <td>0.368331</td>\n",
       "      <td>0</td>\n",
       "      <td>0.022779</td>\n",
       "      <td>0</td>\n",
       "      <td>0.000003</td>\n",
       "      <td>0</td>\n",
       "      <td>0.008418</td>\n",
       "      <td>0</td>\n",
       "    </tr>\n",
       "    <tr>\n",
       "      <th>2</th>\n",
       "      <td>0.019822</td>\n",
       "      <td>0</td>\n",
       "      <td>5.0</td>\n",
       "      <td>0.0</td>\n",
       "      <td>1.0</td>\n",
       "      <td>0.0</td>\n",
       "      <td>11.0</td>\n",
       "      <td>118.0</td>\n",
       "      <td>98.0</td>\n",
       "      <td>0.080964</td>\n",
       "      <td>0</td>\n",
       "      <td>0.011612</td>\n",
       "      <td>0</td>\n",
       "      <td>0.000005</td>\n",
       "      <td>0</td>\n",
       "      <td>0.000002</td>\n",
       "      <td>0</td>\n",
       "    </tr>\n",
       "    <tr>\n",
       "      <th>3</th>\n",
       "      <td>0.009805</td>\n",
       "      <td>0</td>\n",
       "      <td>5.0</td>\n",
       "      <td>0.0</td>\n",
       "      <td>1.0</td>\n",
       "      <td>0.0</td>\n",
       "      <td>15.0</td>\n",
       "      <td>91.0</td>\n",
       "      <td>104.0</td>\n",
       "      <td>0.088268</td>\n",
       "      <td>0</td>\n",
       "      <td>0.012964</td>\n",
       "      <td>0</td>\n",
       "      <td>0.000005</td>\n",
       "      <td>0</td>\n",
       "      <td>0.000003</td>\n",
       "      <td>0</td>\n",
       "    </tr>\n",
       "    <tr>\n",
       "      <th>4</th>\n",
       "      <td>0.013332</td>\n",
       "      <td>0</td>\n",
       "      <td>5.0</td>\n",
       "      <td>0.0</td>\n",
       "      <td>1.0</td>\n",
       "      <td>0.0</td>\n",
       "      <td>13.0</td>\n",
       "      <td>100.0</td>\n",
       "      <td>235.0</td>\n",
       "      <td>0.087776</td>\n",
       "      <td>0</td>\n",
       "      <td>0.013191</td>\n",
       "      <td>0</td>\n",
       "      <td>0.000006</td>\n",
       "      <td>0</td>\n",
       "      <td>0.000003</td>\n",
       "      <td>0</td>\n",
       "    </tr>\n",
       "  </tbody>\n",
       "</table>\n",
       "</div>"
      ],
      "text/plain": [
       "      p_mal  pred_mal  diag  CMalaria  Enceph  Mening  glasgtot    sbp  \\\n",
       "0  0.029548         0   5.0       0.0     0.0     1.0      15.0  103.0   \n",
       "1  0.034732         0   5.0       0.0     0.0     1.0      13.0   98.0   \n",
       "2  0.019822         0   5.0       0.0     1.0     0.0      11.0  118.0   \n",
       "3  0.009805         0   5.0       0.0     1.0     0.0      15.0   91.0   \n",
       "4  0.013332         0   5.0       0.0     1.0     0.0      13.0  100.0   \n",
       "\n",
       "   patientid    p_bact  pred_bact     p_vir  pred_vir  p_mal&bact  \\\n",
       "0      378.0  0.340516          0  0.017908         0    0.000002   \n",
       "1      190.0  0.368331          0  0.022779         0    0.000003   \n",
       "2       98.0  0.080964          0  0.011612         0    0.000005   \n",
       "3      104.0  0.088268          0  0.012964         0    0.000005   \n",
       "4      235.0  0.087776          0  0.013191         0    0.000006   \n",
       "\n",
       "   pred_mal&bact  p_tbcrypto  pred_tbcrypto  \n",
       "0              0    0.005569              0  \n",
       "1              0    0.008418              0  \n",
       "2              0    0.000002              0  \n",
       "3              0    0.000003              0  \n",
       "4              0    0.000003              0  "
      ]
     },
     "execution_count": 600,
     "metadata": {},
     "output_type": "execute_result"
    }
   ],
   "source": [
    "prediction2['p_tbcrypto'] = p\n",
    "prediction2['pred_tbcrypto'] = (prediction2['p_tbcrypto'] > .5) * 1\n",
    "prediction2.head(5)"
   ]
  },
  {
   "cell_type": "code",
   "execution_count": 601,
   "metadata": {},
   "outputs": [],
   "source": [
    "#Now do Other"
   ]
  },
  {
   "cell_type": "code",
   "execution_count": 602,
   "metadata": {},
   "outputs": [],
   "source": [
    "y = train['diag'].copy()\n",
    "y[y==1] = 0\n",
    "y[y==2] = 0\n",
    "y[y==3] = 0\n",
    "y[y==4] = 0\n",
    "y[y==5] = 1"
   ]
  },
  {
   "cell_type": "code",
   "execution_count": 603,
   "metadata": {},
   "outputs": [],
   "source": [
    "x = train[['CMalaria','Mening','Enceph','glasgtot','sbp']]\n",
    "x = x.loc[y.index]"
   ]
  },
  {
   "cell_type": "code",
   "execution_count": 604,
   "metadata": {},
   "outputs": [],
   "source": [
    "patientid = train['patientid']\n",
    "patientid = patientid[y.index]"
   ]
  },
  {
   "cell_type": "code",
   "execution_count": 605,
   "metadata": {},
   "outputs": [],
   "source": [
    "def tinvlogit(x):\n",
    "    return t.exp(x) / (1 + t.exp(x))"
   ]
  },
  {
   "cell_type": "code",
   "execution_count": 608,
   "metadata": {},
   "outputs": [],
   "source": [
    "with pm.Model() as logistic_model:\n",
    "\n",
    "    effects = pm.Normal('effects', mu=0, sd=10, shape=x.shape[1])\n",
    "    \n",
    "    # expected parameter\n",
    "    p = tinvlogit(t.sum(effects * x, axis=1))\n",
    "    \n",
    "    # Likelihood (sampling distribution) of observations\n",
    "    Y_obs = pm.Bernoulli('Y_obs', p=p, observed=y)\n",
    "\n"
   ]
  },
  {
   "cell_type": "code",
   "execution_count": 609,
   "metadata": {
    "scrolled": true
   },
   "outputs": [
    {
     "name": "stderr",
     "output_type": "stream",
     "text": [
      "Auto-assigning NUTS sampler...\n",
      "Initializing NUTS using jitter+adapt_diag...\n",
      "Sequential sampling (1 chains in 1 job)\n",
      "NUTS: [effects]\n",
      "100%|██████████| 3000/3000 [00:15<00:00, 188.23it/s]\n",
      "Only one chain was sampled, this makes it impossible to run some convergence checks\n"
     ]
    }
   ],
   "source": [
    "with logistic_model:\n",
    "    trace = pm.sample(1000, tune=2000, chains=1)\n",
    "    \n",
    "#with logistic_model:\n",
    "#    # move the chain to the MAP which should be a good starting point\n",
    "#    start = pm.find_MAP()\n",
    "#    step = pm.NUTS(scaling=start)\n",
    "#    trace = pm.sample(5000, step, start)"
   ]
  },
  {
   "cell_type": "code",
   "execution_count": 610,
   "metadata": {},
   "outputs": [],
   "source": [
    "new_y = test['diag']"
   ]
  },
  {
   "cell_type": "code",
   "execution_count": 611,
   "metadata": {},
   "outputs": [],
   "source": [
    "new_x = test[['CMalaria','Mening','Enceph','glasgtot','sbp']]"
   ]
  },
  {
   "cell_type": "code",
   "execution_count": 612,
   "metadata": {},
   "outputs": [],
   "source": [
    "new_patientid = test['patientid']"
   ]
  },
  {
   "cell_type": "code",
   "execution_count": 613,
   "metadata": {},
   "outputs": [],
   "source": [
    "def invlogit(x):\n",
    "    return np.exp(x) / (1 + np.exp(x))"
   ]
  },
  {
   "cell_type": "code",
   "execution_count": 614,
   "metadata": {},
   "outputs": [
    {
     "data": {
      "text/plain": [
       "array([ 0.15020372,  0.11491394,  1.53832547,  2.07775585,  1.86506305,\n",
       "        1.64964511,  0.46699482, -1.63131428, -1.58607801, -1.49056362,\n",
       "        0.43034247, -1.34531678,  0.01081564,  0.09951715, -1.359351  ,\n",
       "       -0.47116752, -0.36257303, -1.60460842, -1.25661527,  0.01626595])"
      ]
     },
     "execution_count": 614,
     "metadata": {},
     "output_type": "execute_result"
    }
   ],
   "source": [
    "eta = np.zeros(new_x.shape[0]) #Generate log odds of viral by averaging posterior\n",
    "for row in trace['effects'][:,None,:]:\n",
    "    row=row[0]\n",
    "    eta = np.add(eta, np.dot(new_x, row.transpose()))\n",
    "eta = np.divide(eta, trace['effects'][:,None,:].shape[0])\n",
    "eta[:20]"
   ]
  },
  {
   "cell_type": "code",
   "execution_count": 615,
   "metadata": {},
   "outputs": [
    {
     "data": {
      "text/plain": [
       "array([0.53748049, 0.52869691, 0.82322117, 0.88872229, 0.865886  ,\n",
       "       0.83884308, 0.61467222, 0.1636504 , 0.16993641, 0.18383715,\n",
       "       0.60595544, 0.20663708, 0.50270388, 0.52485877, 0.2043458 ,\n",
       "       0.38433995, 0.41033685, 0.16733851, 0.22155711, 0.5040664 ])"
      ]
     },
     "execution_count": 615,
     "metadata": {},
     "output_type": "execute_result"
    }
   ],
   "source": [
    "p = invlogit(eta)\n",
    "\n",
    "p[:20]"
   ]
  },
  {
   "cell_type": "code",
   "execution_count": 618,
   "metadata": {
    "scrolled": true
   },
   "outputs": [
    {
     "data": {
      "text/html": [
       "<div>\n",
       "<style scoped>\n",
       "    .dataframe tbody tr th:only-of-type {\n",
       "        vertical-align: middle;\n",
       "    }\n",
       "\n",
       "    .dataframe tbody tr th {\n",
       "        vertical-align: top;\n",
       "    }\n",
       "\n",
       "    .dataframe thead th {\n",
       "        text-align: right;\n",
       "    }\n",
       "</style>\n",
       "<table border=\"1\" class=\"dataframe\">\n",
       "  <thead>\n",
       "    <tr style=\"text-align: right;\">\n",
       "      <th></th>\n",
       "      <th>p_mal</th>\n",
       "      <th>pred_mal</th>\n",
       "      <th>diag</th>\n",
       "      <th>CMalaria</th>\n",
       "      <th>Enceph</th>\n",
       "      <th>Mening</th>\n",
       "      <th>glasgtot</th>\n",
       "      <th>sbp</th>\n",
       "      <th>patientid</th>\n",
       "      <th>p_bact</th>\n",
       "      <th>pred_bact</th>\n",
       "      <th>p_vir</th>\n",
       "      <th>pred_vir</th>\n",
       "      <th>p_mal&amp;bact</th>\n",
       "      <th>pred_mal&amp;bact</th>\n",
       "      <th>p_tbcrypto</th>\n",
       "      <th>pred_tbcrypto</th>\n",
       "      <th>p_other</th>\n",
       "      <th>pred_other</th>\n",
       "    </tr>\n",
       "  </thead>\n",
       "  <tbody>\n",
       "    <tr>\n",
       "      <th>0</th>\n",
       "      <td>0.029548</td>\n",
       "      <td>0</td>\n",
       "      <td>5.0</td>\n",
       "      <td>0.0</td>\n",
       "      <td>0.0</td>\n",
       "      <td>1.0</td>\n",
       "      <td>15.0</td>\n",
       "      <td>103.0</td>\n",
       "      <td>378.0</td>\n",
       "      <td>0.340516</td>\n",
       "      <td>0</td>\n",
       "      <td>0.017908</td>\n",
       "      <td>0</td>\n",
       "      <td>0.000002</td>\n",
       "      <td>0</td>\n",
       "      <td>0.005569</td>\n",
       "      <td>0</td>\n",
       "      <td>0.537480</td>\n",
       "      <td>1</td>\n",
       "    </tr>\n",
       "    <tr>\n",
       "      <th>1</th>\n",
       "      <td>0.034732</td>\n",
       "      <td>0</td>\n",
       "      <td>5.0</td>\n",
       "      <td>0.0</td>\n",
       "      <td>0.0</td>\n",
       "      <td>1.0</td>\n",
       "      <td>13.0</td>\n",
       "      <td>98.0</td>\n",
       "      <td>190.0</td>\n",
       "      <td>0.368331</td>\n",
       "      <td>0</td>\n",
       "      <td>0.022779</td>\n",
       "      <td>0</td>\n",
       "      <td>0.000003</td>\n",
       "      <td>0</td>\n",
       "      <td>0.008418</td>\n",
       "      <td>0</td>\n",
       "      <td>0.528697</td>\n",
       "      <td>1</td>\n",
       "    </tr>\n",
       "    <tr>\n",
       "      <th>2</th>\n",
       "      <td>0.019822</td>\n",
       "      <td>0</td>\n",
       "      <td>5.0</td>\n",
       "      <td>0.0</td>\n",
       "      <td>1.0</td>\n",
       "      <td>0.0</td>\n",
       "      <td>11.0</td>\n",
       "      <td>118.0</td>\n",
       "      <td>98.0</td>\n",
       "      <td>0.080964</td>\n",
       "      <td>0</td>\n",
       "      <td>0.011612</td>\n",
       "      <td>0</td>\n",
       "      <td>0.000005</td>\n",
       "      <td>0</td>\n",
       "      <td>0.000002</td>\n",
       "      <td>0</td>\n",
       "      <td>0.823221</td>\n",
       "      <td>1</td>\n",
       "    </tr>\n",
       "    <tr>\n",
       "      <th>3</th>\n",
       "      <td>0.009805</td>\n",
       "      <td>0</td>\n",
       "      <td>5.0</td>\n",
       "      <td>0.0</td>\n",
       "      <td>1.0</td>\n",
       "      <td>0.0</td>\n",
       "      <td>15.0</td>\n",
       "      <td>91.0</td>\n",
       "      <td>104.0</td>\n",
       "      <td>0.088268</td>\n",
       "      <td>0</td>\n",
       "      <td>0.012964</td>\n",
       "      <td>0</td>\n",
       "      <td>0.000005</td>\n",
       "      <td>0</td>\n",
       "      <td>0.000003</td>\n",
       "      <td>0</td>\n",
       "      <td>0.888722</td>\n",
       "      <td>1</td>\n",
       "    </tr>\n",
       "    <tr>\n",
       "      <th>4</th>\n",
       "      <td>0.013332</td>\n",
       "      <td>0</td>\n",
       "      <td>5.0</td>\n",
       "      <td>0.0</td>\n",
       "      <td>1.0</td>\n",
       "      <td>0.0</td>\n",
       "      <td>13.0</td>\n",
       "      <td>100.0</td>\n",
       "      <td>235.0</td>\n",
       "      <td>0.087776</td>\n",
       "      <td>0</td>\n",
       "      <td>0.013191</td>\n",
       "      <td>0</td>\n",
       "      <td>0.000006</td>\n",
       "      <td>0</td>\n",
       "      <td>0.000003</td>\n",
       "      <td>0</td>\n",
       "      <td>0.865886</td>\n",
       "      <td>1</td>\n",
       "    </tr>\n",
       "  </tbody>\n",
       "</table>\n",
       "</div>"
      ],
      "text/plain": [
       "      p_mal  pred_mal  diag  CMalaria  Enceph  Mening  glasgtot    sbp  \\\n",
       "0  0.029548         0   5.0       0.0     0.0     1.0      15.0  103.0   \n",
       "1  0.034732         0   5.0       0.0     0.0     1.0      13.0   98.0   \n",
       "2  0.019822         0   5.0       0.0     1.0     0.0      11.0  118.0   \n",
       "3  0.009805         0   5.0       0.0     1.0     0.0      15.0   91.0   \n",
       "4  0.013332         0   5.0       0.0     1.0     0.0      13.0  100.0   \n",
       "\n",
       "   patientid    p_bact  pred_bact     p_vir  pred_vir  p_mal&bact  \\\n",
       "0      378.0  0.340516          0  0.017908         0    0.000002   \n",
       "1      190.0  0.368331          0  0.022779         0    0.000003   \n",
       "2       98.0  0.080964          0  0.011612         0    0.000005   \n",
       "3      104.0  0.088268          0  0.012964         0    0.000005   \n",
       "4      235.0  0.087776          0  0.013191         0    0.000006   \n",
       "\n",
       "   pred_mal&bact  p_tbcrypto  pred_tbcrypto   p_other  pred_other  \n",
       "0              0    0.005569              0  0.537480           1  \n",
       "1              0    0.008418              0  0.528697           1  \n",
       "2              0    0.000002              0  0.823221           1  \n",
       "3              0    0.000003              0  0.888722           1  \n",
       "4              0    0.000003              0  0.865886           1  "
      ]
     },
     "execution_count": 618,
     "metadata": {},
     "output_type": "execute_result"
    }
   ],
   "source": [
    "prediction2['p_other'] = p\n",
    "prediction2['pred_other'] = (prediction2['p_other'] > .5) * 1\n",
    "prediction2.head(5)"
   ]
  },
  {
   "cell_type": "code",
   "execution_count": null,
   "metadata": {},
   "outputs": [],
   "source": []
  },
  {
   "cell_type": "markdown",
   "metadata": {},
   "source": [
    "# Begin analysis of final group"
   ]
  },
  {
   "cell_type": "code",
   "execution_count": 619,
   "metadata": {},
   "outputs": [
    {
     "data": {
      "text/plain": [
       "(240, 7)"
      ]
     },
     "execution_count": 619,
     "metadata": {},
     "output_type": "execute_result"
    }
   ],
   "source": [
    "test = var[240:]\n",
    "train = var[:240]\n",
    "train.shape"
   ]
  },
  {
   "cell_type": "code",
   "execution_count": null,
   "metadata": {},
   "outputs": [],
   "source": []
  },
  {
   "cell_type": "code",
   "execution_count": 620,
   "metadata": {},
   "outputs": [],
   "source": [
    "y = train['diag'].copy()\n",
    "#y = y[np.isin(y,[0,1])] #logreg comparison of mal and bact groups\n",
    "y[y==1] = 10 # Set mal to 1 other to 0\n",
    "y[y==2] = 10\n",
    "y[y==3] = 10\n",
    "y[y==4] = 10\n",
    "y[y==5] = 10\n",
    "y[y==0] = 1\n",
    "y[y==10] = 0"
   ]
  },
  {
   "cell_type": "code",
   "execution_count": 621,
   "metadata": {},
   "outputs": [],
   "source": [
    "x = train[['CMalaria','Mening','Enceph','glasgtot','sbp']]\n",
    "x = x.loc[y.index]"
   ]
  },
  {
   "cell_type": "code",
   "execution_count": 622,
   "metadata": {},
   "outputs": [],
   "source": [
    "patientid = train['patientid']\n",
    "patientid = patientid[y.index]"
   ]
  },
  {
   "cell_type": "code",
   "execution_count": 623,
   "metadata": {},
   "outputs": [],
   "source": [
    "def tinvlogit(x):\n",
    "    return t.exp(x) / (1 + t.exp(x))"
   ]
  },
  {
   "cell_type": "code",
   "execution_count": 624,
   "metadata": {},
   "outputs": [],
   "source": [
    "with pm.Model() as logistic_model:\n",
    "\n",
    "    effects = pm.Normal('effects', mu=0, sd=10, shape=x.shape[1])\n",
    "    \n",
    "    # expected parameter\n",
    "    p = tinvlogit(t.sum(effects * x, axis=1))\n",
    "    \n",
    "    # Likelihood (sampling distribution) of observations\n",
    "    Y_obs = pm.Bernoulli('Y_obs', p=p, observed=y)\n",
    "\n"
   ]
  },
  {
   "cell_type": "code",
   "execution_count": 625,
   "metadata": {},
   "outputs": [
    {
     "name": "stderr",
     "output_type": "stream",
     "text": [
      "Auto-assigning NUTS sampler...\n",
      "Initializing NUTS using jitter+adapt_diag...\n",
      "Sequential sampling (1 chains in 1 job)\n",
      "NUTS: [effects]\n",
      "100%|██████████| 3000/3000 [00:15<00:00, 199.49it/s]\n",
      "Only one chain was sampled, this makes it impossible to run some convergence checks\n"
     ]
    }
   ],
   "source": [
    "with logistic_model:\n",
    "    trace = pm.sample(1000, tune=2000, chains=1)\n",
    "    \n",
    "#with logistic_model:\n",
    "#    # move the chain to the MAP which should be a good starting point\n",
    "#    start = pm.find_MAP()\n",
    "#    step = pm.NUTS(scaling=start)\n",
    "#    trace = pm.sample(5000, step, start)"
   ]
  },
  {
   "cell_type": "code",
   "execution_count": 626,
   "metadata": {
    "scrolled": true
   },
   "outputs": [
    {
     "data": {
      "text/plain": [
       "array([[<matplotlib.axes._subplots.AxesSubplot object at 0x11ac65dd8>,\n",
       "        <matplotlib.axes._subplots.AxesSubplot object at 0x119667e80>]],\n",
       "      dtype=object)"
      ]
     },
     "execution_count": 626,
     "metadata": {},
     "output_type": "execute_result"
    },
    {
     "data": {
      "image/png": "[encoded data removed]",
      "text/plain": [
       "<matplotlib.figure.Figure at 0x11a81bd30>"
      ]
     },
     "metadata": {},
     "output_type": "display_data"
    }
   ],
   "source": [
    "pm.traceplot(trace)"
   ]
  },
  {
   "cell_type": "code",
   "execution_count": 627,
   "metadata": {},
   "outputs": [],
   "source": [
    "new_y = test['diag']\n"
   ]
  },
  {
   "cell_type": "code",
   "execution_count": 628,
   "metadata": {},
   "outputs": [],
   "source": [
    "new_x = test[['CMalaria','Mening','Enceph','glasgtot','sbp']]"
   ]
  },
  {
   "cell_type": "code",
   "execution_count": 629,
   "metadata": {},
   "outputs": [],
   "source": [
    "new_patientid = test['patientid']\n"
   ]
  },
  {
   "cell_type": "code",
   "execution_count": 630,
   "metadata": {},
   "outputs": [],
   "source": [
    "def invlogit(x):\n",
    "    return np.exp(x) / (1 + np.exp(x))"
   ]
  },
  {
   "cell_type": "code",
   "execution_count": 631,
   "metadata": {},
   "outputs": [
    {
     "data": {
      "text/plain": [
       "array([-2.35839697,  1.02216178, -3.33440598,  0.67592732, -2.25426308,\n",
       "       -2.16471651, -1.95644873,  1.05085377, -3.39227261,  1.13310669,\n",
       "       -2.50664527, -2.11462618, -3.33357088, -2.09059236,  0.98701124,\n",
       "        0.91240445,  0.97672962, -3.23242495, -2.54263092,  1.18367966])"
      ]
     },
     "execution_count": 631,
     "metadata": {},
     "output_type": "execute_result"
    }
   ],
   "source": [
    "eta = np.zeros(new_x.shape[0]) #Generate log odds of bacterial by averaging posterior\n",
    "for row in trace['effects'][:,None,:]:\n",
    "    row=row[0]\n",
    "    eta = np.add(eta, np.dot(new_x, row.transpose()))\n",
    "eta = np.divide(eta, trace['effects'][:,None,:].shape[0])\n",
    "eta[:20]"
   ]
  },
  {
   "cell_type": "code",
   "execution_count": 633,
   "metadata": {},
   "outputs": [
    {
     "data": {
      "text/plain": [
       "array([0.08640065, 0.73539347, 0.03440954, 0.66282911, 0.09498237,\n",
       "       0.10296401, 0.12385189, 0.74093881, 0.03253784, 0.75641177,\n",
       "       0.07539363, 0.10768334, 0.0344373 , 0.11001456, 0.72849718,\n",
       "       0.71349194, 0.72645882, 0.03796358, 0.07292311, 0.76560877])"
      ]
     },
     "execution_count": 633,
     "metadata": {},
     "output_type": "execute_result"
    }
   ],
   "source": [
    "p = invlogit(eta) #probability of malaria infection\n",
    "\n",
    "p[:20]"
   ]
  },
  {
   "cell_type": "code",
   "execution_count": 634,
   "metadata": {},
   "outputs": [],
   "source": [
    "prediction3 = pd.DataFrame({'p_mal':p}) #build df to visualize results\n",
    "prediction3['pred_mal'] = (prediction3['p_mal'] > .5) * 1"
   ]
  },
  {
   "cell_type": "code",
   "execution_count": 635,
   "metadata": {},
   "outputs": [
    {
     "data": {
      "text/html": [
       "<div>\n",
       "<style scoped>\n",
       "    .dataframe tbody tr th:only-of-type {\n",
       "        vertical-align: middle;\n",
       "    }\n",
       "\n",
       "    .dataframe tbody tr th {\n",
       "        vertical-align: top;\n",
       "    }\n",
       "\n",
       "    .dataframe thead th {\n",
       "        text-align: right;\n",
       "    }\n",
       "</style>\n",
       "<table border=\"1\" class=\"dataframe\">\n",
       "  <thead>\n",
       "    <tr style=\"text-align: right;\">\n",
       "      <th></th>\n",
       "      <th>p_mal</th>\n",
       "      <th>pred_mal</th>\n",
       "      <th>diag</th>\n",
       "      <th>CMalaria</th>\n",
       "      <th>Enceph</th>\n",
       "      <th>Mening</th>\n",
       "      <th>glasgtot</th>\n",
       "      <th>sbp</th>\n",
       "      <th>patientid</th>\n",
       "    </tr>\n",
       "  </thead>\n",
       "  <tbody>\n",
       "    <tr>\n",
       "      <th>0</th>\n",
       "      <td>0.086401</td>\n",
       "      <td>0</td>\n",
       "      <td>1.0</td>\n",
       "      <td>0.0</td>\n",
       "      <td>0.0</td>\n",
       "      <td>1.0</td>\n",
       "      <td>13.0</td>\n",
       "      <td>98.0</td>\n",
       "      <td>453.0</td>\n",
       "    </tr>\n",
       "    <tr>\n",
       "      <th>1</th>\n",
       "      <td>0.735393</td>\n",
       "      <td>1</td>\n",
       "      <td>0.0</td>\n",
       "      <td>1.0</td>\n",
       "      <td>0.0</td>\n",
       "      <td>0.0</td>\n",
       "      <td>7.0</td>\n",
       "      <td>83.0</td>\n",
       "      <td>260.0</td>\n",
       "    </tr>\n",
       "    <tr>\n",
       "      <th>2</th>\n",
       "      <td>0.034410</td>\n",
       "      <td>0</td>\n",
       "      <td>5.0</td>\n",
       "      <td>0.0</td>\n",
       "      <td>1.0</td>\n",
       "      <td>0.0</td>\n",
       "      <td>12.0</td>\n",
       "      <td>90.0</td>\n",
       "      <td>290.0</td>\n",
       "    </tr>\n",
       "    <tr>\n",
       "      <th>3</th>\n",
       "      <td>0.662829</td>\n",
       "      <td>1</td>\n",
       "      <td>0.0</td>\n",
       "      <td>1.0</td>\n",
       "      <td>0.0</td>\n",
       "      <td>0.0</td>\n",
       "      <td>15.0</td>\n",
       "      <td>91.0</td>\n",
       "      <td>196.0</td>\n",
       "    </tr>\n",
       "    <tr>\n",
       "      <th>4</th>\n",
       "      <td>0.094982</td>\n",
       "      <td>0</td>\n",
       "      <td>1.0</td>\n",
       "      <td>0.0</td>\n",
       "      <td>0.0</td>\n",
       "      <td>1.0</td>\n",
       "      <td>10.0</td>\n",
       "      <td>90.0</td>\n",
       "      <td>109.0</td>\n",
       "    </tr>\n",
       "  </tbody>\n",
       "</table>\n",
       "</div>"
      ],
      "text/plain": [
       "      p_mal  pred_mal  diag  CMalaria  Enceph  Mening  glasgtot   sbp  \\\n",
       "0  0.086401         0   1.0       0.0     0.0     1.0      13.0  98.0   \n",
       "1  0.735393         1   0.0       1.0     0.0     0.0       7.0  83.0   \n",
       "2  0.034410         0   5.0       0.0     1.0     0.0      12.0  90.0   \n",
       "3  0.662829         1   0.0       1.0     0.0     0.0      15.0  91.0   \n",
       "4  0.094982         0   1.0       0.0     0.0     1.0      10.0  90.0   \n",
       "\n",
       "   patientid  \n",
       "0      453.0  \n",
       "1      260.0  \n",
       "2      290.0  \n",
       "3      196.0  \n",
       "4      109.0  "
      ]
     },
     "execution_count": 635,
     "metadata": {},
     "output_type": "execute_result"
    }
   ],
   "source": [
    "prediction3[\"diag\"] = new_y.reset_index(drop=True)\n",
    "prediction3[\"CMalaria\"] = new_x.reset_index(drop=True)[\"CMalaria\"]\n",
    "prediction3[\"Enceph\"] = new_x.reset_index(drop=True)[\"Enceph\"]\n",
    "prediction3[\"Mening\"] = new_x.reset_index(drop=True)[\"Mening\"]\n",
    "prediction3[\"glasgtot\"] = new_x.reset_index(drop=True)[\"glasgtot\"]\n",
    "prediction3[\"sbp\"] = new_x.reset_index(drop=True)[\"sbp\"]\n",
    "prediction3[\"patientid\"] = new_patientid.reset_index(drop=True)\n",
    "prediction3.head(5) #observe pred_diag compared to diag to see difference between prediction and actual diagnosis"
   ]
  },
  {
   "cell_type": "code",
   "execution_count": 636,
   "metadata": {},
   "outputs": [],
   "source": [
    "#Now do bact"
   ]
  },
  {
   "cell_type": "code",
   "execution_count": 637,
   "metadata": {},
   "outputs": [],
   "source": [
    "y = train['diag'].copy()\n",
    "y[y==2] = 0\n",
    "y[y==3] = 0\n",
    "y[y==4] = 0\n",
    "y[y==5] = 0"
   ]
  },
  {
   "cell_type": "code",
   "execution_count": 638,
   "metadata": {},
   "outputs": [],
   "source": [
    "x = train[['CMalaria','Mening','Enceph','glasgtot','sbp']]\n",
    "x = x.loc[y.index]"
   ]
  },
  {
   "cell_type": "code",
   "execution_count": 639,
   "metadata": {},
   "outputs": [],
   "source": [
    "patientid = train['patientid']\n",
    "patientid = patientid[y.index]"
   ]
  },
  {
   "cell_type": "code",
   "execution_count": 640,
   "metadata": {},
   "outputs": [],
   "source": [
    "def tinvlogit(x):\n",
    "    return t.exp(x) / (1 + t.exp(x))"
   ]
  },
  {
   "cell_type": "code",
   "execution_count": 641,
   "metadata": {},
   "outputs": [],
   "source": [
    "with pm.Model() as logistic_model:\n",
    "\n",
    "    effects = pm.Normal('effects', mu=0, sd=10, shape=x.shape[1])\n",
    "    \n",
    "    # expected parameter\n",
    "    p = tinvlogit(t.sum(effects * x, axis=1))\n",
    "    \n",
    "    # Likelihood (sampling distribution) of observations\n",
    "    Y_obs = pm.Bernoulli('Y_obs', p=p, observed=y)\n",
    "\n"
   ]
  },
  {
   "cell_type": "code",
   "execution_count": 642,
   "metadata": {
    "scrolled": true
   },
   "outputs": [
    {
     "name": "stderr",
     "output_type": "stream",
     "text": [
      "Auto-assigning NUTS sampler...\n",
      "Initializing NUTS using jitter+adapt_diag...\n",
      "Sequential sampling (1 chains in 1 job)\n",
      "NUTS: [effects]\n",
      "100%|██████████| 3000/3000 [00:14<00:00, 203.40it/s]\n",
      "Only one chain was sampled, this makes it impossible to run some convergence checks\n"
     ]
    }
   ],
   "source": [
    "with logistic_model:\n",
    "    trace = pm.sample(1000, tune=2000, chains=1)\n",
    "    \n",
    "#with logistic_model:\n",
    "#    # move the chain to the MAP which should be a good starting point\n",
    "#    start = pm.find_MAP()\n",
    "#    step = pm.NUTS(scaling=start)\n",
    "#    trace = pm.sample(5000, step, start)"
   ]
  },
  {
   "cell_type": "code",
   "execution_count": 643,
   "metadata": {},
   "outputs": [],
   "source": [
    "new_y = test['diag']"
   ]
  },
  {
   "cell_type": "code",
   "execution_count": 644,
   "metadata": {},
   "outputs": [],
   "source": [
    "new_x = test[['CMalaria','Mening','Enceph','glasgtot','sbp']]"
   ]
  },
  {
   "cell_type": "code",
   "execution_count": 645,
   "metadata": {},
   "outputs": [],
   "source": [
    "new_patientid = test['patientid']"
   ]
  },
  {
   "cell_type": "code",
   "execution_count": 646,
   "metadata": {},
   "outputs": [],
   "source": [
    "def invlogit(x):\n",
    "    return np.exp(x) / (1 + np.exp(x))"
   ]
  },
  {
   "cell_type": "code",
   "execution_count": 647,
   "metadata": {},
   "outputs": [
    {
     "data": {
      "text/plain": [
       "array([-0.88467791, -3.20969148, -2.7261048 , -4.16893209, -0.46692392,\n",
       "       -0.45148862,  0.38401937, -3.4921051 , -3.24832857, -3.67782915,\n",
       "       -0.98519503, -1.21747521, -3.16324675, -0.40123006, -3.56557917,\n",
       "       -4.70288873, -3.54236366, -2.5211179 , -0.90394076, -3.35676473])"
      ]
     },
     "execution_count": 647,
     "metadata": {},
     "output_type": "execute_result"
    }
   ],
   "source": [
    "eta = np.zeros(new_x.shape[0]) #Generate log odds of viral by averaging posterior\n",
    "for row in trace['effects'][:,None,:]:\n",
    "    row=row[0]\n",
    "    eta = np.add(eta, np.dot(new_x, row.transpose()))\n",
    "eta = np.divide(eta, trace['effects'][:,None,:].shape[0])\n",
    "eta[:20]"
   ]
  },
  {
   "cell_type": "code",
   "execution_count": 648,
   "metadata": {},
   "outputs": [
    {
     "data": {
      "text/plain": [
       "array([0.29220934, 0.03880264, 0.06145043, 0.01523313, 0.38534457,\n",
       "       0.38900689, 0.59484216, 0.0295377 , 0.03738699, 0.02465458,\n",
       "       0.27186219, 0.22838107, 0.04057248, 0.40101684, 0.02750281,\n",
       "       0.00898753, 0.0281306 , 0.07439093, 0.28824134, 0.03367434])"
      ]
     },
     "execution_count": 648,
     "metadata": {},
     "output_type": "execute_result"
    }
   ],
   "source": [
    "p = invlogit(eta) #probability of viral infection\n",
    "\n",
    "p[:20]"
   ]
  },
  {
   "cell_type": "code",
   "execution_count": 649,
   "metadata": {},
   "outputs": [
    {
     "data": {
      "text/html": [
       "<div>\n",
       "<style scoped>\n",
       "    .dataframe tbody tr th:only-of-type {\n",
       "        vertical-align: middle;\n",
       "    }\n",
       "\n",
       "    .dataframe tbody tr th {\n",
       "        vertical-align: top;\n",
       "    }\n",
       "\n",
       "    .dataframe thead th {\n",
       "        text-align: right;\n",
       "    }\n",
       "</style>\n",
       "<table border=\"1\" class=\"dataframe\">\n",
       "  <thead>\n",
       "    <tr style=\"text-align: right;\">\n",
       "      <th></th>\n",
       "      <th>p_mal</th>\n",
       "      <th>pred_mal</th>\n",
       "      <th>diag</th>\n",
       "      <th>CMalaria</th>\n",
       "      <th>Enceph</th>\n",
       "      <th>Mening</th>\n",
       "      <th>glasgtot</th>\n",
       "      <th>sbp</th>\n",
       "      <th>patientid</th>\n",
       "      <th>p_bact</th>\n",
       "      <th>pred_bact</th>\n",
       "    </tr>\n",
       "  </thead>\n",
       "  <tbody>\n",
       "    <tr>\n",
       "      <th>0</th>\n",
       "      <td>0.086401</td>\n",
       "      <td>0</td>\n",
       "      <td>1.0</td>\n",
       "      <td>0.0</td>\n",
       "      <td>0.0</td>\n",
       "      <td>1.0</td>\n",
       "      <td>13.0</td>\n",
       "      <td>98.0</td>\n",
       "      <td>453.0</td>\n",
       "      <td>0.292209</td>\n",
       "      <td>0</td>\n",
       "    </tr>\n",
       "    <tr>\n",
       "      <th>1</th>\n",
       "      <td>0.735393</td>\n",
       "      <td>1</td>\n",
       "      <td>0.0</td>\n",
       "      <td>1.0</td>\n",
       "      <td>0.0</td>\n",
       "      <td>0.0</td>\n",
       "      <td>7.0</td>\n",
       "      <td>83.0</td>\n",
       "      <td>260.0</td>\n",
       "      <td>0.038803</td>\n",
       "      <td>0</td>\n",
       "    </tr>\n",
       "    <tr>\n",
       "      <th>2</th>\n",
       "      <td>0.034410</td>\n",
       "      <td>0</td>\n",
       "      <td>5.0</td>\n",
       "      <td>0.0</td>\n",
       "      <td>1.0</td>\n",
       "      <td>0.0</td>\n",
       "      <td>12.0</td>\n",
       "      <td>90.0</td>\n",
       "      <td>290.0</td>\n",
       "      <td>0.061450</td>\n",
       "      <td>0</td>\n",
       "    </tr>\n",
       "    <tr>\n",
       "      <th>3</th>\n",
       "      <td>0.662829</td>\n",
       "      <td>1</td>\n",
       "      <td>0.0</td>\n",
       "      <td>1.0</td>\n",
       "      <td>0.0</td>\n",
       "      <td>0.0</td>\n",
       "      <td>15.0</td>\n",
       "      <td>91.0</td>\n",
       "      <td>196.0</td>\n",
       "      <td>0.015233</td>\n",
       "      <td>0</td>\n",
       "    </tr>\n",
       "    <tr>\n",
       "      <th>4</th>\n",
       "      <td>0.094982</td>\n",
       "      <td>0</td>\n",
       "      <td>1.0</td>\n",
       "      <td>0.0</td>\n",
       "      <td>0.0</td>\n",
       "      <td>1.0</td>\n",
       "      <td>10.0</td>\n",
       "      <td>90.0</td>\n",
       "      <td>109.0</td>\n",
       "      <td>0.385345</td>\n",
       "      <td>0</td>\n",
       "    </tr>\n",
       "  </tbody>\n",
       "</table>\n",
       "</div>"
      ],
      "text/plain": [
       "      p_mal  pred_mal  diag  CMalaria  Enceph  Mening  glasgtot   sbp  \\\n",
       "0  0.086401         0   1.0       0.0     0.0     1.0      13.0  98.0   \n",
       "1  0.735393         1   0.0       1.0     0.0     0.0       7.0  83.0   \n",
       "2  0.034410         0   5.0       0.0     1.0     0.0      12.0  90.0   \n",
       "3  0.662829         1   0.0       1.0     0.0     0.0      15.0  91.0   \n",
       "4  0.094982         0   1.0       0.0     0.0     1.0      10.0  90.0   \n",
       "\n",
       "   patientid    p_bact  pred_bact  \n",
       "0      453.0  0.292209          0  \n",
       "1      260.0  0.038803          0  \n",
       "2      290.0  0.061450          0  \n",
       "3      196.0  0.015233          0  \n",
       "4      109.0  0.385345          0  "
      ]
     },
     "execution_count": 649,
     "metadata": {},
     "output_type": "execute_result"
    }
   ],
   "source": [
    "prediction3['p_bact'] = p\n",
    "prediction3['pred_bact'] = (prediction3['p_bact'] > .5) * 1\n",
    "prediction3.head(5)"
   ]
  },
  {
   "cell_type": "code",
   "execution_count": 650,
   "metadata": {},
   "outputs": [],
   "source": [
    "# Now do vir"
   ]
  },
  {
   "cell_type": "code",
   "execution_count": 651,
   "metadata": {},
   "outputs": [],
   "source": [
    "y = train['diag'].copy()\n",
    "y[y==1] = 0\n",
    "y[y==3] = 0\n",
    "y[y==4] = 0\n",
    "y[y==5] = 0\n",
    "y[y==2] = 1"
   ]
  },
  {
   "cell_type": "code",
   "execution_count": 652,
   "metadata": {},
   "outputs": [],
   "source": [
    "x = train[['CMalaria','Mening','Enceph','glasgtot','sbp']]\n",
    "x = x.loc[y.index]"
   ]
  },
  {
   "cell_type": "code",
   "execution_count": 653,
   "metadata": {},
   "outputs": [],
   "source": [
    "patientid = train['patientid']\n",
    "patientid = patientid[y.index]"
   ]
  },
  {
   "cell_type": "code",
   "execution_count": 654,
   "metadata": {},
   "outputs": [],
   "source": [
    "def tinvlogit(x):\n",
    "    return t.exp(x) / (1 + t.exp(x))"
   ]
  },
  {
   "cell_type": "code",
   "execution_count": 655,
   "metadata": {},
   "outputs": [],
   "source": [
    "with pm.Model() as logistic_model:\n",
    "\n",
    "    effects = pm.Normal('effects', mu=0, sd=10, shape=x.shape[1])\n",
    "    \n",
    "    # expected parameter\n",
    "    p = tinvlogit(t.sum(effects * x, axis=1))\n",
    "    \n",
    "    # Likelihood (sampling distribution) of observations\n",
    "    Y_obs = pm.Bernoulli('Y_obs', p=p, observed=y)\n",
    "\n"
   ]
  },
  {
   "cell_type": "code",
   "execution_count": 656,
   "metadata": {
    "scrolled": true
   },
   "outputs": [
    {
     "name": "stderr",
     "output_type": "stream",
     "text": [
      "Auto-assigning NUTS sampler...\n",
      "Initializing NUTS using jitter+adapt_diag...\n",
      "Sequential sampling (1 chains in 1 job)\n",
      "NUTS: [effects]\n",
      "100%|██████████| 3000/3000 [00:13<00:00, 219.42it/s]\n",
      "Only one chain was sampled, this makes it impossible to run some convergence checks\n"
     ]
    }
   ],
   "source": [
    "with logistic_model:\n",
    "    trace = pm.sample(1000, tune=2000, chains=1)\n",
    "    \n",
    "#with logistic_model:\n",
    "#    # move the chain to the MAP which should be a good starting point\n",
    "#    start = pm.find_MAP()\n",
    "#    step = pm.NUTS(scaling=start)\n",
    "#    trace = pm.sample(5000, step, start)"
   ]
  },
  {
   "cell_type": "code",
   "execution_count": 657,
   "metadata": {},
   "outputs": [],
   "source": [
    "new_y = test['diag']"
   ]
  },
  {
   "cell_type": "code",
   "execution_count": 658,
   "metadata": {},
   "outputs": [],
   "source": [
    "new_x = test[['CMalaria','Mening','Enceph','glasgtot','sbp']]"
   ]
  },
  {
   "cell_type": "code",
   "execution_count": 659,
   "metadata": {},
   "outputs": [],
   "source": [
    "new_patientid = test['patientid']"
   ]
  },
  {
   "cell_type": "code",
   "execution_count": 660,
   "metadata": {},
   "outputs": [],
   "source": [
    "def invlogit(x):\n",
    "    return np.exp(x) / (1 + np.exp(x))"
   ]
  },
  {
   "cell_type": "code",
   "execution_count": 661,
   "metadata": {},
   "outputs": [
    {
     "data": {
      "text/plain": [
       "array([ -3.87413111, -11.19069949,  -4.37852912, -12.89829199,\n",
       "        -3.23660714,  -3.01807628,  -1.74302834, -11.39624354,\n",
       "        -5.0109713 , -11.38720923,  -4.30780496,  -3.63866094,\n",
       "        -4.7958283 ,  -2.80123936, -11.61195117, -12.87231838,\n",
       "       -11.61308046,  -3.94993706,  -4.31175747, -10.96426362])"
      ]
     },
     "execution_count": 661,
     "metadata": {},
     "output_type": "execute_result"
    }
   ],
   "source": [
    "eta = np.zeros(new_x.shape[0]) #Generate log odds of viral by averaging posterior\n",
    "for row in trace['effects'][:,None,:]:\n",
    "    row=row[0]\n",
    "    eta = np.add(eta, np.dot(new_x, row.transpose()))\n",
    "eta = np.divide(eta, trace['effects'][:,None,:].shape[0])\n",
    "eta[:20]"
   ]
  },
  {
   "cell_type": "code",
   "execution_count": 662,
   "metadata": {},
   "outputs": [
    {
     "data": {
      "text/plain": [
       "array([2.03496680e-02, 1.38017759e-05, 1.23883979e-02, 2.50231440e-06,\n",
       "       3.78111343e-02, 4.66158955e-02, 1.48928687e-01, 1.12374931e-05,\n",
       "       6.62030648e-03, 1.13394748e-05, 1.32842227e-02, 2.56141876e-02,\n",
       "       8.19641437e-03, 5.72572402e-02, 9.05711219e-06, 2.56815981e-06,\n",
       "       9.04688997e-06, 1.88921284e-02, 1.32325138e-02, 1.73090525e-05])"
      ]
     },
     "execution_count": 662,
     "metadata": {},
     "output_type": "execute_result"
    }
   ],
   "source": [
    "p = invlogit(eta) #probability of viral infection\n",
    "\n",
    "p[:20]"
   ]
  },
  {
   "cell_type": "code",
   "execution_count": 663,
   "metadata": {},
   "outputs": [
    {
     "data": {
      "text/html": [
       "<div>\n",
       "<style scoped>\n",
       "    .dataframe tbody tr th:only-of-type {\n",
       "        vertical-align: middle;\n",
       "    }\n",
       "\n",
       "    .dataframe tbody tr th {\n",
       "        vertical-align: top;\n",
       "    }\n",
       "\n",
       "    .dataframe thead th {\n",
       "        text-align: right;\n",
       "    }\n",
       "</style>\n",
       "<table border=\"1\" class=\"dataframe\">\n",
       "  <thead>\n",
       "    <tr style=\"text-align: right;\">\n",
       "      <th></th>\n",
       "      <th>p_mal</th>\n",
       "      <th>pred_mal</th>\n",
       "      <th>diag</th>\n",
       "      <th>CMalaria</th>\n",
       "      <th>Enceph</th>\n",
       "      <th>Mening</th>\n",
       "      <th>glasgtot</th>\n",
       "      <th>sbp</th>\n",
       "      <th>patientid</th>\n",
       "      <th>p_bact</th>\n",
       "      <th>pred_bact</th>\n",
       "      <th>p_vir</th>\n",
       "      <th>pred_vir</th>\n",
       "    </tr>\n",
       "  </thead>\n",
       "  <tbody>\n",
       "    <tr>\n",
       "      <th>0</th>\n",
       "      <td>0.086401</td>\n",
       "      <td>0</td>\n",
       "      <td>1.0</td>\n",
       "      <td>0.0</td>\n",
       "      <td>0.0</td>\n",
       "      <td>1.0</td>\n",
       "      <td>13.0</td>\n",
       "      <td>98.0</td>\n",
       "      <td>453.0</td>\n",
       "      <td>0.292209</td>\n",
       "      <td>0</td>\n",
       "      <td>0.020350</td>\n",
       "      <td>0</td>\n",
       "    </tr>\n",
       "    <tr>\n",
       "      <th>1</th>\n",
       "      <td>0.735393</td>\n",
       "      <td>1</td>\n",
       "      <td>0.0</td>\n",
       "      <td>1.0</td>\n",
       "      <td>0.0</td>\n",
       "      <td>0.0</td>\n",
       "      <td>7.0</td>\n",
       "      <td>83.0</td>\n",
       "      <td>260.0</td>\n",
       "      <td>0.038803</td>\n",
       "      <td>0</td>\n",
       "      <td>0.000014</td>\n",
       "      <td>0</td>\n",
       "    </tr>\n",
       "    <tr>\n",
       "      <th>2</th>\n",
       "      <td>0.034410</td>\n",
       "      <td>0</td>\n",
       "      <td>5.0</td>\n",
       "      <td>0.0</td>\n",
       "      <td>1.0</td>\n",
       "      <td>0.0</td>\n",
       "      <td>12.0</td>\n",
       "      <td>90.0</td>\n",
       "      <td>290.0</td>\n",
       "      <td>0.061450</td>\n",
       "      <td>0</td>\n",
       "      <td>0.012388</td>\n",
       "      <td>0</td>\n",
       "    </tr>\n",
       "    <tr>\n",
       "      <th>3</th>\n",
       "      <td>0.662829</td>\n",
       "      <td>1</td>\n",
       "      <td>0.0</td>\n",
       "      <td>1.0</td>\n",
       "      <td>0.0</td>\n",
       "      <td>0.0</td>\n",
       "      <td>15.0</td>\n",
       "      <td>91.0</td>\n",
       "      <td>196.0</td>\n",
       "      <td>0.015233</td>\n",
       "      <td>0</td>\n",
       "      <td>0.000003</td>\n",
       "      <td>0</td>\n",
       "    </tr>\n",
       "    <tr>\n",
       "      <th>4</th>\n",
       "      <td>0.094982</td>\n",
       "      <td>0</td>\n",
       "      <td>1.0</td>\n",
       "      <td>0.0</td>\n",
       "      <td>0.0</td>\n",
       "      <td>1.0</td>\n",
       "      <td>10.0</td>\n",
       "      <td>90.0</td>\n",
       "      <td>109.0</td>\n",
       "      <td>0.385345</td>\n",
       "      <td>0</td>\n",
       "      <td>0.037811</td>\n",
       "      <td>0</td>\n",
       "    </tr>\n",
       "  </tbody>\n",
       "</table>\n",
       "</div>"
      ],
      "text/plain": [
       "      p_mal  pred_mal  diag  CMalaria  Enceph  Mening  glasgtot   sbp  \\\n",
       "0  0.086401         0   1.0       0.0     0.0     1.0      13.0  98.0   \n",
       "1  0.735393         1   0.0       1.0     0.0     0.0       7.0  83.0   \n",
       "2  0.034410         0   5.0       0.0     1.0     0.0      12.0  90.0   \n",
       "3  0.662829         1   0.0       1.0     0.0     0.0      15.0  91.0   \n",
       "4  0.094982         0   1.0       0.0     0.0     1.0      10.0  90.0   \n",
       "\n",
       "   patientid    p_bact  pred_bact     p_vir  pred_vir  \n",
       "0      453.0  0.292209          0  0.020350         0  \n",
       "1      260.0  0.038803          0  0.000014         0  \n",
       "2      290.0  0.061450          0  0.012388         0  \n",
       "3      196.0  0.015233          0  0.000003         0  \n",
       "4      109.0  0.385345          0  0.037811         0  "
      ]
     },
     "execution_count": 663,
     "metadata": {},
     "output_type": "execute_result"
    }
   ],
   "source": [
    "prediction3['p_vir'] = p\n",
    "prediction3['pred_vir'] = (prediction3['p_vir'] > .5) * 1\n",
    "prediction3.head(5)"
   ]
  },
  {
   "cell_type": "code",
   "execution_count": 441,
   "metadata": {},
   "outputs": [],
   "source": [
    "#do mal&bact"
   ]
  },
  {
   "cell_type": "code",
   "execution_count": 664,
   "metadata": {},
   "outputs": [],
   "source": [
    "y = train['diag'].copy()\n",
    "y[y==1] = 0\n",
    "y[y==2] = 0\n",
    "y[y==4] = 0\n",
    "y[y==5] = 0\n",
    "y[y==3] = 1"
   ]
  },
  {
   "cell_type": "code",
   "execution_count": 665,
   "metadata": {},
   "outputs": [],
   "source": [
    "x = train[['CMalaria','Mening','Enceph','glasgtot','sbp']]\n",
    "x = x.loc[y.index]"
   ]
  },
  {
   "cell_type": "code",
   "execution_count": 666,
   "metadata": {},
   "outputs": [],
   "source": [
    "patientid = train['patientid']\n",
    "patientid = patientid[y.index]"
   ]
  },
  {
   "cell_type": "code",
   "execution_count": 667,
   "metadata": {},
   "outputs": [],
   "source": [
    "def tinvlogit(x):\n",
    "    return t.exp(x) / (1 + t.exp(x))"
   ]
  },
  {
   "cell_type": "code",
   "execution_count": 670,
   "metadata": {},
   "outputs": [],
   "source": [
    "with pm.Model() as logistic_model:\n",
    "\n",
    "    effects = pm.Normal('effects', mu=0, sd=10, shape=x.shape[1])\n",
    "    \n",
    "    # expected parameter\n",
    "    p = tinvlogit(t.sum(effects * x, axis=1))\n",
    "    \n",
    "    # Likelihood (sampling distribution) of observations\n",
    "    Y_obs = pm.Bernoulli('Y_obs', p=p, observed=y)\n",
    "\n"
   ]
  },
  {
   "cell_type": "code",
   "execution_count": 671,
   "metadata": {
    "scrolled": true
   },
   "outputs": [
    {
     "name": "stderr",
     "output_type": "stream",
     "text": [
      "Auto-assigning NUTS sampler...\n",
      "Initializing NUTS using jitter+adapt_diag...\n",
      "Sequential sampling (1 chains in 1 job)\n",
      "NUTS: [effects]\n",
      "100%|██████████| 3000/3000 [00:13<00:00, 223.86it/s]\n",
      "There were 2 divergences after tuning. Increase `target_accept` or reparameterize.\n",
      "Only one chain was sampled, this makes it impossible to run some convergence checks\n"
     ]
    }
   ],
   "source": [
    "with logistic_model:\n",
    "    trace = pm.sample(1000, tune=2000, chains=1)\n",
    "    \n",
    "#with logistic_model:\n",
    "#    # move the chain to the MAP which should be a good starting point\n",
    "#    start = pm.find_MAP()\n",
    "#    step = pm.NUTS(scaling=start)\n",
    "#    trace = pm.sample(5000, step, start)"
   ]
  },
  {
   "cell_type": "code",
   "execution_count": 672,
   "metadata": {},
   "outputs": [],
   "source": [
    "new_y = test['diag']"
   ]
  },
  {
   "cell_type": "code",
   "execution_count": 673,
   "metadata": {},
   "outputs": [],
   "source": [
    "new_x = test[['CMalaria','Mening','Enceph','glasgtot','sbp']]"
   ]
  },
  {
   "cell_type": "code",
   "execution_count": 674,
   "metadata": {},
   "outputs": [],
   "source": [
    "new_patientid = test['patientid']"
   ]
  },
  {
   "cell_type": "code",
   "execution_count": 675,
   "metadata": {},
   "outputs": [],
   "source": [
    "def invlogit(x):\n",
    "    return np.exp(x) / (1 + np.exp(x))"
   ]
  },
  {
   "cell_type": "code",
   "execution_count": 676,
   "metadata": {},
   "outputs": [
    {
     "data": {
      "text/plain": [
       "array([-11.74490855,  -2.97329417, -11.77119884,  -3.43847578,\n",
       "       -11.4998465 , -11.5688129 , -11.0786888 ,  -3.22917492,\n",
       "       -12.14337498,  -3.45515554, -11.69171848, -12.23758861,\n",
       "       -12.12759865, -11.59540793,  -3.23082746,  -4.08817007,\n",
       "        -3.20257988, -11.6972748 , -11.59285196,  -3.23999361])"
      ]
     },
     "execution_count": 676,
     "metadata": {},
     "output_type": "execute_result"
    }
   ],
   "source": [
    "eta = np.zeros(new_x.shape[0]) #Generate log odds of viral by averaging posterior\n",
    "for row in trace['effects'][:,None,:]:\n",
    "    row=row[0]\n",
    "    eta = np.add(eta, np.dot(new_x, row.transpose()))\n",
    "eta = np.divide(eta, trace['effects'][:,None,:].shape[0])\n",
    "eta[:20]"
   ]
  },
  {
   "cell_type": "code",
   "execution_count": 677,
   "metadata": {},
   "outputs": [
    {
     "data": {
      "text/plain": [
       "array([7.92953252e-06, 4.86470403e-02, 7.72378090e-06, 3.11144009e-02,\n",
       "       1.01315461e-05, 9.45636638e-06, 1.54376035e-05, 3.80824602e-02,\n",
       "       5.32349610e-06, 3.06154816e-02, 8.36271984e-06, 4.84485396e-06,\n",
       "       5.40814689e-06, 9.20819107e-06, 3.80219700e-02, 1.64933023e-02,\n",
       "       3.90687526e-02, 8.31638313e-06, 9.23175680e-06, 3.76881222e-02])"
      ]
     },
     "execution_count": 677,
     "metadata": {},
     "output_type": "execute_result"
    }
   ],
   "source": [
    "p = invlogit(eta) #probability of viral infection\n",
    "\n",
    "p[:20]"
   ]
  },
  {
   "cell_type": "code",
   "execution_count": 678,
   "metadata": {},
   "outputs": [
    {
     "data": {
      "text/html": [
       "<div>\n",
       "<style scoped>\n",
       "    .dataframe tbody tr th:only-of-type {\n",
       "        vertical-align: middle;\n",
       "    }\n",
       "\n",
       "    .dataframe tbody tr th {\n",
       "        vertical-align: top;\n",
       "    }\n",
       "\n",
       "    .dataframe thead th {\n",
       "        text-align: right;\n",
       "    }\n",
       "</style>\n",
       "<table border=\"1\" class=\"dataframe\">\n",
       "  <thead>\n",
       "    <tr style=\"text-align: right;\">\n",
       "      <th></th>\n",
       "      <th>p_mal</th>\n",
       "      <th>pred_mal</th>\n",
       "      <th>diag</th>\n",
       "      <th>CMalaria</th>\n",
       "      <th>Enceph</th>\n",
       "      <th>Mening</th>\n",
       "      <th>glasgtot</th>\n",
       "      <th>sbp</th>\n",
       "      <th>patientid</th>\n",
       "      <th>p_bact</th>\n",
       "      <th>pred_bact</th>\n",
       "      <th>p_vir</th>\n",
       "      <th>pred_vir</th>\n",
       "      <th>p_mal&amp;bact</th>\n",
       "      <th>pred_mal&amp;bact</th>\n",
       "    </tr>\n",
       "  </thead>\n",
       "  <tbody>\n",
       "    <tr>\n",
       "      <th>0</th>\n",
       "      <td>0.086401</td>\n",
       "      <td>0</td>\n",
       "      <td>1.0</td>\n",
       "      <td>0.0</td>\n",
       "      <td>0.0</td>\n",
       "      <td>1.0</td>\n",
       "      <td>13.0</td>\n",
       "      <td>98.0</td>\n",
       "      <td>453.0</td>\n",
       "      <td>0.292209</td>\n",
       "      <td>0</td>\n",
       "      <td>0.020350</td>\n",
       "      <td>0</td>\n",
       "      <td>0.000008</td>\n",
       "      <td>0</td>\n",
       "    </tr>\n",
       "    <tr>\n",
       "      <th>1</th>\n",
       "      <td>0.735393</td>\n",
       "      <td>1</td>\n",
       "      <td>0.0</td>\n",
       "      <td>1.0</td>\n",
       "      <td>0.0</td>\n",
       "      <td>0.0</td>\n",
       "      <td>7.0</td>\n",
       "      <td>83.0</td>\n",
       "      <td>260.0</td>\n",
       "      <td>0.038803</td>\n",
       "      <td>0</td>\n",
       "      <td>0.000014</td>\n",
       "      <td>0</td>\n",
       "      <td>0.048647</td>\n",
       "      <td>0</td>\n",
       "    </tr>\n",
       "    <tr>\n",
       "      <th>2</th>\n",
       "      <td>0.034410</td>\n",
       "      <td>0</td>\n",
       "      <td>5.0</td>\n",
       "      <td>0.0</td>\n",
       "      <td>1.0</td>\n",
       "      <td>0.0</td>\n",
       "      <td>12.0</td>\n",
       "      <td>90.0</td>\n",
       "      <td>290.0</td>\n",
       "      <td>0.061450</td>\n",
       "      <td>0</td>\n",
       "      <td>0.012388</td>\n",
       "      <td>0</td>\n",
       "      <td>0.000008</td>\n",
       "      <td>0</td>\n",
       "    </tr>\n",
       "    <tr>\n",
       "      <th>3</th>\n",
       "      <td>0.662829</td>\n",
       "      <td>1</td>\n",
       "      <td>0.0</td>\n",
       "      <td>1.0</td>\n",
       "      <td>0.0</td>\n",
       "      <td>0.0</td>\n",
       "      <td>15.0</td>\n",
       "      <td>91.0</td>\n",
       "      <td>196.0</td>\n",
       "      <td>0.015233</td>\n",
       "      <td>0</td>\n",
       "      <td>0.000003</td>\n",
       "      <td>0</td>\n",
       "      <td>0.031114</td>\n",
       "      <td>0</td>\n",
       "    </tr>\n",
       "    <tr>\n",
       "      <th>4</th>\n",
       "      <td>0.094982</td>\n",
       "      <td>0</td>\n",
       "      <td>1.0</td>\n",
       "      <td>0.0</td>\n",
       "      <td>0.0</td>\n",
       "      <td>1.0</td>\n",
       "      <td>10.0</td>\n",
       "      <td>90.0</td>\n",
       "      <td>109.0</td>\n",
       "      <td>0.385345</td>\n",
       "      <td>0</td>\n",
       "      <td>0.037811</td>\n",
       "      <td>0</td>\n",
       "      <td>0.000010</td>\n",
       "      <td>0</td>\n",
       "    </tr>\n",
       "  </tbody>\n",
       "</table>\n",
       "</div>"
      ],
      "text/plain": [
       "      p_mal  pred_mal  diag  CMalaria  Enceph  Mening  glasgtot   sbp  \\\n",
       "0  0.086401         0   1.0       0.0     0.0     1.0      13.0  98.0   \n",
       "1  0.735393         1   0.0       1.0     0.0     0.0       7.0  83.0   \n",
       "2  0.034410         0   5.0       0.0     1.0     0.0      12.0  90.0   \n",
       "3  0.662829         1   0.0       1.0     0.0     0.0      15.0  91.0   \n",
       "4  0.094982         0   1.0       0.0     0.0     1.0      10.0  90.0   \n",
       "\n",
       "   patientid    p_bact  pred_bact     p_vir  pred_vir  p_mal&bact  \\\n",
       "0      453.0  0.292209          0  0.020350         0    0.000008   \n",
       "1      260.0  0.038803          0  0.000014         0    0.048647   \n",
       "2      290.0  0.061450          0  0.012388         0    0.000008   \n",
       "3      196.0  0.015233          0  0.000003         0    0.031114   \n",
       "4      109.0  0.385345          0  0.037811         0    0.000010   \n",
       "\n",
       "   pred_mal&bact  \n",
       "0              0  \n",
       "1              0  \n",
       "2              0  \n",
       "3              0  \n",
       "4              0  "
      ]
     },
     "execution_count": 678,
     "metadata": {},
     "output_type": "execute_result"
    }
   ],
   "source": [
    "prediction3['p_mal&bact'] = p\n",
    "prediction3['pred_mal&bact'] = (prediction3['p_mal&bact'] > .5) * 1\n",
    "prediction3.head(5)"
   ]
  },
  {
   "cell_type": "code",
   "execution_count": 679,
   "metadata": {},
   "outputs": [],
   "source": [
    "#now do tbcrypto"
   ]
  },
  {
   "cell_type": "code",
   "execution_count": 680,
   "metadata": {},
   "outputs": [],
   "source": [
    "y = train['diag'].copy()\n",
    "y[y==1] = 0\n",
    "y[y==2] = 0\n",
    "y[y==3] = 0\n",
    "y[y==5] = 0\n",
    "y[y==4] = 1"
   ]
  },
  {
   "cell_type": "code",
   "execution_count": 681,
   "metadata": {},
   "outputs": [],
   "source": [
    "x = train[['CMalaria','Mening','Enceph','glasgtot','sbp']]\n",
    "x = x.loc[y.index]"
   ]
  },
  {
   "cell_type": "code",
   "execution_count": 682,
   "metadata": {},
   "outputs": [],
   "source": [
    "patientid = train['patientid']\n",
    "patientid = patientid[y.index]"
   ]
  },
  {
   "cell_type": "code",
   "execution_count": 683,
   "metadata": {},
   "outputs": [],
   "source": [
    "def tinvlogit(x):\n",
    "    return t.exp(x) / (1 + t.exp(x))"
   ]
  },
  {
   "cell_type": "code",
   "execution_count": 690,
   "metadata": {},
   "outputs": [],
   "source": [
    "with pm.Model() as logistic_model:\n",
    "\n",
    "    effects = pm.Normal('effects', mu=0, sd=10, shape=x.shape[1])\n",
    "    \n",
    "    # expected parameter\n",
    "    p = tinvlogit(t.sum(effects * x, axis=1))\n",
    "    \n",
    "    # Likelihood (sampling distribution) of observations\n",
    "    Y_obs = pm.Bernoulli('Y_obs', p=p, observed=y)\n",
    "\n"
   ]
  },
  {
   "cell_type": "code",
   "execution_count": 691,
   "metadata": {
    "scrolled": true
   },
   "outputs": [
    {
     "name": "stderr",
     "output_type": "stream",
     "text": [
      "Auto-assigning NUTS sampler...\n",
      "Initializing NUTS using jitter+adapt_diag...\n",
      "Sequential sampling (1 chains in 1 job)\n",
      "NUTS: [effects]\n",
      "100%|██████████| 3000/3000 [00:14<00:00, 200.68it/s]\n",
      "There were 3 divergences after tuning. Increase `target_accept` or reparameterize.\n",
      "Only one chain was sampled, this makes it impossible to run some convergence checks\n"
     ]
    }
   ],
   "source": [
    "with logistic_model:\n",
    "    trace = pm.sample(1000, tune=2000, chains=1)\n",
    "    \n",
    "#with logistic_model:\n",
    "#    # move the chain to the MAP which should be a good starting point\n",
    "#    start = pm.find_MAP()\n",
    "#    step = pm.NUTS(scaling=start)\n",
    "#    trace = pm.sample(5000, step, start)"
   ]
  },
  {
   "cell_type": "code",
   "execution_count": 692,
   "metadata": {},
   "outputs": [],
   "source": [
    "new_y = test['diag']"
   ]
  },
  {
   "cell_type": "code",
   "execution_count": 693,
   "metadata": {},
   "outputs": [],
   "source": [
    "new_x = test[['CMalaria','Mening','Enceph','glasgtot','sbp']]"
   ]
  },
  {
   "cell_type": "code",
   "execution_count": 694,
   "metadata": {},
   "outputs": [],
   "source": [
    "new_patientid = test['patientid']"
   ]
  },
  {
   "cell_type": "code",
   "execution_count": 695,
   "metadata": {},
   "outputs": [],
   "source": [
    "def invlogit(x):\n",
    "    return np.exp(x) / (1 + np.exp(x))"
   ]
  },
  {
   "cell_type": "code",
   "execution_count": 696,
   "metadata": {},
   "outputs": [
    {
     "data": {
      "text/plain": [
       "array([ -4.83000788, -12.26237792, -12.26922367, -14.79680991,\n",
       "        -3.86372076,  -3.57549199,  -1.64291774, -12.62363228,\n",
       "       -13.26408603, -12.67443269,  -5.42551557,  -4.63702989,\n",
       "       -12.95680711,  -3.27773815, -12.92773618, -14.9428611 ,\n",
       "       -12.92138613, -11.64514075,  -5.40329039, -12.01859952])"
      ]
     },
     "execution_count": 696,
     "metadata": {},
     "output_type": "execute_result"
    }
   ],
   "source": [
    "eta = np.zeros(new_x.shape[0]) #Generate log odds of viral by averaging posterior\n",
    "for row in trace['effects'][:,None,:]:\n",
    "    row=row[0]\n",
    "    eta = np.add(eta, np.dot(new_x, row.transpose()))\n",
    "eta = np.divide(eta, trace['effects'][:,None,:].shape[0])\n",
    "eta[:20]"
   ]
  },
  {
   "cell_type": "code",
   "execution_count": 697,
   "metadata": {},
   "outputs": [
    {
     "data": {
      "text/plain": [
       "array([7.92318016e-03, 4.72623031e-06, 4.69398637e-06, 3.74823612e-07,\n",
       "       2.05582438e-02, 2.72389115e-02, 1.62068437e-01, 3.29325021e-06,\n",
       "       1.73572083e-06, 3.13013062e-06, 4.38349598e-03, 9.59349800e-03,\n",
       "       2.36009315e-06, 3.63428481e-02, 2.42971010e-06, 3.23890149e-07,\n",
       "       2.44518794e-06, 8.76144676e-06, 4.48156917e-03, 6.03095282e-06])"
      ]
     },
     "execution_count": 697,
     "metadata": {},
     "output_type": "execute_result"
    }
   ],
   "source": [
    "p = invlogit(eta) #probability of viral infection\n",
    "\n",
    "p[:20]"
   ]
  },
  {
   "cell_type": "code",
   "execution_count": 698,
   "metadata": {
    "scrolled": true
   },
   "outputs": [
    {
     "data": {
      "text/html": [
       "<div>\n",
       "<style scoped>\n",
       "    .dataframe tbody tr th:only-of-type {\n",
       "        vertical-align: middle;\n",
       "    }\n",
       "\n",
       "    .dataframe tbody tr th {\n",
       "        vertical-align: top;\n",
       "    }\n",
       "\n",
       "    .dataframe thead th {\n",
       "        text-align: right;\n",
       "    }\n",
       "</style>\n",
       "<table border=\"1\" class=\"dataframe\">\n",
       "  <thead>\n",
       "    <tr style=\"text-align: right;\">\n",
       "      <th></th>\n",
       "      <th>p_mal</th>\n",
       "      <th>pred_mal</th>\n",
       "      <th>diag</th>\n",
       "      <th>CMalaria</th>\n",
       "      <th>Enceph</th>\n",
       "      <th>Mening</th>\n",
       "      <th>glasgtot</th>\n",
       "      <th>sbp</th>\n",
       "      <th>patientid</th>\n",
       "      <th>p_bact</th>\n",
       "      <th>pred_bact</th>\n",
       "      <th>p_vir</th>\n",
       "      <th>pred_vir</th>\n",
       "      <th>p_mal&amp;bact</th>\n",
       "      <th>pred_mal&amp;bact</th>\n",
       "      <th>p_tbcrypto</th>\n",
       "      <th>pred_tbcrypto</th>\n",
       "    </tr>\n",
       "  </thead>\n",
       "  <tbody>\n",
       "    <tr>\n",
       "      <th>0</th>\n",
       "      <td>0.086401</td>\n",
       "      <td>0</td>\n",
       "      <td>1.0</td>\n",
       "      <td>0.0</td>\n",
       "      <td>0.0</td>\n",
       "      <td>1.0</td>\n",
       "      <td>13.0</td>\n",
       "      <td>98.0</td>\n",
       "      <td>453.0</td>\n",
       "      <td>0.292209</td>\n",
       "      <td>0</td>\n",
       "      <td>0.020350</td>\n",
       "      <td>0</td>\n",
       "      <td>0.000008</td>\n",
       "      <td>0</td>\n",
       "      <td>7.923180e-03</td>\n",
       "      <td>0</td>\n",
       "    </tr>\n",
       "    <tr>\n",
       "      <th>1</th>\n",
       "      <td>0.735393</td>\n",
       "      <td>1</td>\n",
       "      <td>0.0</td>\n",
       "      <td>1.0</td>\n",
       "      <td>0.0</td>\n",
       "      <td>0.0</td>\n",
       "      <td>7.0</td>\n",
       "      <td>83.0</td>\n",
       "      <td>260.0</td>\n",
       "      <td>0.038803</td>\n",
       "      <td>0</td>\n",
       "      <td>0.000014</td>\n",
       "      <td>0</td>\n",
       "      <td>0.048647</td>\n",
       "      <td>0</td>\n",
       "      <td>4.726230e-06</td>\n",
       "      <td>0</td>\n",
       "    </tr>\n",
       "    <tr>\n",
       "      <th>2</th>\n",
       "      <td>0.034410</td>\n",
       "      <td>0</td>\n",
       "      <td>5.0</td>\n",
       "      <td>0.0</td>\n",
       "      <td>1.0</td>\n",
       "      <td>0.0</td>\n",
       "      <td>12.0</td>\n",
       "      <td>90.0</td>\n",
       "      <td>290.0</td>\n",
       "      <td>0.061450</td>\n",
       "      <td>0</td>\n",
       "      <td>0.012388</td>\n",
       "      <td>0</td>\n",
       "      <td>0.000008</td>\n",
       "      <td>0</td>\n",
       "      <td>4.693986e-06</td>\n",
       "      <td>0</td>\n",
       "    </tr>\n",
       "    <tr>\n",
       "      <th>3</th>\n",
       "      <td>0.662829</td>\n",
       "      <td>1</td>\n",
       "      <td>0.0</td>\n",
       "      <td>1.0</td>\n",
       "      <td>0.0</td>\n",
       "      <td>0.0</td>\n",
       "      <td>15.0</td>\n",
       "      <td>91.0</td>\n",
       "      <td>196.0</td>\n",
       "      <td>0.015233</td>\n",
       "      <td>0</td>\n",
       "      <td>0.000003</td>\n",
       "      <td>0</td>\n",
       "      <td>0.031114</td>\n",
       "      <td>0</td>\n",
       "      <td>3.748236e-07</td>\n",
       "      <td>0</td>\n",
       "    </tr>\n",
       "    <tr>\n",
       "      <th>4</th>\n",
       "      <td>0.094982</td>\n",
       "      <td>0</td>\n",
       "      <td>1.0</td>\n",
       "      <td>0.0</td>\n",
       "      <td>0.0</td>\n",
       "      <td>1.0</td>\n",
       "      <td>10.0</td>\n",
       "      <td>90.0</td>\n",
       "      <td>109.0</td>\n",
       "      <td>0.385345</td>\n",
       "      <td>0</td>\n",
       "      <td>0.037811</td>\n",
       "      <td>0</td>\n",
       "      <td>0.000010</td>\n",
       "      <td>0</td>\n",
       "      <td>2.055824e-02</td>\n",
       "      <td>0</td>\n",
       "    </tr>\n",
       "  </tbody>\n",
       "</table>\n",
       "</div>"
      ],
      "text/plain": [
       "      p_mal  pred_mal  diag  CMalaria  Enceph  Mening  glasgtot   sbp  \\\n",
       "0  0.086401         0   1.0       0.0     0.0     1.0      13.0  98.0   \n",
       "1  0.735393         1   0.0       1.0     0.0     0.0       7.0  83.0   \n",
       "2  0.034410         0   5.0       0.0     1.0     0.0      12.0  90.0   \n",
       "3  0.662829         1   0.0       1.0     0.0     0.0      15.0  91.0   \n",
       "4  0.094982         0   1.0       0.0     0.0     1.0      10.0  90.0   \n",
       "\n",
       "   patientid    p_bact  pred_bact     p_vir  pred_vir  p_mal&bact  \\\n",
       "0      453.0  0.292209          0  0.020350         0    0.000008   \n",
       "1      260.0  0.038803          0  0.000014         0    0.048647   \n",
       "2      290.0  0.061450          0  0.012388         0    0.000008   \n",
       "3      196.0  0.015233          0  0.000003         0    0.031114   \n",
       "4      109.0  0.385345          0  0.037811         0    0.000010   \n",
       "\n",
       "   pred_mal&bact    p_tbcrypto  pred_tbcrypto  \n",
       "0              0  7.923180e-03              0  \n",
       "1              0  4.726230e-06              0  \n",
       "2              0  4.693986e-06              0  \n",
       "3              0  3.748236e-07              0  \n",
       "4              0  2.055824e-02              0  "
      ]
     },
     "execution_count": 698,
     "metadata": {},
     "output_type": "execute_result"
    }
   ],
   "source": [
    "prediction3['p_tbcrypto'] = p\n",
    "prediction3['pred_tbcrypto'] = (prediction3['p_tbcrypto'] > .5) * 1\n",
    "prediction3.head(5)"
   ]
  },
  {
   "cell_type": "code",
   "execution_count": 483,
   "metadata": {},
   "outputs": [],
   "source": [
    "#Now do Other"
   ]
  },
  {
   "cell_type": "code",
   "execution_count": 699,
   "metadata": {},
   "outputs": [],
   "source": [
    "y = train['diag'].copy()\n",
    "y[y==1] = 0\n",
    "y[y==2] = 0\n",
    "y[y==3] = 0\n",
    "y[y==4] = 0\n",
    "y[y==5] = 1"
   ]
  },
  {
   "cell_type": "code",
   "execution_count": 700,
   "metadata": {},
   "outputs": [],
   "source": [
    "x = train[['CMalaria','Mening','Enceph','glasgtot','sbp']]\n",
    "x = x.loc[y.index]"
   ]
  },
  {
   "cell_type": "code",
   "execution_count": 701,
   "metadata": {},
   "outputs": [],
   "source": [
    "patientid = train['patientid']\n",
    "patientid = patientid[y.index]"
   ]
  },
  {
   "cell_type": "code",
   "execution_count": 702,
   "metadata": {},
   "outputs": [],
   "source": [
    "def tinvlogit(x):\n",
    "    return t.exp(x) / (1 + t.exp(x))"
   ]
  },
  {
   "cell_type": "code",
   "execution_count": 703,
   "metadata": {},
   "outputs": [],
   "source": [
    "with pm.Model() as logistic_model:\n",
    "\n",
    "    effects = pm.Normal('effects', mu=0, sd=10, shape=x.shape[1])\n",
    "    \n",
    "    # expected parameter\n",
    "    p = tinvlogit(t.sum(effects * x, axis=1))\n",
    "    \n",
    "    # Likelihood (sampling distribution) of observations\n",
    "    Y_obs = pm.Bernoulli('Y_obs', p=p, observed=y)\n",
    "\n"
   ]
  },
  {
   "cell_type": "code",
   "execution_count": 704,
   "metadata": {
    "scrolled": true
   },
   "outputs": [
    {
     "name": "stderr",
     "output_type": "stream",
     "text": [
      "Auto-assigning NUTS sampler...\n",
      "Initializing NUTS using jitter+adapt_diag...\n",
      "Sequential sampling (1 chains in 1 job)\n",
      "NUTS: [effects]\n",
      "100%|██████████| 3000/3000 [00:14<00:00, 206.83it/s]\n",
      "Only one chain was sampled, this makes it impossible to run some convergence checks\n"
     ]
    }
   ],
   "source": [
    "with logistic_model:\n",
    "    trace = pm.sample(1000, tune=2000, chains=1)\n",
    "    \n",
    "#with logistic_model:\n",
    "#    # move the chain to the MAP which should be a good starting point\n",
    "#    start = pm.find_MAP()\n",
    "#    step = pm.NUTS(scaling=start)\n",
    "#    trace = pm.sample(5000, step, start)"
   ]
  },
  {
   "cell_type": "code",
   "execution_count": 705,
   "metadata": {},
   "outputs": [],
   "source": [
    "new_y = test['diag']"
   ]
  },
  {
   "cell_type": "code",
   "execution_count": 706,
   "metadata": {},
   "outputs": [],
   "source": [
    "new_x = test[['CMalaria','Mening','Enceph','glasgtot','sbp']]"
   ]
  },
  {
   "cell_type": "code",
   "execution_count": 707,
   "metadata": {},
   "outputs": [],
   "source": [
    "new_patientid = test['patientid']"
   ]
  },
  {
   "cell_type": "code",
   "execution_count": 708,
   "metadata": {},
   "outputs": [],
   "source": [
    "def invlogit(x):\n",
    "    return np.exp(x) / (1 + np.exp(x))"
   ]
  },
  {
   "cell_type": "code",
   "execution_count": 709,
   "metadata": {},
   "outputs": [
    {
     "data": {
      "text/plain": [
       "array([ 0.02976037, -1.33363309,  2.10039127, -0.82382498, -0.06998311,\n",
       "       -0.29829132, -0.49777829, -1.52592383,  2.03555256, -1.81851441,\n",
       "        0.37665533, -0.74715517,  1.91696581, -0.4717388 , -1.38905017,\n",
       "       -1.66502289, -1.35247635,  1.91807851,  0.50466371, -1.81795805])"
      ]
     },
     "execution_count": 709,
     "metadata": {},
     "output_type": "execute_result"
    }
   ],
   "source": [
    "eta = np.zeros(new_x.shape[0]) #Generate log odds of viral by averaging posterior\n",
    "for row in trace['effects'][:,None,:]:\n",
    "    row=row[0]\n",
    "    eta = np.add(eta, np.dot(new_x, row.transpose()))\n",
    "eta = np.divide(eta, trace['effects'][:,None,:].shape[0])\n",
    "eta[:20]"
   ]
  },
  {
   "cell_type": "code",
   "execution_count": 710,
   "metadata": {},
   "outputs": [
    {
     "data": {
      "text/plain": [
       "array([0.50743954, 0.20855905, 0.8909412 , 0.30495233, 0.48251136,\n",
       "       0.42597524, 0.37806292, 0.17859086, 0.88447963, 0.13961223,\n",
       "       0.59306616, 0.32144149, 0.8717997 , 0.38420478, 0.19955944,\n",
       "       0.15908889, 0.20546581, 0.87192401, 0.62355469, 0.13967907])"
      ]
     },
     "execution_count": 710,
     "metadata": {},
     "output_type": "execute_result"
    }
   ],
   "source": [
    "p = invlogit(eta)\n",
    "\n",
    "p[:20]"
   ]
  },
  {
   "cell_type": "code",
   "execution_count": 711,
   "metadata": {
    "scrolled": true
   },
   "outputs": [
    {
     "data": {
      "text/html": [
       "<div>\n",
       "<style scoped>\n",
       "    .dataframe tbody tr th:only-of-type {\n",
       "        vertical-align: middle;\n",
       "    }\n",
       "\n",
       "    .dataframe tbody tr th {\n",
       "        vertical-align: top;\n",
       "    }\n",
       "\n",
       "    .dataframe thead th {\n",
       "        text-align: right;\n",
       "    }\n",
       "</style>\n",
       "<table border=\"1\" class=\"dataframe\">\n",
       "  <thead>\n",
       "    <tr style=\"text-align: right;\">\n",
       "      <th></th>\n",
       "      <th>p_mal</th>\n",
       "      <th>pred_mal</th>\n",
       "      <th>diag</th>\n",
       "      <th>CMalaria</th>\n",
       "      <th>Enceph</th>\n",
       "      <th>Mening</th>\n",
       "      <th>glasgtot</th>\n",
       "      <th>sbp</th>\n",
       "      <th>patientid</th>\n",
       "      <th>p_bact</th>\n",
       "      <th>pred_bact</th>\n",
       "      <th>p_vir</th>\n",
       "      <th>pred_vir</th>\n",
       "      <th>p_mal&amp;bact</th>\n",
       "      <th>pred_mal&amp;bact</th>\n",
       "      <th>p_tbcrypto</th>\n",
       "      <th>pred_tbcrypto</th>\n",
       "      <th>p_other</th>\n",
       "      <th>pred_other</th>\n",
       "    </tr>\n",
       "  </thead>\n",
       "  <tbody>\n",
       "    <tr>\n",
       "      <th>0</th>\n",
       "      <td>0.086401</td>\n",
       "      <td>0</td>\n",
       "      <td>1.0</td>\n",
       "      <td>0.0</td>\n",
       "      <td>0.0</td>\n",
       "      <td>1.0</td>\n",
       "      <td>13.0</td>\n",
       "      <td>98.0</td>\n",
       "      <td>453.0</td>\n",
       "      <td>0.292209</td>\n",
       "      <td>0</td>\n",
       "      <td>0.020350</td>\n",
       "      <td>0</td>\n",
       "      <td>0.000008</td>\n",
       "      <td>0</td>\n",
       "      <td>7.923180e-03</td>\n",
       "      <td>0</td>\n",
       "      <td>0.507440</td>\n",
       "      <td>1</td>\n",
       "    </tr>\n",
       "    <tr>\n",
       "      <th>1</th>\n",
       "      <td>0.735393</td>\n",
       "      <td>1</td>\n",
       "      <td>0.0</td>\n",
       "      <td>1.0</td>\n",
       "      <td>0.0</td>\n",
       "      <td>0.0</td>\n",
       "      <td>7.0</td>\n",
       "      <td>83.0</td>\n",
       "      <td>260.0</td>\n",
       "      <td>0.038803</td>\n",
       "      <td>0</td>\n",
       "      <td>0.000014</td>\n",
       "      <td>0</td>\n",
       "      <td>0.048647</td>\n",
       "      <td>0</td>\n",
       "      <td>4.726230e-06</td>\n",
       "      <td>0</td>\n",
       "      <td>0.208559</td>\n",
       "      <td>0</td>\n",
       "    </tr>\n",
       "    <tr>\n",
       "      <th>2</th>\n",
       "      <td>0.034410</td>\n",
       "      <td>0</td>\n",
       "      <td>5.0</td>\n",
       "      <td>0.0</td>\n",
       "      <td>1.0</td>\n",
       "      <td>0.0</td>\n",
       "      <td>12.0</td>\n",
       "      <td>90.0</td>\n",
       "      <td>290.0</td>\n",
       "      <td>0.061450</td>\n",
       "      <td>0</td>\n",
       "      <td>0.012388</td>\n",
       "      <td>0</td>\n",
       "      <td>0.000008</td>\n",
       "      <td>0</td>\n",
       "      <td>4.693986e-06</td>\n",
       "      <td>0</td>\n",
       "      <td>0.890941</td>\n",
       "      <td>1</td>\n",
       "    </tr>\n",
       "    <tr>\n",
       "      <th>3</th>\n",
       "      <td>0.662829</td>\n",
       "      <td>1</td>\n",
       "      <td>0.0</td>\n",
       "      <td>1.0</td>\n",
       "      <td>0.0</td>\n",
       "      <td>0.0</td>\n",
       "      <td>15.0</td>\n",
       "      <td>91.0</td>\n",
       "      <td>196.0</td>\n",
       "      <td>0.015233</td>\n",
       "      <td>0</td>\n",
       "      <td>0.000003</td>\n",
       "      <td>0</td>\n",
       "      <td>0.031114</td>\n",
       "      <td>0</td>\n",
       "      <td>3.748236e-07</td>\n",
       "      <td>0</td>\n",
       "      <td>0.304952</td>\n",
       "      <td>0</td>\n",
       "    </tr>\n",
       "    <tr>\n",
       "      <th>4</th>\n",
       "      <td>0.094982</td>\n",
       "      <td>0</td>\n",
       "      <td>1.0</td>\n",
       "      <td>0.0</td>\n",
       "      <td>0.0</td>\n",
       "      <td>1.0</td>\n",
       "      <td>10.0</td>\n",
       "      <td>90.0</td>\n",
       "      <td>109.0</td>\n",
       "      <td>0.385345</td>\n",
       "      <td>0</td>\n",
       "      <td>0.037811</td>\n",
       "      <td>0</td>\n",
       "      <td>0.000010</td>\n",
       "      <td>0</td>\n",
       "      <td>2.055824e-02</td>\n",
       "      <td>0</td>\n",
       "      <td>0.482511</td>\n",
       "      <td>0</td>\n",
       "    </tr>\n",
       "  </tbody>\n",
       "</table>\n",
       "</div>"
      ],
      "text/plain": [
       "      p_mal  pred_mal  diag  CMalaria  Enceph  Mening  glasgtot   sbp  \\\n",
       "0  0.086401         0   1.0       0.0     0.0     1.0      13.0  98.0   \n",
       "1  0.735393         1   0.0       1.0     0.0     0.0       7.0  83.0   \n",
       "2  0.034410         0   5.0       0.0     1.0     0.0      12.0  90.0   \n",
       "3  0.662829         1   0.0       1.0     0.0     0.0      15.0  91.0   \n",
       "4  0.094982         0   1.0       0.0     0.0     1.0      10.0  90.0   \n",
       "\n",
       "   patientid    p_bact  pred_bact     p_vir  pred_vir  p_mal&bact  \\\n",
       "0      453.0  0.292209          0  0.020350         0    0.000008   \n",
       "1      260.0  0.038803          0  0.000014         0    0.048647   \n",
       "2      290.0  0.061450          0  0.012388         0    0.000008   \n",
       "3      196.0  0.015233          0  0.000003         0    0.031114   \n",
       "4      109.0  0.385345          0  0.037811         0    0.000010   \n",
       "\n",
       "   pred_mal&bact    p_tbcrypto  pred_tbcrypto   p_other  pred_other  \n",
       "0              0  7.923180e-03              0  0.507440           1  \n",
       "1              0  4.726230e-06              0  0.208559           0  \n",
       "2              0  4.693986e-06              0  0.890941           1  \n",
       "3              0  3.748236e-07              0  0.304952           0  \n",
       "4              0  2.055824e-02              0  0.482511           0  "
      ]
     },
     "execution_count": 711,
     "metadata": {},
     "output_type": "execute_result"
    }
   ],
   "source": [
    "prediction3['p_other'] = p\n",
    "prediction3['pred_other'] = (prediction3['p_other'] > .5) * 1\n",
    "prediction3.head(5)"
   ]
  },
  {
   "cell_type": "code",
   "execution_count": null,
   "metadata": {},
   "outputs": [],
   "source": []
  },
  {
   "cell_type": "code",
   "execution_count": 712,
   "metadata": {},
   "outputs": [],
   "source": [
    "noref_results = prediction.append(prediction2).append(prediction3)"
   ]
  },
  {
   "cell_type": "code",
   "execution_count": 714,
   "metadata": {},
   "outputs": [
    {
     "data": {
      "text/plain": [
       "True"
      ]
     },
     "execution_count": 714,
     "metadata": {},
     "output_type": "execute_result"
    }
   ],
   "source": [
    "noref_results['patientid'].unique().shape == noref_results['patientid'].shape #patients are all unique"
   ]
  },
  {
   "cell_type": "code",
   "execution_count": 248,
   "metadata": {},
   "outputs": [],
   "source": [
    "#Make final prediction of the logistic regression"
   ]
  },
  {
   "cell_type": "code",
   "execution_count": 717,
   "metadata": {},
   "outputs": [
    {
     "name": "stderr",
     "output_type": "stream",
     "text": [
      "/anaconda3/lib/python3.6/site-packages/ipykernel_launcher.py:3: SettingWithCopyWarning: \n",
      "A value is trying to be set on a copy of a slice from a DataFrame\n",
      "\n",
      "See the caveats in the documentation: http://pandas.pydata.org/pandas-docs/stable/indexing.html#indexing-view-versus-copy\n",
      "  This is separate from the ipykernel package so we can avoid doing imports until\n",
      "/anaconda3/lib/python3.6/site-packages/ipykernel_launcher.py:4: SettingWithCopyWarning: \n",
      "A value is trying to be set on a copy of a slice from a DataFrame\n",
      "\n",
      "See the caveats in the documentation: http://pandas.pydata.org/pandas-docs/stable/indexing.html#indexing-view-versus-copy\n",
      "  after removing the cwd from sys.path.\n",
      "/anaconda3/lib/python3.6/site-packages/ipykernel_launcher.py:5: SettingWithCopyWarning: \n",
      "A value is trying to be set on a copy of a slice from a DataFrame\n",
      "\n",
      "See the caveats in the documentation: http://pandas.pydata.org/pandas-docs/stable/indexing.html#indexing-view-versus-copy\n",
      "  \"\"\"\n",
      "/anaconda3/lib/python3.6/site-packages/ipykernel_launcher.py:6: SettingWithCopyWarning: \n",
      "A value is trying to be set on a copy of a slice from a DataFrame\n",
      "\n",
      "See the caveats in the documentation: http://pandas.pydata.org/pandas-docs/stable/indexing.html#indexing-view-versus-copy\n",
      "  \n",
      "/anaconda3/lib/python3.6/site-packages/ipykernel_launcher.py:7: SettingWithCopyWarning: \n",
      "A value is trying to be set on a copy of a slice from a DataFrame\n",
      "\n",
      "See the caveats in the documentation: http://pandas.pydata.org/pandas-docs/stable/indexing.html#indexing-view-versus-copy\n",
      "  import sys\n",
      "/anaconda3/lib/python3.6/site-packages/ipykernel_launcher.py:9: SettingWithCopyWarning: \n",
      "A value is trying to be set on a copy of a slice from a DataFrame\n",
      "\n",
      "See the caveats in the documentation: http://pandas.pydata.org/pandas-docs/stable/indexing.html#indexing-view-versus-copy\n",
      "  if __name__ == '__main__':\n",
      "/anaconda3/lib/python3.6/site-packages/ipykernel_launcher.py:10: SettingWithCopyWarning: \n",
      "A value is trying to be set on a copy of a slice from a DataFrame\n",
      "\n",
      "See the caveats in the documentation: http://pandas.pydata.org/pandas-docs/stable/indexing.html#indexing-view-versus-copy\n",
      "  # Remove the CWD from sys.path while we load stuff.\n",
      "/anaconda3/lib/python3.6/site-packages/ipykernel_launcher.py:11: SettingWithCopyWarning: \n",
      "A value is trying to be set on a copy of a slice from a DataFrame\n",
      "\n",
      "See the caveats in the documentation: http://pandas.pydata.org/pandas-docs/stable/indexing.html#indexing-view-versus-copy\n",
      "  # This is added back by InteractiveShellApp.init_path()\n",
      "/anaconda3/lib/python3.6/site-packages/ipykernel_launcher.py:12: SettingWithCopyWarning: \n",
      "A value is trying to be set on a copy of a slice from a DataFrame\n",
      "\n",
      "See the caveats in the documentation: http://pandas.pydata.org/pandas-docs/stable/indexing.html#indexing-view-versus-copy\n",
      "  if sys.path[0] == '':\n",
      "/anaconda3/lib/python3.6/site-packages/ipykernel_launcher.py:13: SettingWithCopyWarning: \n",
      "A value is trying to be set on a copy of a slice from a DataFrame\n",
      "\n",
      "See the caveats in the documentation: http://pandas.pydata.org/pandas-docs/stable/indexing.html#indexing-view-versus-copy\n",
      "  del sys.path[0]\n",
      "/anaconda3/lib/python3.6/site-packages/ipykernel_launcher.py:14: SettingWithCopyWarning: \n",
      "A value is trying to be set on a copy of a slice from a DataFrame\n",
      "\n",
      "See the caveats in the documentation: http://pandas.pydata.org/pandas-docs/stable/indexing.html#indexing-view-versus-copy\n",
      "  \n"
     ]
    }
   ],
   "source": [
    "noref_results['norefpred'] = 0\n",
    "noref_results['p_max'] = noref_results['p_bact']\n",
    "noref_results['p_max'][noref_results['p_vir'] > noref_results['p_max']] = noref_results['p_vir']\n",
    "noref_results['p_max'][noref_results['p_mal&bact'] > noref_results['p_max']] = noref_results['p_mal&bact']\n",
    "noref_results['p_max'][noref_results['p_tbcrypto'] > noref_results['p_max']] = noref_results['p_tbcrypto']\n",
    "noref_results['p_max'][noref_results['p_other'] > noref_results['p_max']] = noref_results['p_other']\n",
    "noref_results['p_max'][noref_results['p_mal'] > noref_results['p_max']] = noref_results['p_mal']\n",
    "\n",
    "noref_results['norefpred'][noref_results['p_max'] == noref_results['p_bact']] = 1\n",
    "noref_results['norefpred'][noref_results['p_max'] == noref_results['p_vir']] = 2\n",
    "noref_results['norefpred'][noref_results['p_max'] == noref_results['p_mal&bact']] = 3\n",
    "noref_results['norefpred'][noref_results['p_max'] == noref_results['p_tbcrypto']] = 4\n",
    "noref_results['norefpred'][noref_results['p_max'] == noref_results['p_other']] = 5\n",
    "noref_results['norefpred'][noref_results['p_max'] == noref_results['p_mal']] = 0"
   ]
  },
  {
   "cell_type": "code",
   "execution_count": 723,
   "metadata": {},
   "outputs": [
    {
     "data": {
      "text/html": [
       "<div>\n",
       "<style scoped>\n",
       "    .dataframe tbody tr th:only-of-type {\n",
       "        vertical-align: middle;\n",
       "    }\n",
       "\n",
       "    .dataframe tbody tr th {\n",
       "        vertical-align: top;\n",
       "    }\n",
       "\n",
       "    .dataframe thead th {\n",
       "        text-align: right;\n",
       "    }\n",
       "</style>\n",
       "<table border=\"1\" class=\"dataframe\">\n",
       "  <thead>\n",
       "    <tr style=\"text-align: right;\">\n",
       "      <th></th>\n",
       "      <th>p_mal</th>\n",
       "      <th>pred_mal</th>\n",
       "      <th>diag</th>\n",
       "      <th>CMalaria</th>\n",
       "      <th>Enceph</th>\n",
       "      <th>Mening</th>\n",
       "      <th>glasgtot</th>\n",
       "      <th>sbp</th>\n",
       "      <th>patientid</th>\n",
       "      <th>p_bact</th>\n",
       "      <th>pred_bact</th>\n",
       "      <th>p_vir</th>\n",
       "      <th>pred_vir</th>\n",
       "      <th>p_mal&amp;bact</th>\n",
       "      <th>pred_mal&amp;bact</th>\n",
       "      <th>p_tbcrypto</th>\n",
       "      <th>pred_tbcrypto</th>\n",
       "      <th>p_other</th>\n",
       "      <th>pred_other</th>\n",
       "      <th>norefpred</th>\n",
       "      <th>p_max</th>\n",
       "    </tr>\n",
       "  </thead>\n",
       "  <tbody>\n",
       "    <tr>\n",
       "      <th>0</th>\n",
       "      <td>0.699222</td>\n",
       "      <td>1</td>\n",
       "      <td>0.0</td>\n",
       "      <td>1.0</td>\n",
       "      <td>0.0</td>\n",
       "      <td>0.0</td>\n",
       "      <td>9.0</td>\n",
       "      <td>86.0</td>\n",
       "      <td>244.0</td>\n",
       "      <td>0.032664</td>\n",
       "      <td>0</td>\n",
       "      <td>0.006446</td>\n",
       "      <td>0</td>\n",
       "      <td>0.026813</td>\n",
       "      <td>0</td>\n",
       "      <td>0.000003</td>\n",
       "      <td>0</td>\n",
       "      <td>0.233583</td>\n",
       "      <td>0</td>\n",
       "      <td>0</td>\n",
       "      <td>0.699222</td>\n",
       "    </tr>\n",
       "    <tr>\n",
       "      <th>1</th>\n",
       "      <td>0.714583</td>\n",
       "      <td>1</td>\n",
       "      <td>0.0</td>\n",
       "      <td>1.0</td>\n",
       "      <td>0.0</td>\n",
       "      <td>0.0</td>\n",
       "      <td>7.0</td>\n",
       "      <td>94.0</td>\n",
       "      <td>100.0</td>\n",
       "      <td>0.027659</td>\n",
       "      <td>0</td>\n",
       "      <td>0.006133</td>\n",
       "      <td>0</td>\n",
       "      <td>0.031515</td>\n",
       "      <td>0</td>\n",
       "      <td>0.000005</td>\n",
       "      <td>0</td>\n",
       "      <td>0.231728</td>\n",
       "      <td>0</td>\n",
       "      <td>0</td>\n",
       "      <td>0.714583</td>\n",
       "    </tr>\n",
       "    <tr>\n",
       "      <th>2</th>\n",
       "      <td>0.722160</td>\n",
       "      <td>1</td>\n",
       "      <td>5.0</td>\n",
       "      <td>1.0</td>\n",
       "      <td>0.0</td>\n",
       "      <td>0.0</td>\n",
       "      <td>6.0</td>\n",
       "      <td>101.0</td>\n",
       "      <td>66.0</td>\n",
       "      <td>0.024212</td>\n",
       "      <td>0</td>\n",
       "      <td>0.005339</td>\n",
       "      <td>0</td>\n",
       "      <td>0.032952</td>\n",
       "      <td>0</td>\n",
       "      <td>0.000007</td>\n",
       "      <td>0</td>\n",
       "      <td>0.228597</td>\n",
       "      <td>0</td>\n",
       "      <td>0</td>\n",
       "      <td>0.722160</td>\n",
       "    </tr>\n",
       "    <tr>\n",
       "      <th>3</th>\n",
       "      <td>0.722034</td>\n",
       "      <td>1</td>\n",
       "      <td>0.0</td>\n",
       "      <td>1.0</td>\n",
       "      <td>0.0</td>\n",
       "      <td>0.0</td>\n",
       "      <td>6.0</td>\n",
       "      <td>96.0</td>\n",
       "      <td>432.0</td>\n",
       "      <td>0.026300</td>\n",
       "      <td>0</td>\n",
       "      <td>0.006453</td>\n",
       "      <td>0</td>\n",
       "      <td>0.034982</td>\n",
       "      <td>0</td>\n",
       "      <td>0.000007</td>\n",
       "      <td>0</td>\n",
       "      <td>0.232284</td>\n",
       "      <td>0</td>\n",
       "      <td>0</td>\n",
       "      <td>0.722034</td>\n",
       "    </tr>\n",
       "    <tr>\n",
       "      <th>4</th>\n",
       "      <td>0.707662</td>\n",
       "      <td>1</td>\n",
       "      <td>0.0</td>\n",
       "      <td>1.0</td>\n",
       "      <td>0.0</td>\n",
       "      <td>0.0</td>\n",
       "      <td>8.0</td>\n",
       "      <td>117.0</td>\n",
       "      <td>127.0</td>\n",
       "      <td>0.019222</td>\n",
       "      <td>0</td>\n",
       "      <td>0.002256</td>\n",
       "      <td>0</td>\n",
       "      <td>0.020986</td>\n",
       "      <td>0</td>\n",
       "      <td>0.000004</td>\n",
       "      <td>0</td>\n",
       "      <td>0.213214</td>\n",
       "      <td>0</td>\n",
       "      <td>0</td>\n",
       "      <td>0.707662</td>\n",
       "    </tr>\n",
       "  </tbody>\n",
       "</table>\n",
       "</div>"
      ],
      "text/plain": [
       "      p_mal  pred_mal  diag  CMalaria  Enceph  Mening  glasgtot    sbp  \\\n",
       "0  0.699222         1   0.0       1.0     0.0     0.0       9.0   86.0   \n",
       "1  0.714583         1   0.0       1.0     0.0     0.0       7.0   94.0   \n",
       "2  0.722160         1   5.0       1.0     0.0     0.0       6.0  101.0   \n",
       "3  0.722034         1   0.0       1.0     0.0     0.0       6.0   96.0   \n",
       "4  0.707662         1   0.0       1.0     0.0     0.0       8.0  117.0   \n",
       "\n",
       "   patientid    p_bact  pred_bact     p_vir  pred_vir  p_mal&bact  \\\n",
       "0      244.0  0.032664          0  0.006446         0    0.026813   \n",
       "1      100.0  0.027659          0  0.006133         0    0.031515   \n",
       "2       66.0  0.024212          0  0.005339         0    0.032952   \n",
       "3      432.0  0.026300          0  0.006453         0    0.034982   \n",
       "4      127.0  0.019222          0  0.002256         0    0.020986   \n",
       "\n",
       "   pred_mal&bact  p_tbcrypto  pred_tbcrypto   p_other  pred_other  norefpred  \\\n",
       "0              0    0.000003              0  0.233583           0          0   \n",
       "1              0    0.000005              0  0.231728           0          0   \n",
       "2              0    0.000007              0  0.228597           0          0   \n",
       "3              0    0.000007              0  0.232284           0          0   \n",
       "4              0    0.000004              0  0.213214           0          0   \n",
       "\n",
       "      p_max  \n",
       "0  0.699222  \n",
       "1  0.714583  \n",
       "2  0.722160  \n",
       "3  0.722034  \n",
       "4  0.707662  "
      ]
     },
     "execution_count": 723,
     "metadata": {},
     "output_type": "execute_result"
    }
   ],
   "source": [
    "noref_results.head(5)"
   ]
  },
  {
   "cell_type": "code",
   "execution_count": 724,
   "metadata": {
    "scrolled": true
   },
   "outputs": [],
   "source": [
    "noref_results.to_csv(\"Outputs/noref_results.csv\")"
   ]
  },
  {
   "cell_type": "code",
   "execution_count": 1,
   "metadata": {},
   "outputs": [
    {
     "ename": "NameError",
     "evalue": "name 'noref_results' is not defined",
     "output_type": "error",
     "traceback": [
      "\u001b[0;31m---------------------------------------------------------------------------\u001b[0m",
      "\u001b[0;31mNameError\u001b[0m                                 Traceback (most recent call last)",
      "\u001b[0;32m<ipython-input-1-bb0946eff96e>\u001b[0m in \u001b[0;36m<module>\u001b[0;34m()\u001b[0m\n\u001b[0;32m----> 1\u001b[0;31m \u001b[0msum\u001b[0m\u001b[0;34m(\u001b[0m\u001b[0mnoref_results\u001b[0m\u001b[0;34m[\u001b[0m\u001b[0;34m'diag'\u001b[0m\u001b[0;34m]\u001b[0m\u001b[0;34m+\u001b[0m\u001b[0;36m1\u001b[0m \u001b[0;34m==\u001b[0m \u001b[0mnoref_results\u001b[0m\u001b[0;34m[\u001b[0m\u001b[0;34m'CMalaria'\u001b[0m\u001b[0;34m]\u001b[0m\u001b[0;34m)\u001b[0m\u001b[0;34m\u001b[0m\u001b[0m\n\u001b[0m",
      "\u001b[0;31mNameError\u001b[0m: name 'noref_results' is not defined"
     ]
    }
   ],
   "source": [
    "sum(noref_results['diag']+1 == noref_results['CMalaria'])"
   ]
  },
  {
   "cell_type": "code",
   "execution_count": null,
   "metadata": {},
   "outputs": [],
   "source": []
  }
 ],
 "metadata": {
  "kernelspec": {
   "display_name": "Python 3",
   "language": "python",
   "name": "python3"
  },
  "language_info": {
   "codemirror_mode": {
    "name": "ipython",
    "version": 3
   },
   "file_extension": ".py",
   "mimetype": "text/x-python",
   "name": "python",
   "nbconvert_exporter": "python",
   "pygments_lexer": "ipython3",
   "version": "3.6.4"
  }
 },
 "nbformat": 4,
 "nbformat_minor": 2
}
