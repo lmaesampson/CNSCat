{
 "cells": [
  {
   "cell_type": "code",
   "execution_count": 1,
   "metadata": {
    "collapsed": true
   },
   "outputs": [],
   "source": [
    "#Libraries for math and data manipulation\n",
    "import numpy as np\n",
    "import pandas as pd\n",
    "import copy\n",
    "import math\n",
    "import numpy.random as rand\n",
    "import scipy as sp\n",
    "import sys\n",
    "from datetime import datetime\n",
    "from collections import Counter\n",
    "\n",
    "#Dumping stuff\n",
    "import pickle\n",
    "\n",
    "#Plotting stuff\n",
    "import matplotlib.pyplot as plt\n",
    "import seaborn\n",
    "import corner\n",
    "%matplotlib inline\n",
    "from matplotlib import rc\n",
    "rc('font',**{'family':'sans-serif','sans-serif':['Helvetica']})\n",
    "rc('text', usetex=True) #Want to be able to use tex in the plot labels\n",
    "seaborn.set_style('ticks')\n",
    "seaborn.set_color_codes()\n",
    "\n",
    "#Machine learning stuff\n",
    "from sklearn import tree\n",
    "from sklearn.tree import DecisionTreeClassifier   #This is a single decision tree\n",
    "from sklearn.ensemble import ExtraTreesClassifier #Random forest of trees\n",
    "from sklearn.linear_model import LogisticRegression #Logistic regression\n",
    "from sklearn.metrics import classification_report, confusion_matrix, precision_recall_fscore_support, precision_score\n",
    "from sklearn.model_selection import train_test_split\n",
    "\n",
    "#Table drawing stuff\n",
    "from texttable import Texttable\n",
    "\n",
    "#Sci-bayes - add-on for scikit learn that does Bayesian regression.\n",
    "from skbayes.linear_models import EBLogisticRegression,VBLogisticRegression"
   ]
  },
  {
   "cell_type": "code",
   "execution_count": 2,
   "metadata": {
    "collapsed": true
   },
   "outputs": [],
   "source": [
    "def print_array(a, cols, rows):\n",
    "    if (len(cols) != a.shape[1]) or (len(rows) != a.shape[0]):\n",
    "        print \"Shapes do not match\"\n",
    "        return\n",
    "    s = a.__repr__()\n",
    "    s = s.split(\"array(\")[1]\n",
    "    s = s.replace(\"      \", \"\")\n",
    "    s = s.replace(\"[[\", \" [\")\n",
    "    s = s.replace(\"]])\", \"]\")\n",
    "    pos = [i for i, ltr in enumerate(s.splitlines()[0]) if ltr == \",\"]\n",
    "    pos[-1] = pos[-1]-1\n",
    "    empty = \" \" * len(s.splitlines()[0])\n",
    "    s = s.replace(\"],\", \"]\")\n",
    "    s = s.replace(\",\", \"\")\n",
    "    lines = []\n",
    "    for i, l in enumerate(s.splitlines()):\n",
    "        lines.append(rows[i] + l)\n",
    "    s  =\"\\n\".join(lines)\n",
    "    empty = list(empty)\n",
    "    for i, p in enumerate(pos):\n",
    "        empty[p-i] = cols[i]\n",
    "    s = \"\".join(empty) + \"\\n\" + s\n",
    "    print s"
   ]
  },
  {
   "cell_type": "code",
   "execution_count": 3,
   "metadata": {
    "collapsed": false
   },
   "outputs": [],
   "source": [
    "def datamap(df,params):\n",
    "    #Adjust some things that are always included and may need to be used:\n",
    "    \n",
    "    #df['dimain'] = df.dimain.map({\"Cerebral Malaria\":0, \"Meningoencephalitis\":1, \"Meningitis\":2.,\\\n",
    "                                       #\"Other\":3})\n",
    "    for label in params:\n",
    "        #Mapping yes/no to 1/0\n",
    "        if label =='date':\n",
    "            df['incdate'] = pd.to_datetime(df['incdate'])\n",
    "            df['date'] = (df['incdate'] - df['incdate'].min())  / np.timedelta64(1,'D')\n",
    "        if label=='age':\n",
    "            df['ageym'] = df.ageyrs.astype(float)*12.\n",
    "            df['agemth'] = df.agemth.astype(float)\n",
    "            df['age'] = df.ageym + df.agemth #total age in months\n",
    "            #Mapping yes/no to 1/0\n",
    "        if label=='clinjaund':\n",
    "            df[label] = df.clinjaund.map({'Yes': 1, 'No': 0})\n",
    "        if label=='clinhepato':\n",
    "            df[label] = df.clinhepato.map({'Yes': 1, 'No': 0})\n",
    "        if label=='clinspleno':\n",
    "            df[label] = df.clinspleno.map({'Yes': 1, 'No': 0})\n",
    "        if label=='clinconv':\n",
    "            df['clinconv'] = df.clinconv.map({'Yes': 1, 'No': 0})\n",
    "        if label=='clindehyd':\n",
    "            df['clindehyd'] = df.clindehyd.map({'Yes': 1, 'No': 0})\n",
    "        if label=='clinoedem':\n",
    "            df['clinoedem'] = df.clinoedem.map({'Yes': 1, 'No': 0})\n",
    "        if label=='clinlymph':\n",
    "            df['clinlymph'] = df.clinlymph.map({'Yes': 1, 'No': 0})\n",
    "        if label=='clinresp':\n",
    "            df['clinresp'] = df.clinresp.map({'Yes': 1, 'No': 0})\n",
    "        if label=='clinablung':    \n",
    "            df['clinablung'] = df.clinablung.map({'Yes': 1, 'No': 0})\n",
    "        if label=='clincyan':\n",
    "            df['clincyan'] = df.clincyan.map({'Yes': 1, 'No': 0})\n",
    "        if label=='clincapref':\n",
    "            df['clincapref'] = df.clincapref.map({'Yes': 1, 'No': 0})\n",
    "        if label=='clincoldext':\n",
    "            df['clincoldext'] = df.clincoldext.map({'Yes': 1, 'No': 0})\n",
    "        if label=='clinorcand':\n",
    "            df['clinorcand'] = df.clinorcand.map({'Yes': 1, 'No': 0})\n",
    "        if label=='clinhemmor':\n",
    "            df['clinhemmor'] = df.clinhemmor.map({'Yes': 1, 'No': 0})\n",
    "        if label=='clinaids':\n",
    "            df['clinaids'] = df.clinaids.map({'Yes': 1, 'No': 0})\n",
    "        if label=='vom':\n",
    "            df['vom'] = df.vom.map({'Yes': 1, 'No': 0})\n",
    "        if label=='diar':\n",
    "            df['diar'] = df.diar.map({'Yes': 1, 'No': 0})\n",
    "        if label=='headache':\n",
    "            df['headache'] = df['head'] #Since 'head' is a function\n",
    "            df['headache'] = df.headache.map({\"Don't know\":0, 'No':0, 'Yes':1, 'Not applicable':0})\n",
    "        if label=='conv':\n",
    "            df['conv'] = df.conv.map({'Yes': 1, 'No': 0})\n",
    "        if label=='age':\n",
    "            df['ageym'] = df.ageyrs.astype(float)*12.\n",
    "            df['agemth'] = df.agemth.astype(float)\n",
    "            df['age'] = df.ageym + df.agemth #total age in months\n",
    "\n",
    "        #Medical history variables\n",
    "        if label=='mhhosp':\n",
    "            df['mhhosp'] = df.mhhosp.map({'Yes': 1, 'No':0})\n",
    "\n",
    "        #some slightly more compliated mappings\n",
    "        if label=='abdpain':\n",
    "            df['abdpain'] = df.abdpain.map({\"Don't know\":0, 'No':0, 'Yes':1, 'Not applicable':np.nan})\n",
    "        if label=='muscle':\n",
    "            df['muscle'] = df.muscle.map({\"Don't know\":0, 'No':0, 'Yes':1, 'Not applicable':np.nan})\n",
    "        if label=='mhdevsp':\n",
    "            df['mhdevsp'] = df.mhdevsp.map({'OTHER':1, 'GLOBAL DEVELOPMENTAL DELAY':1, 'HYDROCEPHALUS':1,\n",
    "                   'HEARING LOSSES':1, 'MOTOR DEVELOPEMENTAL DELAY':1,\n",
    "                   'SPEECH DEVELOPEMENTAL DELAY':1})\n",
    "        #malaria rapid disagnositc\n",
    "        if label=='malaria':\n",
    "            df['malaria'] = df.malaria.map({'confirmed':2, 'no':0, 'probable':1})\n",
    "            \n",
    "        #outcome\n",
    "        if label=='d3evol':\n",
    "            df['d3evol'] = df.d3evol.map({'Gradual worsening':-1, 'Unchanged':0, 'Improved':1,\\\n",
    "                                          'Improved & worsened':-1})\n",
    "\n",
    "        #Initial diagnosis coding: (either 'diagnosed - 0', or 'undiagnosed - 1')\n",
    "        if label=='CMalaria':\n",
    "            df['CMalaria'] = df.dimain.map({0:1,1:0,2:0,3:0})\n",
    "        if label=='Enceph':\n",
    "            df['Enceph'] = df.dimain.map({0:0,1:1,2:0,3:0})\n",
    "        if label=='Mening':\n",
    "            df['Mening'] = df.dimain.map({0:0,1:0,2:1,3:0})\n",
    "        if label=='Other':\n",
    "            df['Other'] = df.dimain.map({0:0,1:0,2:0,3:1})\n",
    "\n",
    "\n",
    "        #This coding is going to be important. You'll want to figure out which categories are useful, and which\n",
    "        #are practical.\n",
    "        if label=='diag':\n",
    "            df['diag'] = df.diag.map({'malaria':0, 'cereb malaria':0,'virus-malaria':0,\\\n",
    "                                                'virus-bacteria':0, 'bacteremia':0,'bact meningitis':0,\\\n",
    "                                                'virus-other':0,'virus':0,'malaria-bacterial':0,\\\n",
    "                                                'tb':0,'crypto':0, '0.0':1})\n",
    "        if label=='ttatb':\n",
    "            df['ttatb'] = df.ttatb.map({'No':0,'Yes':1})\n",
    "        if label=='ttmal':\n",
    "            df['ttmal'] = df.ttmal.map({'No':0,'Yes':2})\n",
    "        "
   ]
  },
  {
   "cell_type": "code",
   "execution_count": 63,
   "metadata": {
    "collapsed": false
   },
   "outputs": [],
   "source": [
    "def trainVBLR(features,data,vblr,modelA,depth=0):\n",
    "    features = np.array(features)\n",
    "    Npar = len(features) - 1 #dimain and diag are always included in the list, but aren't model params\n",
    "    XY_df = data.loc[:,features].dropna().copy()\n",
    "    \n",
    "    Input = XY_df.values\n",
    "    X = Input[:,0:-1].copy()\n",
    "    Y = Input[:,-1].copy()\n",
    "    Y = Y.astype(float)\n",
    "        \n",
    "    #Map the three different models into model A vs. Other: \n",
    "    if modelA==1:    #antibiotics vs. other\n",
    "        Y[Y==3.] = 2.\n",
    "    if modelA==2:    #antimalarials vs. other\n",
    "        Y[Y==1.] = 3.\n",
    "    if modelA==3:    #both vs. other\n",
    "        Y[Y==2.] = 1.\n",
    " \n",
    "    \n",
    "    print 'Number of patients in data set:', len(Y)\n",
    "    print 'Number of features:', len(features)-1\n",
    "    print 'Fitting model ...'\n",
    "        \n",
    "    vblr.__init__()\n",
    "    vblr.fit(X,Y)    \n",
    "    if depth<=1:  #If you're only fitting once\n",
    "        return Input, features\n",
    "        print 'model complete!'\n",
    "    \n",
    "    if depth>1:        #go through 'depth' number of times and drop all coefficients consistent with zero.\n",
    "        depth -= 1\n",
    "        covar_mat = copy.copy(vblr.sigma_)\n",
    "        covar_mat = np.array(covar_mat)\n",
    "        covar_mat = covar_mat.reshape([Npar+1,Npar+1])\n",
    "        post_peaks = np.zeros([Npar])\n",
    "        sigmas = np.zeros([Npar])\n",
    "        for i in range(Npar):\n",
    "            cval = vblr.coef_[0][i]\n",
    "            post_peaks[i] = cval\n",
    "            sigmas[i] = np.sqrt(covar_mat[i+1,i+1])\n",
    "\n",
    "            post_peaks = np.array(post_peaks)  \n",
    "            sigmas = np.array(sigmas)\n",
    "\n",
    "            #Which are consistent (within 1 sigma) with zero?\n",
    "            post_plus = post_peaks + 0.75*sigmas\n",
    "            post_minus = post_peaks - 0.75*sigmas\n",
    "\n",
    "            splus = np.sign(post_plus)\n",
    "            sminus = np.sign(post_minus)\n",
    "\n",
    "        keep = splus==sminus\n",
    "        extra = [True]   #Need to hang onto the category label\n",
    "        keep = np.concatenate([keep,extra])\n",
    "        features = features[keep]\n",
    "        print 'Non-zero Coefficients:',len(features)-1\n",
    "        return trainVBLR(features,data,vblr,modelA,depth)\n",
    "        depth = 0\n"
   ]
  },
  {
   "cell_type": "code",
   "execution_count": 64,
   "metadata": {
    "collapsed": false
   },
   "outputs": [],
   "source": [
    "#Read in the raw data file:\n",
    "data_raw = pd.read_csv(\"../Data/cns_data.csv\")   #Using Pandas for data manipulation\n",
    "data_df = data_raw.drop(['surnamenam','patinit','patientreg','mothinit'],axis=1)\n",
    "\n",
    "#Split up 'incdate' into month, day, and year. Monthday is meant to capture seasonality.\n",
    "data_df['month'] = pd.DatetimeIndex(data_df['incdate']).month\n",
    "data_df['day'] = pd.DatetimeIndex(data_df['incdate']).day\n",
    "data_df['year'] = pd.DatetimeIndex(data_df['incdate']).year\n",
    "data_df['monthday'] = data_df['month']*30+data_df['day']"
   ]
  },
  {
   "cell_type": "code",
   "execution_count": 65,
   "metadata": {
    "collapsed": false
   },
   "outputs": [
    {
     "name": "stdout",
     "output_type": "stream",
     "text": [
      "There are 328 patients who improved.\n"
     ]
    }
   ],
   "source": [
    "#Select the patients who have improved. We are using this as an indicator of the 'right' treatment, although\n",
    "#we know that this has limitations.\n",
    "patients=data_df[data_df.d3evol=='Improved'].copy()\n",
    "print 'There are', len(patients), 'patients who improved.'\n",
    "\n",
    "#What parameters do we want to consider?\n",
    "pmap = ['glasgtot','clinjaund','clinhepato','clinspleno','clinconv','clindehyd',\\\n",
    "                          'clinoedem','clinlymph','clinresp','clinablung','clincyan','clincapref','clincoldext',\\\n",
    "                         'clinorcand','clinhemmor','clinaids',\\\n",
    "                         'abdpain','vom','diar','headache','muscle','conv',\\\n",
    "                         'age','date',\\\n",
    "                         'temp','card','resp','sbp','dbp','weight','height',\\\n",
    "                         'malaria',\n",
    "                         'mhhosp',\\\n",
    "               'ttatb','ttmal'] #These will be used to define the final treatment.\n",
    "\n",
    "#Map all of these parameters to numerical values:\n",
    "datamap(patients,pmap)\n",
    "#Add the final category to the data\n",
    "patients['FinalTreatment'] = patients.ttmal+patients.ttatb #0 - none, 1 - atb, 2 - atm, 3 - both\n"
   ]
  },
  {
   "cell_type": "code",
   "execution_count": 69,
   "metadata": {
    "collapsed": false
   },
   "outputs": [
    {
     "name": "stdout",
     "output_type": "stream",
     "text": [
      "Number of patients in data set: 180\n",
      "Number of features: 32\n",
      "Fitting model ...\n",
      "nf 32 nsig 33\n",
      "Non-zero Coefficients: 16\n",
      "Number of patients in data set: 180\n",
      "Number of features: 16\n",
      "Fitting model ...\n",
      "nf 16 nsig 17\n",
      "Non-zero Coefficients: 16\n",
      "Number of patients in data set: 180\n",
      "Number of features: 16\n",
      "Fitting model ...\n",
      "nf 16 nsig 17\n",
      "Non-zero Coefficients: 16\n",
      "Number of patients in data set: 180\n",
      "Number of features: 16\n",
      "Fitting model ...\n",
      "nf 16 nsig 17\n",
      "Non-zero Coefficients: 16\n",
      "Number of patients in data set: 180\n",
      "Number of features: 16\n",
      "Fitting model ...\n",
      "nf 16 nsig 17\n",
      "Non-zero Coefficients: 16\n",
      "Number of patients in data set: 180\n",
      "Number of features: 16\n",
      "Fitting model ...\n",
      "nf 16 nsig 17\n"
     ]
    }
   ],
   "source": [
    "#Train the vblr \n",
    "feature_list = ['glasgtot','clinjaund','clinhepato','clinspleno','clinconv','clindehyd',\\\n",
    "                          'clinoedem','clinlymph','clinresp','clinablung','clincyan','clincapref','clincoldext',\\\n",
    "                         'clinorcand','clinhemmor','clinaids',\\\n",
    "                         'abdpain','vom','diar','headache','muscle','conv',\\\n",
    "                         'age','date',\\\n",
    "                         'temp','card','resp','sbp','dbp','weight','height',\\\n",
    "                          'mhhosp', \\\n",
    "               'FinalTreatment']\n",
    "vblr_both = VBLogisticRegression()\n",
    "DataTrained, feat_kept_both = (trainVBLR(feature_list,patients,vblr_both,modelA=1,depth=6))\n",
    "#print 'There are', len(feat_kept)-1, 'features in this model.'\n",
    "#print 'These features are:', feat_kept"
   ]
  },
  {
   "cell_type": "code",
   "execution_count": 32,
   "metadata": {
    "collapsed": false
   },
   "outputs": [
    {
     "data": {
      "text/plain": [
       "'\\noutlist = [vblr_atb,feat_kept_atb,vblr_atm,feat_kept_atm,vblr_both,feat_kept_both]\\nPIK = \"three_model_pickle_nomal_test.p\"\\nwith open(PIK, \"wb\") as f:\\n    pickle.dump(outlist, f)\\n'"
      ]
     },
     "execution_count": 32,
     "metadata": {},
     "output_type": "execute_result"
    }
   ],
   "source": [
    "#Dump the three models and the three feature lists to a pickle:\n",
    "\"\"\"\n",
    "outlist = [vblr_atb,feat_kept_atb,vblr_atm,feat_kept_atm,vblr_both,feat_kept_both]\n",
    "PIK = \"three_model_pickle_nomal_test.p\"\n",
    "with open(PIK, \"wb\") as f:\n",
    "    pickle.dump(outlist, f)\n",
    "\"\"\"   "
   ]
  },
  {
   "cell_type": "code",
   "execution_count": 39,
   "metadata": {
    "collapsed": false
   },
   "outputs": [
    {
     "name": "stdout",
     "output_type": "stream",
     "text": [
      "There are 180 patients...\n",
      "and 27 features.\n",
      "['clinhepato', 'conv', 'vom', 'resp', 'height', 'dbp', 'clinresp', 'weight', 'clinablung', 'clinconv', 'clinspleno', 'diar', 'headache', 'abdpain', 'malaria', 'card', 'clinlymph', 'clinoedem', 'glasgtot', 'temp', 'age', 'clinjaund', 'mhhosp', 'clindehyd', 'muscle', 'atatb', 'atmal', 'FinalTreatment']\n"
     ]
    }
   ],
   "source": [
    "#The above was all about training the model to generate the 'machine learning' policy.\n",
    "#Generate the machine learning policy action for each patient:\n",
    "\n",
    "#Load models and feature lists\n",
    "modelList = pickle.load( open( \"three_model_pickle.p\", \"rb\" ) )\n",
    "\n",
    "pantb_model = modelList[0]\n",
    "pantm_model = modelList[2]\n",
    "pboth_model = modelList[4]\n",
    "\n",
    "featAntb = list(modelList[1][:-1])\n",
    "featAntm = list(modelList[3][:-1])\n",
    "featBoth = list(modelList[5][:-1])\n",
    "\n",
    "allFeat = featAntb + featAntm + featBoth\n",
    "allFeat = list(set(allFeat))    #Collection of all of the features used - will want to test only on patients with\n",
    "                                #non-NaN values for all of these.\n",
    "allFeat.append('atatb')\n",
    "allFeat.append('atmal')\n",
    "allFeat.append('FinalTreatment')\n",
    "\n",
    "finalPatients_df = patients[allFeat].copy()\n",
    "finalPatients_df['atmal'] = finalPatients_df.atmal.map({'No':0,'Yes':1, np.nan:0})*2\n",
    "finalPatients_df['atatb'] = finalPatients_df.atatb.map({'No':0,'Yes':1, 'Not applicable':0})\n",
    "finalPatients_df = finalPatients_df.dropna()  #Only keep patients with values for all of these features.\n",
    "finalPatients = finalPatients_df.values\n",
    "\n",
    "Npatient = len(finalPatients)\n",
    "\n",
    "print 'There are', Npatient, 'patients...'\n",
    "print 'and', len(allFeat)-1, 'features.'\n",
    "\n",
    "#Now, you need to go through and calculate the probability of each of the three treatments for each patient, and\n",
    "#assign that patient to the category with the highest probability. \n",
    "#From the list of patients who have values for all possible features, select the features that were used in \n",
    "#each model:\n",
    "atbFeatures = finalPatients_df[featAntb].values\n",
    "atmFeatures = finalPatients_df[featAntm].values\n",
    "bothFeatures = finalPatients_df[featBoth].values\n",
    "\n",
    "TrueCat = finalPatients[:,-1]\n",
    "\n",
    "#Generate the probabilities for each model:\n",
    "pantb = pantb_model.predict_proba(atbFeatures)\n",
    "pantm = pantm_model.predict_proba(atmFeatures)\n",
    "pboth = pboth_model.predict_proba(bothFeatures)\n",
    "\n",
    "Policy_ML = []\n",
    "for i in range(Npatient):\n",
    "    pvec = np.array([pantb[i,0]*100,pantm[i,0]*100,pboth[i,0]*100])\n",
    "    Policy_ML.append(np.where(pvec==np.max(pvec))[0][0]+1)\n",
    "Policy_ML = np.array(Policy_ML)\n",
    "Policy_ML = Policy_ML.astype(float)\n",
    "\n",
    "print allFeat"
   ]
  },
  {
   "cell_type": "code",
   "execution_count": 40,
   "metadata": {
    "collapsed": false
   },
   "outputs": [
    {
     "name": "stdout",
     "output_type": "stream",
     "text": [
      "There are 180 patients...\n",
      "and 27 features.\n",
      "['clinhepato', 'conv', 'vom', 'resp', 'height', 'dbp', 'clinresp', 'weight', 'clinhemmor', 'clinablung', 'clinconv', 'clinspleno', 'diar', 'headache', 'abdpain', 'date', 'clinlymph', 'clinoedem', 'glasgtot', 'temp', 'age', 'clinjaund', 'mhhosp', 'clindehyd', 'muscle', 'atatb', 'atmal', 'FinalTreatment']\n"
     ]
    }
   ],
   "source": [
    "#Same method, but malaria test not included\n",
    "\n",
    "#Load models and feature lists\n",
    "modelList = pickle.load( open( \"three_model_pickle_nomal_OLD.p\", \"rb\" ) )\n",
    "\n",
    "pantb_model = modelList[0]\n",
    "pantm_model = modelList[2]\n",
    "pboth_model = modelList[4]\n",
    "\n",
    "featAntb = list(modelList[1][:-1])\n",
    "featAntm = list(modelList[3][:-1])\n",
    "featBoth = list(modelList[5][:-1])\n",
    "\n",
    "allFeat = featAntb + featAntm + featBoth\n",
    "allFeat = list(set(allFeat))    #Collection of all of the features used - will want to test only on patients with\n",
    "                                #non-NaN values for all of these.\n",
    "allFeat.append('atatb')\n",
    "allFeat.append('atmal')\n",
    "allFeat.append('FinalTreatment')\n",
    "\n",
    "finalPatients_df = patients[allFeat].copy()\n",
    "finalPatients_df['atmal'] = finalPatients_df.atmal.map({'No':0,'Yes':1, np.nan:0})*2\n",
    "finalPatients_df['atatb'] = finalPatients_df.atatb.map({'No':0,'Yes':1, 'Not applicable':0})\n",
    "finalPatients_df = finalPatients_df.dropna()  #Only keep patients with values for all of these features.\n",
    "finalPatients = finalPatients_df.values\n",
    "\n",
    "Npatient = len(finalPatients)\n",
    "\n",
    "print 'There are', Npatient, 'patients...'\n",
    "print 'and', len(allFeat)-1, 'features.'\n",
    "\n",
    "#Now, you need to go through and calculate the probability of each of the three treatments for each patient, and\n",
    "#assign that patient to the category with the highest probability. \n",
    "#From the list of patients who have values for all possible features, select the features that were used in \n",
    "#each model:\n",
    "atbFeatures = finalPatients_df[featAntb].values\n",
    "atmFeatures = finalPatients_df[featAntm].values\n",
    "bothFeatures = finalPatients_df[featBoth].values\n",
    "\n",
    "TrueCat = finalPatients[:,-1]\n",
    "\n",
    "#Generate the probabilities for each model:\n",
    "pantb = pantb_model.predict_proba(atbFeatures)\n",
    "pantm = pantm_model.predict_proba(atmFeatures)\n",
    "pboth = pboth_model.predict_proba(bothFeatures)\n",
    "\n",
    "Policy_ML_nomal = []\n",
    "for i in range(Npatient):\n",
    "    pvec = np.array([pantb[i,0]*100,pantm[i,0]*100,pboth[i,0]*100])\n",
    "    Policy_ML_nomal.append(np.where(pvec==np.max(pvec))[0][0]+1)\n",
    "Policy_ML_nomal = np.array(Policy_ML_nomal)\n",
    "Policy_ML_nomal = Policy_ML_nomal.astype(float)\n",
    "\n",
    "print allFeat"
   ]
  },
  {
   "cell_type": "code",
   "execution_count": 41,
   "metadata": {
    "collapsed": false
   },
   "outputs": [],
   "source": [
    "#Intake policy is just what was done directly on intake\n",
    "Policy_In = finalPatients_df['atmal'] + finalPatients_df['atatb']\n",
    "Policy_In = Policy_In.values\n",
    "Policy_In = Policy_In.astype(float)\n",
    "Policy_In[Policy_In==0.] = 4."
   ]
  },
  {
   "cell_type": "code",
   "execution_count": 42,
   "metadata": {
    "collapsed": true
   },
   "outputs": [],
   "source": [
    "#Everyone gets everything policy is just what it sounds like\n",
    "Policy_EgE = np.ones(Npatient)*3."
   ]
  },
  {
   "cell_type": "code",
   "execution_count": 43,
   "metadata": {
    "collapsed": false
   },
   "outputs": [],
   "source": [
    "#And try a random policy just for grins:\n",
    "poss = [1,2,3,4]\n",
    "Policy_Rand = np.random.choice(poss,size=[Npatient])"
   ]
  },
  {
   "cell_type": "code",
   "execution_count": 44,
   "metadata": {
    "collapsed": false
   },
   "outputs": [
    {
     "name": "stdout",
     "output_type": "stream",
     "text": [
      "120\n"
     ]
    }
   ],
   "source": [
    "#What everyone *should* have gotten\n",
    "Truth = finalPatients_df['FinalTreatment'].values\n",
    "Truth = Truth.astype(float)\n",
    "\n",
    "print np.sum(Policy_ML==Truth)"
   ]
  },
  {
   "cell_type": "code",
   "execution_count": 45,
   "metadata": {
    "collapsed": false
   },
   "outputs": [],
   "source": [
    "#Now, go through and fill out the 'policy grid' for each of these three policies.\n",
    "Pij_ML = np.zeros([4,4])\n",
    "Pij_ML_nm = np.zeros([4,4])\n",
    "Pij_I = np.zeros([4,4])\n",
    "Pij_EgE = np.zeros([4,4])\n",
    "Pij_R = np.zeros([4,4])\n",
    "\n",
    "poss = [1,2,3,4]\n",
    "\n",
    "for i in poss:\n",
    "    for j in poss:\n",
    "        needmask = Truth==i\n",
    "        \n",
    "        gotmask = Policy_ML==j \n",
    "        Pij_ML[i-1,j-1] = sum(needmask*gotmask)\n",
    "        \n",
    "        gotmask = Policy_ML_nomal==j\n",
    "        Pij_ML_nm[i-1,j-1] = sum(needmask*gotmask)\n",
    "        \n",
    "        gotmask = Policy_In==j\n",
    "        Pij_I[i-1,j-1] = sum(needmask*gotmask)\n",
    "        \n",
    "        gotmask = Policy_EgE==j\n",
    "        Pij_EgE[i-1,j-1] = sum(needmask*gotmask)\n",
    "        \n",
    "        gotmask = Policy_Rand==j\n",
    "        Pij_R[i-1,j-1] = sum(needmask*gotmask)\n",
    "        "
   ]
  },
  {
   "cell_type": "code",
   "execution_count": 46,
   "metadata": {
    "collapsed": false
   },
   "outputs": [
    {
     "name": "stdout",
     "output_type": "stream",
     "text": [
      "Machine Learning Policy:\n",
      "     ab   am   b   n    \n",
      "atb  [35.  0. 16.  0.]\n",
      "atm  [ 0. 12.  8.  0.]\n",
      "both [16. 20. 73.  0.]\n",
      "none [ 0.  0.  0.  0.]\n",
      "\n",
      "\n",
      "Machine Learning Policy - no RMD:\n",
      "     ab   am   b   n    \n",
      "atb  [22.  1. 28.  0.]\n",
      "atm  [ 0.  7. 13.  0.]\n",
      "both [11. 14. 84.  0.]\n",
      "none [ 0.  0.  0.  0.]\n",
      "\n",
      "\n",
      "Intake Policy:\n",
      "     ab   am   b   n    \n",
      "atb  [21.  1.  1. 28.]\n",
      "atm  [ 0. 11.  0.  9.]\n",
      "both [ 7. 19. 57. 26.]\n",
      "none [ 0.  0.  0.  0.]\n",
      "\n",
      "\n",
      "Random Policy:\n",
      "     ab   am   b   n    \n",
      "atb  [11. 12. 14. 14.]\n",
      "atm  [ 1. 11.  4.  4.]\n",
      "both [28. 25. 26. 30.]\n",
      "none [ 0.  0.  0.  0.]\n",
      "\n",
      "\n",
      "Everyone gets Everything:\n",
      "      ab    am    b    n    \n",
      "atb  [  0.   0.  51.   0.]\n",
      "atm  [  0.   0.  20.   0.]\n",
      "both [  0.   0. 109.   0.]\n",
      "none [  0.   0.   0.   0.]\n"
     ]
    }
   ],
   "source": [
    "c = [\"ab\",\"am\",\"b\",\"n\"]\n",
    "r = [\"atb \",\"atm \",\"both\",\"none\"]\n",
    "\n",
    "print \"Machine Learning Policy:\"\n",
    "print_array(Pij_ML,c,r)\n",
    "print \"\\n\"\n",
    "\n",
    "print \"Machine Learning Policy - no RMD:\"\n",
    "print_array(Pij_ML_nm,c,r)\n",
    "print \"\\n\"\n",
    "\n",
    "print \"Intake Policy:\"\n",
    "print_array(Pij_I,c,r)\n",
    "print \"\\n\"\n",
    "\n",
    "print \"Random Policy:\"\n",
    "print_array(Pij_R,c,r)\n",
    "print \"\\n\"\n",
    "\n",
    "print \"Everyone gets Everything:\"\n",
    "print_array(Pij_EgE,c,r)"
   ]
  },
  {
   "cell_type": "code",
   "execution_count": 47,
   "metadata": {
    "collapsed": false
   },
   "outputs": [],
   "source": [
    "#Fill in the returns matrix. This should be interactive somehow.\n",
    "Rij = [[1.,-2.,0.5,-2.],[-2.,1.,0.5,-2.],[-2.,-2.,1.,-2.],[0.5,0.5,0.,1.]]"
   ]
  },
  {
   "cell_type": "code",
   "execution_count": 72,
   "metadata": {
    "collapsed": false
   },
   "outputs": [
    {
     "name": "stdout",
     "output_type": "stream",
     "text": [
      "Random: -0.95\n",
      "ML: 0.3333333333333333\n",
      "ML - no MRD: 0.4527777777777778\n",
      "Intake: -0.5027777777777778\n",
      "EgE: 0.8027777777777778\n"
     ]
    }
   ],
   "source": [
    "print 'Random:', np.sum(Pij_R*Rij)/Npatient\n",
    "print 'ML:', np.sum(Pij_ML*Rij)/Npatient\n",
    "print 'ML - no MRD:', np.sum(Pij_ML_nm*Rij)/Npatient\n",
    "print 'Intake:', np.sum(Pij_I*Rij)/Npatient\n",
    "print 'EgE:', np.sum(Pij_EgE*Rij)/Npatient"
   ]
  },
  {
   "cell_type": "code",
   "execution_count": null,
   "metadata": {
    "collapsed": true
   },
   "outputs": [],
   "source": [
    "#NEXT: time-discounting. What happens if you give people the *exact* right thing - but several days later? "
   ]
  }
 ],
 "metadata": {
  "kernelspec": {
   "display_name": "Python 2",
   "language": "python",
   "name": "python2"
  },
  "language_info": {
   "codemirror_mode": {
    "name": "ipython",
    "version": 2
   },
   "file_extension": ".py",
   "mimetype": "text/x-python",
   "name": "python",
   "nbconvert_exporter": "python",
   "pygments_lexer": "ipython2",
   "version": "2.7.12"
  }
 },
 "nbformat": 4,
 "nbformat_minor": 2
}
