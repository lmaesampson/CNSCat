{
 "cells": [
  {
   "cell_type": "code",
   "execution_count": 1,
   "metadata": {
    "collapsed": false
   },
   "outputs": [],
   "source": [
    "#Libraries for math and data manipulation\n",
    "import numpy as np\n",
    "import pandas as pd\n",
    "import math\n",
    "import numpy.random as rand\n",
    "import scipy as sp\n",
    "import sys\n",
    "from datetime import datetime\n",
    "\n",
    "#Plotting stuff\n",
    "import matplotlib.pyplot as plt\n",
    "import seaborn\n",
    "import corner\n",
    "%matplotlib inline\n",
    "from matplotlib import rc\n",
    "rc('font',**{'family':'sans-serif','sans-serif':['Helvetica']})\n",
    "rc('text', usetex=True) #Want to be able to use tex in the plot labels\n",
    "seaborn.set_style('ticks')\n",
    "seaborn.set_color_codes()\n",
    "\n",
    "#Machine learning stuff\n",
    "from sklearn import tree\n",
    "from sklearn.tree import DecisionTreeClassifier   #This is a single decision tree\n",
    "from sklearn.ensemble import ExtraTreesClassifier #Random forest of trees\n",
    "import graphviz                                   #This package lets you visualize the tree\n",
    "from sklearn.metrics import classification_report, confusion_matrix, precision_recall_fscore_support\n",
    "from sklearn.model_selection import train_test_split"
   ]
  },
  {
   "cell_type": "code",
   "execution_count": 65,
   "metadata": {
    "collapsed": true
   },
   "outputs": [],
   "source": [
    "#Read in Stata datafile\n",
    "#data_stata = pd.io.stata.read_stata('../ProjectDef/cnsfinall2.dta')\n",
    "#Convert to .csv. Now you never need to do this again\n",
    "#data_stata.to_csv('../Data/cns_data.csv')"
   ]
  },
  {
   "cell_type": "code",
   "execution_count": 66,
   "metadata": {
    "collapsed": false
   },
   "outputs": [],
   "source": [
    "data_raw = pd.read_csv(\"../Data/cns_data.csv\")   #Using Pandas for data manipulation"
   ]
  },
  {
   "cell_type": "code",
   "execution_count": 67,
   "metadata": {
    "collapsed": true
   },
   "outputs": [],
   "source": [
    "#Delete useless columns (like surename, initials, etc.)\n",
    "data_df = data_raw.drop(['surnamenam','patinit','patientreg','mothinit'],axis=1)"
   ]
  },
  {
   "cell_type": "markdown",
   "metadata": {},
   "source": [
    "Here are the actual diagnoses:"
   ]
  },
  {
   "cell_type": "code",
   "execution_count": 68,
   "metadata": {
    "collapsed": false
   },
   "outputs": [
    {
     "data": {
      "text/plain": [
       "array(['malaria', '0.0', 'cereb malaria', 'virus-bacteria', 'bacteremia',\n",
       "       'bact meningitis', 'virus-other', 'virus-malaria',\n",
       "       'malaria-bacterial', 'tb', 'virus', 'crypto'], dtype=object)"
      ]
     },
     "execution_count": 68,
     "metadata": {},
     "output_type": "execute_result"
    }
   ],
   "source": [
    "data_df.diag.unique()"
   ]
  },
  {
   "cell_type": "code",
   "execution_count": 69,
   "metadata": {
    "collapsed": true
   },
   "outputs": [],
   "source": [
    "#Adding a variable that is just 'month and day' - seems better to capture seasonality.\n",
    "data_df['month'] = pd.DatetimeIndex(data_df['incdate']).month\n",
    "data_df['day'] = pd.DatetimeIndex(data_df['incdate']).day\n",
    "data_df['monthday'] = data_df['month']*30+data_df['day']"
   ]
  },
  {
   "cell_type": "code",
   "execution_count": 70,
   "metadata": {
    "collapsed": true
   },
   "outputs": [],
   "source": [
    "#Select input features\n",
    "#6-8 adding inclusion criteria and rdttest MLW\n",
    "clin_df = data_df.loc[:,['glasgtot','blanttot','clinjaund','clinhepato','clinspleno','clinconv','clindehyd',\\\n",
    "                          'clinoedem','clinlymph','clinresp','clinablung','clincyan','clincapref','clincoldext',\\\n",
    "                         'clinearinf','clinanemia','clinorcand','clinhemmor','clinaids',\\\n",
    "                         'abdpain','vom','diar','head','muscle','conv',\\\n",
    "                         'sex','ageyrs','agemth','incdate',\\\n",
    "                         'temp','card','resp','sbp','dbp','weight','height','muac',\\\n",
    "                          'mhhosp', 'mhdevsp', 'mhsickle', 'mhchronstat',\\\n",
    "                         'monthday','dimain', \\\n",
    "                         'incirrit', 'inchead', 'incphoto',\\\n",
    "                         'incfont', 'incneuro' , 'incseiza', 'incseizh','incpurp',\\\n",
    "                         'malaria', #is malaria confirmed? I'm assuming this is the rapid diagnostic but idk\n",
    "                          'diag']] #This is the final diagnosis - will be the 'label'"
   ]
  },
  {
   "cell_type": "code",
   "execution_count": 71,
   "metadata": {
    "collapsed": true
   },
   "outputs": [],
   "source": [
    "#Convert the date into a useful value. This just counts the days from the beginning of the dataset \n",
    "clin_df['incdate'] = pd.to_datetime(clin_df['incdate'])\n",
    "clin_df['date'] = (clin_df['incdate'] - clin_df['incdate'].min())  / np.timedelta64(1,'D')\n",
    "\n",
    "#Mapping yes/no to 1/0\n",
    "clin_df['clinjaund'] = clin_df.clinjaund.map({'Yes': 1, 'No': 0})\n",
    "clin_df['clinhepato'] = clin_df.clinhepato.map({'Yes': 1, 'No': 0})\n",
    "clin_df['clinspleno'] = clin_df.clinspleno.map({'Yes': 1, 'No': 0})\n",
    "clin_df['clinconv'] = clin_df.clinconv.map({'Yes': 1, 'No': 0})\n",
    "clin_df['clindehyd'] = clin_df.clindehyd.map({'Yes': 1, 'No': 0})\n",
    "clin_df['clinoedem'] = clin_df.clinoedem.map({'Yes': 1, 'No': 0})\n",
    "clin_df['clinlymph'] = clin_df.clinlymph.map({'Yes': 1, 'No': 0})\n",
    "clin_df['clinresp'] = clin_df.clinresp.map({'Yes': 1, 'No': 0})\n",
    "clin_df['clinablung'] = clin_df.clinablung.map({'Yes': 1, 'No': 0})\n",
    "clin_df['clincyan'] = clin_df.clincyan.map({'Yes': 1, 'No': 0})\n",
    "clin_df['clincapref'] = clin_df.clincapref.map({'Yes': 1, 'No': 0})\n",
    "clin_df['clincoldext'] = clin_df.clincoldext.map({'Yes': 1, 'No': 0})\n",
    "#clin_df['clinearinf'] = clin_df.clinearinf.map({'Yes': 1, 'No': 0})\n",
    "#clin_df['clintonsil'] = clin_df.clintonsil.map({'Yes': 1, 'No': 0})\n",
    "clin_df['clinorcand'] = clin_df.clinorcand.map({'Yes': 1, 'No': 0})\n",
    "clin_df['clinhemmor'] = clin_df.clinhemmor.map({'Yes': 1, 'No': 0})\n",
    "clin_df['clinaids'] = clin_df.clinaids.map({'Yes': 1, 'No': 0})\n",
    "clin_df['vom'] = clin_df.vom.map({'Yes': 1, 'No': 0})\n",
    "clin_df['diar'] = clin_df.diar.map({'Yes': 1, 'No': 0})\n",
    "clin_df['headache'] = clin_df['head'] #Since 'head' is a function\n",
    "clin_df['conv'] = clin_df.conv.map({'Yes': 1, 'No': 0})\n",
    "clin_df['ageym'] = clin_df.ageyrs.astype(float)*12.\n",
    "clin_df.agemth = clin_df.agemth.astype(float)\n",
    "clin_df['age'] = clin_df.ageym + clin_df.agemth #total age in months\n",
    "\n",
    "\n",
    "#Medical history variables\n",
    "clin_df['mhhosp'] = clin_df.mhhosp.map({'Yes': 1, 'No':0})\n",
    "\n",
    "\n",
    "#some slightly more compliated mappings\n",
    "clin_df['abdpain'] = clin_df.abdpain.map({\"Don't know\":0, 'No':0, 'Yes':1, 'Not applicable':np.nan})\n",
    "clin_df['headache'] = clin_df.headache.map({\"Don't know\":0, 'No':0, 'Yes':1, 'Not applicable':0})\n",
    "clin_df['muscle'] = clin_df.muscle.map({\"Don't know\":0, 'No':0, 'Yes':1, 'Not applicable':np.nan})\n",
    "\n",
    "clin_df['dimain'] = clin_df.dimain.map({\"Cerebral Malaria\":0, \"Meningoencephalitis\":1, \"Meningitis\":2.,\\\n",
    "                                       \"Other\":3})\n",
    "\n",
    "clin_df['mhdevsp'] = clin_df.mhdevsp.map({'OTHER':1, 'GLOBAL DEVELOPMENTAL DELAY':1, 'HYDROCEPHALUS':1,\n",
    "       'HEARING LOSSES':1, 'MOTOR DEVELOPEMENTAL DELAY':1,\n",
    "       'SPEECH DEVELOPEMENTAL DELAY':1})\n",
    "\n",
    "#Mapping of inclusion variables 6-8 MLW\n",
    "clin_df['incirrit'] = clin_df.incirrit.map({\"Don't know\":0, 'No':0, 'Yes':1, 'Not applicable':0})\n",
    "clin_df['inchead'] = clin_df.inchead.map({\"Don't know\":0, 'No':0, 'Yes':1, 'Not applicable':0})\n",
    "clin_df['incphoto'] = clin_df.incphoto.map({\"Don't know\":0, 'No':0, 'Yes':1, 'Not applicable':0})\n",
    "clin_df['incfont'] = clin_df.incfont.map({\"Don't know\":0, 'No':0, 'Yes':1, 'Not applicable':0})\n",
    "clin_df['incneuro'] = clin_df.incneuro.map({\"Don't know\":0, 'No':0, 'Yes':1, 'Not applicable':0})\n",
    "clin_df['incseiza'] = clin_df.incseiza.map({\"Don't know\":0, 'No':0, 'Yes':1, 'Not applicable':0})\n",
    "clin_df['incseizh'] = clin_df.incseizh.map({\"Don't know\":0, 'No':0, 'Yes':1, 'Not applicable':0})\n",
    "clin_df['incpurp'] = clin_df.incpurp.map({\"Don't know\":0, 'No':0, 'Yes':1, 'Not applicable':0})\n",
    "\n",
    "#Malaria diagnositc\n",
    "clin_df['malaria'] = clin_df.malaria.map({'confirmed':2,'probable':1,'no':0})\n",
    "\n",
    "\n",
    "#This coding is going to be important. You'll want to figure out which categories are useful, and which\n",
    "#are practical.\n",
    "clin_df['diag'] = clin_df.diag.map({'malaria':0, 'cereb malaria':0,'virus-malaria':0,\\\n",
    "                                    'virus-bacteria':1, 'bacteremia':1,'bact meningitis':1,\\\n",
    "                                    'virus-other':2,'virus':2,'malaria-bacterial':2,\\\n",
    "                                    'tb':2,'crypto':2, '0.0':3})"
   ]
  },
  {
   "cell_type": "code",
   "execution_count": 72,
   "metadata": {
    "collapsed": true
   },
   "outputs": [],
   "source": [
    "#A lot of these have very few actual answers. i.e., 'headache.' What happens if you map 'nan' to 'No'?\n",
    "#This is probably something we'll want to play around with.\n",
    "values = {'clinjaund':0,'clinhepato':0,'clinaids':0,'clinhemmor':0,'clinorcand':0,\\\n",
    "          'clinresp':0,'clinlymph':0,'clindehyd':0,'clinoedem':0,'clinablung':0,'clincyan':0,'clincapref':0,\n",
    "          'clincoldext':0, 'mhchronstat':0, 'mhdevsp':0,\\\n",
    "         'conv':0,'abdpain':0,'vom':0,'diar':0,'headache':0,'muscle':0}\n",
    "clin_df = clin_df.fillna(value=values)"
   ]
  },
  {
   "cell_type": "code",
   "execution_count": 73,
   "metadata": {
    "collapsed": false
   },
   "outputs": [
    {
     "name": "stdout",
     "output_type": "stream",
     "text": [
      "[0. 1. 2. 3.]\n"
     ]
    }
   ],
   "source": [
    "#You really shouldn't use the initial diagnosis as a continuous variable ,\n",
    "#you need to map it into a set of yes/no question.\n",
    "clin_df['CMalaria'] = clin_df.dimain.map({0:1,1:0,2:0,3:0})\n",
    "clin_df['Enceph'] = clin_df.dimain.map({0:0,1:1,2:0,3:0})\n",
    "clin_df['Mening'] = clin_df.dimain.map({0:0,1:0,2:1,3:0})\n",
    "clin_df['Other'] = clin_df.dimain.map({0:0,1:0,2:0,3:1})\n",
    "\n",
    "print(clin_df.dimain.unique())"
   ]
  },
  {
   "cell_type": "code",
   "execution_count": 74,
   "metadata": {
    "collapsed": true
   },
   "outputs": [],
   "source": [
    "#Pick the features to classify with.\n",
    "Xlabels = ['CMalaria','Enceph','Mening','Other',\\\n",
    "                      'headache','age','temp','date',\\\n",
    "                      'clinjaund','clinhepato','clinaids','clinhemmor','clinorcand',\\\n",
    "                      'clinresp','clinlymph','clindehyd','clinoedem','clinablung','clincyan','clincapref',\\\n",
    "                      'glasgtot', 'dbp', 'sbp','resp','card','weight','height','muac',\\\n",
    "                      'mhhosp','mhchronstat', 'mhdevsp',\\\n",
    "                      'conv','abdpain','vom','diar','muscle','monthday',\\\n",
    "                      'incirrit', 'inchead', 'incphoto',\\\n",
    "                      'incfont', 'incneuro' , 'incseiza', 'incseizh',\\\n",
    "                      'incpurp','malaria'] #This is just for plotting.\n",
    "X_pd = clin_df.loc[:,['CMalaria','Enceph','Mening','Other',\\\n",
    "                      'headache','age','temp','date',\\\n",
    "                      'clinjaund','clinhepato','clinaids','clinhemmor','clinorcand',\\\n",
    "                      'clinresp','clinlymph','clindehyd','clinoedem','clinablung','clincyan','clincapref',\\\n",
    "                      'glasgtot', 'dbp', 'sbp','resp','card','weight','height','muac',\\\n",
    "                      'mhhosp','mhchronstat', 'mhdevsp',\\\n",
    "                      'conv','abdpain','vom','diar','muscle','monthday',\\\n",
    "                       'incirrit', 'inchead', 'incphoto',\\\n",
    "                      'incfont', 'incneuro' , 'incseiza', 'incseizh','incpurp',\\\n",
    "                      'malaria',\n",
    "                      'diag']]\n",
    "X_pd = X_pd.dropna()  #Drop cases that have nan for *any* entry"
   ]
  },
  {
   "cell_type": "code",
   "execution_count": 75,
   "metadata": {
    "collapsed": false
   },
   "outputs": [
    {
     "name": "stdout",
     "output_type": "stream",
     "text": [
      "361\n"
     ]
    }
   ],
   "source": [
    "#Get things into the correct format for scikit-learn. I've tried to use the convention throughout that variables\n",
    "#ending in 'pd' are pandas dataframes.\n",
    "Input = X_pd.as_matrix()        #creates a numpy array\n",
    "Features = Input[:,0:-1].copy() #separate the features and labels\n",
    "Labels = Input[:,-1].copy()\n",
    "ncase = len(Input[:,0])\n",
    "print(ncase)                     #checking that there are a reasonable number of cases left"
   ]
  },
  {
   "cell_type": "code",
   "execution_count": 76,
   "metadata": {
    "collapsed": true
   },
   "outputs": [],
   "source": [
    "X = Features.copy()  #changing to X and y. For no real reason\n",
    "y = Labels.copy()"
   ]
  },
  {
   "cell_type": "code",
   "execution_count": 77,
   "metadata": {
    "collapsed": false
   },
   "outputs": [
    {
     "name": "stdout",
     "output_type": "stream",
     "text": [
      "(361, 46)\n"
     ]
    }
   ],
   "source": [
    "#skl will split the data into training and test for you. Right now, I'm training on 2/3 of the data.\n",
    "X_train, X_test, y_train, y_test = train_test_split(X, y, test_size=0.4, random_state=True)\n",
    "print(np.shape(X))"
   ]
  },
  {
   "cell_type": "code",
   "execution_count": 78,
   "metadata": {
    "collapsed": true
   },
   "outputs": [],
   "source": [
    "#Actual classifier. This is doing n_estimators trees, up to max_depth cuts. Something to play with.\n",
    "forest = ExtraTreesClassifier(n_estimators=20,\n",
    "                              random_state=0,max_depth=50 )\n",
    "\n",
    "#Fit the classifier.\n",
    "forest.fit(X_train, y_train)\n",
    "\n",
    "#extract the 'importances' of the features\n",
    "importances = forest.feature_importances_\n",
    "#calculate standard deviation\n",
    "std = np.std([tree.feature_importances_ for tree in forest.estimators_],\n",
    "             axis=0)\n",
    "indices = np.argsort(importances)[::-1]"
   ]
  },
  {
   "cell_type": "code",
   "execution_count": 79,
   "metadata": {
    "collapsed": false
   },
   "outputs": [
    {
     "name": "stdout",
     "output_type": "stream",
     "text": [
      "Feature ranking:\n",
      "1. feature 45 (0.244796)\n",
      "2. feature 0 (0.065656)\n",
      "3. feature 2 (0.049853)\n",
      "4. feature 20 (0.036376)\n",
      "5. feature 36 (0.033764)\n",
      "6. feature 22 (0.031699)\n",
      "7. feature 5 (0.030750)\n",
      "8. feature 27 (0.030103)\n",
      "9. feature 7 (0.026647)\n",
      "10. feature 6 (0.026394)\n"
     ]
    },
    {
     "data": {
      "image/png": "[encoded data removed]",
      "text/plain": [
       "<matplotlib.figure.Figure at 0x1132032d0>"
      ]
     },
     "metadata": {},
     "output_type": "display_data"
    }
   ],
   "source": [
    "# Print the feature ranking\n",
    "Xlabels = np.array(Xlabels)\n",
    "PlotLabels = Xlabels[indices]\n",
    "print(\"Feature ranking:\")\n",
    "#for full feature listing use this as the range: X.shape[1]\n",
    "for f in range(10):\n",
    "    print(\"%d. feature %d (%f)\" % (f + 1, indices[f], importances[indices[f]]))\n",
    "\n",
    "# Plot the feature importances of the forest\n",
    "plt.figure(figsize=(15,10))\n",
    "plt.title(\"Feature importances\")\n",
    "plt.bar(range(X.shape[1]), importances[indices],\n",
    "       color=\"r\", yerr=std[indices], align=\"center\")\n",
    "plt.xticks(range(X.shape[1]), PlotLabels, rotation='vertical',fontsize=15)\n",
    "plt.xlim([-1, X.shape[1]])\n",
    "plt.ylim(0,0.15)\n",
    "plt.show()"
   ]
  },
  {
   "cell_type": "code",
   "execution_count": 80,
   "metadata": {
    "collapsed": true
   },
   "outputs": [],
   "source": [
    "#Make the predictions on the test data\n",
    "y_pred_prob = forest.predict_proba(X_test)\n",
    "y_pred = forest.predict(X_test)"
   ]
  },
  {
   "cell_type": "code",
   "execution_count": 81,
   "metadata": {
    "collapsed": false
   },
   "outputs": [
    {
     "name": "stdout",
     "output_type": "stream",
     "text": [
      "[[49  0  0  0]\n",
      " [ 0  7  0 15]\n",
      " [ 0  0  0  5]\n",
      " [ 1  9  0 59]]\n",
      "             precision    recall  f1-score   support\n",
      "\n",
      "        0.0       0.98      1.00      0.99        49\n",
      "        1.0       0.44      0.32      0.37        22\n",
      "        2.0       0.00      0.00      0.00         5\n",
      "        3.0       0.75      0.86      0.80        69\n",
      "\n",
      "avg / total       0.75      0.79      0.77       145\n",
      "\n"
     ]
    }
   ],
   "source": [
    "#Print the confusion matrix:\n",
    "print(confusion_matrix(y_test,y_pred))\n",
    "print(classification_report(y_test,y_pred))"
   ]
  },
  {
   "cell_type": "code",
   "execution_count": 82,
   "metadata": {
    "collapsed": true
   },
   "outputs": [],
   "source": [
    "#Because this is a random forest, the output is actually a probability of being in each class. So this is looking\n",
    "#at the maximum probability for each test case - it gives us a sense of how confident the classifier is in each\n",
    "#\n",
    "probmax = np.amax(y_pred_prob,axis=1)\n",
    "edges = np.linspace(0,1,101)"
   ]
  },
  {
   "cell_type": "code",
   "execution_count": 83,
   "metadata": {
    "collapsed": false
   },
   "outputs": [
    {
     "data": {
      "image/png": "[encoded data removed]",
      "text/plain": [
       "<matplotlib.figure.Figure at 0x112066390>"
      ]
     },
     "metadata": {},
     "output_type": "display_data"
    }
   ],
   "source": [
    "a,b,c = plt.hist(probmax,bins=edges)"
   ]
  },
  {
   "cell_type": "code",
   "execution_count": 84,
   "metadata": {
    "collapsed": false
   },
   "outputs": [
    {
     "data": {
      "text/plain": [
       "'\\ndot_data = tree.export_graphviz(clf, out_file=None) \\ngraph = graphviz.Source(dot_data)\\ngraph.render(\"iris\")\\n'"
      ]
     },
     "execution_count": 84,
     "metadata": {},
     "output_type": "execute_result"
    }
   ],
   "source": [
    "'''\n",
    "dot_data = tree.export_graphviz(clf, out_file=None) \n",
    "graph = graphviz.Source(dot_data)\n",
    "graph.render(\"iris\")\n",
    "'''"
   ]
  },
  {
   "cell_type": "code",
   "execution_count": 93,
   "metadata": {
    "collapsed": false
   },
   "outputs": [
    {
     "name": "stdout",
     "output_type": "stream",
     "text": [
      "['malaria' 'CMalaria' 'Mening' 'glasgtot' 'monthday' 'sbp' 'age' 'muac'\n",
      " 'date' 'temp' 'height' 'incirrit' 'card' 'clinhepato' 'dbp' 'weight'\n",
      " 'resp' 'Enceph' 'clinjaund' 'abdpain' 'diag']\n"
     ]
    }
   ],
   "source": [
    "#Feature selection\n",
    "Top20 = PlotLabels[:20]\n",
    "TopPl\n",
    "TopPlus = np.append(Top20,['diag'])\n",
    "print TopPlus"
   ]
  },
  {
   "cell_type": "code",
   "execution_count": 96,
   "metadata": {
    "collapsed": false
   },
   "outputs": [
    {
     "name": "stdout",
     "output_type": "stream",
     "text": [
      "(361, 20)\n",
      "Num Features: 10\n",
      "Selected Features: [ True  True  True  True False False False False False  True False  True\n",
      " False  True False False False  True  True  True]\n",
      "Feature Ranking: [ 1  1  1  1 10  7  4  3 11  1  5  1  6  1  8  2  9  1  1  1]\n",
      "['malaria' 'CMalaria' 'Mening' 'glasgtot' 'temp' 'incirrit' 'clinhepato'\n",
      " 'Enceph' 'clinjaund' 'abdpain' 'diag']\n"
     ]
    }
   ],
   "source": [
    "#Recursive Feature Extraction\n",
    "from sklearn.feature_selection import RFE\n",
    "from sklearn.linear_model import LogisticRegression\n",
    "\n",
    "model = LogisticRegression()\n",
    "rfe = RFE(model, 10)\n",
    "Data = clin_df[TopPlus]\n",
    "Data = Data.dropna()\n",
    "Data = Data.as_matrix()\n",
    "X = Data[:,0:-1]\n",
    "y = Data[:,-1]\n",
    "print np.shape(X)\n",
    "\n",
    "fit = rfe.fit(X, y)\n",
    "\n",
    "print(\"Num Features: %d\") % fit.n_features_\n",
    "print(\"Selected Features: %s\") % fit.support_\n",
    "print(\"Feature Ranking: %s\") % fit.ranking_\n",
    "TopFeatures = Top20[fit.support_].copy()\n",
    "TopFeatures = np.append(TopFeatures,['diag'])\n",
    "print TopFeatures"
   ]
  },
  {
   "cell_type": "code",
   "execution_count": 97,
   "metadata": {
    "collapsed": false
   },
   "outputs": [],
   "source": [
    "TopData = clin_df[TopFeatures]\n",
    "TopData = TopData.dropna()\n",
    "TopData = TopData.as_matrix()"
   ]
  },
  {
   "cell_type": "code",
   "execution_count": 98,
   "metadata": {
    "collapsed": false
   },
   "outputs": [
    {
     "name": "stdout",
     "output_type": "stream",
     "text": [
      "(427, 11)\n"
     ]
    }
   ],
   "source": [
    "print np.shape(TopData)"
   ]
  },
  {
   "cell_type": "code",
   "execution_count": 99,
   "metadata": {
    "collapsed": false
   },
   "outputs": [],
   "source": [
    "X = TopData[:,0:-1]\n",
    "Y = TopData[:,-1]\n",
    "X_train, X_test, y_train, y_test = train_test_split(X, Y, test_size=0.4, random_state=True)\n",
    "#Actual classifier. This is doing n_estimators trees, up to max_depth cuts. Something to play with.\n",
    "forest = ExtraTreesClassifier(n_estimators=20,\n",
    "                              random_state=0,max_depth=50 )\n",
    "\n",
    "#Fit the classifier.\n",
    "forest.fit(X_train, y_train)\n",
    "\n",
    "#extract the 'importances' of the features\n",
    "importances = forest.feature_importances_\n",
    "#calculate standard deviation\n",
    "std = np.std([tree.feature_importances_ for tree in forest.estimators_],\n",
    "             axis=0)\n",
    "indices = np.argsort(importances)[::-1]\n",
    "\n",
    "#Make the predictions on the test data\n",
    "y_pred_prob = forest.predict_proba(X_test)\n",
    "y_pred = forest.predict(X_test)"
   ]
  },
  {
   "cell_type": "code",
   "execution_count": 100,
   "metadata": {
    "collapsed": false
   },
   "outputs": [
    {
     "name": "stdout",
     "output_type": "stream",
     "text": [
      "Feature ranking:\n",
      "1. feature 0 (0.400128)\n",
      "2. feature 4 (0.213564)\n",
      "3. feature 3 (0.131154)\n",
      "4. feature 1 (0.070949)\n",
      "5. feature 6 (0.036493)\n",
      "6. feature 5 (0.035256)\n",
      "7. feature 2 (0.032259)\n",
      "8. feature 9 (0.030731)\n",
      "9. feature 7 (0.025102)\n",
      "10. feature 8 (0.024364)\n"
     ]
    },
    {
     "data": {
      "image/png": "[encoded data removed]",
      "text/plain": [
       "<matplotlib.figure.Figure at 0x1119310d0>"
      ]
     },
     "metadata": {},
     "output_type": "display_data"
    }
   ],
   "source": [
    "# Print the feature ranking\n",
    "Xlabels = np.array(TopFeatures)\n",
    "PlotLabels = Xlabels[indices]\n",
    "print(\"Feature ranking:\")\n",
    "#for full feature listing use this as the range: X.shape[1]\n",
    "for f in range(10):\n",
    "    print(\"%d. feature %d (%f)\" % (f + 1, indices[f], importances[indices[f]]))\n",
    "\n",
    "# Plot the feature importances of the forest\n",
    "plt.figure(figsize=(15,10))\n",
    "plt.title(\"Feature importances\")\n",
    "plt.bar(range(X.shape[1]), importances[indices],\n",
    "       color=\"r\", yerr=std[indices], align=\"center\")\n",
    "plt.xticks(range(X.shape[1]), PlotLabels, rotation='vertical',fontsize=15)\n",
    "plt.xlim([-1, X.shape[1]])\n",
    "plt.ylim(0,0.15)\n",
    "plt.show()"
   ]
  },
  {
   "cell_type": "code",
   "execution_count": 101,
   "metadata": {
    "collapsed": false
   },
   "outputs": [
    {
     "name": "stdout",
     "output_type": "stream",
     "text": [
      "[[57  0  2  2]\n",
      " [ 0  9  0 17]\n",
      " [ 3  0  0  8]\n",
      " [ 0  9  4 60]]\n",
      "             precision    recall  f1-score   support\n",
      "\n",
      "        0.0       0.95      0.93      0.94        61\n",
      "        1.0       0.50      0.35      0.41        26\n",
      "        2.0       0.00      0.00      0.00        11\n",
      "        3.0       0.69      0.82      0.75        73\n",
      "\n",
      "avg / total       0.71      0.74      0.72       171\n",
      "\n"
     ]
    }
   ],
   "source": [
    "#Print the confusion matrix:\n",
    "print(confusion_matrix(y_test,y_pred))\n",
    "print(classification_report(y_test,y_pred))"
   ]
  },
  {
   "cell_type": "code",
   "execution_count": 58,
   "metadata": {
    "collapsed": false
   },
   "outputs": [
    {
     "name": "stdout",
     "output_type": "stream",
     "text": [
      "Explained Variance: [0.98498992 0.00927423 0.00547916]\n",
      "[[-9.69159909e-05  1.25918187e-04 -1.38651270e-05  5.55334739e-04\n",
      "  -9.99823844e-01  1.16732236e-02 -1.42770068e-02  3.44082997e-03\n",
      "  -2.05575437e-05 -2.51667500e-05 -8.50098368e-05 -1.17665988e-05\n",
      "   3.26359076e-05 -1.90488799e-05  3.19377933e-05]\n",
      " [-4.78319074e-03 -2.28414349e-03  5.03288365e-04  1.74149202e-02\n",
      "   1.83650304e-02  4.66063848e-01 -8.77107238e-01  1.13064261e-01\n",
      "   1.53850035e-03  3.28233483e-03 -8.61700000e-04 -1.42432535e-04\n",
      "   9.42991139e-04  3.90127776e-04  8.67650678e-05]\n",
      " [ 6.03986635e-03  3.75932589e-03 -3.82772822e-03 -2.45486964e-02\n",
      "   3.79102531e-03  8.58575808e-01  4.79069377e-01  1.80597606e-01\n",
      "   5.97955071e-04  6.22395252e-03 -1.61100953e-03 -2.62469035e-04\n",
      "  -2.74068643e-04 -7.07889117e-04 -8.73903647e-05]]\n"
     ]
    }
   ],
   "source": [
    "#What about PCA?  nah. this isn't useful.\n",
    "\n",
    "from sklearn.decomposition import PCA\n",
    "pca = PCA(n_components=3)\n",
    "fit = pca.fit(X)\n",
    "# summarize components\n",
    "print(\"Explained Variance: %s\") % fit.explained_variance_ratio_\n",
    "print(fit.components_)"
   ]
  },
  {
   "cell_type": "code",
   "execution_count": null,
   "metadata": {
    "collapsed": true
   },
   "outputs": [],
   "source": []
  }
 ],
 "metadata": {
  "kernelspec": {
   "display_name": "Python 2",
   "language": "python",
   "name": "python2"
  },
  "language_info": {
   "codemirror_mode": {
    "name": "ipython",
    "version": 2
   },
   "file_extension": ".py",
   "mimetype": "text/x-python",
   "name": "python",
   "nbconvert_exporter": "python",
   "pygments_lexer": "ipython2",
   "version": "2.7.12"
  }
 },
 "nbformat": 4,
 "nbformat_minor": 2
}
