{
 "cells": [
  {
   "cell_type": "code",
   "execution_count": 1,
   "metadata": {
    "collapsed": true
   },
   "outputs": [],
   "source": [
    "#Libraries for math and data manipulation\n",
    "import numpy as np\n",
    "import pandas as pd\n",
    "import copy\n",
    "import math\n",
    "import numpy.random as rand\n",
    "import scipy as sp\n",
    "import sys\n",
    "from datetime import datetime\n",
    "from collections import Counter\n",
    "from matplotlib.pyplot import figure\n",
    "\n",
    "#Plotting stuff\n",
    "import matplotlib.pyplot as plt\n",
    "import seaborn\n",
    "import corner\n",
    "%matplotlib inline\n",
    "from matplotlib import rc\n",
    "rc('font',**{'family':'sans-serif','sans-serif':['Helvetica']})\n",
    "rc('text', usetex=True) #Want to be able to use tex in the plot labels\n",
    "seaborn.set_style('ticks')\n",
    "seaborn.set_color_codes()\n",
    "\n",
    "#Machine learning stuff\n",
    "from sklearn import tree\n",
    "from sklearn.tree import DecisionTreeClassifier   #This is a single decision tree\n",
    "from sklearn.ensemble import ExtraTreesClassifier #Random forest of trees\n",
    "from sklearn.linear_model import LogisticRegression #Logistic regression\n",
    "from sklearn.metrics import classification_report, confusion_matrix, precision_recall_fscore_support, precision_score\n",
    "from sklearn.model_selection import train_test_split\n",
    "\n",
    "#Sci-bayes\n",
    "from skbayes.linear_models import EBLogisticRegression,VBLogisticRegression"
   ]
  },
  {
   "cell_type": "code",
   "execution_count": 2,
   "metadata": {
    "collapsed": false
   },
   "outputs": [],
   "source": [
    "def datamap(df,params):\n",
    "    #Adjust some things that are always included and may need to be used:\n",
    "    \n",
    "    #df['dimain'] = df.dimain.map({\"Cerebral Malaria\":0, \"Meningoencephalitis\":1, \"Meningitis\":2.,\\\n",
    "                                       #\"Other\":3})\n",
    "    for label in params:\n",
    "        #Mapping yes/no to 1/0\n",
    "        if label =='date':\n",
    "            df['incdate'] = pd.to_datetime(df['incdate'])\n",
    "            df['date'] = (df['incdate'] - df['incdate'].min())  / np.timedelta64(1,'D')\n",
    "        if label=='age':\n",
    "            df['ageym'] = df.ageyrs.astype(float)*12.\n",
    "            df['agemth'] = df.agemth.astype(float)\n",
    "            df['age'] = df.ageym + df.agemth #total age in months\n",
    "            #Mapping yes/no to 1/0\n",
    "        if label=='clinjaund':\n",
    "            df[label] = df.clinjaund.map({'Yes': 1, 'No': 0})\n",
    "        if label=='clinhepato':\n",
    "            df[label] = df.clinhepato.map({'Yes': 1, 'No': 0})\n",
    "        if label=='clinspleno':\n",
    "            df[label] = df.clinspleno.map({'Yes': 1, 'No': 0})\n",
    "        if label=='clinconv':\n",
    "            df['clinconv'] = df.clinconv.map({'Yes': 1, 'No': 0})\n",
    "        if label=='clindehyd':\n",
    "            df['clindehyd'] = df.clindehyd.map({'Yes': 1, 'No': 0})\n",
    "        if label=='clinoedem':\n",
    "            df['clinoedem'] = df.clinoedem.map({'Yes': 1, 'No': 0})\n",
    "        if label=='clinlymph':\n",
    "            df['clinlymph'] = df.clinlymph.map({'Yes': 1, 'No': 0})\n",
    "        if label=='clinresp':\n",
    "            df['clinresp'] = df.clinresp.map({'Yes': 1, 'No': 0})\n",
    "        if label=='clinablung':    \n",
    "            df['clinablung'] = df.clinablung.map({'Yes': 1, 'No': 0})\n",
    "        if label=='clincyan':\n",
    "            df['clincyan'] = df.clincyan.map({'Yes': 1, 'No': 0})\n",
    "        if label=='clincapref':\n",
    "            df['clincapref'] = df.clincapref.map({'Yes': 1, 'No': 0})\n",
    "        if label=='clincoldext':\n",
    "            df['clincoldext'] = df.clincoldext.map({'Yes': 1, 'No': 0})\n",
    "        if label=='clinorcand':\n",
    "            df['clinorcand'] = df.clinorcand.map({'Yes': 1, 'No': 0})\n",
    "        if label=='clinhemmor':\n",
    "            df['clinhemmor'] = df.clinhemmor.map({'Yes': 1, 'No': 0})\n",
    "        if label=='clinaids':\n",
    "            df['clinaids'] = df.clinaids.map({'Yes': 1, 'No': 0})\n",
    "        if label=='vom':\n",
    "            df['vom'] = df.vom.map({'Yes': 1, 'No': 0})\n",
    "        if label=='diar':\n",
    "            df['diar'] = df.diar.map({'Yes': 1, 'No': 0})\n",
    "        if label=='headache':\n",
    "            df['headache'] = df['head'] #Since 'head' is a function\n",
    "            df['headache'] = df.headache.map({\"Don't know\":0, 'No':0, 'Yes':1, 'Not applicable':0})\n",
    "        if label=='conv':\n",
    "            df['conv'] = df.conv.map({'Yes': 1, 'No': 0})\n",
    "        if label=='age':\n",
    "            df['ageym'] = df.ageyrs.astype(float)*12.\n",
    "            df['agemth'] = df.agemth.astype(float)\n",
    "            df['age'] = df.ageym + df.agemth #total age in months\n",
    "\n",
    "        #Medical history variables\n",
    "        if label=='mhhosp':\n",
    "            df['mhhosp'] = df.mhhosp.map({'Yes': 1, 'No':0})\n",
    "\n",
    "        #some slightly more compliated mappings\n",
    "        if label=='abdpain':\n",
    "            df['abdpain'] = df.abdpain.map({\"Don't know\":0, 'No':0, 'Yes':1, 'Not applicable':np.nan})\n",
    "        if label=='muscle':\n",
    "            df['muscle'] = df.muscle.map({\"Don't know\":0, 'No':0, 'Yes':1, 'Not applicable':np.nan})\n",
    "        if label=='mhdevsp':\n",
    "            df['mhdevsp'] = df.mhdevsp.map({'OTHER':1, 'GLOBAL DEVELOPMENTAL DELAY':1, 'HYDROCEPHALUS':1,\n",
    "                   'HEARING LOSSES':1, 'MOTOR DEVELOPEMENTAL DELAY':1,\n",
    "                   'SPEECH DEVELOPEMENTAL DELAY':1})\n",
    "        #malaria rapid disagnositc\n",
    "        if label=='malaria':\n",
    "            df['malaria'] = df.malaria.map({'confirmed':2, 'no':0, 'probable':1})\n",
    "            \n",
    "        #outcome\n",
    "        if label=='d3evol':\n",
    "            df['d3evol'] = df.d3evol.map({'Gradual worsening':-1, 'Unchanged':0, 'Improved':1,\\\n",
    "                                          'Improved & worsened':-1})\n",
    "\n",
    "        #Initial diagnosis coding: (either 'diagnosed - 0', or 'undiagnosed - 1')\n",
    "        if label=='CMalaria':\n",
    "            df['CMalaria'] = df.dimain.map({0:1,1:0,2:0,3:0})\n",
    "        if label=='Enceph':\n",
    "            df['Enceph'] = df.dimain.map({0:0,1:1,2:0,3:0})\n",
    "        if label=='Mening':\n",
    "            df['Mening'] = df.dimain.map({0:0,1:0,2:1,3:0})\n",
    "        if label=='Other':\n",
    "            df['Other'] = df.dimain.map({0:0,1:0,2:0,3:1})\n",
    "\n",
    "\n",
    "        #This coding is going to be important. You'll want to figure out which categories are useful, and which\n",
    "        #are practical.\n",
    "        if label=='diag':\n",
    "            df['diag'] = df.diag.map({'malaria':0, 'cereb malaria':0,'virus-malaria':0,\\\n",
    "                                                'virus-bacteria':0, 'bacteremia':0,'bact meningitis':0,\\\n",
    "                                                'virus-other':0,'virus':0,'malaria-bacterial':0,\\\n",
    "                                                'tb':0,'crypto':0, '0.0':1})"
   ]
  },
  {
   "cell_type": "code",
   "execution_count": 3,
   "metadata": {
    "collapsed": false
   },
   "outputs": [],
   "source": [
    "#Read in the datafile - don't mess with it.\n",
    "data_raw = pd.read_csv(\"../Data/cns_data.csv\")   #Using Pandas for data manipulation\n",
    "data_df = data_raw.drop(['surnamenam','patinit','patientreg','mothinit'],axis=1)\n",
    "\n",
    "#Split up 'incdate' into month, day, and year. Monthday is meant to capture seasonality.\n",
    "data_df['month'] = pd.DatetimeIndex(data_df['incdate']).month\n",
    "data_df['day'] = pd.DatetimeIndex(data_df['incdate']).day\n",
    "data_df['year'] = pd.DatetimeIndex(data_df['incdate']).year\n",
    "data_df['monthday'] = data_df['month']*30+data_df['day']"
   ]
  },
  {
   "cell_type": "code",
   "execution_count": 4,
   "metadata": {
    "collapsed": false
   },
   "outputs": [
    {
     "name": "stdout",
     "output_type": "stream",
     "text": [
      "(480, 979)\n"
     ]
    }
   ],
   "source": [
    "#The set of inputs to map:\n",
    "pmap = ['glasgtot','clinjaund','clinhepato','clinspleno','clinconv','clindehyd',\\\n",
    "                          'clinoedem','clinlymph','clinresp','clinablung','clincyan','clincapref','clincoldext',\\\n",
    "                         'clinorcand','clinhemmor','clinaids',\\\n",
    "                         'abdpain','vom','diar','headache','muscle','conv',\\\n",
    "                         'age','date',\\\n",
    "                         'temp','card','resp','sbp','dbp','weight','height',\\\n",
    "                         'malaria',\n",
    "                         'mhhosp',\\\n",
    "                'd3evol',\\\n",
    "               'diag']\n",
    "datamap(data_df,pmap);\n",
    "print np.shape(data_df)"
   ]
  },
  {
   "cell_type": "code",
   "execution_count": 5,
   "metadata": {
    "collapsed": false
   },
   "outputs": [
    {
     "name": "stdout",
     "output_type": "stream",
     "text": [
      "number of diagnoses: 2\n"
     ]
    }
   ],
   "source": [
    "#Select the diagnosis data only, then go through and calculate the proportion of the previous N patients\n",
    "#that ended up with each diagnosis.\n",
    "diag_data = data_df.diag.values\n",
    "Ntot = len(diag_data)            #Total number of patients\n",
    "Ndiag = len(data_df.diag.unique())  #Total number of categories\n",
    "print 'number of diagnoses:',Ndiag\n",
    "\n",
    "#print diag_data\n",
    "\n",
    "N = 1                            #Number of patients to use to calculate probabilities\n",
    "pdiagnosis = []                  #List to keep track of diagnoses - will be (Ntot - N) x 5\n",
    "count = np.zeros(Ndiag)\n",
    "for i in range(Ntot-N):\n",
    "    prev_pat = diag_data[i:N+i]\n",
    "    for j in range(Ndiag):\n",
    "        count[j] = float(Counter(prev_pat)[j])/N\n",
    "    pdiagnosis.append(count.copy())\n",
    "    \n",
    "prediction = []\n",
    "for i in range(N,Ntot):\n",
    "    guess = np.random.multinomial(1,pdiagnosis[i-N])\n",
    "    hold = np.where(guess==1)[0]\n",
    "    prediction.append([hold[0],diag_data[i]])\n",
    "\n",
    "#Now, add this as a feature for classification.\n",
    "data_subset = data_df[N:].copy()\n",
    "pdiagnosis = np.array(pdiagnosis)\n",
    "\n",
    "data_subset['pdiag'] = pdiagnosis[:,0]\n",
    "data_subset['pnone'] = pdiagnosis[:,1]"
   ]
  },
  {
   "cell_type": "code",
   "execution_count": 6,
   "metadata": {
    "collapsed": false
   },
   "outputs": [],
   "source": [
    "def trainVBLR(features,data,vblr,depth=0):\n",
    "    features = np.array(features)\n",
    "    Npar = len(features) - 2 #dimain and diag are always included in the list, but aren't model params\n",
    "    XY_df = data.loc[:,features].dropna().copy()\n",
    "    print np.shape(XY_df)\n",
    "    \n",
    "    Input = XY_df.values\n",
    "    X = Input[:,0:-2].copy()\n",
    "    Y = Input[:,-1].copy()\n",
    "    Y = Y.astype(float)\n",
    "    \n",
    "    print 'Number of patients in data set:', len(Y)\n",
    "    print 'Number of features:', len(features)-2\n",
    "    print 'Fitting model ...'\n",
    "        \n",
    "    vblr.__init__()\n",
    "    vblr.fit(X,Y)    \n",
    "    if depth<=1:  #If you're only fitting once\n",
    "        return Input, features\n",
    "        print 'model complete!'\n",
    "    \n",
    "    if depth>1:        #go through 'depth' number of times and drop all coefficients consistent with zero.\n",
    "        depth -= 1\n",
    "        covar_mat = copy.copy(vblr.sigma_)\n",
    "        covar_mat = np.array(covar_mat)\n",
    "        covar_mat = covar_mat.reshape([Npar+1,Npar+1])\n",
    "        post_peaks = np.zeros([Npar])\n",
    "        sigmas = np.zeros([Npar])\n",
    "        for i in range(Npar):\n",
    "            cval = vblr.coef_[0][i]\n",
    "            post_peaks[i] = cval\n",
    "            sigmas[i] = np.sqrt(covar_mat[i+1,i+1])\n",
    "\n",
    "            post_peaks = np.array(post_peaks)  \n",
    "            sigmas = np.array(sigmas)\n",
    "\n",
    "            #Which are consistent (within 1 sigma) with zero?\n",
    "            post_plus = post_peaks + 0.75*sigmas\n",
    "            post_minus = post_peaks - 0.75*sigmas\n",
    "\n",
    "            splus = np.sign(post_plus)\n",
    "            sminus = np.sign(post_minus)\n",
    "\n",
    "        keep = splus==sminus\n",
    "        extra = [True,True]\n",
    "        keep = np.concatenate([keep,extra])\n",
    "        features = features[keep]\n",
    "        print 'Non-zero Coefficients:',len(features)-2\n",
    "        return trainVBLR(features,data,vblr,depth)\n",
    "        depth = 0\n",
    "\n",
    "                \n",
    "                \n",
    "                \n",
    "            "
   ]
  },
  {
   "cell_type": "code",
   "execution_count": 7,
   "metadata": {
    "collapsed": false
   },
   "outputs": [
    {
     "name": "stdout",
     "output_type": "stream",
     "text": [
      "(479, 981)\n",
      "(259, 35)\n",
      "Number of patients in data set: 259\n",
      "Number of features: 33\n",
      "Fitting model ...\n",
      "nf 33 nsig 34\n",
      "Non-zero Coefficients: 16\n",
      "(362, 18)\n",
      "Number of patients in data set: 362\n",
      "Number of features: 16\n",
      "Fitting model ...\n",
      "nf 16 nsig 17\n",
      "Non-zero Coefficients: 15\n",
      "(469, 17)\n",
      "Number of patients in data set: 469\n",
      "Number of features: 15\n",
      "Fitting model ...\n",
      "nf 15 nsig 16\n",
      "Non-zero Coefficients: 14\n",
      "(477, 16)\n",
      "Number of patients in data set: 477\n",
      "Number of features: 14\n",
      "Fitting model ...\n",
      "nf 14 nsig 15\n",
      "Non-zero Coefficients: 12\n",
      "(479, 14)\n",
      "Number of patients in data set: 479\n",
      "Number of features: 12\n",
      "Fitting model ...\n",
      "nf 12 nsig 13\n",
      "Non-zero Coefficients: 12\n",
      "(479, 14)\n",
      "Number of patients in data set: 479\n",
      "Number of features: 12\n",
      "Fitting model ...\n",
      "nf 12 nsig 13\n"
     ]
    }
   ],
   "source": [
    "feature_list = ['glasgtot','clinjaund','clinhepato','clinspleno','clinconv','clindehyd',\\\n",
    "                          'clinoedem','clinlymph','clinresp','clinablung','clincyan','clincapref','clincoldext',\\\n",
    "                         'clinorcand','clinhemmor','clinaids',\\\n",
    "                         'abdpain','vom','diar','headache','muscle','conv',\\\n",
    "                         'age','date',\\\n",
    "                         'temp','card','resp','sbp','dbp','weight','height',\\\n",
    "                          'mhhosp', \\\n",
    "                          'malaria',\\\n",
    "               'dimain','diag']\n",
    "vblr = VBLogisticRegression()\n",
    "print np.shape(data_subset)\n",
    "DataTrained, feat_kept = (trainVBLR(feature_list,data_subset,vblr,depth=6))"
   ]
  },
  {
   "cell_type": "code",
   "execution_count": 8,
   "metadata": {
    "collapsed": false
   },
   "outputs": [
    {
     "name": "stdout",
     "output_type": "stream",
     "text": [
      "12\n"
     ]
    }
   ],
   "source": [
    "#The covariance matrix for the coefficients plus the intercept\n",
    "Npar = 12\n",
    "covar_mat = copy.copy(vblr.sigma_)\n",
    "covar_mat = np.array(covar_mat)\n",
    "covar_mat = covar_mat.reshape([Npar+1,Npar+1])\n",
    "\n",
    "#The values of the coefficients and the intercept\n",
    "post_peaks = np.zeros([Npar])\n",
    "sigmas = np.zeros([Npar])\n",
    "post_peaks[0] = copy.copy(vblr.intercept_[0])\n",
    "sigmas[0] = np.sqrt(covar_mat[0,0])\n",
    "for i in range(Npar):\n",
    "    cval = vblr.coef_[0][i]\n",
    "    post_peaks[i] = cval\n",
    "    sigmas[i] = np.sqrt(covar_mat[i+1,i+1])\n",
    "    \n",
    "post_peaks = np.array(post_peaks)  #You could keep track of the intercept but why?\n",
    "sigmas = np.array(sigmas)\n",
    "print len(post_peaks)"
   ]
  },
  {
   "cell_type": "code",
   "execution_count": 9,
   "metadata": {
    "collapsed": false
   },
   "outputs": [
    {
     "name": "stdout",
     "output_type": "stream",
     "text": [
      "['clinconv' 'clinoedem' 'clinlymph' 'clinablung' 'clincapref' 'headache'\n",
      " 'age' 'date' 'temp' 'weight' 'mhhosp' 'malaria' 'dimain' 'diag']\n"
     ]
    }
   ],
   "source": [
    "print feat_kept"
   ]
  },
  {
   "cell_type": "code",
   "execution_count": 10,
   "metadata": {
    "collapsed": false
   },
   "outputs": [],
   "source": [
    "#Just putting together a vector to help with plotting the weights\n",
    "xplot = np.linspace(0,Npar-1,Npar)"
   ]
  },
  {
   "cell_type": "code",
   "execution_count": 11,
   "metadata": {
    "collapsed": false
   },
   "outputs": [
    {
     "data": {
      "image/png": "[encoded data removed]",
      "text/plain": [
       "<Figure size 864x576 with 1 Axes>"
      ]
     },
     "metadata": {},
     "output_type": "display_data"
    }
   ],
   "source": [
    "figure(figsize=(12,8))\n",
    "plt.errorbar(xplot,post_peaks,yerr=sigmas,fmt='o')\n",
    "#plt.ylim(-0.01,0.01)\n",
    "#plt.xlim(20.5,32.5)\n",
    "plt.plot(xplot,np.zeros(len(xplot)),'r--')\n",
    "plt.savefig(\"BayesReg_posteriors.png\")"
   ]
  },
  {
   "cell_type": "code",
   "execution_count": 12,
   "metadata": {
    "collapsed": false
   },
   "outputs": [],
   "source": [
    "#Get the Dr's Diagnoses for these same patients. Then compare this diagnosis to the classifier.\n",
    "diag_MD = DataTrained[:,-2].copy()\n",
    "i = 0\n",
    "for d in diag_MD:\n",
    "    if d == 'Other':\n",
    "        diag_MD[i] = 1.\n",
    "    else:\n",
    "        diag_MD[i] = 0.\n",
    "    i += 1"
   ]
  },
  {
   "cell_type": "code",
   "execution_count": 13,
   "metadata": {
    "collapsed": false
   },
   "outputs": [
    {
     "name": "stdout",
     "output_type": "stream",
     "text": [
      "[244.  16.   4. 215.]\n"
     ]
    }
   ],
   "source": [
    "#4 categories: true 0, doc 0, true 0, doc 1, true 1, doc 1, true 1 doc 0\n",
    "Y = DataTrained[:,-1].copy()\n",
    "Npatient = len(Y)\n",
    "doc_cat = np.zeros([4])\n",
    "\n",
    "for i in range(Npatient):\n",
    "    T = Y[i]\n",
    "    MD = diag_MD[i]\n",
    "    if T==0. and MD==0.:\n",
    "        doc_cat[0] += 1\n",
    "    if T==0. and MD==1.:\n",
    "        doc_cat[1] += 1\n",
    "    if T==1. and MD==1.:\n",
    "        doc_cat[2] += 1\n",
    "    if T==1. and MD==0.:\n",
    "        doc_cat[3] += 1\n",
    "print doc_cat"
   ]
  },
  {
   "cell_type": "code",
   "execution_count": 14,
   "metadata": {
    "collapsed": false
   },
   "outputs": [
    {
     "name": "stdout",
     "output_type": "stream",
     "text": [
      "479\n"
     ]
    }
   ],
   "source": [
    "#The doctors are BAD at finding the undiagnosable patients\n",
    "X = DataTrained[:,:-2].copy()\n",
    "y_pred = vblr.predict(X)\n",
    "print len(y_pred)"
   ]
  },
  {
   "cell_type": "code",
   "execution_count": 15,
   "metadata": {
    "collapsed": false
   },
   "outputs": [],
   "source": [
    "Npatient = len(Y)\n",
    "reg_cat = np.zeros([4])\n",
    "\n",
    "for i in range(Npatient):\n",
    "    T = Y[i]\n",
    "    MD = y_pred[i]\n",
    "    #print T, MD\n",
    "    if T==0. and MD==0.:\n",
    "        reg_cat[0] += 1\n",
    "    if T==0. and MD==1.:\n",
    "        reg_cat[1] += 1\n",
    "    if T==1. and MD==1.:\n",
    "        reg_cat[2] += 1\n",
    "    if T==1. and MD==0.:\n",
    "        reg_cat[3] += 1"
   ]
  },
  {
   "cell_type": "code",
   "execution_count": 16,
   "metadata": {
    "collapsed": false
   },
   "outputs": [
    {
     "name": "stdout",
     "output_type": "stream",
     "text": [
      "[244.  16.   4. 215.]\n",
      "[183.  77. 213.   6.]\n",
      "check sum: 479.0 479.0\n"
     ]
    }
   ],
   "source": [
    "print doc_cat\n",
    "print reg_cat\n",
    "\n",
    "print 'check sum:', np.sum(doc_cat), np.sum(reg_cat)"
   ]
  },
  {
   "cell_type": "code",
   "execution_count": 51,
   "metadata": {
    "collapsed": false
   },
   "outputs": [
    {
     "name": "stdout",
     "output_type": "stream",
     "text": [
      "[396. 248. 479.]\n",
      "(3,) (3,) (3,) (3,)\n"
     ]
    }
   ],
   "source": [
    "TZero = len(Y) - sum(Y)\n",
    "TOne = sum(Y)\n",
    "\n",
    "N = 3\n",
    "ind = np.arange(N)\n",
    "ZeroZero = np.array([reg_cat[0],doc_cat[0],TZero]) #Goes in order of MD, classifier, truth\n",
    "ZeroOne = np.array([reg_cat[1],doc_cat[1],0.])\n",
    "OneOne = np.array([reg_cat[2],doc_cat[2],TOne])\n",
    "OneZero = np.array([reg_cat[3],doc_cat[3],0.])\n",
    "width = 0.5\n",
    "\n",
    "print ZeroZero+OneOne\n",
    "#Splitting stuff up for plots for talk\n",
    "ZeroZero = ZeroZero[:]\n",
    "ZeroOne = ZeroOne[:]\n",
    "OneOne = OneOne[:]\n",
    "OneZero = OneZero[:]\n",
    "\n",
    "print np.shape(ZeroZero), np.shape(ZeroOne), np.shape(OneOne), np.shape(OneZero)"
   ]
  },
  {
   "cell_type": "code",
   "execution_count": 18,
   "metadata": {
    "collapsed": false
   },
   "outputs": [
    {
     "data": {
      "image/png": "[encoded data removed]",
      "text/plain": [
       "<Figure size 576x432 with 1 Axes>"
      ]
     },
     "metadata": {},
     "output_type": "display_data"
    }
   ],
   "source": [
    "figure(figsize=(8,6))\n",
    "p1 = plt.bar(ind,ZeroZero,width,color='b')\n",
    "p2 = plt.bar(ind,ZeroOne,width,bottom=ZeroZero,color='b',edgecolor='r',hatch='//')\n",
    "p3 = plt.bar(ind,OneOne,width,bottom=(ZeroOne+ZeroZero),color='r')\n",
    "p4 = plt.bar(ind,OneZero,width,bottom=OneOne+ZeroOne+ZeroZero,color='r',edgecolor='b',hatch='//')\n",
    "\n",
    "plt.savefig('allmodelsinitial_diag.png',dpi=400)"
   ]
  },
  {
   "cell_type": "code",
   "execution_count": 19,
   "metadata": {
    "collapsed": true
   },
   "outputs": [],
   "source": [
    "#clinical signs at 3 days - do the patients that are diagnosable have better outcomes than the 'Other' category? (d3evol)\n",
    "#discharge and treatments received: did they get antibiotics, antivirals, antimalarials?\n",
    "#did the treatments have any correlation with the outcome? In diagnosed/un-diagnosed kids\n",
    "#csf - lumbar puncture\n",
    "#bf - before admission\n",
    "#at - at admission\n",
    "#after tt, there are a bunch of drugs listed. tt is the drugs they received during treatment.\n",
    "#atb: antibacterials\n",
    "#atv: antiviral. etc.\n",
    "#ttatb: antibiotic (in hospital, after lumbar puncture)\n",
    "#ttvir: antivirals\n",
    "#ttmal: antimalarials\n",
    "#data_raw.d3evol: outcome"
   ]
  },
  {
   "cell_type": "code",
   "execution_count": 20,
   "metadata": {
    "collapsed": true
   },
   "outputs": [],
   "source": [
    "#First of all, is there a difference in outcome between diagnosed/undiagnosed?\n"
   ]
  },
  {
   "cell_type": "code",
   "execution_count": 21,
   "metadata": {
    "collapsed": false
   },
   "outputs": [],
   "source": [
    "Diagnosis = data_df.diag.values.copy()\n",
    "Outcome = data_df.d3evol.values.copy()\n",
    "\n",
    "Cats = np.zeros(4)  #no diag - improved, no diag - worsen, diag - improved, diag - worsen\n",
    "for i in range(len(Diagnosis)):\n",
    "    D = Diagnosis[i]\n",
    "    O = Outcome[i]\n",
    "    if D==1:\n",
    "        if O==1. or O==0.:\n",
    "            Cats[0] += 1.\n",
    "        if O==-1.:\n",
    "            Cats[1] += 1.\n",
    "    if D==0:\n",
    "        if O==1. or O==0.:\n",
    "            Cats[2] += 1.\n",
    "        if O==-1.:\n",
    "            Cats[3] += 1.\n",
    "CatsNormed = Cats.copy()\n",
    "CatsNormed[0] /= Cats[0]+Cats[1]\n",
    "CatsNormed[1] /= Cats[0]+Cats[1]\n",
    "CatsNormed[2] /= Cats[2]+Cats[3]\n",
    "CatsNormed[3] /= Cats[2]+Cats[3]"
   ]
  },
  {
   "cell_type": "code",
   "execution_count": 22,
   "metadata": {
    "collapsed": false
   },
   "outputs": [
    {
     "data": {
      "text/plain": [
       "<BarContainer object of 4 artists>"
      ]
     },
     "execution_count": 22,
     "metadata": {},
     "output_type": "execute_result"
    },
    {
     "data": {
      "image/png": "[encoded data removed]",
      "text/plain": [
       "<Figure size 432x288 with 1 Axes>"
      ]
     },
     "metadata": {},
     "output_type": "display_data"
    }
   ],
   "source": [
    "plt.bar([0,1,2,3],CatsNormed)"
   ]
  },
  {
   "cell_type": "code",
   "execution_count": 23,
   "metadata": {
    "collapsed": true
   },
   "outputs": [],
   "source": [
    "#Does the computer predict the *treatment* well? (antibac, antimal, both, none)\n",
    "#Can the computer predict, given the doctor's diagnosis vs. the computer's diagnosis, the outcome?\n",
    "\n",
    "#Clinical signs + treatment -> predict clinical signs at d3evol? (first you can just look at 'improving vs. not \n",
    "#improving' in re: the categories above)"
   ]
  },
  {
   "cell_type": "code",
   "execution_count": 24,
   "metadata": {
    "collapsed": true
   },
   "outputs": [],
   "source": [
    "#Now you want to make the bar chart showing initial treatment and final treatment, and the initially missed treatments.\n",
    "#These numbers all exist already in your notebook - in that grid. \n",
    "#Now the categories are 'need atm,' 'need atb,' and 'need both' (replace with 'got')\n",
    "#Needed antibiotics: 51\n",
    "#Needed antimalarials: 20\n",
    "#Needed both: 109 \n",
    "\n",
    "TrueTreat = [51,20,109,0]   #atb,atm,both,none (180 total patients)\n",
    "IntakeTreat = [28,31,58,63]\n",
    "MLTreat = [51,32,97,0]\n"
   ]
  },
  {
   "cell_type": "code",
   "execution_count": 49,
   "metadata": {
    "collapsed": false
   },
   "outputs": [
    {
     "data": {
      "image/png": "[encoded data removed]",
      "text/plain": [
       "<Figure size 576x864 with 1 Axes>"
      ]
     },
     "metadata": {},
     "output_type": "display_data"
    }
   ],
   "source": [
    "figure(figsize=(8,12))\n",
    "#Actual treatment needed\n",
    "p1 = plt.bar(0,TrueTreat[0],width,color='teal')\n",
    "p2 = plt.bar(0,TrueTreat[1],width,bottom=TrueTreat[0],color='goldenrod')\n",
    "p3 = plt.bar(0,TrueTreat[2],width,bottom=TrueTreat[0]+TrueTreat[1],color='rebeccapurple')\n",
    "p4 = plt.bar(0,TrueTreat[3],width,bottom=TrueTreat[0]+TrueTreat[1]+TrueTreat[2],color='firebrick')\n",
    "\n",
    "#Who got 'none'?\n",
    "#p = plt.bar(0,28,width,color='teal',edgecolor='white',hatch='x') #need atb\n",
    "#p = plt.bar(0,9,width,color='goldenrod',bottom = TrueTreat[0],edgecolor='white',hatch='x') #need atm\n",
    "#p = plt.bar(0,26,width,color='rebeccapurple',bottom=TrueTreat[0]+TrueTreat[1],edgecolor='white',hatch='x') #need both\n",
    "\n",
    "#Who got antimalarials?\n",
    "#p = plt.bar(0,20,width,color='rebeccapurple',edgecolor='white',hatch='x',\\\n",
    " #           bottom=TrueTreat[0]+TrueTreat[1]) #need both\n",
    "#p = plt.bar(0,0,width,color='teal',edgecolor='white',hatch='x') #need atb\n",
    "#p = plt.bar(0,12,width,color='goldenrod',edgecolor='white',hatch='*',bottom=51) #need atm\n",
    "\n",
    "#Who got antibiotics?\n",
    "#p = plt.bar(0,0,width,color='goldenrod',edgecolor='white',hatch='x',bottom=51) #need atm\n",
    "#p = plt.bar(0,16,width,color='rebeccapurple',edgecolor='white',hatch='x',\n",
    "#            bottom=TrueTreat[0]+TrueTreat[1]) #need both\n",
    "#p = plt.bar(0,35,width,color='teal',edgecolor='white',hatch='*') #need atb\n",
    "\n",
    "#Who got both?\n",
    "p = plt.bar(0,16,width,color='teal',edgecolor='white',hatch='x') #need atb\n",
    "p = plt.bar(0,8,width,color='goldenrod',edgecolor='white',hatch='x',bottom=51) #need atm\n",
    "p = plt.bar(0,73,width,color='rebeccapurple',edgecolor='white',hatch='*',bottom=71) #need both\n",
    "\n",
    "plt.savefig('classifier_both.png')\n",
    "\n",
    "#Grid Values (intake treatment)\n",
    "#       atb atm both none\n",
    "# atb   21. 1.  1.   28.\n",
    "# atm   0.  11. 0.   9.\n",
    "# both  7.  19. 57.  26. \n",
    "# none  0.  0.  0.   0.\n",
    "\n",
    "#Machine classifier\n",
    "#       atb atm both none\n",
    "# atb   35. 0.  16.  0.\n",
    "# atm   0.  12. 8.   0.\n",
    "# both  16. 20. 73.  0.\n",
    "# none  0.  0.  0.   0."
   ]
  },
  {
   "cell_type": "code",
   "execution_count": null,
   "metadata": {
    "collapsed": true
   },
   "outputs": [],
   "source": []
  }
 ],
 "metadata": {
  "kernelspec": {
   "display_name": "Python 2",
   "language": "python",
   "name": "python2"
  },
  "language_info": {
   "codemirror_mode": {
    "name": "ipython",
    "version": 2
   },
   "file_extension": ".py",
   "mimetype": "text/x-python",
   "name": "python",
   "nbconvert_exporter": "python",
   "pygments_lexer": "ipython2",
   "version": "2.7.12"
  }
 },
 "nbformat": 4,
 "nbformat_minor": 2
}
