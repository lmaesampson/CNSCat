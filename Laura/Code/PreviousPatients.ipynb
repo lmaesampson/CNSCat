{
 "cells": [
  {
   "cell_type": "code",
   "execution_count": 53,
   "metadata": {
    "collapsed": false
   },
   "outputs": [],
   "source": [
    "#Libraries for math and data manipulation\n",
    "import numpy as np\n",
    "import pandas as pd\n",
    "import copy\n",
    "import math\n",
    "import numpy.random as rand\n",
    "import scipy as sp\n",
    "import sys\n",
    "from datetime import datetime\n",
    "from collections import Counter\n",
    "\n",
    "#Plotting stuff\n",
    "import matplotlib.pyplot as plt\n",
    "import seaborn\n",
    "import corner\n",
    "%matplotlib inline\n",
    "from matplotlib import rc\n",
    "rc('font',**{'family':'sans-serif','sans-serif':['Helvetica']})\n",
    "rc('text', usetex=True) #Want to be able to use tex in the plot labels\n",
    "seaborn.set_style('ticks')\n",
    "seaborn.set_color_codes()\n",
    "\n",
    "#Machine learning stuff\n",
    "from sklearn import tree\n",
    "from sklearn.tree import DecisionTreeClassifier   #This is a single decision tree\n",
    "from sklearn.ensemble import ExtraTreesClassifier #Random forest of trees\n",
    "from sklearn.metrics import classification_report, confusion_matrix, precision_recall_fscore_support, precision_score\n",
    "from sklearn.model_selection import train_test_split"
   ]
  },
  {
   "cell_type": "code",
   "execution_count": 266,
   "metadata": {
    "collapsed": false
   },
   "outputs": [],
   "source": [
    "def datamap(df,params):\n",
    "    #Adjust some things that are always included and may need to be used:\n",
    "    df['dimain'] = df.dimain.map({\"Cerebral Malaria\":0, \"Meningoencephalitis\":1, \"Meningitis\":2.,\\\n",
    "                                       \"Other\":3})\n",
    "    for label in params:\n",
    "        #Mapping yes/no to 1/0\n",
    "        if label =='date':\n",
    "            df['incdate'] = pd.to_datetime(df['incdate'])\n",
    "            df['date'] = (df['incdate'] - df['incdate'].min())  / np.timedelta64(1,'D')\n",
    "        if label=='age':\n",
    "            df['ageym'] = df.ageyrs.astype(float)*12.\n",
    "            df['agemth'] = df.agemth.astype(float)\n",
    "            df['age'] = df.ageym + df.agemth #total age in months\n",
    "            #Mapping yes/no to 1/0\n",
    "        if label=='clinjaund':\n",
    "            df[label] = df.clinjaund.map({'Yes': 1, 'No': 0})\n",
    "        if label=='clinhepato':\n",
    "            df[label] = df.clinhepato.map({'Yes': 1, 'No': 0})\n",
    "        if label=='clinspleno':\n",
    "            df[label] = df.clinspleno.map({'Yes': 1, 'No': 0})\n",
    "        if label=='clinconv':\n",
    "            df['clinconv'] = df.clinconv.map({'Yes': 1, 'No': 0})\n",
    "        if label=='clindehyd':\n",
    "            df['clindehyd'] = df.clindehyd.map({'Yes': 1, 'No': 0})\n",
    "        if label=='clinnoedem':\n",
    "            df['clinoedem'] = df.clinoedem.map({'Yes': 1, 'No': 0})\n",
    "        if label=='clinlymph':\n",
    "            df['clinlymph'] = df.clinlymph.map({'Yes': 1, 'No': 0})\n",
    "        if label=='clinresp':\n",
    "            df['clinresp'] = df.clinresp.map({'Yes': 1, 'No': 0})\n",
    "        if label=='clinablung':    \n",
    "            df['clinablung'] = df.clinablung.map({'Yes': 1, 'No': 0})\n",
    "        if label=='clincyan':\n",
    "            df['clincyan'] = df.clincyan.map({'Yes': 1, 'No': 0})\n",
    "        if label=='clincapref':\n",
    "            df['clincapref'] = df.clincapref.map({'Yes': 1, 'No': 0})\n",
    "        if label=='clincoldext':\n",
    "            df['clincoldext'] = df.clincoldext.map({'Yes': 1, 'No': 0})\n",
    "        if label=='clinorcand':\n",
    "            df['clinorcand'] = df.clinorcand.map({'Yes': 1, 'No': 0})\n",
    "        if label=='clinhemmor':\n",
    "            df['clinhemmor'] = df.clinhemmor.map({'Yes': 1, 'No': 0})\n",
    "        if label=='clinaids':\n",
    "            df['clinaids'] = df.clinaids.map({'Yes': 1, 'No': 0})\n",
    "        if label=='vom':\n",
    "            df['vom'] = df.vom.map({'Yes': 1, 'No': 0})\n",
    "        if label=='diar':\n",
    "            df['diar'] = df.diar.map({'Yes': 1, 'No': 0})\n",
    "        if label=='headache':\n",
    "            df['headache'] = df['head'] #Since 'head' is a function\n",
    "            df['headache'] = df.headache.map({\"Don't know\":0, 'No':0, 'Yes':1, 'Not applicable':0})\n",
    "        if label=='conv':\n",
    "            df['conv'] = df.conv.map({'Yes': 1, 'No': 0})\n",
    "        if label=='age':\n",
    "            df['ageym'] = df.ageyrs.astype(float)*12.\n",
    "            df['agemth'] = df.agemth.astype(float)\n",
    "            df['age'] = df.ageym + df.agemth #total age in months\n",
    "\n",
    "        #Medical history variables\n",
    "        if label=='mhhosp':\n",
    "            df['mhhosp'] = df.mhhosp.map({'Yes': 1, 'No':0})\n",
    "\n",
    "        #some slightly more compliated mappings\n",
    "        if label=='abdpain':\n",
    "            df['abdpain'] = df.abdpain.map({\"Don't know\":0, 'No':0, 'Yes':1, 'Not applicable':np.nan})\n",
    "        if label=='muscle':\n",
    "            df['muscle'] = df.muscle.map({\"Don't know\":0, 'No':0, 'Yes':1, 'Not applicable':np.nan})\n",
    "        if label=='mhdevsp':\n",
    "            df['mhdevsp'] = df.mhdevsp.map({'OTHER':1, 'GLOBAL DEVELOPMENTAL DELAY':1, 'HYDROCEPHALUS':1,\n",
    "                   'HEARING LOSSES':1, 'MOTOR DEVELOPEMENTAL DELAY':1,\n",
    "                   'SPEECH DEVELOPEMENTAL DELAY':1})\n",
    "\n",
    "        #Initial diagnosis coding:\n",
    "        if label=='CMalaria':\n",
    "            df['CMalaria'] = df.dimain.map({0:1,1:0,2:0,3:0})\n",
    "        if label=='Enceph':\n",
    "            df['Enceph'] = df.dimain.map({0:0,1:1,2:0,3:0})\n",
    "        if label=='Mening':\n",
    "            df['Mening'] = df.dimain.map({0:0,1:0,2:1,3:0})\n",
    "        if label=='Other':\n",
    "            df['Other'] = df.dimain.map({0:0,1:0,2:0,3:1})\n",
    "\n",
    "\n",
    "        #This coding is going to be important. You'll want to figure out which categories are useful, and which\n",
    "        #are practical.\n",
    "        if label=='diag':\n",
    "            df['diag'] = df.diag.map({'malaria':0, 'cereb malaria':0,'virus-malaria':0,\\\n",
    "                                                'virus-bacteria':1, 'bacteremia':1,'bact meningitis':1,\\\n",
    "                                                'virus-other':2,'virus':2,'malaria-bacterial':3,\\\n",
    "                                                'tb':3,'crypto':2, '0.0':4})"
   ]
  },
  {
   "cell_type": "code",
   "execution_count": 267,
   "metadata": {
    "collapsed": false
   },
   "outputs": [],
   "source": [
    "#Read in the datafile - don't mess with it.\n",
    "data_raw = pd.read_csv(\"../Data/cns_data.csv\")   #Using Pandas for data manipulation\n",
    "data_df = data_raw.drop(['surnamenam','patinit','patientreg','mothinit'],axis=1)\n",
    "\n",
    "#Split up 'incdate' into month, day, and year. Monthday is meant to capture seasonality.\n",
    "data_df['month'] = pd.DatetimeIndex(data_df['incdate']).month\n",
    "data_df['day'] = pd.DatetimeIndex(data_df['incdate']).day\n",
    "data_df['year'] = pd.DatetimeIndex(data_df['incdate']).year\n",
    "data_df['monthday'] = data_df['month']*30+data_df['day']\n",
    "\n",
    "#The set of inputs that will need mapping is small here, intentionally:\n",
    "pmap = ['dimain','diag','Other','Mening','CMalaria','Enceph','age','date','headache','vom','clinhepato','clindehyd',\n",
    "       'conv']\n",
    "datamap(data_df,pmap);"
   ]
  },
  {
   "cell_type": "code",
   "execution_count": 273,
   "metadata": {
    "collapsed": false
   },
   "outputs": [
    {
     "name": "stdout",
     "output_type": "stream",
     "text": [
      "(470, 2) 480\n"
     ]
    }
   ],
   "source": [
    "#Select the diagnosis data only, then go through and calculate the proportion of the previous N patients\n",
    "#that ended up with each diagnosis.\n",
    "diag_data = data_df.diag.values\n",
    "Ntot = len(diag_data)            #Total number of patients\n",
    "N = 10                           #Number of patients to use to calculate probabilities\n",
    "pdiagnosis = []                  #List to keep track of diagnoses - will be (Ntot - N) x 5\n",
    "for i in range(Ntot-N):\n",
    "    prev_pat = diag_data[i:N+i]\n",
    "    count = [float(Counter(prev_pat)[0])/N,float(Counter(prev_pat)[1])/N, float(Counter(prev_pat)[2])/N,\\\n",
    "             float(Counter(prev_pat)[3])/N, float(Counter(prev_pat)[4])/N]\n",
    "    pdiagnosis.append(count)\n",
    "\n",
    "#Now go through from N to Ntot and use these probabilities to make the diagnosis. Record the predicted diagnosis\n",
    "#and the true diagnosis\n",
    "prediction = []\n",
    "for i in range(N,Ntot):\n",
    "    guess = np.random.multinomial(1,pdiagnosis[i-N])\n",
    "    hold = np.where(guess==1)[0]\n",
    "    prediction.append([hold[0],diag_data[i]])\n",
    "\n",
    "prediction = np.array(prediction)\n",
    "print np.shape(prediction), Ntot"
   ]
  },
  {
   "cell_type": "code",
   "execution_count": 274,
   "metadata": {
    "collapsed": false
   },
   "outputs": [
    {
     "data": {
      "text/plain": [
       "[<matplotlib.lines.Line2D at 0x1113b7450>]"
      ]
     },
     "execution_count": 274,
     "metadata": {},
     "output_type": "execute_result"
    },
    {
     "data": {
      "image/png": "[encoded data removed]",
      "text/plain": [
       "<Figure size 432x288 with 1 Axes>"
      ]
     },
     "metadata": {},
     "output_type": "display_data"
    }
   ],
   "source": [
    "W = 10                               #Window over which to calculate precision\n",
    "ypred = []\n",
    "ytrue = []\n",
    "pswind = []\n",
    "for i in range(Ntot-N):\n",
    "    ypred.append(prediction[i,0])\n",
    "    ytrue.append(prediction[i,1])\n",
    "    if i%W == 0:\n",
    "        pscore = precision_score(ytrue,ypred,average='micro')\n",
    "        pswind.append(pscore)\n",
    "        ypred = []\n",
    "        ytrue = []\n",
    "\n",
    "plt.plot(pswind)"
   ]
  },
  {
   "cell_type": "code",
   "execution_count": 275,
   "metadata": {
    "collapsed": false
   },
   "outputs": [
    {
     "name": "stdout",
     "output_type": "stream",
     "text": [
      "['CMalaria' 'Enceph' 'glasgtot' 'Mening' 'muac' 'date' 'temp' 'pnone'\n",
      " 'weight' 'age' 'card' 'height' 'resp' 'dbp' 'sbp' 'clinhepato' 'pmal'\n",
      " 'conv']\n"
     ]
    }
   ],
   "source": [
    "#Now, add this as a feature for classification.\n",
    "data_subset = data_df[N:].copy()\n",
    "pdiagnosis = np.array(pdiagnosis)\n",
    "\n",
    "data_subset['pmal'] = pdiagnosis[:,0]\n",
    "data_subset['pbac'] = pdiagnosis[:,1]\n",
    "data_subset['pvir'] = pdiagnosis[:,2]\n",
    "data_subset['pother'] = pdiagnosis[:,3]\n",
    "data_subset['pnone'] = pdiagnosis[:,4]\n",
    "\n",
    "#Features to classify on - as well as label, which is 'diag'. Need these in the same dataframe so you can drop\n",
    "#entries with NaN as any of the values.\n",
    "feature_list = ['CMalaria','Mening','Enceph','resp','card','sbp','dbp','glasgtot','temp','age','height',\\\n",
    "               'weight','muac','pmal','pnone','clinhepato','date','conv',\\\n",
    "                'diag']\n",
    "\n",
    "XY_df = data_subset.loc[:,feature_list].dropna()\n",
    "Input = XY_df.values             #creates a numpy array\n",
    "Features = Input[:,0:-1].copy()  #separate the features and labels\n",
    "Labels = Input[:,-1].copy()\n",
    "\n",
    "X_train, X_test, y_train, y_test = train_test_split(Features, Labels, test_size=0.2, random_state=True)\n",
    "#Actual classifier. This is doing n_estimators trees, up to max_depth cuts. Something to play with.\n",
    "forest = ExtraTreesClassifier(n_estimators=50,\n",
    "                              random_state=0,max_depth=10)\n",
    "\n",
    "#Fit the classifier.\n",
    "forest.fit(X_train, y_train)\n",
    "\n",
    "#extract the 'importances' of the features\n",
    "importances = forest.feature_importances_\n",
    "#calculate standard deviation\n",
    "std = np.std([tree.feature_importances_ for tree in forest.estimators_],\n",
    "             axis=0)\n",
    "indices = np.argsort(importances)[::-1]\n",
    "Xlabels = np.array(feature_list[:-1])\n",
    "ImportantFeatures = Xlabels[indices]\n",
    "\n",
    "print ImportantFeatures"
   ]
  },
  {
   "cell_type": "code",
   "execution_count": 286,
   "metadata": {
    "collapsed": true
   },
   "outputs": [],
   "source": [
    "def testfunc(x,p):\n",
    "    m0 = p[0]\n",
    "    y0 = p[1]\n",
    "    x0 = p[2]\n",
    "    return y0 + m0/(x-x0)"
   ]
  },
  {
   "cell_type": "code",
   "execution_count": 287,
   "metadata": {
    "collapsed": true
   },
   "outputs": [],
   "source": [
    "x = np.linspace(0,60,61)"
   ]
  },
  {
   "cell_type": "code",
   "execution_count": 311,
   "metadata": {
    "collapsed": false
   },
   "outputs": [],
   "source": [
    "y = testfunc(x,[1.8,0.2,500.])"
   ]
  },
  {
   "cell_type": "code",
   "execution_count": 312,
   "metadata": {
    "collapsed": false
   },
   "outputs": [
    {
     "data": {
      "text/plain": [
       "[<matplotlib.lines.Line2D at 0x11bbd7950>]"
      ]
     },
     "execution_count": 312,
     "metadata": {},
     "output_type": "execute_result"
    },
    {
     "data": {
      "image/png": "[encoded data removed]",
      "text/plain": [
       "<Figure size 432x288 with 1 Axes>"
      ]
     },
     "metadata": {},
     "output_type": "display_data"
    }
   ],
   "source": [
    "plt.plot(x,y)"
   ]
  },
  {
   "cell_type": "code",
   "execution_count": null,
   "metadata": {
    "collapsed": true
   },
   "outputs": [],
   "source": []
  }
 ],
 "metadata": {
  "kernelspec": {
   "display_name": "Python 2",
   "language": "python",
   "name": "python2"
  },
  "language_info": {
   "codemirror_mode": {
    "name": "ipython",
    "version": 2
   },
   "file_extension": ".py",
   "mimetype": "text/x-python",
   "name": "python",
   "nbconvert_exporter": "python",
   "pygments_lexer": "ipython2",
   "version": "2.7.12"
  }
 },
 "nbformat": 4,
 "nbformat_minor": 2
}
