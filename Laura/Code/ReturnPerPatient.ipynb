{
 "cells": [
  {
   "cell_type": "markdown",
   "metadata": {},
   "source": [
    "Having defined three different 'policies' that split each patient into actions, we now want to calculate the overall return of those policies by determining the cost of each patient/action pair, and averaging that over the total patient set."
   ]
  },
  {
   "cell_type": "code",
   "execution_count": 1,
   "metadata": {
    "collapsed": true
   },
   "outputs": [],
   "source": [
    "#Libraries for math and data manipulation\n",
    "import numpy as np\n",
    "import pandas as pd\n",
    "import copy\n",
    "import math\n",
    "import numpy.random as rand\n",
    "import scipy as sp\n",
    "import sys\n",
    "from datetime import datetime\n",
    "from collections import Counter\n",
    "\n",
    "#Dumping stuff\n",
    "import pickle\n",
    "\n",
    "#Plotting stuff\n",
    "import matplotlib.pyplot as plt\n",
    "import matplotlib.tri as tri\n",
    "import matplotlib.cm as cm\n",
    "from matplotlib.pyplot import figure\n",
    "from matplotlib.ticker import FormatStrFormatter\n",
    "import seaborn\n",
    "import corner\n",
    "%matplotlib inline\n",
    "from matplotlib import rc\n",
    "rc('font',**{'family':'sans-serif','sans-serif':['Helvetica']})\n",
    "rc('text', usetex=True) #Want to be able to use tex in the plot labels\n",
    "seaborn.set_style('ticks')\n",
    "seaborn.set_color_codes()\n",
    "\n"
   ]
  },
  {
   "cell_type": "code",
   "execution_count": 2,
   "metadata": {
    "collapsed": true
   },
   "outputs": [],
   "source": [
    "#First, the vectors of patients in each category for each policy.\n",
    "#The order is\n",
    "#need atb/get atb, need atb/get atm, need atb/get both, need atb/get neither\n",
    "#need atm/get atb, need atm/get atm, need atm/get both, need atm/get neither\n",
    "#need atb/get atb, need both/get atm, need both/get both, need both/get neither\n",
    "#need n/get atb, need n/get atm, need n/get both, need n/get n (these last 4 are always 0)\n",
    "#how many needed atb? 51 how many needed atm? 20 how many needed both? 109\n",
    "IntakeCats = np.array([21,1,1,28,0,11,0,9,7,19,57,26,0,0,0,0])\n",
    "MLCats = np.array([35,0,16,0,0,12,8,0,16,20,73,0,0,0,0,0])\n",
    "KitchenSinkCats = np.array([0,0,51,0,0,0,20,0,0,0,109,0,0,0,0,0])\n",
    "\n",
    "Npatient = sum(IntakeCats)"
   ]
  },
  {
   "cell_type": "code",
   "execution_count": 3,
   "metadata": {
    "collapsed": false
   },
   "outputs": [],
   "source": [
    "#Now, you need to define the cost for each category. This should be in terms of variables you can change.\n",
    "#You have pre-determined here that giving someone 1/2 treatment is 1/2 as bad as a complete miss.\n",
    "f1 = -2.    #How bad is it to completely miss someone's treatment?\n",
    "f2 = 0.5    #How bad is it to waste an antimalarial or antibiotic? (same for now)\n",
    "C = np.array([1.,f1,f2,f1,f1,1.,f2,f1,-1.,-1.,1.,f1,f2,f2,2.*f2,1.])"
   ]
  },
  {
   "cell_type": "code",
   "execution_count": 4,
   "metadata": {
    "collapsed": false
   },
   "outputs": [
    {
     "name": "stdout",
     "output_type": "stream",
     "text": [
      "-0.35833333333333334\n",
      "0.5333333333333333\n",
      "0.8027777777777778\n"
     ]
    }
   ],
   "source": [
    "print np.sum(IntakeCats*C)/Npatient\n",
    "print np.sum(MLCats*C)/Npatient\n",
    "print np.sum(KitchenSinkCats*C)/Npatient"
   ]
  },
  {
   "cell_type": "code",
   "execution_count": 5,
   "metadata": {
    "collapsed": false
   },
   "outputs": [],
   "source": [
    "nplot = 20\n",
    "f1range = np.linspace(-5.,0.,nplot)\n",
    "f2range = np.linspace(-5.,1.,nplot)\n",
    "\n",
    "CmatI = np.zeros([nplot,nplot])\n",
    "CmatML = np.zeros([nplot,nplot])\n",
    "CmatKS = np.zeros([nplot,nplot])\n",
    "BestP = np.zeros([nplot,nplot])\n",
    "\n",
    "i = 0\n",
    "for f1 in f1range:\n",
    "    j = 0\n",
    "    for f2 in f2range:\n",
    "        C = np.array([1.,f1,f2,f1,f1,1.,f2,f1,-1.,-1.,1.,f1,f2,f2,2.*f2,1.])\n",
    "        CmatI[i,j] = np.sum(IntakeCats*C)/Npatient\n",
    "        CmatML[i,j] = np.sum(MLCats*C)/Npatient\n",
    "        CmatKS[i,j] = np.sum(KitchenSinkCats*C)/Npatient        \n",
    "        \n",
    "        if np.max([CmatKS[i,j],CmatML[i,j],CmatI[i,j]])==CmatI[i,j]:\n",
    "            BestP[i,j] = 0.\n",
    "        elif np.max([CmatKS[i,j],CmatML[i,j],CmatI[i,j]])==CmatML[i,j]:\n",
    "            BestP[i,j] = 1.\n",
    "        elif np.max([CmatKS[i,j],CmatML[i,j],CmatI[i,j]])==CmatKS[i,j]:\n",
    "            BestP[i,j] = 2.\n",
    "        else:\n",
    "            print 'Tie!', CmatI[i,j], CmatML[i,j], CmatKS[i,j]\n",
    "            BestP[i,j] = 3.\n",
    "        \n",
    "        j += 1\n",
    "    i += 1\n"
   ]
  },
  {
   "cell_type": "code",
   "execution_count": 6,
   "metadata": {
    "collapsed": false
   },
   "outputs": [
    {
     "data": {
      "image/png": "[encoded data removed]",
      "text/plain": [
       "<Figure size 864x864 with 1 Axes>"
      ]
     },
     "metadata": {},
     "output_type": "display_data"
    }
   ],
   "source": [
    "fig, ax = plt.subplots(figsize=(12,12))\n",
    "cax = ax.imshow(BestP, interpolation='none', cmap='plasma');\n",
    "ax.set_xticks(np.arange(0,nplot,1));\n",
    "ax.set_yticks(np.arange(0,nplot,1));\n",
    "#ax.set_xticklabels(f2range,fontsize=12);\n",
    "#ax.set_yticklabels(f1range,fontsize=12);\n",
    "# get the current labels \n",
    "#labels = [item.get_text() for item in ax.get_xticklabels()]\n",
    "# Beat them into submission and set them back again\n",
    "ax.set_xticklabels([str(round(float(label), 2)) for label in f2range]);\n",
    "ax.set_yticklabels([str(round(float(label), 2)) for label in f1range]);\n",
    "#ax.set_xlabel('Population Size',fontsize=15)\n",
    "#ax.set_ylabel('Pop. Variance (\\%)',fontsize=15)\n",
    "plt.savefig('BestPolicy.png')\n"
   ]
  },
  {
   "cell_type": "markdown",
   "metadata": {
    "collapsed": true
   },
   "source": [
    "### Return per patient: equations for the costs\n",
    "\n",
    "Given that there are two possible drugs, lets just call them $A$ and $B$, (although those correspond in our case to antibiotics and antimalarials), each cell in the 'cost/action matrix' can be defined by four numbers.\n",
    "\n",
    "\n",
    "$\\begin{array}\n",
    " nn_A &= (0,1), \\quad\\quad \\rm{need\\,A?}\\\\   \n",
    " n_B &= (0,1), \\quad\\quad \\rm{need\\,B?}\\\\\n",
    " g_A &= (0,1), \\quad\\quad \\rm{get\\,A?}\\\\\n",
    " g_B &= (0,1), \\quad\\quad \\rm{get\\,B?}\\\\\n",
    "\\end{array}$\n",
    "\n",
    "We can then define the cost of each of the cells, which are now uniquely defined by $(n_A,n_B,g_A,g_B)$, as:\n",
    "\n",
    "$\\rm{cost} = \\left[\\left\\{n_Ag_A + n_Bg_B\\right\\} + f_1\\times\\left\\{n_A(1-g_A)+n_B(1-g_B)\\right\\} + f_2\\times\\left\\{(1-n_A)g_A+(1-n_B)g_B\\right\\}\\right]\\bigg/(n_A+n_B)$\n",
    "\n",
    "The first term rewards the policy for giving drugs that were needed. The second term penalizes the policy for *not* giving drugs that *were* needed (missed treatment), and the third term penalizes the policy for *giving* drugs that were *not* needed (wasted treatment). The denominator scales the answer such that perfect treatment gives a return of 1. $f_1$ and $f_2$ scale the degree of the penalty accrued from missing or wasting treatment, respecitvely. As formulated, rewards and penalties for drug A and drug B are equal, but this could be adjusted.\n"
   ]
  },
  {
   "cell_type": "code",
   "execution_count": 7,
   "metadata": {
    "collapsed": false
   },
   "outputs": [],
   "source": [
    "#Loop through a grid of values in f1 and f2. \n",
    "nplot = 20\n",
    "f1range = np.linspace(0.,3.,nplot)\n",
    "f2range = np.linspace(0.,3.,nplot)\n",
    "\n",
    "CmatI = np.zeros([nplot,nplot])\n",
    "CmatML = np.zeros([nplot,nplot])\n",
    "CmatKS = np.zeros([nplot,nplot])\n",
    "BestP = np.zeros([nplot,nplot])\n",
    "\n",
    "i = 0\n",
    "for f1 in f1range:\n",
    "    j = 0\n",
    "    for f2 in f2range:\n",
    "        C = np.array([1.,-(f1+f2),1.-f2,-f1,-(f1+f2),1.,1.-f2,-f1,(1.-f1)/2.,(1.-f1)/2.,1.,-f1,-f2,-f2,-2.*f2,1.])\n",
    "        CmatI[i,j] = np.sum(IntakeCats*C)/Npatient\n",
    "        CmatML[i,j] = np.sum(MLCats*C)/Npatient\n",
    "        CmatKS[i,j] = np.sum(KitchenSinkCats*C)/Npatient        \n",
    "        \n",
    "        if np.max([CmatKS[i,j],CmatML[i,j],CmatI[i,j]])==CmatI[i,j]:\n",
    "            BestP[i,j] = 0.\n",
    "        elif np.max([CmatKS[i,j],CmatML[i,j],CmatI[i,j]])==CmatML[i,j]:\n",
    "            BestP[i,j] = 1.\n",
    "        elif np.max([CmatKS[i,j],CmatML[i,j],CmatI[i,j]])==CmatKS[i,j]:\n",
    "            BestP[i,j] = 2.\n",
    "        else:\n",
    "            print 'Tie!', CmatI[i,j], CmatML[i,j], CmatKS[i,j]\n",
    "            BestP[i,j] = 3.\n",
    "        \n",
    "        j += 1\n",
    "    i += 1"
   ]
  },
  {
   "cell_type": "code",
   "execution_count": 8,
   "metadata": {
    "collapsed": false
   },
   "outputs": [
    {
     "name": "stdout",
     "output_type": "stream",
     "text": [
      "1.0\n"
     ]
    }
   ],
   "source": [
    "print np.max(CmatKS)"
   ]
  },
  {
   "cell_type": "code",
   "execution_count": 9,
   "metadata": {
    "collapsed": false
   },
   "outputs": [
    {
     "data": {
      "image/png": "[encoded data removed]",
      "text/plain": [
       "<Figure size 1080x1080 with 3 Axes>"
      ]
     },
     "metadata": {},
     "output_type": "display_data"
    }
   ],
   "source": [
    "f, (ax1, ax2,ax3) = plt.subplots(1, 3,figsize=(15,15))\n",
    "ax2.imshow(CmatML,cmap='plasma',vmax=1.)\n",
    "ax2.set_title('Classifier')\n",
    "ax1.imshow(CmatKS,cmap='plasma',vmax=1.)\n",
    "ax1.set_title('Kitchen Sink')\n",
    "ax3.imshow(CmatI,cmap='plasma',vmax=1.)\n",
    "ax3.set_title('Intake')\n",
    "\n",
    "ax1.invert_yaxis()\n",
    "ax2.invert_yaxis()\n",
    "ax3.invert_yaxis()\n"
   ]
  },
  {
   "cell_type": "code",
   "execution_count": 10,
   "metadata": {
    "collapsed": false
   },
   "outputs": [
    {
     "data": {
      "image/png": "[encoded data removed]",
      "text/plain": [
       "<Figure size 864x864 with 1 Axes>"
      ]
     },
     "metadata": {},
     "output_type": "display_data"
    }
   ],
   "source": [
    "fig, ax = plt.subplots(figsize=(12,12))\n",
    "cax = ax.imshow(BestP, interpolation='none', cmap='plasma');\n",
    "ax.set_xticks(np.arange(0,nplot,1));\n",
    "ax.set_yticks(np.arange(0,nplot,1));\n",
    "#ax.set_xticklabels(f2range,fontsize=12);\n",
    "#ax.set_yticklabels(f1range,fontsize=12);\n",
    "# get the current labels \n",
    "#labels = [item.get_text() for item in ax.get_xticklabels()]\n",
    "# Beat them into submission and set them back again\n",
    "ax.set_xticklabels([str(round(float(label), 2)) for label in f2range]);\n",
    "ax.set_yticklabels([str(round(float(label), 2)) for label in f1range]);\n",
    "plt.gca().invert_yaxis()\n",
    "#ax.set_xlabel('Population Size',fontsize=15)\n",
    "#ax.set_ylabel('Pop. Variance (\\%)',fontsize=15)\n",
    "plt.savefig('BestPolicy_truepopulation.png')"
   ]
  },
  {
   "cell_type": "code",
   "execution_count": 11,
   "metadata": {
    "collapsed": false
   },
   "outputs": [],
   "source": [
    "#Now, to illustrate what impact the underlying population has. Note that in the real population we're looking\n",
    "#at, most of the patients 'needed both.' But that's just the best we can do with the data we had - there is a real\n",
    "#possibility that a lot of the patients who got both treatments would have improved with just one or the other.\n",
    "\n",
    "#THIS is a real place for a ternary plot - proportion of patients who need antibiotics, antimalarials, or both. What\n",
    "#is the return for the kitchen sink policy?\n"
   ]
  },
  {
   "cell_type": "code",
   "execution_count": 63,
   "metadata": {
    "collapsed": false
   },
   "outputs": [
    {
     "name": "stderr",
     "output_type": "stream",
     "text": [
      "/Users/laurasampson/anaconda/lib/python2.7/site-packages/ipykernel_launcher.py:31: RuntimeWarning: divide by zero encountered in divide\n",
      "/Users/laurasampson/anaconda/lib/python2.7/site-packages/ipykernel_launcher.py:32: RuntimeWarning: divide by zero encountered in divide\n"
     ]
    },
    {
     "ename": "RuntimeError",
     "evalue": "Error in qhull Delaunay triangulation calculation: input inconsistency (exitcode=1); use python verbose option (-v) to see original qhull error.",
     "output_type": "error",
     "traceback": [
      "\u001b[0;31m---------------------------------------------------------------------------\u001b[0m",
      "\u001b[0;31mRuntimeError\u001b[0m                              Traceback (most recent call last)",
      "\u001b[0;32m<ipython-input-63-17a3f96c9650>\u001b[0m in \u001b[0;36m<module>\u001b[0;34m()\u001b[0m\n\u001b[1;32m     34\u001b[0m \u001b[0;34m\u001b[0m\u001b[0m\n\u001b[1;32m     35\u001b[0m \u001b[0;31m# create a triangulation out of these points\u001b[0m\u001b[0;34m\u001b[0m\u001b[0;34m\u001b[0m\u001b[0m\n\u001b[0;32m---> 36\u001b[0;31m \u001b[0mT\u001b[0m \u001b[0;34m=\u001b[0m \u001b[0mtri\u001b[0m\u001b[0;34m.\u001b[0m\u001b[0mTriangulation\u001b[0m\u001b[0;34m(\u001b[0m\u001b[0mx\u001b[0m\u001b[0;34m,\u001b[0m\u001b[0my\u001b[0m\u001b[0;34m)\u001b[0m\u001b[0;34m\u001b[0m\u001b[0m\n\u001b[0m\u001b[1;32m     37\u001b[0m \u001b[0;34m\u001b[0m\u001b[0m\n\u001b[1;32m     38\u001b[0m \u001b[0;31m# plot the contour\u001b[0m\u001b[0;34m\u001b[0m\u001b[0;34m\u001b[0m\u001b[0m\n",
      "\u001b[0;32m/Users/laurasampson/anaconda/lib/python2.7/site-packages/matplotlib/tri/triangulation.pyc\u001b[0m in \u001b[0;36m__init__\u001b[0;34m(self, x, y, triangles, mask)\u001b[0m\n\u001b[1;32m     53\u001b[0m             \u001b[0;31m# No triangulation specified, so use matplotlib._qhull to obtain\u001b[0m\u001b[0;34m\u001b[0m\u001b[0;34m\u001b[0m\u001b[0m\n\u001b[1;32m     54\u001b[0m             \u001b[0;31m# Delaunay triangulation.\u001b[0m\u001b[0;34m\u001b[0m\u001b[0;34m\u001b[0m\u001b[0m\n\u001b[0;32m---> 55\u001b[0;31m             \u001b[0mself\u001b[0m\u001b[0;34m.\u001b[0m\u001b[0mtriangles\u001b[0m\u001b[0;34m,\u001b[0m \u001b[0mself\u001b[0m\u001b[0;34m.\u001b[0m\u001b[0m_neighbors\u001b[0m \u001b[0;34m=\u001b[0m \u001b[0m_qhull\u001b[0m\u001b[0;34m.\u001b[0m\u001b[0mdelaunay\u001b[0m\u001b[0;34m(\u001b[0m\u001b[0mx\u001b[0m\u001b[0;34m,\u001b[0m \u001b[0my\u001b[0m\u001b[0;34m)\u001b[0m\u001b[0;34m\u001b[0m\u001b[0m\n\u001b[0m\u001b[1;32m     56\u001b[0m             \u001b[0mself\u001b[0m\u001b[0;34m.\u001b[0m\u001b[0mis_delaunay\u001b[0m \u001b[0;34m=\u001b[0m \u001b[0mTrue\u001b[0m\u001b[0;34m\u001b[0m\u001b[0m\n\u001b[1;32m     57\u001b[0m         \u001b[0;32melse\u001b[0m\u001b[0;34m:\u001b[0m\u001b[0;34m\u001b[0m\u001b[0m\n",
      "\u001b[0;31mRuntimeError\u001b[0m: Error in qhull Delaunay triangulation calculation: input inconsistency (exitcode=1); use python verbose option (-v) to see original qhull error."
     ]
    },
    {
     "data": {
      "text/plain": [
       "<Figure size 864x576 with 0 Axes>"
      ]
     },
     "metadata": {},
     "output_type": "display_data"
    }
   ],
   "source": [
    "#You need to set up the coordinates to calculate this at.\n",
    "tern_data = []\n",
    "percent_both = np.linspace(0,1,100)\n",
    "percent_one = np.linspace(0,1,100)\n",
    "\n",
    "#Redfine the cost array to what you used initially\n",
    "f1 = 0.     #How bad is it to completely miss someone's treatment? (equal emphasis as correct treatment is 1.0)\n",
    "f2 = 2.    #How bad is it to waste an antimalarial or antibiotic? \n",
    "C = np.array([1.,-(f1+f2),1.-f2,-f1,-(f1+f2),1.,1.-f2,-f1,(1.-f1)/2.,(1.-f1)/2.,1.,-f1,-f2,-f2,-2.*f2,1.])\n",
    "\n",
    "for pb in percent_both:\n",
    "    for po in percent_one:\n",
    "        if(pb+po)<=1.:\n",
    "            pnone = 1.-(pb+po)\n",
    "            KSCats = np.array([0,0,0.5*po,0,0,0,0.5*po,0.,0.,0.,pb,0.,0.,0.,pnone,0.]) #percent in each category \n",
    "                                                                                       #under KS policy \n",
    "            rpp = np.sum(KSCats*C)/(pb+po+pnone)\n",
    "            tern_data.append([pb,po,pnone,rpp])\n",
    "tern_data = np.array(tern_data)\n",
    "\n",
    "figure(figsize=(12,8))\n",
    "# barycentric coords: (a,b,c)\n",
    "a=tern_data[:,0]\n",
    "b=tern_data[:,1]\n",
    "c=tern_data[:,3]\n",
    "\n",
    "# values is stored in the last column\n",
    "v = tern_data[:,-1]\n",
    "\n",
    "# translate the data to cartesian corrds\n",
    "x = 0.5 * ( 2.*b+c ) / ( a+b+c )\n",
    "y = 0.5*np.sqrt(3) * c / (a+b+c)\n",
    "\n",
    "\n",
    "# create a triangulation out of these points\n",
    "T = tri.Triangulation(x,y)\n",
    "\n",
    "# plot the contour\n",
    "#plt.tricontourf(x,y,v,cmap='plasma',vmin=0)\n",
    "\n",
    "plt.tricontourf(T.triangles,v,cmap='plasma')\n",
    "\n",
    "\n",
    "\n",
    "# create the grid\n",
    "#corners = np.array([[0, 0], [1, 0], [0.5,  np.sqrt(3)*0.5]])\n",
    "#triangle = tri.Triangulation(corners[:, 0], corners[:, 1])\n",
    "\n",
    "# creating the grid\n",
    "#refiner = tri.UniformTriRefiner(triangle)\n",
    "#trimesh = refiner.refine_triangulation(subdiv=2)\n",
    "\n",
    "#plotting the mesh\n",
    "#plt.triplot(trimesh,'k--')\n"
   ]
  },
  {
   "cell_type": "code",
   "execution_count": 39,
   "metadata": {
    "collapsed": false
   },
   "outputs": [
    {
     "name": "stdout",
     "output_type": "stream",
     "text": [
      "[0.5 1. ]\n"
     ]
    }
   ],
   "source": [
    "print x"
   ]
  },
  {
   "cell_type": "code",
   "execution_count": 40,
   "metadata": {
    "collapsed": false
   },
   "outputs": [
    {
     "name": "stdout",
     "output_type": "stream",
     "text": [
      "[0.8660254 0.       ]\n"
     ]
    }
   ],
   "source": [
    "print y"
   ]
  },
  {
   "cell_type": "code",
   "execution_count": 34,
   "metadata": {
    "collapsed": false
   },
   "outputs": [
    {
     "name": "stdout",
     "output_type": "stream",
     "text": [
      "[-4. -1.  1.]\n"
     ]
    }
   ],
   "source": [
    "print v"
   ]
  },
  {
   "cell_type": "code",
   "execution_count": 47,
   "metadata": {
    "collapsed": true
   },
   "outputs": [],
   "source": [
    "x = np.asarray([0, 1, 2, 3, 0.5, 1.5, 2.5, 1, 2, 1.5])\n",
    "y = np.asarray([0, 0, 0, 0, 1.0, 1.0, 1.0, 2, 2, 3.0])\n",
    "tritrst = tri.Triangulation(x,y)\n",
    "triangles = [[0, 1, 4], [1, 2, 5], [2, 3, 6], [1, 5, 4], [2, 6, 5], [4, 5, 7],\n",
    "             [5, 6, 8], [5, 8, 7], [7, 8, 9]]\n",
    "triang = tri.Triangulation(y, x, triangles)"
   ]
  },
  {
   "cell_type": "code",
   "execution_count": 60,
   "metadata": {
    "collapsed": false
   },
   "outputs": [
    {
     "data": {
      "text/plain": [
       "<matplotlib.tri.tricontour.TriContourSet at 0x1a1db9dc90>"
      ]
     },
     "execution_count": 60,
     "metadata": {},
     "output_type": "execute_result"
    },
    {
     "data": {
      "image/png": "[encoded data removed]",
      "text/plain": [
       "<Figure size 432x288 with 1 Axes>"
      ]
     },
     "metadata": {},
     "output_type": "display_data"
    }
   ],
   "source": [
    "x = np.asarray([0, 1,1.2, 2, 3, 0.5, 1.5, 2.5, 1, 2, 1.5,2.0])\n",
    "y = np.asarray([0, 0,0.2, 0, 0, 1.0, 1.0, 1.0, 2, 2, 3.0,3.5])\n",
    "x=tern_data[:,0]\n",
    "y=tern_data[:,1]\n",
    "\n",
    "#triangles = [[0, 1, 4], [1, 2, 5], [2, 3, 6], [1, 5, 4], [2, 6, 5], [4, 5, 7],\n",
    "             #[5, 6, 8], [5, 8, 7], [7, 8, 9]]\n",
    "#triang = tri.Triangulation(x, y, triangles)\n",
    "triang = tri.Triangulation(x,y)\n",
    "\n",
    "# Interpolate to regularly-spaced quad grid.\n",
    "z = np.cos(1.5 * x) * np.cos(1.5 * y)\n",
    "#xi, yi = np.meshgrid(np.linspace(0, 3, 20), np.linspace(0, 3, 20))\n",
    "\n",
    "\n",
    "z=tern_data[:,3] \n",
    "\n",
    "# Plot the triangulation.\n",
    "plt.tricontourf(triang, z,cmap='plasma')\n",
    "#plt.triplot(triang, 'ko-')\n"
   ]
  },
  {
   "cell_type": "code",
   "execution_count": 61,
   "metadata": {
    "collapsed": false
   },
   "outputs": [
    {
     "data": {
      "text/plain": [
       "<Figure size 864x576 with 0 Axes>"
      ]
     },
     "metadata": {},
     "output_type": "display_data"
    }
   ],
   "source": [
    "#You need to set up the coordinates to calculate this at.\n",
    "tern_data = []\n",
    "percent_both = np.linspace(0,1,100)\n",
    "percent_one = np.linspace(0,1,100)\n",
    "\n",
    "#Redfine the cost array to what you used initially\n",
    "f1 = 0.     #How bad is it to completely miss someone's treatment? (equal emphasis as correct treatment is 1.0)\n",
    "f2 = 2.    #How bad is it to waste an antimalarial or antibiotic? \n",
    "C = np.array([1.,-(f1+f2),1.-f2,-f1,-(f1+f2),1.,1.-f2,-f1,(1.-f1)/2.,(1.-f1)/2.,1.,-f1,-f2,-f2,-2.*f2,1.])\n",
    "\n",
    "for pb in percent_both:\n",
    "    for po in percent_one:\n",
    "        if(pb+po)<=1.:\n",
    "            pnone = 1.-(pb+po)\n",
    "            KSCats = np.array([0,0,0.5*po,0,0,0,0.5*po,0.,0.,0.,pb,0.,0.,0.,pnone,0.]) #percent in each category \n",
    "                                                                                       #under KS policy \n",
    "            rpp = np.sum(KSCats*C)/(pb+po+pnone)\n",
    "            tern_data.append([pb,po,pnone,rpp])\n",
    "tern_data = np.array(tern_data)\n",
    "\n",
    "figure(figsize=(12,8))\n",
    "# barycentric coords: (a,b,c)\n",
    "a=tern_data[:,0]\n",
    "b=tern_data[:,1]\n",
    "c=tern_data[:,3] "
   ]
  },
  {
   "cell_type": "code",
   "execution_count": null,
   "metadata": {
    "collapsed": true
   },
   "outputs": [],
   "source": []
  }
 ],
 "metadata": {
  "kernelspec": {
   "display_name": "Python 2",
   "language": "python",
   "name": "python2"
  },
  "language_info": {
   "codemirror_mode": {
    "name": "ipython",
    "version": 2
   },
   "file_extension": ".py",
   "mimetype": "text/x-python",
   "name": "python",
   "nbconvert_exporter": "python",
   "pygments_lexer": "ipython2",
   "version": "2.7.12"
  }
 },
 "nbformat": 4,
 "nbformat_minor": 2
}
